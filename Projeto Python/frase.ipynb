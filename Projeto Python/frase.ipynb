{
 "cells": [
  {
   "cell_type": "code",
   "execution_count": 4,
   "metadata": {},
   "outputs": [
    {
     "name": "stdout",
     "output_type": "stream",
     "text": [
      "A LINGUAGEM PHYTON É MUITO FÁCIL DE APRENDER!\n"
     ]
    }
   ],
   "source": [
    "frase1 = 'A linguagem Phyton é muito fácil de aprender!'\n",
    "\n",
    "print(frase1.upper())"
   ]
  },
  {
   "cell_type": "code",
   "execution_count": 2,
   "metadata": {},
   "outputs": [
    {
     "name": "stdout",
     "output_type": "stream",
     "text": [
      "FRANCISCO JOSÉ DA ROCHA LOPES MSC\n"
     ]
    }
   ],
   "source": [
    "frase2 = 'Francisco José da Rocha Lopes MSC'\n",
    "print(frase2.upper())"
   ]
  },
  {
   "cell_type": "code",
   "execution_count": 1,
   "metadata": {},
   "outputs": [
    {
     "name": "stdout",
     "output_type": "stream",
     "text": [
      "REBECA BALTAZAR CHVES MSC\n"
     ]
    }
   ],
   "source": [
    "frase2 = 'Rebeca Baltazar Chaves MSC'\n",
    "print(frase2.upper())"
   ]
  },
  {
   "cell_type": "code",
   "execution_count": 1,
   "metadata": {},
   "outputs": [
    {
     "name": "stdout",
     "output_type": "stream",
     "text": [
      "FRANCISCO JOSÉ DA ROCHA LOPES MSC\n"
     ]
    }
   ],
   "source": [
    "frase2 = 'francisco josé da rocha lopes MSC'\n",
    "print(frase2.upper())"
   ]
  }
 ],
 "metadata": {
  "kernelspec": {
   "display_name": ".venv",
   "language": "python",
   "name": "python3"
  },
  "language_info": {
   "codemirror_mode": {
    "name": "ipython",
    "version": 3
   },
   "file_extension": ".py",
   "mimetype": "text/x-python",
   "name": "python",
   "nbconvert_exporter": "python",
   "pygments_lexer": "ipython3",
   "version": "3.11.4"
  },
  "orig_nbformat": 4
 },
 "nbformat": 4,
 "nbformat_minor": 2
}
