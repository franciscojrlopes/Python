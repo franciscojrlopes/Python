{
 "cells": [
  {
   "cell_type": "code",
   "execution_count": 1,
   "metadata": {},
   "outputs": [
    {
     "name": "stdout",
     "output_type": "stream",
     "text": [
      "O tipo primitivo desse valor é: <class 'str'>\n",
      "Só há espaços? False\n",
      "É um número? False\n",
      "É alfabético? True\n",
      "É alfanumérico? True\n",
      "Está em maiúsculas? False\n",
      "Está em minuscúlas? True\n",
      "Está capitalizada? False\n"
     ]
    }
   ],
   "source": [
    "a = input('Digite algo:')\n",
    "print('O tipo primitivo desse valor é:', type(a))\n",
    "print('Só há espaços?', a.isspace())\n",
    "#print('Quantas letras?', chars(a))\n",
    "print('É um número?', a.isnumeric())\n",
    "print('É alfabético?', a.isalpha())\n",
    "print('É alfanumérico?', a.isalnum())\n",
    "print('Está em maiúsculas?', a.isupper())\n",
    "print('Está em minuscúlas?', a.islower())\n",
    "print('Está capitalizada?', a.istitle())\n"
   ]
  }
 ],
 "metadata": {
  "kernelspec": {
   "display_name": ".venv",
   "language": "python",
   "name": "python3"
  },
  "language_info": {
   "codemirror_mode": {
    "name": "ipython",
    "version": 3
   },
   "file_extension": ".py",
   "mimetype": "text/x-python",
   "name": "python",
   "nbconvert_exporter": "python",
   "pygments_lexer": "ipython3",
   "version": "3.11.4"
  },
  "orig_nbformat": 4
 },
 "nbformat": 4,
 "nbformat_minor": 2
}
