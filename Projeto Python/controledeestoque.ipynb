{
 "cells": [
  {
   "cell_type": "code",
   "execution_count": 1,
   "metadata": {},
   "outputs": [],
   "source": [
    "produto = input('Qual a produto?')\n",
    "categoria = input('Qual categoria do produto?')\n",
    "quantidade = input('Qual quantidade atual do produto?')\n",
    "\n",
    "if produto and categoria and quantidade:\n",
    "    quantidade = int(quantidade)\n",
    "    if categoria == \"Bebidas\":\n",
    "        if quantidade < 75:\n",
    "            print('Solicitar {} a equipe de compras, temos apenas {} unidade em estoque'.format(poduto, quantidade))\n",
    "    elif categoria == 'Limpeza':\n",
    "        if quantidade < 30:\n",
    "            print('Solicitar {} a equipe de compras, temos apenas {} unidades em estoque'.format(produto, quantidade))\n",
    "    else:\n",
    "        \n",
    "        if quantidade < 50:\n",
    "            print('Solicitar {} a equipe de compras, temos apenas {} unidades em estoque'.format(produto, quantidade))\n",
    "                  \n",
    "else:\n",
    "    \n",
    "    print('Preencha todas informações')"
   ]
  }
 ],
 "metadata": {
  "kernelspec": {
   "display_name": ".venv",
   "language": "python",
   "name": "python3"
  },
  "language_info": {
   "codemirror_mode": {
    "name": "ipython",
    "version": 3
   },
   "file_extension": ".py",
   "mimetype": "text/x-python",
   "name": "python",
   "nbconvert_exporter": "python",
   "pygments_lexer": "ipython3",
   "version": "3.11.4"
  },
  "orig_nbformat": 4
 },
 "nbformat": 4,
 "nbformat_minor": 2
}
