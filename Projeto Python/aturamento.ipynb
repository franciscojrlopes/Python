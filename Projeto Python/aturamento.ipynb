{
 "cells": [
  {
   "cell_type": "code",
   "execution_count": 1,
   "metadata": {},
   "outputs": [
    {
     "name": "stdout",
     "output_type": "stream",
     "text": [
      "O lucro da loja foi de -100 reais\n"
     ]
    }
   ],
   "source": [
    "faturamento = input('Qual foi o faturamento da loja esse mês?')\n",
    "custo = input('Qual foi o custo da loja esse mês?')\n",
    "\n",
    "if faturamento == '' or custo == '':\n",
    "    \n",
    "    print('Preencha faturamento e o custo corretamente!!!!!')\n",
    "    \n",
    "else:\n",
    "\n",
    "    lucro = int(faturamento) - int(custo)\n",
    "\n",
    "    print('O lucro da loja foi de {} reais'.format(lucro))"
   ]
  },
  {
   "cell_type": "code",
   "execution_count": 1,
   "metadata": {},
   "outputs": [
    {
     "name": "stdout",
     "output_type": "stream",
     "text": [
      "O lucro da loja foi de 100 reais\n"
     ]
    }
   ],
   "source": [
    "faturamento = input('Qual foi o faturamento da loja esse mês?')\n",
    "custo = input('Qual foi o custo da loja esse mês?')\n",
    "\n",
    "if faturamento == '' or custo == '':\n",
    "    \n",
    "    print('Preencha faturamento e o custo corretamente!!!!!')\n",
    "    \n",
    "else:\n",
    "\n",
    "    lucro = int(faturamento) - int(custo)\n",
    "\n",
    "    print('O lucro da loja foi de {} reais'.format(lucro))"
   ]
  }
 ],
 "metadata": {
  "kernelspec": {
   "display_name": ".venv",
   "language": "python",
   "name": "python3"
  },
  "language_info": {
   "codemirror_mode": {
    "name": "ipython",
    "version": 3
   },
   "file_extension": ".py",
   "mimetype": "text/x-python",
   "name": "python",
   "nbconvert_exporter": "python",
   "pygments_lexer": "ipython3",
   "version": "3.11.4"
  },
  "orig_nbformat": 4
 },
 "nbformat": 4,
 "nbformat_minor": 2
}
