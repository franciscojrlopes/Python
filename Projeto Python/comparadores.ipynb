{
 "cells": [
  {
   "cell_type": "code",
   "execution_count": 1,
   "metadata": {},
   "outputs": [],
   "source": [
    "# == igual\n",
    "# != diferente\n",
    "# > maior que (>= maior ou igual)\n",
    "# < menor que (<= menor ou igual)\n",
    "# in texto exixte dentro de outro texto\n",
    "# not verifica contrário da comparação\n",
    "\n",
    "# Obs.: Se em alguma condição você não quiser fazer nada, você pode simplesmente escrever: pass \n",
    "\n"
   ]
  }
 ],
 "metadata": {
  "kernelspec": {
   "display_name": ".venv",
   "language": "python",
   "name": "python3"
  },
  "language_info": {
   "codemirror_mode": {
    "name": "ipython",
    "version": 3
   },
   "file_extension": ".py",
   "mimetype": "text/x-python",
   "name": "python",
   "nbconvert_exporter": "python",
   "pygments_lexer": "ipython3",
   "version": "3.11.4"
  },
  "orig_nbformat": 4
 },
 "nbformat": 4,
 "nbformat_minor": 2
}
