{
 "cells": [
  {
   "cell_type": "code",
   "execution_count": 1,
   "metadata": {},
   "outputs": [
    {
     "name": "stdout",
     "output_type": "stream",
     "text": [
      "A loja não ganha bônus\n"
     ]
    }
   ],
   "source": [
    "vendas = [ 100, 150, 1500, 2000, 120]\n",
    "meta = 110\n",
    "\n",
    "for venda in vendas:\n",
    "    if venda < meta:\n",
    "        print('A loja não ganha bônus')\n",
    "        break\n",
    "    print(venda)"
   ]
  },
  {
   "cell_type": "code",
   "execution_count": 2,
   "metadata": {},
   "outputs": [
    {
     "name": "stdout",
     "output_type": "stream",
     "text": [
      "150\n",
      "1500\n",
      "2000\n"
     ]
    }
   ],
   "source": [
    "vendas = [ 100, 150, 1500, 2000, 120]\n",
    "meta = 110\n",
    "\n",
    "vendedores = ['João', 'Julia', 'Ana', 'José', 'Maria']\n",
    "meta = 130\n",
    "\n",
    "for venda in vendas:\n",
    "    if venda < meta:\n",
    "        continue\n",
    "    print(venda)\n"
   ]
  },
  {
   "cell_type": "code",
   "execution_count": 1,
   "metadata": {},
   "outputs": [
    {
     "name": "stdout",
     "output_type": "stream",
     "text": [
      "Registro finalizado. As vendas cadastradas foram: \n"
     ]
    }
   ],
   "source": [
    "venda = input('Registre um produto. Para cancelr o registro de um novo produto, basta apertar enter com a caixa vazia.')\n",
    "vendas =[]\n",
    "\n",
    "vendas.append(venda)\n",
    "\n",
    "print('Registro finalizado. As vendas cadastradas foram: {}'.format(venda))\n",
    "\n"
   ]
  },
  {
   "cell_type": "code",
   "execution_count": 2,
   "metadata": {},
   "outputs": [
    {
     "name": "stdout",
     "output_type": "stream",
     "text": [
      "Registro finalizado. As vendas cadastradas foram: ['arroz', 'feijão', 'óleo']\n"
     ]
    }
   ],
   "source": [
    "venda = input('Registre um produto. Para cancelr o registro de um novo produto, basta apertar enter com a caixa vazia.')\n",
    "vendas =[]\n",
    "\n",
    "while venda != '':\n",
    "    vendas.append(venda)\n",
    "    venda = input('Registre um produto. Para cancelr o registro de um novo produto, basta apertar enter com a caixa vazia.')\n",
    "\n",
    "print('Registro finalizado. As vendas cadastradas foram: {}'.format(vendas))\n",
    "\n"
   ]
  }
 ],
 "metadata": {
  "kernelspec": {
   "display_name": ".venv",
   "language": "python",
   "name": "python3"
  },
  "language_info": {
   "codemirror_mode": {
    "name": "ipython",
    "version": 3
   },
   "file_extension": ".py",
   "mimetype": "text/x-python",
   "name": "python",
   "nbconvert_exporter": "python",
   "pygments_lexer": "ipython3",
   "version": "3.11.4"
  }
 },
 "nbformat": 4,
 "nbformat_minor": 2
}
