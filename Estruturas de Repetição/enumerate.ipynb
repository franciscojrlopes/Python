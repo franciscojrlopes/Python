{
 "cells": [
  {
   "cell_type": "code",
   "execution_count": 2,
   "metadata": {},
   "outputs": [
    {
     "name": "stdout",
     "output_type": "stream",
     "text": [
      "Maria\n",
      "José\n",
      "Antônio\n",
      "João\n",
      "Francisco\n",
      "Ana\n",
      "Luiz\n",
      "Paulo\n",
      "Carlos\n",
      "Manoel\n",
      "Pedro\n",
      "Francisca\n",
      "Marcos\n",
      "Raimundo\n",
      "Sebastião\n",
      "Antônia\n",
      "Marcelo\n",
      "Jorge\n",
      "Márcia\n",
      "Geraldo\n",
      "Adriana\n",
      "Sandra\n",
      "Luis\n"
     ]
    }
   ],
   "source": [
    "funcionários = ['Maria','José', 'Antônio', 'João', 'Francisco', 'Ana', 'Luiz', 'Paulo', 'Carlos', 'Manoel', 'Pedro', 'Francisca', 'Marcos', 'Raimundo', 'Sebastião', 'Antônia', 'Marcelo', 'Jorge', 'Márcia', 'Geraldo', 'Adriana', 'Sandra', 'Luis']\n",
    "for funcionário in funcionários:\n",
    "    print(funcionário)"
   ]
  },
  {
   "cell_type": "code",
   "execution_count": 2,
   "metadata": {},
   "outputs": [
    {
     "name": "stdout",
     "output_type": "stream",
     "text": [
      "0 é o funcionário Maria.\n",
      "1 é o funcionário José.\n",
      "2 é o funcionário Antônio.\n",
      "3 é o funcionário João.\n",
      "4 é o funcionário Francisco.\n",
      "5 é o funcionário Ana.\n",
      "6 é o funcionário Luiz.\n",
      "7 é o funcionário Paulo.\n",
      "8 é o funcionário Carlos.\n",
      "9 é o funcionário Manoel.\n",
      "10 é o funcionário Pedro.\n",
      "11 é o funcionário Francisca.\n",
      "12 é o funcionário Marcos.\n",
      "13 é o funcionário Raimundo.\n",
      "14 é o funcionário Sebastião.\n",
      "15 é o funcionário Antônia.\n",
      "16 é o funcionário Marcelo.\n",
      "17 é o funcionário Jorge.\n",
      "18 é o funcionário Márcia.\n",
      "19 é o funcionário Geraldo.\n",
      "20 é o funcionário Adriana.\n",
      "21 é o funcionário Sandra.\n",
      "22 é o funcionário Luis.\n"
     ]
    }
   ],
   "source": [
    "funcionários = ['Maria','José', 'Antônio', 'João', 'Francisco', 'Ana', 'Luiz', 'Paulo', 'Carlos', 'Manoel', 'Pedro', 'Francisca', 'Marcos', 'Raimundo', 'Sebastião', 'Antônia', 'Marcelo', 'Jorge', 'Márcia', 'Geraldo', 'Adriana', 'Sandra', 'Luis']\n",
    "for i, funcionários in enumerate(funcionários):\n",
    "    print('{} é o funcionário {}.' .format(i, funcionários)) "
   ]
  },
  {
   "cell_type": "code",
   "execution_count": 18,
   "metadata": {},
   "outputs": [
    {
     "name": "stdout",
     "output_type": "stream",
     "text": [
      "20\n",
      "23\n"
     ]
    }
   ],
   "source": [
    "estoque = [1200, 300, 800, 1500, 1900, 2750, 400, 20, 23, 70, 90, 80, 1100, 999, 900, 880, 870, 50, 1111, 120, 300, 450, 800]\n",
    "\n",
    "produtos = ['coca', 'pepsi', 'guarana', 'skol', 'brahma', 'agua', 'del valle', 'dolly', 'red bull', 'cachaça', 'vinho tinto', 'vodka', 'vinho branco', 'tequila', 'champagne', 'gin', 'guaracamp', 'matte', 'leite de castanha', 'leite', 'jurupinga', 'sprite', 'fanta']\n",
    "\n",
    "nível_mínimo = 50\n",
    "\n",
    "for qtde in estoque:\n",
    "    if qtde < nível_mínimo:\n",
    "        print(qtde)\n",
    "\n"
   ]
  }
 ],
 "metadata": {
  "kernelspec": {
   "display_name": ".venv",
   "language": "python",
   "name": "python3"
  },
  "language_info": {
   "codemirror_mode": {
    "name": "ipython",
    "version": 3
   },
   "file_extension": ".py",
   "mimetype": "text/x-python",
   "name": "python",
   "nbconvert_exporter": "python",
   "pygments_lexer": "ipython3",
   "version": "3.11.4"
  },
  "orig_nbformat": 4
 },
 "nbformat": 4,
 "nbformat_minor": 2
}
