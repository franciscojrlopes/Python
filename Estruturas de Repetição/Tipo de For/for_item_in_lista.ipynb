{
 "cells": [
  {
   "cell_type": "code",
   "execution_count": 2,
   "metadata": {},
   "outputs": [
    {
     "name": "stdout",
     "output_type": "stream",
     "text": [
      "7700.000000000001\n",
      "11000.0\n",
      "2750.0\n",
      "15400.000000000002\n"
     ]
    }
   ],
   "source": [
    "produtos = [\"iphone\", \"ipad\", \"airpod\", \"macbook\"]\n",
    "            \n",
    "precos = [7000, 10000, 2500, 14000]\n",
    "\n",
    "# preço com imposto - For in Lista mais direto dentro da lista\n",
    "for preco in precos:\n",
    "    print(preco * 1.1)\n"
   ]
  },
  {
   "cell_type": "code",
   "execution_count": 5,
   "metadata": {},
   "outputs": [
    {
     "name": "stdout",
     "output_type": "stream",
     "text": [
      "0\n",
      "1\n",
      "2\n",
      "3\n",
      "4\n",
      "5\n",
      "6\n",
      "7\n",
      "8\n",
      "9\n"
     ]
    }
   ],
   "source": [
    "produtos = [\"iphone\", \"ipad\", \"airpod\", \"macbook\"]\n",
    "            \n",
    "precos = [7000, 10000, 2500, 14000]\n",
    "\n",
    "# For i in range (alcance) preço de cada produto\n",
    "for i in range(10):\n",
    "    print(i)"
   ]
  },
  {
   "cell_type": "code",
   "execution_count": 7,
   "metadata": {},
   "outputs": [
    {
     "name": "stdout",
     "output_type": "stream",
     "text": [
      "0\n",
      "1\n",
      "2\n",
      "3\n"
     ]
    }
   ],
   "source": [
    "produtos = [\"iphone\", \"ipad\", \"airpod\", \"macbook\"]\n",
    "            \n",
    "precos = [7000, 10000, 2500, 14000]\n",
    "\n",
    "# For i in range (alcance) preço de cada produto\n",
    "for i in range(len(precos)):\n",
    "    print(i)"
   ]
  },
  {
   "cell_type": "code",
   "execution_count": 8,
   "metadata": {},
   "outputs": [
    {
     "name": "stdout",
     "output_type": "stream",
     "text": [
      "iphone 7000\n",
      "ipad 10000\n",
      "airpod 2500\n",
      "macbook 14000\n"
     ]
    }
   ],
   "source": [
    "produtos = [\"iphone\", \"ipad\", \"airpod\", \"macbook\"]\n",
    "            \n",
    "precos = [7000, 10000, 2500, 14000]\n",
    "\n",
    "# For i in range (alcance) preço de cada produto\n",
    "for i in range(len(precos)):\n",
    "   produto = produtos[i]\n",
    "   preco = precos[i]\n",
    "   print(produto, preco)\n",
    "   "
   ]
  },
  {
   "cell_type": "code",
   "execution_count": 12,
   "metadata": {},
   "outputs": [
    {
     "name": "stdout",
     "output_type": "stream",
     "text": [
      "7700.000000000001\n",
      "0\n",
      "11000.0\n",
      "1\n",
      "2750.0\n",
      "2\n",
      "15400.000000000002\n",
      "3\n"
     ]
    }
   ],
   "source": [
    "produtos = [\"iphone\", \"ipad\", \"airpod\", \"macbook\"]\n",
    "            \n",
    "precos = [7000, 10000, 2500, 14000]\n",
    "\n",
    "# For item in lista com enumerate, preço de cada produto com imposto\n",
    "for i, preco in enumerate(precos):\n",
    "    print(preco *1.1)\n",
    "    print(i)\n"
   ]
  },
  {
   "cell_type": "code",
   "execution_count": 14,
   "metadata": {},
   "outputs": [
    {
     "name": "stdout",
     "output_type": "stream",
     "text": [
      "iphone 7700.000000000001\n",
      "ipad 11000.0\n",
      "airpod 2750.0\n",
      "macbook 15400.000000000002\n"
     ]
    }
   ],
   "source": [
    "produtos = [\"iphone\", \"ipad\", \"airpod\", \"macbook\"]\n",
    "            \n",
    "precos = [7000, 10000, 2500, 14000]\n",
    "\n",
    "# For item in lista com enumerate, preço de cada produto com imposto\n",
    "for i, preco in enumerate(precos):\n",
    "    preco = preco *1.1\n",
    "    produto = produtos[i]\n",
    "    print(produto, preco)\n",
    "    \n"
   ]
  }
 ],
 "metadata": {
  "kernelspec": {
   "display_name": ".venv",
   "language": "python",
   "name": "python3"
  },
  "language_info": {
   "codemirror_mode": {
    "name": "ipython",
    "version": 3
   },
   "file_extension": ".py",
   "mimetype": "text/x-python",
   "name": "python",
   "nbconvert_exporter": "python",
   "pygments_lexer": "ipython3",
   "version": "3.11.4"
  },
  "orig_nbformat": 4
 },
 "nbformat": 4,
 "nbformat_minor": 2
}
