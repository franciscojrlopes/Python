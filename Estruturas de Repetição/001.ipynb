{
 "cells": [
  {
   "cell_type": "code",
   "execution_count": 5,
   "metadata": {},
   "outputs": [
    {
     "name": "stdout",
     "output_type": "stream",
     "text": [
      "Francisco\n",
      "Francisco\n",
      "Francisco\n",
      "Francisco\n",
      "Francisco\n"
     ]
    }
   ],
   "source": [
    "for i in range(5):\n",
    "    print('Francisco')\n"
   ]
  },
  {
   "cell_type": "code",
   "execution_count": 7,
   "metadata": {},
   "outputs": [
    {
     "name": "stdout",
     "output_type": "stream",
     "text": [
      "0\n",
      "1\n",
      "2\n",
      "3\n",
      "4\n",
      "5\n",
      "6\n",
      "7\n",
      "8\n",
      "9\n"
     ]
    }
   ],
   "source": [
    "for i in range(10):\n",
    "    print(i)\n",
    "\n",
    "    "
   ]
  },
  {
   "cell_type": "code",
   "execution_count": 13,
   "metadata": {},
   "outputs": [
    {
     "name": "stdout",
     "output_type": "stream",
     "text": [
      "15000 unidades produzidas de coca\n",
      "12000 unidades produzidas de pepsi\n",
      "13000 unidades produzidas de guarana\n",
      "5000 unidades produzidas de sprite\n",
      "250 unidades produzidas de fanta\n"
     ]
    }
   ],
   "source": [
    "produtos = ['coca', 'pepsi', 'guarana', 'sprite', 'fanta']\n",
    "produção = [15000, 12000, 13000, 5000, 250]\n",
    "\n",
    "tamanho = len(produtos)\n",
    "for i in range(tamanho):\n",
    "    print('{} unidades produzidas de {}'.format(produção[i], produtos [i]))"
   ]
  },
  {
   "cell_type": "code",
   "execution_count": null,
   "metadata": {},
   "outputs": [],
   "source": [
    "# for in range(5):\n",
    "    # print(i)\n",
    "# range(5) é na verdade uma lista tipo {0, 1 , 2, 3, 4} \n",
    "#  Usando para lista: for i in lista: print(i) \"Estrutura\""
   ]
  },
  {
   "cell_type": "code",
   "execution_count": 1,
   "metadata": {},
   "outputs": [
    {
     "name": "stdout",
     "output_type": "stream",
     "text": [
      "coca\n",
      "pepsi\n",
      "guaraná\n",
      "sprite\n",
      "fanta\n"
     ]
    }
   ],
   "source": [
    "produtos = ['coca', 'pepsi', 'guaraná', 'sprite', 'fanta']\n",
    "texto = 'fralopes@yahoo.com.br'\n",
    "\n",
    "for i in range(5):\n",
    "    print(produtos[i])"
   ]
  },
  {
   "cell_type": "code",
   "execution_count": 4,
   "metadata": {},
   "outputs": [
    {
     "name": "stdout",
     "output_type": "stream",
     "text": [
      "coca\n",
      "pepsi\n",
      "guaraná\n",
      "sprite\n",
      "fanta\n"
     ]
    }
   ],
   "source": [
    "produtos = ['coca', 'pepsi', 'guaraná', 'sprite', 'fanta']\n",
    "texto = 'fralopes@yahoo.com.br'\n",
    "\n",
    "for item in produtos:\n",
    "    print(item)\n"
   ]
  },
  {
   "cell_type": "code",
   "execution_count": 5,
   "metadata": {},
   "outputs": [
    {
     "name": "stdout",
     "output_type": "stream",
     "text": [
      "O produto é coca\n",
      "O produto é pepsi\n",
      "O produto é guaraná\n",
      "O produto é sprite\n",
      "O produto é fanta\n"
     ]
    }
   ],
   "source": [
    "produtos = ['coca', 'pepsi', 'guaraná', 'sprite', 'fanta']\n",
    "texto = 'fralopes@yahoo.com.br'\n",
    "\n",
    "for produto in produtos:\n",
    "    print('O produto é {}'.format(produto))"
   ]
  },
  {
   "cell_type": "code",
   "execution_count": 7,
   "metadata": {},
   "outputs": [
    {
     "name": "stdout",
     "output_type": "stream",
     "text": [
      "O produto é coca\n",
      "O produto é pepsi\n",
      "O produto é guaraná\n",
      "O produto é sprite\n",
      "O produto é fanta\n",
      "f\n",
      "r\n",
      "a\n",
      "l\n",
      "o\n",
      "p\n",
      "e\n",
      "s\n",
      "@\n",
      "y\n",
      "a\n",
      "h\n",
      "o\n",
      "o\n",
      ".\n",
      "c\n",
      "o\n",
      "m\n",
      ".\n",
      "b\n",
      "r\n"
     ]
    }
   ],
   "source": [
    "produtos = ['coca', 'pepsi', 'guaraná', 'sprite', 'fanta']\n",
    "texto = 'fralopes@yahoo.com.br'\n",
    "\n",
    "for produto in produtos:\n",
    "    print('O produto é {}'.format(produto))\n",
    "\n",
    "for ch in texto:\n",
    "    print(ch)\n",
    "# sem aspas..............."
   ]
  }
 ],
 "metadata": {
  "kernelspec": {
   "display_name": ".venv",
   "language": "python",
   "name": "python3"
  },
  "language_info": {
   "codemirror_mode": {
    "name": "ipython",
    "version": 3
   },
   "file_extension": ".py",
   "mimetype": "text/x-python",
   "name": "python",
   "nbconvert_exporter": "python",
   "pygments_lexer": "ipython3",
   "version": "3.11.4"
  },
  "orig_nbformat": 4
 },
 "nbformat": 4,
 "nbformat_minor": 2
}
