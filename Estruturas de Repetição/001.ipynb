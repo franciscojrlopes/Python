{
 "cells": [
  {
   "cell_type": "code",
   "execution_count": 5,
   "metadata": {},
   "outputs": [
    {
     "name": "stdout",
     "output_type": "stream",
     "text": [
      "Francisco\n",
      "Francisco\n",
      "Francisco\n",
      "Francisco\n",
      "Francisco\n"
     ]
    }
   ],
   "source": [
    "for i in range(5):\n",
    "    print('Francisco')\n"
   ]
  },
  {
   "cell_type": "code",
   "execution_count": 7,
   "metadata": {},
   "outputs": [
    {
     "name": "stdout",
     "output_type": "stream",
     "text": [
      "0\n",
      "1\n",
      "2\n",
      "3\n",
      "4\n",
      "5\n",
      "6\n",
      "7\n",
      "8\n",
      "9\n"
     ]
    }
   ],
   "source": [
    "for i in range(10):\n",
    "    print(i)\n",
    "\n",
    "    "
   ]
  },
  {
   "cell_type": "code",
   "execution_count": 13,
   "metadata": {},
   "outputs": [
    {
     "name": "stdout",
     "output_type": "stream",
     "text": [
      "15000 unidades produzidas de coca\n",
      "12000 unidades produzidas de pepsi\n",
      "13000 unidades produzidas de guarana\n",
      "5000 unidades produzidas de sprite\n",
      "250 unidades produzidas de fanta\n"
     ]
    }
   ],
   "source": [
    "produtos = ['coca', 'pepsi', 'guarana', 'sprite', 'fanta']\n",
    "produção = [15000, 12000, 13000, 5000, 250]\n",
    "\n",
    "tamanho = len(produtos)\n",
    "for i in range(tamanho):\n",
    "    print('{} unidades produzidas de {}'.format(produção[i], produtos [i]))"
   ]
  },
  {
   "cell_type": "code",
   "execution_count": null,
   "metadata": {},
   "outputs": [],
   "source": [
    "# for in range(5):\n",
    "    # print(i)\n",
    "# range(5) é na verdade uma lista tipo {0, 1 , 2, 3, 4} \n",
    "#  Usando para lista: for i in lista: print(i) \"Estrutura\""
   ]
  },
  {
   "cell_type": "code",
   "execution_count": 1,
   "metadata": {},
   "outputs": [
    {
     "name": "stdout",
     "output_type": "stream",
     "text": [
      "coca\n",
      "pepsi\n",
      "guaraná\n",
      "sprite\n",
      "fanta\n"
     ]
    }
   ],
   "source": [
    "produtos = ['coca', 'pepsi', 'guaraná', 'sprite', 'fanta']\n",
    "texto = 'fralopes@yahoo.com.br'\n",
    "\n",
    "for i in range(5):\n",
    "    print(produtos[i])"
   ]
  },
  {
   "cell_type": "code",
   "execution_count": 4,
   "metadata": {},
   "outputs": [
    {
     "name": "stdout",
     "output_type": "stream",
     "text": [
      "coca\n",
      "pepsi\n",
      "guaraná\n",
      "sprite\n",
      "fanta\n"
     ]
    }
   ],
   "source": [
    "produtos = ['coca', 'pepsi', 'guaraná', 'sprite', 'fanta']\n",
    "texto = 'fralopes@yahoo.com.br'\n",
    "\n",
    "for item in produtos:\n",
    "    print(item)\n"
   ]
  },
  {
   "cell_type": "code",
   "execution_count": 5,
   "metadata": {},
   "outputs": [
    {
     "name": "stdout",
     "output_type": "stream",
     "text": [
      "O produto é coca\n",
      "O produto é pepsi\n",
      "O produto é guaraná\n",
      "O produto é sprite\n",
      "O produto é fanta\n"
     ]
    }
   ],
   "source": [
    "produtos = ['coca', 'pepsi', 'guaraná', 'sprite', 'fanta']\n",
    "texto = 'fralopes@yahoo.com.br'\n",
    "\n",
    "for produto in produtos:\n",
    "    print('O produto é {}'.format(produto))"
   ]
  },
  {
   "cell_type": "code",
   "execution_count": 7,
   "metadata": {},
   "outputs": [
    {
     "name": "stdout",
     "output_type": "stream",
     "text": [
      "O produto é coca\n",
      "O produto é pepsi\n",
      "O produto é guaraná\n",
      "O produto é sprite\n",
      "O produto é fanta\n",
      "f\n",
      "r\n",
      "a\n",
      "l\n",
      "o\n",
      "p\n",
      "e\n",
      "s\n",
      "@\n",
      "y\n",
      "a\n",
      "h\n",
      "o\n",
      "o\n",
      ".\n",
      "c\n",
      "o\n",
      "m\n",
      ".\n",
      "b\n",
      "r\n"
     ]
    }
   ],
   "source": [
    "produtos = ['coca', 'pepsi', 'guaraná', 'sprite', 'fanta']\n",
    "texto = 'fralopes@yahoo.com.br'\n",
    "\n",
    "for produto in produtos:\n",
    "    print('O produto é {}'.format(produto))\n",
    "\n",
    "for ch in texto:\n",
    "    print(ch)\n",
    "# sem aspas..............."
   ]
  },
  {
   "cell_type": "code",
   "execution_count": 10,
   "metadata": {},
   "outputs": [
    {
     "name": "stdout",
     "output_type": "stream",
     "text": [
      "1200\n",
      "300\n",
      "800\n",
      "1500\n",
      "1900\n",
      "2750\n",
      "400\n",
      "20\n",
      "23\n",
      "7\n",
      "90\n",
      "80\n",
      "1100\n",
      "999\n",
      "900\n",
      "880\n",
      "870\n",
      "50\n",
      "1111\n",
      "120\n",
      "300\n",
      "450\n",
      "800\n"
     ]
    }
   ],
   "source": [
    "#  for + if\n",
    "# Estrutura:\n",
    "# for item in lista:\n",
    "# if condição:\n",
    "#    faça alguma coisa\n",
    "# else:\n",
    "#    outra coisa\n",
    "\n",
    "vendas = [1200, 300, 800, 1500, 1900, 2750, 400, 20, 23, 7, 90, 80, 1100, 999, 900, 880, 870, 50, 1111, 120, 300, 450, 800]  \n",
    "meta = 1000\n",
    "\n",
    "for venda in vendas:\n",
    "    print(venda)\n"
   ]
  },
  {
   "cell_type": "code",
   "execution_count": 11,
   "metadata": {},
   "outputs": [
    {
     "name": "stdout",
     "output_type": "stream",
     "text": [
      "1200\n",
      "1500\n",
      "1900\n",
      "2750\n",
      "1100\n",
      "1111\n"
     ]
    }
   ],
   "source": [
    "vendas = [1200, 300, 800, 1500, 1900, 2750, 400, 20, 23, 7, 90, 80, 1100, 999, 900, 880, 870, 50, 1111, 120, 300, 450, 800]  \n",
    "meta = 1000\n",
    "\n",
    "for venda in vendas:\n",
    "    if venda >= meta:\n",
    "        print(venda)\n"
   ]
  },
  {
   "cell_type": "code",
   "execution_count": 12,
   "metadata": {},
   "outputs": [
    {
     "name": "stdout",
     "output_type": "stream",
     "text": [
      "6\n"
     ]
    }
   ],
   "source": [
    "vendas = [1200, 300, 800, 1500, 1900, 2750, 400, 20, 23, 7, 90, 80, 1100, 999, 900, 880, 870, 50, 1111, 120, 300, 450, 800]  \n",
    "meta = 1000\n",
    "\n",
    "qtde_bateu_meta = 0\n",
    "for venda in vendas:\n",
    "    if venda >= meta:\n",
    "        qtde_bateu_meta +=1\n",
    "        \n",
    "print(qtde_bateu_meta)"
   ]
  },
  {
   "cell_type": "code",
   "execution_count": 15,
   "metadata": {},
   "outputs": [
    {
     "name": "stdout",
     "output_type": "stream",
     "text": [
      "O percentual de funcionários que bateram a meta 0.2608695652173913\n"
     ]
    }
   ],
   "source": [
    "vendas = [1200, 300, 800, 1500, 1900, 2750, 400, 20, 23, 7, 90, 80, 1100, 999, 900, 880, 870, 50, 1111, 120, 300, 450, 800]  \n",
    "meta = 1000\n",
    "\n",
    "qtde_bateu_meta = 0\n",
    "for venda in vendas:\n",
    "    if venda >= meta:\n",
    "        qtde_bateu_meta +=1\n",
    "\n",
    "qtde_funcionários = len(vendas)\n",
    "print('O percentual de funcionários que bateram a meta {}'.format(qtde_bateu_meta / qtde_funcionários))"
   ]
  },
  {
   "cell_type": "code",
   "execution_count": 16,
   "metadata": {},
   "outputs": [
    {
     "name": "stdout",
     "output_type": "stream",
     "text": [
      "O percentual de funcionários que bateram a meta 26.1%\n"
     ]
    }
   ],
   "source": [
    "vendas = [1200, 300, 800, 1500, 1900, 2750, 400, 20, 23, 7, 90, 80, 1100, 999, 900, 880, 870, 50, 1111, 120, 300, 450, 800]  \n",
    "meta = 1000\n",
    "\n",
    "qtde_bateu_meta = 0\n",
    "for venda in vendas:\n",
    "    if venda >= meta:\n",
    "        qtde_bateu_meta +=1\n",
    "\n",
    "qtde_funcionários = len(vendas)\n",
    "print('O percentual de funcionários que bateram a meta {:.1%}'.format(qtde_bateu_meta / qtde_funcionários))"
   ]
  }
 ],
 "metadata": {
  "kernelspec": {
   "display_name": ".venv",
   "language": "python",
   "name": "python3"
  },
  "language_info": {
   "codemirror_mode": {
    "name": "ipython",
    "version": 3
   },
   "file_extension": ".py",
   "mimetype": "text/x-python",
   "name": "python",
   "nbconvert_exporter": "python",
   "pygments_lexer": "ipython3",
   "version": "3.11.4"
  },
  "orig_nbformat": 4
 },
 "nbformat": 4,
 "nbformat_minor": 2
}
