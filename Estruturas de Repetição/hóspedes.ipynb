{
 "cells": [
  {
   "cell_type": "code",
   "execution_count": 16,
   "metadata": {},
   "outputs": [
    {
     "name": "stdout",
     "output_type": "stream",
     "text": [
      "[['Maria ', 'CPF: 11111111111']]\n"
     ]
    }
   ],
   "source": [
    "# Criando um sistema de registro de hóspedes.\n",
    "\n",
    "quarto = [\n",
    "    ['João', 'cpf:00000000000'],\n",
    "    ['Julia', 'cpf:11111111111'],\n",
    "    ['Marcus', 'cof:22222222222'],\n",
    "    ['Maria', 'cpf:33333333333'],\n",
    "     \n",
    "]\n",
    "qtde_pessoas = int(input(\"Quantas pessoas terão no quarto?\"))\n",
    "quarto = []\n",
    "\n",
    "for i in range(qtde_pessoas):\n",
    "    nome = input('Qual nome?')\n",
    "    CPF = input('Qual o cpf?')\n",
    "    hospede = [nome, 'CPF: {}'.format(CPF)] \n",
    "quarto.append(hospede)\n",
    "print(quarto)\n",
    "\n"
   ]
  },
  {
   "cell_type": "code",
   "execution_count": 21,
   "metadata": {},
   "outputs": [
    {
     "name": "stdout",
     "output_type": "stream",
     "text": [
      "[['João', 'CPF:11111111111'], ['Maria', 'CPF:33333333333']]\n"
     ]
    }
   ],
   "source": [
    "qtde_pessoas = int(input(\"Quantas pessoas terão no quarto?\"))\n",
    "quarto = []\n",
    "\n",
    "for i in range(qtde_pessoas):\n",
    "    nome = input('Qual nome?')\n",
    "    cpf = input('Qual o cpf?')\n",
    "    hospede = [nome, 'CPF:{}'.format(cpf)] \n",
    "    quarto.append(hospede)\n",
    "\n",
    "print(quarto)\n",
    "\n",
    "\n",
    "\n"
   ]
  },
  {
   "cell_type": "code",
   "execution_count": 22,
   "metadata": {},
   "outputs": [
    {
     "name": "stdout",
     "output_type": "stream",
     "text": [
      "['João', 15000]\n",
      "['Julia', 27000]\n",
      "['Marcus', 9900]\n",
      "['Maria', 3750]\n",
      "['Ana', 10300]\n",
      "['Alon', 7870]\n"
     ]
    }
   ],
   "source": [
    "meta = 10000\n",
    "vendas = [ \n",
    "        ['João', 15000],\n",
    "        ['Julia', 27000],\n",
    "        ['Marcus', 9900],\n",
    "        ['Maria', 3750],\n",
    "        ['Ana', 10300],\n",
    "        ['Alon', 7870],]\n",
    "\n",
    "for item in vendas:\n",
    "    print(item)\n"
   ]
  },
  {
   "cell_type": "code",
   "execution_count": 24,
   "metadata": {},
   "outputs": [
    {
     "name": "stdout",
     "output_type": "stream",
     "text": [
      "Vendedor João bateu a meta. Fez 15000 vendas.\n",
      "Vendedor Julia bateu a meta. Fez 27000 vendas.\n",
      "Vendedor Ana bateu a meta. Fez 10300 vendas.\n"
     ]
    }
   ],
   "source": [
    "meta = 10000\n",
    "vendas = [ \n",
    "        ['João', 15000],\n",
    "        ['Julia', 27000],\n",
    "        ['Marcus', 9900],\n",
    "        ['Maria', 3750],\n",
    "        ['Ana', 10300],\n",
    "        ['Alon', 7870],]\n",
    "\n",
    "for item in vendas:\n",
    "    if item[1] >= meta:\n",
    "        print('Vendedor {} bateu a meta. Fez {} vendas.'.format(item[0], item[1]))\n"
   ]
  },
  {
   "cell_type": "code",
   "execution_count": 1,
   "metadata": {},
   "outputs": [
    {
     "name": "stdout",
     "output_type": "stream",
     "text": [
      "iphone vendeu R$558,147 em 2019, R$951,642 em 2020 teve 70.5% de crescimento.\n",
      "tv vendeu R$405,252 em 2019, R$787,604 em 2020 teve 94.3% de crescimento.\n",
      "máquina de café vendeu R$718,654 em 2019, R$867,660 em 2020 teve 20.7% de crescimento.\n",
      "notebook dell vendeu R$422,760 em 2019, R$694,913 em 2020 teve 64.4% de crescimento.\n",
      "notebook hp vendeu R$154,753 em 2019, R$539,704 em 2020 teve 248.8% de crescimento.\n",
      "microsoft surface vendeu R$438,508 em 2019, R$667,179 em 2020 teve 52.1% de crescimento.\n",
      "webcam vendeu R$237,467 em 2019, R$295,633 em 2020 teve 24.5% de crescimento.\n",
      "caixa de som vendeu R$489,705 em 2019, R$725,316 em 2020 teve 48.1% de crescimento.\n",
      "microfone vendeu R$328,311 em 2019, R$644,622 em 2020 teve 96.3% de crescimento.\n",
      "câmera canon vendeu R$591,120 em 2019, R$994,303 em 2020 teve 68.2% de crescimento.\n"
     ]
    }
   ],
   "source": [
    "produtos = ['iphone', 'galaxy', 'ipad', 'tv', 'máquina de café', 'kindle', 'geladeira', 'adega', 'notebook dell', 'notebook hp', 'notebook asus', 'microsoft surface', 'webcam', 'caixa de som', 'microfone', 'câmera canon']\n",
    "vendas2019 = [558147,712350,573823,405252,718654,531580,973139,892292,422760,154753,887061,438508,237467,489705,328311,591120]\n",
    "vendas2020 = [951642,244295,26964,787604,867660,78830,710331,646016,694913,539704,324831,667179,295633,725316,644622,994303]\n",
    "for i, produto in enumerate(produtos):\n",
    "    if vendas2020[i] > vendas2019[i]:\n",
    "        crescimento = vendas2020[i] / vendas2019[i] - 1\n",
    "        print('{} vendeu R${:,} em 2019, R${:,} em 2020 teve {:.1%} de crescimento.'.format(produto, vendas2019[i], vendas2020[i], crescimento ))\n",
    "\n",
    "\n"
   ]
  }
 ],
 "metadata": {
  "kernelspec": {
   "display_name": ".venv",
   "language": "python",
   "name": "python3"
  },
  "language_info": {
   "codemirror_mode": {
    "name": "ipython",
    "version": 3
   },
   "file_extension": ".py",
   "mimetype": "text/x-python",
   "name": "python",
   "nbconvert_exporter": "python",
   "pygments_lexer": "ipython3",
   "version": "3.11.4"
  },
  "orig_nbformat": 4
 },
 "nbformat": 4,
 "nbformat_minor": 2
}
