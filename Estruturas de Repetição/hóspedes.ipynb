{
 "cells": [
  {
   "cell_type": "code",
   "execution_count": 16,
   "metadata": {},
   "outputs": [
    {
     "name": "stdout",
     "output_type": "stream",
     "text": [
      "[['Maria ', 'CPF: 11111111111']]\n"
     ]
    }
   ],
   "source": [
    "# Criando um sistema de registro de hóspedes.\n",
    "\n",
    "quarto = [\n",
    "    ['João', 'cpf:00000000000'],\n",
    "    ['Julia', 'cpf:11111111111'],\n",
    "    ['Marcus', 'cof:22222222222'],\n",
    "    ['Maria', 'cpf:33333333333'],\n",
    "     \n",
    "]\n",
    "qtde_pessoas = int(input(\"Quantas pessoas terão no quarto?\"))\n",
    "quarto = []\n",
    "\n",
    "for i in range(qtde_pessoas):\n",
    "    nome = input('Qual nome?')\n",
    "    CPF = input('Qual o cpf?')\n",
    "    hospede = [nome, 'CPF: {}'.format(CPF)] \n",
    "quarto.append(hospede)\n",
    "print(quarto)\n",
    "\n"
   ]
  },
  {
   "cell_type": "code",
   "execution_count": 21,
   "metadata": {},
   "outputs": [
    {
     "name": "stdout",
     "output_type": "stream",
     "text": [
      "[['João', 'CPF:11111111111'], ['Maria', 'CPF:33333333333']]\n"
     ]
    }
   ],
   "source": [
    "qtde_pessoas = int(input(\"Quantas pessoas terão no quarto?\"))\n",
    "quarto = []\n",
    "\n",
    "for i in range(qtde_pessoas):\n",
    "    nome = input('Qual nome?')\n",
    "    cpf = input('Qual o cpf?')\n",
    "    hospede = [nome, 'CPF:{}'.format(cpf)] \n",
    "    quarto.append(hospede)\n",
    "\n",
    "print(quarto)\n",
    "\n",
    "\n",
    "\n"
   ]
  },
  {
   "cell_type": "code",
   "execution_count": null,
   "metadata": {},
   "outputs": [],
   "source": [
    "vendas = [ \n",
    "        ['João', 15000],\n",
    "        ['Julia', 27000],\n",
    "        ['Marcus', 9900],\n",
    "        ['Maria', 3750],\n",
    "        ['Ana', 10300],\n",
    "        ['Alon', 7870],]\n",
    "\n",
    "\n"
   ]
  }
 ],
 "metadata": {
  "kernelspec": {
   "display_name": ".venv",
   "language": "python",
   "name": "python3"
  },
  "language_info": {
   "codemirror_mode": {
    "name": "ipython",
    "version": 3
   },
   "file_extension": ".py",
   "mimetype": "text/x-python",
   "name": "python",
   "nbconvert_exporter": "python",
   "pygments_lexer": "ipython3",
   "version": "3.11.4"
  },
  "orig_nbformat": 4
 },
 "nbformat": 4,
 "nbformat_minor": 2
}
