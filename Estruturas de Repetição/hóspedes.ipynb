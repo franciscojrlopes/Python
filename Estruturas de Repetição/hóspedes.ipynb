{
 "cells": [
  {
   "cell_type": "code",
   "execution_count": 12,
   "metadata": {},
   "outputs": [
    {
     "name": "stdout",
     "output_type": "stream",
     "text": [
      "[['João', 'CPF: 00000000000']]\n"
     ]
    }
   ],
   "source": [
    "# Criando um sistema de registro de hóspedes.\n",
    "\n",
    "quarto = [\n",
    "    ['João', 'cpf:00000000000'],\n",
    "    ['Julia', 'cpf:11111111111'],\n",
    "    ['Marcus', 'cof:22222222222'],\n",
    "    ['Maria', 'cpf:33333333333'],\n",
    "     \n",
    "]\n",
    "qtde_pessoas = int(input(\"Quantas pessoas terão no quarto?\"))\n",
    "quarto = []\n",
    "\n",
    "for i in range(qtde_pessoas):\n",
    "    nome = input('Qual nome?')\n",
    "    CPF = input('Qual o cpf?')\n",
    "    Hóspede = [nome, 'CPF: {}'.format(CPF)] \n",
    "quarto.append(Hóspede)\n",
    "print(quarto)\n",
    "\n"
   ]
  },
  {
   "cell_type": "code",
   "execution_count": 7,
   "metadata": {},
   "outputs": [],
   "source": [
    "qtde_pessoas = int(input(\"Quantas pessoas terão no quarto?\"))"
   ]
  }
 ],
 "metadata": {
  "kernelspec": {
   "display_name": ".venv",
   "language": "python",
   "name": "python3"
  },
  "language_info": {
   "codemirror_mode": {
    "name": "ipython",
    "version": 3
   },
   "file_extension": ".py",
   "mimetype": "text/x-python",
   "name": "python",
   "nbconvert_exporter": "python",
   "pygments_lexer": "ipython3",
   "version": "3.11.4"
  },
  "orig_nbformat": 4
 },
 "nbformat": 4,
 "nbformat_minor": 2
}
