{
 "cells": [
  {
   "cell_type": "code",
   "execution_count": 16,
   "metadata": {},
   "outputs": [
    {
     "name": "stdout",
     "output_type": "stream",
     "text": [
      "[['Maria ', 'CPF: 11111111111']]\n"
     ]
    }
   ],
   "source": [
    "# Criando um sistema de registro de hóspedes.\n",
    "\n",
    "quarto = [\n",
    "    ['João', 'cpf:00000000000'],\n",
    "    ['Julia', 'cpf:11111111111'],\n",
    "    ['Marcus', 'cof:22222222222'],\n",
    "    ['Maria', 'cpf:33333333333'],\n",
    "     \n",
    "]\n",
    "qtde_pessoas = int(input(\"Quantas pessoas terão no quarto?\"))\n",
    "quarto = []\n",
    "\n",
    "for i in range(qtde_pessoas):\n",
    "    nome = input('Qual nome?')\n",
    "    CPF = input('Qual o cpf?')\n",
    "    hospede = [nome, 'CPF: {}'.format(CPF)] \n",
    "quarto.append(hospede)\n",
    "print(quarto)\n",
    "\n"
   ]
  },
  {
   "cell_type": "code",
   "execution_count": 21,
   "metadata": {},
   "outputs": [
    {
     "name": "stdout",
     "output_type": "stream",
     "text": [
      "[['João', 'CPF:11111111111'], ['Maria', 'CPF:33333333333']]\n"
     ]
    }
   ],
   "source": [
    "qtde_pessoas = int(input(\"Quantas pessoas terão no quarto?\"))\n",
    "quarto = []\n",
    "\n",
    "for i in range(qtde_pessoas):\n",
    "    nome = input('Qual nome?')\n",
    "    cpf = input('Qual o cpf?')\n",
    "    hospede = [nome, 'CPF:{}'.format(cpf)] \n",
    "    quarto.append(hospede)\n",
    "\n",
    "print(quarto)\n",
    "\n",
    "\n",
    "\n"
   ]
  },
  {
   "cell_type": "code",
   "execution_count": 22,
   "metadata": {},
   "outputs": [
    {
     "name": "stdout",
     "output_type": "stream",
     "text": [
      "['João', 15000]\n",
      "['Julia', 27000]\n",
      "['Marcus', 9900]\n",
      "['Maria', 3750]\n",
      "['Ana', 10300]\n",
      "['Alon', 7870]\n"
     ]
    }
   ],
   "source": [
    "meta = 10000\n",
    "vendas = [ \n",
    "        ['João', 15000],\n",
    "        ['Julia', 27000],\n",
    "        ['Marcus', 9900],\n",
    "        ['Maria', 3750],\n",
    "        ['Ana', 10300],\n",
    "        ['Alon', 7870],]\n",
    "\n",
    "for item in vendas:\n",
    "    print(item)\n"
   ]
  },
  {
   "cell_type": "code",
   "execution_count": 24,
   "metadata": {},
   "outputs": [
    {
     "name": "stdout",
     "output_type": "stream",
     "text": [
      "Vendedor João bateu a meta. Fez 15000 vendas.\n",
      "Vendedor Julia bateu a meta. Fez 27000 vendas.\n",
      "Vendedor Ana bateu a meta. Fez 10300 vendas.\n"
     ]
    }
   ],
   "source": [
    "meta = 10000\n",
    "vendas = [ \n",
    "        ['João', 15000],\n",
    "        ['Julia', 27000],\n",
    "        ['Marcus', 9900],\n",
    "        ['Maria', 3750],\n",
    "        ['Ana', 10300],\n",
    "        ['Alon', 7870],]\n",
    "\n",
    "for item in vendas:\n",
    "    if item[1] >= meta:\n",
    "        print('Vendedor {} bateu a meta. Fez {} vendas.'.format(item[0], item[1]))\n"
   ]
  },
  {
   "cell_type": "code",
   "execution_count": 25,
   "metadata": {},
   "outputs": [],
   "source": [
    "produtos = ['iphone', 'galaxy', 'ipad', 'tv', 'máquina de café', 'kindle', 'geladeira', 'adega', 'notebook dell', 'notebook hp', 'notebook asus', 'microsoft surface', 'webcam', 'caixa de som', 'microfone', 'câmera canon']\n",
    "vendas2019 = [558147,712350,573823,405252,718654,531580,973139,892292,422760,154753,887061,438508,237467,489705,328311,591120]\n",
    "vendas2020 = [951642,244295,26964,787604,867660,78830,710331,646016,694913,539704,324831,667179,295633,725316,644622,994303]\n",
    "\n"
   ]
  }
 ],
 "metadata": {
  "kernelspec": {
   "display_name": ".venv",
   "language": "python",
   "name": "python3"
  },
  "language_info": {
   "codemirror_mode": {
    "name": "ipython",
    "version": 3
   },
   "file_extension": ".py",
   "mimetype": "text/x-python",
   "name": "python",
   "nbconvert_exporter": "python",
   "pygments_lexer": "ipython3",
   "version": "3.11.4"
  },
  "orig_nbformat": 4
 },
 "nbformat": 4,
 "nbformat_minor": 2
}
