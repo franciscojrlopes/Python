{
 "cells": [
  {
   "cell_type": "code",
   "execution_count": 5,
   "metadata": {},
   "outputs": [
    {
     "name": "stdout",
     "output_type": "stream",
     "text": [
      "João bateu a meta vendeu 15000 unidades.\n",
      "Julia bateu a meta vendeu 27000 unidades.\n",
      "Ana bateu a meta vendeu 10300 unidades.\n"
     ]
    }
   ],
   "source": [
    "meta = 10000\n",
    "vendas = [\n",
    "        ('João', 15000),\n",
    "        ('Julia', 27000),\n",
    "        ('Marcus', 9900),\n",
    "        ('Maria', 3750),\n",
    "        ('Ana', 10300),\n",
    "        ('Alon', 7870),\n",
    "    ]\n",
    "for vendedor, qtde in vendas:\n",
    "    if qtde>= meta:\n",
    "        print('{} bateu a meta vendeu {} unidades.'.format(vendedor, qtde))"
   ]
  }
 ],
 "metadata": {
  "kernelspec": {
   "display_name": ".venv",
   "language": "python",
   "name": "python3"
  },
  "language_info": {
   "codemirror_mode": {
    "name": "ipython",
    "version": 3
   },
   "file_extension": ".py",
   "mimetype": "text/x-python",
   "name": "python",
   "nbconvert_exporter": "python",
   "pygments_lexer": "ipython3",
   "version": "3.11.4"
  }
 },
 "nbformat": 4,
 "nbformat_minor": 2
}
