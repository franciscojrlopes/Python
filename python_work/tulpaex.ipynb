{
 "cells": [
  {
   "cell_type": "markdown",
   "metadata": {},
   "source": [
    " Análise de Vendas\n",
    " \n",
    "    Nesse exercício vamos fazer uma análise simples de atingimento de Meta.\n",
    "\n",
    "    Temos uma lista com os vendedores e os valores de vendas e queremos identificar (printar) quais os vendedores que bateram a meta e qual foi o valor que eles venderam.\"\n",
    "   "
   ]
  },
  {
   "cell_type": "code",
   "execution_count": 6,
   "metadata": {},
   "outputs": [
    {
     "name": "stdout",
     "output_type": "stream",
     "text": [
      "João bateu a meta vendeu 15000 unidades.\n",
      "Julia bateu a meta vendeu 27000 unidades.\n",
      "Ana bateu a meta vendeu 10300 unidades.\n"
     ]
    }
   ],
   "source": [
    "meta = 10000\n",
    "vendas = [\n",
    "        ('João', 15000),\n",
    "        ('Julia', 27000),\n",
    "        ('Marcus', 9900),\n",
    "        ('Maria', 3750),\n",
    "        ('Ana', 10300),\n",
    "        ('Alon', 7870),\n",
    "    ]\n",
    "for vendedor, qtde in vendas:\n",
    "    if qtde>= meta:\n",
    "        print('{} bateu a meta vendeu {} unidades.'.format(vendedor, qtde))"
   ]
  },
  {
   "cell_type": "code",
   "execution_count": null,
   "metadata": {},
   "outputs": [],
   "source": []
  }
 ],
 "metadata": {
  "kernelspec": {
   "display_name": ".venv",
   "language": "python",
   "name": "python3"
  },
  "language_info": {
   "codemirror_mode": {
    "name": "ipython",
    "version": 3
   },
   "file_extension": ".py",
   "mimetype": "text/x-python",
   "name": "python",
   "nbconvert_exporter": "python",
   "pygments_lexer": "ipython3",
   "version": "3.11.4"
  }
 },
 "nbformat": 4,
 "nbformat_minor": 2
}
