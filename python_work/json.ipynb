{
 "cells": [
  {
   "cell_type": "code",
   "execution_count": 1,
   "metadata": {},
   "outputs": [
    {
     "name": "stdout",
     "output_type": "stream",
     "text": [
      "{'budget': None,\n",
      " 'characters': ['Frodo', 'Sam', 'Gandalf', 'Legolas', 'Boromir'],\n",
      " 'imdb_rating': 8.8,\n",
      " 'is_movie': True,\n",
      " 'original_title': 'The Lord of the Rings: The Fellowship of the Ring',\n",
      " 'title': 'O Senhor dos Anéis: A Sociedade do Anel',\n",
      " 'year': 2001}\n"
     ]
    }
   ],
   "source": [
    "import json\n",
    "import pprint\n",
    "string_json = '''\n",
    "\n",
    "{\n",
    "  \"title\": \"O Senhor dos Anéis: A Sociedade do Anel\",\n",
    "  \"original_title\": \"The Lord of the Rings: The Fellowship of the Ring\",\n",
    "  \"is_movie\": true,\n",
    "  \"imdb_rating\": 8.8,\n",
    "  \"year\": 2001,\n",
    "  \"characters\": [\"Frodo\", \"Sam\", \"Gandalf\", \"Legolas\", \"Boromir\"],\n",
    "  \"budget\": null\n",
    "}\n",
    "'''\n",
    "#print(string_json)\n",
    "\n",
    "filme = json.loads(string_json)\n",
    "pprint.pprint(filme)\n",
    "\n"
   ]
  },
  {
   "cell_type": "code",
   "execution_count": 4,
   "metadata": {},
   "outputs": [
    {
     "name": "stdout",
     "output_type": "stream",
     "text": [
      "\n",
      "{\n",
      "  \"title\": \"O Senhor dos Anéis: A Sociedade do Anel\",\n",
      "  \"original_title\": \"The Lord of the Rings: The Fellowship of the Ring\",\n",
      "  \"is_movie\": true,\n",
      "  \"imdb_rating\": 8.8,\n",
      "  \"year\": 2001,\n",
      "  \"characters\": [\"Frodo\", \"Sam\", \"Gandalf\", \"Legolas\", \"Boromir\"],\n",
      "  \"budget\": null\n",
      "}\n",
      "\n"
     ]
    }
   ],
   "source": [
    "string_json = '''\n",
    "{\n",
    "  \"title\": \"O Senhor dos Anéis: A Sociedade do Anel\",\n",
    "  \"original_title\": \"The Lord of the Rings: The Fellowship of the Ring\",\n",
    "  \"is_movie\": true,\n",
    "  \"imdb_rating\": 8.8,\n",
    "  \"year\": 2001,\n",
    "  \"characters\": [\"Frodo\", \"Sam\", \"Gandalf\", \"Legolas\", \"Boromir\"],\n",
    "  \"budget\": null\n",
    "}\n",
    "'''\n",
    "filme = json.loads(string_json)\n",
    "print(string_json)"
   ]
  },
  {
   "cell_type": "code",
   "execution_count": 1,
   "metadata": {},
   "outputs": [
    {
     "name": "stdout",
     "output_type": "stream",
     "text": [
      "23\n",
      "10\n"
     ]
    }
   ],
   "source": [
    "import json\n",
    " \n",
    "j = json.loads('{\"nome\": \"Fulano\", \"idade\": \"23\"}')\n",
    " \n",
    "print(j['idade'])\n",
    " \n",
    "j['idade'] = 10\n",
    "print(j['idade'])"
   ]
  },
  {
   "cell_type": "code",
   "execution_count": 3,
   "metadata": {},
   "outputs": [
    {
     "name": "stdout",
     "output_type": "stream",
     "text": [
      "{'Nome': 'Fulano', 'Idade': '12'}\n"
     ]
    }
   ],
   "source": [
    "import json\n",
    "\n",
    "j = json.loads('{\"Nome\": \"Fulano\", \"Idade\": \"23\"}')\n",
    "j['Idade'] = '12'\n",
    "print(j)"
   ]
  },
  {
   "cell_type": "markdown",
   "metadata": {},
   "source": []
  }
 ],
 "metadata": {
  "kernelspec": {
   "display_name": ".venv",
   "language": "python",
   "name": "python3"
  },
  "language_info": {
   "codemirror_mode": {
    "name": "ipython",
    "version": 3
   },
   "file_extension": ".py",
   "mimetype": "text/x-python",
   "name": "python",
   "nbconvert_exporter": "python",
   "pygments_lexer": "ipython3",
   "version": "3.11.4"
  }
 },
 "nbformat": 4,
 "nbformat_minor": 2
}
