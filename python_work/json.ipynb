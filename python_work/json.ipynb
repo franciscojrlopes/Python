{
 "cells": [
  {
   "cell_type": "code",
   "execution_count": 9,
   "metadata": {},
   "outputs": [],
   "source": [
    "import json\n",
    "\n",
    "string_json = '''\n",
    "\n",
    "{\n",
    "  \"title\": \"O Senhor dos Anéis: A Sociedade do Anel\",\n",
    "  \"original_title\": \"The Lord of the Rings: The Fellowship of the Ring\",\n",
    "  \"is_movie\": true,\n",
    "  \"imdb_rating\": 8.8,\n",
    "  \"year\": 2001,\n",
    "  \"characters\": [\"Frodo\", \"Sam\", \"Gandalf\", \"Legolas\", \"Boromir\"],\n",
    "  \"budget\": null\n",
    "}\n",
    "'''\n",
    "#print(string_json)\n",
    "\n",
    "filme = json.loads(string_json)\n",
    "\n"
   ]
  },
  {
   "cell_type": "code",
   "execution_count": 8,
   "metadata": {},
   "outputs": [],
   "source": [
    "string_json = '''\n",
    "{\n",
    "  \"title\": \"O Senhor dos Anéis: A Sociedade do Anel\",\n",
    "  \"original_title\": \"The Lord of the Rings: The Fellowship of the Ring\",\n",
    "  \"is_movie\": true,\n",
    "  \"imdb_rating\": 8.8,\n",
    "  \"year\": 2001,\n",
    "  \"characters\": [\"Frodo\", \"Sam\", \"Gandalf\", \"Legolas\", \"Boromir\"],\n",
    "  \"budget\": null\n",
    "}\n",
    "'''\n",
    "filme = json.loads(string_json)"
   ]
  },
  {
   "cell_type": "code",
   "execution_count": null,
   "metadata": {},
   "outputs": [],
   "source": []
  }
 ],
 "metadata": {
  "kernelspec": {
   "display_name": ".venv",
   "language": "python",
   "name": "python3"
  },
  "language_info": {
   "codemirror_mode": {
    "name": "ipython",
    "version": 3
   },
   "file_extension": ".py",
   "mimetype": "text/x-python",
   "name": "python",
   "nbconvert_exporter": "python",
   "pygments_lexer": "ipython3",
   "version": "3.11.4"
  }
 },
 "nbformat": 4,
 "nbformat_minor": 2
}
