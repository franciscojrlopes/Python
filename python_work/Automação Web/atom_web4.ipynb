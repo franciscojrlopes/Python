{
 "cells": [
  {
   "cell_type": "code",
   "execution_count": 3,
   "metadata": {},
   "outputs": [
    {
     "name": "stdout",
     "output_type": "stream",
     "text": [
      "Collecting selenium\n",
      "  Downloading selenium-4.34.2-py3-none-any.whl (9.4 MB)\n",
      "                                              0.0/9.4 MB ? eta -:--:--\n",
      "                                              0.1/9.4 MB 2.0 MB/s eta 0:00:05\n",
      "                                              0.2/9.4 MB 3.1 MB/s eta 0:00:04\n",
      "     -                                        0.3/9.4 MB 2.3 MB/s eta 0:00:05\n",
      "     -                                        0.3/9.4 MB 2.0 MB/s eta 0:00:05\n",
      "     -                                        0.4/9.4 MB 1.6 MB/s eta 0:00:06\n",
      "     -                                        0.5/9.4 MB 1.8 MB/s eta 0:00:06\n",
      "     --                                       0.6/9.4 MB 1.8 MB/s eta 0:00:05\n",
      "     --                                       0.6/9.4 MB 1.8 MB/s eta 0:00:06\n",
      "     --                                       0.7/9.4 MB 1.7 MB/s eta 0:00:06\n",
      "     ---                                      0.7/9.4 MB 1.6 MB/s eta 0:00:06\n",
      "     ---                                      0.8/9.4 MB 1.6 MB/s eta 0:00:06\n",
      "     ----                                     1.0/9.4 MB 1.8 MB/s eta 0:00:05\n",
      "     -----                                    1.2/9.4 MB 2.0 MB/s eta 0:00:05\n",
      "     ------                                   1.4/9.4 MB 2.2 MB/s eta 0:00:04\n",
      "     ------                                   1.6/9.4 MB 2.4 MB/s eta 0:00:04\n",
      "     -------                                  1.8/9.4 MB 2.4 MB/s eta 0:00:04\n",
      "     --------                                 1.9/9.4 MB 2.4 MB/s eta 0:00:04\n",
      "     ---------                                2.1/9.4 MB 2.6 MB/s eta 0:00:03\n",
      "     ---------                                2.2/9.4 MB 2.6 MB/s eta 0:00:03\n",
      "     ----------                               2.4/9.4 MB 2.6 MB/s eta 0:00:03\n",
      "     -----------                              2.6/9.4 MB 2.7 MB/s eta 0:00:03\n",
      "     -----------                              2.8/9.4 MB 2.7 MB/s eta 0:00:03\n",
      "     ------------                             2.9/9.4 MB 2.8 MB/s eta 0:00:03\n",
      "     -------------                            3.1/9.4 MB 2.8 MB/s eta 0:00:03\n",
      "     -------------                            3.3/9.4 MB 2.9 MB/s eta 0:00:03\n",
      "     --------------                           3.5/9.4 MB 2.9 MB/s eta 0:00:03\n",
      "     ---------------                          3.7/9.4 MB 2.9 MB/s eta 0:00:02\n",
      "     ----------------                         3.8/9.4 MB 3.0 MB/s eta 0:00:02\n",
      "     ----------------                         3.9/9.4 MB 3.0 MB/s eta 0:00:02\n",
      "     -----------------                        4.1/9.4 MB 3.0 MB/s eta 0:00:02\n",
      "     ------------------                       4.3/9.4 MB 3.0 MB/s eta 0:00:02\n",
      "     -------------------                      4.6/9.4 MB 3.1 MB/s eta 0:00:02\n",
      "     -------------------                      4.7/9.4 MB 3.1 MB/s eta 0:00:02\n",
      "     --------------------                     4.8/9.4 MB 3.1 MB/s eta 0:00:02\n",
      "     --------------------                     4.9/9.4 MB 3.1 MB/s eta 0:00:02\n",
      "     ---------------------                    5.1/9.4 MB 3.1 MB/s eta 0:00:02\n",
      "     ----------------------                   5.4/9.4 MB 3.2 MB/s eta 0:00:02\n",
      "     -----------------------                  5.6/9.4 MB 3.2 MB/s eta 0:00:02\n",
      "     ------------------------                 5.8/9.4 MB 3.3 MB/s eta 0:00:02\n",
      "     -------------------------                6.0/9.4 MB 3.2 MB/s eta 0:00:02\n",
      "     -------------------------                6.0/9.4 MB 3.3 MB/s eta 0:00:02\n",
      "     -------------------------                6.0/9.4 MB 3.3 MB/s eta 0:00:02\n",
      "     -------------------------                6.0/9.4 MB 3.1 MB/s eta 0:00:02\n",
      "     --------------------------               6.2/9.4 MB 3.1 MB/s eta 0:00:02\n",
      "     --------------------------               6.2/9.4 MB 3.0 MB/s eta 0:00:02\n",
      "     --------------------------               6.2/9.4 MB 2.9 MB/s eta 0:00:02\n",
      "     --------------------------               6.2/9.4 MB 2.9 MB/s eta 0:00:02\n",
      "     --------------------------               6.3/9.4 MB 2.9 MB/s eta 0:00:02\n",
      "     --------------------------               6.3/9.4 MB 2.8 MB/s eta 0:00:02\n",
      "     --------------------------               6.3/9.4 MB 2.8 MB/s eta 0:00:02\n",
      "     ---------------------------              6.4/9.4 MB 2.7 MB/s eta 0:00:02\n",
      "     ---------------------------              6.5/9.4 MB 2.7 MB/s eta 0:00:02\n",
      "     ---------------------------              6.5/9.4 MB 2.7 MB/s eta 0:00:02\n",
      "     ---------------------------              6.6/9.4 MB 2.6 MB/s eta 0:00:02\n",
      "     ---------------------------              6.6/9.4 MB 2.6 MB/s eta 0:00:02\n",
      "     ----------------------------             6.7/9.4 MB 2.6 MB/s eta 0:00:02\n",
      "     ----------------------------             6.7/9.4 MB 2.6 MB/s eta 0:00:02\n",
      "     ----------------------------             6.7/9.4 MB 2.5 MB/s eta 0:00:02\n",
      "     ----------------------------             6.7/9.4 MB 2.5 MB/s eta 0:00:02\n",
      "     ----------------------------             6.7/9.4 MB 2.4 MB/s eta 0:00:02\n",
      "     ----------------------------             6.7/9.4 MB 2.4 MB/s eta 0:00:02\n",
      "     -----------------------------            6.9/9.4 MB 2.4 MB/s eta 0:00:02\n",
      "     -----------------------------            7.0/9.4 MB 2.4 MB/s eta 0:00:02\n",
      "     ------------------------------           7.2/9.4 MB 2.4 MB/s eta 0:00:01\n",
      "     -------------------------------          7.5/9.4 MB 2.5 MB/s eta 0:00:01\n",
      "     --------------------------------         7.7/9.4 MB 2.5 MB/s eta 0:00:01\n",
      "     ---------------------------------        7.9/9.4 MB 2.5 MB/s eta 0:00:01\n",
      "     ----------------------------------       8.2/9.4 MB 2.6 MB/s eta 0:00:01\n",
      "     -----------------------------------      8.4/9.4 MB 2.6 MB/s eta 0:00:01\n",
      "     ------------------------------------     8.6/9.4 MB 2.6 MB/s eta 0:00:01\n",
      "     -------------------------------------    8.9/9.4 MB 2.7 MB/s eta 0:00:01\n",
      "     --------------------------------------   9.2/9.4 MB 2.7 MB/s eta 0:00:01\n",
      "     ---------------------------------------  9.3/9.4 MB 2.7 MB/s eta 0:00:01\n",
      "     ---------------------------------------  9.3/9.4 MB 2.7 MB/s eta 0:00:01\n",
      "     ---------------------------------------  9.3/9.4 MB 2.6 MB/s eta 0:00:01\n",
      "     ---------------------------------------  9.4/9.4 MB 2.6 MB/s eta 0:00:01\n",
      "     ---------------------------------------  9.4/9.4 MB 2.6 MB/s eta 0:00:01\n",
      "     ---------------------------------------- 9.4/9.4 MB 2.6 MB/s eta 0:00:00\n",
      "Requirement already satisfied: urllib3[socks]~=2.5.0 in c:\\users\\fraro\\appdata\\local\\programs\\python\\python311\\lib\\site-packages (from selenium) (2.5.0)\n",
      "Collecting trio~=0.30.0 (from selenium)\n",
      "  Downloading trio-0.30.0-py3-none-any.whl (499 kB)\n",
      "                                              0.0/499.2 kB ? eta -:--:--\n",
      "     -------------------                    256.0/499.2 kB 7.7 MB/s eta 0:00:01\n",
      "     ---------------------------------      440.3/499.2 kB 5.5 MB/s eta 0:00:01\n",
      "     -------------------------------------- 499.2/499.2 kB 3.9 MB/s eta 0:00:00\n",
      "Collecting trio-websocket~=0.12.2 (from selenium)\n",
      "  Downloading trio_websocket-0.12.2-py3-none-any.whl (21 kB)\n",
      "Requirement already satisfied: certifi>=2025.6.15 in c:\\users\\fraro\\appdata\\local\\programs\\python\\python311\\lib\\site-packages (from selenium) (2025.8.3)\n",
      "Requirement already satisfied: typing_extensions~=4.14.0 in c:\\users\\fraro\\appdata\\local\\programs\\python\\python311\\lib\\site-packages (from selenium) (4.14.1)\n",
      "Collecting websocket-client~=1.8.0 (from selenium)\n",
      "  Using cached websocket_client-1.8.0-py3-none-any.whl (58 kB)\n",
      "Collecting attrs>=23.2.0 (from trio~=0.30.0->selenium)\n",
      "  Downloading attrs-25.3.0-py3-none-any.whl (63 kB)\n",
      "                                              0.0/63.8 kB ? eta -:--:--\n",
      "     ---------------------------------------- 63.8/63.8 kB 1.7 MB/s eta 0:00:00\n",
      "Collecting sortedcontainers (from trio~=0.30.0->selenium)\n",
      "  Using cached sortedcontainers-2.4.0-py2.py3-none-any.whl (29 kB)\n",
      "Requirement already satisfied: idna in c:\\users\\fraro\\appdata\\local\\programs\\python\\python311\\lib\\site-packages (from trio~=0.30.0->selenium) (3.10)\n",
      "Collecting outcome (from trio~=0.30.0->selenium)\n",
      "  Using cached outcome-1.3.0.post0-py2.py3-none-any.whl (10 kB)\n",
      "Collecting sniffio>=1.3.0 (from trio~=0.30.0->selenium)\n",
      "  Using cached sniffio-1.3.1-py3-none-any.whl (10 kB)\n",
      "Requirement already satisfied: cffi>=1.14 in c:\\users\\fraro\\appdata\\local\\programs\\python\\python311\\lib\\site-packages (from trio~=0.30.0->selenium) (1.17.1)\n",
      "Collecting wsproto>=0.14 (from trio-websocket~=0.12.2->selenium)\n",
      "  Using cached wsproto-1.2.0-py3-none-any.whl (24 kB)\n",
      "Collecting pysocks!=1.5.7,<2.0,>=1.5.6 (from urllib3[socks]~=2.5.0->selenium)\n",
      "  Using cached PySocks-1.7.1-py3-none-any.whl (16 kB)\n",
      "Requirement already satisfied: pycparser in c:\\users\\fraro\\appdata\\local\\programs\\python\\python311\\lib\\site-packages (from cffi>=1.14->trio~=0.30.0->selenium) (2.22)\n",
      "Collecting h11<1,>=0.9.0 (from wsproto>=0.14->trio-websocket~=0.12.2->selenium)\n",
      "  Downloading h11-0.16.0-py3-none-any.whl (37 kB)\n",
      "Installing collected packages: sortedcontainers, websocket-client, sniffio, pysocks, h11, attrs, wsproto, outcome, trio, trio-websocket, selenium\n",
      "Successfully installed attrs-25.3.0 h11-0.16.0 outcome-1.3.0.post0 pysocks-1.7.1 selenium-4.34.2 sniffio-1.3.1 sortedcontainers-2.4.0 trio-0.30.0 trio-websocket-0.12.2 websocket-client-1.8.0 wsproto-1.2.0\n",
      "Note: you may need to restart the kernel to use updated packages.\n"
     ]
    },
    {
     "name": "stderr",
     "output_type": "stream",
     "text": [
      "\n",
      "[notice] A new release of pip is available: 23.1.2 -> 25.2\n",
      "[notice] To update, run: python.exe -m pip install --upgrade pip\n"
     ]
    }
   ],
   "source": [
    "pip install selenium\n"
   ]
  },
  {
   "cell_type": "code",
   "execution_count": 4,
   "metadata": {},
   "outputs": [],
   "source": [
    "import pandas as pd \n",
    "from selenium import webdriver\n",
    "from selenium.webdriver.chrome.service import Service\n",
    "from selenium.webdriver.common.by import By\n",
    "\n"
   ]
  },
  {
   "cell_type": "code",
   "execution_count": 5,
   "metadata": {},
   "outputs": [],
   "source": [
    "# Classe service é usaa para iniciar uma instaência do Chrome Web Driver\n",
    "\n",
    "service = Service()"
   ]
  },
  {
   "cell_type": "code",
   "execution_count": 6,
   "metadata": {},
   "outputs": [],
   "source": [
    "# Webdriver.ChromeOptions é usado para definir as preferências para o browser do Chrome\n",
    "\n",
    "options = webdriver.ChromeOptions()  "
   ]
  },
  {
   "cell_type": "code",
   "execution_count": 9,
   "metadata": {},
   "outputs": [],
   "source": [
    "# Inicia-se a instância do Chrome Webedriver com as definidas  'service' e 'options\n",
    "\n",
    "drive = webdriver.Chrome(service=service, options=options)\n",
    "\n",
    "url = 'https://books.toscrape.com/'\n",
    "\n",
    "drive.get(url)"
   ]
  }
 ],
 "metadata": {
  "kernelspec": {
   "display_name": "Python 3",
   "language": "python",
   "name": "python3"
  },
  "language_info": {
   "codemirror_mode": {
    "name": "ipython",
    "version": 3
   },
   "file_extension": ".py",
   "mimetype": "text/x-python",
   "name": "python",
   "nbconvert_exporter": "python",
   "pygments_lexer": "ipython3",
   "version": "3.11.4"
  }
 },
 "nbformat": 4,
 "nbformat_minor": 2
}
