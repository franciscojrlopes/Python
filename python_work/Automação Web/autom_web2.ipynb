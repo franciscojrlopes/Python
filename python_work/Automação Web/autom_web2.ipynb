{
 "cells": [
  {
   "cell_type": "code",
   "execution_count": 9,
   "metadata": {},
   "outputs": [],
   "source": [
    "from selenium import webdriver\n",
    "from selenium.webdriver.chrome.service import Service\n",
    "from webdriver_manager.chrome import ChromeDriverManager\n",
    "  \n",
    "servico = Service(ChromeDriverManager().install())\n",
    "navegador = webdriver.Chrome(service=servico)\n",
    "\n",
    "# import os\n",
    "# caminho = os.getcwd()\n",
    "# arquivo = caminho + r'\\Pagina Hashtag.html'\n",
    "# print(arquivo)\n",
    "# navegador.get(arquivo)\n",
    "\n",
    "import os\n",
    "caminho = os.getcwd()\n",
    "arquivo = caminho + r'\\https://coinmarketcap.com/'\n",
    "# print(arquivo)\n",
    "# navegador.get(arquivo)\n",
    "# from selenium.webdriver.common.by import By\n",
    "# navegador.find_element(By.ID, \"placeholder=\").send_keys('Bitcoin')\n",
    "# # navegador.find_elements(By.XPATH, '//button')\n"
   ]
  },
  {
   "cell_type": "code",
   "execution_count": 7,
   "metadata": {},
   "outputs": [],
   "source": [
    "import os\n",
    "caminho = os.getcwd()\n",
    "arquivo = caminho + r'\\https://coinmarketcap.com/'\n",
    "# print(arquivo)\n",
    "# navegador.get(arquivo)\n",
    "# from selenium.webdriver.common.by import By\n",
    "# navegador.find_element(By.ID, \"placeholder=\").send_keys('Bitcoin')\n",
    "# # navegador.find_elements(By.XPATH, '//button')"
   ]
  },
  {
   "cell_type": "code",
   "execution_count": 5,
   "metadata": {},
   "outputs": [
    {
     "ename": "NameError",
     "evalue": "name 'navegador' is not defined",
     "output_type": "error",
     "traceback": [
      "\u001b[1;31m---------------------------------------------------------------------------\u001b[0m",
      "\u001b[1;31mNameError\u001b[0m                                 Traceback (most recent call last)",
      "Cell \u001b[1;32mIn[5], line 2\u001b[0m\n\u001b[0;32m      1\u001b[0m \u001b[38;5;28;01mfrom\u001b[39;00m \u001b[38;5;21;01mselenium\u001b[39;00m\u001b[38;5;21;01m.\u001b[39;00m\u001b[38;5;21;01mwebdriver\u001b[39;00m\u001b[38;5;21;01m.\u001b[39;00m\u001b[38;5;21;01mcommon\u001b[39;00m\u001b[38;5;21;01m.\u001b[39;00m\u001b[38;5;21;01mby\u001b[39;00m \u001b[38;5;28;01mimport\u001b[39;00m By\n\u001b[1;32m----> 2\u001b[0m \u001b[43mnavegador\u001b[49m\u001b[38;5;241m.\u001b[39mfind_element(By\u001b[38;5;241m.\u001b[39mID, \u001b[38;5;124m\"\u001b[39m\u001b[38;5;124mplaceholder=\u001b[39m\u001b[38;5;124m\"\u001b[39m)\u001b[38;5;241m.\u001b[39msend_keys(\u001b[38;5;124m'\u001b[39m\u001b[38;5;124mBitcoin\u001b[39m\u001b[38;5;124m'\u001b[39m)\n\u001b[0;32m      3\u001b[0m \u001b[38;5;66;03m# navegador.find_elements(By.XPATH, '//button')\u001b[39;00m\n",
      "\u001b[1;31mNameError\u001b[0m: name 'navegador' is not defined"
     ]
    }
   ],
   "source": [
    "from selenium.webdriver.common.by import By\n",
    "navegador.find_element(By.ID, \"placeholder=\").send_keys('Bitcoin')\n",
    "# navegador.find_elements(By.XPATH, '//button')"
   ]
  }
 ],
 "metadata": {
  "kernelspec": {
   "display_name": ".venv",
   "language": "python",
   "name": "python3"
  },
  "language_info": {
   "codemirror_mode": {
    "name": "ipython",
    "version": 3
   },
   "file_extension": ".py",
   "mimetype": "text/x-python",
   "name": "python",
   "nbconvert_exporter": "python",
   "pygments_lexer": "ipython3",
   "version": "3.11.4"
  }
 },
 "nbformat": 4,
 "nbformat_minor": 2
}
