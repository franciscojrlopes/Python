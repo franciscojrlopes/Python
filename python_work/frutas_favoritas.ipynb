{
 "cells": [
  {
   "cell_type": "code",
   "execution_count": 1,
   "metadata": {},
   "outputs": [
    {
     "name": "stdout",
     "output_type": "stream",
     "text": [
      "You really like blueberries!\n",
      "You really like peaches!\n"
     ]
    }
   ],
   "source": [
    "favorite_fruits = ['blueberries', 'salmonberries', 'peaches']\n",
    "\n",
    "if 'bananas' in favorite_fruits:\n",
    "    print(\"You really like bananas!\")\n",
    "if 'apples' in favorite_fruits:\n",
    "    print(\"You really like apples!\")\n",
    "if 'blueberries' in favorite_fruits:\n",
    "    print(\"You really like blueberries!\")\n",
    "if 'kiwis' in favorite_fruits:\n",
    "    print(\"You really like kiwis!\")\n",
    "if 'peaches' in favorite_fruits:\n",
    "    print(\"You really like peaches!\")"
   ]
  }
 ],
 "metadata": {
  "kernelspec": {
   "display_name": ".venv",
   "language": "python",
   "name": "python3"
  },
  "language_info": {
   "codemirror_mode": {
    "name": "ipython",
    "version": 3
   },
   "file_extension": ".py",
   "mimetype": "text/x-python",
   "name": "python",
   "nbconvert_exporter": "python",
   "pygments_lexer": "ipython3",
   "version": "3.11.4"
  }
 },
 "nbformat": 4,
 "nbformat_minor": 2
}
