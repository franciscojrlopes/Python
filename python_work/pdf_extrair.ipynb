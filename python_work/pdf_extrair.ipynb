{
 "cells": [
  {
   "cell_type": "code",
   "execution_count": 2,
   "metadata": {},
   "outputs": [
    {
     "name": "stdout",
     "output_type": "stream",
     "text": [
      "Collecting pikepdfNote: you may need to restart the kernel to use updated packages.\n",
      "\n",
      "  Obtaining dependency information for pikepdf from https://files.pythonhosted.org/packages/c6/28/ca81e278d0b4592581cf5663dba94ec5e035682de71c0d26dd83eb0e1265/pikepdf-8.15.1-cp311-cp311-win_amd64.whl.metadata\n",
      "  Downloading pikepdf-8.15.1-cp311-cp311-win_amd64.whl.metadata (8.6 kB)\n",
      "Requirement already satisfied: Pillow>=10.0.1 in c:\\users\\fraro\\onedrive\\documentos\\estudos\\python\\.venv\\lib\\site-packages (from pikepdf) (10.2.0)\n",
      "Collecting Deprecated (from pikepdf)\n",
      "  Obtaining dependency information for Deprecated from https://files.pythonhosted.org/packages/20/8d/778b7d51b981a96554f29136cd59ca7880bf58094338085bcf2a979a0e6a/Deprecated-1.2.14-py2.py3-none-any.whl.metadata\n",
      "  Downloading Deprecated-1.2.14-py2.py3-none-any.whl.metadata (5.4 kB)\n",
      "Collecting lxml>=4.8 (from pikepdf)\n",
      "  Obtaining dependency information for lxml>=4.8 from https://files.pythonhosted.org/packages/df/c5/8b05e69685b48cf11b596fbdd466f76cb3c1e3efe0361d8be0edb9df0325/lxml-5.2.1-cp311-cp311-win_amd64.whl.metadata\n",
      "  Downloading lxml-5.2.1-cp311-cp311-win_amd64.whl.metadata (3.5 kB)\n",
      "Requirement already satisfied: packaging in c:\\users\\fraro\\onedrive\\documentos\\estudos\\python\\.venv\\lib\\site-packages (from pikepdf) (23.1)\n",
      "Collecting wrapt<2,>=1.10 (from Deprecated->pikepdf)\n",
      "  Obtaining dependency information for wrapt<2,>=1.10 from https://files.pythonhosted.org/packages/cf/c3/0084351951d9579ae83a3d9e38c140371e4c6b038136909235079f2e6e78/wrapt-1.16.0-cp311-cp311-win_amd64.whl.metadata\n",
      "  Downloading wrapt-1.16.0-cp311-cp311-win_amd64.whl.metadata (6.8 kB)\n",
      "Downloading pikepdf-8.15.1-cp311-cp311-win_amd64.whl (3.5 MB)\n",
      "   ---------------------------------------- 0.0/3.5 MB ? eta -:--:--\n",
      "   - -------------------------------------- 0.1/3.5 MB 2.0 MB/s eta 0:00:02\n",
      "   -- ------------------------------------- 0.3/3.5 MB 2.6 MB/s eta 0:00:02\n",
      "   ---- ----------------------------------- 0.3/3.5 MB 2.7 MB/s eta 0:00:02\n",
      "   ----- ---------------------------------- 0.5/3.5 MB 2.5 MB/s eta 0:00:02\n",
      "   ------ --------------------------------- 0.6/3.5 MB 2.5 MB/s eta 0:00:02\n",
      "   -------- ------------------------------- 0.7/3.5 MB 2.6 MB/s eta 0:00:02\n",
      "   --------- ------------------------------ 0.9/3.5 MB 2.7 MB/s eta 0:00:01\n",
      "   ----------- ---------------------------- 1.0/3.5 MB 2.6 MB/s eta 0:00:01\n",
      "   ------------- -------------------------- 1.1/3.5 MB 2.6 MB/s eta 0:00:01\n",
      "   -------------- ------------------------- 1.2/3.5 MB 2.6 MB/s eta 0:00:01\n",
      "   --------------- ------------------------ 1.4/3.5 MB 2.6 MB/s eta 0:00:01\n",
      "   ---------------- ----------------------- 1.5/3.5 MB 2.6 MB/s eta 0:00:01\n",
      "   ------------------- -------------------- 1.6/3.5 MB 2.7 MB/s eta 0:00:01\n",
      "   -------------------- ------------------- 1.8/3.5 MB 2.7 MB/s eta 0:00:01\n",
      "   --------------------- ------------------ 1.9/3.5 MB 2.7 MB/s eta 0:00:01\n",
      "   ----------------------- ---------------- 2.0/3.5 MB 2.7 MB/s eta 0:00:01\n",
      "   ------------------------ --------------- 2.1/3.5 MB 2.7 MB/s eta 0:00:01\n",
      "   -------------------------- ------------- 2.3/3.5 MB 2.7 MB/s eta 0:00:01\n",
      "   --------------------------- ------------ 2.4/3.5 MB 2.7 MB/s eta 0:00:01\n",
      "   ----------------------------- ---------- 2.5/3.5 MB 2.7 MB/s eta 0:00:01\n",
      "   ------------------------------ --------- 2.6/3.5 MB 2.7 MB/s eta 0:00:01\n",
      "   ------------------------------- -------- 2.7/3.5 MB 2.6 MB/s eta 0:00:01\n",
      "   --------------------------------- ------ 2.9/3.5 MB 2.7 MB/s eta 0:00:01\n",
      "   ---------------------------------- ----- 3.0/3.5 MB 2.7 MB/s eta 0:00:01\n",
      "   ------------------------------------ --- 3.1/3.5 MB 2.7 MB/s eta 0:00:01\n",
      "   ------------------------------------- -- 3.3/3.5 MB 2.7 MB/s eta 0:00:01\n",
      "   ---------------------------------------  3.4/3.5 MB 2.7 MB/s eta 0:00:01\n",
      "   ---------------------------------------- 3.5/3.5 MB 2.7 MB/s eta 0:00:00\n",
      "Downloading lxml-5.2.1-cp311-cp311-win_amd64.whl (3.8 MB)\n",
      "   ---------------------------------------- 0.0/3.8 MB ? eta -:--:--\n",
      "   - -------------------------------------- 0.1/3.8 MB 4.3 MB/s eta 0:00:01\n",
      "   -- ------------------------------------- 0.3/3.8 MB 3.4 MB/s eta 0:00:02\n",
      "   ---- ----------------------------------- 0.4/3.8 MB 3.1 MB/s eta 0:00:02\n",
      "   ----- ---------------------------------- 0.5/3.8 MB 3.0 MB/s eta 0:00:02\n",
      "   ------ --------------------------------- 0.7/3.8 MB 2.8 MB/s eta 0:00:02\n",
      "   -------- ------------------------------- 0.8/3.8 MB 2.7 MB/s eta 0:00:02\n",
      "   --------- ------------------------------ 0.9/3.8 MB 3.0 MB/s eta 0:00:01\n",
      "   ---------- ----------------------------- 1.0/3.8 MB 2.9 MB/s eta 0:00:01\n",
      "   ------------ --------------------------- 1.2/3.8 MB 2.9 MB/s eta 0:00:01\n",
      "   ------------- -------------------------- 1.3/3.8 MB 2.8 MB/s eta 0:00:01\n",
      "   --------------- ------------------------ 1.5/3.8 MB 2.8 MB/s eta 0:00:01\n",
      "   ---------------- ----------------------- 1.6/3.8 MB 2.9 MB/s eta 0:00:01\n",
      "   ------------------ --------------------- 1.8/3.8 MB 2.9 MB/s eta 0:00:01\n",
      "   ------------------- -------------------- 1.9/3.8 MB 2.9 MB/s eta 0:00:01\n",
      "   --------------------- ------------------ 2.0/3.8 MB 3.0 MB/s eta 0:00:01\n",
      "   ---------------------- ----------------- 2.1/3.8 MB 2.9 MB/s eta 0:00:01\n",
      "   ----------------------- ---------------- 2.2/3.8 MB 2.9 MB/s eta 0:00:01\n",
      "   ------------------------- -------------- 2.4/3.8 MB 2.9 MB/s eta 0:00:01\n",
      "   -------------------------- ------------- 2.5/3.8 MB 2.9 MB/s eta 0:00:01\n",
      "   --------------------------- ------------ 2.7/3.8 MB 2.9 MB/s eta 0:00:01\n",
      "   ----------------------------- ---------- 2.8/3.8 MB 2.9 MB/s eta 0:00:01\n",
      "   ------------------------------- -------- 3.0/3.8 MB 2.9 MB/s eta 0:00:01\n",
      "   -------------------------------- ------- 3.1/3.8 MB 2.9 MB/s eta 0:00:01\n",
      "   -------------------------------- ------- 3.1/3.8 MB 2.8 MB/s eta 0:00:01\n",
      "   ---------------------------------- ----- 3.3/3.8 MB 2.8 MB/s eta 0:00:01\n",
      "   ----------------------------------- ---- 3.4/3.8 MB 2.8 MB/s eta 0:00:01\n",
      "   ------------------------------------- -- 3.5/3.8 MB 2.8 MB/s eta 0:00:01\n",
      "   ------------------------------------- -- 3.6/3.8 MB 2.8 MB/s eta 0:00:01\n",
      "   ---------------------------------------  3.8/3.8 MB 2.8 MB/s eta 0:00:01\n",
      "   ---------------------------------------- 3.8/3.8 MB 2.8 MB/s eta 0:00:00\n",
      "Downloading Deprecated-1.2.14-py2.py3-none-any.whl (9.6 kB)\n",
      "Downloading wrapt-1.16.0-cp311-cp311-win_amd64.whl (37 kB)\n",
      "Installing collected packages: wrapt, lxml, Deprecated, pikepdf\n",
      "Successfully installed Deprecated-1.2.14 lxml-5.2.1 pikepdf-8.15.1 wrapt-1.16.0\n"
     ]
    },
    {
     "name": "stderr",
     "output_type": "stream",
     "text": [
      "\n",
      "[notice] A new release of pip is available: 23.2.1 -> 24.0\n",
      "[notice] To update, run: python.exe -m pip install --upgrade pip\n"
     ]
    }
   ],
   "source": [
    "pip install pikepdf"
   ]
  },
  {
   "cell_type": "code",
   "execution_count": 10,
   "metadata": {},
   "outputs": [
    {
     "name": "stdout",
     "output_type": "stream",
     "text": [
      "<pikepdf._core.ItemsView object at 0x0000029DA90D34F0>\n",
      "<pikepdf._core.ItemsView object at 0x0000029DA9CBA730>\n",
      "<pikepdf._core.ItemsView object at 0x0000029DA9CBA1B0>\n",
      "<pikepdf._core.ItemsView object at 0x0000029DA94E10B0>\n",
      "<pikepdf._core.ItemsView object at 0x0000029DA9CB9970>\n",
      "<pikepdf._core.ItemsView object at 0x0000029DA9CBA1B0>\n",
      "<pikepdf._core.ItemsView object at 0x0000029DA9BC1370>\n",
      "<pikepdf._core.ItemsView object at 0x0000029DA9CB9970>\n",
      "<pikepdf._core.ItemsView object at 0x0000029DA9CBA1B0>\n",
      "<pikepdf._core.ItemsView object at 0x0000029DA9CB9970>\n",
      "<pikepdf._core.ItemsView object at 0x0000029DA9CB90B0>\n",
      "<pikepdf._core.ItemsView object at 0x0000029DA9CBA1B0>\n",
      "<pikepdf._core.ItemsView object at 0x0000029DA9CB90B0>\n",
      "<pikepdf._core.ItemsView object at 0x0000029DA9CB9370>\n",
      "<pikepdf._core.ItemsView object at 0x0000029DA9CB90B0>\n",
      "<pikepdf._core.ItemsView object at 0x0000029DA9CB9970>\n",
      "<pikepdf._core.ItemsView object at 0x0000029DA9CB90B0>\n",
      "<pikepdf._core.ItemsView object at 0x0000029DA9CBA1B0>\n",
      "<pikepdf._core.ItemsView object at 0x0000029DA9CB90B0>\n",
      "<pikepdf._core.ItemsView object at 0x0000029DA9CB9370>\n",
      "<pikepdf._core.ItemsView object at 0x0000029DA9CB90B0>\n",
      "<pikepdf._core.ItemsView object at 0x0000029DA9CB9970>\n",
      "<pikepdf._core.ItemsView object at 0x0000029DA9CB90B0>\n",
      "<pikepdf._core.ItemsView object at 0x0000029DA9CBA1B0>\n"
     ]
    }
   ],
   "source": [
    "from pikepdf import Pdf, PdfImage\n",
    "arquivo = Pdf.open('MGLU_ER_3T20_POR.pdf')\n",
    "for pagina in arquivo.pages:\n",
    "    imagens = pagina.images.items()\n",
    "    print(imagens)\n"
   ]
  },
  {
   "cell_type": "code",
   "execution_count": null,
   "metadata": {},
   "outputs": [],
   "source": [
    "from pikepdf import Pdf, PdfImage\n",
    "arquivo = Pdf.open('MGLU_ER_3T20_POR.pdf')\n",
    "for pagina in arquivo.pages:\n",
    "    imagens = pagina.images.items()\n",
    "    print(imagens)\n"
   ]
  }
 ],
 "metadata": {
  "kernelspec": {
   "display_name": ".venv",
   "language": "python",
   "name": "python3"
  },
  "language_info": {
   "codemirror_mode": {
    "name": "ipython",
    "version": 3
   },
   "file_extension": ".py",
   "mimetype": "text/x-python",
   "name": "python",
   "nbconvert_exporter": "python",
   "pygments_lexer": "ipython3",
   "version": "3.11.4"
  }
 },
 "nbformat": 4,
 "nbformat_minor": 2
}
