{
 "cells": [
  {
   "cell_type": "code",
   "execution_count": 2,
   "metadata": {},
   "outputs": [
    {
     "name": "stdout",
     "output_type": "stream",
     "text": [
      "Tempo atual 1705163297.5507493 desde a EPOCH\n"
     ]
    }
   ],
   "source": [
    "import time\n",
    "tempo_atual_segundos = time.time()\n",
    "print(f'Tempo atual {tempo_atual_segundos} desde a EPOCH.')"
   ]
  },
  {
   "cell_type": "code",
   "execution_count": 4,
   "metadata": {},
   "outputs": [
    {
     "name": "stdout",
     "output_type": "stream",
     "text": [
      "Tempo atual em nano segundos 1705163486844901100 desde a EPOCH.\n"
     ]
    }
   ],
   "source": [
    "import time\n",
    "tempo_atual_nanosegundos = time.time_ns()\n",
    "print(f'Tempo atual em nano segundos {tempo_atual_nanosegundos} desde a EPOCH.')"
   ]
  },
  {
   "cell_type": "markdown",
   "metadata": {},
   "source": [
    "Possivel aplicação: benchmarking no programa para verificar suas eficiência, veruficando o tempo de execução decorrido por exemplo."
   ]
  },
  {
   "cell_type": "code",
   "execution_count": 7,
   "metadata": {},
   "outputs": [
    {
     "name": "stdout",
     "output_type": "stream",
     "text": [
      "Tempo decorrido: 5.673493146896362 segundos.\n"
     ]
    }
   ],
   "source": [
    "inicio = time.time()\n",
    "\n",
    "for i in range(100_000_000):\n",
    "    pass\n",
    "fim = time.time()\n",
    "print(f'Tempo decorrido: {fim - inicio} segundos.')"
   ]
  },
  {
   "cell_type": "markdown",
   "metadata": {},
   "source": [
    "time.sleep()\n",
    "\n",
    "A função sleep() faz o programa esperar pelo número de segundos espcificado. Posso com isso controlar o fluxo de um programa. \n"
   ]
  },
  {
   "cell_type": "code",
   "execution_count": 8,
   "metadata": {},
   "outputs": [
    {
     "name": "stdout",
     "output_type": "stream",
     "text": [
      "Iniciando a pausa.\n",
      "Pausa terminada.\n"
     ]
    }
   ],
   "source": [
    "print('Iniciando a pausa.')\n",
    "time.sleep(4)\n",
    "print('Pausa terminada.')"
   ]
  },
  {
   "cell_type": "markdown",
   "metadata": {},
   "source": [
    "time.ctime() \n",
    "\n",
    "A função time.ctime() converte um tempo expresso em segundos desde a Epoch em uma string representando um tempo local. \n",
    "\n"
   ]
  },
  {
   "cell_type": "code",
   "execution_count": 10,
   "metadata": {},
   "outputs": [
    {
     "name": "stdout",
     "output_type": "stream",
     "text": [
      "Tempo local: Sat Jan 13 13:55:21 2024.\n"
     ]
    }
   ],
   "source": [
    "tempo_em_segundos = time.time()\n",
    "tempo_local = time.ctime(tempo_em_segundos)\n",
    "print(f'Tempo local: {tempo_local}.')"
   ]
  },
  {
   "cell_type": "markdown",
   "metadata": {},
   "source": [
    "time.time() vs time.localtime()\n",
    "\n",
    "A função time.time() retorna o tempo atual em segundos desde a epoch. A função localtime() converte um tempo expresso em segundos desde a epoch em um objeto struck_time. este objeto contém informações sobre o tempo local, como ano, mês, dia, hora, minuto, segundo, etc. A funão localtime() usa o fuso horário local. \n",
    "  "
   ]
  },
  {
   "cell_type": "code",
   "execution_count": 12,
   "metadata": {},
   "outputs": [
    {
     "name": "stdout",
     "output_type": "stream",
     "text": [
      "Tempo local: time.struct_time(tm_year=2024, tm_mon=1, tm_mday=13, tm_hour=14, tm_min=4, tm_sec=21, tm_wday=5, tm_yday=13, tm_isdst=0)\n"
     ]
    }
   ],
   "source": [
    "tempo_em_segundos = time.time()\n",
    "tempo_local = time.localtime(tempo_em_segundos)\n",
    "print(f'Tempo local: {tempo_local}')"
   ]
  },
  {
   "cell_type": "code",
   "execution_count": 13,
   "metadata": {},
   "outputs": [
    {
     "name": "stdout",
     "output_type": "stream",
     "text": [
      "2024\n"
     ]
    }
   ],
   "source": [
    "print(tempo_local.tm_year)"
   ]
  },
  {
   "cell_type": "code",
   "execution_count": 14,
   "metadata": {},
   "outputs": [
    {
     "name": "stdout",
     "output_type": "stream",
     "text": [
      "1\n"
     ]
    }
   ],
   "source": [
    "print(tempo_local.tm_mon)"
   ]
  },
  {
   "cell_type": "code",
   "execution_count": 15,
   "metadata": {},
   "outputs": [
    {
     "name": "stdout",
     "output_type": "stream",
     "text": [
      "13\n"
     ]
    }
   ],
   "source": [
    "print(tempo_local.tm_mday)"
   ]
  },
  {
   "cell_type": "code",
   "execution_count": 16,
   "metadata": {},
   "outputs": [
    {
     "name": "stdout",
     "output_type": "stream",
     "text": [
      "14\n"
     ]
    }
   ],
   "source": [
    "print(tempo_local.tm_hour)"
   ]
  },
  {
   "cell_type": "code",
   "execution_count": 19,
   "metadata": {},
   "outputs": [
    {
     "name": "stdout",
     "output_type": "stream",
     "text": [
      "4\n"
     ]
    }
   ],
   "source": [
    "print(tempo_local.tm_min)"
   ]
  },
  {
   "cell_type": "code",
   "execution_count": 20,
   "metadata": {},
   "outputs": [
    {
     "name": "stdout",
     "output_type": "stream",
     "text": [
      "21\n"
     ]
    }
   ],
   "source": [
    "print(tempo_local.tm_sec)"
   ]
  },
  {
   "cell_type": "code",
   "execution_count": 21,
   "metadata": {},
   "outputs": [
    {
     "name": "stdout",
     "output_type": "stream",
     "text": [
      "5\n"
     ]
    }
   ],
   "source": [
    "print(tempo_local.tm_wday)"
   ]
  },
  {
   "cell_type": "code",
   "execution_count": 22,
   "metadata": {},
   "outputs": [
    {
     "name": "stdout",
     "output_type": "stream",
     "text": [
      "13\n"
     ]
    }
   ],
   "source": [
    "print(tempo_local.tm_yday)"
   ]
  },
  {
   "cell_type": "code",
   "execution_count": 23,
   "metadata": {},
   "outputs": [
    {
     "name": "stdout",
     "output_type": "stream",
     "text": [
      "Hora oficial do Brasil\n"
     ]
    }
   ],
   "source": [
    "print(tempo_local.tm_zone)"
   ]
  }
 ],
 "metadata": {
  "kernelspec": {
   "display_name": ".venv",
   "language": "python",
   "name": "python3"
  },
  "language_info": {
   "codemirror_mode": {
    "name": "ipython",
    "version": 3
   },
   "file_extension": ".py",
   "mimetype": "text/x-python",
   "name": "python",
   "nbconvert_exporter": "python",
   "pygments_lexer": "ipython3",
   "version": "3.11.4"
  }
 },
 "nbformat": 4,
 "nbformat_minor": 2
}
