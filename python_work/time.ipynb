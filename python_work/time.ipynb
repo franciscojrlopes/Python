{
 "cells": [
  {
   "cell_type": "code",
   "execution_count": 2,
   "metadata": {},
   "outputs": [
    {
     "name": "stdout",
     "output_type": "stream",
     "text": [
      "Tempo atual 1705163297.5507493 desde a EPOCH\n"
     ]
    }
   ],
   "source": [
    "import time\n",
    "tempo_atual_segundos = time.time()\n",
    "print(f'Tempo atual {tempo_atual_segundos} desde a EPOCH.')"
   ]
  },
  {
   "cell_type": "code",
   "execution_count": 4,
   "metadata": {},
   "outputs": [
    {
     "name": "stdout",
     "output_type": "stream",
     "text": [
      "Tempo atual em nano segundos 1705163486844901100 desde a EPOCH.\n"
     ]
    }
   ],
   "source": [
    "import time\n",
    "tempo_atual_nanosegundos = time.time_ns()\n",
    "print(f'Tempo atual em nano segundos {tempo_atual_nanosegundos} desde a EPOCH.')"
   ]
  }
 ],
 "metadata": {
  "kernelspec": {
   "display_name": ".venv",
   "language": "python",
   "name": "python3"
  },
  "language_info": {
   "codemirror_mode": {
    "name": "ipython",
    "version": 3
   },
   "file_extension": ".py",
   "mimetype": "text/x-python",
   "name": "python",
   "nbconvert_exporter": "python",
   "pygments_lexer": "ipython3",
   "version": "3.11.4"
  }
 },
 "nbformat": 4,
 "nbformat_minor": 2
}
