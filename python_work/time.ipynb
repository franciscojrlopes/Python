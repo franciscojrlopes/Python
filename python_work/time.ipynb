{
 "cells": [
  {
   "cell_type": "code",
   "execution_count": 2,
   "metadata": {},
   "outputs": [
    {
     "name": "stdout",
     "output_type": "stream",
     "text": [
      "Tempo atual 1705163297.5507493 desde a EPOCH\n"
     ]
    }
   ],
   "source": [
    "import time\n",
    "tempo_atual_segundos = time.time()\n",
    "print(f'Tempo atual {tempo_atual_segundos} desde a EPOCH.')"
   ]
  },
  {
   "cell_type": "code",
   "execution_count": 4,
   "metadata": {},
   "outputs": [
    {
     "name": "stdout",
     "output_type": "stream",
     "text": [
      "Tempo atual em nano segundos 1705163486844901100 desde a EPOCH.\n"
     ]
    }
   ],
   "source": [
    "import time\n",
    "tempo_atual_nanosegundos = time.time_ns()\n",
    "print(f'Tempo atual em nano segundos {tempo_atual_nanosegundos} desde a EPOCH.')"
   ]
  },
  {
   "cell_type": "code",
   "execution_count": 5,
   "metadata": {},
   "outputs": [
    {
     "name": "stdout",
     "output_type": "stream",
     "text": [
      "Tempo decorrido: 5.83704400062561\n"
     ]
    }
   ],
   "source": [
    "inicio = time.time()\n",
    "\n",
    "for i in range(100_000_000):\n",
    "    pass\n",
    "fim = time.time()\n",
    "print(f'Tempo decorrido: {fim - inicio}')"
   ]
  },
  {
   "cell_type": "markdown",
   "metadata": {},
   "source": [
    "time.sleep()\n",
    "\n",
    "A função sleep() faz o programa esperar pelo número de segundos espcificado. \n"
   ]
  }
 ],
 "metadata": {
  "kernelspec": {
   "display_name": ".venv",
   "language": "python",
   "name": "python3"
  },
  "language_info": {
   "codemirror_mode": {
    "name": "ipython",
    "version": 3
   },
   "file_extension": ".py",
   "mimetype": "text/x-python",
   "name": "python",
   "nbconvert_exporter": "python",
   "pygments_lexer": "ipython3",
   "version": "3.11.4"
  }
 },
 "nbformat": 4,
 "nbformat_minor": 2
}
