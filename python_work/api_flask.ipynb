{
 "cells": [
  {
   "cell_type": "code",
   "execution_count": 1,
   "metadata": {},
   "outputs": [
    {
     "name": "stdout",
     "output_type": "stream",
     "text": [
      "Collecting flask\n",
      "  Downloading flask-3.1.1-py3-none-any.whl (103 kB)\n",
      "                                              0.0/103.3 kB ? eta -:--:--\n",
      "     -------------------------------------  102.4/103.3 kB 6.1 MB/s eta 0:00:01\n",
      "     -------------------------------------- 103.3/103.3 kB 1.5 MB/s eta 0:00:00\n",
      "Collecting blinker>=1.9.0 (from flask)\n",
      "  Downloading blinker-1.9.0-py3-none-any.whl (8.5 kB)\n",
      "Collecting click>=8.1.3 (from flask)\n",
      "  Downloading click-8.2.1-py3-none-any.whl (102 kB)\n",
      "                                              0.0/102.2 kB ? eta -:--:--\n",
      "     -------------------------------------- 102.2/102.2 kB 3.0 MB/s eta 0:00:00\n",
      "Collecting itsdangerous>=2.2.0 (from flask)\n",
      "  Downloading itsdangerous-2.2.0-py3-none-any.whl (16 kB)\n",
      "Collecting jinja2>=3.1.2 (from flask)\n",
      "  Downloading jinja2-3.1.6-py3-none-any.whl (134 kB)\n",
      "                                              0.0/134.9 kB ? eta -:--:--\n",
      "     -------------------------------------- 134.9/134.9 kB 7.8 MB/s eta 0:00:00\n",
      "Collecting markupsafe>=2.1.1 (from flask)\n",
      "  Downloading MarkupSafe-3.0.2-cp311-cp311-win_amd64.whl (15 kB)\n",
      "Collecting werkzeug>=3.1.0 (from flask)\n",
      "  Downloading werkzeug-3.1.3-py3-none-any.whl (224 kB)\n",
      "                                              0.0/224.5 kB ? eta -:--:--\n",
      "     --------------------------------       194.6/224.5 kB 4.0 MB/s eta 0:00:01\n",
      "     -------------------------------------- 224.5/224.5 kB 3.5 MB/s eta 0:00:00\n",
      "Requirement already satisfied: colorama in c:\\users\\fraro\\appdata\\roaming\\python\\python311\\site-packages (from click>=8.1.3->flask) (0.4.6)\n",
      "Installing collected packages: markupsafe, itsdangerous, click, blinker, werkzeug, jinja2, flask\n",
      "Successfully installed blinker-1.9.0 click-8.2.1 flask-3.1.1 itsdangerous-2.2.0 jinja2-3.1.6 markupsafe-3.0.2 werkzeug-3.1.3\n",
      "Note: you may need to restart the kernel to use updated packages.\n"
     ]
    },
    {
     "name": "stderr",
     "output_type": "stream",
     "text": [
      "\n",
      "[notice] A new release of pip is available: 23.1.2 -> 25.2\n",
      "[notice] To update, run: python.exe -m pip install --upgrade pip\n"
     ]
    }
   ],
   "source": [
    "pip install flask"
   ]
  },
  {
   "cell_type": "code",
   "execution_count": 1,
   "metadata": {},
   "outputs": [
    {
     "name": "stdout",
     "output_type": "stream",
     "text": [
      " * Serving Flask app '__main__'\n",
      " * Debug mode: off\n"
     ]
    },
    {
     "name": "stderr",
     "output_type": "stream",
     "text": [
      "WARNING: This is a development server. Do not use it in a production deployment. Use a production WSGI server instead.\n",
      " * Running on http://127.0.0.1:5000\n",
      "Press CTRL+C to quit\n",
      "127.0.0.1 - - [28/Mar/2024 21:53:13] \"GET / HTTP/1.1\" 200 -\n",
      "127.0.0.1 - - [28/Mar/2024 21:53:13] \"GET /favicon.ico HTTP/1.1\" 404 -\n",
      "127.0.0.1 - - [28/Mar/2024 21:54:03] \"GET / HTTP/1.1\" 200 -\n",
      "127.0.0.1 - - [28/Mar/2024 21:54:03] \"GET / HTTP/1.1\" 200 -\n",
      "127.0.0.1 - - [28/Mar/2024 21:54:04] \"GET /favicon.ico HTTP/1.1\" 404 -\n",
      "127.0.0.1 - - [28/Mar/2024 21:55:37] \"GET / HTTP/1.1\" 200 -\n",
      "127.0.0.1 - - [28/Mar/2024 21:55:38] \"GET /favicon.ico HTTP/1.1\" 404 -\n"
     ]
    }
   ],
   "source": [
    "from flask import Flask\n",
    "\n",
    "app = Flask(__name__) # Cria o site\n",
    "\n",
    "@app.route(\"/\") # Decorater \n",
    "def hello_world(): # Função\n",
    "    return \"<p>Hello, World!</p>\"\n",
    "\n",
    "@app.route(\"/api/clientes\") # Decorater \n",
    "def api_clientes(): # Função\n",
    "    return \"<p>Insumos Clientes</p>\"\n",
    "\n",
    "app.run() # Põe o site no ar"
   ]
  }
 ],
 "metadata": {
  "kernelspec": {
   "display_name": "Python 3",
   "language": "python",
   "name": "python3"
  },
  "language_info": {
   "codemirror_mode": {
    "name": "ipython",
    "version": 3
   },
   "file_extension": ".py",
   "mimetype": "text/x-python",
   "name": "python",
   "nbconvert_exporter": "python",
   "pygments_lexer": "ipython3",
   "version": "3.11.4"
  }
 },
 "nbformat": 4,
 "nbformat_minor": 2
}
