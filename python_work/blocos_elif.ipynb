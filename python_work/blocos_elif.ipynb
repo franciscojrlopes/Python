{
 "cells": [
  {
   "cell_type": "markdown",
   "metadata": {},
   "source": [
    "Podemos usar quantos blocos elif quisermo no nosso código. Por eemplo se o parque de diversões implementasse um desconto para idosos, poderíamos adicionar mais um teste condiional ao código para determinarmos se alguém  "
   ]
  },
  {
   "cell_type": "code",
   "execution_count": 3,
   "metadata": {},
   "outputs": [
    {
     "name": "stdout",
     "output_type": "stream",
     "text": [
      "Sua entrada custa R$ 25.\n"
     ]
    }
   ],
   "source": [
    "idade = 12\n",
    "if idade < 4:\n",
    "    preço = 0   \n",
    "elif idade < 18:\n",
    "    preço = 25\n",
    "elif idade < 65:\n",
    "    preço = 40\n",
    "else:\n",
    "    preço = 20\n",
    "print(f'Sua entrada custa R$ {preço}.')\n",
    "   "
   ]
  },
  {
   "cell_type": "code",
   "execution_count": 6,
   "metadata": {},
   "outputs": [
    {
     "name": "stdout",
     "output_type": "stream",
     "text": [
      "Sua entrada custa R$ 25.\n"
     ]
    }
   ],
   "source": [
    "idade = 12\n",
    "if idade < 4:\n",
    "    preço = 0   \n",
    "elif idade < 18:\n",
    "    preço = 25\n",
    "elif idade < 65:\n",
    "    preço = 40\n",
    "elif idade >= 65:\n",
    "    preço = 20\n",
    "\n",
    "print(f'Sua entrada custa R$ {preço}.')"
   ]
  }
 ],
 "metadata": {
  "kernelspec": {
   "display_name": ".venv",
   "language": "python",
   "name": "python3"
  },
  "language_info": {
   "codemirror_mode": {
    "name": "ipython",
    "version": 3
   },
   "file_extension": ".py",
   "mimetype": "text/x-python",
   "name": "python",
   "nbconvert_exporter": "python",
   "pygments_lexer": "ipython3",
   "version": "3.11.4"
  }
 },
 "nbformat": 4,
 "nbformat_minor": 2
}
