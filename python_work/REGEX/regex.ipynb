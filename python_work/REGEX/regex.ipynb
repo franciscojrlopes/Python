{
 "cells": [
  {
   "cell_type": "markdown",
   "metadata": {},
   "source": [
    "REGEX\n",
    "\n",
    "Operadores\n",
    "  \n",
    "        [] – conjunto de  caracteres;\n",
    "        \\\\ – sequência especial de caracteres;\n",
    "        ^ – buscar elementos no início da string;\n",
    "        $ – buscar elementos no final da string;\n",
    "        * – buscar zero ou mais repetições de uma substring;\n",
    "        + – uma ou mais aparições de uma substring;\n",
    "        ? – zero ou uma aparição;\n",
    "        | – busca um caractere ou outro;\n",
    "        {} - quantidade específica de caracteres;\n",
    "        [^] - diferente de um caractere especificado logo após o ^;\n",
    "        () - apenas para agrupar regras e definir ordem de aplicação (igual matemática).\n",
    " \n",
    "Especificando caracteres:\n",
    "        . - qualquer caractere;\n",
    "        \\d - qualquer dígito;\n",
    "        \\D - não é dígito;\n",
    "        \\w - qualquer alfanumérico;\n",
    "        \\W - não é alfanumérico;\n",
    "        \\s - espaço em branco;\n",
    "        \\S - não é espaço em branco.\n",
    " \n",
    "  obs: lembre de usar a string como raw string\n",
    "   \n",
    "Funções\n",
    "Lembre sempre de importar a biblioteca re\n",
    "\n",
    "re.compile('padrao_regex') -> compilar um padrão regex\n",
    "  - re.search(padrao_compilado, texto) -> procura uma ocorrência do padrão no texto (re.match só procura na 1ª linha do texto)\n",
    "  - re.findall(padrao_compilado, texto) -> encontra todas as ocorrencias do padrão em um texto - armazena em uma lista\n",
    "  - re.finditer(padrao_compilado, texto) -> encontra todas as ocorrencias e armazena em um iterador"
   ]
  },
  {
   "cell_type": "code",
   "execution_count": 2,
   "metadata": {},
   "outputs": [],
   "source": [
    "texto = '''\n",
    "\n",
    "    Bom dia,\n",
    "    \n",
    "    Seguem os orçamentos solicitados:\n",
    "  \n",
    "   \n",
    "    Cerveja importada (330 ml) - R$12,30 - bebida\n",
    "    Cerveja nacional (0,5 litros) - R$6,10 - bebida\n",
    "    Garrafa de vinho (750ml) - R$39,90 - bebida\n",
    "    Água (garrafa de 1,5 litros) - R$3,30 - bebida\n",
    "    Alface (1 unidade) - R$3,50 - comida\n",
    "    Cebolas (1kg) - R$5,10 - comida\n",
    "    Batatas (1 kg) - R$5,20 - comida\n",
    "    Tomates (1 kg) - R$7,90 - comida\n",
    "    Laranjas (1 kg) - R$4,70 - comida\n",
    "    Bananas (1kg) - R$5,50 - comida\n",
    "    Maçãs (1 kg) - R$8,30 - comida\n",
    "    Queijo fresco (1 kg) - R$42,90 - comida\n",
    "    Uma dúzia de ovos(12) - R$9,80 - comida\n",
    "    Arroz (1 kg) - R$5,70 - comida\n",
    "    Um quilo de pão (1 kg) - R$7,20 - comida\n",
    "    Leite (1 litro) - R$5,20 - bebida\n",
    "    Azeite (1 unidade) - R$20 - tempero\n",
    "    Pimenta Reino (20g) - R$5 - tempero\n",
    "   \n",
    "    Favor informar as quantidades desejadas \n",
    "    para emissão da Nota Fiscal.\n",
    " \n",
    "    At.te, '''\n"
   ]
  },
  {
   "cell_type": "code",
   "execution_count": 3,
   "metadata": {},
   "outputs": [
    {
     "name": "stdout",
     "output_type": "stream",
     "text": [
      "['comida', 'comida', 'comida', 'comida', 'comida', 'comida', 'comida', 'comida', 'comida', 'comida', 'comida']\n"
     ]
    }
   ],
   "source": [
    "import re \n",
    "\n",
    "# Quantas Comidas:\n",
    "padrao = re.compile('comida')\n",
    "resultado = re.findall( padrao, texto)\n",
    "print(resultado)"
   ]
  },
  {
   "cell_type": "code",
   "execution_count": 4,
   "metadata": {},
   "outputs": [
    {
     "name": "stdout",
     "output_type": "stream",
     "text": [
      "11\n"
     ]
    }
   ],
   "source": [
    "padrao = re.compile('comida')\n",
    "resultado = re.findall( padrao, texto)\n",
    "print(len(resultado))"
   ]
  },
  {
   "cell_type": "code",
   "execution_count": 5,
   "metadata": {},
   "outputs": [
    {
     "name": "stdout",
     "output_type": "stream",
     "text": [
      "5\n"
     ]
    }
   ],
   "source": [
    "# Quantas bebidas:\n",
    "\n",
    "padrao = re.compile('bebida')\n",
    "resultado = re.findall( padrao, texto)\n",
    "print(len(resultado))"
   ]
  },
  {
   "cell_type": "code",
   "execution_count": 6,
   "metadata": {},
   "outputs": [
    {
     "name": "stdout",
     "output_type": "stream",
     "text": [
      "18\n"
     ]
    }
   ],
   "source": [
    "# Quantos itens:\n",
    "\n",
    "padrao = re.compile('\\$')\n",
    "resultado = re.findall(padrao, texto)\n",
    "print(len(resultado))\n"
   ]
  },
  {
   "cell_type": "code",
   "execution_count": 7,
   "metadata": {},
   "outputs": [
    {
     "name": "stdout",
     "output_type": "stream",
     "text": [
      "['3', '3', '0', '1', '2', '3', '0', '0', '5', '6', '1', '0', '7', '5', '0', '3', '9', '9', '0', '1', '5', '3', '3', '0', '1', '3', '5', '0', '1', '5', '1', '0', '1', '5', '2', '0', '1', '7', '9', '0', '1', '4', '7', '0', '1', '5', '5', '0', '1', '8', '3', '0', '1', '4', '2', '9', '0', '1', '2', '9', '8', '0', '1', '5', '7', '0', '1', '7', '2', '0', '1', '5', '2', '0', '1', '2', '0', '2', '0', '5']\n"
     ]
    }
   ],
   "source": [
    "# Examinar números:\n",
    "padrao = re.compile(r'\\d')\n",
    "resultado = re.findall(padrao, texto)\n",
    "print(resultado)\n"
   ]
  },
  {
   "cell_type": "code",
   "execution_count": 8,
   "metadata": {},
   "outputs": [
    {
     "name": "stdout",
     "output_type": "stream",
     "text": [
      "['33', '12', '30', '10', '75', '39', '90', '30', '50', '10', '20', '90', '70', '50', '30', '42', '90', '12', '80', '70', '20', '20', '20', '20']\n"
     ]
    }
   ],
   "source": [
    "padrao = re.compile(r'\\d\\d')\n",
    "resultado = re.findall(padrao, texto)\n",
    "print(resultado)"
   ]
  },
  {
   "cell_type": "code",
   "execution_count": 9,
   "metadata": {},
   "outputs": [
    {
     "name": "stdout",
     "output_type": "stream",
     "text": [
      "80\n"
     ]
    }
   ],
   "source": [
    "padrao = re.compile(r'\\d')\n",
    "resultado = re.findall(padrao, texto)\n",
    "print(len(resultado))"
   ]
  },
  {
   "cell_type": "code",
   "execution_count": 10,
   "metadata": {},
   "outputs": [
    {
     "name": "stdout",
     "output_type": "stream",
     "text": [
      "36\n"
     ]
    }
   ],
   "source": [
    "padrao = re.compile(r'.-')\n",
    "resultado = re.findall(padrao, texto)\n",
    "print(len(resultado))"
   ]
  },
  {
   "cell_type": "code",
   "execution_count": 11,
   "metadata": {},
   "outputs": [
    {
     "name": "stdout",
     "output_type": "stream",
     "text": [
      "['330', '12', '30', '0', '5', '6', '10', '750', '39', '90', '1', '5', '3', '30', '1', '3', '50', '1', '5', '10', '1', '5', '20', '1', '7', '90', '1', '4', '70', '1', '5', '50', '1', '8', '30', '1', '42', '90', '12', '9', '80', '1', '5', '70', '1', '7', '20', '1', '5', '20', '1', '20', '20', '5']\n"
     ]
    }
   ],
   "source": [
    "# Todos os números:\n",
    "padrao = re.compile(r'\\d+')\n",
    "resultado = re.findall(padrao, texto)\n",
    "print(resultado)"
   ]
  },
  {
   "cell_type": "code",
   "execution_count": 12,
   "metadata": {},
   "outputs": [
    {
     "name": "stdout",
     "output_type": "stream",
     "text": [
      "['12,30', '0,5', '6,10', '39,90', '1,5', '3,30', '3,50', '5,10', '5,20', '7,90', '4,70', '5,50', '8,30', '42,90', '9,80', '5,70', '7,20', '5,20']\n"
     ]
    }
   ],
   "source": [
    "padrao = re.compile(r'\\d+,\\d+')\n",
    "resultado = re.findall(padrao, texto)\n",
    "print(resultado)"
   ]
  },
  {
   "cell_type": "code",
   "execution_count": 14,
   "metadata": {},
   "outputs": [
    {
     "name": "stdout",
     "output_type": "stream",
     "text": [
      "['330', '12,30', '0,5', '6,10', '750', '39,90', '1,5', '3,30', '3,50', '5,10', '5,20', '7,90', '4,70', '5,50', '8,30', '42,90', '12', '9,80', '5,70', '7,20', '5,20', '20', '20']\n"
     ]
    }
   ],
   "source": [
    "padrao = re.compile(r'\\d+,?\\d+')\n",
    "resultado = re.findall(padrao, texto)\n",
    "print(resultado)"
   ]
  },
  {
   "cell_type": "code",
   "execution_count": 15,
   "metadata": {},
   "outputs": [
    {
     "name": "stdout",
     "output_type": "stream",
     "text": [
      "['330', '12,30', '0,5', '6,10', '750', '39,90', '1,5', '3,30', '1', '3,50', '1', '5,10', '1', '5,20', '1', '7,90', '1', '4,70', '1', '5,50', '1', '8,30', '1', '42,90', '12', '9,80', '1', '5,70', '1', '7,20', '1', '5,20', '1', '20', '20', '5']\n"
     ]
    }
   ],
   "source": [
    "# Lista todos os números com dígitos e sem dígitos:\n",
    "\n",
    "padrao = re.compile(r'\\d+,?\\d*')\n",
    "resultado = re.findall(padrao, texto)\n",
    "print(resultado)"
   ]
  },
  {
   "cell_type": "code",
   "execution_count": 22,
   "metadata": {},
   "outputs": [
    {
     "name": "stdout",
     "output_type": "stream",
     "text": [
      "<re.Match object; span=(87, 95), match='(330 ml)'>\n",
      "<re.Match object; span=(87, 95), match='(330 ml)'>\n"
     ]
    }
   ],
   "source": [
    "# Extrair a quantidade de do primeiro item: search\n",
    "\n",
    "padrao = re.compile(r'\\(.+\\)')\n",
    "resultado = re.search(padrao, texto)\n",
    "print(resultado)\n",
    "\n",
    "# Extrair a quantidade de do primeiro item: search 2\n",
    "\n",
    "padrao = re.compile(r'\\(\\d+\\s\\w+\\)')\n",
    "resultado = re.search(padrao, texto)\n",
    "print(resultado)\n"
   ]
  },
  {
   "cell_type": "code",
   "execution_count": 27,
   "metadata": {},
   "outputs": [
    {
     "name": "stdout",
     "output_type": "stream",
     "text": [
      "<re.Match object; span=(98, 105), match='R$12,30'>\n",
      "R$12,30\n"
     ]
    }
   ],
   "source": [
    "# Preço do primeiro número:\n",
    "\n",
    "# Extrair a quantidade de do primeiro item: search\n",
    "\n",
    "padrao = re.compile(r'R\\$\\d+,\\d+')\n",
    "resultado = re.search(padrao, texto)\n",
    "print(resultado)\n",
    "print(texto[98:105])"
   ]
  },
  {
   "cell_type": "code",
   "execution_count": 28,
   "metadata": {},
   "outputs": [
    {
     "name": "stdout",
     "output_type": "stream",
     "text": [
      "<re.Match object; span=(98, 105), match='R$12,30'>\n",
      "R$12,30\n"
     ]
    }
   ],
   "source": [
    "padrao = re.compile(r'R\\$\\d+,\\d+')\n",
    "resultado = re.search(padrao, texto)\n",
    "print(resultado)\n",
    "print(resultado.group(0))"
   ]
  },
  {
   "cell_type": "code",
   "execution_count": 31,
   "metadata": {},
   "outputs": [
    {
     "name": "stdout",
     "output_type": "stream",
     "text": [
      "['R$12,30', 'R$6,10', 'R$39,90', 'R$3,30', 'R$3,50', 'R$5,10', 'R$5,20', 'R$7,90', 'R$4,70', 'R$5,50', 'R$8,30', 'R$42,90', 'R$9,80', 'R$5,70', 'R$7,20', 'R$5,20', 'R$20', 'R$5']\n"
     ]
    }
   ],
   "source": [
    "# Todos os preços:\n",
    "\n",
    "padrao = re.compile(r'R\\$\\d+,?\\d*')\n",
    "resultado = re.findall(padrao, texto)\n",
    "print(resultado)\n",
    "\n"
   ]
  },
  {
   "cell_type": "code",
   "execution_count": 32,
   "metadata": {},
   "outputs": [
    {
     "name": "stdout",
     "output_type": "stream",
     "text": [
      "['R$12,', 'R$6,', 'R$39,', 'R$3,', 'R$3,', 'R$5,', 'R$5,', 'R$7,', 'R$4,', 'R$5,', 'R$8,', 'R$42,', 'R$9,', 'R$5,', 'R$7,', 'R$5,', 'R$20', 'R$5']\n"
     ]
    }
   ],
   "source": [
    "padrao = re.compile(r'R\\$\\d+,?\\d{0}')\n",
    "resultado = re.findall(padrao, texto)\n",
    "print(resultado)"
   ]
  },
  {
   "cell_type": "code",
   "execution_count": 34,
   "metadata": {},
   "outputs": [
    {
     "name": "stdout",
     "output_type": "stream",
     "text": [
      "['R$12,30', 'R$6,10', 'R$39,90', 'R$3,30', 'R$3,50', 'R$5,10', 'R$5,20', 'R$7,90', 'R$4,70', 'R$5,50', 'R$8,30', 'R$42,90', 'R$9,80', 'R$5,70', 'R$7,20', 'R$5,20', 'R$20', 'R$5']\n"
     ]
    }
   ],
   "source": [
    "padrao = re.compile(r'R\\$\\d+,?\\d{0,3}')\n",
    "resultado = re.findall(padrao, texto)\n",
    "print(resultado)"
   ]
  },
  {
   "cell_type": "code",
   "execution_count": 46,
   "metadata": {},
   "outputs": [
    {
     "name": "stdout",
     "output_type": "stream",
     "text": [
      "['330 ml', '0,5 litros', '750ml', 'garrafa de 1,5 litros', '1 unidade', '1kg', '1 kg', '1 kg', '1 kg', '1kg', '1 kg', '1 kg', '12', '1 kg', '1 kg', '1 litro', '1 unidade', '20g']\n"
     ]
    }
   ],
   "source": [
    "# Quantidade dos Itens:\n",
    "\n",
    "padrao = re.compile(r'\\((.+)\\)')\n",
    "resultado = re.findall(padrao, texto)\n",
    "print(resultado)"
   ]
  },
  {
   "cell_type": "code",
   "execution_count": 49,
   "metadata": {},
   "outputs": [
    {
     "name": "stdout",
     "output_type": "stream",
     "text": [
      "['https://portalhashtag.com\\n', 'http://hashtagtreinamentos.com\\n', 'https://www.wikipedia.org\\n', 'https://www.bcb.gov.br\\n']\n",
      "<callable_iterator object at 0x0000021BA3B02A10>\n"
     ]
    }
   ],
   "source": [
    "texto_2 = '''\n",
    "\n",
    "Bom dia,\n",
    "\n",
    "    Segue o relatório de SEO dos seguintes sites:\n",
    "\n",
    "    https://portalhashtag.com\n",
    "    http://hashtagtreinamentos.com\n",
    "    https://www.wikipedia.org\n",
    "    https://www.bcb.gov.br\n",
    "\n",
    "Qualquer dúvida estamos à disposição.\n",
    "\n",
    "'''\n",
    "\n",
    "padrao = re.compile(r'http.+\\s')\n",
    "resultado1 = re.findall(padrao, texto_2)\n",
    "resultado2 = re.finditer(padrao, texto_2)\n",
    "print(resultado1)\n",
    "print(resultado2)"
   ]
  },
  {
   "cell_type": "code",
   "execution_count": 59,
   "metadata": {},
   "outputs": [
    {
     "name": "stdout",
     "output_type": "stream",
     "text": [
      "[('https://', '', 'com'), ('http://', '', 'com'), ('https://', 'www.', 'org'), ('', 'www.', 'gov.br')]\n",
      "<re.Match object; span=(67, 92), match='https://portalhashtag.com'>\n",
      "<re.Match object; span=(97, 127), match='http://hashtagtreinamentos.com'>\n",
      "<re.Match object; span=(132, 157), match='https://www.wikipedia.org'>\n",
      "<re.Match object; span=(162, 176), match='www.bcb.gov.br'>\n"
     ]
    }
   ],
   "source": [
    "texto_3 = '''\n",
    "\n",
    "Bom dia,\n",
    "\n",
    "    Segue o relatório de SEO dos seguintes sites:\n",
    "\n",
    "    https://portalhashtag.com\n",
    "    http://hashtagtreinamentos.com\n",
    "    https://www.wikipedia.org\n",
    "    www.bcb.gov.br\n",
    "\n",
    "Qualquer dúvida estamos à disposição.\n",
    "\n",
    "'''\n",
    "\n",
    "padrao = re.compile(r'(https?://)?(www.)?\\w+.(com.br|com|org|gov.br)')\n",
    "resultado1 = re.findall(padrao, texto_3)\n",
    "resultado2 = re.finditer(padrao, texto_3)\n",
    "print(resultado1)\n",
    "for item in resultado2:\n",
    "    print(item)"
   ]
  }
 ],
 "metadata": {
  "kernelspec": {
   "display_name": ".venv",
   "language": "python",
   "name": "python3"
  },
  "language_info": {
   "codemirror_mode": {
    "name": "ipython",
    "version": 3
   },
   "file_extension": ".py",
   "mimetype": "text/x-python",
   "name": "python",
   "nbconvert_exporter": "python",
   "pygments_lexer": "ipython3",
   "version": "3.11.4"
  }
 },
 "nbformat": 4,
 "nbformat_minor": 2
}
