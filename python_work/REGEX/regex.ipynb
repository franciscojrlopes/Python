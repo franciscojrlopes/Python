{
 "cells": [
  {
   "cell_type": "markdown",
   "metadata": {},
   "source": [
    "## Operadores\\n\",\n",
    "    \"\\n\",\n",
    "    \"    [] – conjunto de  caracteres;\\n\",\n",
    "    \"    \\\\ – sequência especial de caracteres;\\n\",\n",
    "    \"    ^ – buscar elementos no início da string;\\n\",\n",
    "    \"    $ – buscar elementos no final da string;\\n\",\n",
    "    \"    * – buscar zero ou mais repetições de uma substring;\\n\",\n",
    "    \"    + – uma ou mais aparições de uma substring;\\n\",\n",
    "    \"    ? – zero ou uma aparição;\\n\",\n",
    "    \"    | – busca um caractere ou outro.\\n\",\n",
    "    \"    {} - quantidade específica de caracteres\\n\",\n",
    "    \"    [^] - diferente de um caractere especificado logo após o ^\\n\",\n",
    "    \"    () - apenas para agrupar regras e definir ordem de aplicação (igual matemática)\\n\",\n",
    "    \"\\n\",\n",
    "    \"### Especificando caracteres:\\n\",\n",
    "    \"    . - qualquer caractere\\n\",\n",
    "    \"    \\\\d - qualquer dígito\\n\",\n",
    "    \"    \\\\D - não é dígito\\n\",\n",
    "    \"    \\\\w - qualquer alfanumérico\\n\",\n",
    "    \"    \\\\W - não é alfanumérico\\n\",\n",
    "    \"    \\\\s - espaço em branco\\n\",\n",
    "    \"    \\\\S - não é espaço em branco\\n\",\n",
    "    \"\\n\",\n",
    "    \"#### obs: lembre de usar a string como raw string\\n\",\n",
    "    \"\\n\",\n",
    "    \"### Funções\\n\",\n",
    "    \"#### Lembre sempre de importar a biblioteca re\\n\",\n",
    "\n",
    "\n",
    "\n",
    "re.compile('padrao_regex') -> compilar um padrão regex\\n\",\n",
    "    \"- re.search(padrao_compilado, texto) -> procura uma ocorrência do padrão no texto (re.match só procura na 1ª linha do texto)\\n\",\n",
    "    \"- re.findall(padrao_compilado, texto) -> encontra todas as ocorrencias do padrão em um texto - armazena em uma lista\\n\",\n",
    "    \"- re.finditer(padrao_compilado, texto) -> encontra todas as ocorrencias e armazena em um iterador"
   ]
  },
  {
   "cell_type": "code",
   "execution_count": 3,
   "metadata": {},
   "outputs": [],
   "source": [
    " texto = '''\n",
    "\n",
    "    Bom dia,\n",
    "    \n",
    "    Seguem os orçamentos solicitados:\n",
    "  \n",
    "   \n",
    "    Cerveja importada (330 ml) - R$12,30598615178 - bebida\n",
    "    Cerveja nacional (0,5 litros) - R$6,10 - bebida\n",
    "    Garrafa de vinho (750ml) - R$39,90 - bebida\n",
    "    Água (garrafa de 1,5 litros) - R$3,30 - bebida\n",
    "    Alface (1 unidade) - R$3,50 - comida\n",
    "    Cebolas (1kg) - R$5,10 - comida\n",
    "    Batatas (1 kg) - R$5,20 - comida\n",
    "    Tomates (1 kg) - R$7,90 - comida\n",
    "    Laranjas (1 kg) - R$4,70 - comida\n",
    "    Bananas (1kg) - R$5,50 - comida\n",
    "    Maçãs (1 kg) - R$8,30 - comida\n",
    "    Queijo fresco (1 kg) - R$42,90 - comida\n",
    "    Uma dúzia de ovos(12) - R$9,80 - comida\n",
    "    Arroz (1 kg) - R$5,70 - comida\n",
    "    Um quilo de pão (1 kg) - R$7,20 - comida\n",
    "    Leite (1 litro) - R$5,20 - bebida\n",
    "    Azeite (1 unidade) - R$20 - tempero\n",
    "    Pimenta Reino (20g) - R$5 - tempero\n",
    "   \n",
    "    Favor informar as quantidades desejadas \n",
    "    para emissão da Nota Fiscal.\n",
    " \n",
    "    At.te, '''\n"
   ]
  },
  {
   "cell_type": "code",
   "execution_count": 5,
   "metadata": {},
   "outputs": [
    {
     "name": "stdout",
     "output_type": "stream",
     "text": [
      "['comida', 'comida', 'comida', 'comida', 'comida', 'comida', 'comida', 'comida', 'comida', 'comida', 'comida']\n"
     ]
    }
   ],
   "source": [
    "import re \n",
    "\n",
    "# Quantas Comidas:\n",
    "padrao = re.compile('comida')\n",
    "resultado = re.findall( padrao, texto)\n",
    "print(resultado)"
   ]
  },
  {
   "cell_type": "code",
   "execution_count": 6,
   "metadata": {},
   "outputs": [
    {
     "name": "stdout",
     "output_type": "stream",
     "text": [
      "11\n"
     ]
    }
   ],
   "source": [
    "padrao = re.compile('comida')\n",
    "resultado = re.findall( padrao, texto)\n",
    "print(len(resultado))"
   ]
  },
  {
   "cell_type": "code",
   "execution_count": 7,
   "metadata": {},
   "outputs": [
    {
     "name": "stdout",
     "output_type": "stream",
     "text": [
      "5\n"
     ]
    }
   ],
   "source": [
    "# Quantas bebidas:\n",
    "\n",
    "padrao = re.compile('bebida')\n",
    "resultado = re.findall( padrao, texto)\n",
    "print(len(resultado))"
   ]
  },
  {
   "cell_type": "code",
   "execution_count": 9,
   "metadata": {},
   "outputs": [
    {
     "name": "stdout",
     "output_type": "stream",
     "text": [
      "18\n"
     ]
    }
   ],
   "source": [
    "# Quantos itens:\n",
    "\n",
    "padrao = re.compile('\\$')\n",
    "resultado = re.findall(padrao, texto)\n",
    "print(len(resultado))\n"
   ]
  },
  {
   "cell_type": "code",
   "execution_count": null,
   "metadata": {},
   "outputs": [],
   "source": []
  }
 ],
 "metadata": {
  "kernelspec": {
   "display_name": ".venv",
   "language": "python",
   "name": "python3"
  },
  "language_info": {
   "codemirror_mode": {
    "name": "ipython",
    "version": 3
   },
   "file_extension": ".py",
   "mimetype": "text/x-python",
   "name": "python",
   "nbconvert_exporter": "python",
   "pygments_lexer": "ipython3",
   "version": "3.11.4"
  }
 },
 "nbformat": 4,
 "nbformat_minor": 2
}
