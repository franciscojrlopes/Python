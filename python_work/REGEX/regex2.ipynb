{
 "cells": [
  {
   "cell_type": "code",
   "execution_count": 7,
   "metadata": {},
   "outputs": [
    {
     "name": "stdout",
     "output_type": "stream",
     "text": [
      "['Nome: Francisco Idade: 54 Salário: R$ 5.500,00']\n"
     ]
    }
   ],
   "source": [
    "import re\n",
    "novo_texto = 'Nome: Francisco Idade: 54 Salário: R$ 5.500,00'\n",
    "padrao = re.compile(r'.+')\n",
    "resultado = re.findall(padrao, novo_texto)\n",
    "print(resultado)\n"
   ]
  },
  {
   "cell_type": "code",
   "execution_count": 11,
   "metadata": {},
   "outputs": [
    {
     "name": "stdout",
     "output_type": "stream",
     "text": [
      "['Nome:', 'Idade:', 'Salário:']\n"
     ]
    }
   ],
   "source": [
    "# Listar apenas nome, idade e salário:\n",
    "\n",
    "novo_texto = 'Nome: Francisco Idade: 54 Salário: R$ 5.500,00'\n",
    "padrao = re.compile(r'\\w+:')\n",
    "resultado = re.findall(padrao, novo_texto)\n",
    "print(resultado)"
   ]
  },
  {
   "cell_type": "code",
   "execution_count": 12,
   "metadata": {},
   "outputs": [
    {
     "name": "stdout",
     "output_type": "stream",
     "text": [
      "['Nome', 'Idade', 'Salário']\n"
     ]
    }
   ],
   "source": [
    "# Listar sem os dois pontos:\n",
    "\n",
    "novo_texto = 'Nome: Francisco Idade: 54 Salário: R$ 5.500,00'\n",
    "padrao = re.compile(r'(\\w+):')\n",
    "resultado = re.findall(padrao, novo_texto)\n",
    "print(resultado)"
   ]
  },
  {
   "cell_type": "code",
   "execution_count": null,
   "metadata": {},
   "outputs": [],
   "source": []
  }
 ],
 "metadata": {
  "kernelspec": {
   "display_name": ".venv",
   "language": "python",
   "name": "python3"
  },
  "language_info": {
   "codemirror_mode": {
    "name": "ipython",
    "version": 3
   },
   "file_extension": ".py",
   "mimetype": "text/x-python",
   "name": "python",
   "nbconvert_exporter": "python",
   "pygments_lexer": "ipython3",
   "version": "3.11.4"
  }
 },
 "nbformat": 4,
 "nbformat_minor": 2
}
