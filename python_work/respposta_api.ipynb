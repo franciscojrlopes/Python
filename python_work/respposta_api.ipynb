{
 "cells": [
  {
   "cell_type": "code",
   "execution_count": 1,
   "metadata": {},
   "outputs": [
    {
     "name": "stdout",
     "output_type": "stream",
     "text": [
      "Status code: 200\n"
     ]
    }
   ],
   "source": [
    "import requests\n",
    "url = 'http://api.github.com/search/repositories'\n",
    "url+= '?q=language:python+sort:stars+stars:>10000'\n",
    "\n",
    "headers = {'Accept': 'appliction/vnd.github+v3.json'} \n",
    "r = requests.get(url, headers=headers)\n",
    "print(f'Status code: {r.status_code}')"
   ]
  },
  {
   "cell_type": "code",
   "execution_count": 29,
   "metadata": {},
   "outputs": [
    {
     "name": "stdout",
     "output_type": "stream",
     "text": [
      "Status code: 200\n",
      "dict_keys(['total_count', 'incomplete_results', 'items'])\n"
     ]
    }
   ],
   "source": [
    "import requests\n",
    "\n",
    "# Cria uma chamada de API e armazna a resposta:\n",
    "\n",
    "url = 'http://api.github.com/search/repositories'\n",
    "url+= '?q=language:python+sort:stars+stars:>10000'\n",
    "\n",
    "headers = {'Accept': 'appliction/vnd.github+v19.json'} \n",
    "r = requests.get(url, headers=headers)\n",
    "print(f'Status code: {r.status_code}')\n",
    "\n",
    "# Converte o objeto de resposta em um dicionário:\n",
    "response_dict = r.json()\n",
    "\n",
    "# Processa os resultados:\n",
    "\n",
    "print(response_dict.keys())\n",
    "\n",
    "# print(f'Total repositories: {response_dict['total_count']}')"
   ]
  },
  {
   "cell_type": "code",
   "execution_count": 7,
   "metadata": {},
   "outputs": [
    {
     "name": "stdout",
     "output_type": "stream",
     "text": [
      "Status code: 200\n",
      "dict_keys(['total_count', 'incomplete_results', 'items'])\n",
      "Total repositories: {451}\n",
      "Copmlete results: {True}\n",
      "Repositories returned: 30\n",
      "\n",
      "keys: {80}\n",
      "allow_forking\n",
      "archive_url\n",
      "archived\n",
      "assignees_url\n",
      "blobs_url\n",
      "branches_url\n",
      "clone_url\n",
      "collaborators_url\n",
      "comments_url\n",
      "commits_url\n",
      "compare_url\n",
      "contents_url\n",
      "contributors_url\n",
      "created_at\n",
      "default_branch\n",
      "deployments_url\n",
      "description\n",
      "disabled\n",
      "downloads_url\n",
      "events_url\n",
      "fork\n",
      "forks\n",
      "forks_count\n",
      "forks_url\n",
      "full_name\n",
      "git_commits_url\n",
      "git_refs_url\n",
      "git_tags_url\n",
      "git_url\n",
      "has_discussions\n",
      "has_downloads\n",
      "has_issues\n",
      "has_pages\n",
      "has_projects\n",
      "has_wiki\n",
      "homepage\n",
      "hooks_url\n",
      "html_url\n",
      "id\n",
      "is_template\n",
      "issue_comment_url\n",
      "issue_events_url\n",
      "issues_url\n",
      "keys_url\n",
      "labels_url\n",
      "language\n",
      "languages_url\n",
      "license\n",
      "merges_url\n",
      "milestones_url\n",
      "mirror_url\n",
      "name\n",
      "node_id\n",
      "notifications_url\n",
      "open_issues\n",
      "open_issues_count\n",
      "owner\n",
      "private\n",
      "pulls_url\n",
      "pushed_at\n",
      "releases_url\n",
      "score\n",
      "size\n",
      "ssh_url\n",
      "stargazers_count\n",
      "stargazers_url\n",
      "statuses_url\n",
      "subscribers_url\n",
      "subscription_url\n",
      "svn_url\n",
      "tags_url\n",
      "teams_url\n",
      "topics\n",
      "trees_url\n",
      "updated_at\n",
      "url\n",
      "visibility\n",
      "watchers\n",
      "watchers_count\n",
      "web_commit_signoff_required\n"
     ]
    }
   ],
   "source": [
    "import requests\n",
    "\n",
    "# Cria uma chamada de API e armazna a resposta:\n",
    "\n",
    "url = 'http://api.github.com/search/repositories'\n",
    "url+= '?q=language:python+sort:stars+stars:>10000'\n",
    "\n",
    "headers = {'Accept': 'appliction/vnd.github+v19.json'} \n",
    "r = requests.get(url, headers=headers)\n",
    "print(f'Status code: {r.status_code}')\n",
    "\n",
    "# Converte o objeto de resposta em um dicionário:\n",
    "response_dict = r.json()\n",
    "\n",
    "# Processa os resultados:\n",
    "\n",
    "print(response_dict.keys())\n",
    "\n",
    "print(f'Total repositories:',{response_dict['total_count']})\n",
    "print(f'Copmlete results:',{not response_dict['incomplete_results']})\n",
    "\n",
    "#Explora informações sobre os repositórios:\n",
    "repo_dicts = response_dict['items']\n",
    "print(f'Repositories returned: {len(repo_dicts)}')\n",
    "\n",
    "# Examina o primeiro repositório:\n",
    "\n",
    "repo_dict = repo_dicts[0]\n",
    "print(f'\\nkeys:', {len(repo_dict)})\n",
    "for key in sorted(repo_dict.keys()):\n",
    "    print(key)\n"
   ]
  }
 ],
 "metadata": {
  "kernelspec": {
   "display_name": ".venv",
   "language": "python",
   "name": "python3"
  },
  "language_info": {
   "codemirror_mode": {
    "name": "ipython",
    "version": 3
   },
   "file_extension": ".py",
   "mimetype": "text/x-python",
   "name": "python",
   "nbconvert_exporter": "python",
   "pygments_lexer": "ipython3",
   "version": "3.11.4"
  }
 },
 "nbformat": 4,
 "nbformat_minor": 2
}
