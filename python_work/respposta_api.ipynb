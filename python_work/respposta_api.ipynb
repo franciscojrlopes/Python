{
 "cells": [
  {
   "cell_type": "code",
   "execution_count": 1,
   "metadata": {},
   "outputs": [
    {
     "name": "stdout",
     "output_type": "stream",
     "text": [
      "Status code: 200\n"
     ]
    }
   ],
   "source": [
    "import requests\n",
    "url = 'http://api.github.com/search/repositories'\n",
    "url+= '?q=language:python+sort:stars+stars:>10000'\n",
    "\n",
    "headers = {'Accept': 'appliction/vnd.github+v3.json'} \n",
    "r = requests.get(url, headers=headers)\n",
    "print(f'Status code: {r.status_code}')"
   ]
  },
  {
   "cell_type": "code",
   "execution_count": 29,
   "metadata": {},
   "outputs": [
    {
     "name": "stdout",
     "output_type": "stream",
     "text": [
      "Status code: 200\n",
      "dict_keys(['total_count', 'incomplete_results', 'items'])\n"
     ]
    }
   ],
   "source": [
    "import requests\n",
    "\n",
    "# Cria uma chamada de API e armazna a resposta:\n",
    "\n",
    "url = 'http://api.github.com/search/repositories'\n",
    "url+= '?q=language:python+sort:stars+stars:>10000'\n",
    "\n",
    "headers = {'Accept': 'appliction/vnd.github+v19.json'} \n",
    "r = requests.get(url, headers=headers)\n",
    "print(f'Status code: {r.status_code}')\n",
    "\n",
    "# Converte o objeto de resposta em um dicionário:\n",
    "response_dict = r.json()\n",
    "\n",
    "# Processa os resultados:\n",
    "\n",
    "print(response_dict.keys())\n",
    "\n",
    "# print(f'Total repositories: {response_dict['total_count']}')"
   ]
  },
  {
   "cell_type": "code",
   "execution_count": 4,
   "metadata": {},
   "outputs": [
    {
     "name": "stdout",
     "output_type": "stream",
     "text": [
      "Status code: 200\n",
      "dict_keys(['total_count', 'incomplete_results', 'items'])\n",
      "Total repositories: {450}\n",
      "Copmlete results: {True}\n",
      "Repositories returned: 30\n"
     ]
    }
   ],
   "source": [
    "import requests\n",
    "\n",
    "# Cria uma chamada de API e armazna a resposta:\n",
    "\n",
    "url = 'http://api.github.com/search/repositories'\n",
    "url+= '?q=language:python+sort:stars+stars:>10000'\n",
    "\n",
    "headers = {'Accept': 'appliction/vnd.github+v19.json'} \n",
    "r = requests.get(url, headers=headers)\n",
    "print(f'Status code: {r.status_code}')\n",
    "\n",
    "# Converte o objeto de resposta em um dicionário:\n",
    "response_dict = r.json()\n",
    "\n",
    "# Processa os resultados:\n",
    "\n",
    "print(response_dict.keys())\n",
    "\n",
    "print(f'Total repositories:',{response_dict['total_count']})\n",
    "print(f'Copmlete results:',{not response_dict['incomplete_results']})\n",
    "\n",
    "repo_dict = response_dict['items']\n",
    "print(f'Repositories returned: {len(repo_dict)}')\n"
   ]
  }
 ],
 "metadata": {
  "kernelspec": {
   "display_name": ".venv",
   "language": "python",
   "name": "python3"
  },
  "language_info": {
   "codemirror_mode": {
    "name": "ipython",
    "version": 3
   },
   "file_extension": ".py",
   "mimetype": "text/x-python",
   "name": "python",
   "nbconvert_exporter": "python",
   "pygments_lexer": "ipython3",
   "version": "3.11.4"
  }
 },
 "nbformat": 4,
 "nbformat_minor": 2
}
