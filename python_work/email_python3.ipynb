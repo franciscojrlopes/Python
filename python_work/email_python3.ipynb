{
 "cells": [
  {
   "cell_type": "code",
   "execution_count": null,
   "metadata": {},
   "outputs": [],
   "source": [
    "import email.mime\n",
    "import email.mime.multipart\n",
    "import smtplib\n",
    "import email.message\n",
    "from email.mime.multipart import MIMEMultipart\n",
    "from email.mime.text import MIMEText\n",
    "from email.mime.application import MIMEApplication\n",
    "\n",
    "def enviar_email():\n",
    "   msg = MIMEMultipart()\n",
    "\n",
    "   msg['Subject'] = 'Email enviado com Python'\n",
    "   msg['From'] = 'devfranlopes@gmail.com '\n",
    "   msg['To'] = 'fralopes@yahoo.com.br ; rebecaabaltazar@gmail.com'\n",
    "   msg['Cc'] = 'devfranlopes+copia@gmail.com' \n",
    "   msg['Cco'] = 'devfranlopes+copia@gmail.com'\n",
    "\n",
    "   link_imagem = ''\n",
    "\n",
    "   corpo_email = f'''<p>Boa tarde!</p> <p>Esse é meu segundo e-mail enviado com Python usando SMTP. </p> <p>At.te,</p> <p>Francisco Lopes</p> <img src= {link_imagem}</img>'''\n",
    "   \n",
    "\n",
    "   corpo_email = corpo_email.encode('utf-8')\n",
    "   \n",
    "   msg.add_header('Content-Type', 'text/html')\n",
    "   msg.set_payload(corpo_email)\n",
    "   # Servidor, informações endereço do servidor e porta de envio \n",
    "   servidor = smtplib.SMTP('smtp.gmail.com', 587)\n",
    "   servidor.starttls()\n",
    "   servidor.login(msg['From'], 'xnys zcfc dqff iyax' )\n",
    "   servidor.send_message(msg)\n",
    "   print('E-mail enviado.')\n",
    "   \n",
    "enviar_email()\n",
    "\n"
   ]
  }
 ],
 "metadata": {
  "kernelspec": {
   "display_name": ".venv",
   "language": "python",
   "name": "python3"
  },
  "language_info": {
   "codemirror_mode": {
    "name": "ipython",
    "version": 3
   },
   "file_extension": ".py",
   "mimetype": "text/x-python",
   "name": "python",
   "nbconvert_exporter": "python",
   "pygments_lexer": "ipython3",
   "version": "3.11.4"
  }
 },
 "nbformat": 4,
 "nbformat_minor": 2
}
