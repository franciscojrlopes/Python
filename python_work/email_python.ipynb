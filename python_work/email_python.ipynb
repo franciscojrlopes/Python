{
 "cells": [
  {
   "cell_type": "code",
   "execution_count": 15,
   "metadata": {},
   "outputs": [],
   "source": [
    "import smtplib\n",
    "import email.message"
   ]
  },
  {
   "cell_type": "code",
   "execution_count": null,
   "metadata": {},
   "outputs": [
    {
     "ename": "ImportError",
     "evalue": "cannot import name 'senha' from 'smail' (c:\\Users\\fraro\\OneDrive\\Documentos\\Estudos\\Python\\python_work\\smail.py)",
     "output_type": "error",
     "traceback": [
      "\u001b[1;31m---------------------------------------------------------------------------\u001b[0m",
      "\u001b[1;31mImportError\u001b[0m                               Traceback (most recent call last)",
      "Cell \u001b[1;32mIn[27], line 3\u001b[0m\n\u001b[0;32m      1\u001b[0m \u001b[38;5;28;01mimport\u001b[39;00m \u001b[38;5;21;01msmtplib\u001b[39;00m\n\u001b[0;32m      2\u001b[0m \u001b[38;5;28;01mimport\u001b[39;00m \u001b[38;5;21;01memail\u001b[39;00m\u001b[38;5;21;01m.\u001b[39;00m\u001b[38;5;21;01mmessage\u001b[39;00m\n\u001b[1;32m----> 3\u001b[0m \u001b[38;5;28;01mfrom\u001b[39;00m \u001b[38;5;21;01msmail\u001b[39;00m \u001b[38;5;28;01mimport\u001b[39;00m senha \n\u001b[0;32m      5\u001b[0m \u001b[38;5;28;01mdef\u001b[39;00m \u001b[38;5;21menviar_email\u001b[39m():\n\u001b[0;32m      6\u001b[0m    msg \u001b[38;5;241m=\u001b[39m email\u001b[38;5;241m.\u001b[39mmessage\u001b[38;5;241m.\u001b[39mMessage()\n",
      "\u001b[1;31mImportError\u001b[0m: cannot import name 'senha' from 'smail' (c:\\Users\\fraro\\OneDrive\\Documentos\\Estudos\\Python\\python_work\\smail.py)"
     ]
    }
   ],
   "source": [
    "import smtplib\n",
    "import email.message\n",
    "\n",
    "\n",
    "def enviar_email():\n",
    "   msg = email.message.Message()\n",
    "\n",
    "   msg['Subject'] = 'Email enviado com Python'\n",
    "   msg['From'] = 'devfranlopes@gmail.com'\n",
    "   msg['To'] = 'fralopes@yahoo.com.br'\n",
    "   msg['Cc'] = 'devfranlopes+copia@gmail.com' \n",
    "   msg['Cco'] = 'rebecaabaltazar@gmail.com'\n",
    "\n",
    "   corpo_email = '<p>Boa tarde!</p> <p>Esse é meu primeiro e-mail enviado com Python usando SMTP. </p> <p>At.te,</p> <p>Francisco Lopes</p>'\n",
    "\n",
    "   corpo_email = corpo_email.encode('utf-8')\n",
    "   \n",
    "   msg.add_header('Contetnt-Type', 'text/html')\n",
    "   msg.set_payload(corpo_email)\n",
    "   # Servidor, informações endereço do servidor e porta de envio \n",
    "   servidor = smtplib.SMTP('smtp@gmail.com', 587)\n",
    "   servidor.starttls()\n",
    "   servidor.login(msg['From'], )\n",
    "   servidor.send_message(msg)\n",
    "   print('E-mail enviado.')\n",
    "enviar_email()\n"
   ]
  }
 ],
 "metadata": {
  "kernelspec": {
   "display_name": ".venv",
   "language": "python",
   "name": "python3"
  },
  "language_info": {
   "codemirror_mode": {
    "name": "ipython",
    "version": 3
   },
   "file_extension": ".py",
   "mimetype": "text/x-python",
   "name": "python",
   "nbconvert_exporter": "python",
   "pygments_lexer": "ipython3",
   "version": "3.11.4"
  }
 },
 "nbformat": 4,
 "nbformat_minor": 2
}
