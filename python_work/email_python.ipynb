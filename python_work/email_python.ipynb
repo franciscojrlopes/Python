{
 "cells": [
  {
   "cell_type": "code",
   "execution_count": 15,
   "metadata": {},
   "outputs": [],
   "source": [
    "import smtplib\n",
    "import email.message"
   ]
  },
  {
   "cell_type": "code",
   "execution_count": null,
   "metadata": {},
   "outputs": [
    {
     "ename": "SyntaxError",
     "evalue": "cannot assign to literal (3251100608.py, line 7)",
     "output_type": "error",
     "traceback": [
      "\u001b[1;36m  Cell \u001b[1;32mIn[17], line 7\u001b[1;36m\u001b[0m\n\u001b[1;33m    msg = ['Subject'] = 'Email enviado com Python'\u001b[0m\n\u001b[1;37m           ^\u001b[0m\n\u001b[1;31mSyntaxError\u001b[0m\u001b[1;31m:\u001b[0m cannot assign to literal\n"
     ]
    }
   ],
   "source": [
    "import smtplib\n",
    "import email.message\n",
    "\n",
    "def enviar_email():\n",
    "   email.message.Message()\n",
    "\n",
    "   msg = ['Subject'] = 'Email enviado com Python'\n",
    "   msg = ['From'] = 'devfranlopes@gmail.com'\n",
    "   msg = ['To'] = 'fralopes@yahoo.com.br'\n",
    "   msg = ['Cc'] = 'devfranlopes+copia@gmail.com' \n",
    "   msg = ['Bcc'] = 'rebecaabaltazar@gmail.com'\n",
    "\n",
    "   corpo_email = '<p>Bom dia!</p> <p>Esse é meu primeiro e-mail enviado com Python usando SMTP. </p> <p>At.te,</p> <p>Francisco Lopes</p>'\n",
    "   \n",
    "   msg.add_header('Contetnt-Type', '') \n",
    "enviar_email()\n"
   ]
  }
 ],
 "metadata": {
  "kernelspec": {
   "display_name": ".venv",
   "language": "python",
   "name": "python3"
  },
  "language_info": {
   "codemirror_mode": {
    "name": "ipython",
    "version": 3
   },
   "file_extension": ".py",
   "mimetype": "text/x-python",
   "name": "python",
   "nbconvert_exporter": "python",
   "pygments_lexer": "ipython3",
   "version": "3.11.4"
  }
 },
 "nbformat": 4,
 "nbformat_minor": 2
}
