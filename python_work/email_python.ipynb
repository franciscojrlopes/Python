{
 "cells": [
  {
   "cell_type": "code",
   "execution_count": 67,
   "metadata": {},
   "outputs": [
    {
     "name": "stdout",
     "output_type": "stream",
     "text": [
      "E-mail enviado.\n"
     ]
    }
   ],
   "source": [
    "import smtplib\n",
    "import email.message\n",
    "\n",
    "\n",
    "def enviar_email():\n",
    "   msg = email.message.Message()\n",
    "\n",
    "   msg['Subject'] = 'Email enviado com Python'\n",
    "   msg['From'] = 'devfranlopes@gmail.com '\n",
    "   msg['To'] = 'fralopes@yahoo.com.br ; rebecaabaltazar@gmail.com'\n",
    "   msg['Cc'] = 'devfranlopes+copia@gmail.com' \n",
    "   msg['Cco'] = 'devfranlopes+copia@gmail.com'\n",
    "\n",
    "   corpo_email = '''<p>Boa tarde!</p> <p>Esse é meu primeiro e-mail enviado com Python usando SMTP. </p> <p>At.te,</p> <p>Francisco Lopes</p>'''\n",
    "\n",
    "   corpo_email = corpo_email.encode('utf-8')\n",
    "   \n",
    "   msg.add_header('Content-Type', 'text/html')\n",
    "   msg.set_payload(corpo_email)\n",
    "   # Servidor, informações endereço do servidor e porta de envio \n",
    "   servidor = smtplib.SMTP('smtp.gmail.com', 587)\n",
    "   servidor.starttls()\n",
    "   servidor.login(msg['From'], 'xnys zcfc dqff iyax' )\n",
    "   servidor.send_message(msg)\n",
    "   print('E-mail enviado.')\n",
    "   \n",
    "   \n",
    "   \n",
    "enviar_email()\n"
   ]
  }
 ],
 "metadata": {
  "kernelspec": {
   "display_name": ".venv",
   "language": "python",
   "name": "python3"
  },
  "language_info": {
   "codemirror_mode": {
    "name": "ipython",
    "version": 3
   },
   "file_extension": ".py",
   "mimetype": "text/x-python",
   "name": "python",
   "nbconvert_exporter": "python",
   "pygments_lexer": "ipython3",
   "version": "3.11.4"
  }
 },
 "nbformat": 4,
 "nbformat_minor": 2
}
