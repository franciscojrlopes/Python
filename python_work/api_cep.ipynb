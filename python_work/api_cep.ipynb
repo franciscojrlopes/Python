{
 "cells": [
  {
   "cell_type": "code",
   "execution_count": 2,
   "metadata": {},
   "outputs": [
    {
     "name": "stdout",
     "output_type": "stream",
     "text": [
      "{'cep': '20010010', 'address_type': 'Praça', 'address_name': 'Quinze de Novembro', 'address': 'Praça Quinze de Novembro', 'state': 'RJ', 'district': 'Centro', 'lat': '-22.86314', 'lng': '-43.37257', 'city': 'Rio de Janeiro', 'city_ibge': '3304557', 'ddd': '21'}\n"
     ]
    }
   ],
   "source": [
    "import requests\n",
    "\n",
    "link = \"https://cep.awesomeapi.com.br/json/20010010\"\n",
    "\n",
    "requisicao = requests.get(link)\n",
    "print(requisicao.json())"
   ]
  }
 ],
 "metadata": {
  "kernelspec": {
   "display_name": ".venv",
   "language": "python",
   "name": "python3"
  },
  "language_info": {
   "codemirror_mode": {
    "name": "ipython",
    "version": 3
   },
   "file_extension": ".py",
   "mimetype": "text/x-python",
   "name": "python",
   "nbconvert_exporter": "python",
   "pygments_lexer": "ipython3",
   "version": "3.11.4"
  }
 },
 "nbformat": 4,
 "nbformat_minor": 2
}
