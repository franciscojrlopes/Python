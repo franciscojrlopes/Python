{
 "cells": [
  {
   "cell_type": "code",
   "execution_count": 2,
   "metadata": {},
   "outputs": [
    {
     "name": "stdout",
     "output_type": "stream",
     "text": [
      "BEB1234\n"
     ]
    }
   ],
   "source": [
    "# Texto para Upper, função sem parâmetro:\n",
    "cod_produto = 'beb1234'\n",
    "print(cod_produto.upper())\n"
   ]
  },
  {
   "cell_type": "code",
   "execution_count": 5,
   "metadata": {},
   "outputs": [
    {
     "name": "stdout",
     "output_type": "stream",
     "text": [
      "[10, 35, 50, 60, 90, 100, 200, 240, 300, 789]\n"
     ]
    }
   ],
   "source": [
    "# Lista para sort e extend, apenas parêmetros keyword:\n",
    "\n",
    "vendas_ano = [100, 200, 50, 90, 240, 300, 35, 10, 789, 60]\n",
    "vendas_novdez = [500, 1555]\n",
    "\n",
    "vendas_ano.sort()\n",
    "print(vendas_ano)\n",
    "# Ordem crescente."
   ]
  },
  {
   "cell_type": "code",
   "execution_count": 6,
   "metadata": {},
   "outputs": [
    {
     "name": "stdout",
     "output_type": "stream",
     "text": [
      "[789, 300, 240, 200, 100, 90, 60, 50, 35, 10]\n"
     ]
    }
   ],
   "source": [
    "vendas_ano = [100, 200, 50, 90, 240, 300, 35, 10, 789, 60]\n",
    "vendas_novdez = [500, 1555]\n",
    "\n",
    "vendas_ano.sort(reverse = True) # <<<<<< decrescente..... Padrão = False normal crescente.\n",
    "print(vendas_ano)\n",
    "# Ordem decrescente. "
   ]
  },
  {
   "cell_type": "code",
   "execution_count": 8,
   "metadata": {},
   "outputs": [
    {
     "name": "stdout",
     "output_type": "stream",
     "text": [
      "[100, 200, 50, 90, 240, 300, 35, 10, 789, 60, 500, 1555]\n"
     ]
    }
   ],
   "source": [
    "vendas_ano = [100, 200, 50, 90, 240, 300, 35, 10, 789, 60]\n",
    "vendas_novdez = [500, 1555]\n",
    "\n",
    "vendas_ano.extend(vendas_novdez)\n",
    "print(vendas_ano)\n",
    "# Acrescentou o 500 e 1555....."
   ]
  }
 ],
 "metadata": {
  "kernelspec": {
   "display_name": ".venv",
   "language": "python",
   "name": "python3"
  },
  "language_info": {
   "codemirror_mode": {
    "name": "ipython",
    "version": 3
   },
   "file_extension": ".py",
   "mimetype": "text/x-python",
   "name": "python",
   "nbconvert_exporter": "python",
   "pygments_lexer": "ipython3",
   "version": "3.11.4"
  }
 },
 "nbformat": 4,
 "nbformat_minor": 2
}
