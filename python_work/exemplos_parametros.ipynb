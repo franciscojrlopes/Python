{
 "cells": [
  {
   "cell_type": "code",
   "execution_count": 10,
   "metadata": {},
   "outputs": [],
   "source": [
    "produtos = ['beb46275','TFA23962','TFA64715','TFA69555','TFA56743','BSA45510','TFA44968','CAR75448','CAR23596','CAR13490','BEB21365','BEB31623','BSA62419','BEB73344','TFA20079','BEB80694','BSA11769','BEB19495','TFA14792','TFA78043','BSA33484','BEB97471','BEB62362','TFA27311','TFA17715','BEB85146','BEB48898','BEB79496','CAR38417','TFA19947','TFA58799','CAR94811','BSA59251','BEB15385','BEB24213','BEB56262','BSA96915','CAR53454','BEB75073']\n",
    "\n",
    "def eh_dacategoria(bebida, codigo_categoria):\n",
    "    bebida = bebida.upper()\n",
    "    if codigo_categoria in bebida:\n",
    "        return True\n",
    "    else:\n",
    "        return False\n"
   ]
  },
  {
   "cell_type": "code",
   "execution_count": 9,
   "metadata": {},
   "outputs": [
    {
     "name": "stdout",
     "output_type": "stream",
     "text": [
      "BEB1234\n"
     ]
    }
   ],
   "source": [
    "# Texto para Upper, função sem parâmetro:\n",
    "cod_produto = 'beb1234'\n",
    "print(cod_produto.upper())\n"
   ]
  },
  {
   "cell_type": "code",
   "execution_count": 5,
   "metadata": {},
   "outputs": [
    {
     "name": "stdout",
     "output_type": "stream",
     "text": [
      "[10, 35, 50, 60, 90, 100, 200, 240, 300, 789]\n"
     ]
    }
   ],
   "source": [
    "# Lista para sort e extend, apenas parêmetros keyword:\n",
    "\n",
    "vendas_ano = [100, 200, 50, 90, 240, 300, 35, 10, 789, 60]\n",
    "vendas_novdez = [500, 1555]\n",
    "\n",
    "vendas_ano.sort()\n",
    "print(vendas_ano)\n",
    "# Ordem crescente."
   ]
  },
  {
   "cell_type": "code",
   "execution_count": 6,
   "metadata": {},
   "outputs": [
    {
     "name": "stdout",
     "output_type": "stream",
     "text": [
      "[789, 300, 240, 200, 100, 90, 60, 50, 35, 10]\n"
     ]
    }
   ],
   "source": [
    "vendas_ano = [100, 200, 50, 90, 240, 300, 35, 10, 789, 60]\n",
    "vendas_novdez = [500, 1555]\n",
    "\n",
    "vendas_ano.sort(reverse = True) # <<<<<< decrescente..... Padrão = False normal crescente.\n",
    "print(vendas_ano)\n",
    "# Ordem decrescente. "
   ]
  },
  {
   "cell_type": "code",
   "execution_count": 8,
   "metadata": {},
   "outputs": [
    {
     "name": "stdout",
     "output_type": "stream",
     "text": [
      "[100, 200, 50, 90, 240, 300, 35, 10, 789, 60, 500, 1555]\n"
     ]
    }
   ],
   "source": [
    "def eh_dacategoria(bebida, codigo_categoria):\n",
    "    bebida = bebida.upper()\n",
    "    if codigo_categoria in bebida:\n",
    "        return True\n",
    "    else:\n",
    "        return False\n",
    "    \n",
    "vendas_ano = [100, 200, 50, 90, 240, 300, 35, 10, 789, 60]\n",
    "vendas_novdez = [500, 1555]\n",
    "\n",
    "vendas_ano.extend(vendas_novdez)\n",
    "print(vendas_ano)\n",
    "# Acrescentou o 500 e 1555..... um parâmetro interble..........\n",
    "if eh_dacategoria()"
   ]
  },
  {
   "cell_type": "code",
   "execution_count": 2,
   "metadata": {},
   "outputs": [
    {
     "ename": "SyntaxError",
     "evalue": "incomplete input (3959531900.py, line 2)",
     "output_type": "error",
     "traceback": [
      "\u001b[1;36m  Cell \u001b[1;32mIn[2], line 2\u001b[1;36m\u001b[0m\n\u001b[1;33m    \u001b[0m\n\u001b[1;37m    ^\u001b[0m\n\u001b[1;31mSyntaxError\u001b[0m\u001b[1;31m:\u001b[0m incomplete input\n"
     ]
    }
   ],
   "source": [
    "if eh_dacategoria()"
   ]
  }
 ],
 "metadata": {
  "kernelspec": {
   "display_name": ".venv",
   "language": "python",
   "name": "python3"
  },
  "language_info": {
   "codemirror_mode": {
    "name": "ipython",
    "version": 3
   },
   "file_extension": ".py",
   "mimetype": "text/x-python",
   "name": "python",
   "nbconvert_exporter": "python",
   "pygments_lexer": "ipython3",
   "version": "3.11.4"
  }
 },
 "nbformat": 4,
 "nbformat_minor": 2
}
