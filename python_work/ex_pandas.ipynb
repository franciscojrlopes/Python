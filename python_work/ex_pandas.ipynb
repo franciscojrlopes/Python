{
 "cells": [
  {
   "cell_type": "markdown",
   "metadata": {},
   "source": [
    "                                    Mini Projeto de Análise de Dados\n",
    "\n",
    "    Vamos fazer um exercício completo de pandas para um miniprojeto de análise de dados.\n",
    "  \n",
    "    Esse exercício vai obrigar a gente a usar boa parte dos conhecimentos de pandas.\n",
    "   \n",
    "    O que temos?\n",
    "    \n",
    "    Temos os dados de 2019 de uma empresa de prestação de serviços. \n",
    "  \n",
    "    - CadastroFuncionarios;\n",
    "    - CadastroClientes;\n",
    "    - BaseServiçosPrestados.\n",
    " \n",
    "    Obs1: Para ler arquivos csv, temos o read_csv<br>\n",
    "    Obs2: Para ler arquivos xlsx (arquivos em excel normais, que não são padrão csv), temos o read_excel\n",
    "\n",
    "    ### O que queremos saber/fazer?"
   ]
  },
  {
   "cell_type": "code",
   "execution_count": null,
   "metadata": {},
   "outputs": [],
   "source": [
    "   ### O que queremos saber/fazer?\n",
    "\n",
    "\n"
   ]
  }
 ],
 "metadata": {
  "language_info": {
   "name": "python"
  }
 },
 "nbformat": 4,
 "nbformat_minor": 2
}
