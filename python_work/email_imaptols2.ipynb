{
 "cells": [
  {
   "cell_type": "code",
   "execution_count": 3,
   "metadata": {},
   "outputs": [
    {
     "name": "stdout",
     "output_type": "stream",
     "text": [
      "Email enviado com Python\n",
      "<p>Boa tarde!</p> <p>Esse é meu primeiro e-mail enviado com Python usando SMTP. </p> <p>At.te,</p> <p>Francisco Lopes</p>\n",
      "\n",
      "\n",
      "Anexo: python dashboards.png\n",
      "Email enviado com Python\n",
      "\n",
      "<p>Boa tarde!</p> <p>Esse é meu primeiro e-mail enviado com Python usando SMTP. </p> <p>At.te,</p> <p>Francisco Lopes</p>\n",
      "\n",
      "Anexo: python dashboards.png\n",
      "Email enviado com Python\n",
      "\n",
      "<p>Boa tarde!</p> <p>Esse é meu primeiro e-mail enviado com Python usando SMTP. </p> <p>At.te,</p> <p>Francisco Lopes</p> <img></img>https://encrypted-tbn0.gstatic.com/images?q=tbn:ANd9GcTcMB0eqdFK0XZ3JwqVkn9nKZ6XeBSUnB6UeX6SnlVtqE7NFoAdhfByd7iIADmyoaBHzjE&usqp=CAU\n",
      "\n",
      "Anexo: python dashboards.png\n",
      "Email enviado com Python\n",
      "\n",
      "<p>Boa tarde!</p> <p>Esse é meu primeiro e-mail enviado com Python usando SMTP. </p> <p>At.te,</p> <p>Francisco Lopes</p> <img src= https://encrypted-tbn0.gstatic.com/images?q=tbn:ANd9GcTcMB0eqdFK0XZ3JwqVkn9nKZ6XeBSUnB6UeX6SnlVtqE7NFoAdhfByd7iIADmyoaBHzjE&usqp=CAU>\n",
      "\n",
      "Anexo: python dashboards.png\n",
      "Email enviado com Python\n",
      "\n",
      "\n",
      "Anexo: python dashboards.png\n",
      "Email enviado com Python\n",
      "\n",
      "<p>Boa tarde!</p> <p>Esse é meu primeiro e-mail enviado com Python usando SMTP. </p> <p>At.te,</p> <p>Francisco Lopes</p> <img src= https://encrypted-tbn0.gstatic.com/images?q=tbn:ANd9GcTcMB0eqdFK0XZ3JwqVkn9nKZ6XeBSUnB6UeX6SnlVtqE7NFoAdhfByd7iIADmyoaBHzjE&usqp=CAU</img>\n",
      "Anexo: python dashboards.png\n",
      "Email enviado com Python\n",
      "\n",
      "<p>Boa dia!</p> <p>Esse é meu primeiro e-mail enviado com Python usando SMTP com anexos. </p> <p>At.te,</p> <p>Francisco Lopes</p> <img src= https://encrypted-tbn0.gstatic.com/images?q=tbn:ANd9GcTcMB0eqdFK0XZ3JwqVkn9nKZ6XeBSUnB6UeX6SnlVtqE7NFoAdhfByd7iIADmyoaBHzjE&usqp=CAU</img>\n",
      "Anexo: python dashboards.png\n",
      "Email enviado com Python\n",
      "\n",
      "<p>Bom dia!</p> <p>Esse é meu primeiro e-mail enviado com Python usando SMTP com anexos. </p> <p>At.te,</p> <p>Francisco Lopes</p> <img src= https://encrypted-tbn0.gstatic.com/images?q=tbn:ANd9GcTcMB0eqdFK0XZ3JwqVkn9nKZ6XeBSUnB6UeX6SnlVtqE7NFoAdhfByd7iIADmyoaBHzjE&usqp=CAU</img>\n",
      "Anexo: python dashboards.png\n"
     ]
    }
   ],
   "source": [
    "from imap_tools import MailBox, AND\n",
    "\n",
    "usuário = 'devfranlopes@gmail.com'\n",
    "senha = 'xnys zcfc dqff iyax'\n",
    "\n",
    "meu_email = MailBox('imap.gmail.com').login(usuário, senha)\n",
    "\n",
    "lista_emails = meu_email.fetch(AND(from_= 'devfranlopes@gmail.com', to= 'fralopes@yahoo.com.br'))\n",
    "\n",
    "\n",
    "for i, email in enumerate(lista_emails):\n",
    "    if len(email.attachments) >= 0:\n",
    "        print(email.subject)\n",
    "        print(email.text)\n",
    "        print(email.html)\n",
    "        for anexo in email.attachments:\n",
    "            with open(f'email{i + 1} -{anexo.filename} ', 'wb' ) as arquivo:\n",
    "              arquivo.write(anexo.payload)\n",
    "        print('Anexo:', anexo.filename)\n",
    "            \n",
    "        "
   ]
  }
 ],
 "metadata": {
  "kernelspec": {
   "display_name": ".venv",
   "language": "python",
   "name": "python3"
  },
  "language_info": {
   "codemirror_mode": {
    "name": "ipython",
    "version": 3
   },
   "file_extension": ".py",
   "mimetype": "text/x-python",
   "name": "python",
   "nbconvert_exporter": "python",
   "pygments_lexer": "ipython3",
   "version": "3.11.4"
  }
 },
 "nbformat": 4,
 "nbformat_minor": 2
}
