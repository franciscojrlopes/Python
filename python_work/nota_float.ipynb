{
 "cells": [
  {
   "cell_type": "code",
   "execution_count": 3,
   "metadata": {},
   "outputs": [
    {
     "name": "stdout",
     "output_type": "stream",
     "text": [
      "Conceito do aluno: A\n"
     ]
    }
   ],
   "source": [
    "nota = float(input('Digite a nota do aluno:'))\n",
    "if (nota>=8.0):\n",
    "    conceito = 'A'\n",
    "elif (nota>=5.0): \n",
    "    conceito = 'B'\n",
    "else:\n",
    "    conceito = 'C'\n",
    "print('Conceito do aluno: %s' % conceito)"
   ]
  }
 ],
 "metadata": {
  "kernelspec": {
   "display_name": ".venv",
   "language": "python",
   "name": "python3"
  },
  "language_info": {
   "codemirror_mode": {
    "name": "ipython",
    "version": 3
   },
   "file_extension": ".py",
   "mimetype": "text/x-python",
   "name": "python",
   "nbconvert_exporter": "python",
   "pygments_lexer": "ipython3",
   "version": "3.11.4"
  }
 },
 "nbformat": 4,
 "nbformat_minor": 2
}
