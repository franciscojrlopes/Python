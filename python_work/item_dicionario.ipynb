{
 "cells": [
  {
   "cell_type": "markdown",
   "metadata": {},
   "source": [
    "Métodos úteis em dicionários\n",
    "   \n",
    "    items() dos dicionários\n",
    "   \n",
    "Estrutura:\n",
    "\n",
    "itens_dicionario = dicionario.items()\n",
    "    \n",
    "    ou então:\n",
    " \n",
    "    for item in dicionario.items()\n",
    "    cada item do dicionario em formato de tupla\n",
    "   \n"
   ]
  },
  {
   "cell_type": "code",
   "execution_count": 2,
   "metadata": {},
   "outputs": [
    {
     "name": "stdout",
     "output_type": "stream",
     "text": [
      "dict_items([('notebook asus', 2450), ('iphone', 15000), ('samsung galaxy', 12000), ('tv samsung', 10000), ('ps5', 14300), ('tablet', 1720), ('notebook dell', 17000), ('ipad', 1000), ('tv philco', 2500), ('notebook hp', 1000)])\n"
     ]
    }
   ],
   "source": [
    "vendas_tecnologia = {'notebook asus': 2450, 'iphone': 15000, 'samsung galaxy': 12000, 'tv samsung': 10000, 'ps5': 14300, 'tablet': 1720, 'notebook dell': 17000, 'ipad': 1000, 'tv philco': 2500, 'notebook hp': 1000}\n",
    "\n",
    "itens_dicionario = vendas_tecnologia.items()\n",
    "print(itens_dicionario) "
   ]
  }
 ],
 "metadata": {
  "kernelspec": {
   "display_name": ".venv",
   "language": "python",
   "name": "python3"
  },
  "language_info": {
   "codemirror_mode": {
    "name": "ipython",
    "version": 3
   },
   "file_extension": ".py",
   "mimetype": "text/x-python",
   "name": "python",
   "nbconvert_exporter": "python",
   "pygments_lexer": "ipython3",
   "version": "3.11.4"
  }
 },
 "nbformat": 4,
 "nbformat_minor": 2
}
