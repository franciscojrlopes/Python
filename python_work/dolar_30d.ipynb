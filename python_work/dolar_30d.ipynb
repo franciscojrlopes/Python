{
 "cells": [
  {
   "cell_type": "code",
   "execution_count": 8,
   "metadata": {},
   "outputs": [],
   "source": [
    "import requests\n",
    "import json\n",
    "\n",
    "cotacao_dolar30d = requests.get('https://economia.awesomeapi.com.br/json/daily/:moeda/:30')\n",
    "cotacaodolar_dic = cotacao_dolar30d.json()\n"
   ]
  },
  {
   "cell_type": "code",
   "execution_count": 10,
   "metadata": {},
   "outputs": [
    {
     "name": "stdout",
     "output_type": "stream",
     "text": [
      "4.9665\n",
      "[4.9513, 4.9564, 4.9665, 4.9668, 4.9732, 4.9735, 4.9536, 4.9536, 4.9536, 4.9517, 4.9512, 4.992, 4.9712, 4.9634, 4.9854, 4.9713, 4.9163, 4.9526, 4.9496, 4.9518, 4.9168, 4.917, 4.9165, 4.9335, 4.9535, 4.9892, 4.9295, 4.9294, 4.9349, 4.9255]\n"
     ]
    }
   ],
   "source": [
    "cotacoes_dolar30d = requests.get('https://economia.awesomeapi.com.br/json/daily/USD-BRL/30')\n",
    "cotacoes_dolar_dic = cotacoes_dolar30d.json()\n",
    "print(cotacoes_dolar_dic[2]['bid'])\n",
    "lista_cotacoes_dolar = [float(item['bid']) for item in cotacoes_dolar_dic]\n",
    "print(lista_cotacoes_dolar)"
   ]
  }
 ],
 "metadata": {
  "kernelspec": {
   "display_name": ".venv",
   "language": "python",
   "name": "python3"
  },
  "language_info": {
   "codemirror_mode": {
    "name": "ipython",
    "version": 3
   },
   "file_extension": ".py",
   "mimetype": "text/x-python",
   "name": "python",
   "nbconvert_exporter": "python",
   "pygments_lexer": "ipython3",
   "version": "3.11.4"
  }
 },
 "nbformat": 4,
 "nbformat_minor": 2
}
