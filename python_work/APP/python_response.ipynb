{
 "cells": [
  {
   "cell_type": "code",
   "execution_count": null,
   "metadata": {},
   "outputs": [],
   "source": [
    "import requests\n",
    "#Cria uma chamada de API e verifica a resposta.\n",
    "\n",
    "\n"
   ]
  },
  {
   "cell_type": "code",
   "execution_count": 12,
   "metadata": {},
   "outputs": [
    {
     "name": "stdout",
     "output_type": "stream",
     "text": [
      " * Serving Flask app '__main__'\n",
      " * Debug mode: off\n"
     ]
    },
    {
     "name": "stderr",
     "output_type": "stream",
     "text": [
      "WARNING: This is a development server. Do not use it in a production deployment. Use a production WSGI server instead.\n",
      " * Running on http://127.0.0.1:5000\n",
      "Press CTRL+C to quit\n",
      "127.0.0.1 - - [20/Apr/2024 10:40:06] \"GET / HTTP/1.1\" 404 -\n",
      "127.0.0.1 - - [20/Apr/2024 10:40:06] \"GET /favicon.ico HTTP/1.1\" 404 -\n",
      "127.0.0.1 - - [20/Apr/2024 10:40:14] \"GET /livros_2 HTTP/1.1\" 200 -\n"
     ]
    }
   ],
   "source": [
    "from flask import Flask, jsonify, request, json\n",
    "\n",
    "app = Flask(__name__)\n",
    "\n",
    "livros_2 = [{'id': 1,'Título': 'A prática da solucionática','autor': 'Mark Joyner', 'Gênero': 'Infantil'},\n",
    "          {'id': 2,'Título': 'Iludidos pelo acaso','autor':'Nassim Nicholas Taleb', 'Gênero': 'Infantil'},\n",
    "          {'id': 3,'Título': 'Palavras que vendem milhões','autor': 'Gustavo Ferreira', 'Gênero': 'Infantil'}]\n",
    "\n",
    "# Consultar todos:\n",
    "@app.route('/livros_2', methods=['GET'])\n",
    "def obter_livros_2():\n",
    "    return jsonify(livros_2)\n",
    "\n",
    "# Editar:\n",
    "# @app.route('/livros/livros_alterdo/<int:id>', methods=['PUT'])\n",
    "# def editar_livro_por_id(Gênero):\n",
    "#     livro_alterado = request.get_json()\n",
    "#     for indice, livro in enumerate(livros):\n",
    "#         if livro.get('Gênero') == Gênero:\n",
    "#             livros[indice].update(livro_alterado)\n",
    "#             return jsonify(livros[indice]) \n",
    "app.run()"
   ]
  }
 ],
 "metadata": {
  "kernelspec": {
   "display_name": ".venv",
   "language": "python",
   "name": "python3"
  },
  "language_info": {
   "codemirror_mode": {
    "name": "ipython",
    "version": 3
   },
   "file_extension": ".py",
   "mimetype": "text/x-python",
   "name": "python",
   "nbconvert_exporter": "python",
   "pygments_lexer": "ipython3",
   "version": "3.11.4"
  }
 },
 "nbformat": 4,
 "nbformat_minor": 2
}
