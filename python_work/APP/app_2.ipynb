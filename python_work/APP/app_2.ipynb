{
 "cells": [
  {
   "cell_type": "code",
   "execution_count": 1,
   "metadata": {},
   "outputs": [
    {
     "name": "stdout",
     "output_type": "stream",
     "text": [
      " * Serving Flask app '__main__'\n",
      " * Debug mode: off\n"
     ]
    },
    {
     "name": "stderr",
     "output_type": "stream",
     "text": [
      "WARNING: This is a development server. Do not use it in a production deployment. Use a production WSGI server instead.\n",
      " * Running on http://127.0.0.1:5000\n",
      "Press CTRL+C to quit\n"
     ]
    }
   ],
   "source": [
    "from flask import Flask, jsonify, request, json\n",
    "\n",
    "app = Flask(__name__)\n",
    " \n",
    "livros = [{'id': 1,'titulo': 'A prática da solucionática','autor': 'Mark Joyner'},\n",
    "          {'id': 2,'titulo': 'Iludidos pelo acaso','autor':'Nassim Nicholas Taleb'},\n",
    "          {'id': 3,'titulo': 'Palavras que vendem milhões','autor': 'Gustavo Ferreira'}]\n",
    "\n",
    "# Consultar todos:\n",
    "@app.route('/livros', methods=['GET'])\n",
    "def obter_livros():\n",
    "    return jsonify(livros)\n",
    "\n",
    "# Consultar id:\n",
    "@app.route('/livros/<int:id>', methods= ['GET'])\n",
    "\n",
    "def obter_livro_id(id):\n",
    "    for livro in livros:\n",
    "        if livro.get('id') == id:\n",
    "            return jsonify(livro)\n",
    "        \n",
    "@app.route('/livros/<int:id>', methods= ['GET'])\n",
    "\n",
    "def obter_livro_titulo(titulo):\n",
    "    for titulo in livros:\n",
    "        if titulo.get('Título') == titulo:\n",
    "            return jsonify(titulo)        \n",
    "#  Editar:\n",
    "\n",
    "@app.route('/livros/<int:id>', methods=['PUT']) \n",
    "def editar_livro_por_id(id):\n",
    "    livro_alterado = request.get_json()\n",
    "    for indice, livro in enumerate(livros):\n",
    "        if livro.get('id') == id:\n",
    "            livros[indice].update(livro_alterado)\n",
    "            return jsonify(livros[indice]) \n",
    "\n",
    "#Criar:\n",
    "@app.route('/livros', methods=['POST'])\n",
    "def incluir_novo_livro():\n",
    "    novo_livro = request.get_json()\n",
    "    livros.append(novo_livro)\n",
    "    return jsonify(livros) \n",
    "\n",
    "# Excluir:\n",
    "# @app.route('')\n",
    "# def editar_livro_por_id(id):\n",
    "#     livro_alterado = request.get_json()\n",
    "#     for indice, livro in enumerate(livros):\n",
    "#         if livro.get('id') == id:\n",
    "#             livros[indice].update(livro_alterado)\n",
    "#             return jsonify(livros[indice]) \n",
    "\n",
    "# Deletar:\n",
    "# @app.route()\n",
    "# def editar_livro_por_id(id):\n",
    "#     livro_alterado = request.get_json()\n",
    "#     for indice, livro in enumerate(livros):\n",
    "#         if livro.get('id') == id:\n",
    "#             livros[indice].update(livro_alterado)\n",
    "#             return jsonify(livros[indice]) \n",
    "\n",
    "\n",
    "app.run()"
   ]
  },
  {
   "cell_type": "code",
   "execution_count": null,
   "metadata": {},
   "outputs": [],
   "source": []
  }
 ],
 "metadata": {
  "kernelspec": {
   "display_name": ".venv",
   "language": "python",
   "name": "python3"
  },
  "language_info": {
   "codemirror_mode": {
    "name": "ipython",
    "version": 3
   },
   "file_extension": ".py",
   "mimetype": "text/x-python",
   "name": "python",
   "nbconvert_exporter": "python",
   "pygments_lexer": "ipython3",
   "version": "3.11.4"
  }
 },
 "nbformat": 4,
 "nbformat_minor": 2
}
