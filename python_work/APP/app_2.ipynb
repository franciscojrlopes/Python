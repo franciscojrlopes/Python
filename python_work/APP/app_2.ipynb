{
 "cells": [
  {
   "cell_type": "code",
   "execution_count": 2,
   "metadata": {},
   "outputs": [
    {
     "name": "stdout",
     "output_type": "stream",
     "text": [
      " * Serving Flask app '__main__'\n",
      " * Debug mode: off\n"
     ]
    },
    {
     "name": "stderr",
     "output_type": "stream",
     "text": [
      "WARNING: This is a development server. Do not use it in a production deployment. Use a production WSGI server instead.\n",
      " * Running on http://127.0.0.1:5000\n",
      "Press CTRL+C to quit\n"
     ]
    },
    {
     "name": "stderr",
     "output_type": "stream",
     "text": [
      "127.0.0.1 - - [15/Apr/2024 08:16:10] \"GET /id HTTP/1.1\" 404 -\n",
      "127.0.0.1 - - [15/Apr/2024 08:16:31] \"GET / HTTP/1.1\" 404 -\n",
      "127.0.0.1 - - [15/Apr/2024 08:16:50] \"GET /livros HTTP/1.1\" 200 -\n",
      "127.0.0.1 - - [15/Apr/2024 08:16:54] \"GET /id HTTP/1.1\" 404 -\n",
      "127.0.0.1 - - [15/Apr/2024 08:17:29] \"GET /id1 HTTP/1.1\" 404 -\n",
      "127.0.0.1 - - [15/Apr/2024 08:17:36] \"GET /id1 HTTP/1.1\" 404 -\n",
      "127.0.0.1 - - [15/Apr/2024 08:17:37] \"GET /id1 HTTP/1.1\" 404 -\n",
      "127.0.0.1 - - [15/Apr/2024 08:18:04] \"GET / HTTP/1.1\" 404 -\n",
      "127.0.0.1 - - [15/Apr/2024 08:18:09] \"GET /livros HTTP/1.1\" 200 -\n",
      "127.0.0.1 - - [15/Apr/2024 08:18:16] \"GET /livros/1 HTTP/1.1\" 200 -\n",
      "127.0.0.1 - - [15/Apr/2024 08:18:26] \"GET / HTTP/1.1\" 404 -\n",
      "127.0.0.1 - - [15/Apr/2024 08:18:26] \"GET / HTTP/1.1\" 404 -\n",
      "127.0.0.1 - - [15/Apr/2024 08:18:54] \"GET /livros HTTP/1.1\" 200 -\n",
      "127.0.0.1 - - [15/Apr/2024 08:19:24] \"GET /livros/livro_alterado HTTP/1.1\" 404 -\n",
      "127.0.0.1 - - [15/Apr/2024 08:19:43] \"GET /livros/livro HTTP/1.1\" 404 -\n",
      "127.0.0.1 - - [15/Apr/2024 08:19:47] \"GET /livros/livro HTTP/1.1\" 404 -\n",
      "127.0.0.1 - - [15/Apr/2024 08:19:54] \"GET /livros/1 HTTP/1.1\" 200 -\n",
      "127.0.0.1 - - [15/Apr/2024 08:20:02] \"GET /livros/2 HTTP/1.1\" 200 -\n",
      "127.0.0.1 - - [15/Apr/2024 08:20:26] \"GET /livros/id/livro_alterado HTTP/1.1\" 404 -\n",
      "127.0.0.1 - - [15/Apr/2024 08:23:13] \"GET / HTTP/1.1\" 404 -\n",
      "127.0.0.1 - - [15/Apr/2024 08:23:14] \"GET /favicon.ico HTTP/1.1\" 404 -\n",
      "127.0.0.1 - - [15/Apr/2024 08:23:22] \"GET /livros HTTP/1.1\" 200 -\n",
      "127.0.0.1 - - [15/Apr/2024 08:23:30] \"GET /livros/1 HTTP/1.1\" 200 -\n",
      "127.0.0.1 - - [15/Apr/2024 08:25:36] \"GET /livros/1/livro HTTP/1.1\" 404 -\n"
     ]
    }
   ],
   "source": [
    "from flask import Flask, jsonify, request, json\n",
    "\n",
    "app = Flask(__name__)\n",
    "\n",
    "livros = [{'id': 1,'Título': 'A prática da solucionática','autor': 'Mark Joyner'},\n",
    "          {'id': 2,'Título': 'Iludidos pelo acaso','autor':'Nassim Nicholas Taleb'},\n",
    "          {'id': 3,'Título': 'Palavras que vendem milhões','autor': 'Gustavo Ferreira'}]\n",
    "\n",
    "# Consultar todos:\n",
    "@app.route('/livros', methods=['GET'])\n",
    "def obter_livros():\n",
    "    return jsonify(livros)\n",
    "\n",
    "# Consultar id:\n",
    "@app.route('/livros/<int:id>', methods= ['GET'])\n",
    "def obter_livro_id(id):\n",
    "    for livro in livros:\n",
    "        if livro.get('id') == id:\n",
    "            return jsonify(livro)\n",
    "# Editar:\n",
    "@app.route('/livros/<int:id>', methods=['PUT'])\n",
    "def editar_livro_por_id(id):\n",
    "    livro_alterado = request.get_json()\n",
    "    for livro in enumerate(livros):\n",
    "        if livro.get('id') == id:\n",
    "            livros[livro].update(livro_alterado)\n",
    "            return jsonify(livros[livro]) \n",
    "\n",
    "# Criar:\n",
    "       \n",
    "\n",
    "# Excluir:\n",
    "# Deletar:\n",
    "\n",
    "app.run()"
   ]
  }
 ],
 "metadata": {
  "kernelspec": {
   "display_name": ".venv",
   "language": "python",
   "name": "python3"
  },
  "language_info": {
   "codemirror_mode": {
    "name": "ipython",
    "version": 3
   },
   "file_extension": ".py",
   "mimetype": "text/x-python",
   "name": "python",
   "nbconvert_exporter": "python",
   "pygments_lexer": "ipython3",
   "version": "3.11.4"
  }
 },
 "nbformat": 4,
 "nbformat_minor": 2
}
