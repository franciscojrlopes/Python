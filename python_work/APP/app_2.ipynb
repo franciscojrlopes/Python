{
 "cells": [
  {
   "cell_type": "code",
   "execution_count": 30,
   "metadata": {},
   "outputs": [
    {
     "ename": "ValueError",
     "evalue": "malformed url rule: '/livros/<int:Título>'",
     "output_type": "error",
     "traceback": [
      "\u001b[1;31m---------------------------------------------------------------------------\u001b[0m",
      "\u001b[1;31mValueError\u001b[0m                                Traceback (most recent call last)",
      "Cell \u001b[1;32mIn[30], line 22\u001b[0m\n\u001b[0;32m     19\u001b[0m         \u001b[38;5;28;01mif\u001b[39;00m livro\u001b[38;5;241m.\u001b[39mget(\u001b[38;5;124m'\u001b[39m\u001b[38;5;124mid\u001b[39m\u001b[38;5;124m'\u001b[39m) \u001b[38;5;241m==\u001b[39m \u001b[38;5;28mid\u001b[39m:\n\u001b[0;32m     20\u001b[0m             \u001b[38;5;28;01mreturn\u001b[39;00m jsonify(livro)\n\u001b[1;32m---> 22\u001b[0m \u001b[38;5;129;43m@app\u001b[39;49m\u001b[38;5;241;43m.\u001b[39;49m\u001b[43mroute\u001b[49m\u001b[43m(\u001b[49m\u001b[38;5;124;43m'\u001b[39;49m\u001b[38;5;124;43m/livros/<int:Título>\u001b[39;49m\u001b[38;5;124;43m'\u001b[39;49m\u001b[43m,\u001b[49m\u001b[43m \u001b[49m\u001b[43mmethods\u001b[49m\u001b[38;5;241;43m=\u001b[39;49m\u001b[43m \u001b[49m\u001b[43m[\u001b[49m\u001b[38;5;124;43m'\u001b[39;49m\u001b[38;5;124;43mGET\u001b[39;49m\u001b[38;5;124;43m'\u001b[39;49m\u001b[43m]\u001b[49m\u001b[43m)\u001b[49m\n\u001b[0;32m     23\u001b[0m \n\u001b[0;32m     24\u001b[0m \u001b[38;5;28;43;01mdef\u001b[39;49;00m\u001b[43m \u001b[49m\u001b[38;5;21;43mobter_livro_título\u001b[39;49m\u001b[43m(\u001b[49m\u001b[43mTítulo\u001b[49m\u001b[43m)\u001b[49m\u001b[43m:\u001b[49m\n\u001b[0;32m     25\u001b[0m \u001b[43m    \u001b[49m\u001b[38;5;28;43;01mfor\u001b[39;49;00m\u001b[43m \u001b[49m\u001b[43mTítulo\u001b[49m\u001b[43m \u001b[49m\u001b[38;5;129;43;01min\u001b[39;49;00m\u001b[43m \u001b[49m\u001b[43mlivros\u001b[49m\u001b[43m:\u001b[49m\n\u001b[0;32m     26\u001b[0m \u001b[43m        \u001b[49m\u001b[38;5;28;43;01mif\u001b[39;49;00m\u001b[43m \u001b[49m\u001b[43mTítulo\u001b[49m\u001b[38;5;241;43m.\u001b[39;49m\u001b[43mget\u001b[49m\u001b[43m(\u001b[49m\u001b[38;5;124;43m'\u001b[39;49m\u001b[38;5;124;43mTítulo\u001b[39;49m\u001b[38;5;124;43m'\u001b[39;49m\u001b[43m)\u001b[49m\u001b[43m \u001b[49m\u001b[38;5;241;43m==\u001b[39;49m\u001b[43m \u001b[49m\u001b[43mTítulo\u001b[49m\u001b[43m:\u001b[49m\n",
      "File \u001b[1;32mc:\\Users\\fraro\\OneDrive\\Documentos\\Estudos\\Python\\.venv\\Lib\\site-packages\\flask\\sansio\\scaffold.py:366\u001b[0m, in \u001b[0;36mScaffold.route.<locals>.decorator\u001b[1;34m(f)\u001b[0m\n\u001b[0;32m    364\u001b[0m \u001b[38;5;28;01mdef\u001b[39;00m \u001b[38;5;21mdecorator\u001b[39m(f: T_route) \u001b[38;5;241m-\u001b[39m\u001b[38;5;241m>\u001b[39m T_route:\n\u001b[0;32m    365\u001b[0m     endpoint \u001b[38;5;241m=\u001b[39m options\u001b[38;5;241m.\u001b[39mpop(\u001b[38;5;124m\"\u001b[39m\u001b[38;5;124mendpoint\u001b[39m\u001b[38;5;124m\"\u001b[39m, \u001b[38;5;28;01mNone\u001b[39;00m)\n\u001b[1;32m--> 366\u001b[0m     \u001b[38;5;28;43mself\u001b[39;49m\u001b[38;5;241;43m.\u001b[39;49m\u001b[43madd_url_rule\u001b[49m\u001b[43m(\u001b[49m\u001b[43mrule\u001b[49m\u001b[43m,\u001b[49m\u001b[43m \u001b[49m\u001b[43mendpoint\u001b[49m\u001b[43m,\u001b[49m\u001b[43m \u001b[49m\u001b[43mf\u001b[49m\u001b[43m,\u001b[49m\u001b[43m \u001b[49m\u001b[38;5;241;43m*\u001b[39;49m\u001b[38;5;241;43m*\u001b[39;49m\u001b[43moptions\u001b[49m\u001b[43m)\u001b[49m\n\u001b[0;32m    367\u001b[0m     \u001b[38;5;28;01mreturn\u001b[39;00m f\n",
      "File \u001b[1;32mc:\\Users\\fraro\\OneDrive\\Documentos\\Estudos\\Python\\.venv\\Lib\\site-packages\\flask\\sansio\\scaffold.py:46\u001b[0m, in \u001b[0;36msetupmethod.<locals>.wrapper_func\u001b[1;34m(self, *args, **kwargs)\u001b[0m\n\u001b[0;32m     44\u001b[0m \u001b[38;5;28;01mdef\u001b[39;00m \u001b[38;5;21mwrapper_func\u001b[39m(\u001b[38;5;28mself\u001b[39m: Scaffold, \u001b[38;5;241m*\u001b[39margs: t\u001b[38;5;241m.\u001b[39mAny, \u001b[38;5;241m*\u001b[39m\u001b[38;5;241m*\u001b[39mkwargs: t\u001b[38;5;241m.\u001b[39mAny) \u001b[38;5;241m-\u001b[39m\u001b[38;5;241m>\u001b[39m t\u001b[38;5;241m.\u001b[39mAny:\n\u001b[0;32m     45\u001b[0m     \u001b[38;5;28mself\u001b[39m\u001b[38;5;241m.\u001b[39m_check_setup_finished(f_name)\n\u001b[1;32m---> 46\u001b[0m     \u001b[38;5;28;01mreturn\u001b[39;00m \u001b[43mf\u001b[49m\u001b[43m(\u001b[49m\u001b[38;5;28;43mself\u001b[39;49m\u001b[43m,\u001b[49m\u001b[43m \u001b[49m\u001b[38;5;241;43m*\u001b[39;49m\u001b[43margs\u001b[49m\u001b[43m,\u001b[49m\u001b[43m \u001b[49m\u001b[38;5;241;43m*\u001b[39;49m\u001b[38;5;241;43m*\u001b[39;49m\u001b[43mkwargs\u001b[49m\u001b[43m)\u001b[49m\n",
      "File \u001b[1;32mc:\\Users\\fraro\\OneDrive\\Documentos\\Estudos\\Python\\.venv\\Lib\\site-packages\\flask\\sansio\\app.py:657\u001b[0m, in \u001b[0;36mApp.add_url_rule\u001b[1;34m(self, rule, endpoint, view_func, provide_automatic_options, **options)\u001b[0m\n\u001b[0;32m    654\u001b[0m rule_obj \u001b[38;5;241m=\u001b[39m \u001b[38;5;28mself\u001b[39m\u001b[38;5;241m.\u001b[39murl_rule_class(rule, methods\u001b[38;5;241m=\u001b[39mmethods, \u001b[38;5;241m*\u001b[39m\u001b[38;5;241m*\u001b[39moptions)\n\u001b[0;32m    655\u001b[0m rule_obj\u001b[38;5;241m.\u001b[39mprovide_automatic_options \u001b[38;5;241m=\u001b[39m provide_automatic_options  \u001b[38;5;66;03m# type: ignore[attr-defined]\u001b[39;00m\n\u001b[1;32m--> 657\u001b[0m \u001b[38;5;28;43mself\u001b[39;49m\u001b[38;5;241;43m.\u001b[39;49m\u001b[43murl_map\u001b[49m\u001b[38;5;241;43m.\u001b[39;49m\u001b[43madd\u001b[49m\u001b[43m(\u001b[49m\u001b[43mrule_obj\u001b[49m\u001b[43m)\u001b[49m\n\u001b[0;32m    658\u001b[0m \u001b[38;5;28;01mif\u001b[39;00m view_func \u001b[38;5;129;01mis\u001b[39;00m \u001b[38;5;129;01mnot\u001b[39;00m \u001b[38;5;28;01mNone\u001b[39;00m:\n\u001b[0;32m    659\u001b[0m     old_func \u001b[38;5;241m=\u001b[39m \u001b[38;5;28mself\u001b[39m\u001b[38;5;241m.\u001b[39mview_functions\u001b[38;5;241m.\u001b[39mget(endpoint)\n",
      "File \u001b[1;32mc:\\Users\\fraro\\OneDrive\\Documentos\\Estudos\\Python\\.venv\\Lib\\site-packages\\werkzeug\\routing\\map.py:169\u001b[0m, in \u001b[0;36mMap.add\u001b[1;34m(self, rulefactory)\u001b[0m\n\u001b[0;32m    163\u001b[0m \u001b[38;5;250m\u001b[39m\u001b[38;5;124;03m\"\"\"Add a new rule or factory to the map and bind it.  Requires that the\u001b[39;00m\n\u001b[0;32m    164\u001b[0m \u001b[38;5;124;03mrule is not bound to another map.\u001b[39;00m\n\u001b[0;32m    165\u001b[0m \n\u001b[0;32m    166\u001b[0m \u001b[38;5;124;03m:param rulefactory: a :class:`Rule` or :class:`RuleFactory`\u001b[39;00m\n\u001b[0;32m    167\u001b[0m \u001b[38;5;124;03m\"\"\"\u001b[39;00m\n\u001b[0;32m    168\u001b[0m \u001b[38;5;28;01mfor\u001b[39;00m rule \u001b[38;5;129;01min\u001b[39;00m rulefactory\u001b[38;5;241m.\u001b[39mget_rules(\u001b[38;5;28mself\u001b[39m):\n\u001b[1;32m--> 169\u001b[0m     \u001b[43mrule\u001b[49m\u001b[38;5;241;43m.\u001b[39;49m\u001b[43mbind\u001b[49m\u001b[43m(\u001b[49m\u001b[38;5;28;43mself\u001b[39;49m\u001b[43m)\u001b[49m\n\u001b[0;32m    170\u001b[0m     \u001b[38;5;28;01mif\u001b[39;00m \u001b[38;5;129;01mnot\u001b[39;00m rule\u001b[38;5;241m.\u001b[39mbuild_only:\n\u001b[0;32m    171\u001b[0m         \u001b[38;5;28mself\u001b[39m\u001b[38;5;241m.\u001b[39m_matcher\u001b[38;5;241m.\u001b[39madd(rule)\n",
      "File \u001b[1;32mc:\\Users\\fraro\\OneDrive\\Documentos\\Estudos\\Python\\.venv\\Lib\\site-packages\\werkzeug\\routing\\rules.py:563\u001b[0m, in \u001b[0;36mRule.bind\u001b[1;34m(self, map, rebind)\u001b[0m\n\u001b[0;32m    561\u001b[0m \u001b[38;5;28;01mif\u001b[39;00m \u001b[38;5;28mself\u001b[39m\u001b[38;5;241m.\u001b[39msubdomain \u001b[38;5;129;01mis\u001b[39;00m \u001b[38;5;28;01mNone\u001b[39;00m:\n\u001b[0;32m    562\u001b[0m     \u001b[38;5;28mself\u001b[39m\u001b[38;5;241m.\u001b[39msubdomain \u001b[38;5;241m=\u001b[39m \u001b[38;5;28mmap\u001b[39m\u001b[38;5;241m.\u001b[39mdefault_subdomain\n\u001b[1;32m--> 563\u001b[0m \u001b[38;5;28;43mself\u001b[39;49m\u001b[38;5;241;43m.\u001b[39;49m\u001b[43mcompile\u001b[49m\u001b[43m(\u001b[49m\u001b[43m)\u001b[49m\n",
      "File \u001b[1;32mc:\\Users\\fraro\\OneDrive\\Documentos\\Estudos\\Python\\.venv\\Lib\\site-packages\\werkzeug\\routing\\rules.py:708\u001b[0m, in \u001b[0;36mRule.compile\u001b[1;34m(self)\u001b[0m\n\u001b[0;32m    706\u001b[0m \u001b[38;5;28;01mif\u001b[39;00m \u001b[38;5;28mself\u001b[39m\u001b[38;5;241m.\u001b[39mmerge_slashes:\n\u001b[0;32m    707\u001b[0m     rule \u001b[38;5;241m=\u001b[39m re\u001b[38;5;241m.\u001b[39msub(\u001b[38;5;124m\"\u001b[39m\u001b[38;5;124m/\u001b[39m\u001b[38;5;124m{\u001b[39m\u001b[38;5;124m2,}?\u001b[39m\u001b[38;5;124m\"\u001b[39m, \u001b[38;5;124m\"\u001b[39m\u001b[38;5;124m/\u001b[39m\u001b[38;5;124m\"\u001b[39m, \u001b[38;5;28mself\u001b[39m\u001b[38;5;241m.\u001b[39mrule)\n\u001b[1;32m--> 708\u001b[0m \u001b[38;5;28mself\u001b[39m\u001b[38;5;241m.\u001b[39m_parts\u001b[38;5;241m.\u001b[39mextend(\u001b[38;5;28mself\u001b[39m\u001b[38;5;241m.\u001b[39m_parse_rule(rule))\n\u001b[0;32m    710\u001b[0m \u001b[38;5;28mself\u001b[39m\u001b[38;5;241m.\u001b[39m_build: t\u001b[38;5;241m.\u001b[39mCallable[\u001b[38;5;241m.\u001b[39m\u001b[38;5;241m.\u001b[39m\u001b[38;5;241m.\u001b[39m, \u001b[38;5;28mtuple\u001b[39m[\u001b[38;5;28mstr\u001b[39m, \u001b[38;5;28mstr\u001b[39m]]\n\u001b[0;32m    711\u001b[0m \u001b[38;5;28mself\u001b[39m\u001b[38;5;241m.\u001b[39m_build \u001b[38;5;241m=\u001b[39m \u001b[38;5;28mself\u001b[39m\u001b[38;5;241m.\u001b[39m_compile_builder(\u001b[38;5;28;01mFalse\u001b[39;00m)\u001b[38;5;241m.\u001b[39m\u001b[38;5;21m__get__\u001b[39m(\u001b[38;5;28mself\u001b[39m, \u001b[38;5;28;01mNone\u001b[39;00m)\n",
      "File \u001b[1;32mc:\\Users\\fraro\\OneDrive\\Documentos\\Estudos\\Python\\.venv\\Lib\\site-packages\\werkzeug\\routing\\rules.py:600\u001b[0m, in \u001b[0;36mRule._parse_rule\u001b[1;34m(self, rule)\u001b[0m\n\u001b[0;32m    598\u001b[0m match \u001b[38;5;241m=\u001b[39m _part_re\u001b[38;5;241m.\u001b[39mmatch(rule, pos)\n\u001b[0;32m    599\u001b[0m \u001b[38;5;28;01mif\u001b[39;00m match \u001b[38;5;129;01mis\u001b[39;00m \u001b[38;5;28;01mNone\u001b[39;00m:\n\u001b[1;32m--> 600\u001b[0m     \u001b[38;5;28;01mraise\u001b[39;00m \u001b[38;5;167;01mValueError\u001b[39;00m(\u001b[38;5;124mf\u001b[39m\u001b[38;5;124m\"\u001b[39m\u001b[38;5;124mmalformed url rule: \u001b[39m\u001b[38;5;132;01m{\u001b[39;00mrule\u001b[38;5;132;01m!r}\u001b[39;00m\u001b[38;5;124m\"\u001b[39m)\n\u001b[0;32m    602\u001b[0m data \u001b[38;5;241m=\u001b[39m match\u001b[38;5;241m.\u001b[39mgroupdict()\n\u001b[0;32m    603\u001b[0m \u001b[38;5;28;01mif\u001b[39;00m data[\u001b[38;5;124m\"\u001b[39m\u001b[38;5;124mstatic\u001b[39m\u001b[38;5;124m\"\u001b[39m] \u001b[38;5;129;01mis\u001b[39;00m \u001b[38;5;129;01mnot\u001b[39;00m \u001b[38;5;28;01mNone\u001b[39;00m:\n",
      "\u001b[1;31mValueError\u001b[0m: malformed url rule: '/livros/<int:Título>'"
     ]
    }
   ],
   "source": [
    "from flask import Flask, jsonify, request, json\n",
    "\n",
    "app = Flask(__name__)\n",
    " \n",
    "livros = [{'id': 1,'Título': 'A prática da solucionática','autor': 'Mark Joyner'},\n",
    "          {'id': 2,'Título': 'Iludidos pelo acaso','autor':'Nassim Nicholas Taleb'},\n",
    "          {'id': 3,'Título': 'Palavras que vendem milhões','autor': 'Gustavo Ferreira'}]\n",
    "\n",
    "# Consultar todos:\n",
    "@app.route('/livros', methods=['GET'])\n",
    "def obter_livros():\n",
    "    return jsonify(livros)\n",
    "\n",
    "# Consultar id:\n",
    "@app.route('/livros/<int:id>', methods= ['GET'])\n",
    "\n",
    "def obter_livro_id(id):\n",
    "    for livro in livros:\n",
    "        if livro.get('id') == id:\n",
    "            return jsonify(livro)\n",
    "        \n",
    "@app.route('/livros/<int:Título>', methods= ['GET'])\n",
    "\n",
    "def obter_livro_título(Título):\n",
    "    for Título in livros:\n",
    "        if Título.get('Título') == Título:\n",
    "            return jsonify(Título)        \n",
    "#  Editar:\n",
    "\n",
    "@app.route('/livros/<int:id>', methods=['PUT']) \n",
    "def editar_livro_por_id(id):\n",
    "    livro_alterado = request.get_json()\n",
    "    for indice, livro in enumerate(livros):\n",
    "        if livro.get('id') == id:\n",
    "            livros[indice].update(livro_alterado)\n",
    "            return jsonify(livros[indice]) \n",
    "\n",
    "#Criar:\n",
    "@app.route('/livros', methods=['POST'])\n",
    "def incluir_novo_livro():\n",
    "    novo_livro = request.get_json()\n",
    "    livros.append(novo_livro)\n",
    "    return jsonify(livros) \n",
    "\n",
    "# Excluir:\n",
    "# @app.route('')\n",
    "# def editar_livro_por_id(id):\n",
    "#     livro_alterado = request.get_json()\n",
    "#     for indice, livro in enumerate(livros):\n",
    "#         if livro.get('id') == id:\n",
    "#             livros[indice].update(livro_alterado)\n",
    "#             return jsonify(livros[indice]) \n",
    "\n",
    "# Deletar:\n",
    "# @app.route()\n",
    "# def editar_livro_por_id(id):\n",
    "#     livro_alterado = request.get_json()\n",
    "#     for indice, livro in enumerate(livros):\n",
    "#         if livro.get('id') == id:\n",
    "#             livros[indice].update(livro_alterado)\n",
    "#             return jsonify(livros[indice]) \n",
    "\n",
    "app.run()"
   ]
  }
 ],
 "metadata": {
  "kernelspec": {
   "display_name": ".venv",
   "language": "python",
   "name": "python3"
  },
  "language_info": {
   "codemirror_mode": {
    "name": "ipython",
    "version": 3
   },
   "file_extension": ".py",
   "mimetype": "text/x-python",
   "name": "python",
   "nbconvert_exporter": "python",
   "pygments_lexer": "ipython3",
   "version": "3.11.4"
  }
 },
 "nbformat": 4,
 "nbformat_minor": 2
}
