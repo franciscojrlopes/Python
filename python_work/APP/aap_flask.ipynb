{
 "cells": [
  {
   "cell_type": "code",
   "execution_count": 1,
   "metadata": {},
   "outputs": [
    {
     "name": "stdout",
     "output_type": "stream",
     "text": [
      " * Serving Flask app '__main__'\n",
      " * Debug mode: off\n"
     ]
    },
    {
     "name": "stderr",
     "output_type": "stream",
     "text": [
      "WARNING: This is a development server. Do not use it in a production deployment. Use a production WSGI server instead.\n",
      " * Running on http://127.0.0.1:5000\n",
      "Press CTRL+C to quit\n"
     ]
    }
   ],
   "source": [
    "from flask import Flask\n",
    "\n",
    "app = Flask(__name__)\n",
    "\n",
    "@app.route('/')\n",
    "def hello_world():\n",
    "    return '<p> hello world </p>'    \n",
    "\n",
    "@app.route('/chicolopes')\n",
    "def chico_l():\n",
    "    return '<p> Professor</p>'    \n",
    "\n",
    "@app.route('/materia')\n",
    "def direito():\n",
    "    return '<p> Direito Administrativo </p>'    \n",
    "\n",
    "\n",
    "app.run()\n",
    "\n"
   ]
  },
  {
   "cell_type": "code",
   "execution_count": 2,
   "metadata": {},
   "outputs": [
    {
     "name": "stdout",
     "output_type": "stream",
     "text": [
      " * Serving Flask app '__main__'\n",
      " * Debug mode: off\n"
     ]
    },
    {
     "name": "stderr",
     "output_type": "stream",
     "text": [
      "WARNING: This is a development server. Do not use it in a production deployment. Use a production WSGI server instead.\n",
      " * Running on http://127.0.0.1:5000\n",
      "Press CTRL+C to quit\n",
      "127.0.0.1 - - [23/Jun/2024 20:12:38] \"GET / HTTP/1.1\" 200 -\n",
      "127.0.0.1 - - [23/Jun/2024 20:12:38] \"GET / HTTP/1.1\" 200 -\n",
      "127.0.0.1 - - [23/Jun/2024 20:12:39] \"GET /favicon.ico HTTP/1.1\" 404 -\n"
     ]
    }
   ],
   "source": [
    "from flask import Flask\n",
    "\n",
    "app = Flask(__name__)\n",
    "\n",
    "@app.route('/')\n",
    "def hello_world():\n",
    "    return {'Nome': 'Francisco'}\n",
    "\n",
    "@app.route('/unifoa')\n",
    "def chico_l():\n",
    "    return {'Cargo': 'Professor'}\n",
    "\n",
    "@app.route('/disciplina')\n",
    "def direito():\n",
    "    return {'Disciplina': 'Direito Administrativo'}\n",
    "\n",
    "\n",
    "app.run()"
   ]
  }
 ],
 "metadata": {
  "kernelspec": {
   "display_name": ".venv",
   "language": "python",
   "name": "python3"
  },
  "language_info": {
   "codemirror_mode": {
    "name": "ipython",
    "version": 3
   },
   "file_extension": ".py",
   "mimetype": "text/x-python",
   "name": "python",
   "nbconvert_exporter": "python",
   "pygments_lexer": "ipython3",
   "version": "3.11.4"
  }
 },
 "nbformat": 4,
 "nbformat_minor": 2
}
