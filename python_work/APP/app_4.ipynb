{
 "cells": [
  {
   "cell_type": "code",
   "execution_count": 5,
   "metadata": {},
   "outputs": [
    {
     "name": "stdout",
     "output_type": "stream",
     "text": [
      "<Response [403]>\n",
      "b'{\\n  \"timestamp\" : 1713709406065,\\n  \"status\" : 403,\\n  \"error\" : \"Forbidden\",\\n  \"message\" : \"Could not verify the provided CSRF token because your session was not found.\",\\n  \"path\" : \"/olinda/servico/mecir_dinheiro_em_circulacao/versao/v1/odata/informacoes_diarias\"\\n}'\n"
     ]
    }
   ],
   "source": [
    "import requests\n",
    "\n",
    "# Making a PUT request\n",
    "r = requests.put('/ put', data ={'key':'value'})\n",
    "\n",
    "# check status code for response received\n",
    "# success code - 200\n",
    "print(r)\n",
    "\n",
    "# print content of request\n",
    "print(r.content)\n"
   ]
  }
 ],
 "metadata": {
  "kernelspec": {
   "display_name": ".venv",
   "language": "python",
   "name": "python3"
  },
  "language_info": {
   "codemirror_mode": {
    "name": "ipython",
    "version": 3
   },
   "file_extension": ".py",
   "mimetype": "text/x-python",
   "name": "python",
   "nbconvert_exporter": "python",
   "pygments_lexer": "ipython3",
   "version": "3.11.4"
  }
 },
 "nbformat": 4,
 "nbformat_minor": 2
}
