{
 "cells": [
  {
   "cell_type": "code",
   "execution_count": 1,
   "metadata": {},
   "outputs": [
    {
     "name": "stdout",
     "output_type": "stream",
     "text": [
      "4.9733\n",
      "[4.9767,\n",
      " 4.9767,\n",
      " 4.9733,\n",
      " 4.9993,\n",
      " 5.0005,\n",
      " 4.9736,\n",
      " 4.9663,\n",
      " 5.0339,\n",
      " 5.0304,\n",
      " 4.9954,\n",
      " 4.9949,\n",
      " 4.9954,\n",
      " 4.9942,\n",
      " 4.971,\n",
      " 4.9695,\n",
      " 4.9783,\n",
      " 4.9825,\n",
      " 4.9805,\n",
      " 4.935,\n",
      " 4.9446,\n",
      " 4.9581,\n",
      " 4.9454,\n",
      " 4.9541,\n",
      " 4.9541,\n",
      " 4.9703,\n",
      " 4.9675,\n",
      " 4.9335,\n",
      " 4.9799,\n",
      " 4.9938,\n",
      " 4.9938]\n"
     ]
    }
   ],
   "source": [
    "import requests\n",
    "import json\n",
    "import pprint\n",
    "\n",
    "cotacoes_dolar30d = requests.get('https://economia.awesomeapi.com.br/json/daily/USD-BRL/30')\n",
    "cotacoes_dolar_dic = cotacoes_dolar30d.json()\n",
    "print(cotacoes_dolar_dic[2]['bid'])\n",
    "lista_cotacoes_dolar = [float(item['bid']) for item in cotacoes_dolar_dic]\n",
    "pprint.pprint(lista_cotacoes_dolar)\n"
   ]
  }
 ],
 "metadata": {
  "kernelspec": {
   "display_name": ".venv",
   "language": "python",
   "name": "python3"
  },
  "language_info": {
   "codemirror_mode": {
    "name": "ipython",
    "version": 3
   },
   "file_extension": ".py",
   "mimetype": "text/x-python",
   "name": "python",
   "nbconvert_exporter": "python",
   "pygments_lexer": "ipython3",
   "version": "3.11.4"
  }
 },
 "nbformat": 4,
 "nbformat_minor": 2
}
