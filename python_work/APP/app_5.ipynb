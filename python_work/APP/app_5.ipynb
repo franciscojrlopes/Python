{
 "cells": [
  {
   "cell_type": "code",
   "execution_count": 8,
   "metadata": {},
   "outputs": [
    {
     "data": {
      "text/plain": [
       "<Response [200]>"
      ]
     },
     "execution_count": 8,
     "metadata": {},
     "output_type": "execute_result"
    }
   ],
   "source": [
    "import requests\n",
    "requests.get('https://olinda.bcb.gov.br/olinda/servico/mecir_moedas_comemorativas/versao/v1/documentacao')\n",
    "\n",
    "requests.get('https://olinda.bcb.gov.br/olinda/servico/DASFN/versao/v1/odata/Recursos?')\n"
   ]
  },
  {
   "cell_type": "code",
   "execution_count": 9,
   "metadata": {},
   "outputs": [
    {
     "data": {
      "text/plain": [
       "<Response [200]>"
      ]
     },
     "execution_count": 9,
     "metadata": {},
     "output_type": "execute_result"
    }
   ],
   "source": [
    "\n",
    "import requests\n",
    "requests.get('https://github.com/franciscojrlopes')\n",
    "requests.get('https://franciscojrlopes.github.io/curso-sobre-politicas-publicas-ambientais/')\n",
    "\n",
    "\n"
   ]
  },
  {
   "cell_type": "code",
   "execution_count": 10,
   "metadata": {},
   "outputs": [
    {
     "name": "stdout",
     "output_type": "stream",
     "text": [
      "{'USDBRL': {'ask': '5.0768',\n",
      "            'bid': '5.0758',\n",
      "            'code': 'USD',\n",
      "            'codein': 'BRL',\n",
      "            'create_date': '2024-05-06 19:30:04',\n",
      "            'high': '5.0785',\n",
      "            'low': '5.0754',\n",
      "            'name': 'Dólar Americano/Real Brasileiro',\n",
      "            'pctChange': '0.01',\n",
      "            'timestamp': '1715034604',\n",
      "            'varBid': '0.0005'}}\n"
     ]
    }
   ],
   "source": [
    "import requests\n",
    "import json\n",
    "import pprint\n",
    "cotação_dolar_real = requests.get('https://economia.awesomeapi.com.br/last/USD-BRL')\n",
    "cotação_dolar_dic = cotação_dolar_real.json() \n",
    "pprint.pprint(cotação_dolar_dic)\n"
   ]
  },
  {
   "cell_type": "code",
   "execution_count": 11,
   "metadata": {},
   "outputs": [
    {
     "name": "stdout",
     "output_type": "stream",
     "text": [
      "{'BTCBRL': {'ask': '322371',\n",
      "            'bid': '321779',\n",
      "            'code': 'BTC',\n",
      "            'codein': 'BRL',\n",
      "            'create_date': '2024-05-06 21:30:14',\n",
      "            'high': '334000',\n",
      "            'low': '320250',\n",
      "            'name': 'Bitcoin/Real Brasileiro',\n",
      "            'pctChange': '-1.39',\n",
      "            'timestamp': '1715041814',\n",
      "            'varBid': '-4547'},\n",
      " 'EURBRL': {'ask': '5.4688',\n",
      "            'bid': '5.4608',\n",
      "            'code': 'EUR',\n",
      "            'codein': 'BRL',\n",
      "            'create_date': '2024-05-06 21:29:44',\n",
      "            'high': '5.4648',\n",
      "            'low': '5.4648',\n",
      "            'name': 'Euro/Real Brasileiro',\n",
      "            'pctChange': '0',\n",
      "            'timestamp': '1715041784',\n",
      "            'varBid': '0'},\n",
      " 'USDBRL': {'ask': '5.0768',\n",
      "            'bid': '5.0758',\n",
      "            'code': 'USD',\n",
      "            'codein': 'BRL',\n",
      "            'create_date': '2024-05-06 19:30:04',\n",
      "            'high': '5.0785',\n",
      "            'low': '5.0754',\n",
      "            'name': 'Dólar Americano/Real Brasileiro',\n",
      "            'pctChange': '0.01',\n",
      "            'timestamp': '1715034604',\n",
      "            'varBid': '0.0005'}}\n"
     ]
    }
   ],
   "source": [
    "link = 'https://economia.awesomeapi.com.br/last/USD-BRL,EUR-BRL,BTC-BRL'\n",
    "cotação_moedas = requests.get(link)\n",
    "moedas_dic = cotação_moedas.json()\n",
    "pprint.pprint(moedas_dic)\n"
   ]
  },
  {
   "cell_type": "code",
   "execution_count": 12,
   "metadata": {},
   "outputs": [
    {
     "name": "stdout",
     "output_type": "stream",
     "text": [
      "{'address': 'Rua Dezessete',\n",
      " 'address_name': 'Dezessete',\n",
      " 'address_type': 'Rua',\n",
      " 'cep': '27259200',\n",
      " 'city': 'Volta Redonda',\n",
      " 'city_ibge': '3306305',\n",
      " 'ddd': '24',\n",
      " 'district': 'Casa de Pedra',\n",
      " 'lat': '-22.54438',\n",
      " 'lng': '-44.07171',\n",
      " 'state': 'RJ'}\n"
     ]
    }
   ],
   "source": [
    "link = ' https://cep.awesomeapi.com.br/json/27259200'\n",
    "cep = requests.get(link)\n",
    "cep_dic = cep.json()\n",
    "pprint.pprint(cep_dic)"
   ]
  },
  {
   "cell_type": "code",
   "execution_count": 13,
   "metadata": {},
   "outputs": [
    {
     "name": "stdout",
     "output_type": "stream",
     "text": [
      "{'address': 'Avenida Lineu de Paula Machado',\n",
      " 'address_name': 'Lineu de Paula Machado',\n",
      " 'address_type': 'Avenida',\n",
      " 'cep': '22470040',\n",
      " 'city': 'Rio de Janeiro',\n",
      " 'city_ibge': '3304557',\n",
      " 'ddd': '21',\n",
      " 'district': 'Lagoa',\n",
      " 'lat': '-22.96422',\n",
      " 'lng': '-43.21583',\n",
      " 'state': 'RJ'}\n"
     ]
    }
   ],
   "source": [
    "link = ' https://cep.awesomeapi.com.br/json/22470040'\n",
    "cep = requests.get(link)\n",
    "cep_dic = cep.json()\n",
    "pprint.pprint(cep_dic)"
   ]
  },
  {
   "cell_type": "code",
   "execution_count": 14,
   "metadata": {},
   "outputs": [
    {
     "name": "stdout",
     "output_type": "stream",
     "text": [
      "{'meta': {'currentPage': 1,\n",
      "          'itemsPerPage': 1,\n",
      "          'totalOfItems': 1,\n",
      "          'totalOfPages': 1},\n",
      " 'result': {'city': 'Pinheiral',\n",
      "            'complement': '',\n",
      "            'district': '',\n",
      "            'state': 'Rio de Janeiro',\n",
      "            'stateShortname': 'RJ',\n",
      "            'street': '',\n",
      "            'zipcode': '27197000'}}\n"
     ]
    }
   ],
   "source": [
    "link = 'https://api.brasilaberto.com/v1/zipcode/{27197000}'\n",
    "cep = requests.get(link)\n",
    "cep_dic = cep.json()\n",
    "pprint.pprint(cep_dic)"
   ]
  },
  {
   "cell_type": "code",
   "execution_count": 15,
   "metadata": {},
   "outputs": [
    {
     "name": "stdout",
     "output_type": "stream",
     "text": [
      "{'meta': {'currentPage': 1,\n",
      "          'itemsPerPage': 1,\n",
      "          'totalOfItems': 1,\n",
      "          'totalOfPages': 1},\n",
      " 'result': {'city': 'Piraí',\n",
      "            'complement': '',\n",
      "            'district': '',\n",
      "            'state': 'Rio de Janeiro',\n",
      "            'stateShortname': 'RJ',\n",
      "            'street': '',\n",
      "            'zipcode': '27175000'}}\n"
     ]
    }
   ],
   "source": [
    "link = 'https://api.brasilaberto.com/v1/zipcode/{27175000}'\n",
    "cep = requests.get(link)\n",
    "cep_dic = cep.json()\n",
    "pprint.pprint(cep_dic)"
   ]
  },
  {
   "cell_type": "code",
   "execution_count": 16,
   "metadata": {},
   "outputs": [
    {
     "name": "stdout",
     "output_type": "stream",
     "text": [
      "{'meta': {'currentPage': 1,\n",
      "          'itemsPerPage': 1,\n",
      "          'totalOfItems': 1,\n",
      "          'totalOfPages': 1},\n",
      " 'result': {'city': 'Piraí',\n",
      "            'complement': '',\n",
      "            'district': 'Arrozal',\n",
      "            'state': 'Rio de Janeiro',\n",
      "            'stateShortname': 'RJ',\n",
      "            'street': '',\n",
      "            'zipcode': '27185000'}}\n"
     ]
    }
   ],
   "source": [
    "link = 'https://api.brasilaberto.com/v1/zipcode/{27185000}'\n",
    "cep = requests.get(link)\n",
    "cep_dic = cep.json()\n",
    "pprint.pprint(cep_dic)"
   ]
  },
  {
   "cell_type": "code",
   "execution_count": 17,
   "metadata": {},
   "outputs": [
    {
     "name": "stdout",
     "output_type": "stream",
     "text": [
      "{'meta': {'currentPage': 1,\n",
      "          'itemsPerPage': 1,\n",
      "          'totalOfItems': 1,\n",
      "          'totalOfPages': 1},\n",
      " 'result': {'code': 401, 'error': True, 'message': 'Unauthorized'}}\n"
     ]
    }
   ],
   "source": [
    "link = 'https://api.brasilaberto.com/v2/zipcode/27197000'\n",
    "cep = requests.get(link)\n",
    "cep_dic = cep.json()\n",
    "pprint.pprint(cep_dic)\n",
    "\n",
    "# Plano premium, não abre se pagar abre com latitude e longitude, etc......"
   ]
  },
  {
   "cell_type": "code",
   "execution_count": 19,
   "metadata": {},
   "outputs": [
    {
     "name": "stdout",
     "output_type": "stream",
     "text": [
      "{'meta': {'currentPage': 1,\n",
      "          'itemsPerPage': 1,\n",
      "          'totalOfItems': 1,\n",
      "          'totalOfPages': 1},\n",
      " 'result': {'city': 'Pinheiral',\n",
      "            'complement': '',\n",
      "            'district': '',\n",
      "            'state': 'Rio de Janeiro',\n",
      "            'stateShortname': 'RJ',\n",
      "            'street': '',\n",
      "            'zipcode': '27197000'}}\n"
     ]
    }
   ],
   "source": [
    "link = 'https://api.brasilaberto.com/v1/zipcode/27197000'\n",
    "cep = requests.get(link)\n",
    "cep_dic = cep.json()\n",
    "pprint.pprint(cep_dic)"
   ]
  }
 ],
 "metadata": {
  "kernelspec": {
   "display_name": ".venv",
   "language": "python",
   "name": "python3"
  },
  "language_info": {
   "codemirror_mode": {
    "name": "ipython",
    "version": 3
   },
   "file_extension": ".py",
   "mimetype": "text/x-python",
   "name": "python",
   "nbconvert_exporter": "python",
   "pygments_lexer": "ipython3",
   "version": "3.11.4"
  }
 },
 "nbformat": 4,
 "nbformat_minor": 2
}
