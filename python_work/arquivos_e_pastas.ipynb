{
 "cells": [
  {
   "cell_type": "markdown",
   "metadata": {},
   "source": [
    "Listar todos arquivos de uma pasta........"
   ]
  },
  {
   "cell_type": "code",
   "execution_count": 10,
   "metadata": {},
   "outputs": [
    {
     "name": "stdout",
     "output_type": "stream",
     "text": [
      "c:\\Users\\fraro\\OneDrive\\Documentos\\Estudos\\Python\\python_work\n"
     ]
    }
   ],
   "source": [
    "from pathlib import Path\n",
    "print(Path.cwd())"
   ]
  },
  {
   "cell_type": "code",
   "execution_count": 11,
   "metadata": {},
   "outputs": [
    {
     "name": "stdout",
     "output_type": "stream",
     "text": [
      "c:\\Users\\fraro\\OneDrive\\Documentos\\Estudos\\Python\\python_work\n",
      "c:\\Users\\fraro\\OneDrive\\Documentos\\Estudos\\Python\\python_work\\Python Data Science\n"
     ]
    }
   ],
   "source": [
    "from pathlib import Path\n",
    "print(Path.cwd())\n",
    "caminho = Path('c:/Users/fraro/OneDrive/Documentos/Estudos/Python/python_work/Python Data Science') #inverter barras...\n",
    "print(caminho)"
   ]
  },
  {
   "cell_type": "code",
   "execution_count": 12,
   "metadata": {},
   "outputs": [
    {
     "name": "stdout",
     "output_type": "stream",
     "text": [
      "c:\\Users\\fraro\\OneDrive\\Documentos\\Estudos\\Python\\python_work\n",
      "c:\\Users\\fraro\\OneDrive\\Documentos\\Estudos\\Python\\python_work\\Python Data Science\n",
      "c:\\Users\\fraro\\OneDrive\\Documentos\\Estudos\\Python\\python_work\\Python Data Science\\array_D1.ipynb\n",
      "c:\\Users\\fraro\\OneDrive\\Documentos\\Estudos\\Python\\python_work\\Python Data Science\\array_soma.ipynb\n",
      "c:\\Users\\fraro\\OneDrive\\Documentos\\Estudos\\Python\\python_work\\Python Data Science\\brazil-exports-metadata.json\n",
      "c:\\Users\\fraro\\OneDrive\\Documentos\\Estudos\\Python\\python_work\\Python Data Science\\country.pdf\n",
      "c:\\Users\\fraro\\OneDrive\\Documentos\\Estudos\\Python\\python_work\\Python Data Science\\country.png\n",
      "c:\\Users\\fraro\\OneDrive\\Documentos\\Estudos\\Python\\python_work\\Python Data Science\\dados1.csv\n",
      "c:\\Users\\fraro\\OneDrive\\Documentos\\Estudos\\Python\\python_work\\Python Data Science\\dados3.txt\n",
      "c:\\Users\\fraro\\OneDrive\\Documentos\\Estudos\\Python\\python_work\\Python Data Science\\exportacao_2.ipynb\n",
      "c:\\Users\\fraro\\OneDrive\\Documentos\\Estudos\\Python\\python_work\\Python Data Science\\exportacao_brasil.ipynb\n",
      "c:\\Users\\fraro\\OneDrive\\Documentos\\Estudos\\Python\\python_work\\Python Data Science\\exportacoes_franca.csv\n",
      "c:\\Users\\fraro\\OneDrive\\Documentos\\Estudos\\Python\\python_work\\Python Data Science\\fifa.csv\n",
      "c:\\Users\\fraro\\OneDrive\\Documentos\\Estudos\\Python\\python_work\\Python Data Science\\gas_prices.csv\n",
      "c:\\Users\\fraro\\OneDrive\\Documentos\\Estudos\\Python\\python_work\\Python Data Science\\house.csv\n",
      "c:\\Users\\fraro\\OneDrive\\Documentos\\Estudos\\Python\\python_work\\Python Data Science\\matplot.ipynb\n",
      "c:\\Users\\fraro\\OneDrive\\Documentos\\Estudos\\Python\\python_work\\Python Data Science\\numpy_1.ipynb\n",
      "c:\\Users\\fraro\\OneDrive\\Documentos\\Estudos\\Python\\python_work\\Python Data Science\\pj_1.ipynb\n",
      "c:\\Users\\fraro\\OneDrive\\Documentos\\Estudos\\Python\\python_work\\Python Data Science\\pj_2.ipynb\n",
      "c:\\Users\\fraro\\OneDrive\\Documentos\\Estudos\\Python\\python_work\\Python Data Science\\pj_3.ipynb\n",
      "c:\\Users\\fraro\\OneDrive\\Documentos\\Estudos\\Python\\python_work\\Python Data Science\\pj_4.ipynb\n",
      "c:\\Users\\fraro\\OneDrive\\Documentos\\Estudos\\Python\\python_work\\Python Data Science\\pj_5.ipynb\n",
      "c:\\Users\\fraro\\OneDrive\\Documentos\\Estudos\\Python\\python_work\\Python Data Science\\sleção_de_itens_array.ipynb\n",
      "c:\\Users\\fraro\\OneDrive\\Documentos\\Estudos\\Python\\python_work\\Python Data Science\\streamlit.ipynb\n"
     ]
    }
   ],
   "source": [
    "from pathlib import Path\n",
    "print(Path.cwd())\n",
    "caminho = Path('c:/Users/fraro/OneDrive/Documentos/Estudos/Python/python_work/Python Data Science')\n",
    "print(caminho)\n",
    "arquivos = caminho.iterdir()\n",
    "for arquivo in arquivos:\n",
    "    print(arquivo)"
   ]
  },
  {
   "cell_type": "code",
   "execution_count": 18,
   "metadata": {},
   "outputs": [
    {
     "name": "stdout",
     "output_type": "stream",
     "text": [
      "c:\\Users\\fraro\\OneDrive\\Documentos\\Estudos\\Python\\python_work\n",
      "Python Data Science\n",
      "Python Data Science\\array_D1.ipynb\n",
      "Python Data Science\\array_soma.ipynb\n",
      "Python Data Science\\brazil-exports-metadata.json\n",
      "Python Data Science\\country.pdf\n",
      "Python Data Science\\country.png\n",
      "Python Data Science\\dados1.csv\n",
      "Python Data Science\\dados3.txt\n",
      "Python Data Science\\exportacao_2.ipynb\n",
      "Python Data Science\\exportacao_brasil.ipynb\n",
      "Python Data Science\\exportacoes_franca.csv\n",
      "Python Data Science\\fifa.csv\n",
      "Python Data Science\\gas_prices.csv\n",
      "Python Data Science\\house.csv\n",
      "Python Data Science\\matplot.ipynb\n",
      "Python Data Science\\numpy_1.ipynb\n",
      "Python Data Science\\pj_1.ipynb\n",
      "Python Data Science\\pj_2.ipynb\n",
      "Python Data Science\\pj_3.ipynb\n",
      "Python Data Science\\pj_4.ipynb\n",
      "Python Data Science\\pj_5.ipynb\n",
      "Python Data Science\\sleção_de_itens_array.ipynb\n",
      "Python Data Science\\streamlit.ipynb\n"
     ]
    }
   ],
   "source": [
    "from pathlib import Path\n",
    "print(Path.cwd())\n",
    "caminho = Path('Python Data Science')\n",
    "print(caminho)\n",
    "arquivos = caminho.iterdir()\n",
    "for arquivo in arquivos:\n",
    "    print(arquivo)"
   ]
  },
  {
   "cell_type": "code",
   "execution_count": 25,
   "metadata": {},
   "outputs": [
    {
     "name": "stdout",
     "output_type": "stream",
     "text": [
      "Existe!\n"
     ]
    }
   ],
   "source": [
    "if (caminho / Path('array_D1.ipynb')).exists():\n",
    "    print('Existe!')"
   ]
  },
  {
   "cell_type": "markdown",
   "metadata": {},
   "source": [
    "Criando Pastas e Moviementado Arquivos......\n",
    ".mkdir (make dir) criando diretório...."
   ]
  },
  {
   "cell_type": "code",
   "execution_count": null,
   "metadata": {},
   "outputs": [],
   "source": []
  }
 ],
 "metadata": {
  "kernelspec": {
   "display_name": ".venv",
   "language": "python",
   "name": "python3"
  },
  "language_info": {
   "codemirror_mode": {
    "name": "ipython",
    "version": 3
   },
   "file_extension": ".py",
   "mimetype": "text/x-python",
   "name": "python",
   "nbconvert_exporter": "python",
   "pygments_lexer": "ipython3",
   "version": "3.11.4"
  }
 },
 "nbformat": 4,
 "nbformat_minor": 2
}
