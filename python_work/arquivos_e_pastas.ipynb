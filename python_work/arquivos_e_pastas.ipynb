{
 "cells": [
  {
   "cell_type": "markdown",
   "metadata": {},
   "source": [
    "Listar todos arquivos de uma pasta........"
   ]
  },
  {
   "cell_type": "code",
   "execution_count": 2,
   "metadata": {},
   "outputs": [
    {
     "name": "stdout",
     "output_type": "stream",
     "text": [
      "c:\\Users\\fraro\\OneDrive\\Documentos\\Estudos\\Python\\python_work\n"
     ]
    }
   ],
   "source": [
    "from pathlib import Path\n",
    "print(Path.cwd())"
   ]
  },
  {
   "cell_type": "code",
   "execution_count": 3,
   "metadata": {},
   "outputs": [
    {
     "name": "stdout",
     "output_type": "stream",
     "text": [
      "c:\\Users\\fraro\\OneDrive\\Documentos\\Estudos\\Python\\python_work\n",
      "c:\\Users\\fraro\\OneDrive\\Documentos\\Estudos\\Python\\python_work\\Python Data Science\n"
     ]
    }
   ],
   "source": [
    "from pathlib import Path\n",
    "print(Path.cwd())\n",
    "caminho = Path('c:/Users/fraro/OneDrive/Documentos/Estudos/Python/python_work/Python Data Science')\n",
    "print(caminho)"
   ]
  },
  {
   "cell_type": "code",
   "execution_count": 6,
   "metadata": {},
   "outputs": [
    {
     "name": "stdout",
     "output_type": "stream",
     "text": [
      "<generator object Path.iterdir at 0x0000021FF72B3D80>\n",
      "<generator object Path.iterdir at 0x0000021FF72B3D80>\n",
      "<generator object Path.iterdir at 0x0000021FF72B3D80>\n",
      "<generator object Path.iterdir at 0x0000021FF72B3D80>\n",
      "<generator object Path.iterdir at 0x0000021FF72B3D80>\n",
      "<generator object Path.iterdir at 0x0000021FF72B3D80>\n",
      "<generator object Path.iterdir at 0x0000021FF72B3D80>\n",
      "<generator object Path.iterdir at 0x0000021FF72B3D80>\n",
      "<generator object Path.iterdir at 0x0000021FF72B3D80>\n",
      "<generator object Path.iterdir at 0x0000021FF72B3D80>\n",
      "<generator object Path.iterdir at 0x0000021FF72B3D80>\n",
      "<generator object Path.iterdir at 0x0000021FF72B3D80>\n",
      "<generator object Path.iterdir at 0x0000021FF72B3D80>\n",
      "<generator object Path.iterdir at 0x0000021FF72B3D80>\n",
      "<generator object Path.iterdir at 0x0000021FF72B3D80>\n",
      "<generator object Path.iterdir at 0x0000021FF72B3D80>\n",
      "<generator object Path.iterdir at 0x0000021FF72B3D80>\n",
      "<generator object Path.iterdir at 0x0000021FF72B3D80>\n",
      "<generator object Path.iterdir at 0x0000021FF72B3D80>\n",
      "<generator object Path.iterdir at 0x0000021FF72B3D80>\n",
      "<generator object Path.iterdir at 0x0000021FF72B3D80>\n",
      "<generator object Path.iterdir at 0x0000021FF72B3D80>\n"
     ]
    }
   ],
   "source": [
    "Data_Science = caminho.iterdir()\n",
    "for arquivo in Data_Science:\n",
    "    print(Data_Science)\n"
   ]
  }
 ],
 "metadata": {
  "kernelspec": {
   "display_name": ".venv",
   "language": "python",
   "name": "python3"
  },
  "language_info": {
   "codemirror_mode": {
    "name": "ipython",
    "version": 3
   },
   "file_extension": ".py",
   "mimetype": "text/x-python",
   "name": "python",
   "nbconvert_exporter": "python",
   "pygments_lexer": "ipython3",
   "version": "3.11.4"
  }
 },
 "nbformat": 4,
 "nbformat_minor": 2
}
