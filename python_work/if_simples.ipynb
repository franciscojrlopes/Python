{
 "cells": [
  {
   "cell_type": "markdown",
   "metadata": {},
   "source": [
    "if teste_condicional:\n",
    "    faça alguma coisa"
   ]
  },
  {
   "cell_type": "markdown",
   "metadata": {},
   "source": [
    "Votar.py:"
   ]
  },
  {
   "cell_type": "code",
   "execution_count": 2,
   "metadata": {},
   "outputs": [
    {
     "name": "stdout",
     "output_type": "stream",
     "text": [
      "Você tem idade suficiente para votar!\n"
     ]
    }
   ],
   "source": [
    "age = 19\n",
    "if age >= 18:\n",
    "    print('Você tem idade suficiente para votar!')"
   ]
  },
  {
   "cell_type": "code",
   "execution_count": 3,
   "metadata": {},
   "outputs": [
    {
     "name": "stdout",
     "output_type": "stream",
     "text": [
      "Você tem idade suficiente para votar!\n",
      "Você tem que tirar seu título para votar!\n"
     ]
    }
   ],
   "source": [
    "age = 19\n",
    "if age >= 18:\n",
    "    print('Você tem idade suficiente para votar!')\n",
    "    print('Você tem que tirar seu título para votar!')"
   ]
  },
  {
   "cell_type": "code",
   "execution_count": 5,
   "metadata": {},
   "outputs": [
    {
     "name": "stdout",
     "output_type": "stream",
     "text": [
      "Você tem idade suficiente para votar!\n",
      "Você tem que tirar seu título para votar!\n",
      "Exerça sua cidadania!!!!\n"
     ]
    }
   ],
   "source": [
    "age = 19\n",
    "if age >= 18:\n",
    "    print('Você tem idade suficiente para votar!')\n",
    "    print('Você tem que tirar seu título para votar!')\n",
    "    print('Exerça sua cidadania!!!!')"
   ]
  },
  {
   "cell_type": "code",
   "execution_count": 1,
   "metadata": {},
   "outputs": [
    {
     "name": "stdout",
     "output_type": "stream",
     "text": [
      "Você tem idade suficiente para votar!\n",
      "Você tem que tirar seu título para votar!\n",
      "Exerça sua cidadania!!!!\n",
      "Vote consciente!!!!\n"
     ]
    }
   ],
   "source": [
    "age = 19\n",
    "if age >= 18:\n",
    "    print('Você tem idade suficiente para votar!')\n",
    "    print('Você tem que tirar seu título para votar!')\n",
    "    print('Exerça sua cidadania!!!!')\n",
    "    print('Vote consciente!!!!')"
   ]
  }
 ],
 "metadata": {
  "kernelspec": {
   "display_name": ".venv",
   "language": "python",
   "name": "python3"
  },
  "language_info": {
   "codemirror_mode": {
    "name": "ipython",
    "version": 3
   },
   "file_extension": ".py",
   "mimetype": "text/x-python",
   "name": "python",
   "nbconvert_exporter": "python",
   "pygments_lexer": "ipython3",
   "version": "3.11.4"
  }
 },
 "nbformat": 4,
 "nbformat_minor": 2
}
