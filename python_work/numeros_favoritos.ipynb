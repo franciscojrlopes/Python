{
 "cells": [
  {
   "cell_type": "code",
   "execution_count": 8,
   "metadata": {},
   "outputs": [
    {
     "name": "stdout",
     "output_type": "stream",
     "text": [
      "O número favorito de Rebeca é: 7.\n",
      "O número favorito de FRancisco é: 9.\n",
      "O número favorito de João é: 10.\n",
      "O número favorito de Maria é: 13.\n",
      "O número favorito de Rafael é: 6.\n"
     ]
    }
   ],
   "source": [
    "numero_favorito = {'Rebeca': '7', 'Francisco': '9', 'João': '10', 'Maria': '13', 'Rafael': '6'}\n",
    "\n",
    "num = numero_favorito['Rebeca']\n",
    "print(f'O número favorito de Rebeca é: {num}.')\n",
    "\n",
    "num = numero_favorito['Francisco']\n",
    "print(f'O número favorito de FRancisco é: {num}.')\n",
    "\n",
    "num = numero_favorito['João']\n",
    "print(f'O número favorito de João é: {num}.')\n",
    "\n",
    "num = numero_favorito['Maria']\n",
    "print(f'O número favorito de Maria é: {num}.')\n",
    "\n",
    "num = numero_favorito['Rafael']\n",
    "print(f'O número favorito de Rafael é: {num}.')"
   ]
  },
  {
   "cell_type": "code",
   "execution_count": 9,
   "metadata": {},
   "outputs": [
    {
     "name": "stdout",
     "output_type": "stream",
     "text": [
      "Mandy's favorite number is 42.\n",
      "Micah's favorite number is 23.\n",
      "Gus's favorite number is 7.\n",
      "Hank's favorite number is 1000000.\n",
      "Maggie's favorite number is 0.\n"
     ]
    }
   ],
   "source": [
    "favorite_numbers = {\n",
    "    'mandy': 42,\n",
    "    'micah': 23,\n",
    "    'gus': 7,\n",
    "    'hank': 1_000_000,\n",
    "    'maggie': 0,\n",
    "    }\n",
    "\n",
    "num = favorite_numbers['mandy']\n",
    "print(f\"Mandy's favorite number is {num}.\")\n",
    "\n",
    "num = favorite_numbers['micah']\n",
    "print(f\"Micah's favorite number is {num}.\")\n",
    "\n",
    "num = favorite_numbers['gus']\n",
    "print(f\"Gus's favorite number is {num}.\")\n",
    "\n",
    "num = favorite_numbers['hank']\n",
    "print(f\"Hank's favorite number is {num}.\")\n",
    "\n",
    "num = favorite_numbers['maggie']\n",
    "print(f\"Maggie's favorite number is {num}.\")"
   ]
  }
 ],
 "metadata": {
  "kernelspec": {
   "display_name": ".venv",
   "language": "python",
   "name": "python3"
  },
  "language_info": {
   "codemirror_mode": {
    "name": "ipython",
    "version": 3
   },
   "file_extension": ".py",
   "mimetype": "text/x-python",
   "name": "python",
   "nbconvert_exporter": "python",
   "pygments_lexer": "ipython3",
   "version": "3.11.4"
  }
 },
 "nbformat": 4,
 "nbformat_minor": 2
}
