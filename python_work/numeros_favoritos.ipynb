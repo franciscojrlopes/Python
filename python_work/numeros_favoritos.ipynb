{
 "cells": [
  {
   "cell_type": "code",
   "execution_count": 5,
   "metadata": {},
   "outputs": [
    {
     "name": "stdout",
     "output_type": "stream",
     "text": [
      "O número favorito de Rebeca é: 7.\n"
     ]
    }
   ],
   "source": [
    "numero_favorito = {'Rebeca': '7', 'Francisco': '9', 'João': '10', 'Maria': '13', 'Rafael': '6'}\n",
    "num = numero_favorito['Rebeca']\n",
    "print(f'O número favorito de Rebeca é: {num}.')"
   ]
  }
 ],
 "metadata": {
  "kernelspec": {
   "display_name": ".venv",
   "language": "python",
   "name": "python3"
  },
  "language_info": {
   "codemirror_mode": {
    "name": "ipython",
    "version": 3
   },
   "file_extension": ".py",
   "mimetype": "text/x-python",
   "name": "python",
   "nbconvert_exporter": "python",
   "pygments_lexer": "ipython3",
   "version": "3.11.4"
  }
 },
 "nbformat": 4,
 "nbformat_minor": 2
}
