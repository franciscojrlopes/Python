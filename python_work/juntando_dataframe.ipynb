{
 "cells": [
  {
   "cell_type": "code",
   "execution_count": null,
   "metadata": {},
   "outputs": [],
   "source": [
    "import pandas as pd\n",
    "\n",
    "vendas_df = pd.read_csv(r'Contoso - Vendas - 2017.csv', sep=';')\n",
    "produtos_df = pd.read_csv(r'Contoso - Cadastro Produtos.csv', sep=';')\n",
    "lojas_df = pd.read_csv(r'Contoso - Lojas.csv', sep=';')\n",
    "clientes_df = pd.read_csv(r'Contoso - Clientes.csv', sep=';')\n",
    "\n",
    "display(vendas_df)\n",
    "display(produtos_df)\n",
    "display(lojas_df)\n",
    "display(clientes_df)"
   ]
  }
 ],
 "metadata": {
  "kernelspec": {
   "display_name": ".venv",
   "language": "python",
   "name": "python3"
  },
  "language_info": {
   "codemirror_mode": {
    "name": "ipython",
    "version": 3
   },
   "file_extension": ".py",
   "mimetype": "text/x-python",
   "name": "python",
   "nbconvert_exporter": "python",
   "pygments_lexer": "ipython3",
   "version": "3.11.4"
  }
 },
 "nbformat": 4,
 "nbformat_minor": 2
}
