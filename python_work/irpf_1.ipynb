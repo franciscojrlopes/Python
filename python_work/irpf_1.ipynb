{
 "cells": [
  {
   "cell_type": "code",
   "execution_count": 4,
   "metadata": {},
   "outputs": [
    {
     "name": "stdout",
     "output_type": "stream",
     "text": [
      "Sua aliquota é de 7.50% e seu imposto a pagar é de: R$ 7806.02\n"
     ]
    }
   ],
   "source": [
    "#Cálculo do IRPF\n",
    "rendimento_anual = float(input('Digite o valor do seu rendimento bruto anual:  '))\n",
    "if (rendimento_anual < 22847.77):\n",
    "    aliquota = 0\n",
    "elif (rendimento_anual >= 22847.77):\n",
    "    aliquota = 7.5\n",
    "elif (rendimento_anual >= 33919.81):\n",
    "    aliquota = 15.0\n",
    "elif (rendimento_anual >= 45012.61):\n",
    "    aliquota = 22.5\n",
    "elif (rendimento_anual >= 55976.16):\n",
    "    aliquota = 27.5\n",
    "imposto_a_pagar = rendimento_anual * (aliquota / 100)\n",
    "print('Sua aliquota é de %.2f%% e seu imposto a pagar é de: R$ %.2f' % (aliquota, imposto_a_pagar))"
   ]
  }
 ],
 "metadata": {
  "kernelspec": {
   "display_name": ".venv",
   "language": "python",
   "name": "python3"
  },
  "language_info": {
   "codemirror_mode": {
    "name": "ipython",
    "version": 3
   },
   "file_extension": ".py",
   "mimetype": "text/x-python",
   "name": "python",
   "nbconvert_exporter": "python",
   "pygments_lexer": "ipython3",
   "version": "3.11.4"
  }
 },
 "nbformat": 4,
 "nbformat_minor": 2
}
