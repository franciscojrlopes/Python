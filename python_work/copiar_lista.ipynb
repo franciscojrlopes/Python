{
 "cells": [
  {
   "cell_type": "markdown",
   "metadata": {},
   "source": [
    "Não raro, você quer começar uma lista existente, criando uma lista completamente nova com base na primeira. "
   ]
  },
  {
   "cell_type": "code",
   "execution_count": null,
   "metadata": {},
   "outputs": [],
   "source": [
    "conida_preferida = ['coxinha', 'pizza', 'churrasco', 'linguiça', 'jiló', 'angu']"
   ]
  }
 ],
 "metadata": {
  "language_info": {
   "name": "python"
  }
 },
 "nbformat": 4,
 "nbformat_minor": 2
}
