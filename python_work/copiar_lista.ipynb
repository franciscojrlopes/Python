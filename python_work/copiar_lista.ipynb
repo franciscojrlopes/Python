{
 "cells": [
  {
   "cell_type": "markdown",
   "metadata": {},
   "source": [
    "Não raro, você quer começar uma lista existente, criando uma lista completamente nova com base na primeira. "
   ]
  },
  {
   "cell_type": "code",
   "execution_count": 2,
   "metadata": {},
   "outputs": [
    {
     "name": "stdout",
     "output_type": "stream",
     "text": [
      "Minha comida preferida é:\n",
      "['coxinha', 'pizza', 'churrasco', 'linguiça', 'jiló', 'angu']\n"
     ]
    }
   ],
   "source": [
    "comida_preferida = ['coxinha', 'pizza', 'churrasco', 'linguiça', 'jiló', 'angu']\n",
    "comida_rebeca = comida_preferida[:]\n",
    "print('Minha comida preferida é:')\n",
    "print(comida_preferida)"
   ]
  },
  {
   "cell_type": "code",
   "execution_count": 3,
   "metadata": {},
   "outputs": [
    {
     "name": "stdout",
     "output_type": "stream",
     "text": [
      "Minha comida preferida é:\n",
      "['coxinha', 'pizza', 'churrasco', 'linguiça', 'jiló', 'angu']\n",
      "\n",
      "Comida preferida de Rebeca é:\n",
      "['coxinha', 'pizza', 'churrasco', 'linguiça', 'jiló', 'angu']\n"
     ]
    }
   ],
   "source": [
    "comida_preferida = ['coxinha', 'pizza', 'churrasco', 'linguiça', 'jiló', 'angu']\n",
    "comida_rebeca = comida_preferida[:]\n",
    "print('Minha comida preferida é:')\n",
    "print(comida_preferida)\n",
    "\n",
    "print('\\nComida preferida de Rebeca é:')\n",
    "print(comida_preferida)"
   ]
  },
  {
   "cell_type": "code",
   "execution_count": 1,
   "metadata": {},
   "outputs": [
    {
     "name": "stdout",
     "output_type": "stream",
     "text": [
      "Minha comida preferida é:\n",
      "['coxinha', 'pizza', 'churrasco', 'linguiça', 'jiló', 'angu']\n",
      "\n",
      "Comida preferida de Rebeca é:\n",
      "['coxinha', 'pizza', 'churrasco', 'linguiça', 'jiló', 'angu']\n"
     ]
    }
   ],
   "source": [
    "comida_preferida = ['coxinha', 'pizza', 'churrasco', 'linguiça', 'jiló', 'angu']\n",
    "comida_rebeca = comida_preferida[:]\n",
    "print('Minha comida preferida é:')\n",
    "print(comida_preferida)\n",
    "\n",
    "print('\\nComida preferida de Rebeca é:')\n",
    "print(comida_preferida)\n"
   ]
  },
  {
   "cell_type": "code",
   "execution_count": 3,
   "metadata": {},
   "outputs": [
    {
     "name": "stdout",
     "output_type": "stream",
     "text": [
      "Meus sites preferidos são:\n",
      "['G1', 'UOL', 'Sinapse', 'Yahoo', 'Fluminense FC']\n"
     ]
    }
   ],
   "source": [
    "sites_preferidos = ['G1','UOL', 'Sinapse', 'Yahoo', 'Fluminense FC' ]\n",
    "sites_amigos = sites_preferidos[:]\n",
    "print('Meus sites preferidos são:')\n",
    "print(sites_preferidos)\n",
    "\n"
   ]
  },
  {
   "cell_type": "code",
   "execution_count": 4,
   "metadata": {},
   "outputs": [
    {
     "name": "stdout",
     "output_type": "stream",
     "text": [
      "Meus sites preferidos são:\n",
      "['G1', 'UOL', 'Sinapse', 'Yahoo', 'Fluminense FC']\n",
      "\n",
      "Sites preferidos dos meus amigos:\n",
      "['G1', 'UOL', 'Sinapse', 'Yahoo', 'Fluminense FC']\n"
     ]
    }
   ],
   "source": [
    "sites_preferidos = ['G1','UOL', 'Sinapse', 'Yahoo', 'Fluminense FC' ]\n",
    "sites_amigos = sites_preferidos[:]\n",
    "print('Meus sites preferidos são:')\n",
    "print(sites_preferidos)\n",
    "\n",
    "print('\\nSites preferidos dos meus amigos:')\n",
    "print(sites_preferidos)"
   ]
  },
  {
   "cell_type": "code",
   "execution_count": 1,
   "metadata": {},
   "outputs": [
    {
     "name": "stdout",
     "output_type": "stream",
     "text": [
      "Meus sites preferidos são:\n",
      "['G1', 'UOL', 'Sinapse', 'Yahoo', 'Fluminense FC']\n",
      "\n",
      "Sites preferidos dos meus amigos:\n",
      "['G1', 'UOL', 'Sinapse', 'Yahoo', 'Fluminense FC']\n"
     ]
    }
   ],
   "source": [
    "sites_preferidos = ['G1','UOL', 'Sinapse', 'Yahoo', 'Fluminense FC' ]\n",
    "sites_amigos = sites_preferidos[:]\n",
    "print('Meus sites preferidos são:')\n",
    "print(sites_preferidos)\n",
    "\n",
    "print('\\nSites preferidos dos meus amigos:')\n",
    "print(sites_preferidos)"
   ]
  }
 ],
 "metadata": {
  "kernelspec": {
   "display_name": ".venv",
   "language": "python",
   "name": "python3"
  },
  "language_info": {
   "codemirror_mode": {
    "name": "ipython",
    "version": 3
   },
   "file_extension": ".py",
   "mimetype": "text/x-python",
   "name": "python",
   "nbconvert_exporter": "python",
   "pygments_lexer": "ipython3",
   "version": "3.11.4"
  }
 },
 "nbformat": 4,
 "nbformat_minor": 2
}
