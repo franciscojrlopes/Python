{
 "cells": [
  {
   "cell_type": "code",
   "execution_count": 54,
   "metadata": {},
   "outputs": [
    {
     "name": "stdout",
     "output_type": "stream",
     "text": [
      "Você é adulto!!!\n"
     ]
    }
   ],
   "source": [
    "idade = 64\n",
    "if idade <2:\n",
    "    print('Você é um bebê!!!!!')\n",
    "    \n",
    "elif idade <=4:\n",
    "    print('Você é uma criança!!!')\n",
    "   \n",
    "elif idade <13:\n",
    "    print('Você é um garoto!!!')\n",
    "   \n",
    "elif idade  <=18:\n",
    "    print('Você é um adolescente!!!')\n",
    "\n",
    "elif idade <65:\n",
    "    print('Você é adulto!!!')\n",
    "\n",
    "else:\n",
    "    print('Você é idoso!!!')"
   ]
  },
  {
   "cell_type": "code",
   "execution_count": 1,
   "metadata": {},
   "outputs": [
    {
     "name": "stdout",
     "output_type": "stream",
     "text": [
      "Você é adulto!!!\n"
     ]
    }
   ],
   "source": [
    "idade = 54\n",
    "if idade <2:\n",
    "    print('Você é um bebê!!!!!')\n",
    "    \n",
    "elif idade <=4:\n",
    "    print('Você é uma criança!!!')\n",
    "   \n",
    "elif idade <13:\n",
    "    print('Você é um garoto!!!')\n",
    "   \n",
    "elif idade  <=18:\n",
    "    print('Você é um adolescente!!!')\n",
    "\n",
    "elif idade <65:\n",
    "    print('Você é adulto!!!')\n",
    "\n",
    "else:\n",
    "    print('Você é idoso!!!')"
   ]
  }
 ],
 "metadata": {
  "kernelspec": {
   "display_name": ".venv",
   "language": "python",
   "name": "python3"
  },
  "language_info": {
   "codemirror_mode": {
    "name": "ipython",
    "version": 3
   },
   "file_extension": ".py",
   "mimetype": "text/x-python",
   "name": "python",
   "nbconvert_exporter": "python",
   "pygments_lexer": "ipython3",
   "version": "3.11.4"
  }
 },
 "nbformat": 4,
 "nbformat_minor": 2
}
