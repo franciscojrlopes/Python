{
 "cells": [
  {
   "cell_type": "code",
   "execution_count": 13,
   "metadata": {},
   "outputs": [
    {
     "name": "stdout",
     "output_type": "stream",
     "text": [
      "Linguagem favorita de Sarah é C.\n",
      "Linguagem favorita de Phil é Python.\n",
      "Linguagem favorita de Edward é Rust.\n",
      "Linguagem favorita de Jen é Python.\n"
     ]
    }
   ],
   "source": [
    "linguagens_favoritas = {\n",
    "    'jen': 'python', \n",
    "    'sarah': 'c', \n",
    "    'edward': 'rust', \n",
    "    'phil': 'python'\n",
    "    }\n",
    "\n",
    "liguagem = linguagens_favoritas['sarah'].title()\n",
    "print(f'Linguagem favorita de Sarah é {liguagem}.')\n",
    "liguagem = linguagens_favoritas['phil'].title()\n",
    "print(f'Linguagem favorita de Phil é {liguagem}.')\n",
    "liguagem = linguagens_favoritas['edward'].title()\n",
    "print(f'Linguagem favorita de Edward é {liguagem}.')\n",
    "liguagem = linguagens_favoritas['jen'].title()\n",
    "print(f'Linguagem favorita de Jen é {liguagem}.')"
   ]
  },
  {
   "cell_type": "code",
   "execution_count": 5,
   "metadata": {},
   "outputs": [
    {
     "name": "stdout",
     "output_type": "stream",
     "text": [
      "Linguagem favorita de Sara é C.\n",
      "Linguagem favorita de Felipe é Python.\n",
      "Linguagem favorita de Eduardo é Rust.\n",
      "Linguagem favorita de João é Python.\n"
     ]
    }
   ],
   "source": [
    "linguagens_favoritas = {\n",
    "    'joão': 'python', \n",
    "    'sara': 'c', \n",
    "    'eduardo': 'rust', \n",
    "    'felipe': 'python'\n",
    "    }\n",
    "\n",
    "liguagem = linguagens_favoritas['sara'].title()\n",
    "print(f'Linguagem favorita de Sara é {liguagem}.')\n",
    "liguagem = linguagens_favoritas['felipe'].title()\n",
    "print(f'Linguagem favorita de Felipe é {liguagem}.')\n",
    "liguagem = linguagens_favoritas['eduardo'].title()\n",
    "print(f'Linguagem favorita de Eduardo é {liguagem}.')\n",
    "liguagem = linguagens_favoritas['joão'].title()\n",
    "print(f'Linguagem favorita de João é {liguagem}.')"
   ]
  },
  {
   "cell_type": "markdown",
   "metadata": {},
   "source": []
  }
 ],
 "metadata": {
  "kernelspec": {
   "display_name": ".venv",
   "language": "python",
   "name": "python3"
  },
  "language_info": {
   "codemirror_mode": {
    "name": "ipython",
    "version": 3
   },
   "file_extension": ".py",
   "mimetype": "text/x-python",
   "name": "python",
   "nbconvert_exporter": "python",
   "pygments_lexer": "ipython3",
   "version": "3.11.4"
  }
 },
 "nbformat": 4,
 "nbformat_minor": 2
}
