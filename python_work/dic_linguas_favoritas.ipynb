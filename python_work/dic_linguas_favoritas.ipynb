{
 "cells": [
  {
   "cell_type": "code",
   "execution_count": 8,
   "metadata": {},
   "outputs": [
    {
     "name": "stdout",
     "output_type": "stream",
     "text": [
      "Linguagem favorita de Sarah é C.\n",
      "Linguagem favorita de Phil é Python\n"
     ]
    }
   ],
   "source": [
    "linguagens_favoritas = {\n",
    "    'jen': 'python', \n",
    "    'sarah': 'c', \n",
    "    'edward': 'rust', \n",
    "    'phil': 'python'\n",
    "    }\n",
    "\n",
    "liguagem = linguagens_favoritas['sarah'].title()\n",
    "print(f'Linguagem favorita de Sarah é {liguagem}.')\n",
    "liguagem = linguagens_favoritas['phil'].title()\n",
    "print(f'Linguagem favorita de Phil é {liguagem}')"
   ]
  },
  {
   "cell_type": "markdown",
   "metadata": {},
   "source": []
  }
 ],
 "metadata": {
  "kernelspec": {
   "display_name": ".venv",
   "language": "python",
   "name": "python3"
  },
  "language_info": {
   "codemirror_mode": {
    "name": "ipython",
    "version": 3
   },
   "file_extension": ".py",
   "mimetype": "text/x-python",
   "name": "python",
   "nbconvert_exporter": "python",
   "pygments_lexer": "ipython3",
   "version": "3.11.4"
  }
 },
 "nbformat": 4,
 "nbformat_minor": 2
}
