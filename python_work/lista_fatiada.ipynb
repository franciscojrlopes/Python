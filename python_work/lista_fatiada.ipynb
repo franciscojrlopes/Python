{
 "cells": [
  {
   "cell_type": "markdown",
   "metadata": {},
   "source": [
    "Fatiando uma lista, especifique o índece do primeiro e do último elemento com o qual quer trabalhar, exemplo: lista de jogadores."
   ]
  },
  {
   "cell_type": "code",
   "execution_count": 1,
   "metadata": {},
   "outputs": [
    {
     "name": "stdout",
     "output_type": "stream",
     "text": [
      "['Ronaldo', 'Kenedy', 'Kano']\n"
     ]
    }
   ],
   "source": [
    "jogadores = ['Ronaldo', 'Kenedy', 'Kano', 'Keno', 'Arias']\n",
    "print(jogadores[0:3])"
   ]
  },
  {
   "cell_type": "code",
   "execution_count": 2,
   "metadata": {},
   "outputs": [
    {
     "name": "stdout",
     "output_type": "stream",
     "text": [
      "['Kenedy', 'Kano', 'Keno']\n"
     ]
    }
   ],
   "source": [
    "jogadores = ['Ronaldo', 'Kenedy', 'Kano', 'Keno', 'Arias']\n",
    "print(jogadores[1:4])"
   ]
  }
 ],
 "metadata": {
  "kernelspec": {
   "display_name": ".venv",
   "language": "python",
   "name": "python3"
  },
  "language_info": {
   "codemirror_mode": {
    "name": "ipython",
    "version": 3
   },
   "file_extension": ".py",
   "mimetype": "text/x-python",
   "name": "python",
   "nbconvert_exporter": "python",
   "pygments_lexer": "ipython3",
   "version": "3.11.4"
  }
 },
 "nbformat": 4,
 "nbformat_minor": 2
}
