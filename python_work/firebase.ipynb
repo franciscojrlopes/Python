{
 "cells": [
  {
   "cell_type": "code",
   "execution_count": 20,
   "metadata": {},
   "outputs": [],
   "source": [
    "\n",
    "import requests\n",
    "import json\n",
    "\n",
    "link = 'https://console.firebase.google.com/u/1/project/projeto-1-9856b/database/projeto-1-9856b-default-rtdb/data/~2FProdutos~2FVendas%20?hl=pt-br'\n",
    "\n"
   ]
  },
  {
   "cell_type": "code",
   "execution_count": 32,
   "metadata": {},
   "outputs": [
    {
     "name": "stdout",
     "output_type": "stream",
     "text": [
      "<Response [200]>\n",
      "{\"name\":\"-Ns_JSC_3FT-saT6ok-w\"}\n"
     ]
    }
   ],
   "source": [
    "# Criar uma venda post:\n",
    "\n",
    "import requests\n",
    "import json\n",
    "\n",
    "'https://projeto-1-9856b-default-rtdb.firebaseio.com/'\n",
    "\n",
    "link = 'https://projeto-1-9856b-default-rtdb.firebaseio.com/'\n",
    "\n",
    "#https://console.firebase.google.com/\n",
    "\n",
    "#https://console.firebase.google.com/u/1/project/projeto-1-9856b/database/projeto-1-9856b-default-rtdb/data/~2F?hl=pt-br\n",
    "\n",
    "#https://console.firebase.google.com/u/1/project/projeto-1-9856b/database/projeto-1-9856b-default-rtdb/data/~2FProdutos~2FVendas%20?hl=pt-br\n",
    "\n",
    "dados = {'Cliente': 'João', 'Preço': 200, 'Produto': 'Teclado'}\n",
    "requisição = requests.post(f'{link}/Vendas/.json', data=json.dumps(dados))\n",
    "print(requisição)\n",
    "print(requisição.text)"
   ]
  },
  {
   "cell_type": "code",
   "execution_count": 33,
   "metadata": {},
   "outputs": [
    {
     "name": "stdout",
     "output_type": "stream",
     "text": [
      "<Response [200]>\n",
      "{\"name\":\"-Ns_JSC_3FT-saT6ok-w\"}\n"
     ]
    }
   ],
   "source": [
    "dados = {'Cliente': 'Alon', 'Preco': 150, 'Produto': 'Mouse'}\n",
    "requisiçãoo = requests.post(f'{link}/Vendas/.json', data=json.dumps(dados))\n",
    "print(requisição)\n",
    "print(requisição.text)"
   ]
  }
 ],
 "metadata": {
  "kernelspec": {
   "display_name": ".venv",
   "language": "python",
   "name": "python3"
  },
  "language_info": {
   "codemirror_mode": {
    "name": "ipython",
    "version": 3
   },
   "file_extension": ".py",
   "mimetype": "text/x-python",
   "name": "python",
   "nbconvert_exporter": "python",
   "pygments_lexer": "ipython3",
   "version": "3.11.4"
  }
 },
 "nbformat": 4,
 "nbformat_minor": 2
}
