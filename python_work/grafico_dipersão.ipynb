{
 "cells": [
  {
   "cell_type": "markdown",
   "metadata": {},
   "source": [
    " \n",
    "    \"## Exercício para os três tipos básicos de gráficos\\n\",\n",
    "   \n",
    "    \"Você recebeu, na forma de listas, os dados de receita anual de uma empresa de tecnologia, em bilhões de dólares, nos últimos anos. Com esses dados, você deve criar três gráficos, um de cada tipo abaixo listado, para visualizar esses dados. Os gráficos devem conter título e rótulos dos eixos. O nome da empresa é Apple Inc.\n",
    "    \n",
    "    Tipos de gráficos:\n",
    "   \n",
    "    - Gráfico de linhas\n",
    "    - além da linha, mostre os pontos de cada valor\n",
    "    - Gráfico de barras\n",
    "    - adicione o valor de cada barra no gráfico\n",
    "    - Gráfico de dispersão\n",
    "    - ligue a grade do gráfico\n",
    "   \n",
    "    Cada gráfico deve usar uma paleta de cores diferente\n",
    "\n",
    "      \"Os dados são:\\n\",\n",
    "    \"\\n\",\n",
    "    \"Ano | Receita (em bilhões de dólares)\\n\",\n",
    "     --- | ---\n",
    "    2009 | 42,9\n",
    "    2010 | 65,2\n",
    "    2011 | 108,2\n",
    "    2012 | 156,5\n",
    "    2013 | 170,9\n",
    "    2014 | 182,8\n",
    "    2015 | 233,7\n",
    "    2016 | 215,6\n",
    "    2017 | 229,2\n",
    "    2018 | 265,6\n",
    "    2019 | 260,2\n",
    "    2020 | 274,5\n",
    "    2021 | 365,8\n",
    "    2022 | 394,3\n"
   ]
  },
  {
   "cell_type": "code",
   "execution_count": null,
   "metadata": {},
   "outputs": [],
   "source": []
  }
 ],
 "metadata": {
  "language_info": {
   "name": "python"
  }
 },
 "nbformat": 4,
 "nbformat_minor": 2
}
