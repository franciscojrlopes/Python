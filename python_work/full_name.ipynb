{
 "cells": [
  {
   "cell_type": "code",
   "execution_count": 2,
   "metadata": {},
   "outputs": [
    {
     "name": "stdout",
     "output_type": "stream",
     "text": [
      "ada lovelace\n"
     ]
    }
   ],
   "source": [
    "first_name = 'ada'\n",
    "last_name = 'lovelace'\n",
    "full_name = f'{first_name} {last_name}'\n",
    "print(full_name) "
   ]
  },
  {
   "cell_type": "code",
   "execution_count": 3,
   "metadata": {},
   "outputs": [
    {
     "name": "stdout",
     "output_type": "stream",
     "text": [
      "Francisco Lopes\n"
     ]
    }
   ],
   "source": [
    "first_name = 'Francisco'\n",
    "last_name = 'Lopes'\n",
    "full_name = f'{first_name} {last_name}'\n",
    "print(full_name.title()) "
   ]
  },
  {
   "cell_type": "code",
   "execution_count": 8,
   "metadata": {},
   "outputs": [
    {
     "name": "stdout",
     "output_type": "stream",
     "text": [
      "Hello, Francisco Lopes!\n"
     ]
    }
   ],
   "source": [
    "first_name = 'Francisco'\n",
    "last_name = 'Lopes'\n",
    "full_name = f'{first_name} {last_name}'\n",
    "print(f'Hello, {full_name.title()}!')"
   ]
  },
  {
   "cell_type": "code",
   "execution_count": 10,
   "metadata": {},
   "outputs": [
    {
     "name": "stdout",
     "output_type": "stream",
     "text": [
      "Hello, Rebeca Baltazar!\n"
     ]
    }
   ],
   "source": [
    "first_name = 'Rebeca'\n",
    "last_name = 'Baltazar'\n",
    "full_name = f'{first_name} {last_name}'\n",
    "message = f'Hello, {full_name.title()}!'\n",
    "print(message)\n"
   ]
  },
  {
   "cell_type": "code",
   "execution_count": 1,
   "metadata": {},
   "outputs": [
    {
     "name": "stdout",
     "output_type": "stream",
     "text": [
      "Hello, Rebeca Chaves!\n"
     ]
    }
   ],
   "source": [
    "first_name = 'Rebeca'\n",
    "last_name = 'Chaves'\n",
    "full_name = f'{first_name} {last_name}'\n",
    "message = f'Hello, {full_name.title()}!'\n",
    "print(message)\n"
   ]
  },
  {
   "cell_type": "code",
   "execution_count": 1,
   "metadata": {},
   "outputs": [
    {
     "name": "stdout",
     "output_type": "stream",
     "text": [
      "Hello, Rebeca Chaves Lopes!\n"
     ]
    }
   ],
   "source": [
    "first_name = 'Rebeca'\n",
    "last_name = 'Chaves Lopes'\n",
    "full_name = f'{first_name} {last_name}'\n",
    "message = f'Hello, {full_name.title()}!'\n",
    "print(message)\n"
   ]
  },
  {
   "cell_type": "code",
   "execution_count": 3,
   "metadata": {},
   "outputs": [
    {
     "name": "stdout",
     "output_type": "stream",
     "text": [
      "Oi, Rebeca Baltazar Chaves!\n"
     ]
    }
   ],
   "source": [
    "first_name = 'Rebeca'\n",
    "last_name = 'Baltazar Chaves'\n",
    "full_name = f'{first_name} {last_name}'\n",
    "message = f'Oi, {full_name.title()}!'\n",
    "print(message)\n"
   ]
  }
 ],
 "metadata": {
  "kernelspec": {
   "display_name": ".venv",
   "language": "python",
   "name": "python3"
  },
  "language_info": {
   "codemirror_mode": {
    "name": "ipython",
    "version": 3
   },
   "file_extension": ".py",
   "mimetype": "text/x-python",
   "name": "python",
   "nbconvert_exporter": "python",
   "pygments_lexer": "ipython3",
   "version": "3.11.4"
  }
 },
 "nbformat": 4,
 "nbformat_minor": 2
}
