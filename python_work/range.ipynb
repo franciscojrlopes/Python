{
 "cells": [
  {
   "cell_type": "code",
   "execution_count": 2,
   "metadata": {},
   "outputs": [
    {
     "name": "stdout",
     "output_type": "stream",
     "text": [
      "0\n",
      "1\n",
      "2\n",
      "3\n",
      "4\n"
     ]
    }
   ],
   "source": [
    "produtos = ['arroz', 'feijao', 'macarrao', 'atum', 'azeite']\n",
    "estoque = [50, 100, 20, 5, 80]\n",
    "\n",
    "for i in range(5):\n",
    "    print(i)"
   ]
  },
  {
   "cell_type": "code",
   "execution_count": 4,
   "metadata": {},
   "outputs": [
    {
     "name": "stdout",
     "output_type": "stream",
     "text": [
      "arroz: 50 unidades em estoque\n",
      "feijao: 100 unidades em estoque\n",
      "macarrao: 20 unidades em estoque\n",
      "atum: 5 unidades em estoque\n",
      "azeite: 80 unidades em estoque\n"
     ]
    }
   ],
   "source": [
    "produtos = ['arroz', 'feijao', 'macarrao', 'atum', 'azeite']\n",
    "estoque = [50, 100, 20, 5, 80]\n",
    "# Tamanho do Range:\n",
    "for i in range(5):\n",
    "    print('{}: {} unidades em estoque'.format(produtos[i], estoque[i]))"
   ]
  },
  {
   "cell_type": "code",
   "execution_count": null,
   "metadata": {},
   "outputs": [],
   "source": [
    "produtos = ['arroz', 'feijao', 'macarrao', 'atum', 'azeite']\n",
    "estoque = [50, 100, 20, 5, 80]\n",
    "\n",
    "for i in range(5):\n",
    "    print('{}: {} unidades em estoque'.format(produtos[i], estoque[i]))"
   ]
  },
  {
   "cell_type": "code",
   "execution_count": 5,
   "metadata": {},
   "outputs": [
    {
     "name": "stdout",
     "output_type": "stream",
     "text": [
      "range(1, 10)\n"
     ]
    }
   ],
   "source": [
    "\n",
    "print(range(1,10))\n"
   ]
  },
  {
   "cell_type": "code",
   "execution_count": 6,
   "metadata": {},
   "outputs": [
    {
     "name": "stdout",
     "output_type": "stream",
     "text": [
      "1\n",
      "2\n",
      "3\n",
      "4\n",
      "5\n",
      "6\n",
      "7\n",
      "8\n",
      "9\n"
     ]
    }
   ],
   "source": [
    "# Range com início e fim:\n",
    "\n",
    "for i in range(1,10):\n",
    "    print(i)\n",
    "    "
   ]
  },
  {
   "cell_type": "code",
   "execution_count": 7,
   "metadata": {},
   "outputs": [
    {
     "name": "stdout",
     "output_type": "stream",
     "text": [
      "1\n",
      "2\n",
      "3\n",
      "4\n",
      "5\n",
      "6\n",
      "7\n",
      "8\n",
      "9\n",
      "10\n"
     ]
    }
   ],
   "source": [
    "\n",
    "for i in range(1,11):\n",
    "    print(i)"
   ]
  }
 ],
 "metadata": {
  "kernelspec": {
   "display_name": ".venv",
   "language": "python",
   "name": "python3"
  },
  "language_info": {
   "codemirror_mode": {
    "name": "ipython",
    "version": 3
   },
   "file_extension": ".py",
   "mimetype": "text/x-python",
   "name": "python",
   "nbconvert_exporter": "python",
   "pygments_lexer": "ipython3",
   "version": "3.11.4"
  }
 },
 "nbformat": 4,
 "nbformat_minor": 2
}
