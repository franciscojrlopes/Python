{
 "cells": [
  {
   "cell_type": "markdown",
   "metadata": {},
   "source": [
    "API - 'Micro site' que disponibiliza recursos e/ou funcionalidades.\n",
    "1- Objetivo: Criar uma API\n",
    "2- URL base: \n",
    "3- Endspoints:\n",
    "4- Quais recursos:\n"
   ]
  },
  {
   "cell_type": "code",
   "execution_count": null,
   "metadata": {},
   "outputs": [],
   "source": []
  }
 ],
 "metadata": {
  "language_info": {
   "name": "python"
  }
 },
 "nbformat": 4,
 "nbformat_minor": 2
}
