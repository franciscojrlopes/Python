{
 "cells": [
  {
   "cell_type": "markdown",
   "metadata": {},
   "source": [
    "API - 'Micro site' que disponibiliza recursos e/ou funcionalidades.\n",
    "\n",
    "Objetivos: \n",
    "\n",
    "1- Criar uma API\n",
    "2- URL base \n",
    "3- Endspoints\n",
    "4- Quais recursos\n"
   ]
  },
  {
   "cell_type": "code",
   "execution_count": 16,
   "metadata": {},
   "outputs": [
    {
     "name": "stdout",
     "output_type": "stream",
     "text": [
      " * Serving Flask app '__main__'\n",
      " * Debug mode: off\n"
     ]
    },
    {
     "name": "stderr",
     "output_type": "stream",
     "text": [
      "WARNING: This is a development server. Do not use it in a production deployment. Use a production WSGI server instead.\n",
      " * Running on http://127.0.0.1:5000\n",
      "Press CTRL+C to quit\n",
      "127.0.0.1 - - [26/Mar/2024 21:38:28] \"GET / HTTP/1.1\" 404 -\n",
      "127.0.0.1 - - [26/Mar/2024 21:38:29] \"GET /favicon.ico HTTP/1.1\" 404 -\n",
      "127.0.0.1 - - [26/Mar/2024 21:38:31] \"GET / HTTP/1.1\" 404 -\n"
     ]
    }
   ],
   "source": [
    "from flask import Flask, jsonify, request\n",
    "app = Flask(__name__)\n",
    "\n",
    "livros = [{'id': 1,'Título': 'A prética da solucionática','autor': 'Mark Joyner'},\n",
    "          {'id': 2,'Título': 'Iludidos pelo acaso','autor':'Nassim Nicholas Taleb'},\n",
    "          {'id': 3,'Título': 'Palavras que vendem milhões','autor': 'Gustavo Ferreira'}]\n",
    "\n",
    "# Consultar todos:\n",
    "@app.route('/livros', methods=['GET'])\n",
    "def obter_livros():\n",
    "    return jsonify(livros)\n",
    "app.run()\n"
   ]
  },
  {
   "cell_type": "code",
   "execution_count": null,
   "metadata": {},
   "outputs": [],
   "source": []
  }
 ],
 "metadata": {
  "kernelspec": {
   "display_name": ".venv",
   "language": "python",
   "name": "python3"
  },
  "language_info": {
   "codemirror_mode": {
    "name": "ipython",
    "version": 3
   },
   "file_extension": ".py",
   "mimetype": "text/x-python",
   "name": "python",
   "nbconvert_exporter": "python",
   "pygments_lexer": "ipython3",
   "version": "3.11.4"
  }
 },
 "nbformat": 4,
 "nbformat_minor": 2
}
