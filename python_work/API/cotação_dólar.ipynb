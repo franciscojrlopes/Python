{
 "cells": [
  {
   "cell_type": "code",
   "execution_count": 1,
   "metadata": {},
   "outputs": [
    {
     "name": "stdout",
     "output_type": "stream",
     "text": [
      "5.0005\n",
      "[5.001, 4.9993, 5.0005, 4.9736, 4.9663, 5.0339, 5.0304, 4.9954, 4.9949, 4.9954, 4.9942, 4.971, 4.9695, 4.9783, 4.9825, 4.9805, 4.935, 4.9446, 4.9581, 4.9454, 4.9541, 4.9541, 4.9703, 4.9675, 4.9335, 4.9799, 4.9938, 4.9938, 4.9639, 4.9326]\n"
     ]
    }
   ],
   "source": [
    "import requests\n",
    "import json\n",
    "\n",
    "cotacoes_dolar30d = requests.get('https://economia.awesomeapi.com.br/json/daily/USD-BRL/30')\n",
    "cotacoes_dolar_dic = cotacoes_dolar30d.json()\n",
    "print(cotacoes_dolar_dic[2]['bid'])\n",
    "lista_cotacoes_dolar = [float(item['bid']) for item in cotacoes_dolar_dic]\n",
    "print(lista_cotacoes_dolar)"
   ]
  }
 ],
 "metadata": {
  "kernelspec": {
   "display_name": ".venv",
   "language": "python",
   "name": "python3"
  },
  "language_info": {
   "codemirror_mode": {
    "name": "ipython",
    "version": 3
   },
   "file_extension": ".py",
   "mimetype": "text/x-python",
   "name": "python",
   "nbconvert_exporter": "python",
   "pygments_lexer": "ipython3",
   "version": "3.11.4"
  }
 },
 "nbformat": 4,
 "nbformat_minor": 2
}
