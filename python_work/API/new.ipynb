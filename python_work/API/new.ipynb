{
 "cells": [
  {
   "cell_type": "code",
   "execution_count": 7,
   "metadata": {},
   "outputs": [
    {
     "name": "stdout",
     "output_type": "stream",
     "text": [
      "<Response [200]>\n",
      "<Response [200]> {'somekey': 'somevalue'}\n"
     ]
    }
   ],
   "source": [
    "import requests\n",
    "import json\n",
    "url = 'https://www.w3schools.com/python/demopage.php'\n",
    "myobj = {'somekey': 'somevalue'}\n",
    "\n",
    "x = requests.post(url, json = myobj)\n",
    "\n",
    "#print the response text (the content of the requested file):\n",
    "#print o texto da resposta (o conteúdo do arquivo solicitado):\n",
    "\n",
    "print(x)\n",
    "dados = requests.get(url)\n",
    "print(dados, myobj)\n",
    "\n",
    "\n"
   ]
  },
  {
   "cell_type": "code",
   "execution_count": 3,
   "metadata": {},
   "outputs": [
    {
     "ename": "TypeError",
     "evalue": "unhashable type: 'dict'",
     "output_type": "error",
     "traceback": [
      "\u001b[1;31m---------------------------------------------------------------------------\u001b[0m",
      "\u001b[1;31mTypeError\u001b[0m                                 Traceback (most recent call last)",
      "Cell \u001b[1;32mIn[3], line 1\u001b[0m\n\u001b[1;32m----> 1\u001b[0m \u001b[38;5;28mlist\u001b[39m \u001b[38;5;241m=\u001b[39m {{\n\u001b[0;32m      2\u001b[0m     \u001b[38;5;124m'\u001b[39m\u001b[38;5;124mNome\u001b[39m\u001b[38;5;124m'\u001b[39m: \u001b[38;5;124m'\u001b[39m\u001b[38;5;124mFrancisco\u001b[39m\u001b[38;5;124m'\u001b[39m},\n\u001b[0;32m      3\u001b[0m     {\u001b[38;5;124m'\u001b[39m\u001b[38;5;124mGenero\u001b[39m\u001b[38;5;124m'\u001b[39m: \u001b[38;5;124m'\u001b[39m\u001b[38;5;124mM\u001b[39m\u001b[38;5;124m'\u001b[39m}, \n\u001b[0;32m      4\u001b[0m     {\u001b[38;5;124m'\u001b[39m\u001b[38;5;124mNome\u001b[39m\u001b[38;5;124m'\u001b[39m: \u001b[38;5;124m'\u001b[39m\u001b[38;5;124mJoão\u001b[39m\u001b[38;5;124m'\u001b[39m},\n\u001b[0;32m      5\u001b[0m     {\u001b[38;5;124m'\u001b[39m\u001b[38;5;124mGenero\u001b[39m\u001b[38;5;124m'\u001b[39m: \u001b[38;5;124m'\u001b[39m\u001b[38;5;124mM\u001b[39m\u001b[38;5;124m'\u001b[39m}, \n\u001b[0;32m      6\u001b[0m     {\u001b[38;5;124m'\u001b[39m\u001b[38;5;124mNome\u001b[39m\u001b[38;5;124m'\u001b[39m: \u001b[38;5;124m'\u001b[39m\u001b[38;5;124mMarcio\u001b[39m\u001b[38;5;124m'\u001b[39m},\n\u001b[0;32m      7\u001b[0m     {\u001b[38;5;124m'\u001b[39m\u001b[38;5;124mGenero\u001b[39m\u001b[38;5;124m'\u001b[39m: \u001b[38;5;124m'\u001b[39m\u001b[38;5;124mM\u001b[39m\u001b[38;5;124m'\u001b[39m}, \n\u001b[0;32m      8\u001b[0m    {\u001b[38;5;124m'\u001b[39m\u001b[38;5;124mNome\u001b[39m\u001b[38;5;124m'\u001b[39m: \u001b[38;5;124m'\u001b[39m\u001b[38;5;124mAntonio\u001b[39m\u001b[38;5;124m'\u001b[39m},\n\u001b[0;32m      9\u001b[0m    {\u001b[38;5;124m'\u001b[39m\u001b[38;5;124mGenero\u001b[39m\u001b[38;5;124m'\u001b[39m: \u001b[38;5;124m'\u001b[39m\u001b[38;5;124mM\u001b[39m\u001b[38;5;124m'\u001b[39m}, \n\u001b[0;32m     10\u001b[0m     {\u001b[38;5;124m'\u001b[39m\u001b[38;5;124mNome\u001b[39m\u001b[38;5;124m'\u001b[39m: \u001b[38;5;124m'\u001b[39m\u001b[38;5;124mJosé\u001b[39m\u001b[38;5;124m'\u001b[39m},\n\u001b[0;32m     11\u001b[0m   {\u001b[38;5;124m'\u001b[39m\u001b[38;5;124mGenero\u001b[39m\u001b[38;5;124m'\u001b[39m: \u001b[38;5;124m'\u001b[39m\u001b[38;5;124mM\u001b[39m\u001b[38;5;124m'\u001b[39m}, \n\u001b[0;32m     12\u001b[0m     {\u001b[38;5;124m'\u001b[39m\u001b[38;5;124mNome\u001b[39m\u001b[38;5;124m'\u001b[39m: \u001b[38;5;124m'\u001b[39m\u001b[38;5;124mMaria\u001b[39m\u001b[38;5;124m'\u001b[39m},\n\u001b[0;32m     13\u001b[0m    { \u001b[38;5;124m'\u001b[39m\u001b[38;5;124mGenero\u001b[39m\u001b[38;5;124m'\u001b[39m: \u001b[38;5;124m'\u001b[39m\u001b[38;5;124mM\u001b[39m\u001b[38;5;124m'\u001b[39m}}\n\u001b[0;32m     14\u001b[0m \u001b[38;5;28;01mimport\u001b[39;00m \u001b[38;5;21;01mpprint\u001b[39;00m\n\u001b[0;32m     15\u001b[0m \u001b[38;5;28;01mimport\u001b[39;00m \u001b[38;5;21;01mjson\u001b[39;00m\n",
      "\u001b[1;31mTypeError\u001b[0m: unhashable type: 'dict'"
     ]
    }
   ],
   "source": [
    "list = {\n",
    "    'Nome': 'Francisco',\n",
    "    'Genero': 'M', \n",
    "    'Nome': 'João',\n",
    "    'Genero': 'M', \n",
    "    'Nome': 'Marcio',\n",
    "    {'Genero': 'M'}, \n",
    "   {'Nome': 'Antonio'},\n",
    "   {'Genero': 'M'}, \n",
    "    {'Nome': 'José'},\n",
    "  {'Genero': 'M'}, \n",
    "    {'Nome': 'Maria'},\n",
    "   { 'Genero': 'M'}\n",
    "import pprint\n",
    "import json\n",
    "import requests\n",
    "\n",
    "print(list)"
   ]
  }
 ],
 "metadata": {
  "kernelspec": {
   "display_name": ".venv",
   "language": "python",
   "name": "python3"
  },
  "language_info": {
   "codemirror_mode": {
    "name": "ipython",
    "version": 3
   },
   "file_extension": ".py",
   "mimetype": "text/x-python",
   "name": "python",
   "nbconvert_exporter": "python",
   "pygments_lexer": "ipython3",
   "version": "3.11.4"
  }
 },
 "nbformat": 4,
 "nbformat_minor": 2
}
