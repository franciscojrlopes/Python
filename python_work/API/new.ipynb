{
 "cells": [
  {
   "cell_type": "code",
   "execution_count": 1,
   "metadata": {},
   "outputs": [
    {
     "name": "stdout",
     "output_type": "stream",
     "text": [
      "<Response [200]>\n",
      "<Response [200]>\n"
     ]
    }
   ],
   "source": [
    "import requests\n",
    "import json\n",
    "url = 'https://www.w3schools.com/python/demopage.php'\n",
    "myobj = {'somekey': 'somevalue'}\n",
    "\n",
    "x = requests.post(url, json = myobj)\n",
    "\n",
    "#print the response text (the content of the requested file):\n",
    "#print o texto da resposta (o conteúdo do arquivo solicitado):\n",
    "\n",
    "print(x)\n",
    "dados = requests.get(url)\n",
    "print(dados)\n",
    "\n",
    "\n"
   ]
  },
  {
   "cell_type": "code",
   "execution_count": 2,
   "metadata": {},
   "outputs": [
    {
     "name": "stdout",
     "output_type": "stream",
     "text": [
      " * Serving Flask app '__main__'\n",
      " * Debug mode: off\n"
     ]
    },
    {
     "name": "stderr",
     "output_type": "stream",
     "text": [
      "WARNING: This is a development server. Do not use it in a production deployment. Use a production WSGI server instead.\n",
      " * Running on http://127.0.0.1:5000\n",
      "Press CTRL+C to quit\n",
      "127.0.0.1 - - [04/Apr/2024 19:49:34] \"GET / HTTP/1.1\" 404 -\n",
      "127.0.0.1 - - [04/Apr/2024 19:49:35] \"GET /favicon.ico HTTP/1.1\" 404 -\n",
      "127.0.0.1 - - [04/Apr/2024 19:49:38] \"GET /livros HTTP/1.1\" 404 -\n",
      "127.0.0.1 - - [04/Apr/2024 19:49:54] \"GET /dic HTTP/1.1\" 200 -\n"
     ]
    }
   ],
   "source": [
    "from flask import Flask, jsonify, request, json\n",
    "\n",
    "app = Flask(__name__)\n",
    "\n",
    "dic = [{\n",
    "    'Nome':'Francisco',\n",
    "    'Genero': 'M'}, \n",
    "    {'Nome': 'João',\n",
    "    'Genero': 'M'}, \n",
    "   {'Nome': 'Marcio',\n",
    "    'Genero': 'M'}, \n",
    "   {'Nome': 'Antonio',\n",
    "   'Genero': 'M'}, \n",
    "    {'Nome': 'José',\n",
    "  'Genero': 'M'},\n",
    "    {'Nome': 'Maria',\n",
    "   'Genero': 'M'}]\n",
    "\n",
    "@app.route('/dic', methods=['GET'])\n",
    "def obter_dic():\n",
    "    return jsonify(dic)\n",
    "\n",
    "@app.route('/dic/<int:id>', methods= ['GET'])\n",
    "def obter_dic_nome(Nome):\n",
    "    for dics in dic:\n",
    "        if dics.get('Nome') == Nome:\n",
    "            return jsonify(dic)\n",
    "app.run()"
   ]
  }
 ],
 "metadata": {
  "kernelspec": {
   "display_name": ".venv",
   "language": "python",
   "name": "python3"
  },
  "language_info": {
   "codemirror_mode": {
    "name": "ipython",
    "version": 3
   },
   "file_extension": ".py",
   "mimetype": "text/x-python",
   "name": "python",
   "nbconvert_exporter": "python",
   "pygments_lexer": "ipython3",
   "version": "3.11.4"
  }
 },
 "nbformat": 4,
 "nbformat_minor": 2
}
