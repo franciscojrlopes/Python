{
 "cells": [
  {
   "cell_type": "code",
   "execution_count": 1,
   "metadata": {},
   "outputs": [
    {
     "name": "stdout",
     "output_type": "stream",
     "text": [
      "['airpods', 'apple tv', 'apple watch', 'iPad', 'iphone x', 'mac', 'mac book']\n"
     ]
    }
   ],
   "source": [
    "produtos = ['apple tv', 'mac', 'iphone x', 'iPad', 'apple watch', 'mac book', 'airpods']\n",
    "produtos.sort()\n",
    "print(produtos)"
   ]
  },
  {
   "cell_type": "code",
   "execution_count": 4,
   "metadata": {},
   "outputs": [
    {
     "name": "stdout",
     "output_type": "stream",
     "text": [
      "Quantidade de produtos:\n",
      "7\n"
     ]
    }
   ],
   "source": [
    "produtos = ['apple tv', 'mac', 'iphone x', 'iPad', 'apple watch', 'mac book', 'airpods']\n",
    "produtos_lista = len(produtos)\n",
    "print('Quantidade de produtos:', produtos_lista, sep= '\\n' )\n"
   ]
  },
  {
   "cell_type": "code",
   "execution_count": 1,
   "metadata": {},
   "outputs": [
    {
     "name": "stdout",
     "output_type": "stream",
     "text": [
      "['airpods', 'apple tv', 'apple watch', 'iPad', 'iphone x', 'mac', 'mac book']\n"
     ]
    }
   ],
   "source": [
    "produtos = ['apple tv', 'mac', 'iphone x', 'iPad', 'apple watch', 'mac book', 'airpods']\n",
    "produtos.sort()\n",
    "print(produtos)"
   ]
  },
  {
   "cell_type": "code",
   "execution_count": 2,
   "metadata": {},
   "outputs": [
    {
     "name": "stdout",
     "output_type": "stream",
     "text": [
      "['apple tv', 'mac', 'iphone x', 'iPad', 'apple watch', 'mac book', 'airpods']\n"
     ]
    }
   ],
   "source": [
    "produtos = ['apple tv', 'mac', 'iphone x', 'iPad', 'apple watch', 'mac book', 'airpods']\n",
    "produtos_lista = list(produtos)\n",
    "print(produtos)"
   ]
  },
  {
   "cell_type": "code",
   "execution_count": 1,
   "metadata": {},
   "outputs": [
    {
     "name": "stdout",
     "output_type": "stream",
     "text": [
      "RJ está com níveis altíssimos de CO2 (496.6), chamar equipe especializada para verificar a região.\n",
      "RO está com níveis altíssimos de CO2 (455.8), chamar equipe especializada para verificar a região.\n",
      "SC está com níveis altíssimos de CO2 (455.0), chamar equipe especializada para verificar a região.\n"
     ]
    }
   ],
   "source": [
    "niveis_co2 = {\n",
    "        'AC': [325,405,429,486,402],\n",
    "        'AL': [492,495,310,407,388],\n",
    "        'AP': [507,503,368,338,400],\n",
    "        'AM': [429,456,352,377,363],\n",
    "        'BA': [321,508,372,490,412],\n",
    "        'CE': [424,328,425,516,480],\n",
    "        'ES': [449,506,461,337,336],\n",
    "        'GO': [425,460,385,485,460],\n",
    "        'MA': [361,310,344,425,490],\n",
    "        'MT': [358,402,425,386,379],\n",
    "        'MS': [324,357,441,405,427],\n",
    "        'MG': [345,367,391,427,516],\n",
    "        'PA': [479,514,392,493,329],\n",
    "        'PB': [418,499,317,302,476],\n",
    "        'PR': [420,508,419,396,327],\n",
    "        'PE': [404,444,495,320,343],\n",
    "        'PI': [513,513,304,377,475],\n",
    "        'RJ': [502,481,492,502,506],\n",
    "        'RN': [446,437,519,356,317],\n",
    "        'RS': [427,518,459,317,321],\n",
    "        'RO': [517,466,512,326,458],\n",
    "        'RR': [466,495,469,495,310],\n",
    "        'SC': [495,436,382,483,479],\n",
    "        'SP': [495,407,362,389,317],\n",
    "        'SE': [508,351,334,389,418],\n",
    "        'TO': [339,490,304,488,419],\n",
    "        'DF': [376,516,320,310,518],\n",
    "    } \n",
    "\n",
    "for estado in niveis_co2:\n",
    "    # print(niveis_co2[estado])\n",
    "    qtde_sensores = len(niveis_co2[estado])\n",
    "    total_co2 = sum(niveis_co2[estado])\n",
    "    media_co2 = total_co2 / qtde_sensores\n",
    "    if  media_co2 > 450:\n",
    "        print('{} está com níveis altíssimos de CO2 ({}), chamar equipe especializada para verificar a região.'.format(estado, media_co2))"
   ]
  }
 ],
 "metadata": {
  "kernelspec": {
   "display_name": ".venv",
   "language": "python",
   "name": "python3"
  },
  "language_info": {
   "codemirror_mode": {
    "name": "ipython",
    "version": 3
   },
   "file_extension": ".py",
   "mimetype": "text/x-python",
   "name": "python",
   "nbconvert_exporter": "python",
   "pygments_lexer": "ipython3",
   "version": "3.11.4"
  }
 },
 "nbformat": 4,
 "nbformat_minor": 2
}
