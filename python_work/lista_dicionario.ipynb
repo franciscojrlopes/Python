{
 "cells": [
  {
   "cell_type": "code",
   "execution_count": 1,
   "metadata": {},
   "outputs": [],
   "source": [
    "mais_vendidos = {'tecnologia': 'iphone', 'refrigeracao': 'ar consul 12000 btu', 'livros': 'o alquimista', 'eletrodoméstico': 'geladeira', 'lazer': 'prancha surf'}\n",
    "\n",
    "vendas_tecnologia = {'iphone': 15000, 'samsung galaxy': 12000, 'tv samsung': 10000, 'ps5': 14300, 'tablet': 1720, 'ipad': 1000, 'tv philco': 2500, 'notebook hp': 1000, 'notebook dell': 17000, 'notebook asus': 2450}"
   ]
  },
  {
   "cell_type": "markdown",
   "metadata": {},
   "source": [
    "Listas importantes a partir do Dicionário\n",
    "\n",
    " Métodos importantes:\n",
    "\n",
    "    .keys() -> uma \\\"lista\\\" com todas as chaves do dicionario\n",
    "\n",
    "    .values() -> uma \\\"lista\\\" com todos os valores do dicionario\n",
    "  \n",
    "    Obs: Se o dicionario for modificado, automaticamente essas variáveis são modificadas, mesmo tendo sido criadas anteriormente\n"
   ]
  },
  {
   "cell_type": "code",
   "execution_count": 2,
   "metadata": {},
   "outputs": [
    {
     "name": "stdout",
     "output_type": "stream",
     "text": [
      "dict_keys(['iphone', 'samsung galaxy', 'tv samsung', 'ps5', 'tablet', 'ipad', 'tv philco', 'notebook hp', 'notebook dell', 'notebook asus'])\n",
      "dict_values([15000, 12000, 10000, 14300, 1720, 1000, 2500, 1000, 17000, 2450])\n"
     ]
    }
   ],
   "source": [
    "vendas_tecnologia = {'iphone': 15000, 'samsung galaxy': 12000, 'tv samsung': 10000, 'ps5': 14300, 'tablet': 1720, 'ipad': 1000, 'tv philco': 2500, 'notebook hp': 1000, 'notebook dell': 17000, 'notebook asus': 2450}\n",
    "\n",
    "chaves = vendas_tecnologia.keys()\n",
    "valores = vendas_tecnologia.values()\n",
    "print(chaves)\n",
    "print(valores)\n"
   ]
  },
  {
   "cell_type": "code",
   "execution_count": 3,
   "metadata": {},
   "outputs": [
    {
     "name": "stdout",
     "output_type": "stream",
     "text": [
      "dict_keys(['iphone', 'samsung galaxy', 'tv samsung', 'ps5', 'tablet', 'ipad', 'tv philco', 'notebook hp', 'notebook dell', 'notebook asus', 'chico_phone'])\n",
      "dict_values([15000, 12000, 10000, 14300, 1720, 1000, 2500, 1000, 17000, 2450, 10])\n"
     ]
    }
   ],
   "source": [
    "vendas_tecnologia[\"chico_phone\"] = 10\n",
    "print(chaves)\n",
    "print(valores)"
   ]
  },
  {
   "cell_type": "code",
   "execution_count": 4,
   "metadata": {},
   "outputs": [
    {
     "name": "stdout",
     "output_type": "stream",
     "text": [
      "['iphone', 'samsung galaxy', 'tv samsung', 'ps5', 'tablet', 'ipad', 'tv philco', 'notebook hp', 'notebook dell', 'notebook asus', 'chico_phone']\n",
      "[15000, 12000, 10000, 14300, 1720, 1000, 2500, 1000, 17000, 2450, 10]\n"
     ]
    }
   ],
   "source": [
    "vendas_tecnologia[\"chico_phone\"] = 10\n",
    "#print(chaves)\n",
    "#print(valores)\n",
    "print(list(chaves))\n",
    "print(list(valores))"
   ]
  },
  {
   "cell_type": "code",
   "execution_count": 5,
   "metadata": {},
   "outputs": [
    {
     "name": "stdout",
     "output_type": "stream",
     "text": [
      "dict_keys(['iphone', 'samsung galaxy', 'tv samsung', 'ps5', 'tablet', 'ipad', 'tv philco', 'notebook hp', 'notebook dell', 'notebook asus', 'chico_phone'])\n",
      "dict_values([15000, 12000, 10000, 14300, 1720, 1000, 2500, 1000, 17000, 2450, 10])\n",
      "['iphone', 'samsung galaxy', 'tv samsung', 'ps5', 'tablet', 'ipad', 'tv philco', 'notebook hp', 'notebook dell', 'notebook asus', 'chico_phone']\n",
      "[15000, 12000, 10000, 14300, 1720, 1000, 2500, 1000, 17000, 2450, 10]\n"
     ]
    }
   ],
   "source": [
    "\n",
    "vendas_tecnologia[\"chico_phone\"] = 10\n",
    "print(chaves)\n",
    "print(valores)\n",
    "print(list(chaves))\n",
    "print(list(valores))\n"
   ]
  },
  {
   "cell_type": "code",
   "execution_count": 8,
   "metadata": {},
   "outputs": [
    {
     "name": "stdout",
     "output_type": "stream",
     "text": [
      "iphone: unidades.\n",
      "samsung galaxy: unidades.\n",
      "tv samsung: unidades.\n",
      "ps5: unidades.\n",
      "tablet: unidades.\n",
      "ipad: unidades.\n",
      "tv philco: unidades.\n",
      "notebook hp: unidades.\n",
      "notebook dell: unidades.\n",
      "notebook asus: unidades.\n",
      "chico_phone: unidades.\n",
      "---------------------------------------------\n"
     ]
    }
   ],
   "source": [
    "for chave in vendas_tecnologia:\n",
    "    print('{}: unidades.'.format(chave, vendas_tecnologia[chave]))\n",
    "print('-' * 45)"
   ]
  },
  {
   "cell_type": "code",
   "execution_count": 11,
   "metadata": {},
   "outputs": [
    {
     "name": "stdout",
     "output_type": "stream",
     "text": [
      "iphone: unidades.\n",
      "samsung galaxy: unidades.\n",
      "tv samsung: unidades.\n",
      "ps5: unidades.\n",
      "tablet: unidades.\n",
      "ipad: unidades.\n",
      "tv philco: unidades.\n",
      "notebook hp: unidades.\n",
      "notebook dell: unidades.\n",
      "notebook asus: unidades.\n",
      "chico_phone: unidades.\n",
      "---------------------------------------------\n",
      "['chico_phone', 'ipad', 'iphone', 'notebook asus', 'notebook dell', 'notebook hp', 'ps5', 'samsung galaxy', 'tablet', 'tv philco', 'tv samsung']\n"
     ]
    }
   ],
   "source": [
    "for chave in vendas_tecnologia:\n",
    "    print('{}: unidades.'.format(chave, vendas_tecnologia[chave]))\n",
    "print('-' * 45)\n",
    "\n",
    "lista_chaves = list(chaves)\n",
    "lista_chaves.sort()\n",
    "print(lista_chaves)\n"
   ]
  }
 ],
 "metadata": {
  "kernelspec": {
   "display_name": ".venv",
   "language": "python",
   "name": "python3"
  },
  "language_info": {
   "codemirror_mode": {
    "name": "ipython",
    "version": 3
   },
   "file_extension": ".py",
   "mimetype": "text/x-python",
   "name": "python",
   "nbconvert_exporter": "python",
   "pygments_lexer": "ipython3",
   "version": "3.11.4"
  }
 },
 "nbformat": 4,
 "nbformat_minor": 2
}
