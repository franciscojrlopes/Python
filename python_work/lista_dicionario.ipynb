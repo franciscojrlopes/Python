{
 "cells": [
  {
   "cell_type": "markdown",
   "metadata": {},
   "source": [
    "Listas importantes a partir do Dicionário\n",
    "\n",
    " Métodos importantes:\n",
    "\n",
    "    .keys() -> uma \\\"lista\\\" com todas as chaves do dicionario\n",
    "\n",
    "    .values() -> uma \\\"lista\\\" com todos os valores do dicionario\n",
    "  \n",
    "    Obs: Se o dicionario for modificado, automaticamente essas variáveis são modificadas, mesmo tendo sido criadas anteriormente\n"
   ]
  },
  {
   "cell_type": "code",
   "execution_count": 2,
   "metadata": {},
   "outputs": [
    {
     "name": "stdout",
     "output_type": "stream",
     "text": [
      "dict_keys(['iphone', 'samsung galaxy', 'tv samsung', 'ps5', 'tablet', 'ipad', 'tv philco', 'notebook hp', 'notebook dell', 'notebook asus'])\n",
      "dict_values([15000, 12000, 10000, 14300, 1720, 1000, 2500, 1000, 17000, 2450])\n"
     ]
    }
   ],
   "source": [
    "vendas_tecnologia = {'iphone': 15000, 'samsung galaxy': 12000, 'tv samsung': 10000, 'ps5': 14300, 'tablet': 1720, 'ipad': 1000, 'tv philco': 2500, 'notebook hp': 1000, 'notebook dell': 17000, 'notebook asus': 2450}\n",
    "\n",
    "chaves = vendas_tecnologia.keys()\n",
    "valores = vendas_tecnologia.values()\n",
    "print(chaves)\n",
    "print(valores)\n"
   ]
  },
  {
   "cell_type": "code",
   "execution_count": 3,
   "metadata": {},
   "outputs": [
    {
     "name": "stdout",
     "output_type": "stream",
     "text": [
      "dict_keys(['iphone', 'samsung galaxy', 'tv samsung', 'ps5', 'tablet', 'ipad', 'tv philco', 'notebook hp', 'notebook dell', 'notebook asus', 'chico_phone'])\n",
      "dict_values([15000, 12000, 10000, 14300, 1720, 1000, 2500, 1000, 17000, 2450, 10])\n"
     ]
    }
   ],
   "source": [
    "vendas_tecnologia[\"chico_phone\"] = 10\n",
    "print(chaves)\n",
    "print(valores)"
   ]
  },
  {
   "cell_type": "code",
   "execution_count": 4,
   "metadata": {},
   "outputs": [
    {
     "name": "stdout",
     "output_type": "stream",
     "text": [
      "['iphone', 'samsung galaxy', 'tv samsung', 'ps5', 'tablet', 'ipad', 'tv philco', 'notebook hp', 'notebook dell', 'notebook asus', 'chico_phone']\n",
      "[15000, 12000, 10000, 14300, 1720, 1000, 2500, 1000, 17000, 2450, 10]\n"
     ]
    }
   ],
   "source": [
    "vendas_tecnologia[\"chico_phone\"] = 10\n",
    "#print(chaves)\n",
    "#print(valores)\n",
    "print(list(chaves))\n",
    "print(list(valores))"
   ]
  },
  {
   "cell_type": "code",
   "execution_count": 5,
   "metadata": {},
   "outputs": [
    {
     "name": "stdout",
     "output_type": "stream",
     "text": [
      "dict_keys(['iphone', 'samsung galaxy', 'tv samsung', 'ps5', 'tablet', 'ipad', 'tv philco', 'notebook hp', 'notebook dell', 'notebook asus', 'chico_phone'])\n",
      "dict_values([15000, 12000, 10000, 14300, 1720, 1000, 2500, 1000, 17000, 2450, 10])\n",
      "['iphone', 'samsung galaxy', 'tv samsung', 'ps5', 'tablet', 'ipad', 'tv philco', 'notebook hp', 'notebook dell', 'notebook asus', 'chico_phone']\n",
      "[15000, 12000, 10000, 14300, 1720, 1000, 2500, 1000, 17000, 2450, 10]\n"
     ]
    }
   ],
   "source": [
    "\n",
    "vendas_tecnologia[\"chico_phone\"] = 10\n",
    "print(chaves)\n",
    "print(valores)\n",
    "print(list(chaves))\n",
    "print(list(valores))\n"
   ]
  },
  {
   "cell_type": "code",
   "execution_count": 46,
   "metadata": {},
   "outputs": [
    {
     "ename": "TypeError",
     "evalue": "list indices must be integers or slices, not str",
     "output_type": "error",
     "traceback": [
      "\u001b[1;31m---------------------------------------------------------------------------\u001b[0m",
      "\u001b[1;31mTypeError\u001b[0m                                 Traceback (most recent call last)",
      "\u001b[1;32mc:\\Users\\fraro\\OneDrive\\Documentos\\Estudos\\Python\\python_work\\lista_dicionario.ipynb Célula 6\u001b[0m line \u001b[0;36m1\n\u001b[1;32m----> <a href='vscode-notebook-cell:/c%3A/Users/fraro/OneDrive/Documentos/Estudos/Python/python_work/lista_dicionario.ipynb#X12sZmlsZQ%3D%3D?line=0'>1</a>\u001b[0m vendas_tecnologia[\u001b[39m'\u001b[39;49m\u001b[39mchico_phone\u001b[39;49m\u001b[39m'\u001b[39;49m] \u001b[39m=\u001b[39m \u001b[39m10\u001b[39m\n\u001b[0;32m      <a href='vscode-notebook-cell:/c%3A/Users/fraro/OneDrive/Documentos/Estudos/Python/python_work/lista_dicionario.ipynb#X12sZmlsZQ%3D%3D?line=1'>2</a>\u001b[0m \u001b[39mfor\u001b[39;00m chave \u001b[39min\u001b[39;00m vendas_tecnologia:\n\u001b[0;32m      <a href='vscode-notebook-cell:/c%3A/Users/fraro/OneDrive/Documentos/Estudos/Python/python_work/lista_dicionario.ipynb#X12sZmlsZQ%3D%3D?line=3'>4</a>\u001b[0m     \u001b[39mprint\u001b[39m(\u001b[39m'\u001b[39m\u001b[39m{}\u001b[39;00m\u001b[39m \u001b[39m\u001b[39m{}\u001b[39;00m\u001b[39m: unidades\u001b[39m\u001b[39m'\u001b[39m\u001b[39m.\u001b[39mformat(chave, vendas_tecnologia[chave]))\n",
      "\u001b[1;31mTypeError\u001b[0m: list indices must be integers or slices, not str"
     ]
    }
   ],
   "source": [
    "vendas_tecnologia['chico_phone'] = 10\n",
    "for chave in vendas_tecnologia:\n",
    "    \n",
    "    print('{} {}: unidades'.format(chave, vendas_tecnologia[chave]))\n",
    "\n",
    "print('-' * 100)\n",
    "\n"
   ]
  }
 ],
 "metadata": {
  "kernelspec": {
   "display_name": ".venv",
   "language": "python",
   "name": "python3"
  },
  "language_info": {
   "codemirror_mode": {
    "name": "ipython",
    "version": 3
   },
   "file_extension": ".py",
   "mimetype": "text/x-python",
   "name": "python",
   "nbconvert_exporter": "python",
   "pygments_lexer": "ipython3",
   "version": "3.11.4"
  }
 },
 "nbformat": 4,
 "nbformat_minor": 2
}
