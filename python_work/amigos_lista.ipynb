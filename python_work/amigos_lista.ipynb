{
 "cells": [
  {
   "cell_type": "code",
   "execution_count": 7,
   "metadata": {},
   "outputs": [
    {
     "name": "stdout",
     "output_type": "stream",
     "text": [
      "Lé\n",
      "Toco\n",
      "Cacá\n",
      "Zé\n",
      "Weto\n",
      "Guedo\n",
      "Montanha\n",
      "Jardel\n"
     ]
    }
   ],
   "source": [
    "amigos = ['Lé', 'Toco', 'Cacá', 'Zé', 'Weto', 'Guedo', 'Montanha', 'Jardel']\n",
    "print(amigos[0])\n",
    "print(amigos[1])\n",
    "print(amigos[2])\n",
    "print(amigos[3])\n",
    "print(amigos[4])\n",
    "print(amigos[5])\n",
    "print(amigos[6])\n",
    "print(amigos[7])"
   ]
  },
  {
   "cell_type": "code",
   "execution_count": 12,
   "metadata": {},
   "outputs": [
    {
     "ename": "AttributeError",
     "evalue": "'str' object has no attribute 'print'",
     "output_type": "error",
     "traceback": [
      "\u001b[1;31m---------------------------------------------------------------------------\u001b[0m",
      "\u001b[1;31mAttributeError\u001b[0m                            Traceback (most recent call last)",
      "\u001b[1;32mc:\\Users\\fraro\\OneDrive\\Documentos\\Estudos\\Python\\python_work\\amigos_lista.ipynb Célula 2\u001b[0m line \u001b[0;36m2\n\u001b[0;32m      <a href='vscode-notebook-cell:/c%3A/Users/fraro/OneDrive/Documentos/Estudos/Python/python_work/amigos_lista.ipynb#W1sZmlsZQ%3D%3D?line=0'>1</a>\u001b[0m amigos \u001b[39m=\u001b[39m [\u001b[39m'\u001b[39m\u001b[39mLé\u001b[39m\u001b[39m'\u001b[39m, \u001b[39m'\u001b[39m\u001b[39mToco\u001b[39m\u001b[39m'\u001b[39m, \u001b[39m'\u001b[39m\u001b[39mCacá\u001b[39m\u001b[39m'\u001b[39m, \u001b[39m'\u001b[39m\u001b[39mZé\u001b[39m\u001b[39m'\u001b[39m, \u001b[39m'\u001b[39m\u001b[39mWeto\u001b[39m\u001b[39m'\u001b[39m, \u001b[39m'\u001b[39m\u001b[39mGuedo\u001b[39m\u001b[39m'\u001b[39m, \u001b[39m'\u001b[39m\u001b[39mMontanha\u001b[39m\u001b[39m'\u001b[39m, \u001b[39m'\u001b[39m\u001b[39mJardel\u001b[39m\u001b[39m'\u001b[39m]\n\u001b[1;32m----> <a href='vscode-notebook-cell:/c%3A/Users/fraro/OneDrive/Documentos/Estudos/Python/python_work/amigos_lista.ipynb#W1sZmlsZQ%3D%3D?line=1'>2</a>\u001b[0m message \u001b[39m=\u001b[39m (\u001b[39m'\u001b[39;49m\u001b[39mComo vai meu amigo?\u001b[39;49m\u001b[39m'\u001b[39;49m\u001b[39m.\u001b[39;49mprint([\u001b[39m0\u001b[39m]))\n\u001b[0;32m      <a href='vscode-notebook-cell:/c%3A/Users/fraro/OneDrive/Documentos/Estudos/Python/python_work/amigos_lista.ipynb#W1sZmlsZQ%3D%3D?line=2'>3</a>\u001b[0m \u001b[39mprint\u001b[39m(message)\n\u001b[0;32m      <a href='vscode-notebook-cell:/c%3A/Users/fraro/OneDrive/Documentos/Estudos/Python/python_work/amigos_lista.ipynb#W1sZmlsZQ%3D%3D?line=3'>4</a>\u001b[0m \u001b[39mprint\u001b[39m(amigos[\u001b[39m0\u001b[39m]\u001b[39m.\u001b[39mupper())\n",
      "\u001b[1;31mAttributeError\u001b[0m: 'str' object has no attribute 'print'"
     ]
    }
   ],
   "source": [
    "amigos = ['Lé', 'Toco', 'Cacá', 'Zé', 'Weto', 'Guedo', 'Montanha', 'Jardel']\n",
    "message = ''\n",
    "print(message)\n",
    "print(amigos[0].upper())\n",
    "print(amigos[1])\n",
    "print(amigos[2])\n",
    "print(amigos[3])\n",
    "print(amigos[4])\n",
    "print(amigos[5])\n",
    "print(amigos[6])\n",
    "print(amigos[7])"
   ]
  }
 ],
 "metadata": {
  "kernelspec": {
   "display_name": ".venv",
   "language": "python",
   "name": "python3"
  },
  "language_info": {
   "codemirror_mode": {
    "name": "ipython",
    "version": 3
   },
   "file_extension": ".py",
   "mimetype": "text/x-python",
   "name": "python",
   "nbconvert_exporter": "python",
   "pygments_lexer": "ipython3",
   "version": "3.11.4"
  }
 },
 "nbformat": 4,
 "nbformat_minor": 2
}
