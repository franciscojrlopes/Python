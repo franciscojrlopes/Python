{
 "cells": [
  {
   "cell_type": "code",
   "execution_count": 7,
   "metadata": {},
   "outputs": [
    {
     "name": "stdout",
     "output_type": "stream",
     "text": [
      "Lé\n",
      "Toco\n",
      "Cacá\n",
      "Zé\n",
      "Weto\n",
      "Guedo\n",
      "Montanha\n",
      "Jardel\n"
     ]
    }
   ],
   "source": [
    "amigos = ['Lé', 'Toco', 'Cacá', 'Zé', 'Weto', 'Guedo', 'Montanha', 'Jardel']\n",
    "print(amigos[0])\n",
    "print(amigos[1])\n",
    "print(amigos[2])\n",
    "print(amigos[3])\n",
    "print(amigos[4])\n",
    "print(amigos[5])\n",
    "print(amigos[6])\n",
    "print(amigos[7])"
   ]
  },
  {
   "cell_type": "code",
   "execution_count": 2,
   "metadata": {},
   "outputs": [
    {
     "ename": "NameError",
     "evalue": "name 'message' is not defined",
     "output_type": "error",
     "traceback": [
      "\u001b[1;31m---------------------------------------------------------------------------\u001b[0m",
      "\u001b[1;31mNameError\u001b[0m                                 Traceback (most recent call last)",
      "\u001b[1;32mc:\\Users\\fraro\\OneDrive\\Documentos\\Estudos\\Python\\python_work\\amigos_lista.ipynb Célula 2\u001b[0m line \u001b[0;36m3\n\u001b[0;32m      <a href='vscode-notebook-cell:/c%3A/Users/fraro/OneDrive/Documentos/Estudos/Python/python_work/amigos_lista.ipynb#W1sZmlsZQ%3D%3D?line=0'>1</a>\u001b[0m amigos \u001b[39m=\u001b[39m [\u001b[39m'\u001b[39m\u001b[39mLé\u001b[39m\u001b[39m'\u001b[39m, \u001b[39m'\u001b[39m\u001b[39mToco\u001b[39m\u001b[39m'\u001b[39m, \u001b[39m'\u001b[39m\u001b[39mCacá\u001b[39m\u001b[39m'\u001b[39m, \u001b[39m'\u001b[39m\u001b[39mZé\u001b[39m\u001b[39m'\u001b[39m, \u001b[39m'\u001b[39m\u001b[39mWeto\u001b[39m\u001b[39m'\u001b[39m, \u001b[39m'\u001b[39m\u001b[39mGuedo\u001b[39m\u001b[39m'\u001b[39m, \u001b[39m'\u001b[39m\u001b[39mMontanha\u001b[39m\u001b[39m'\u001b[39m, \u001b[39m'\u001b[39m\u001b[39mJardel\u001b[39m\u001b[39m'\u001b[39m]\n\u001b[1;32m----> <a href='vscode-notebook-cell:/c%3A/Users/fraro/OneDrive/Documentos/Estudos/Python/python_work/amigos_lista.ipynb#W1sZmlsZQ%3D%3D?line=2'>3</a>\u001b[0m \u001b[39mprint\u001b[39m(message)\n\u001b[0;32m      <a href='vscode-notebook-cell:/c%3A/Users/fraro/OneDrive/Documentos/Estudos/Python/python_work/amigos_lista.ipynb#W1sZmlsZQ%3D%3D?line=3'>4</a>\u001b[0m \u001b[39mprint\u001b[39m(amigos[\u001b[39m0\u001b[39m]\u001b[39m.\u001b[39mupper())\n\u001b[0;32m      <a href='vscode-notebook-cell:/c%3A/Users/fraro/OneDrive/Documentos/Estudos/Python/python_work/amigos_lista.ipynb#W1sZmlsZQ%3D%3D?line=4'>5</a>\u001b[0m \u001b[39mprint\u001b[39m(amigos[\u001b[39m1\u001b[39m])\n",
      "\u001b[1;31mNameError\u001b[0m: name 'message' is not defined"
     ]
    }
   ],
   "source": [
    "amigos = ['Lé', 'Toco', 'Cacá', 'Zé', 'Weto', 'Guedo', 'Montanha', 'Jardel']\n",
    "\n",
    "print(message)\n",
    "print(amigos[0].upper())\n",
    "print(amigos[1])\n",
    "print(amigos[2])\n",
    "print(amigos[3])\n",
    "print(amigos[4])\n",
    "print(amigos[5])\n",
    "print(amigos[6])\n",
    "print(amigos[7])\n",
    "\n",
    "nome = amigos[0].title()\n",
    "print(f'{nome}, por favor venha para o jantar!')\n",
    "\n",
    "nome = amigos[1].title()\n",
    "print(f'{nome}, por favor venha para o jantar!')\n",
    "\n",
    "nome = amigos[2].title()\n",
    "print(f'{nome}, por favor venha para o jantar!')\n",
    "\n",
    "nome = amigos[3].title()\n",
    "print(f'{nome}, por favor venha para o jantar!')\n",
    "\n",
    "nome = amigos[4].title()\n",
    "print(f'{nome}, por favor venha para o jantar!')\n",
    "\n",
    "nome = amigos[5].title()\n",
    "print(f'{nome}, por favor venha para o jantar!')\n",
    "\n",
    "nome = amigos[6].title()\n",
    "print(f'{nome}, por favor venha para o jantar!')\n",
    "\n",
    "nome = amigos[7].title()\n",
    "print(f'{nome}, por favor venha para o jantar!')\n"
   ]
  }
 ],
 "metadata": {
  "kernelspec": {
   "display_name": ".venv",
   "language": "python",
   "name": "python3"
  },
  "language_info": {
   "codemirror_mode": {
    "name": "ipython",
    "version": 3
   },
   "file_extension": ".py",
   "mimetype": "text/x-python",
   "name": "python",
   "nbconvert_exporter": "python",
   "pygments_lexer": "ipython3",
   "version": "3.11.4"
  }
 },
 "nbformat": 4,
 "nbformat_minor": 2
}
