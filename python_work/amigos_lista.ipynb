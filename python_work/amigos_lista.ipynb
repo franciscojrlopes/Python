{
 "cells": [
  {
   "cell_type": "code",
   "execution_count": 1,
   "metadata": {},
   "outputs": [
    {
     "name": "stdout",
     "output_type": "stream",
     "text": [
      "Lé\n",
      "Toco\n",
      "Cacá\n",
      "Zé\n",
      "Weto\n",
      "Guedo\n",
      "Montanha\n",
      "Jardel\n"
     ]
    }
   ],
   "source": [
    "amigos = ['Lé', 'Toco', 'Cacá', 'Zé', 'Weto', 'Guedo', 'Montanha', 'Jardel']\n",
    "print(amigos[0])\n",
    "print(amigos[1])\n",
    "print(amigos[2])\n",
    "print(amigos[3])\n",
    "print(amigos[4])\n",
    "print(amigos[5])\n",
    "print(amigos[6])\n",
    "print(amigos[7])"
   ]
  },
  {
   "cell_type": "code",
   "execution_count": 2,
   "metadata": {},
   "outputs": [
    {
     "name": "stdout",
     "output_type": "stream",
     "text": [
      "LÉ\n",
      "Toco\n",
      "Cacá\n",
      "Zé\n",
      "Weto\n",
      "Guedo\n",
      "Montanha\n",
      "Jardel\n",
      "Lé, por favor venha para o jantar!\n",
      "Toco, por favor venha para o jantar!\n",
      "Cacá, por favor venha para o jantar!\n",
      "Zé, por favor venha para o jantar!\n",
      "Weto, por favor venha para o jantar!\n",
      "Guedo, por favor venha para o jantar!\n",
      "Montanha, por favor venha para o jantar!\n",
      "Jardel, por favor venha para o jantar!\n"
     ]
    }
   ],
   "source": [
    "amigos = ['Lé', 'Toco', 'Cacá', 'Zé', 'Weto', 'Guedo', 'Montanha', 'Jardel']\n",
    "\n",
    "print(amigos[0].upper())\n",
    "print(amigos[1])\n",
    "print(amigos[2])\n",
    "print(amigos[3])\n",
    "print(amigos[4])\n",
    "print(amigos[5])\n",
    "print(amigos[6])\n",
    "print(amigos[7])\n",
    "\n",
    "nome = amigos[0].title()\n",
    "print(f'{nome}, por favor venha para o jantar!')\n",
    "\n",
    "nome = amigos[1].title()\n",
    "print(f'{nome}, por favor venha para o jantar!')\n",
    "\n",
    "nome = amigos[2].title()\n",
    "print(f'{nome}, por favor venha para o jantar!')\n",
    "\n",
    "nome = amigos[3].title()\n",
    "print(f'{nome}, por favor venha para o jantar!')\n",
    "\n",
    "nome = amigos[4].title()\n",
    "print(f'{nome}, por favor venha para o jantar!')\n",
    "\n",
    "nome = amigos[5].title()\n",
    "print(f'{nome}, por favor venha para o jantar!')\n",
    "\n",
    "nome = amigos[6].title()\n",
    "print(f'{nome}, por favor venha para o jantar!')\n",
    "\n",
    "nome = amigos[7].title()\n",
    "print(f'{nome}, por favor venha para o jantar!')\n"
   ]
  },
  {
   "cell_type": "code",
   "execution_count": 3,
   "metadata": {},
   "outputs": [
    {
     "name": "stdout",
     "output_type": "stream",
     "text": [
      "LÉ\n",
      "Toco\n",
      "Cacá\n",
      "Zé\n",
      "Weto\n",
      "Guedo\n",
      "Montanha\n",
      "Jardel\n",
      "Lé, por favor venha para o jantar!\n",
      "Toco, por favor venha para o jantar!\n",
      "Cacá, por favor venha para o jantar!\n",
      "Zé, por favor venha para o jantar!\n",
      "Weto, por favor venha para o jantar!\n",
      "Guedo, por favor venha para o jantar!\n",
      "Montanha, por favor venha para o jantar!\n",
      "Jardel, por favor venha para o jantar!\n"
     ]
    }
   ],
   "source": [
    "amigos = ['Lé', 'Toco', 'Cacá', 'Zé', 'Weto', 'Guedo', 'Montanha', 'Jardel']\n",
    "\n",
    "print(amigos[0].upper())\n",
    "print(amigos[1])\n",
    "print(amigos[2])\n",
    "print(amigos[3])\n",
    "print(amigos[4])\n",
    "print(amigos[5])\n",
    "print(amigos[6])\n",
    "print(amigos[7])\n",
    "\n",
    "nome = amigos[0].title()\n",
    "print(f'{nome}, por favor venha para o jantar!')\n",
    "\n",
    "nome = amigos[1].title()\n",
    "print(f'{nome}, por favor venha para o jantar!')\n",
    "\n",
    "nome = amigos[2].title()\n",
    "print(f'{nome}, por favor venha para o jantar!')\n",
    "\n",
    "nome = amigos[3].title()\n",
    "print(f'{nome}, por favor venha para o jantar!')\n",
    "\n",
    "nome = amigos[4].title()\n",
    "print(f'{nome}, por favor venha para o jantar!')\n",
    "\n",
    "nome = amigos[5].title()\n",
    "print(f'{nome}, por favor venha para o jantar!')\n",
    "\n",
    "nome = amigos[6].title()\n",
    "print(f'{nome}, por favor venha para o jantar!')\n",
    "\n",
    "nome = amigos[7].title()\n",
    "print(f'{nome}, por favor venha para o jantar!')\n"
   ]
  },
  {
   "cell_type": "code",
   "execution_count": 2,
   "metadata": {},
   "outputs": [
    {
     "name": "stdout",
     "output_type": "stream",
     "text": [
      "LÉ\n",
      "Toco\n",
      "Cacá\n",
      "Zé\n",
      "Weto\n",
      "Guedo\n",
      "Montanha\n",
      "Jardel\n",
      "Lé, vamos jogar uma pelada?\n",
      "Toco, vamos jogar uma pelada?\n",
      "Cacá, vamos jogar uma pelada?\n",
      "Zé, vamos jogar uma pelada?\n",
      "Weto, vamos jogar uma pelada?\n",
      "Guedo, vamos jogar uma pelada?\n",
      "Montanha, vamos jogar uma pelada?\n",
      "Jardel, vamos jogar uma pelada?\n"
     ]
    }
   ],
   "source": [
    "amigos = ['Lé', 'Toco', 'Cacá', 'Zé', 'Weto', 'Guedo', 'Montanha', 'Jardel']\n",
    "\n",
    "print(amigos[0].upper())\n",
    "print(amigos[1])\n",
    "print(amigos[2])\n",
    "print(amigos[3])\n",
    "print(amigos[4])\n",
    "print(amigos[5])\n",
    "print(amigos[6])\n",
    "print(amigos[7])\n",
    "\n",
    "nome = amigos[0].title()\n",
    "print(f'{nome}, vamos jogar uma pelada?')\n",
    "\n",
    "nome = amigos[1].title()\n",
    "print(f'{nome}, vamos jogar uma pelada?')\n",
    "\n",
    "nome = amigos[2].title()\n",
    "print(f'{nome}, vamos jogar uma pelada?')\n",
    "\n",
    "nome = amigos[3].title()\n",
    "print(f'{nome}, vamos jogar uma pelada?')\n",
    "\n",
    "nome = amigos[4].title()\n",
    "print(f'{nome}, vamos jogar uma pelada?')\n",
    "\n",
    "nome = amigos[5].title()\n",
    "print(f'{nome}, vamos jogar uma pelada?')\n",
    "\n",
    "nome = amigos[6].title()\n",
    "print(f'{nome}, vamos jogar uma pelada?')\n",
    "\n",
    "nome = amigos[7].title()\n",
    "print(f'{nome}, vamos jogar uma pelada?')\n"
   ]
  }
 ],
 "metadata": {
  "kernelspec": {
   "display_name": "Python 3",
   "language": "python",
   "name": "python3"
  },
  "language_info": {
   "codemirror_mode": {
    "name": "ipython",
    "version": 3
   },
   "file_extension": ".py",
   "mimetype": "text/x-python",
   "name": "python",
   "nbconvert_exporter": "python",
   "pygments_lexer": "ipython3",
   "version": "3.11.4"
  }
 },
 "nbformat": 4,
 "nbformat_minor": 2
}
