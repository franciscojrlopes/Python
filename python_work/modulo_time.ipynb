{
 "cells": [
  {
   "cell_type": "markdown",
   "metadata": {},
   "source": [
    " Módulo Time em Python\n",
    " \n",
    "O módulo time em Python fornece uma variedade de funções para trabalhar com tempo.\n",
    "  "
   ]
  },
  {
   "cell_type": "code",
   "execution_count": 1,
   "metadata": {},
   "outputs": [
    {
     "name": "stdout",
     "output_type": "stream",
     "text": [
      "time.struct_time(tm_year=2024, tm_mon=1, tm_mday=13, tm_hour=15, tm_min=25, tm_sec=3, tm_wday=5, tm_yday=13, tm_isdst=0)\n"
     ]
    }
   ],
   "source": [
    "import time\n",
    "tempo_em_struct = time.localtime()\n",
    "print(tempo_em_struct)\n"
   ]
  },
  {
   "cell_type": "code",
   "execution_count": null,
   "metadata": {},
   "outputs": [],
   "source": []
  }
 ],
 "metadata": {
  "kernelspec": {
   "display_name": ".venv",
   "language": "python",
   "name": "python3"
  },
  "language_info": {
   "codemirror_mode": {
    "name": "ipython",
    "version": 3
   },
   "file_extension": ".py",
   "mimetype": "text/x-python",
   "name": "python",
   "nbconvert_exporter": "python",
   "pygments_lexer": "ipython3",
   "version": "3.11.4"
  }
 },
 "nbformat": 4,
 "nbformat_minor": 2
}
