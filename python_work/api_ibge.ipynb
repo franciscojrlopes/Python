{
 "cells": [
  {
   "cell_type": "markdown",
   "metadata": {},
   "source": [
    "API IBGE links endpoints..............\n",
    "\n",
    "Query Builder\n"
   ]
  },
  {
   "cell_type": "code",
   "execution_count": 10,
   "metadata": {},
   "outputs": [
    {
     "name": "stdout",
     "output_type": "stream",
     "text": [
      "<Response [200]>\n"
     ]
    }
   ],
   "source": [
    "import requests\n",
    "\n",
    "link = 'https://servicodados.ibge.gov.br/api/v3/agregados/4112/periodos/2006/variaveis/2586?localidades=N1[all]'\n",
    "\n",
    "requisição = requests.get(link)\n",
    "print(requisição)"
   ]
  },
  {
   "cell_type": "code",
   "execution_count": 11,
   "metadata": {},
   "outputs": [
    {
     "name": "stdout",
     "output_type": "stream",
     "text": [
      "[{'id': '2586', 'variavel': 'Número de estabelecimentos agropecuários com suínos', 'unidade': 'Unidades', 'resultados': [{'classificacoes': [{'id': '637', 'nome': 'Classificação de médio produtor', 'categoria': {'0': 'Total'}}, {'id': '12650', 'nome': 'Plantel de suínos', 'categoria': {'116700': 'Total'}}], 'series': [{'localidade': {'id': '1', 'nivel': {'id': 'N1', 'nome': 'Brasil'}, 'nome': 'Brasil'}, 'serie': {'2006': '1496422'}}]}]}]\n"
     ]
    }
   ],
   "source": [
    "import requests\n",
    "\n",
    "link = 'https://servicodados.ibge.gov.br/api/v3/agregados/4112/periodos/2006/variaveis/2586?localidades=N1[all]'\n",
    "\n",
    "requisição = requests.get(link)\n",
    "print(requisição.json())"
   ]
  },
  {
   "cell_type": "markdown",
   "metadata": {},
   "source": [
    "pprint.print duas formas de fazer:"
   ]
  },
  {
   "cell_type": "code",
   "execution_count": 7,
   "metadata": {},
   "outputs": [
    {
     "name": "stdout",
     "output_type": "stream",
     "text": [
      "[{'id': '2586',\n",
      "  'resultados': [{'classificacoes': [{'categoria': {'0': 'Total'},\n",
      "                                      'id': '637',\n",
      "                                      'nome': 'Classificação de médio '\n",
      "                                              'produtor'},\n",
      "                                     {'categoria': {'116700': 'Total'},\n",
      "                                      'id': '12650',\n",
      "                                      'nome': 'Plantel de suínos'}],\n",
      "                  'series': [{'localidade': {'id': '1',\n",
      "                                             'nivel': {'id': 'N1',\n",
      "                                                       'nome': 'Brasil'},\n",
      "                                             'nome': 'Brasil'},\n",
      "                              'serie': {'2006': '1496422'}}]}],\n",
      "  'unidade': 'Unidades',\n",
      "  'variavel': 'Número de estabelecimentos agropecuários com suínos'}]\n"
     ]
    }
   ],
   "source": [
    "import requests\n",
    "\n",
    "link = 'https://servicodados.ibge.gov.br/api/v3/agregados/4112/periodos/2006/variaveis/2586?localidades=N1[all]'\n",
    "\n",
    "requisição = requests.get(link)\n",
    "import pprint\n",
    "pprint.pprint(requisição.json())"
   ]
  },
  {
   "cell_type": "code",
   "execution_count": 9,
   "metadata": {},
   "outputs": [
    {
     "name": "stdout",
     "output_type": "stream",
     "text": [
      "[{'id': '2586',\n",
      "  'resultados': [{'classificacoes': [{'categoria': {'0': 'Total'},\n",
      "                                      'id': '637',\n",
      "                                      'nome': 'Classificação de médio '\n",
      "                                              'produtor'},\n",
      "                                     {'categoria': {'116700': 'Total'},\n",
      "                                      'id': '12650',\n",
      "                                      'nome': 'Plantel de suínos'}],\n",
      "                  'series': [{'localidade': {'id': '1',\n",
      "                                             'nivel': {'id': 'N1',\n",
      "                                                       'nome': 'Brasil'},\n",
      "                                             'nome': 'Brasil'},\n",
      "                              'serie': {'2006': '1496422'}}]}],\n",
      "  'unidade': 'Unidades',\n",
      "  'variavel': 'Número de estabelecimentos agropecuários com suínos'}]\n"
     ]
    }
   ],
   "source": [
    "import requests\n",
    "\n",
    "link = 'https://servicodados.ibge.gov.br/api/v3/agregados/4112/periodos/2006/variaveis/2586?localidades=N1[all]'\n",
    "\n",
    "requisição = requests.get(link)\n",
    "informações = requisição.json()\n",
    "import pprint\n",
    "pprint.pprint(informações)"
   ]
  },
  {
   "cell_type": "code",
   "execution_count": 12,
   "metadata": {},
   "outputs": [
    {
     "name": "stdout",
     "output_type": "stream",
     "text": [
      "[{'localidade': {'id': '1',\n",
      "                 'nivel': {'id': 'N1', 'nome': 'Brasil'},\n",
      "                 'nome': 'Brasil'},\n",
      "  'serie': {'2006': '1496422'}}]\n"
     ]
    }
   ],
   "source": [
    "requisicao = requests.get(link)\n",
    "informacoes = requisicao.json()\n",
    "   \n",
    "import pprint\n",
    "\n",
    "pprint.pprint(informacoes[0]['resultados'][0]['series'])\n",
    "\n",
    "item_busca = informacoes[0]['variavel'] # variavel\n",
    "resultados = informacoes[0]['resultados'][0]['series'] # series\n"
   ]
  },
  {
   "cell_type": "code",
   "execution_count": 13,
   "metadata": {},
   "outputs": [
    {
     "name": "stdout",
     "output_type": "stream",
     "text": [
      "Número de estabelecimentos agropecuários com suínos\n",
      "[{'localidade': {'id': '1', 'nivel': {'id': 'N1', 'nome': 'Brasil'}, 'nome': 'Brasil'}, 'serie': {'2006': '1496422'}}]\n"
     ]
    }
   ],
   "source": [
    "print(item_busca)\n",
    "print(resultados)"
   ]
  },
  {
   "cell_type": "markdown",
   "metadata": {},
   "source": [
    "Especíes em extinção:\n"
   ]
  },
  {
   "cell_type": "code",
   "execution_count": 15,
   "metadata": {},
   "outputs": [
    {
     "name": "stdout",
     "output_type": "stream",
     "text": [
      "[{'id': '10484',\n",
      "  'resultados': [{'classificacoes': [{'categoria': {'119363': 'Total'},\n",
      "                                      'id': '12920',\n",
      "                                      'nome': 'Categorias de risco'},\n",
      "                                     {'categoria': {'47952': 'Total'},\n",
      "                                      'id': '454',\n",
      "                                      'nome': 'Grupos taxonômicos, hábito ou '\n",
      "                                              'forma de vida'},\n",
      "                                     {'categoria': {'48243': 'Total'},\n",
      "                                      'id': '919',\n",
      "                                      'nome': 'Tipo de ambiente'},\n",
      "                                     {'categoria': {'48741': 'Total'},\n",
      "                                      'id': '971',\n",
      "                                      'nome': 'Biomas e Sistema '\n",
      "                                              'Costeiro-Marinho'}],\n",
      "                  'series': [{'localidade': {'id': '1',\n",
      "                                             'nivel': {'id': 'N1',\n",
      "                                                       'nome': 'Brasil'},\n",
      "                                             'nome': 'Brasil'},\n",
      "                              'serie': {'2022': '21456'}}]},\n",
      "                 {'classificacoes': [{'categoria': {'119343': 'Extinta'},\n",
      "                                      'id': '12920',\n",
      "                                      'nome': 'Categorias de risco'},\n",
      "                                     {'categoria': {'47952': 'Total'},\n",
      "                                      'id': '454',\n",
      "                                      'nome': 'Grupos taxonômicos, hábito ou '\n",
      "                                              'forma de vida'},\n",
      "                                     {'categoria': {'48243': 'Total'},\n",
      "                                      'id': '919',\n",
      "                                      'nome': 'Tipo de ambiente'},\n",
      "                                     {'categoria': {'48741': 'Total'},\n",
      "                                      'id': '971',\n",
      "                                      'nome': 'Biomas e Sistema '\n",
      "                                              'Costeiro-Marinho'}],\n",
      "                  'series': [{'localidade': {'id': '1',\n",
      "                                             'nivel': {'id': 'N1',\n",
      "                                                       'nome': 'Brasil'},\n",
      "                                             'nome': 'Brasil'},\n",
      "                              'serie': {'2022': '9'}}]},\n",
      "                 {'classificacoes': [{'categoria': {'119344': 'Extinta na '\n",
      "                                                              'natureza'},\n",
      "                                      'id': '12920',\n",
      "                                      'nome': 'Categorias de risco'},\n",
      "                                     {'categoria': {'47952': 'Total'},\n",
      "                                      'id': '454',\n",
      "                                      'nome': 'Grupos taxonômicos, hábito ou '\n",
      "                                              'forma de vida'},\n",
      "                                     {'categoria': {'48243': 'Total'},\n",
      "                                      'id': '919',\n",
      "                                      'nome': 'Tipo de ambiente'},\n",
      "                                     {'categoria': {'48741': 'Total'},\n",
      "                                      'id': '971',\n",
      "                                      'nome': 'Biomas e Sistema '\n",
      "                                              'Costeiro-Marinho'}],\n",
      "                  'series': [{'localidade': {'id': '1',\n",
      "                                             'nivel': {'id': 'N1',\n",
      "                                                       'nome': 'Brasil'},\n",
      "                                             'nome': 'Brasil'},\n",
      "                              'serie': {'2022': '1'}}]},\n",
      "                 {'classificacoes': [{'categoria': {'119345': 'Criticamente em '\n",
      "                                                              'perigo'},\n",
      "                                      'id': '12920',\n",
      "                                      'nome': 'Categorias de risco'},\n",
      "                                     {'categoria': {'47952': 'Total'},\n",
      "                                      'id': '454',\n",
      "                                      'nome': 'Grupos taxonômicos, hábito ou '\n",
      "                                              'forma de vida'},\n",
      "                                     {'categoria': {'48243': 'Total'},\n",
      "                                      'id': '919',\n",
      "                                      'nome': 'Tipo de ambiente'},\n",
      "                                     {'categoria': {'48741': 'Total'},\n",
      "                                      'id': '971',\n",
      "                                      'nome': 'Biomas e Sistema '\n",
      "                                              'Costeiro-Marinho'}],\n",
      "                  'series': [{'localidade': {'id': '1',\n",
      "                                             'nivel': {'id': 'N1',\n",
      "                                                       'nome': 'Brasil'},\n",
      "                                             'nome': 'Brasil'},\n",
      "                              'serie': {'2022': '1042'}}]},\n",
      "                 {'classificacoes': [{'categoria': {'119346': 'Em perigo'},\n",
      "                                      'id': '12920',\n",
      "                                      'nome': 'Categorias de risco'},\n",
      "                                     {'categoria': {'47952': 'Total'},\n",
      "                                      'id': '454',\n",
      "                                      'nome': 'Grupos taxonômicos, hábito ou '\n",
      "                                              'forma de vida'},\n",
      "                                     {'categoria': {'48243': 'Total'},\n",
      "                                      'id': '919',\n",
      "                                      'nome': 'Tipo de ambiente'},\n",
      "                                     {'categoria': {'48741': 'Total'},\n",
      "                                      'id': '971',\n",
      "                                      'nome': 'Biomas e Sistema '\n",
      "                                              'Costeiro-Marinho'}],\n",
      "                  'series': [{'localidade': {'id': '1',\n",
      "                                             'nivel': {'id': 'N1',\n",
      "                                                       'nome': 'Brasil'},\n",
      "                                             'nome': 'Brasil'},\n",
      "                              'serie': {'2022': '2270'}}]},\n",
      "                 {'classificacoes': [{'categoria': {'119347': 'Vulnerável'},\n",
      "                                      'id': '12920',\n",
      "                                      'nome': 'Categorias de risco'},\n",
      "                                     {'categoria': {'47952': 'Total'},\n",
      "                                      'id': '454',\n",
      "                                      'nome': 'Grupos taxonômicos, hábito ou '\n",
      "                                              'forma de vida'},\n",
      "                                     {'categoria': {'48243': 'Total'},\n",
      "                                      'id': '919',\n",
      "                                      'nome': 'Tipo de ambiente'},\n",
      "                                     {'categoria': {'48741': 'Total'},\n",
      "                                      'id': '971',\n",
      "                                      'nome': 'Biomas e Sistema '\n",
      "                                              'Costeiro-Marinho'}],\n",
      "                  'series': [{'localidade': {'id': '1',\n",
      "                                             'nivel': {'id': 'N1',\n",
      "                                                       'nome': 'Brasil'},\n",
      "                                             'nome': 'Brasil'},\n",
      "                              'serie': {'2022': '1148'}}]},\n",
      "                 {'classificacoes': [{'categoria': {'48240': 'Quase ameaçada'},\n",
      "                                      'id': '12920',\n",
      "                                      'nome': 'Categorias de risco'},\n",
      "                                     {'categoria': {'47952': 'Total'},\n",
      "                                      'id': '454',\n",
      "                                      'nome': 'Grupos taxonômicos, hábito ou '\n",
      "                                              'forma de vida'},\n",
      "                                     {'categoria': {'48243': 'Total'},\n",
      "                                      'id': '919',\n",
      "                                      'nome': 'Tipo de ambiente'},\n",
      "                                     {'categoria': {'48741': 'Total'},\n",
      "                                      'id': '971',\n",
      "                                      'nome': 'Biomas e Sistema '\n",
      "                                              'Costeiro-Marinho'}],\n",
      "                  'series': [{'localidade': {'id': '1',\n",
      "                                             'nivel': {'id': 'N1',\n",
      "                                                       'nome': 'Brasil'},\n",
      "                                             'nome': 'Brasil'},\n",
      "                              'serie': {'2022': '740'}}]},\n",
      "                 {'classificacoes': [{'categoria': {'48241': 'Menos '\n",
      "                                                             'preocupante'},\n",
      "                                      'id': '12920',\n",
      "                                      'nome': 'Categorias de risco'},\n",
      "                                     {'categoria': {'47952': 'Total'},\n",
      "                                      'id': '454',\n",
      "                                      'nome': 'Grupos taxonômicos, hábito ou '\n",
      "                                              'forma de vida'},\n",
      "                                     {'categoria': {'48243': 'Total'},\n",
      "                                      'id': '919',\n",
      "                                      'nome': 'Tipo de ambiente'},\n",
      "                                     {'categoria': {'48741': 'Total'},\n",
      "                                      'id': '971',\n",
      "                                      'nome': 'Biomas e Sistema '\n",
      "                                              'Costeiro-Marinho'}],\n",
      "                  'series': [{'localidade': {'id': '1',\n",
      "                                             'nivel': {'id': 'N1',\n",
      "                                                       'nome': 'Brasil'},\n",
      "                                             'nome': 'Brasil'},\n",
      "                              'serie': {'2022': '13890'}}]}],\n",
      "  'unidade': 'Unidades',\n",
      "  'variavel': 'Número de espécies da fauna e da flora brasileira avaliadas '\n",
      "              'quanto ao risco de extinção'}]\n"
     ]
    }
   ],
   "source": [
    "import requests\n",
    "\n",
    "link = 'https://servicodados.ibge.gov.br/api/v3/agregados/9625/periodos/2022/variaveis/10484?localidades=N1[all]&classificacao=12920[119363,119343,119344,119345,119346,119347,48240,48241]'\n",
    "\n",
    "requisição = requests.get(link)\n",
    "informações = requisição.json()\n",
    "import pprint\n",
    "pprint.pprint(informações)"
   ]
  }
 ],
 "metadata": {
  "kernelspec": {
   "display_name": ".venv",
   "language": "python",
   "name": "python3"
  },
  "language_info": {
   "codemirror_mode": {
    "name": "ipython",
    "version": 3
   },
   "file_extension": ".py",
   "mimetype": "text/x-python",
   "name": "python",
   "nbconvert_exporter": "python",
   "pygments_lexer": "ipython3",
   "version": "3.11.4"
  }
 },
 "nbformat": 4,
 "nbformat_minor": 2
}
