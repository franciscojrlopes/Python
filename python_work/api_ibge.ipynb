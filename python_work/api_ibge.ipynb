{
 "cells": [
  {
   "cell_type": "markdown",
   "metadata": {},
   "source": [
    "API IBGE links endpoints..............\n",
    "\n",
    "Query Builder\n"
   ]
  },
  {
   "cell_type": "code",
   "execution_count": 7,
   "metadata": {},
   "outputs": [
    {
     "name": "stdout",
     "output_type": "stream",
     "text": [
      "[{'id': '2586',\n",
      "  'resultados': [{'classificacoes': [{'categoria': {'0': 'Total'},\n",
      "                                      'id': '637',\n",
      "                                      'nome': 'Classificação de médio '\n",
      "                                              'produtor'},\n",
      "                                     {'categoria': {'116700': 'Total'},\n",
      "                                      'id': '12650',\n",
      "                                      'nome': 'Plantel de suínos'}],\n",
      "                  'series': [{'localidade': {'id': '1',\n",
      "                                             'nivel': {'id': 'N1',\n",
      "                                                       'nome': 'Brasil'},\n",
      "                                             'nome': 'Brasil'},\n",
      "                              'serie': {'2006': '1496422'}}]}],\n",
      "  'unidade': 'Unidades',\n",
      "  'variavel': 'Número de estabelecimentos agropecuários com suínos'}]\n"
     ]
    }
   ],
   "source": [
    "import requests\n",
    "\n",
    "link = 'https://servicodados.ibge.gov.br/api/v3/agregados/4112/periodos/2006/variaveis/2586?localidades=N1[all]'\n",
    "\n",
    "requisição = requests.get(link)\n",
    "import pprint\n",
    "pprint.pprint(requisição.json())"
   ]
  },
  {
   "cell_type": "code",
   "execution_count": 9,
   "metadata": {},
   "outputs": [
    {
     "name": "stdout",
     "output_type": "stream",
     "text": [
      "[{'id': '2586',\n",
      "  'resultados': [{'classificacoes': [{'categoria': {'0': 'Total'},\n",
      "                                      'id': '637',\n",
      "                                      'nome': 'Classificação de médio '\n",
      "                                              'produtor'},\n",
      "                                     {'categoria': {'116700': 'Total'},\n",
      "                                      'id': '12650',\n",
      "                                      'nome': 'Plantel de suínos'}],\n",
      "                  'series': [{'localidade': {'id': '1',\n",
      "                                             'nivel': {'id': 'N1',\n",
      "                                                       'nome': 'Brasil'},\n",
      "                                             'nome': 'Brasil'},\n",
      "                              'serie': {'2006': '1496422'}}]}],\n",
      "  'unidade': 'Unidades',\n",
      "  'variavel': 'Número de estabelecimentos agropecuários com suínos'}]\n"
     ]
    }
   ],
   "source": [
    "import requests\n",
    "\n",
    "link = 'https://servicodados.ibge.gov.br/api/v3/agregados/4112/periodos/2006/variaveis/2586?localidades=N1[all]'\n",
    "\n",
    "requisição = requests.get(link)\n",
    "informações = requisição.json()\n",
    "import pprint\n",
    "pprint.pprint(informações)"
   ]
  }
 ],
 "metadata": {
  "kernelspec": {
   "display_name": ".venv",
   "language": "python",
   "name": "python3"
  },
  "language_info": {
   "codemirror_mode": {
    "name": "ipython",
    "version": 3
   },
   "file_extension": ".py",
   "mimetype": "text/x-python",
   "name": "python",
   "nbconvert_exporter": "python",
   "pygments_lexer": "ipython3",
   "version": "3.11.4"
  }
 },
 "nbformat": 4,
 "nbformat_minor": 2
}
