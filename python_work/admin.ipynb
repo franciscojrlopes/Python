{
 "cells": [
  {
   "cell_type": "code",
   "execution_count": 2,
   "metadata": {},
   "outputs": [
    {
     "name": "stdout",
     "output_type": "stream",
     "text": [
      "Olá administrador, gostari de ver umm relatório de status?\n"
     ]
    }
   ],
   "source": [
    "usuários = ['admin', 'advd', 'math', 'enfe', 'mede']\n",
    "usuário = 'admin'\n",
    "if usuário in usuários:\n",
    "    print('Olá administrador, gostari de ver umm relatório de status?')"
   ]
  },
  {
   "cell_type": "code",
   "execution_count": 20,
   "metadata": {},
   "outputs": [
    {
     "name": "stdout",
     "output_type": "stream",
     "text": [
      "Olá Enfe, obrigado por fazer login novamente.\n"
     ]
    }
   ],
   "source": [
    "usuários = ['admin', 'advd', 'math', 'enfe', 'mede']\n",
    "usuário = 'enfe'\n",
    "if usuário == 'admin':\n",
    "    print('Olá administrador, gostaria de ver um relatório de status?')\n",
    "\n",
    "else:\n",
    "\n",
    "    print(f'Olá {usuário.title()}, obrigado por fazer login novamente.' )"
   ]
  },
  {
   "cell_type": "markdown",
   "metadata": {},
   "source": [
    "Lista Vazia:"
   ]
  },
  {
   "cell_type": "code",
   "execution_count": 25,
   "metadata": {},
   "outputs": [
    {
     "name": "stdout",
     "output_type": "stream",
     "text": [
      "Olá, é necessário encontar algum usuário.\n"
     ]
    }
   ],
   "source": [
    "lista = []\n",
    "if lista:\n",
    "    for listado in lista:\n",
    "        print('Bem vindo novamente!')\n",
    "else:\n",
    "\n",
    "    print('Olá, é necessário encontar algum usuário.' )"
   ]
  },
  {
   "cell_type": "code",
   "execution_count": 26,
   "metadata": {},
   "outputs": [
    {
     "name": "stdout",
     "output_type": "stream",
     "text": [
      "É necessário encontar alguns usuários!\n"
     ]
    }
   ],
   "source": [
    "usuários = []\n",
    "usuário = 'enfe'\n",
    "if usuário == 'admin':\n",
    "    print('Olá administrador, gostaria de ver um relatório de status?')\n",
    "if usuários == []:\n",
    "    print('É necessário encontar alguns usuários!')\n",
    "\n",
    "else:\n",
    "\n",
    "    print(f'Olá {usuário.title()}, obrigado por fazer login novamente.' )"
   ]
  },
  {
   "cell_type": "code",
   "execution_count": 27,
   "metadata": {},
   "outputs": [
    {
     "name": "stdout",
     "output_type": "stream",
     "text": [
      "Olá, é necessário encontar algum usuário.\n"
     ]
    }
   ],
   "source": [
    "lista = []\n",
    "if lista:\n",
    "    for listado in lista:\n",
    "        print('Bem vindo novamente!')\n",
    "else:\n",
    "\n",
    "    print('Olá, é necessário encontar algum usuário.' )"
   ]
  },
  {
   "cell_type": "code",
   "execution_count": 28,
   "metadata": {},
   "outputs": [
    {
     "name": "stdout",
     "output_type": "stream",
     "text": [
      "Bem vindo novamente!\n"
     ]
    }
   ],
   "source": [
    "lista = ['Maria']\n",
    "if lista:\n",
    "    for listado in lista:\n",
    "        print('Bem vindo novamente!')\n",
    "else:\n",
    "\n",
    "    print('Olá, é necessário encontar algum usuário.' )"
   ]
  },
  {
   "cell_type": "code",
   "execution_count": 1,
   "metadata": {},
   "outputs": [
    {
     "name": "stdout",
     "output_type": "stream",
     "text": [
      "Olá, é necessário encontar algum usuário.\n"
     ]
    }
   ],
   "source": [
    "lista = []\n",
    "if lista:\n",
    "    for listado in lista:\n",
    "        print('Bem vindo novamente!')\n",
    "else:\n",
    "\n",
    "    print('Olá, é necessário encontar algum usuário.' )"
   ]
  },
  {
   "cell_type": "code",
   "execution_count": 3,
   "metadata": {},
   "outputs": [
    {
     "name": "stdout",
     "output_type": "stream",
     "text": [
      "Bem vindo novamente!\n"
     ]
    }
   ],
   "source": [
    "lista = [1]\n",
    "if lista:\n",
    "    for listado in lista:\n",
    "        print('Bem vindo novamente!')\n",
    "else:\n",
    "\n",
    "    print('Olá, é necessário encontar algum usuário.' )"
   ]
  },
  {
   "cell_type": "code",
   "execution_count": null,
   "metadata": {},
   "outputs": [],
   "source": []
  }
 ],
 "metadata": {
  "kernelspec": {
   "display_name": ".venv",
   "language": "python",
   "name": "python3"
  },
  "language_info": {
   "codemirror_mode": {
    "name": "ipython",
    "version": 3
   },
   "file_extension": ".py",
   "mimetype": "text/x-python",
   "name": "python",
   "nbconvert_exporter": "python",
   "pygments_lexer": "ipython3",
   "version": "3.11.4"
  }
 },
 "nbformat": 4,
 "nbformat_minor": 2
}
