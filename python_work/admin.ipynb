{
 "cells": [
  {
   "cell_type": "code",
   "execution_count": 2,
   "metadata": {},
   "outputs": [
    {
     "name": "stdout",
     "output_type": "stream",
     "text": [
      "Olá administrador, gostari de ver umm relatório de status?\n"
     ]
    }
   ],
   "source": [
    "usuários = ['admin', 'advd', 'math', 'enfe', 'mede']\n",
    "usuário = 'admin'\n",
    "if usuário in usuários:\n",
    "    print('Olá administrador, gostari de ver umm relatório de status?')"
   ]
  },
  {
   "cell_type": "code",
   "execution_count": 13,
   "metadata": {},
   "outputs": [
    {
     "name": "stdout",
     "output_type": "stream",
     "text": [
      "Olá Math, obrigado por fazer login novamente.\n"
     ]
    }
   ],
   "source": [
    "usuários = ['admin', 'advd', 'math', 'enfe', 'mede']\n",
    "usuário = 'math'\n",
    "if usuário == 'admin':\n",
    "    print('Olá administrador, gostaria de ver um relatório de status?')\n",
    "\n",
    "else:\n",
    "\n",
    "    print(f'Olá {usuário.title()}, obrigado por fazer login novamente.' )"
   ]
  }
 ],
 "metadata": {
  "kernelspec": {
   "display_name": ".venv",
   "language": "python",
   "name": "python3"
  },
  "language_info": {
   "codemirror_mode": {
    "name": "ipython",
    "version": 3
   },
   "file_extension": ".py",
   "mimetype": "text/x-python",
   "name": "python",
   "nbconvert_exporter": "python",
   "pygments_lexer": "ipython3",
   "version": "3.11.4"
  }
 },
 "nbformat": 4,
 "nbformat_minor": 2
}
