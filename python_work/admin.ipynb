{
 "cells": [
  {
   "cell_type": "code",
   "execution_count": 2,
   "metadata": {},
   "outputs": [
    {
     "name": "stdout",
     "output_type": "stream",
     "text": [
      "Olá administrador, gostari de ver umm relatório de status?\n"
     ]
    }
   ],
   "source": [
    "usuários = ['admin', 'advd', 'math', 'enfe', 'mede']\n",
    "usuário = 'admin'\n",
    "if usuário in usuários:\n",
    "    print('Olá administrador, gostari de ver umm relatório de status?')"
   ]
  },
  {
   "cell_type": "code",
   "execution_count": 6,
   "metadata": {},
   "outputs": [
    {
     "name": "stdout",
     "output_type": "stream",
     "text": [
      "Olá administrador, gostaria de ver um relatório de status?\n"
     ]
    }
   ],
   "source": [
    "usuários = ['admin', 'advd', 'math', 'enfe', 'mede']\n",
    "usuário = 'admin'\n",
    "if usuário in usuários:\n",
    "    print('Olá administrador, gostaria de ver um relatório de status?')\n",
    "\n",
    "else:\n",
    "\n",
    "    print(f'Olá {usuário}, obrigado por fazer login novamnete.' )"
   ]
  }
 ],
 "metadata": {
  "kernelspec": {
   "display_name": ".venv",
   "language": "python",
   "name": "python3"
  },
  "language_info": {
   "codemirror_mode": {
    "name": "ipython",
    "version": 3
   },
   "file_extension": ".py",
   "mimetype": "text/x-python",
   "name": "python",
   "nbconvert_exporter": "python",
   "pygments_lexer": "ipython3",
   "version": "3.11.4"
  }
 },
 "nbformat": 4,
 "nbformat_minor": 2
}
