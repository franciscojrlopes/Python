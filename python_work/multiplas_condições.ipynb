{
 "cells": [
  {
   "cell_type": "code",
   "execution_count": 9,
   "metadata": {},
   "outputs": [
    {
     "name": "stdout",
     "output_type": "stream",
     "text": [
      "Adicione cogumelos.\n",
      "Adicione queijo extra.\n",
      "\n",
      "Finalizado, fazendo sua Pizza!\n"
     ]
    }
   ],
   "source": [
    "solicitando_coberturas = ['cogumelos', 'queijo extra']\n",
    "if 'cogumelos' in solicitando_coberturas:\n",
    "    print('Adicione cogumelos.')\n",
    "if 'peperoni' in solicitando_coberturas:\n",
    "    print('Adicione peperoni.')\n",
    "if 'queijo extra' in solicitando_coberturas:\n",
    "    print('Adicione queijo extra.')\n",
    "\n",
    "print('\\nFinalizado, fazendo sua Pizza!')\n"
   ]
  },
  {
   "cell_type": "code",
   "execution_count": 8,
   "metadata": {},
   "outputs": [
    {
     "name": "stdout",
     "output_type": "stream",
     "text": [
      "\n",
      "Finalizado, fazendo sua Pizza!\n"
     ]
    }
   ],
   "source": [
    "solicitando_coberturas = ['cogumelos', 'queijo extra']\n",
    "# if 'cogumelos' in solicitando_coberturas:\n",
    "#     print('Adicione cogumelos.')\n",
    "if 'peperoni' in solicitando_coberturas:\n",
    "    print('Adicione peperoni.')\n",
    "# if 'queijo extra' in solicitando_coberturas:\n",
    "#     print('Adicione queijo extra.')\n",
    "\n",
    "print('\\nFinalizado, fazendo sua Pizza!')\n"
   ]
  },
  {
   "cell_type": "code",
   "execution_count": 7,
   "metadata": {},
   "outputs": [
    {
     "name": "stdout",
     "output_type": "stream",
     "text": [
      "Adicione cogumelos.\n",
      "\n",
      "Finalizado, fazendo sua Pizza!\n"
     ]
    }
   ],
   "source": [
    "solicitando_coberturas = ['cogumelos', 'queijo extra']\n",
    "if 'cogumelos' in solicitando_coberturas:\n",
    "    print('Adicione cogumelos.')\n",
    "elif 'peperoni' in solicitando_coberturas:\n",
    "    print('Adicione peperoni.')\n",
    "elif 'queijo extra' in solicitando_coberturas:\n",
    "    print('Adicione queijo extra.')\n",
    "\n",
    "print('\\nFinalizado, fazendo sua Pizza!')"
   ]
  }
 ],
 "metadata": {
  "kernelspec": {
   "display_name": ".venv",
   "language": "python",
   "name": "python3"
  },
  "language_info": {
   "codemirror_mode": {
    "name": "ipython",
    "version": 3
   },
   "file_extension": ".py",
   "mimetype": "text/x-python",
   "name": "python",
   "nbconvert_exporter": "python",
   "pygments_lexer": "ipython3",
   "version": "3.11.4"
  }
 },
 "nbformat": 4,
 "nbformat_minor": 2
}
