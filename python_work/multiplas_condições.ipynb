{
 "cells": [
  {
   "cell_type": "code",
   "execution_count": 2,
   "metadata": {},
   "outputs": [
    {
     "name": "stdout",
     "output_type": "stream",
     "text": [
      "Adicione cogumelos.\n",
      "adicione queijo extra.\n",
      "\n",
      "Finalizando, fazendo sua Pizza!\n"
     ]
    }
   ],
   "source": [
    "solicitando_coberturas = ['cogumelos', 'queijo extra']\n",
    "if 'cogumelos' in solicitando_coberturas:\n",
    "    print('Adicione cogumelos.')\n",
    "if 'peperoni' in solicitando_coberturas:\n",
    "    print('Adicione peperoni.')\n",
    "if 'queijo extra' in solicitando_coberturas:\n",
    "    print('adicione queijo extra.')\n",
    "\n",
    "print('\\nFinalizando, fazendo sua Pizza!')\n"
   ]
  },
  {
   "cell_type": "code",
   "execution_count": 4,
   "metadata": {},
   "outputs": [
    {
     "name": "stdout",
     "output_type": "stream",
     "text": [
      "\n",
      "Finalizando, fazendo sua Pizza!\n"
     ]
    }
   ],
   "source": [
    "solicitando_coberturas = ['cogumelos', 'queijo extra']\n",
    "# if 'cogumelos' in solicitando_coberturas:\n",
    "#     print('Adicione cogumelos.')\n",
    "if 'peperoni' in solicitando_coberturas:\n",
    "    print('Adicione peperoni.')\n",
    "# if 'queijo extra' in solicitando_coberturas:\n",
    "#     print('Adicione queijo extra.')\n",
    "\n",
    "print('\\nFinalizando, fazendo sua Pizza!')\n"
   ]
  }
 ],
 "metadata": {
  "kernelspec": {
   "display_name": ".venv",
   "language": "python",
   "name": "python3"
  },
  "language_info": {
   "codemirror_mode": {
    "name": "ipython",
    "version": 3
   },
   "file_extension": ".py",
   "mimetype": "text/x-python",
   "name": "python",
   "nbconvert_exporter": "python",
   "pygments_lexer": "ipython3",
   "version": "3.11.4"
  }
 },
 "nbformat": 4,
 "nbformat_minor": 2
}
