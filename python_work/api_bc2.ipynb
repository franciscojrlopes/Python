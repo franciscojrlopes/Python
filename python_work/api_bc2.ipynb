{
 "cells": [
  {
   "cell_type": "code",
   "execution_count": null,
   "metadata": {},
   "outputs": [],
   "source": [
    "# Pegar todas as informações com todas requisições:\n",
    "\n",
    "import requests\n",
    "import pandas as pd\n",
    "\n",
    "tabela_final = pd.DataFrame()\n",
    "pular_indice = 0\n",
    "\n",
    "while True:\n",
    "    link = f'https://olinda.bcb.gov.br/olinda/servico/mecir_dinheiro_em_circulacao/versao/v1/odata/informacoes_diarias?$top=10000&$skip={pular_indice}&$orderby=Data%20desc&$format=json'\n",
    "    requisicao = requests.get(link)\n",
    "    informacoes = requisicao.json()\n",
    "    tabela = pd.DataFrame(informacoes[\"value\"])\n",
    "    if len(informacoes['value']) < 1:\n",
    "\n",
    "        break\n",
    "\n",
    "tabela_final = pd.concat([tabela_final, tabela])\n",
    "pular_indice += 10000\n",
    "    \n",
    "display(tabela_final)"
   ]
  }
 ],
 "metadata": {
  "kernelspec": {
   "display_name": "Python 3",
   "language": "python",
   "name": "python3"
  },
  "language_info": {
   "codemirror_mode": {
    "name": "ipython",
    "version": 3
   },
   "file_extension": ".py",
   "mimetype": "text/x-python",
   "name": "python",
   "nbconvert_exporter": "python",
   "pygments_lexer": "ipython3",
   "version": "3.11.4"
  }
 },
 "nbformat": 4,
 "nbformat_minor": 2
}
