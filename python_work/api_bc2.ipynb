{
 "cells": [
  {
   "cell_type": "code",
   "execution_count": 1,
   "metadata": {},
   "outputs": [
    {
     "name": "stderr",
     "output_type": "stream",
     "text": [
      "C:\\Users\\fraro\\AppData\\Local\\Temp\\ipykernel_27324\\3986112156.py:4: DeprecationWarning: \n",
      "Pyarrow will become a required dependency of pandas in the next major release of pandas (pandas 3.0),\n",
      "(to allow more performant data types, such as the Arrow string type, and better interoperability with other libraries)\n",
      "but was not found to be installed on your system.\n",
      "If this would cause problems for you,\n",
      "please provide us feedback at https://github.com/pandas-dev/pandas/issues/54466\n",
      "        \n",
      "  import pandas as pd\n"
     ]
    }
   ],
   "source": [
    "# Pegar todas as informações com todas requisições:\n",
    "\n",
    "import requests\n",
    "import pandas as pd\n",
    "\n",
    "tabela_final = pd.DataFrame()\n",
    "pular_indice = 0\n",
    "\n",
    "while True:\n",
    "    link = f'https://olinda.bcb.gov.br/olinda/servico/mecir_dinheiro_em_circulacao/versao/v1/odata/informacoes_diarias?$top=10000&$skip={pular_indice}&$orderby=Data%20desc&$format=json'\n",
    "    requisicao = requests.get(link)\n",
    "    informacoes = requisicao.json()\n",
    "    tabela = pd.DataFrame(informacoes[\"value\"])\n",
    "    if len(informacoes['value']) < 1:\n",
    "\n",
    "        break\n",
    "\n",
    "tabela_final = pd.concat([tabela_final, tabela])\n",
    "pular_indice += 10000\n",
    "    \n",
    "display(tabela_final)"
   ]
  }
 ],
 "metadata": {
  "kernelspec": {
   "display_name": ".venv",
   "language": "python",
   "name": "python3"
  },
  "language_info": {
   "codemirror_mode": {
    "name": "ipython",
    "version": 3
   },
   "file_extension": ".py",
   "mimetype": "text/x-python",
   "name": "python",
   "nbconvert_exporter": "python",
   "pygments_lexer": "ipython3",
   "version": "3.11.4"
  }
 },
 "nbformat": 4,
 "nbformat_minor": 2
}
