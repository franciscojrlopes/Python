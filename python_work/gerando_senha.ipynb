{
 "cells": [
  {
   "cell_type": "code",
   "execution_count": 1,
   "metadata": {},
   "outputs": [
    {
     "ename": "NameError",
     "evalue": "name 'escolhas' is not defined",
     "output_type": "error",
     "traceback": [
      "\u001b[1;31m---------------------------------------------------------------------------\u001b[0m",
      "\u001b[1;31mNameError\u001b[0m                                 Traceback (most recent call last)",
      "Cell \u001b[1;32mIn[1], line 8\u001b[0m\n\u001b[0;32m      4\u001b[0m random\u001b[38;5;241m.\u001b[39mchoice(string\u001b[38;5;241m.\u001b[39mdigits)\n\u001b[0;32m      6\u001b[0m random\u001b[38;5;241m.\u001b[39mchoices(string\u001b[38;5;241m.\u001b[39mdigits, k\u001b[38;5;241m=\u001b[39m\u001b[38;5;241m6\u001b[39m)\n\u001b[1;32m----> 8\u001b[0m random\u001b[38;5;241m.\u001b[39mshuffle(\u001b[43mescolhas\u001b[49m)\n\u001b[0;32m      9\u001b[0m \u001b[38;5;28mprint\u001b[39m(escolhas)\n",
      "\u001b[1;31mNameError\u001b[0m: name 'escolhas' is not defined"
     ]
    }
   ],
   "source": [
    "import string\n",
    "import random\n",
    "\n",
    "random.choice(string.digits)\n",
    "random.choices(string.digits, k=6)\n",
    "\n",
    "random.shuffle(escolhas)\n",
    "print(escolhas)"
   ]
  }
 ],
 "metadata": {
  "kernelspec": {
   "display_name": ".venv",
   "language": "python",
   "name": "python3"
  },
  "language_info": {
   "codemirror_mode": {
    "name": "ipython",
    "version": 3
   },
   "file_extension": ".py",
   "mimetype": "text/x-python",
   "name": "python",
   "nbconvert_exporter": "python",
   "pygments_lexer": "ipython3",
   "version": "3.11.4"
  }
 },
 "nbformat": 4,
 "nbformat_minor": 2
}
