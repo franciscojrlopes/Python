{
 "cells": [
  {
   "cell_type": "code",
   "execution_count": 2,
   "metadata": {},
   "outputs": [
    {
     "name": "stdout",
     "output_type": "stream",
     "text": [
      "[]\n"
     ]
    }
   ],
   "source": [
    "import string\n",
    "import random\n",
    "escolhas = []\n",
    "random.choice(string.digits)\n",
    "random.choices(string.digits, k=6)\n",
    "\n",
    "random.shuffle(escolhas)\n",
    "print(escolhas)"
   ]
  },
  {
   "cell_type": "code",
   "execution_count": 3,
   "metadata": {},
   "outputs": [
    {
     "name": "stdout",
     "output_type": "stream",
     "text": [
      "None\n"
     ]
    }
   ],
   "source": [
    "def gerar_senha(tamanho):\n",
    "    pass\n",
    "tamanho = input('Digite o comprimento da senha: ')\n",
    "print(gerar_senha(tamanho))\n"
   ]
  },
  {
   "cell_type": "code",
   "execution_count": 4,
   "metadata": {},
   "outputs": [
    {
     "name": "stdout",
     "output_type": "stream",
     "text": [
      "abcdefghijklmnopqrstuvwxyzABCDEFGHIJKLMNOPQRSTUVWXYZ0123456789!\"#$%&'()*+,-./:;<=>?@[\\]^_`{|}~\n"
     ]
    }
   ],
   "source": [
    "possibilidades = ''.join([string.ascii_letters, string.digits, string.punctuation])\n",
    "print(possibilidades)"
   ]
  },
  {
   "cell_type": "code",
   "execution_count": 5,
   "metadata": {},
   "outputs": [
    {
     "name": "stdout",
     "output_type": "stream",
     "text": [
      "['n', 'M', 'p']\n"
     ]
    }
   ],
   "source": [
    "\n",
    "temporario = random.choices(possibilidades, k=3)\n",
    "print(temporario)"
   ]
  },
  {
   "cell_type": "code",
   "execution_count": 6,
   "metadata": {},
   "outputs": [
    {
     "name": "stdout",
     "output_type": "stream",
     "text": [
      "['n', 'M', 'p', 'a']\n"
     ]
    }
   ],
   "source": [
    "temporario.append('a')\n",
    "print(temporario)"
   ]
  },
  {
   "cell_type": "code",
   "execution_count": 7,
   "metadata": {},
   "outputs": [
    {
     "name": "stdout",
     "output_type": "stream",
     "text": [
      "['n', 'M', 'p', 'a', 'c', 'd']\n"
     ]
    }
   ],
   "source": [
    "temporario.extend(['c', 'd'])\n",
    "print(temporario)"
   ]
  },
  {
   "cell_type": "code",
   "execution_count": 8,
   "metadata": {},
   "outputs": [
    {
     "name": "stdout",
     "output_type": "stream",
     "text": [
      "abcdefghijklmnopqrstuvwxyzABCDEFGHIJKLMNOPQRSTUVWXYZ0123456789!\"#$%&'()*+,-./:;<=>?@[\\]^_`{|}~\n"
     ]
    }
   ],
   "source": [
    "possibilidades = ''.join([string.ascii_letters, string.digits, string.punctuation])\n",
    "print(possibilidades)"
   ]
  },
  {
   "cell_type": "code",
   "execution_count": 15,
   "metadata": {},
   "outputs": [],
   "source": [
    "\n",
    "def gerar_senha(tamanho):\n",
    "    if tamanho < 4:\n",
    "        print(\"O tamanho da senha deve ser de pelo menos 4\")\n",
    "    \n",
    "    else: \n",
    "        senha = [\n",
    "            random.choice(string.ascii_letters),\n",
    "            random.choice(string.digits),\n",
    "            random.choice(string.punctuation)\n",
    "        ]\n",
    "\n",
    "\n",
    "        "
   ]
  },
  {
   "cell_type": "code",
   "execution_count": 17,
   "metadata": {},
   "outputs": [
    {
     "ename": "NameError",
     "evalue": "name 'senha' is not defined",
     "output_type": "error",
     "traceback": [
      "\u001b[1;31m---------------------------------------------------------------------------\u001b[0m",
      "\u001b[1;31mNameError\u001b[0m                                 Traceback (most recent call last)",
      "Cell \u001b[1;32mIn[17], line 2\u001b[0m\n\u001b[0;32m      1\u001b[0m possibilidades \u001b[38;5;241m=\u001b[39m \u001b[38;5;124m'\u001b[39m\u001b[38;5;124m'\u001b[39m\u001b[38;5;241m.\u001b[39mjoin([string\u001b[38;5;241m.\u001b[39mascii_letters, string\u001b[38;5;241m.\u001b[39mdigits, string\u001b[38;5;241m.\u001b[39mpunctuation])\n\u001b[1;32m----> 2\u001b[0m \u001b[43msenha\u001b[49m\u001b[38;5;241m.\u001b[39mextend(random\u001b[38;5;241m.\u001b[39mchoices(possibilidades, k\u001b[38;5;241m=\u001b[39mtamanho\u001b[38;5;241m-\u001b[39m\u001b[38;5;241m3\u001b[39m))\n\u001b[0;32m      4\u001b[0m random\u001b[38;5;241m.\u001b[39mshuffle(senha)\n\u001b[0;32m      6\u001b[0m \u001b[38;5;28;01mreturn\u001b[39;00m \u001b[38;5;124m'\u001b[39m\u001b[38;5;124m'\u001b[39m\u001b[38;5;241m.\u001b[39mjoin(senha)\n",
      "\u001b[1;31mNameError\u001b[0m: name 'senha' is not defined"
     ]
    }
   ],
   "source": [
    "possibilidades = ''.join([string.ascii_letters, string.digits, string.punctuation])\n",
    "senha.extend(random.choices(possibilidades, k=tamanho-3))\n",
    "\n",
    "random.shuffle(senha)\n",
    "\n",
    "return ''.join(senha)\n",
    "\n",
    "\n",
    "tamanho = int(input(\"Digite o comprimento da senha: \"))\n",
    "print(gerar_senha(tamanho))"
   ]
  },
  {
   "cell_type": "code",
   "execution_count": 18,
   "metadata": {},
   "outputs": [
    {
     "name": "stdout",
     "output_type": "stream",
     "text": [
      "\\'0?lE\n"
     ]
    }
   ],
   "source": [
    "def gerar_senha(tamanho):\n",
    "    if tamanho < 4:\n",
    "        print('O tamanho da senha deve ser de pelo menos 4 caracteres')\n",
    "\n",
    "    else:\n",
    "        senha =[ random.choice(string.ascii_letters),\n",
    "                 random.choice(string.digits),\n",
    "                 random.choice(string.punctuation),  \n",
    "                \n",
    "                ]\n",
    "        possibilidades =''.join([string.ascii_letters, string.digits, string.punctuation])\n",
    "        senha.extend(random.choices(possibilidades, k=tamanho-3))\n",
    "        random.shuffle(senha)\n",
    "        return ''.join(senha)\n",
    "     \n",
    "    \n",
    "tamanho = int(input('Digite o comprimento da senha: '))\n",
    "print(gerar_senha(tamanho))\n",
    "\n"
   ]
  }
 ],
 "metadata": {
  "kernelspec": {
   "display_name": ".venv",
   "language": "python",
   "name": "python3"
  },
  "language_info": {
   "codemirror_mode": {
    "name": "ipython",
    "version": 3
   },
   "file_extension": ".py",
   "mimetype": "text/x-python",
   "name": "python",
   "nbconvert_exporter": "python",
   "pygments_lexer": "ipython3",
   "version": "3.11.4"
  }
 },
 "nbformat": 4,
 "nbformat_minor": 2
}
