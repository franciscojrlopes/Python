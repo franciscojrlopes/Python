{
 "cells": [
  {
   "cell_type": "code",
   "execution_count": 11,
   "metadata": {},
   "outputs": [
    {
     "name": "stdout",
     "output_type": "stream",
     "text": [
      "Audi\n",
      "BMW\n",
      "Subaru\n",
      "Toyota\n"
     ]
    }
   ],
   "source": [
    "carros = ['audi', 'bmw', 'subaru', 'toyota']\n",
    "for carro in carros:\n",
    "    if carro == 'bmw':\n",
    "        print(carro.upper())\n",
    "    else:\n",
    "        print(carro.title())"
   ]
  },
  {
   "cell_type": "code",
   "execution_count": 1,
   "metadata": {},
   "outputs": [
    {
     "name": "stdout",
     "output_type": "stream",
     "text": [
      "Audi\n",
      "Bmw\n",
      "SUBARU\n",
      "Toyota\n"
     ]
    }
   ],
   "source": [
    "carros = ['audi', 'bmw', 'subaru', 'toyota']\n",
    "for carro in carros:\n",
    "    if carro == 'subaru':\n",
    "        print(carro.upper())\n",
    "    else:\n",
    "        print(carro.title())"
   ]
  },
  {
   "cell_type": "code",
   "execution_count": 1,
   "metadata": {},
   "outputs": [
    {
     "name": "stdout",
     "output_type": "stream",
     "text": [
      "AUDI\n",
      "Bmw\n",
      "Subaru\n",
      "Toyota\n"
     ]
    }
   ],
   "source": [
    "carros = ['audi', 'bmw', 'subaru', 'toyota']\n",
    "for carro in carros:\n",
    "    if carro == 'audi':\n",
    "        print(carro.upper())\n",
    "    else:\n",
    "        print(carro.title())"
   ]
  },
  {
   "cell_type": "code",
   "execution_count": 1,
   "metadata": {},
   "outputs": [
    {
     "name": "stdout",
     "output_type": "stream",
     "text": [
      "Audi\n",
      "Bmw\n",
      "Subaru\n",
      "TOYOTA\n"
     ]
    }
   ],
   "source": [
    "carros = ['audi', 'bmw', 'subaru', 'toyota']\n",
    "for carro in carros:\n",
    "    if carro == 'toyota':\n",
    "        print(carro.upper())\n",
    "    else:\n",
    "        print(carro.title())"
   ]
  },
  {
   "cell_type": "code",
   "execution_count": 2,
   "metadata": {},
   "outputs": [
    {
     "name": "stdout",
     "output_type": "stream",
     "text": [
      "audi\n",
      "Bmw\n",
      "Subaru\n",
      "Toyota\n"
     ]
    }
   ],
   "source": [
    "carros = ['AUDI', 'BMW', 'SUBARU', 'TOYOTA']\n",
    "for carro in carros:\n",
    "    if carro == 'AUDI':\n",
    "        print(carro.lower())\n",
    "    else:\n",
    "        print(carro.title())"
   ]
  },
  {
   "cell_type": "code",
   "execution_count": null,
   "metadata": {},
   "outputs": [],
   "source": [
    "carros = ['AUDI', 'BMW', 'SUBARU', 'TOYOTA']\n",
    "for carro in carros:\n",
    "    if carro == 'AUDI':\n",
    "        print(carro.lower())\n",
    "    else:\n",
    "        print(carro.title())"
   ]
  }
 ],
 "metadata": {
  "kernelspec": {
   "display_name": ".venv",
   "language": "python",
   "name": "python3"
  },
  "language_info": {
   "codemirror_mode": {
    "name": "ipython",
    "version": 3
   },
   "file_extension": ".py",
   "mimetype": "text/x-python",
   "name": "python",
   "nbconvert_exporter": "python",
   "pygments_lexer": "ipython3",
   "version": "3.11.4"
  }
 },
 "nbformat": 4,
 "nbformat_minor": 2
}
