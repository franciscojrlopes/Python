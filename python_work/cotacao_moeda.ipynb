{
 "cells": [
  {
   "cell_type": "code",
   "execution_count": 1,
   "metadata": {},
   "outputs": [
    {
     "name": "stdout",
     "output_type": "stream",
     "text": [
      "{'USD': {'code': 'USD', 'codein': 'BRL', 'name': 'Dólar Americano/Real Brasileiro', 'high': '4.9605', 'low': '4.9569', 'varBid': '0.0041', 'pctChange': '0.08', 'bid': '4.9599', 'ask': '4.9612', 'timestamp': '1708429860', 'create_date': '2024-02-20 08:51:00'}, 'USDT': {'code': 'USD', 'codein': 'BRLT', 'name': 'Dólar Americano/Real Brasileiro Turismo', 'high': '4.99', 'low': '4.955', 'varBid': '-0.035', 'pctChange': '-0.7', 'bid': '4.82', 'ask': '5.09', 'timestamp': '1708371060', 'create_date': '2024-02-19 16:31:00'}, 'CAD': {'code': 'CAD', 'codein': 'BRL', 'name': 'Dólar Canadense/Real Brasileiro', 'high': '3.6802', 'low': '3.6693', 'varBid': '0.0003', 'pctChange': '0.01', 'bid': '3.6754', 'ask': '3.6809', 'timestamp': '1708429809', 'create_date': '2024-02-20 08:50:09'}, 'GBP': {'code': 'GBP', 'codein': 'BRL', 'name': 'Libra Esterlina/Real Brasileiro', 'high': '6.2539', 'low': '6.2379', 'varBid': '0.0009', 'pctChange': '0.01', 'bid': '6.2383', 'ask': '6.2539', 'timestamp': '1708429837', 'create_date': '2024-02-20 08:50:37'}, 'ARS': {'code': 'ARS', 'codein': 'BRL', 'name': 'Peso Argentino/Real Brasileiro', 'high': '0.0059', 'low': '0.0059', 'varBid': '0', 'pctChange': '0', 'bid': '0.0059', 'ask': '0.0059', 'timestamp': '1708429843', 'create_date': '2024-02-20 08:50:43'}, 'BTC': {'code': 'BTC', 'codein': 'BRL', 'name': 'Bitcoin/Real Brasileiro', 'high': '263100', 'low': '257835', 'varBid': '-91', 'pctChange': '-0.03', 'bid': '262378', 'ask': '262582', 'timestamp': '1708429558', 'create_date': '2024-02-20 08:45:58'}, 'LTC': {'code': 'LTC', 'codein': 'BRL', 'name': 'Litecoin/Real Brasileiro', 'high': '359', 'low': '349.53', 'varBid': '-3.61', 'pctChange': '-1.01', 'bid': '353', 'ask': '353.21', 'timestamp': '1708429560', 'create_date': '2024-02-20 08:46:00'}, 'EUR': {'code': 'EUR', 'codein': 'BRL', 'name': 'Euro/Real Brasileiro', 'high': '5.3596', 'low': '5.3379', 'varBid': '0.0107', 'pctChange': '0.2', 'bid': '5.3545', 'ask': '5.3625', 'timestamp': '1708429845', 'create_date': '2024-02-20 08:50:45'}, 'JPY': {'code': 'JPY', 'codein': 'BRL', 'name': 'Iene Japonês/Real Brasileiro', 'high': '0.03308', 'low': '0.03296', 'varBid': '0', 'pctChange': '0', 'bid': '0.033', 'ask': '0.03305', 'timestamp': '1708429843', 'create_date': '2024-02-20 08:50:43'}, 'CHF': {'code': 'CHF', 'codein': 'BRL', 'name': 'Franco Suíço/Real Brasileiro', 'high': '5.6299', 'low': '5.6101', 'varBid': '0.0049', 'pctChange': '0.09', 'bid': '5.6223', 'ask': '5.6307', 'timestamp': '1708429839', 'create_date': '2024-02-20 08:50:39'}, 'AUD': {'code': 'AUD', 'codein': 'BRL', 'name': 'Dólar Australiano/Real Brasileiro', 'high': '3.2538', 'low': '3.2384', 'varBid': '0.0084', 'pctChange': '0.26', 'bid': '3.2502', 'ask': '3.2551', 'timestamp': '1708429843', 'create_date': '2024-02-20 08:50:43'}, 'CNY': {'code': 'CNY', 'codein': 'BRL', 'name': 'Yuan Chinês/Real Brasileiro', 'high': '0.6896', 'low': '0.6886', 'varBid': '-0.0007', 'pctChange': '-0.1', 'bid': '0.6894', 'ask': '0.6896', 'timestamp': '1708428001', 'create_date': '2024-02-20 08:20:01'}, 'ILS': {'code': 'ILS', 'codein': 'BRL', 'name': 'Novo Shekel Israelense/Real Brasileiro', 'high': '1.3642', 'low': '1.3549', 'varBid': '-0.0133', 'pctChange': '-0.97', 'bid': '1.3563', 'ask': '1.3567', 'timestamp': '1708429865', 'create_date': '2024-02-20 08:51:05'}, 'ETH': {'code': 'ETH', 'codein': 'BRL', 'name': 'Ethereum/Real Brasileiro', 'high': '14959', 'low': '14417.68', 'varBid': '107.4', 'pctChange': '0.73', 'bid': '14682.89', 'ask': '14725.22', 'timestamp': '1708429874', 'create_date': '2024-02-20 08:51:14'}, 'XRP': {'code': 'XRP', 'codein': 'BRL', 'name': 'XRP/Real Brasileiro', 'high': '2.87', 'low': '2.78', 'varBid': '0.04', 'pctChange': '1.6', 'bid': '2.85', 'ask': '2.86', 'timestamp': '1708429554', 'create_date': '2024-02-20 08:45:54'}, 'DOGE': {'code': 'DOGE', 'codein': 'BRL', 'name': 'Dogecoin/Real Brasileiro', 'high': '0.44968', 'low': '0.42485', 'varBid': '0.00165', 'pctChange': '0.38', 'bid': '0.43298', 'ask': '0.43298', 'timestamp': '1708429498', 'create_date': '2024-02-20 08:44:58'}}\n"
     ]
    }
   ],
   "source": [
    "import requests\n",
    "import json\n",
    "\n",
    "cotacoes = requests.get('https://economia.awesomeapi.com.br/json/all')\n",
    "cotacoes_dic = cotacoes.json()\n",
    "print(cotacoes_dic)"
   ]
  },
  {
   "cell_type": "code",
   "execution_count": 6,
   "metadata": {},
   "outputs": [
    {
     "name": "stdout",
     "output_type": "stream",
     "text": [
      "Dólar: 4.9599\n",
      "Euro: 5.3545\n",
      "Bitcoin: 262378\n"
     ]
    }
   ],
   "source": [
    "print('Dólar: {}'.format(cotacoes_dic['USD']['bid']))\n",
    "print('Euro: {}'.format(cotacoes_dic['EUR'] ['bid']))\n",
    "print('Bitcoin: {}'.format(cotacoes_dic['BTC'] ['bid']))"
   ]
  }
 ],
 "metadata": {
  "kernelspec": {
   "display_name": ".venv",
   "language": "python",
   "name": "python3"
  },
  "language_info": {
   "codemirror_mode": {
    "name": "ipython",
    "version": 3
   },
   "file_extension": ".py",
   "mimetype": "text/x-python",
   "name": "python",
   "nbconvert_exporter": "python",
   "pygments_lexer": "ipython3",
   "version": "3.11.4"
  }
 },
 "nbformat": 4,
 "nbformat_minor": 2
}
