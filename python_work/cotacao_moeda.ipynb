{
 "cells": [
  {
   "cell_type": "code",
   "execution_count": 7,
   "metadata": {},
   "outputs": [
    {
     "name": "stdout",
     "output_type": "stream",
     "text": [
      "{'USD': {'code': 'USD', 'codein': 'BRL', 'name': 'Dólar Americano/Real Brasileiro', 'high': '4.9649', 'low': '4.9472', 'varBid': '-0.008', 'pctChange': '-0.16', 'bid': '4.9474', 'ask': '4.9494', 'timestamp': '1708434880', 'create_date': '2024-02-20 10:14:40'}, 'USDT': {'code': 'USD', 'codein': 'BRLT', 'name': 'Dólar Americano/Real Brasileiro Turismo', 'high': '4.99', 'low': '4.955', 'varBid': '0.025', 'pctChange': '0.5', 'bid': '4.83', 'ask': '5.13', 'timestamp': '1708434060', 'create_date': '2024-02-20 10:01:00'}, 'CAD': {'code': 'CAD', 'codein': 'BRL', 'name': 'Dólar Canadense/Real Brasileiro', 'high': '3.6816', 'low': '3.6693', 'varBid': '-0.0074', 'pctChange': '-0.2', 'bid': '3.6676', 'ask': '3.6731', 'timestamp': '1708434871', 'create_date': '2024-02-20 10:14:31'}, 'GBP': {'code': 'GBP', 'codein': 'BRL', 'name': 'Libra Esterlina/Real Brasileiro', 'high': '6.2539', 'low': '6.2379', 'varBid': '-0.0027', 'pctChange': '-0.04', 'bid': '6.2406', 'ask': '6.2444', 'timestamp': '1708434874', 'create_date': '2024-02-20 10:14:34'}, 'ARS': {'code': 'ARS', 'codein': 'BRL', 'name': 'Peso Argentino/Real Brasileiro', 'high': '0.0059', 'low': '0.0059', 'varBid': '0', 'pctChange': '0', 'bid': '0.0059', 'ask': '0.0059', 'timestamp': '1708434886', 'create_date': '2024-02-20 10:14:46'}, 'BTC': {'code': 'BTC', 'codein': 'BRL', 'name': 'Bitcoin/Real Brasileiro', 'high': '263100', 'low': '257835', 'varBid': '-369', 'pctChange': '-0.14', 'bid': '261340', 'ask': '261624', 'timestamp': '1708434889', 'create_date': '2024-02-20 10:14:49'}, 'LTC': {'code': 'LTC', 'codein': 'BRL', 'name': 'Litecoin/Real Brasileiro', 'high': '359', 'low': '349.53', 'varBid': '1.7', 'pctChange': '0.48', 'bid': '350', 'ask': '354.28', 'timestamp': '1708434888', 'create_date': '2024-02-20 10:14:48'}, 'EUR': {'code': 'EUR', 'codein': 'BRL', 'name': 'Euro/Real Brasileiro', 'high': '5.3604', 'low': '5.3379', 'varBid': '-0.0019', 'pctChange': '-0.04', 'bid': '5.3419', 'ask': '5.3499', 'timestamp': '1708434886', 'create_date': '2024-02-20 10:14:46'}, 'JPY': {'code': 'JPY', 'codein': 'BRL', 'name': 'Iene Japonês/Real Brasileiro', 'high': '0.03308', 'low': '0.03295', 'varBid': '-0.0001', 'pctChange': '-0.3', 'bid': '0.03295', 'ask': '0.03297', 'timestamp': '1708434880', 'create_date': '2024-02-20 10:14:40'}, 'CHF': {'code': 'CHF', 'codein': 'BRL', 'name': 'Franco Suíço/Real Brasileiro', 'high': '5.6299', 'low': '5.6101', 'varBid': '-0.0067', 'pctChange': '-0.12', 'bid': '5.6107', 'ask': '5.6191', 'timestamp': '1708434872', 'create_date': '2024-02-20 10:14:32'}, 'AUD': {'code': 'AUD', 'codein': 'BRL', 'name': 'Dólar Australiano/Real Brasileiro', 'high': '3.2577', 'low': '3.2384', 'varBid': '0.0048', 'pctChange': '0.15', 'bid': '3.2466', 'ask': '3.2514', 'timestamp': '1708434886', 'create_date': '2024-02-20 10:14:46'}, 'CNY': {'code': 'CNY', 'codein': 'BRL', 'name': 'Yuan Chinês/Real Brasileiro', 'high': '0.6899', 'low': '0.688', 'varBid': '-0.0012', 'pctChange': '-0.17', 'bid': '0.6879', 'ask': '0.6881', 'timestamp': '1708434782', 'create_date': '2024-02-20 10:13:02'}, 'ILS': {'code': 'ILS', 'codein': 'BRL', 'name': 'Novo Shekel Israelense/Real Brasileiro', 'high': '1.3642', 'low': '1.3538', 'varBid': '-0.0149', 'pctChange': '-1.09', 'bid': '1.3536', 'ask': '1.3539', 'timestamp': '1708434785', 'create_date': '2024-02-20 10:13:05'}, 'ETH': {'code': 'ETH', 'codein': 'BRL', 'name': 'Ethereum/Real Brasileiro', 'high': '14959', 'low': '14417.68', 'varBid': '201.34', 'pctChange': '1.39', 'bid': '14778.65', 'ask': '14800', 'timestamp': '1708434888', 'create_date': '2024-02-20 10:14:48'}, 'XRP': {'code': 'XRP', 'codein': 'BRL', 'name': 'XRP/Real Brasileiro', 'high': '2.87', 'low': '2.78', 'varBid': '0.07', 'pctChange': '2.66', 'bid': '2.86', 'ask': '2.87', 'timestamp': '1708434890', 'create_date': '2024-02-20 10:14:50'}, 'DOGE': {'code': 'DOGE', 'codein': 'BRL', 'name': 'Dogecoin/Real Brasileiro', 'high': '0.44968', 'low': '0.42485', 'varBid': '0.00196', 'pctChange': '0.46', 'bid': '0.43059', 'ask': '0.43059', 'timestamp': '1708434090', 'create_date': '2024-02-20 10:01:30'}}\n"
     ]
    }
   ],
   "source": [
    "import requests\n",
    "import json\n",
    "\n",
    "cotacoes = requests.get('https://economia.awesomeapi.com.br/json/all')\n",
    "cotacoes_dic = cotacoes.json()\n",
    "print(cotacoes_dic)"
   ]
  },
  {
   "cell_type": "code",
   "execution_count": 6,
   "metadata": {},
   "outputs": [
    {
     "name": "stdout",
     "output_type": "stream",
     "text": [
      "Dólar: 4.9599\n",
      "Euro: 5.3545\n",
      "Bitcoin: 262378\n"
     ]
    }
   ],
   "source": [
    "print('Dólar: {}'.format(cotacoes_dic['USD']['bid']))\n",
    "print('Euro: {}'.format(cotacoes_dic['EUR'] ['bid']))\n",
    "print('Bitcoin: {}'.format(cotacoes_dic['BTC'] ['bid']))"
   ]
  },
  {
   "cell_type": "code",
   "execution_count": null,
   "metadata": {},
   "outputs": [],
   "source": [
    "https://economia.awesomeapi.com.br/json/daily/:moeda/:numero_dias"
   ]
  }
 ],
 "metadata": {
  "kernelspec": {
   "display_name": ".venv",
   "language": "python",
   "name": "python3"
  },
  "language_info": {
   "codemirror_mode": {
    "name": "ipython",
    "version": 3
   },
   "file_extension": ".py",
   "mimetype": "text/x-python",
   "name": "python",
   "nbconvert_exporter": "python",
   "pygments_lexer": "ipython3",
   "version": "3.11.4"
  }
 },
 "nbformat": 4,
 "nbformat_minor": 2
}
