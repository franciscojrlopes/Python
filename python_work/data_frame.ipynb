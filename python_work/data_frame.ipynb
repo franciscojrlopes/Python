{
 "cells": [
  {
   "cell_type": "markdown",
   "metadata": {},
   "source": []
  },
  {
   "cell_type": "code",
   "execution_count": 10,
   "metadata": {},
   "outputs": [
    {
     "data": {
      "text/plain": [
       "0          6825\n",
       "1         18469\n",
       "2         19730\n",
       "3         29326\n",
       "4         22617\n",
       "          ...  \n",
       "980637    10353\n",
       "980638    31750\n",
       "980639    12003\n",
       "980640    25550\n",
       "980641    28707\n",
       "Name: ID Cliente, Length: 980642, dtype: int64"
      ]
     },
     "execution_count": 10,
     "metadata": {},
     "output_type": "execute_result"
    }
   ],
   "source": [
    "import pandas as pd\n",
    "\n",
    "vendas_df = pd.read_csv(r'Contoso - Vendas - 2017.csv', sep=';')\n",
    "vendas_df['ID Cliente']"
   ]
  },
  {
   "cell_type": "markdown",
   "metadata": {},
   "source": []
  },
  {
   "cell_type": "code",
   "execution_count": 9,
   "metadata": {},
   "outputs": [
    {
     "data": {
      "text/html": [
       "<div>\n",
       "<style scoped>\n",
       "    .dataframe tbody tr th:only-of-type {\n",
       "        vertical-align: middle;\n",
       "    }\n",
       "\n",
       "    .dataframe tbody tr th {\n",
       "        vertical-align: top;\n",
       "    }\n",
       "\n",
       "    .dataframe thead th {\n",
       "        text-align: right;\n",
       "    }\n",
       "</style>\n",
       "<table border=\"1\" class=\"dataframe\">\n",
       "  <thead>\n",
       "    <tr style=\"text-align: right;\">\n",
       "      <th></th>\n",
       "      <th>Numero da Venda</th>\n",
       "      <th>Data da Venda</th>\n",
       "      <th>Data do Envio</th>\n",
       "      <th>ID Canal</th>\n",
       "      <th>ID Loja</th>\n",
       "      <th>ID Produto</th>\n",
       "      <th>ID Promocao</th>\n",
       "      <th>ID Cliente</th>\n",
       "      <th>Quantidade Vendida</th>\n",
       "      <th>Quantidade Devolvida</th>\n",
       "    </tr>\n",
       "  </thead>\n",
       "  <tbody>\n",
       "    <tr>\n",
       "      <th>0</th>\n",
       "      <td>1</td>\n",
       "      <td>01/01/2017</td>\n",
       "      <td>02/01/2017</td>\n",
       "      <td>1</td>\n",
       "      <td>86</td>\n",
       "      <td>981</td>\n",
       "      <td>2</td>\n",
       "      <td>6825</td>\n",
       "      <td>9</td>\n",
       "      <td>1</td>\n",
       "    </tr>\n",
       "    <tr>\n",
       "      <th>1</th>\n",
       "      <td>2</td>\n",
       "      <td>01/01/2017</td>\n",
       "      <td>06/01/2017</td>\n",
       "      <td>5</td>\n",
       "      <td>308</td>\n",
       "      <td>1586</td>\n",
       "      <td>2</td>\n",
       "      <td>18469</td>\n",
       "      <td>9</td>\n",
       "      <td>1</td>\n",
       "    </tr>\n",
       "    <tr>\n",
       "      <th>2</th>\n",
       "      <td>3</td>\n",
       "      <td>01/01/2017</td>\n",
       "      <td>01/01/2017</td>\n",
       "      <td>0</td>\n",
       "      <td>294</td>\n",
       "      <td>1444</td>\n",
       "      <td>5</td>\n",
       "      <td>19730</td>\n",
       "      <td>13</td>\n",
       "      <td>1</td>\n",
       "    </tr>\n",
       "  </tbody>\n",
       "</table>\n",
       "</div>"
      ],
      "text/plain": [
       "   Numero da Venda Data da Venda Data do Envio  ID Canal  ID Loja  ID Produto  \\\n",
       "0                1    01/01/2017    02/01/2017         1       86         981   \n",
       "1                2    01/01/2017    06/01/2017         5      308        1586   \n",
       "2                3    01/01/2017    01/01/2017         0      294        1444   \n",
       "\n",
       "   ID Promocao  ID Cliente  Quantidade Vendida  Quantidade Devolvida  \n",
       "0            2        6825                   9                     1  \n",
       "1            2       18469                   9                     1  \n",
       "2            5       19730                  13                     1  "
      ]
     },
     "execution_count": 9,
     "metadata": {},
     "output_type": "execute_result"
    }
   ],
   "source": [
    "import pandas as pd\n",
    "\n",
    "vendas_df = pd.read_csv(r'Contoso - Vendas - 2017.csv', sep=';')\n",
    "vendas_df[:3]"
   ]
  },
  {
   "cell_type": "markdown",
   "metadata": {},
   "source": [
    "Novo DataFrame só com três colunas:\n",
    "\n"
   ]
  },
  {
   "cell_type": "code",
   "execution_count": 11,
   "metadata": {},
   "outputs": [
    {
     "data": {
      "text/html": [
       "<div>\n",
       "<style scoped>\n",
       "    .dataframe tbody tr th:only-of-type {\n",
       "        vertical-align: middle;\n",
       "    }\n",
       "\n",
       "    .dataframe tbody tr th {\n",
       "        vertical-align: top;\n",
       "    }\n",
       "\n",
       "    .dataframe thead th {\n",
       "        text-align: right;\n",
       "    }\n",
       "</style>\n",
       "<table border=\"1\" class=\"dataframe\">\n",
       "  <thead>\n",
       "    <tr style=\"text-align: right;\">\n",
       "      <th></th>\n",
       "      <th>Numero da Venda</th>\n",
       "      <th>ID Loja</th>\n",
       "      <th>ID Cliente</th>\n",
       "    </tr>\n",
       "  </thead>\n",
       "  <tbody>\n",
       "    <tr>\n",
       "      <th>0</th>\n",
       "      <td>1</td>\n",
       "      <td>86</td>\n",
       "      <td>6825</td>\n",
       "    </tr>\n",
       "    <tr>\n",
       "      <th>1</th>\n",
       "      <td>2</td>\n",
       "      <td>308</td>\n",
       "      <td>18469</td>\n",
       "    </tr>\n",
       "    <tr>\n",
       "      <th>2</th>\n",
       "      <td>3</td>\n",
       "      <td>294</td>\n",
       "      <td>19730</td>\n",
       "    </tr>\n",
       "    <tr>\n",
       "      <th>3</th>\n",
       "      <td>4</td>\n",
       "      <td>251</td>\n",
       "      <td>29326</td>\n",
       "    </tr>\n",
       "    <tr>\n",
       "      <th>4</th>\n",
       "      <td>5</td>\n",
       "      <td>94</td>\n",
       "      <td>22617</td>\n",
       "    </tr>\n",
       "    <tr>\n",
       "      <th>...</th>\n",
       "      <td>...</td>\n",
       "      <td>...</td>\n",
       "      <td>...</td>\n",
       "    </tr>\n",
       "    <tr>\n",
       "      <th>980637</th>\n",
       "      <td>980638</td>\n",
       "      <td>194</td>\n",
       "      <td>10353</td>\n",
       "    </tr>\n",
       "    <tr>\n",
       "      <th>980638</th>\n",
       "      <td>980639</td>\n",
       "      <td>32</td>\n",
       "      <td>31750</td>\n",
       "    </tr>\n",
       "    <tr>\n",
       "      <th>980639</th>\n",
       "      <td>980640</td>\n",
       "      <td>210</td>\n",
       "      <td>12003</td>\n",
       "    </tr>\n",
       "    <tr>\n",
       "      <th>980640</th>\n",
       "      <td>980641</td>\n",
       "      <td>53</td>\n",
       "      <td>25550</td>\n",
       "    </tr>\n",
       "    <tr>\n",
       "      <th>980641</th>\n",
       "      <td>980642</td>\n",
       "      <td>309</td>\n",
       "      <td>28707</td>\n",
       "    </tr>\n",
       "  </tbody>\n",
       "</table>\n",
       "<p>980642 rows × 3 columns</p>\n",
       "</div>"
      ],
      "text/plain": [
       "        Numero da Venda  ID Loja  ID Cliente\n",
       "0                     1       86        6825\n",
       "1                     2      308       18469\n",
       "2                     3      294       19730\n",
       "3                     4      251       29326\n",
       "4                     5       94       22617\n",
       "...                 ...      ...         ...\n",
       "980637           980638      194       10353\n",
       "980638           980639       32       31750\n",
       "980639           980640      210       12003\n",
       "980640           980641       53       25550\n",
       "980641           980642      309       28707\n",
       "\n",
       "[980642 rows x 3 columns]"
      ]
     },
     "execution_count": 11,
     "metadata": {},
     "output_type": "execute_result"
    }
   ],
   "source": [
    "import pandas as pd\n",
    "\n",
    "vendas_df = pd.read_csv(r'Contoso - Vendas - 2017.csv', sep=';')\n",
    "\n",
    "vendas_df[['Numero da Venda', 'ID Loja', 'ID Cliente']]"
   ]
  },
  {
   "cell_type": "markdown",
   "metadata": {},
   "source": [
    "Item específico:"
   ]
  },
  {
   "cell_type": "code",
   "execution_count": 16,
   "metadata": {},
   "outputs": [
    {
     "data": {
      "text/plain": [
       "981"
      ]
     },
     "execution_count": 16,
     "metadata": {},
     "output_type": "execute_result"
    }
   ],
   "source": [
    "import pandas as pd\n",
    "\n",
    "vendas_df = pd.read_csv(r'Contoso - Vendas - 2017.csv', sep=';')\n",
    "\n",
    "vendas_df['ID Produto'][0]"
   ]
  }
 ],
 "metadata": {
  "kernelspec": {
   "display_name": ".venv",
   "language": "python",
   "name": "python3"
  },
  "language_info": {
   "codemirror_mode": {
    "name": "ipython",
    "version": 3
   },
   "file_extension": ".py",
   "mimetype": "text/x-python",
   "name": "python",
   "nbconvert_exporter": "python",
   "pygments_lexer": "ipython3",
   "version": "3.11.4"
  }
 },
 "nbformat": 4,
 "nbformat_minor": 2
}
