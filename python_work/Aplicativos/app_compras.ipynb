{
 "cells": [
  {
   "cell_type": "markdown",
   "metadata": {},
   "source": [
    "   Criando um aplicativo de compras\n",
    "\n",
    "    Desenvolva um programa que gerencie uma lista de compras. O programa deve permitir que o usuário adicione e remova itens da lista, além de visualizar a lista. O programa deve ser capaz de:\n",
    "    - salvar a lista em um arquivo\n",
    "    - carregar uma lista existente\n",
    "    - gerenciar múltiplas listas de compras, cada uma em um arquivo diferente\n",
    "    - salvar a lista atual em um arquivo ou sair sem salvar\n",
    "  \n",
    "    Organize o programa em funções. Cada função deve ter uma única responsabilidade. O programa deve ter:\n",
    "\n",
    "    - função `main` que chama as outras funções\n",
    "    - um menu que permite ao usuário escolher uma opção\n",
    "    - uma função para cada opção do menu\n",
    "    - uma função para cada operação que pode ser realizada na lista de compras\n",
    "\n",
    "    Dica: não confunda o nome \\\"lista\\\" com a estrutura de dados lista. Uma lista de compras contém os itens e suas quantidades. A estrutura de dados utilizada deve ser, portanto, um dicionário, onde a chave é o nome do item e o valor é a quantidade."
   ]
  },
  {
   "cell_type": "code",
   "execution_count": null,
   "metadata": {},
   "outputs": [],
   "source": [
    "compras = {}\n",
    "def adicionar_item(compras, item, quantidade):\n",
    "    pass\n",
    "def remover_item(compras, item):\n",
    "    pass\n",
    "def visualizar_compras(compras):\n",
    "    pass\n"
   ]
  }
 ],
 "metadata": {
  "kernelspec": {
   "display_name": ".venv",
   "language": "python",
   "name": "python3"
  },
  "language_info": {
   "name": "python",
   "version": "3.11.4"
  }
 },
 "nbformat": 4,
 "nbformat_minor": 2
}
