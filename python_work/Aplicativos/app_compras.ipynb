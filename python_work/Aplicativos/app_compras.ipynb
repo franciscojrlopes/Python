{
 "cells": [
  {
   "cell_type": "markdown",
   "metadata": {},
   "source": [
    "   Criando um aplicativo de compras\n",
    "\n",
    "    Desenvolva um programa que gerencie uma lista de compras. O programa deve permitir que o usuário adicione e remova itens da lista, além de visualizar a lista. O programa deve ser capaz de:\n",
    "    - salvar a lista em um arquivo\n",
    "    - carregar uma lista existente\n",
    "    - gerenciar múltiplas listas de compras, cada uma em um arquivo diferente\n",
    "    - salvar a lista atual em um arquivo ou sair sem salvar\n",
    "  \n",
    "    Organize o programa em funções. Cada função deve ter uma única responsabilidade. O programa deve ter:\n",
    "\n",
    "    - função `main` que chama as outras funções\n",
    "    - um menu que permite ao usuário escolher uma opção\n",
    "    - uma função para cada opção do menu\n",
    "    - uma função para cada operação que pode ser realizada na lista de compras\n",
    "\n",
    "    Dica: não confunda o nome \\\"lista\\\" com a estrutura de dados lista. Uma lista de compras contém os itens e suas quantidades. A estrutura de dados utilizada deve ser, portanto, um dicionário, onde a chave é o nome do item e o valor é a quantidade."
   ]
  },
  {
   "cell_type": "code",
   "execution_count": 23,
   "metadata": {},
   "outputs": [
    {
     "name": "stdout",
     "output_type": "stream",
     "text": [
      "\n",
      "Pressione enter para continuar!\n",
      "{}\n"
     ]
    }
   ],
   "source": [
    "import json\n",
    "\n",
    "compras = {}\n",
    "def adicionar_item(compras, item, quantidade):\n",
    "    compras[item] = quantidade\n",
    "\n",
    "def remover_item(compras, item):\n",
    "    if item in compras:\n",
    "        del compras[item]\n",
    "def visualizar_compras(compras):\n",
    "    for item, quantidade in compras.items():\n",
    "        print(f'{item}: {quantidade}')\n",
    "print()\n",
    "print('Pressione enter para continuar!')\n",
    "input()\n",
    "\n",
    "def salvar_compras(compras, nome_do_arquivo):\n",
    "        with open(nome_do_arquivo, 'w') as arquivo:\n",
    "            json.dump(compras, arquivo)\n",
    "\n",
    "def carregar_compras(compras, nome_do_arquivo):\n",
    "    pass\n",
    "\n",
    "def gerenciar_compras(compras):\n",
    "    pass\n",
    "\n",
    "def main():\n",
    "    pass\n",
    "\n",
    "adicionar_item(compras, 'arroz', 2)\n",
    "remover_item(compras, 'arroz')\n",
    "print(compras)\n"
   ]
  },
  {
   "cell_type": "code",
   "execution_count": 2,
   "metadata": {},
   "outputs": [
    {
     "name": "stdout",
     "output_type": "stream",
     "text": [
      "{}\n"
     ]
    }
   ],
   "source": [
    "dicionario_teste = {}\n",
    "print(dicionario_teste)\n"
   ]
  },
  {
   "cell_type": "code",
   "execution_count": 3,
   "metadata": {},
   "outputs": [
    {
     "name": "stdout",
     "output_type": "stream",
     "text": [
      "{'arroz': 2}\n"
     ]
    }
   ],
   "source": [
    "dicionario_teste = {}\n",
    "dicionario_teste['arroz'] = 2\n",
    "print(dicionario_teste)"
   ]
  },
  {
   "cell_type": "code",
   "execution_count": 5,
   "metadata": {},
   "outputs": [
    {
     "name": "stdout",
     "output_type": "stream",
     "text": [
      "{}\n"
     ]
    }
   ],
   "source": [
    "# Remover:\n",
    "\n",
    "dicionario_teste = {}\n",
    "dicionario_teste['arroz'] = 2\n",
    "del dicionario_teste['arroz']\n",
    "print(dicionario_teste)\n"
   ]
  },
  {
   "cell_type": "code",
   "execution_count": 7,
   "metadata": {},
   "outputs": [
    {
     "ename": "KeyError",
     "evalue": "'feijão'",
     "output_type": "error",
     "traceback": [
      "\u001b[1;31m---------------------------------------------------------------------------\u001b[0m",
      "\u001b[1;31mKeyError\u001b[0m                                  Traceback (most recent call last)",
      "Cell \u001b[1;32mIn[7], line 5\u001b[0m\n\u001b[0;32m      3\u001b[0m dicionario_teste \u001b[38;5;241m=\u001b[39m {}\n\u001b[0;32m      4\u001b[0m dicionario_teste[\u001b[38;5;124m'\u001b[39m\u001b[38;5;124marroz\u001b[39m\u001b[38;5;124m'\u001b[39m] \u001b[38;5;241m=\u001b[39m \u001b[38;5;241m2\u001b[39m\n\u001b[1;32m----> 5\u001b[0m \u001b[38;5;28;01mdel\u001b[39;00m \u001b[43mdicionario_teste\u001b[49m\u001b[43m[\u001b[49m\u001b[38;5;124;43m'\u001b[39;49m\u001b[38;5;124;43mfeijão\u001b[39;49m\u001b[38;5;124;43m'\u001b[39;49m\u001b[43m]\u001b[49m\n\u001b[0;32m      6\u001b[0m \u001b[38;5;28mprint\u001b[39m(dicionario_teste)\n",
      "\u001b[1;31mKeyError\u001b[0m: 'feijão'"
     ]
    }
   ],
   "source": [
    "# Remover o que não existe:\n",
    "\n",
    "dicionario_teste = {}\n",
    "dicionario_teste['arroz'] = 2\n",
    "del dicionario_teste['feijão']\n",
    "print(dicionario_teste)"
   ]
  },
  {
   "cell_type": "code",
   "execution_count": 12,
   "metadata": {},
   "outputs": [
    {
     "name": "stdout",
     "output_type": "stream",
     "text": [
      "{'arroz': 2, 'feijão': 3, 'macarrão': 1}\n"
     ]
    }
   ],
   "source": [
    "dicionario_teste = {}\n",
    "\n",
    "dicionario_teste['arroz'] = 2\n",
    "dicionario_teste['feijão'] = 3\n",
    "dicionario_teste['macarrão'] = 1\n",
    "\n",
    "print(dicionario_teste)"
   ]
  },
  {
   "cell_type": "code",
   "execution_count": 18,
   "metadata": {},
   "outputs": [
    {
     "name": "stdout",
     "output_type": "stream",
     "text": [
      "arroz: 2\n",
      "feijao: 3\n",
      "macarrao: 1\n",
      "\n",
      "Pressione enter para continuar!\n"
     ]
    },
    {
     "data": {
      "text/plain": [
       "''"
      ]
     },
     "execution_count": 18,
     "metadata": {},
     "output_type": "execute_result"
    }
   ],
   "source": [
    "dicionario_teste = {}\n",
    "\n",
    "dicionario_teste['arroz'] = 2\n",
    "dicionario_teste['feijao'] = 3\n",
    "dicionario_teste['macarrao'] = 1\n",
    "\n",
    "for item, quantidade in dicionario_teste.items():\n",
    "    print(f'{item}: {quantidade}')\n",
    "print()\n",
    "print('Pressione enter para continuar!')\n",
    "input()\n",
    "\n",
    "# Esse foi o teste. Copiar para código acima...."
   ]
  },
  {
   "cell_type": "code",
   "execution_count": 20,
   "metadata": {},
   "outputs": [
    {
     "name": "stdout",
     "output_type": "stream",
     "text": [
      "{'arroz': 2, 'feijao': 3, 'macarrao': 1}\n"
     ]
    }
   ],
   "source": [
    "print(dicionario_teste)"
   ]
  },
  {
   "cell_type": "code",
   "execution_count": 21,
   "metadata": {},
   "outputs": [],
   "source": [
    "# Salvar:\n",
    "\n",
    "import json\n",
    "\n",
    "with open('dicionario_teste.json', 'w') as arquivo:\n",
    "    json.dump(dicionario_teste, arquivo)\n"
   ]
  },
  {
   "cell_type": "code",
   "execution_count": 24,
   "metadata": {},
   "outputs": [],
   "source": [
    "# Carregar:\n",
    "with open('dicionario_teste.json', 'r') as arquivo:\n",
    "    dicionario_leitura = json.load(arquivo)"
   ]
  }
 ],
 "metadata": {
  "kernelspec": {
   "display_name": ".venv",
   "language": "python",
   "name": "python3"
  },
  "language_info": {
   "codemirror_mode": {
    "name": "ipython",
    "version": 3
   },
   "file_extension": ".py",
   "mimetype": "text/x-python",
   "name": "python",
   "nbconvert_exporter": "python",
   "pygments_lexer": "ipython3",
   "version": "3.11.4"
  }
 },
 "nbformat": 4,
 "nbformat_minor": 2
}
