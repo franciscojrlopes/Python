{
 "cells": [
  {
   "cell_type": "code",
   "execution_count": 3,
   "metadata": {},
   "outputs": [
    {
     "name": "stdout",
     "output_type": "stream",
     "text": [
      "\n",
      "Pressione enter para continuar!\n",
      "{}\n"
     ]
    }
   ],
   "source": [
    "import json\n",
    "import time\n",
    "compras = {}\n",
    "def adicionar_item(compras, item, quantidade):\n",
    "    compras[item] = quantidade\n",
    "\n",
    "def remover_item(compras, item):\n",
    "    if item in compras:\n",
    "        del compras[item]\n",
    "def visualizar_compras(compras):\n",
    "    for item, quantidade in compras.items():\n",
    "        print(f'{item}: {quantidade}')\n",
    "print()\n",
    "print('Pressione enter para continuar!')\n",
    "input()\n",
    "\n",
    "def salvar_compras(compras, nome_do_arquivo):\n",
    "        with open(nome_do_arquivo, 'w') as arquivo:\n",
    "            json.dump(compras, arquivo)\n",
    "\n",
    "def carregar_compras(compras, nome_do_arquivo):\n",
    "        with open(nome_do_arquivo, 'r') as arquivo:\n",
    "             return json.load(arquivo)\n",
    "\n",
    "def gerenciar_compras(compras):\n",
    "    pass\n",
    "\n",
    "def main():\n",
    "    while True:\n",
    "        print('1. Criar uma nova lista de compras')\n",
    "        print('2. Carregar uma lista existente')\n",
    "        print('3. Sair')\n",
    "        escolha = input('Escolha uma opção: ')\n",
    "        if escolha == '1':\n",
    "            pass\n",
    "        elif escolha == '2':\n",
    "            pass\n",
    "        elif escolha == '3':\n",
    "            pass\n",
    "        else:\n",
    "             print('Opção inválida!')\n",
    "             time.sleep(1)\n",
    "\n",
    "adicionar_item(compras, 'arroz', 2)\n",
    "remover_item(compras, 'arroz')\n",
    "print(compras)"
   ]
  }
 ],
 "metadata": {
  "kernelspec": {
   "display_name": ".venv",
   "language": "python",
   "name": "python3"
  },
  "language_info": {
   "codemirror_mode": {
    "name": "ipython",
    "version": 3
   },
   "file_extension": ".py",
   "mimetype": "text/x-python",
   "name": "python",
   "nbconvert_exporter": "python",
   "pygments_lexer": "ipython3",
   "version": "3.11.4"
  }
 },
 "nbformat": 4,
 "nbformat_minor": 2
}
