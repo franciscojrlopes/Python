{
 "cells": [
  {
   "cell_type": "markdown",
   "metadata": {},
   "source": [
    " RPA com Python\n",
    "\n",
    "    - O que é RPA?\n",
    "    - Por que isso é diferente de Selenium/Web-Scraping e do que vimos até agora?\n",
    "        - Pontos Positivos\n",
    "        - Pontos Negativos\n",
    "    - Biblioteca usada:\n",
    "        - pip install pyautogui\n",
    "        - https://pyautogui.readthedocs.io/en/latest/\\n\",\n",
    "        - Para os comandos de imagem pode ser que seja necessário instalar pip install pillow\n",
    "        - Para resolver problemas de caracteres especiais vamos usar um macete com a pyperclip\n",
    "\n",
    "    - Link com um resumo dos principais comandos: \n",
    "    \n",
    "    https://pyautogui.readthedocs.io/en/latest/quickstart.html\n",
    "\n",
    "    Desafio\n",
    " \n",
    "    - Vamos automatizar a extração de informações de um sistema e envio de um relatório por e-mail\n",
    "    - No nosso caso, para todo mundo conseguir fazer o mesmo programa, o nosso \"sistema\" vai ser o Gmail, mas o mesmo processo pode ser feito com qualquer programa do seu computador e qualquer sistema\n",
    "    - Passo 1: Entrar no sistema (entrar no Gmail)\n",
    "    - Passo 2: Entrar em uma aba específica do sistema onde tem o nosso relatório (Aba Contatos)\n",
    "    - Passo 3: Exportar o Relatório (Exportar Contatos)\n",
    "    - Passo 4: Pegar o relatório exportado, tratar e pegar as informações que queremos\n",
    "    - Passo 5: Preencher/Atualizar informações do sistema (No nosso caso, criar um e-mail e enviar)\n",
    "   \n",
    "PyAutoGUI:\n",
    "\n",
    "    Permite que seus scripts Python controlem o mouse e o teclado para automatizar interações com outros aplicativos. A API é projetada para ser simples. PyAutoGUI funciona em Windows, macOS e Linux, e roda em Python 2 e 3.\n",
    "\n",
    "O PyAutoGUI tem vários recursos:\n",
    "\n",
    "    - Mover o mouse e clicar nas janelas de outros aplicativos.\n",
    "    - Envio de pressionamentos de tecla para aplicativos (por exemplo, para preencher formulários).\n",
    "    - Faça capturas de tela e, a partir de uma imagem (por exemplo, de um botão ou caixa de seleção), encontre-a na tela.\n",
    "    - Localize a janela de um aplicativo e mova, redimensione, maximize, minimize ou feche-a (somente Windows, atualmente).\n",
    "    - Exibir caixas de alerta e mensagem."
   ]
  },
  {
   "cell_type": "code",
   "execution_count": 4,
   "metadata": {},
   "outputs": [],
   "source": [
    "import pyautogui\n",
    "import time\n",
    "\n",
    "    # pyautogui.write() -> escreve\n",
    "    # pyautogui.click -> clica\n",
    "    # pyautogui.locateOnScreen -> identifica uma imagem na sua tela\n",
    "    # pyautogui.hotkey -> usa atalhos do teclado (combinação de teclas)\n",
    "    # pyautogui.press -> aperta um botão do teclado\n",
    "    # print(pyautogui.KEYBOARD_KEYS)\n",
    "\n",
    "# Abrir Google Chrome, entrar no gmail.\n",
    "\n"
   ]
  }
 ],
 "metadata": {
  "kernelspec": {
   "display_name": ".venv",
   "language": "python",
   "name": "python3"
  },
  "language_info": {
   "codemirror_mode": {
    "name": "ipython",
    "version": 3
   },
   "file_extension": ".py",
   "mimetype": "text/x-python",
   "name": "python",
   "nbconvert_exporter": "python",
   "pygments_lexer": "ipython3",
   "version": "3.11.4"
  }
 },
 "nbformat": 4,
 "nbformat_minor": 2
}
