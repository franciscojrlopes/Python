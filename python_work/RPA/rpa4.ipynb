{
 "cells": [
  {
   "cell_type": "code",
   "execution_count": null,
   "metadata": {},
   "outputs": [],
   "source": [
    "import pyautogui\n",
    "import time\n",
    "# print(pyautogui.KEYBOARD_KEYS)\n",
    "\n",
    "    # pyautogui.write() -> escreve\n",
    "    # pyautogui.click -> clica\n",
    "    # pyautogui.locateOnScreen -> identifica uma imagem na sua tela\n",
    "    # pyautogui.hotkey -> usa atalhos do teclado (combinação de teclas)\n",
    "    # pyautogui.press -> aperta um botão do teclado\n",
    "    # print(pyautogui.KEYBOARD_KEYS)\n",
    "\n",
    "# Abrir Google Chrome, entrar no gmail.\n",
    "\n",
    "# Apertar windows no teclado:\n",
    "# Interval ou também posso usar o pyautogui.PAUSE = 1\n",
    "pyautogui.PAUSE = 1\n",
    "pyautogui.press('win')\n",
    "# Digitar Chrome:\n",
    "pyautogui.write('google')\n",
    "# Apertar enter:\n",
    "pyautogui.press('enter', )\n",
    "# localizar a imagem:\n",
    "imagem = pyautogui.locateCenterOnScreen('.png')\n",
    "# clicar no meio da imagem\n",
    "pyautogui.click(imagem.x, imagem.y)\n",
    "\n",
    "\n"
   ]
  }
 ],
 "metadata": {
  "kernelspec": {
   "display_name": ".venv",
   "language": "python",
   "name": "python3"
  },
  "language_info": {
   "name": "python",
   "version": "3.11.4"
  }
 },
 "nbformat": 4,
 "nbformat_minor": 2
}
