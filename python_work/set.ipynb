{
 "cells": [
  {
   "cell_type": "markdown",
   "metadata": {},
   "source": [
    "SET Estrutura:\n",
    "meu_set = {valor, valor, valor, valor......}\n",
    "\n",
    "Obs: Nao pode ter valores duplicados e não tem ordem fixa.\n"
   ]
  },
  {
   "cell_type": "code",
   "execution_count": null,
   "metadata": {},
   "outputs": [],
   "source": []
  }
 ],
 "metadata": {
  "language_info": {
   "name": "python"
  }
 },
 "nbformat": 4,
 "nbformat_minor": 2
}
