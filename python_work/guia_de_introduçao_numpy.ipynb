{
 "cells": [
  {
   "cell_type": "markdown",
   "metadata": {},
   "source": [
    "# Guia de Introdução ao NumPy\n",
    "\n",
    "NumPy, que significa Numerical Python, é uma biblioteca fundamental para a computação científica em Python. Ela fornece suporte para arrays e matrizes, além de funções matemáticas para operações com esses objetos. É, também, a base da biblioteca Pandas.\n",
    "\n"
   ]
  },
  {
   "cell_type": "markdown",
   "metadata": {},
   "source": [
    "## Filtros e np.where()\n",
    "\n",
    "A função np.where() é muito útil para fazer uma seleção condicional de elementos de um array. Por exemplo, em uma empresa, você pode querer identificar quais funcionários têm salários acima da média.\n",
    "\n"
   ]
  },
  {
   "cell_type": "code",
   "execution_count": 1,
   "metadata": {},
   "outputs": [
    {
     "name": "stdout",
     "output_type": "stream",
     "text": [
      "3714.285714285714\n"
     ]
    }
   ],
   "source": [
    "import numpy as np\n",
    "\n",
    "# Salários dos funcionários\n",
    "salarios = np.array([3000, 3500, 4000, 2000, 4500, 4000, 5000])\n",
    "\n",
    "# Calcular a média salarial\n",
    "media_salarial = np.mean(salarios)\n",
    "\n",
    "print(media_salarial)\n"
   ]
  },
  {
   "cell_type": "markdown",
   "metadata": {},
   "source": [
    "# Identificar funcionários com salários acima da média\n",
    "funcionários_acima_da_media = np.where(salarios > media_salarial)\n",
    "print(funcionários_acima_da_media)"
   ]
  },
  {
   "cell_type": "code",
   "execution_count": 2,
   "metadata": {},
   "outputs": [
    {
     "name": "stdout",
     "output_type": "stream",
     "text": [
      "(array([2, 4, 5, 6], dtype=int64),)\n"
     ]
    }
   ],
   "source": [
    "# Identificar funcionários com salários acima da média\n",
    "\n",
    "funcionários_acima_da_media = np.where(salarios > media_salarial)\n",
    "print(funcionários_acima_da_media)"
   ]
  },
  {
   "cell_type": "code",
   "execution_count": 3,
   "metadata": {},
   "outputs": [
    {
     "name": "stdout",
     "output_type": "stream",
     "text": [
      "[4000 4500 4000 5000]\n"
     ]
    }
   ],
   "source": [
    "# Filtrando: \n",
    "\n",
    "print(salarios[funcionários_acima_da_media])"
   ]
  },
  {
   "cell_type": "code",
   "execution_count": 4,
   "metadata": {},
   "outputs": [
    {
     "name": "stdout",
     "output_type": "stream",
     "text": [
      "[4000 4500 4000 5000]\n"
     ]
    }
   ],
   "source": [
    "# Posso fazer direto sem usar o np.where:\n",
    "\n",
    "print(salarios[salarios > media_salarial])\n"
   ]
  },
  {
   "cell_type": "code",
   "execution_count": 5,
   "metadata": {},
   "outputs": [
    {
     "name": "stdout",
     "output_type": "stream",
     "text": [
      "[3000 3500 2000]\n",
      "[3000 3500 4000 2000 4000]\n",
      "[3000 3500 4000 2000 4500 4000 5000]\n",
      "[]\n"
     ]
    }
   ],
   "source": [
    "print(salarios[salarios < 4000])\n",
    "\n",
    "print(salarios [salarios <= 4000])\n",
    "\n",
    "print(salarios [salarios <= 6000])\n",
    "\n",
    "print(salarios [salarios >= 6000])\n"
   ]
  },
  {
   "cell_type": "code",
   "execution_count": 6,
   "metadata": {},
   "outputs": [
    {
     "name": "stdout",
     "output_type": "stream",
     "text": [
      "['Abaixo da média.' 'Abaixo da média.' 'Acima da média.'\n",
      " 'Abaixo da média.' 'Acima da média.' 'Acima da média.' 'Acima da média.']\n"
     ]
    }
   ],
   "source": [
    "# dar bônus de 10% para os funcionários com salários abaixo da média\n",
    "\n",
    "print(np.where(salarios > media_salarial, 'Acima da média.', 'Abaixo da média.'))"
   ]
  },
  {
   "cell_type": "code",
   "execution_count": 7,
   "metadata": {},
   "outputs": [
    {
     "name": "stdout",
     "output_type": "stream",
     "text": [
      "[3000 3500 4000 2000 4500 4000 5000]\n",
      "[3300. 3850. 4000. 2200. 4500. 4000. 5000.]\n"
     ]
    }
   ],
   "source": [
    "salario_bonus = np.where(salarios < media_salarial, salarios * 1.1, salarios)\n",
    "print(salarios)\n",
    "print(salario_bonus)\n"
   ]
  }
 ],
 "metadata": {
  "kernelspec": {
   "display_name": ".venv",
   "language": "python",
   "name": "python3"
  },
  "language_info": {
   "codemirror_mode": {
    "name": "ipython",
    "version": 3
   },
   "file_extension": ".py",
   "mimetype": "text/x-python",
   "name": "python",
   "nbconvert_exporter": "python",
   "pygments_lexer": "ipython3",
   "version": "3.11.4"
  }
 },
 "nbformat": 4,
 "nbformat_minor": 2
}
