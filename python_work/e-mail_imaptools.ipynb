{
 "cells": [
  {
   "cell_type": "code",
   "execution_count": 1,
   "metadata": {},
   "outputs": [
    {
     "name": "stdout",
     "output_type": "stream",
     "text": [
      "Collecting imap-tools\n",
      "  Obtaining dependency information for imap-tools from https://files.pythonhosted.org/packages/81/01/0826fba2d1885936a9179986783892d8b2c04a9215a191d290214c1ea851/imap_tools-1.8.0-py3-none-any.whl.metadata\n",
      "  Downloading imap_tools-1.8.0-py3-none-any.whl.metadata (21 kB)\n",
      "Downloading imap_tools-1.8.0-py3-none-any.whl (33 kB)\n",
      "Installing collected packages: imap-tools\n",
      "Successfully installed imap-tools-1.8.0\n",
      "Note: you may need to restart the kernel to use updated packages.\n"
     ]
    },
    {
     "name": "stderr",
     "output_type": "stream",
     "text": [
      "\n",
      "[notice] A new release of pip is available: 23.2.1 -> 24.3.1\n",
      "[notice] To update, run: python.exe -m pip install --upgrade pip\n"
     ]
    }
   ],
   "source": [
    "pip install imap-tools"
   ]
  },
  {
   "cell_type": "code",
   "execution_count": 2,
   "metadata": {},
   "outputs": [
    {
     "name": "stdout",
     "output_type": "stream",
     "text": [
      "Email enviado com Python\n",
      "<p>Boa tarde!</p> <p>Esse é meu primeiro e-mail enviado com Python usando SMTP. </p> <p>At.te,</p> <p>Francisco Lopes</p>\n",
      "\n",
      "Email enviado com Python\n",
      "\n",
      "Email enviado com Python\n",
      "\n",
      "Email enviado com Python\n",
      "\n",
      "Email enviado com Python\n",
      "\n",
      "Email enviado com Python\n",
      "\n",
      "Email enviado com Python\n",
      "\n"
     ]
    }
   ],
   "source": [
    "from imap_tools import MailBox, AND\n",
    "\n",
    "usuário = 'devfranlopes@gmail.com'\n",
    "senha = 'xnys zcfc dqff iyax'\n",
    "\n",
    "meu_email = MailBox('imap.gmail.com').login(usuário, senha)\n",
    "\n",
    "lista_emails = meu_email.fetch(AND(from_= 'devfranlopes@gmail.com', to= 'fralopes@yahoo.com.br'))\n",
    "\n",
    "\n",
    "for email in lista_emails:\n",
    "    print(email.subject)\n",
    "    print(email.text)\n",
    "\n",
    "\n"
   ]
  },
  {
   "cell_type": "code",
   "execution_count": null,
   "metadata": {},
   "outputs": [],
   "source": []
  },
  {
   "cell_type": "code",
   "execution_count": null,
   "metadata": {},
   "outputs": [],
   "source": []
  }
 ],
 "metadata": {
  "kernelspec": {
   "display_name": ".venv",
   "language": "python",
   "name": "python3"
  },
  "language_info": {
   "codemirror_mode": {
    "name": "ipython",
    "version": 3
   },
   "file_extension": ".py",
   "mimetype": "text/x-python",
   "name": "python",
   "nbconvert_exporter": "python",
   "pygments_lexer": "ipython3",
   "version": "3.11.4"
  }
 },
 "nbformat": 4,
 "nbformat_minor": 2
}
