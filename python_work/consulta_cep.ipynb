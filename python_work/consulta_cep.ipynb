{
 "cells": [
  {
   "cell_type": "markdown",
   "metadata": {},
   "source": [
    "Via CEP\n",
    "\n",
    "Consulta de Informações de um CEP\n",
    "\n",
    "https://viacep.com.br/\n"
   ]
  },
  {
   "cell_type": "code",
   "execution_count": 4,
   "metadata": {},
   "outputs": [
    {
     "name": "stdout",
     "output_type": "stream",
     "text": [
      "<Response [200]>\n",
      "{'cep': '20090-002', 'logradouro': 'Avenida Rio Branco', 'complemento': 'de 32 a 62 - lado par', 'bairro': 'Centro', 'localidade': 'Rio de Janeiro', 'uf': 'RJ', 'ibge': '3304557', 'gia': '', 'ddd': '21', 'siafi': '6001'}\n"
     ]
    }
   ],
   "source": [
    "import requests\n",
    "\n",
    "cep = '20090002'\n",
    "\n",
    "link = f'https://viacep.com.br/ws/{cep}/json/'\n",
    "\n",
    "requisicao = requests.get(link)\n",
    "print(requisicao)\n",
    "print(requisicao.json())\n"
   ]
  },
  {
   "cell_type": "code",
   "execution_count": 6,
   "metadata": {},
   "outputs": [
    {
     "name": "stdout",
     "output_type": "stream",
     "text": [
      "RJ Rio de Janeiro Centro\n"
     ]
    }
   ],
   "source": [
    "import requests\n",
    "\n",
    "cep = '20090002'\n",
    "\n",
    "link = f'https://viacep.com.br/ws/{cep}/json/'\n",
    "\n",
    "requisicao = requests.get(link)\n",
    "\n",
    "dic_requisicao = requisicao.json() \n",
    "\n",
    "uf = dic_requisicao['uf']\n",
    "cidade = dic_requisicao['localidade']\n",
    "bairro = dic_requisicao['bairro']\n",
    "print(uf, cidade, bairro )"
   ]
  },
  {
   "cell_type": "code",
   "execution_count": 7,
   "metadata": {},
   "outputs": [
    {
     "name": "stdout",
     "output_type": "stream",
     "text": [
      "Piraí Arrozal RJ\n"
     ]
    }
   ],
   "source": [
    "import requests\n",
    "\n",
    "cep = '27185000'\n",
    "link = f'https://viacep.com.br/ws/{cep}/json/'\n",
    "\n",
    "requisicao = requests.get(link)\n",
    "dic_requisicao = requisicao.json()\n",
    "\n",
    "uf = dic_requisicao['uf']\n",
    "cidade = dic_requisicao['localidade']\n",
    "bairro = dic_requisicao['bairro']\n",
    "\n",
    "print(cidade, bairro, uf)\n"
   ]
  },
  {
   "cell_type": "code",
   "execution_count": 12,
   "metadata": {},
   "outputs": [
    {
     "name": "stdout",
     "output_type": "stream",
     "text": [
      "{'cep': '27197-000', 'logradouro': '', 'complemento': '', 'bairro': '', 'localidade': 'Pinheiral', 'uf': 'RJ', 'ibge': '3303955', 'gia': '', 'ddd': '24', 'siafi': '0778'}\n",
      "Pinheiral RJ 24\n"
     ]
    }
   ],
   "source": [
    "import requests\n",
    "\n",
    "cep = '27197000'\n",
    "link = f'https://viacep.com.br/ws/{cep}/json/'\n",
    "\n",
    "requisicao = requests.get(link)\n",
    "dic_requisicao = requisicao.json()\n",
    "\n",
    "uf = dic_requisicao['uf']\n",
    "cidade = dic_requisicao['localidade']\n",
    "ddd = dic_requisicao['ddd']\n",
    "\n",
    "print(dic_requisicao)\n",
    "\n",
    "print(cidade, uf, ddd)"
   ]
  },
  {
   "cell_type": "code",
   "execution_count": 31,
   "metadata": {},
   "outputs": [
    {
     "name": "stdout",
     "output_type": "stream",
     "text": [
      "<Response [200]>\n",
      "Piraí Arrozal RJ\n"
     ]
    }
   ],
   "source": [
    "import requests\n",
    "\n",
    "cep = '27.185-000'\n",
    "cep = cep.replace('-', '').replace('.', '').replace('', '')\n",
    "\n",
    "if len(cep) == 8:\n",
    "\n",
    "    link = f'https://viacep.com.br/ws/{cep}/json/'\n",
    "\n",
    "    requisicao = requests.get(link)\n",
    "    print(requisicao)\n",
    "    dic_requisicao = requisicao.json()\n",
    "\n",
    "    uf = dic_requisicao['uf']\n",
    "    cidade = dic_requisicao['localidade']\n",
    "    bairro = dic_requisicao['bairro']\n",
    "    print(cidade, bairro, uf)\n",
    "else:\n",
    "    print('CEP Inválido!')\n"
   ]
  },
  {
   "cell_type": "markdown",
   "metadata": {},
   "source": [
    "Buscar CEP a partir do endereço:"
   ]
  },
  {
   "cell_type": "code",
   "execution_count": 39,
   "metadata": {},
   "outputs": [
    {
     "name": "stdout",
     "output_type": "stream",
     "text": [
      "<Response [200]>\n",
      "[{'cep': '20251-620', 'logradouro': 'Rua Lírio Branco', 'complemento': '', 'bairro': 'Rio Comprido', 'localidade': 'Rio de Janeiro', 'uf': 'RJ', 'ibge': '3304557', 'gia': '', 'ddd': '21', 'siafi': '6001'}, {'cep': '20040-001', 'logradouro': 'Avenida Rio Branco', 'complemento': 'de 102 a 126 - lado par', 'bairro': 'Centro', 'localidade': 'Rio de Janeiro', 'uf': 'RJ', 'ibge': '3304557', 'gia': '', 'ddd': '21', 'siafi': '6001'}, {'cep': '20040-906', 'logradouro': 'Avenida Rio Branco', 'complemento': '109', 'bairro': 'Centro', 'localidade': 'Rio de Janeiro', 'uf': 'RJ', 'ibge': '3304557', 'gia': '', 'ddd': '21', 'siafi': '6001'}, {'cep': '20040-005', 'logradouro': 'Avenida Rio Branco', 'complemento': 'de 117 a 123 - lado ímpar', 'bairro': 'Centro', 'localidade': 'Rio de Janeiro', 'uf': 'RJ', 'ibge': '3304557', 'gia': '', 'ddd': '21', 'siafi': '6001'}, {'cep': '20040-909', 'logradouro': 'Avenida Rio Branco', 'complemento': '138', 'bairro': 'Centro', 'localidade': 'Rio de Janeiro', 'uf': 'RJ', 'ibge': '3304557', 'gia': '', 'ddd': '21', 'siafi': '6001'}, {'cep': '20040-009', 'logradouro': 'Avenida Rio Branco', 'complemento': 'de 221 ao fim - lado ímpar', 'bairro': 'Centro', 'localidade': 'Rio de Janeiro', 'uf': 'RJ', 'ibge': '3304557', 'gia': '', 'ddd': '21', 'siafi': '6001'}, {'cep': '20090-903', 'logradouro': 'Avenida Rio Branco', 'complemento': '4', 'bairro': 'Centro', 'localidade': 'Rio de Janeiro', 'uf': 'RJ', 'ibge': '3304557', 'gia': '', 'ddd': '21', 'siafi': '6001'}, {'cep': '20090-002', 'logradouro': 'Avenida Rio Branco', 'complemento': 'de 32 a 62 - lado par', 'bairro': 'Centro', 'localidade': 'Rio de Janeiro', 'uf': 'RJ', 'ibge': '3304557', 'gia': '', 'ddd': '21', 'siafi': '6001'}, {'cep': '20040-902', 'logradouro': 'Avenida Rio Branco', 'complemento': '185', 'bairro': 'Centro', 'localidade': 'Rio de Janeiro', 'uf': 'RJ', 'ibge': '3304557', 'gia': '', 'ddd': '21', 'siafi': '6001'}, {'cep': '20090-908', 'logradouro': 'Avenida Rio Branco', 'complemento': '45', 'bairro': 'Centro', 'localidade': 'Rio de Janeiro', 'uf': 'RJ', 'ibge': '3304557', 'gia': '', 'ddd': '21', 'siafi': '6001'}, {'cep': '20090-907', 'logradouro': 'Avenida Rio Branco', 'complemento': '1', 'bairro': 'Centro', 'localidade': 'Rio de Janeiro', 'uf': 'RJ', 'ibge': '3304557', 'gia': '', 'ddd': '21', 'siafi': '6001'}, {'cep': '20040-921', 'logradouro': 'Avenida Rio Branco', 'complemento': '134', 'bairro': 'Centro', 'localidade': 'Rio de Janeiro', 'uf': 'RJ', 'ibge': '3304557', 'gia': '', 'ddd': '21', 'siafi': '6001'}, {'cep': '20040-002', 'logradouro': 'Avenida Rio Branco', 'complemento': 'de 128 a 144 - lado par', 'bairro': 'Centro', 'localidade': 'Rio de Janeiro', 'uf': 'RJ', 'ibge': '3304557', 'gia': '', 'ddd': '21', 'siafi': '6001'}, {'cep': '20040-900', 'logradouro': 'Avenida Rio Branco', 'complemento': '128', 'bairro': 'Centro', 'localidade': 'Rio de Janeiro', 'uf': 'RJ', 'ibge': '3304557', 'gia': '', 'ddd': '21', 'siafi': '6001'}, {'cep': '20040-006', 'logradouro': 'Avenida Rio Branco', 'complemento': 'de 125 a 161 - lado ímpar', 'bairro': 'Centro', 'localidade': 'Rio de Janeiro', 'uf': 'RJ', 'ibge': '3304557', 'gia': '', 'ddd': '21', 'siafi': '6001'}, {'cep': '20040-911', 'logradouro': 'Avenida Rio Branco', 'complemento': '151', 'bairro': 'Centro', 'localidade': 'Rio de Janeiro', 'uf': 'RJ', 'ibge': '3304557', 'gia': '', 'ddd': '21', 'siafi': '6001'}, {'cep': '20040-070', 'logradouro': 'Avenida Rio Branco', 'complemento': 'de 64 a 100 - lado par', 'bairro': 'Centro', 'localidade': 'Rio de Janeiro', 'uf': 'RJ', 'ibge': '3304557', 'gia': '', 'ddd': '21', 'siafi': '6001'}, {'cep': '20040-910', 'logradouro': 'Avenida Rio Branco', 'complemento': '147', 'bairro': 'Centro', 'localidade': 'Rio de Janeiro', 'uf': 'RJ', 'ibge': '3304557', 'gia': '', 'ddd': '21', 'siafi': '6001'}, {'cep': '20090-003', 'logradouro': 'Avenida Rio Branco', 'complemento': 'até 45 - lado ímpar', 'bairro': 'Centro', 'localidade': 'Rio de Janeiro', 'uf': 'RJ', 'ibge': '3304557', 'gia': '', 'ddd': '21', 'siafi': '6001'}, {'cep': '20090-904', 'logradouro': 'Avenida Rio Branco', 'complemento': '35', 'bairro': 'Centro', 'localidade': 'Rio de Janeiro', 'uf': 'RJ', 'ibge': '3304557', 'gia': '', 'ddd': '21', 'siafi': '6001'}, {'cep': '20040-917', 'logradouro': 'Avenida Rio Branco', 'complemento': '245', 'bairro': 'Centro', 'localidade': 'Rio de Janeiro', 'uf': 'RJ', 'ibge': '3304557', 'gia': '', 'ddd': '21', 'siafi': '6001'}, {'cep': '20040-922', 'logradouro': 'Avenida Rio Branco', 'complemento': '70', 'bairro': 'Centro', 'localidade': 'Rio de Janeiro', 'uf': 'RJ', 'ibge': '3304557', 'gia': '', 'ddd': '21', 'siafi': '6001'}, {'cep': '20040-912', 'logradouro': 'Avenida Rio Branco', 'complemento': '135', 'bairro': 'Centro', 'localidade': 'Rio de Janeiro', 'uf': 'RJ', 'ibge': '3304557', 'gia': '', 'ddd': '21', 'siafi': '6001'}, {'cep': '20040-003', 'logradouro': 'Avenida Rio Branco', 'complemento': 'de 146 ao fim - lado par', 'bairro': 'Centro', 'localidade': 'Rio de Janeiro', 'uf': 'RJ', 'ibge': '3304557', 'gia': '', 'ddd': '21', 'siafi': '6001'}, {'cep': '20040-908', 'logradouro': 'Avenida Rio Branco', 'complemento': '103', 'bairro': 'Centro', 'localidade': 'Rio de Janeiro', 'uf': 'RJ', 'ibge': '3304557', 'gia': '', 'ddd': '21', 'siafi': '6001'}, {'cep': '20040-007', 'logradouro': 'Avenida Rio Branco', 'complemento': 'de 163 a 185 - lado ímpar', 'bairro': 'Centro', 'localidade': 'Rio de Janeiro', 'uf': 'RJ', 'ibge': '3304557', 'gia': '', 'ddd': '21', 'siafi': '6001'}, {'cep': '20040-914', 'logradouro': 'Avenida Rio Branco', 'complemento': '81', 'bairro': 'Centro', 'localidade': 'Rio de Janeiro', 'uf': 'RJ', 'ibge': '3304557', 'gia': '', 'ddd': '21', 'siafi': '6001'}, {'cep': '20090-000', 'logradouro': 'Avenida Rio Branco', 'complemento': 'até 20 - lado par', 'bairro': 'Centro', 'localidade': 'Rio de Janeiro', 'uf': 'RJ', 'ibge': '3304557', 'gia': '', 'ddd': '21', 'siafi': '6001'}, {'cep': '20040-919', 'logradouro': 'Avenida Rio Branco', 'complemento': '174', 'bairro': 'Centro', 'localidade': 'Rio de Janeiro', 'uf': 'RJ', 'ibge': '3304557', 'gia': '', 'ddd': '21', 'siafi': '6001'}, {'cep': '20090-004', 'logradouro': 'Avenida Rio Branco', 'complemento': 'de 47 a 65 - lado ímpar', 'bairro': 'Centro', 'localidade': 'Rio de Janeiro', 'uf': 'RJ', 'ibge': '3304557', 'gia': '', 'ddd': '21', 'siafi': '6001'}, {'cep': '20040-907', 'logradouro': 'Avenida Rio Branco', 'complemento': '118', 'bairro': 'Centro', 'localidade': 'Rio de Janeiro', 'uf': 'RJ', 'ibge': '3304557', 'gia': '', 'ddd': '21', 'siafi': '6001'}, {'cep': '20090-902', 'logradouro': 'Avenida Rio Branco', 'complemento': '25', 'bairro': 'Centro', 'localidade': 'Rio de Janeiro', 'uf': 'RJ', 'ibge': '3304557', 'gia': '', 'ddd': '21', 'siafi': '6001'}, {'cep': '20040-901', 'logradouro': 'Avenida Rio Branco', 'complemento': '156', 'bairro': 'Centro', 'localidade': 'Rio de Janeiro', 'uf': 'RJ', 'ibge': '3304557', 'gia': '', 'ddd': '21', 'siafi': '6001'}, {'cep': '20040-904', 'logradouro': 'Avenida Rio Branco', 'complemento': '277', 'bairro': 'Centro', 'localidade': 'Rio de Janeiro', 'uf': 'RJ', 'ibge': '3304557', 'gia': '', 'ddd': '21', 'siafi': '6001'}, {'cep': '20040-004', 'logradouro': 'Avenida Rio Branco', 'complemento': 'de 67 a 115 - lado ímpar', 'bairro': 'Centro', 'localidade': 'Rio de Janeiro', 'uf': 'RJ', 'ibge': '3304557', 'gia': '', 'ddd': '21', 'siafi': '6001'}, {'cep': '20040-920', 'logradouro': 'Avenida Rio Branco', 'complemento': '219', 'bairro': 'Centro', 'localidade': 'Rio de Janeiro', 'uf': 'RJ', 'ibge': '3304557', 'gia': '', 'ddd': '21', 'siafi': '6001'}, {'cep': '20040-008', 'logradouro': 'Avenida Rio Branco', 'complemento': 'de 187 a 219 - lado ímpar', 'bairro': 'Centro', 'localidade': 'Rio de Janeiro', 'uf': 'RJ', 'ibge': '3304557', 'gia': '', 'ddd': '21', 'siafi': '6001'}, {'cep': '20040-916', 'logradouro': 'Avenida Rio Branco', 'complemento': '124', 'bairro': 'Centro', 'localidade': 'Rio de Janeiro', 'uf': 'RJ', 'ibge': '3304557', 'gia': '', 'ddd': '21', 'siafi': '6001'}, {'cep': '20090-001', 'logradouro': 'Avenida Rio Branco', 'complemento': 'de 22 a 30 - lado par', 'bairro': 'Centro', 'localidade': 'Rio de Janeiro', 'uf': 'RJ', 'ibge': '3304557', 'gia': '', 'ddd': '21', 'siafi': '6001'}, {'cep': '20040-923', 'logradouro': 'Avenida Rio Branco', 'complemento': '85', 'bairro': 'Centro', 'localidade': 'Rio de Janeiro', 'uf': 'RJ', 'ibge': '3304557', 'gia': '', 'ddd': '21', 'siafi': '6001'}, {'cep': '20040-905', 'logradouro': 'Avenida Rio Branco', 'complemento': '123', 'bairro': 'Centro', 'localidade': 'Rio de Janeiro', 'uf': 'RJ', 'ibge': '3304557', 'gia': '', 'ddd': '21', 'siafi': '6001'}, {'cep': '20040-913', 'logradouro': 'Avenida Rio Branco', 'complemento': '91', 'bairro': 'Centro', 'localidade': 'Rio de Janeiro', 'uf': 'RJ', 'ibge': '3304557', 'gia': '', 'ddd': '21', 'siafi': '6001'}, {'cep': '20040-918', 'logradouro': 'Avenida Rio Branco', 'complemento': '181', 'bairro': 'Centro', 'localidade': 'Rio de Janeiro', 'uf': 'RJ', 'ibge': '3304557', 'gia': '', 'ddd': '21', 'siafi': '6001'}, {'cep': '20090-901', 'logradouro': 'Avenida Rio Branco', 'complemento': '57', 'bairro': 'Centro', 'localidade': 'Rio de Janeiro', 'uf': 'RJ', 'ibge': '3304557', 'gia': '', 'ddd': '21', 'siafi': '6001'}, {'cep': '20040-903', 'logradouro': 'Avenida Rio Branco', 'complemento': '311', 'bairro': 'Centro', 'localidade': 'Rio de Janeiro', 'uf': 'RJ', 'ibge': '3304557', 'gia': '', 'ddd': '21', 'siafi': '6001'}, {'cep': '21011-710', 'logradouro': 'Rua Barão do Rio Branco', 'complemento': '', 'bairro': 'Penha', 'localidade': 'Rio de Janeiro', 'uf': 'RJ', 'ibge': '3304557', 'gia': '', 'ddd': '21', 'siafi': '6001'}, {'cep': '20060-080', 'logradouro': 'Rua Visconde de Rio Branco', 'complemento': '', 'bairro': 'Centro', 'localidade': 'Rio de Janeiro', 'uf': 'RJ', 'ibge': '3304557', 'gia': '', 'ddd': '21', 'siafi': '6001'}]\n"
     ]
    }
   ],
   "source": [
    "# uf = 'RJ'\n",
    "# cidade = 'Rio de Janeiro'\n",
    "# endereço = 'Rio Branco'\n",
    "# link = 'https://viacep.com.br/ws/{uf}/{cidade}/{endereço}/json/'\n",
    "\n",
    "# requisicao = requests.get(link)\n",
    "# print(requisicao)\n",
    "\n",
    "# dic_requisicao = requisicao.json()\n",
    "# print(dic_requisicao)\n",
    "\n",
    "uf = 'RJ'\n",
    "cidade = \"Rio de Janeiro\"\n",
    "endereco = \"Rio Branco\"\n",
    "\n",
    "link = f'https://viacep.com.br/ws/{uf}/{cidade}/{endereco}/json/'\n",
    "\n",
    "requisicao = requests.get(link)\n",
    "print(requisicao)\n",
    "\n",
    "dic_requisicao = requisicao.json()\n",
    "print(dic_requisicao)\n"
   ]
  }
 ],
 "metadata": {
  "kernelspec": {
   "display_name": ".venv",
   "language": "python",
   "name": "python3"
  },
  "language_info": {
   "codemirror_mode": {
    "name": "ipython",
    "version": 3
   },
   "file_extension": ".py",
   "mimetype": "text/x-python",
   "name": "python",
   "nbconvert_exporter": "python",
   "pygments_lexer": "ipython3",
   "version": "3.11.4"
  }
 },
 "nbformat": 4,
 "nbformat_minor": 2
}
