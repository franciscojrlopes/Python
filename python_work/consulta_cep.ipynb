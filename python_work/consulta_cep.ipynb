{
 "cells": [
  {
   "cell_type": "markdown",
   "metadata": {},
   "source": [
    "Via CEP\n",
    "\n",
    "Consulta de Informações de um CEP\n",
    "\n",
    "https://viacep.com.br/\n"
   ]
  },
  {
   "cell_type": "code",
   "execution_count": 4,
   "metadata": {},
   "outputs": [
    {
     "name": "stdout",
     "output_type": "stream",
     "text": [
      "<Response [200]>\n",
      "{'cep': '20090-002', 'logradouro': 'Avenida Rio Branco', 'complemento': 'de 32 a 62 - lado par', 'bairro': 'Centro', 'localidade': 'Rio de Janeiro', 'uf': 'RJ', 'ibge': '3304557', 'gia': '', 'ddd': '21', 'siafi': '6001'}\n"
     ]
    }
   ],
   "source": [
    "import requests\n",
    "\n",
    "cep = '20090002'\n",
    "\n",
    "link = f'https://viacep.com.br/ws/{cep}/json/'\n",
    "\n",
    "requisicao = requests.get(link)\n",
    "print(requisicao)\n",
    "print(requisicao.json())\n"
   ]
  },
  {
   "cell_type": "code",
   "execution_count": 6,
   "metadata": {},
   "outputs": [
    {
     "name": "stdout",
     "output_type": "stream",
     "text": [
      "RJ Rio de Janeiro Centro\n"
     ]
    }
   ],
   "source": [
    "import requests\n",
    "\n",
    "cep = '20090002'\n",
    "\n",
    "link = f'https://viacep.com.br/ws/{cep}/json/'\n",
    "\n",
    "requisicao = requests.get(link)\n",
    "\n",
    "dic_requisicao = requisicao.json() \n",
    "\n",
    "uf = dic_requisicao['uf']\n",
    "cidade = dic_requisicao['localidade']\n",
    "bairro = dic_requisicao['bairro']\n",
    "print(uf, cidade, bairro )"
   ]
  },
  {
   "cell_type": "code",
   "execution_count": 7,
   "metadata": {},
   "outputs": [
    {
     "name": "stdout",
     "output_type": "stream",
     "text": [
      "Piraí Arrozal RJ\n"
     ]
    }
   ],
   "source": [
    "import requests\n",
    "\n",
    "cep = '27185000'\n",
    "link = f'https://viacep.com.br/ws/{cep}/json/'\n",
    "\n",
    "requisicao = requests.get(link)\n",
    "dic_requisicao = requisicao.json()\n",
    "\n",
    "uf = dic_requisicao['uf']\n",
    "cidade = dic_requisicao['localidade']\n",
    "bairro = dic_requisicao['bairro']\n",
    "\n",
    "print(cidade, bairro, uf)\n"
   ]
  },
  {
   "cell_type": "code",
   "execution_count": 12,
   "metadata": {},
   "outputs": [
    {
     "name": "stdout",
     "output_type": "stream",
     "text": [
      "{'cep': '27197-000', 'logradouro': '', 'complemento': '', 'bairro': '', 'localidade': 'Pinheiral', 'uf': 'RJ', 'ibge': '3303955', 'gia': '', 'ddd': '24', 'siafi': '0778'}\n",
      "Pinheiral RJ 24\n"
     ]
    }
   ],
   "source": [
    "import requests\n",
    "\n",
    "cep = '27197000'\n",
    "link = f'https://viacep.com.br/ws/{cep}/json/'\n",
    "\n",
    "requisicao = requests.get(link)\n",
    "dic_requisicao = requisicao.json()\n",
    "\n",
    "uf = dic_requisicao['uf']\n",
    "cidade = dic_requisicao['localidade']\n",
    "ddd = dic_requisicao['ddd']\n",
    "\n",
    "print(dic_requisicao)\n",
    "\n",
    "print(cidade, uf, ddd)"
   ]
  },
  {
   "cell_type": "code",
   "execution_count": 31,
   "metadata": {},
   "outputs": [
    {
     "name": "stdout",
     "output_type": "stream",
     "text": [
      "<Response [200]>\n",
      "Piraí Arrozal RJ\n"
     ]
    }
   ],
   "source": [
    "import requests\n",
    "\n",
    "cep = '27.185-000'\n",
    "cep = cep.replace('-', '').replace('.', '').replace('', '')\n",
    "\n",
    "if len(cep) == 8:\n",
    "\n",
    "    link = f'https://viacep.com.br/ws/{cep}/json/'\n",
    "\n",
    "    requisicao = requests.get(link)\n",
    "    print(requisicao)\n",
    "    dic_requisicao = requisicao.json()\n",
    "\n",
    "    uf = dic_requisicao['uf']\n",
    "    cidade = dic_requisicao['localidade']\n",
    "    bairro = dic_requisicao['bairro']\n",
    "    print(cidade, bairro, uf)\n",
    "else:\n",
    "    print('CEP Inválido!')\n"
   ]
  },
  {
   "cell_type": "code",
   "execution_count": null,
   "metadata": {},
   "outputs": [],
   "source": []
  }
 ],
 "metadata": {
  "kernelspec": {
   "display_name": ".venv",
   "language": "python",
   "name": "python3"
  },
  "language_info": {
   "codemirror_mode": {
    "name": "ipython",
    "version": 3
   },
   "file_extension": ".py",
   "mimetype": "text/x-python",
   "name": "python",
   "nbconvert_exporter": "python",
   "pygments_lexer": "ipython3",
   "version": "3.11.4"
  }
 },
 "nbformat": 4,
 "nbformat_minor": 2
}
