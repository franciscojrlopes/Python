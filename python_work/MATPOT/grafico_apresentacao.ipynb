{
 "cells": [
  {
   "cell_type": "code",
   "execution_count": null,
   "metadata": {},
   "outputs": [],
   "source": [
    "import matplotlib.pyplot as plt\n",
    "import numpy as np\n",
    "\n",
    "marcadores = np.where(vendas == np.min(vendas), 'x', '' )\n",
    "\n",
    "  \n",
    "meses = ['Jan', 'Fev', 'Mar', 'Abr', 'Mai', 'Jun', 'Jul', 'Ago', 'Set', 'Out', 'Nov', 'Dez']\n",
    "vendas = [85, 90, 78, 92, 88, 96, 94, 98, 100, 102, 105, 108]\n",
    "   \n",
    "plt.plot(meses, vendas)\n",
    "\n",
    "for posição, marcador in enumerate(marcadores):\n",
    "    if marcador == 'x': \n",
    "        cor= 'red'\n",
    "    else: \n",
    "        cor= 'blue'\n",
    "    plt.scatter(meses[posição], vendas[posição], marker=marcador, color=cor) \n",
    "\n",
    "\n",
    "\n",
    "plt.annotate('Menor valor', color='red', xy=(2,78), xytext=(3,80), arrowprops=dict(facecolor='red'))\n",
    "plt.xlabel('Mês')\n",
    "plt.ylabel('Vendas (em milhares)')\n",
    "plt.title('Crescimento das Vendas ao Longo do Ano')\n",
    "plt.show()"
   ]
  }
 ],
 "metadata": {
  "kernelspec": {
   "display_name": ".venv",
   "language": "python",
   "name": "python3"
  },
  "language_info": {
   "name": "python",
   "version": "3.11.4"
  }
 },
 "nbformat": 4,
 "nbformat_minor": 2
}
