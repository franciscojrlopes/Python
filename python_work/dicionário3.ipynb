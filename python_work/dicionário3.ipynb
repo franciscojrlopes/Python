{
 "cells": [
  {
   "cell_type": "code",
   "execution_count": 1,
   "metadata": {},
   "outputs": [
    {
     "name": "stdout",
     "output_type": "stream",
     "text": [
      "O produto mais vendido na categoria tecnologia foi: iphone.\n",
      "2450\n",
      "Vendemos 1000 Ipads.\n"
     ]
    }
   ],
   "source": [
    "mais_vendidos = {'tecnologia': 'iphone', 'refrigeracao': 'ar consul 12000 btu', 'livros': 'o alquimista', 'eletrodoméstico': 'geladeira', 'lazer': 'prancha surf'}\n",
    "\n",
    "vendas_tecnologia = {'iphone': 15000, 'samsung galaxy': 12000, 'tv samsung': 10000, 'ps5': 14300, 'tablet': 1720, 'ipad': 1000, 'tv philco': 2500, 'notebook hp': 1000, 'notebook dell': 17000, 'notebook asus': 2450}\n",
    "\n",
    "print('O produto mais vendido na categoria tecnologia foi: {}.'.format(mais_vendidos['tecnologia']))\n",
    "print(vendas_tecnologia.get('notebook asus'))\n",
    "print('Vendemos {} Ipads.'.format(vendas_tecnologia.get('ipad')))"
   ]
  },
  {
   "cell_type": "code",
   "execution_count": 3,
   "metadata": {},
   "outputs": [
    {
     "name": "stdout",
     "output_type": "stream",
     "text": [
      "{'Mochileiro das Galaxias', 'Dunas', 'StarWar', '20 mil Léguas Submarinas'}\n"
     ]
    }
   ],
   "source": [
    "livros_ficção = {'Dunas', 'StarWar', 'Mochileiro das Galaxias', '20 mil Léguas Submarinas'}\n",
    "print(livros_ficção)"
   ]
  }
 ],
 "metadata": {
  "kernelspec": {
   "display_name": ".venv",
   "language": "python",
   "name": "python3"
  },
  "language_info": {
   "codemirror_mode": {
    "name": "ipython",
    "version": 3
   },
   "file_extension": ".py",
   "mimetype": "text/x-python",
   "name": "python",
   "nbconvert_exporter": "python",
   "pygments_lexer": "ipython3",
   "version": "3.11.4"
  }
 },
 "nbformat": 4,
 "nbformat_minor": 2
}
