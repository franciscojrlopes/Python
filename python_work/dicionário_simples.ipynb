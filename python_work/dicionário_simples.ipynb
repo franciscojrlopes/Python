{
 "cells": [
  {
   "cell_type": "code",
   "execution_count": 3,
   "metadata": {},
   "outputs": [
    {
     "name": "stdout",
     "output_type": "stream",
     "text": [
      "green\n",
      "5\n"
     ]
    }
   ],
   "source": [
    "alienígena_0 = {'color': 'green', 'points': 5}\n",
    "print(alienígena_0['color'])\n",
    "print(alienígena_0['points'])"
   ]
  },
  {
   "cell_type": "markdown",
   "metadata": {},
   "source": [
    "Dicionário mais simples:\n",
    "\n",
    "{'cor': 'verde'} >>>>>> Chave"
   ]
  },
  {
   "cell_type": "code",
   "execution_count": 2,
   "metadata": {},
   "outputs": [
    {
     "name": "stdout",
     "output_type": "stream",
     "text": [
      "verde\n"
     ]
    }
   ],
   "source": [
    "alien_0 = {'cor': 'verde'}\n",
    "print(alien_0['cor'])"
   ]
  },
  {
   "cell_type": "code",
   "execution_count": 3,
   "metadata": {},
   "outputs": [
    {
     "name": "stdout",
     "output_type": "stream",
     "text": [
      "Você acabou de ganhar 5 pontos!\n"
     ]
    }
   ],
   "source": [
    "alienígena_0 = {'color': 'green', 'points': 5}\n",
    "novos_pontos = alienígena_0['points']\n",
    "print(f'Você acabou de ganhar {novos_pontos} pontos!')"
   ]
  },
  {
   "cell_type": "markdown",
   "metadata": {},
   "source": [
    "Adicionando Novos pares chave-valor:\n"
   ]
  },
  {
   "cell_type": "code",
   "execution_count": 5,
   "metadata": {},
   "outputs": [
    {
     "name": "stdout",
     "output_type": "stream",
     "text": [
      "{'color': 'green', 'points': 5}\n",
      "{'color': 'green', 'points': 5, 'x_position': 0, 'y_position': 25}\n"
     ]
    }
   ],
   "source": [
    "alienígena_0 = {'color': 'green', 'points': 5}\n",
    "print(alienígena_0)\n",
    "alienígena_0['x_position'] = 0\n",
    "alienígena_0['y_position'] = 25\n",
    "print(alienígena_0)"
   ]
  },
  {
   "cell_type": "markdown",
   "metadata": {},
   "source": [
    "Começando um novo dicionário: é conveniente começar com um dicionário vazio e aos poucos adicionar itens novos.\n"
   ]
  },
  {
   "cell_type": "code",
   "execution_count": 2,
   "metadata": {},
   "outputs": [
    {
     "name": "stdout",
     "output_type": "stream",
     "text": [
      "{'color': 'green', 'points': 5}\n"
     ]
    }
   ],
   "source": [
    "alien_0 = {}\n",
    "alien_0['color'] = 'green'\n",
    "alien_0['points'] = 5\n",
    "print(alien_0)"
   ]
  },
  {
   "cell_type": "markdown",
   "metadata": {},
   "source": [
    "Modificando valores en=m um dicionário:\n"
   ]
  },
  {
   "cell_type": "markdown",
   "metadata": {},
   "source": []
  },
  {
   "cell_type": "code",
   "execution_count": 5,
   "metadata": {},
   "outputs": [
    {
     "name": "stdout",
     "output_type": "stream",
     "text": [
      "The alien is green.\n",
      "The alien is now yellow.\n"
     ]
    }
   ],
   "source": [
    "alien_0 = {'color': 'green'}\n",
    "print(f'The alien is {alien_0[\"color\"]}.')\n",
    "\n",
    "alien_0['color'] = 'yellow'\n",
    "print(f'The alien is now {alien_0[\"color\"]}.')"
   ]
  },
  {
   "cell_type": "code",
   "execution_count": 8,
   "metadata": {},
   "outputs": [
    {
     "name": "stdout",
     "output_type": "stream",
     "text": [
      "{'cor': 'Cinza', 'pontos': 10}\n"
     ]
    }
   ],
   "source": [
    "alienígena_0 = {}\n",
    "alienígena_0['cor'] = 'Cinza'\n",
    "alienígena_0['pontos'] = 10\n",
    "print(alienígena_0)\n"
   ]
  },
  {
   "cell_type": "code",
   "execution_count": 9,
   "metadata": {},
   "outputs": [
    {
     "name": "stdout",
     "output_type": "stream",
     "text": [
      "O alienígena é verde.\n",
      "O alienígena agora é cinza\n"
     ]
    }
   ],
   "source": [
    "alienígena_0 = {'cor': 'verde'}\n",
    "print(f'O alienígena é {alienígena_0[\"cor\"]}.')\n",
    "\n",
    "alienígena_0['cor'] = 'cinza'\n",
    "print(f'O alienígena agora é {alienígena_0[\"cor\"]}')\n"
   ]
  },
  {
   "cell_type": "code",
   "execution_count": 16,
   "metadata": {},
   "outputs": [
    {
     "name": "stdout",
     "output_type": "stream",
     "text": [
      "Original position: 0.\n",
      "New position: 3.\n"
     ]
    }
   ],
   "source": [
    "alien_0 = {'x_position': 0, 'y_position': 25, 'speed': 'medium'}\n",
    "print(f'Original position: {alien_0[\"x_position\"]}.')\n",
    "# Deloca o alienígena para direita\n",
    "# Estipula a distância que o alienígena deve percorrer conform sua velocidade\n",
    "if alien_0['speed'] == 'slow':\n",
    "    x_increment = 1\n",
    "elif alien_0['speed'] == 'mediun':\n",
    "    x_increment = 2\n",
    "else:\n",
    "    # Com isso, o alienígena fica veloz \n",
    "    x_increment = 3\n",
    "# A posição nova é a posição antiga mais o incremento\n",
    "alien_0[\"x_position\"] = alien_0[\"x_position\"] + x_increment\n",
    "print(f'New position: {alien_0[\"x_position\"]}.')\n"
   ]
  }
 ],
 "metadata": {
  "kernelspec": {
   "display_name": ".venv",
   "language": "python",
   "name": "python3"
  },
  "language_info": {
   "codemirror_mode": {
    "name": "ipython",
    "version": 3
   },
   "file_extension": ".py",
   "mimetype": "text/x-python",
   "name": "python",
   "nbconvert_exporter": "python",
   "pygments_lexer": "ipython3",
   "version": "3.11.4"
  }
 },
 "nbformat": 4,
 "nbformat_minor": 2
}
