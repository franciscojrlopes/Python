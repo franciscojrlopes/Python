{
 "cells": [
  {
   "cell_type": "code",
   "execution_count": 1,
   "metadata": {},
   "outputs": [
    {
     "name": "stdout",
     "output_type": "stream",
     "text": [
      "My favorite pizzas are:\n",
      "- pepperoni\n",
      "- hawaiian\n",
      "- veggie\n",
      "- meat lover's\n",
      "\n",
      "My friend's favorite pizzas are:\n",
      "- pepperoni\n",
      "- hawaiian\n",
      "- veggie\n",
      "- pesto\n"
     ]
    }
   ],
   "source": [
    "favorite_pizzas = ['pepperoni', 'hawaiian', 'veggie']\n",
    "friend_pizzas = favorite_pizzas[:]\n",
    "\n",
    "favorite_pizzas.append(\"meat lover's\")\n",
    "friend_pizzas.append('pesto')\n",
    "\n",
    "print(\"My favorite pizzas are:\")\n",
    "for pizza in favorite_pizzas:\n",
    "    print(f\"- {pizza}\")\n",
    "\n",
    "print(\"\\nMy friend's favorite pizzas are:\")\n",
    "for pizza in friend_pizzas:\n",
    "    print(f\"- {pizza}\")"
   ]
  }
 ],
 "metadata": {
  "kernelspec": {
   "display_name": ".venv",
   "language": "python",
   "name": "python3"
  },
  "language_info": {
   "codemirror_mode": {
    "name": "ipython",
    "version": 3
   },
   "file_extension": ".py",
   "mimetype": "text/x-python",
   "name": "python",
   "nbconvert_exporter": "python",
   "pygments_lexer": "ipython3",
   "version": "3.11.4"
  }
 },
 "nbformat": 4,
 "nbformat_minor": 2
}
