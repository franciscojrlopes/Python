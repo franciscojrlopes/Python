{
 "cells": [
  {
   "cell_type": "code",
   "execution_count": null,
   "metadata": {},
   "outputs": [],
   "source": [
    "idade = 17\n",
    "if idade >= 18:\n",
    "    print('Você tem idade suficiente para votar!')\n",
    "    print('Você já se registrou para votar?')\n",
    "else:\n",
    "    print('Desculpe mas você é muito jovem para votar.')\n",
    "    print('')"
   ]
  },
  {
   "cell_type": "code",
   "execution_count": null,
   "metadata": {},
   "outputs": [],
   "source": []
  }
 ],
 "metadata": {
  "language_info": {
   "name": "python"
  }
 },
 "nbformat": 4,
 "nbformat_minor": 2
}
