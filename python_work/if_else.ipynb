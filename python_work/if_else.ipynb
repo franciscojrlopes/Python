{
 "cells": [
  {
   "cell_type": "code",
   "execution_count": 1,
   "metadata": {},
   "outputs": [
    {
     "name": "stdout",
     "output_type": "stream",
     "text": [
      "Desculpe mas você é muito jovem para votar.\n",
      "Por favor regitre-se para votar quando tiver 18.\n"
     ]
    }
   ],
   "source": [
    "idade = 17\n",
    "if idade >= 18:\n",
    "    print('Você tem idade suficiente para votar!')\n",
    "    print('Você já se registrou para votar?')\n",
    "else:\n",
    "    print('Desculpe mas você é muito jovem para votar.')\n",
    "    print('Por favor regitre-se para votar quando tiver 18.')"
   ]
  },
  {
   "cell_type": "code",
   "execution_count": null,
   "metadata": {},
   "outputs": [],
   "source": []
  }
 ],
 "metadata": {
  "kernelspec": {
   "display_name": ".venv",
   "language": "python",
   "name": "python3"
  },
  "language_info": {
   "codemirror_mode": {
    "name": "ipython",
    "version": 3
   },
   "file_extension": ".py",
   "mimetype": "text/x-python",
   "name": "python",
   "nbconvert_exporter": "python",
   "pygments_lexer": "ipython3",
   "version": "3.11.4"
  }
 },
 "nbformat": 4,
 "nbformat_minor": 2
}
