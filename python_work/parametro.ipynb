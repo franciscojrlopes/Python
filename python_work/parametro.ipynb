{
 "cells": [
  {
   "cell_type": "markdown",
   "metadata": {},
   "source": [
    " Argumentos/Parâmetros da Função\n",
    "\n",
    " Estrutura:\n",
    "\n",
    "\n",
    "\n",
    "    def minha_funcao(parametro1, parametro2, parametro3):\n",
    "          return parametro1 + parametro2 + parametro3\n",
    " \n",
    "Exemplo: nosso famoso print:\n"
   ]
  },
  {
   "cell_type": "code",
   "execution_count": 4,
   "metadata": {},
   "outputs": [
    {
     "name": "stdout",
     "output_type": "stream",
     "text": [
      "Coca Guaraná 50\n"
     ]
    }
   ],
   "source": [
    "vendas = 50\n",
    "print('Coca', 'Guaraná', vendas)"
   ]
  },
  {
   "cell_type": "code",
   "execution_count": 14,
   "metadata": {},
   "outputs": [
    {
     "name": "stdout",
     "output_type": "stream",
     "text": [
      "coca fanta guaraná\n"
     ]
    }
   ],
   "source": [
    "print('coca','fanta', 'guaraná')"
   ]
  },
  {
   "cell_type": "markdown",
   "metadata": {},
   "source": [
    "Mostrar o funcionamento de uma soma:\n"
   ]
  },
  {
   "cell_type": "code",
   "execution_count": 19,
   "metadata": {},
   "outputs": [
    {
     "name": "stdout",
     "output_type": "stream",
     "text": [
      "60\n"
     ]
    }
   ],
   "source": [
    "def minha_soma(num1, num2, num3):\n",
    "    return num1 + num2 + num3\n",
    "soma = minha_soma(10, 20 , 30)\n",
    "print(soma)"
   ]
  },
  {
   "cell_type": "code",
   "execution_count": 20,
   "metadata": {},
   "outputs": [
    {
     "name": "stdout",
     "output_type": "stream",
     "text": [
      "6000\n"
     ]
    }
   ],
   "source": [
    "def minha_soma(num1, num2, num3):\n",
    "    return num1 * num2 * num3\n",
    "soma = minha_soma(10, 20 , 30)\n",
    "print(soma)"
   ]
  },
  {
   "cell_type": "code",
   "execution_count": 21,
   "metadata": {},
   "outputs": [
    {
     "name": "stdout",
     "output_type": "stream",
     "text": [
      "0.016666666666666666\n"
     ]
    }
   ],
   "source": [
    "def minha_soma(num1, num2, num3):\n",
    "    return num1 / num2 / num3\n",
    "soma = minha_soma(10, 20 , 30)\n",
    "print(soma)"
   ]
  },
  {
   "cell_type": "code",
   "execution_count": 22,
   "metadata": {},
   "outputs": [
    {
     "name": "stdout",
     "output_type": "stream",
     "text": [
      "-40\n"
     ]
    }
   ],
   "source": [
    "def minha_soma(num1, num2, num3):\n",
    "    return num1 - num2 - num3\n",
    "soma = minha_soma(10, 20 , 30)\n",
    "print(soma)"
   ]
  },
  {
   "cell_type": "code",
   "execution_count": 23,
   "metadata": {},
   "outputs": [
    {
     "name": "stdout",
     "output_type": "stream",
     "text": [
      "0\n"
     ]
    }
   ],
   "source": [
    "# Variável dentro da function só existe na function.\n",
    "def minha_soma(num1, num2, num3):\n",
    "    return num1 + num2 - num3\n",
    "soma = minha_soma(10, 20 , 30)\n",
    "print(soma)"
   ]
  },
  {
   "cell_type": "code",
   "execution_count": null,
   "metadata": {},
   "outputs": [],
   "source": [
    "produtos = ['beb46275','TFA23962','TFA64715','TFA69555','TFA56743','BSA45510','TFA44968','CAR75448','CAR23596','CAR13490','BEB21365','BEB31623','BSA62419','BEB73344','TFA20079','BEB80694','BSA11769','BEB19495','TFA14792','TFA78043','BSA33484','BEB97471','BEB62362','TFA27311','TFA17715','BEB85146','BEB48898','BEB79496','CAR38417','TFA19947','TFA58799','CAR94811','BSA59251','BEB15385','BEB24213','BEB56262','BSA96915','CAR53454','BEB75073']\n"
   ]
  },
  {
   "cell_type": "markdown",
   "metadata": {},
   "source": [
    "Vamos criar uma function com parâmetro\n",
    "\n",
    "    Digamos que estamos criando um programa para categorizar os produtos de uma revendedora de bebidas.\n",
    "\n",
    "    Cada produto tem um código. O tipo de produto é dado pelas 3 primeiras letras do código.\n",
    " \n",
    "    Ex:\n",
    "    Vinho -> BEB12302\n",
    "    Cerveja -> BEB12043\n",
    "    Vodka -> BEB34501\n",
    "    \n",
    "    Guaraná -> BSA11104\n",
    "    Coca -> BSA54301\n",
    "    Sprite -> BSA34012\n",
    "    Água -> BSA09871\n",
    "\n",
    " \n",
    "    Repare que bebidas não alcóolicas começam com BSA e bebidas alcoolicas começam com BEB.\n",
    "   \n",
    "    Crie um programa que analise uma lista de produtos e envie instruções para a equipe de estoque dizendo quais produtos devem ser enviados para a área de bebidas alcóolicas."
   ]
  },
  {
   "cell_type": "code",
   "execution_count": 33,
   "metadata": {},
   "outputs": [
    {
     "name": "stdout",
     "output_type": "stream",
     "text": [
      "Enviar beb46275 para setor de bebidas alcóolicas.\n",
      "Enviar BEB21365 para setor de bebidas alcóolicas.\n",
      "Enviar BEB31623 para setor de bebidas alcóolicas.\n",
      "Enviar BEB73344 para setor de bebidas alcóolicas.\n",
      "Enviar BEB80694 para setor de bebidas alcóolicas.\n",
      "Enviar BEB19495 para setor de bebidas alcóolicas.\n",
      "Enviar BEB97471 para setor de bebidas alcóolicas.\n",
      "Enviar BEB62362 para setor de bebidas alcóolicas.\n",
      "Enviar BEB85146 para setor de bebidas alcóolicas.\n",
      "Enviar BEB48898 para setor de bebidas alcóolicas.\n",
      "Enviar BEB79496 para setor de bebidas alcóolicas.\n",
      "Enviar BEB15385 para setor de bebidas alcóolicas.\n",
      "Enviar BEB24213 para setor de bebidas alcóolicas.\n",
      "Enviar BEB56262 para setor de bebidas alcóolicas.\n",
      "Enviar BEB75073 para setor de bebidas alcóolicas.\n"
     ]
    }
   ],
   "source": [
    "# percorrer toda minha lista de produtos;\n",
    "# para cada produto, verificar se ele é bebida alcoólica;\n",
    "# se for bebida alcoólica exibir a mensagem: enviar..........\n",
    "def ehalcoolico(bebida):\n",
    "    bebida = bebida.upper()\n",
    "    if 'BEB' in bebida:\n",
    "        return True\n",
    "    else:\n",
    "        return False\n",
    "\n",
    "\n",
    "produtos = ['beb46275','TFA23962','TFA64715','TFA69555','TFA56743','BSA45510','TFA44968','CAR75448','CAR23596','CAR13490','BEB21365','BEB31623','BSA62419','BEB73344','TFA20079','BEB80694','BSA11769','BEB19495','TFA14792','TFA78043','BSA33484','BEB97471','BEB62362','TFA27311','TFA17715','BEB85146','BEB48898','BEB79496','CAR38417','TFA19947','TFA58799','CAR94811','BSA59251','BEB15385','BEB24213','BEB56262','BSA96915','CAR53454','BEB75073']\n",
    "\n",
    "for produto in produtos:\n",
    "        if ehalcoolico(produto):\n",
    "            print('Enviar {} para setor de bebidas alcóolicas.'.format(produto))"
   ]
  },
  {
   "cell_type": "code",
   "execution_count": 8,
   "metadata": {},
   "outputs": [
    {
     "name": "stdout",
     "output_type": "stream",
     "text": [
      "Enviar beb46275 para setor de bebidas alcóolicas.\n",
      "Enviar BSA45510 para setor de bebidas não alcóolicas.\n",
      "Enviar BEB21365 para setor de bebidas alcóolicas.\n",
      "Enviar BEB31623 para setor de bebidas alcóolicas.\n",
      "Enviar BSA62419 para setor de bebidas não alcóolicas.\n",
      "Enviar BEB73344 para setor de bebidas alcóolicas.\n",
      "Enviar BEB80694 para setor de bebidas alcóolicas.\n",
      "Enviar BSA11769 para setor de bebidas não alcóolicas.\n",
      "Enviar BEB19495 para setor de bebidas alcóolicas.\n",
      "Enviar BSA33484 para setor de bebidas não alcóolicas.\n",
      "Enviar BEB97471 para setor de bebidas alcóolicas.\n",
      "Enviar BEB62362 para setor de bebidas alcóolicas.\n",
      "Enviar BEB85146 para setor de bebidas alcóolicas.\n",
      "Enviar BEB48898 para setor de bebidas alcóolicas.\n",
      "Enviar BEB79496 para setor de bebidas alcóolicas.\n",
      "Enviar BSA59251 para setor de bebidas não alcóolicas.\n",
      "Enviar BEB15385 para setor de bebidas alcóolicas.\n",
      "Enviar BEB24213 para setor de bebidas alcóolicas.\n",
      "Enviar BEB56262 para setor de bebidas alcóolicas.\n",
      "Enviar BSA96915 para setor de bebidas não alcóolicas.\n",
      "Enviar BEB75073 para setor de bebidas alcóolicas.\n"
     ]
    }
   ],
   "source": [
    "def eh_dacategoria(bebida, codigo_categoria):\n",
    "    bebida = bebida.upper()\n",
    "    if codigo_categoria in bebida:\n",
    "        return True\n",
    "    else:\n",
    "        return False\n",
    "\n",
    "\n",
    "produtos = ['beb46275','TFA23962','TFA64715','TFA69555','TFA56743','BSA45510','TFA44968','CAR75448','CAR23596','CAR13490','BEB21365','BEB31623','BSA62419','BEB73344','TFA20079','BEB80694','BSA11769','BEB19495','TFA14792','TFA78043','BSA33484','BEB97471','BEB62362','TFA27311','TFA17715','BEB85146','BEB48898','BEB79496','CAR38417','TFA19947','TFA58799','CAR94811','BSA59251','BEB15385','BEB24213','BEB56262','BSA96915','CAR53454','BEB75073']\n",
    "\n",
    "for produto in produtos:\n",
    "        if eh_dacategoria(produto, 'BEB'):\n",
    "            print('Enviar {} para setor de bebidas alcóolicas.'.format(produto))\n",
    "        elif eh_dacategoria(produto, 'BSA'):\n",
    "            print('Enviar {} para setor de bebidas não alcóolicas.'.format(produto)) "
   ]
  },
  {
   "cell_type": "code",
   "execution_count": 40,
   "metadata": {},
   "outputs": [
    {
     "name": "stdout",
     "output_type": "stream",
     "text": [
      "Enviar beb46275 para setor de bebidas alcóolicas.\n",
      "Enviar BSA45510 para setor de bebidas não alcóolicas.\n",
      "Enviar BEB21365 para setor de bebidas alcóolicas.\n",
      "Enviar BEB31623 para setor de bebidas alcóolicas.\n",
      "Enviar BSA62419 para setor de bebidas não alcóolicas.\n",
      "Enviar BEB73344 para setor de bebidas alcóolicas.\n",
      "Enviar BEB80694 para setor de bebidas alcóolicas.\n",
      "Enviar BSA11769 para setor de bebidas não alcóolicas.\n",
      "Enviar BEB19495 para setor de bebidas alcóolicas.\n",
      "Enviar BSA33484 para setor de bebidas não alcóolicas.\n",
      "Enviar BEB97471 para setor de bebidas alcóolicas.\n",
      "Enviar BEB62362 para setor de bebidas alcóolicas.\n",
      "Enviar BEB85146 para setor de bebidas alcóolicas.\n",
      "Enviar BEB48898 para setor de bebidas alcóolicas.\n",
      "Enviar BEB79496 para setor de bebidas alcóolicas.\n",
      "Enviar BSA59251 para setor de bebidas não alcóolicas.\n",
      "Enviar BEB15385 para setor de bebidas alcóolicas.\n",
      "Enviar BEB24213 para setor de bebidas alcóolicas.\n",
      "Enviar BEB56262 para setor de bebidas alcóolicas.\n",
      "Enviar BSA96915 para setor de bebidas não alcóolicas.\n",
      "Enviar BEB75073 para setor de bebidas alcóolicas.\n"
     ]
    }
   ],
   "source": [
    "def eh_dacategoria(bebida, codigo_categoria):\n",
    "    bebida = bebida.upper()\n",
    "    if codigo_categoria in bebida:\n",
    "        return True\n",
    "    else:\n",
    "        return False\n",
    "\n",
    "\n",
    "produtos = ['beb46275','TFA23962','TFA64715','TFA69555','TFA56743','BSA45510','TFA44968','CAR75448','CAR23596','CAR13490','BEB21365','BEB31623','BSA62419','BEB73344','TFA20079','BEB80694','BSA11769','BEB19495','TFA14792','TFA78043','BSA33484','BEB97471','BEB62362','TFA27311','TFA17715','BEB85146','BEB48898','BEB79496','CAR38417','TFA19947','TFA58799','CAR94811','BSA59251','BEB15385','BEB24213','BEB56262','BSA96915','CAR53454','BEB75073']\n",
    "\n",
    "for produto in produtos:\n",
    "        # Com o nome do argumento:\n",
    "        #'Todos os argumentos para frente terão palavra chave'\n",
    "        if eh_dacategoria(codigo_categoria ='BEB', bebida = produto, ):\n",
    "            print('Enviar {} para setor de bebidas alcóolicas.'.format(produto))\n",
    "        elif eh_dacategoria(produto, 'BSA'):\n",
    "            print('Enviar {} para setor de bebidas não alcóolicas.'.format(produto)) "
   ]
  },
  {
   "cell_type": "code",
   "execution_count": 9,
   "metadata": {},
   "outputs": [
    {
     "name": "stdout",
     "output_type": "stream",
     "text": [
      "['beb46275', 'TFA23962', 'TFA64715', 'TFA69555', 'TFA56743', 'BSA45510', 'TFA44968', 'CAR75448', 'CAR23596', 'CAR13490', 'BEB21365', 'BEB31623', 'BSA62419', 'BEB73344', 'TFA20079', 'BEB80694', 'BSA11769', 'BEB19495', 'TFA14792', 'TFA78043', 'BSA33484', 'BEB97471', 'BEB62362', 'TFA27311', 'TFA17715', 'BEB85146', 'BEB48898', 'BEB79496', 'CAR38417', 'TFA19947', 'TFA58799', 'CAR94811', 'BSA59251', 'BEB15385', 'BEB24213', 'BEB56262', 'BSA96915', 'CAR53454', 'BEB75073']\n"
     ]
    }
   ],
   "source": [
    "produtos = ['beb46275','TFA23962','TFA64715','TFA69555','TFA56743','BSA45510','TFA44968','CAR75448','CAR23596','CAR13490','BEB21365','BEB31623','BSA62419','BEB73344','TFA20079','BEB80694','BSA11769','BEB19495','TFA14792','TFA78043','BSA33484','BEB97471','BEB62362','TFA27311','TFA17715','BEB85146','BEB48898','BEB79496','CAR38417','TFA19947','TFA58799','CAR94811','BSA59251','BEB15385','BEB24213','BEB56262','BSA96915','CAR53454','BEB75073']\n",
    "\n",
    "print(produtos)"
   ]
  },
  {
   "cell_type": "code",
   "execution_count": 10,
   "metadata": {},
   "outputs": [
    {
     "name": "stdout",
     "output_type": "stream",
     "text": [
      "Meus produtos são: ['beb46275', 'TFA23962', 'TFA64715', 'TFA69555', 'TFA56743', 'BSA45510', 'TFA44968', 'CAR75448', 'CAR23596', 'CAR13490', 'BEB21365', 'BEB31623', 'BSA62419', 'BEB73344', 'TFA20079', 'BEB80694', 'BSA11769', 'BEB19495', 'TFA14792', 'TFA78043', 'BSA33484', 'BEB97471', 'BEB62362', 'TFA27311', 'TFA17715', 'BEB85146', 'BEB48898', 'BEB79496', 'CAR38417', 'TFA19947', 'TFA58799', 'CAR94811', 'BSA59251', 'BEB15385', 'BEB24213', 'BEB56262', 'BSA96915', 'CAR53454', 'BEB75073']\n"
     ]
    }
   ],
   "source": [
    "print('Meus produtos são:', produtos)"
   ]
  },
  {
   "cell_type": "code",
   "execution_count": 11,
   "metadata": {},
   "outputs": [
    {
     "name": "stdout",
     "output_type": "stream",
     "text": [
      "Quantidade total de produtos:\n",
      "39\n"
     ]
    }
   ],
   "source": [
    "\n",
    "# \\n = enter sempre no final....\n",
    "qtde_produtos = len(produtos)\n",
    "print('Quantidade total de produtos:', qtde_produtos, sep= '\\n')"
   ]
  },
  {
   "cell_type": "code",
   "execution_count": 12,
   "metadata": {},
   "outputs": [
    {
     "name": "stdout",
     "output_type": "stream",
     "text": [
      "Quantidade total de produtos:\n",
      "39\n"
     ]
    }
   ],
   "source": [
    "\n",
    "# \\n = enter sempre no final....\n",
    "qtde_produtos = len(produtos)\n",
    "print('Quantidade total de produtos:', qtde_produtos, sep= '\\n')"
   ]
  },
  {
   "cell_type": "code",
   "execution_count": 13,
   "metadata": {},
   "outputs": [
    {
     "name": "stdout",
     "output_type": "stream",
     "text": [
      "Quantidade de produtos na lista:\n",
      "4\n"
     ]
    }
   ],
   "source": [
    "lista = ['água', 'café', 'esponja', 'detergente']\n",
    "qtde_lista = len(lista)\n",
    "print('Quantidade de produtos na lista:', qtde_lista, sep= '\\n')"
   ]
  },
  {
   "cell_type": "code",
   "execution_count": null,
   "metadata": {},
   "outputs": [],
   "source": [
    "vendas_ano = [100, 200, 50, 90, 240, 300, 35, 10, 789, 60]\n",
    "vendas_novdez = [500, 1555]\n",
    "\n",
    "vendas_ano.extend(vendas_novdez)\n",
    "print(vendas_ano)\n",
    "# Acrescentou o 500 e 1555..... um parâmetro interble..........\n",
    "if eh_dacategoria()"
   ]
  }
 ],
 "metadata": {
  "kernelspec": {
   "display_name": ".venv",
   "language": "python",
   "name": "python3"
  },
  "language_info": {
   "codemirror_mode": {
    "name": "ipython",
    "version": 3
   },
   "file_extension": ".py",
   "mimetype": "text/x-python",
   "name": "python",
   "nbconvert_exporter": "python",
   "pygments_lexer": "ipython3",
   "version": "3.11.4"
  }
 },
 "nbformat": 4,
 "nbformat_minor": 2
}
