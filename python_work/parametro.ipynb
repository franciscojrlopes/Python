{
 "cells": [
  {
   "cell_type": "markdown",
   "metadata": {},
   "source": [
    " Argumentos/Parâmetros da Função\n",
    "\n",
    " Estrutura:\n",
    "\n",
    "\n",
    "\n",
    "    def minha_funcao(parametro1, parametro2, parametro3):\n",
    "          return parametro1 + parametro2 + parametro3\n",
    " \n",
    "Exemplo: nosso famoso print:\n"
   ]
  },
  {
   "cell_type": "code",
   "execution_count": null,
   "metadata": {},
   "outputs": [],
   "source": []
  }
 ],
 "metadata": {
  "language_info": {
   "name": "python"
  }
 },
 "nbformat": 4,
 "nbformat_minor": 2
}
