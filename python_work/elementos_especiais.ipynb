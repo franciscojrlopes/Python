{
 "cells": [
  {
   "cell_type": "markdown",
   "metadata": {},
   "source": [
    "Exemplo da Pizzaria:\n",
    "\n",
    "A Pizaria exibe uma mensagem sempre que um ingrediente é adicionado a uma pizza enquanto está sendo preprada. Podemos escrever o código que executa está ação com eficiência criando uma lista de ingredientes solicitados peo cliente, com um loop pra informar cada ingrediente conforme adicionado a pizza. "
   ]
  },
  {
   "cell_type": "code",
   "execution_count": 6,
   "metadata": {},
   "outputs": [
    {
     "name": "stdout",
     "output_type": "stream",
     "text": [
      "Adicione cogumelos.\n",
      "Adicione pimentão verde.\n",
      "Adicione queijo extra.\n",
      "\n",
      "Finalizado, fazendo sua pizza!\n"
     ]
    }
   ],
   "source": [
    "coberturas_solicitadas = ['cogumelos', 'pimentão verde', 'queijo extra']\n",
    "\n",
    "for cobertura_solicitada in coberturas_solicitadas:\n",
    "    print(f'Adicione {cobertura_solicitada}.')\n",
    "print('\\nFinalizado, fazendo sua pizza!')\n"
   ]
  }
 ],
 "metadata": {
  "kernelspec": {
   "display_name": ".venv",
   "language": "python",
   "name": "python3"
  },
  "language_info": {
   "codemirror_mode": {
    "name": "ipython",
    "version": 3
   },
   "file_extension": ".py",
   "mimetype": "text/x-python",
   "name": "python",
   "nbconvert_exporter": "python",
   "pygments_lexer": "ipython3",
   "version": "3.11.4"
  }
 },
 "nbformat": 4,
 "nbformat_minor": 2
}
