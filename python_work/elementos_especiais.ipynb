{
 "cells": [
  {
   "cell_type": "markdown",
   "metadata": {},
   "source": [
    "Exemplo da Pizzaria:\n",
    "\n",
    "A Pizaria exibe uma mensagem sempre que um ingrediente é adicionado a uma pizza enquanto está sendo preprada. Podemos escrever o código que executa está ação com eficiência criando uma lista de ingredientes solicitados peo cliente, com um loop pra informar cada ingrediente conforme adicionado a pizza. "
   ]
  },
  {
   "cell_type": "code",
   "execution_count": 6,
   "metadata": {},
   "outputs": [
    {
     "name": "stdout",
     "output_type": "stream",
     "text": [
      "Adicione cogumelos.\n",
      "Adicione pimentão verde.\n",
      "Adicione queijo extra.\n",
      "\n",
      "Finalizado, fazendo sua pizza!\n"
     ]
    }
   ],
   "source": [
    "coberturas_solicitadas = ['cogumelos', 'pimentão verde', 'queijo extra']\n",
    "\n",
    "for cobertura_solicitada in coberturas_solicitadas:\n",
    "    print(f'Adicione {cobertura_solicitada}.')\n",
    "print('\\nFinalizado, fazendo sua pizza!')\n"
   ]
  },
  {
   "cell_type": "markdown",
   "metadata": {},
   "source": [
    "^ A saída é simples porque esse código usa um singelo loop for.\n",
    "\n",
    "Mas, e se a Pizzaria ficar sem pimentão verde? Uma instrução if dentro do loop for pode lidar com essa situação de forma adequada:"
   ]
  },
  {
   "cell_type": "code",
   "execution_count": 7,
   "metadata": {},
   "outputs": [
    {
     "name": "stdout",
     "output_type": "stream",
     "text": [
      "Adicionando cogumelos.\n",
      "Desculpe, nós estamos sem pimentão verde neste momento.\n",
      "Adicionando queijo extra.\n",
      "\n",
      "Finalizado o pedido, fazendo sua pizza!\n"
     ]
    }
   ],
   "source": [
    "coberturas_solicitadas = ['cogumelos', 'pimentão verde', 'queijo extra']\n",
    "\n",
    "for cobertura_solicitada in coberturas_solicitadas:\n",
    "    if cobertura_solicitada == 'pimentão verde':\n",
    "        print('Desculpe, nós estamos sem pimentão verde neste momento.')\n",
    "\n",
    "    else:\n",
    "        print(f'Adicionando {cobertura_solicitada}.')\n",
    "    \n",
    "print('\\nFinalizado o pedido, fazendo sua pizza!')"
   ]
  }
 ],
 "metadata": {
  "kernelspec": {
   "display_name": ".venv",
   "language": "python",
   "name": "python3"
  },
  "language_info": {
   "codemirror_mode": {
    "name": "ipython",
    "version": 3
   },
   "file_extension": ".py",
   "mimetype": "text/x-python",
   "name": "python",
   "nbconvert_exporter": "python",
   "pygments_lexer": "ipython3",
   "version": "3.11.4"
  }
 },
 "nbformat": 4,
 "nbformat_minor": 2
}
