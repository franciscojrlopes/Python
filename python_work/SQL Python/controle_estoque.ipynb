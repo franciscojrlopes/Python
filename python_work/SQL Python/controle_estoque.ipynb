{
 "cells": [
  {
   "cell_type": "code",
   "execution_count": 1,
   "metadata": {},
   "outputs": [],
   "source": [
    "######## funcionalidades do sistema #############\\n\",\n",
    "    \n",
    "def adicionar_insumo():\n",
    "    print(caixa_texto.get('1.0', END))\n",
    "    print(nome_insumo.get())\n",
    "    print(data_insumo.get())\n",
    "    print(lote_insumo.get())\n",
    "    print(qtde_insumo.get())\n",
    "   \n",
    "# deletar tudo da caixa de texto\\n\",\n",
    "    caixa_texto.delete(\"1.0\", END)\n",
    " \n",
    "# escrever na caixa de texto\\n\",\n",
    "    caixa_texto.insert(\"1.0\",\"Texto\")\n",
    "\n",
    "def deletar_insumo():\n",
    "    print(\"deletar_insumo\")\n",
    "\n",
    "def consumir_insumo():\n",
    "    print(\"consumir_insumo\")\n",
    " \n",
    "def visualizar_insumo():\n",
    "    print(\"visualizar_insumo\")\n",
    "    "
   ]
  }
 ],
 "metadata": {
  "kernelspec": {
   "display_name": ".venv",
   "language": "python",
   "name": "python3"
  },
  "language_info": {
   "codemirror_mode": {
    "name": "ipython",
    "version": 3
   },
   "file_extension": ".py",
   "mimetype": "text/x-python",
   "name": "python",
   "nbconvert_exporter": "python",
   "pygments_lexer": "ipython3",
   "version": "3.11.4"
  }
 },
 "nbformat": 4,
 "nbformat_minor": 2
}
