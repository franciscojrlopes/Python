{
 "cells": [
  {
   "cell_type": "code",
   "execution_count": 1,
   "metadata": {},
   "outputs": [
    {
     "name": "stdout",
     "output_type": "stream",
     "text": [
      "Aprendendo Python do jeito simples....\n",
      "Aprendendo Python do jeito simples....\n",
      "Aprendendo Python do jeito simples....\n",
      "Aprendendo Python do jeito simples....\n",
      "Aprendendo Python do jeito simples....\n",
      "Aprendendo Python do jeito simples....\n",
      "Aprendendo Python do jeito simples....\n",
      "Aprendendo Python do jeito simples....\n",
      "Aprendendo Python do jeito simples....\n",
      "Aprendendo Python do jeito simples....\n",
      "Aprendendo Python do jeito simples....\n",
      "Aprendendo Python do jeito simples....\n",
      "Aprendendo Python do jeito simples....\n",
      "Aprendendo Python do jeito simples....\n",
      "Aprendendo Python do jeito simples....\n",
      "Aprendendo Python do jeito simples....\n",
      "Aprendendo Python do jeito simples....\n",
      "Aprendendo Python do jeito simples....\n",
      "Aprendendo Python do jeito simples....\n",
      "Aprendendo Python do jeito simples....\n"
     ]
    }
   ],
   "source": [
    "for x in range(20):\n",
    "    print('Aprendendo Python do jeito simples....')"
   ]
  },
  {
   "cell_type": "code",
   "execution_count": 1,
   "metadata": {},
   "outputs": [
    {
     "name": "stdout",
     "output_type": "stream",
     "text": [
      "Vou operar e ganharrrrrrrrrrrrrrrrrrrr....\n",
      "Vou operar e ganharrrrrrrrrrrrrrrrrrrr....\n",
      "Vou operar e ganharrrrrrrrrrrrrrrrrrrr....\n",
      "Vou operar e ganharrrrrrrrrrrrrrrrrrrr....\n",
      "Vou operar e ganharrrrrrrrrrrrrrrrrrrr....\n",
      "Vou operar e ganharrrrrrrrrrrrrrrrrrrr....\n",
      "Vou operar e ganharrrrrrrrrrrrrrrrrrrr....\n",
      "Vou operar e ganharrrrrrrrrrrrrrrrrrrr....\n",
      "Vou operar e ganharrrrrrrrrrrrrrrrrrrr....\n",
      "Vou operar e ganharrrrrrrrrrrrrrrrrrrr....\n",
      "Vou operar e ganharrrrrrrrrrrrrrrrrrrr....\n",
      "Vou operar e ganharrrrrrrrrrrrrrrrrrrr....\n",
      "Vou operar e ganharrrrrrrrrrrrrrrrrrrr....\n",
      "Vou operar e ganharrrrrrrrrrrrrrrrrrrr....\n",
      "Vou operar e ganharrrrrrrrrrrrrrrrrrrr....\n",
      "Vou operar e ganharrrrrrrrrrrrrrrrrrrr....\n",
      "Vou operar e ganharrrrrrrrrrrrrrrrrrrr....\n",
      "Vou operar e ganharrrrrrrrrrrrrrrrrrrr....\n",
      "Vou operar e ganharrrrrrrrrrrrrrrrrrrr....\n",
      "Vou operar e ganharrrrrrrrrrrrrrrrrrrr....\n"
     ]
    }
   ],
   "source": [
    "for x in range(20):\n",
    "    print('Vou operar e ganharrrrrrrrrrrrrrrrrrrr....')"
   ]
  }
 ],
 "metadata": {
  "kernelspec": {
   "display_name": ".venv",
   "language": "python",
   "name": "python3"
  },
  "language_info": {
   "codemirror_mode": {
    "name": "ipython",
    "version": 3
   },
   "file_extension": ".py",
   "mimetype": "text/x-python",
   "name": "python",
   "nbconvert_exporter": "python",
   "pygments_lexer": "ipython3",
   "version": "3.11.4"
  }
 },
 "nbformat": 4,
 "nbformat_minor": 2
}
