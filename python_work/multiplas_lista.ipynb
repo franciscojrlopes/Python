{
 "cells": [
  {
   "cell_type": "markdown",
   "metadata": {},
   "source": [
    "MULTIPLAS LISTAS:"
   ]
  },
  {
   "cell_type": "code",
   "execution_count": 9,
   "metadata": {},
   "outputs": [
    {
     "name": "stdout",
     "output_type": "stream",
     "text": [
      "Adicione cogumelos.\n",
      "Adicione queijo extra.\n",
      "Desculpe, nós não temos queijo extra.\n",
      "\n",
      "Finalizando pedido, fazendo sua pizza!\n"
     ]
    }
   ],
   "source": [
    "coberturas_disponíveis = ['cogumelos', 'azeitona', 'pimentões verdes', 'peperoni', 'abacaxi', 'queijo extra']\n",
    "\n",
    "coberturas_solicitadas = ['cogumelos', 'batata frita', 'queijo extra']\n",
    "\n",
    "for cobertura_solicitada in coberturas_solicitadas:\n",
    "    if cobertura_solicitada in coberturas_disponíveis:\n",
    "        print(f'Adicione {cobertura_solicitada}.')\n",
    "else:\n",
    "    print(f'Desculpe, nós não temos {cobertura_solicitada}.')\n",
    "\n",
    "print(f'\\nFinalizando pedido, fazendo sua pizza!')"
   ]
  },
  {
   "cell_type": "code",
   "execution_count": 11,
   "metadata": {},
   "outputs": [
    {
     "name": "stdout",
     "output_type": "stream",
     "text": [
      "apple\n",
      "banana\n",
      "cherry\n"
     ]
    }
   ],
   "source": [
    "fruits = [\"apple\", \"banana\", \"cherry\"]\n",
    "for x in fruits:\n",
    "  print(x)"
   ]
  }
 ],
 "metadata": {
  "kernelspec": {
   "display_name": ".venv",
   "language": "python",
   "name": "python3"
  },
  "language_info": {
   "codemirror_mode": {
    "name": "ipython",
    "version": 3
   },
   "file_extension": ".py",
   "mimetype": "text/x-python",
   "name": "python",
   "nbconvert_exporter": "python",
   "pygments_lexer": "ipython3",
   "version": "3.11.4"
  }
 },
 "nbformat": 4,
 "nbformat_minor": 2
}
