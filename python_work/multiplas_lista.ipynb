{
 "cells": [
  {
   "cell_type": "code",
   "execution_count": null,
   "metadata": {},
   "outputs": [],
   "source": [
    "coberturas_disponíveis = ['cogumelos', 'azeitona', 'pimentões verdes', 'peperoni', 'abacaxi', 'queijo extra']\n",
    "\n"
   ]
  }
 ],
 "metadata": {
  "language_info": {
   "name": "python"
  }
 },
 "nbformat": 4,
 "nbformat_minor": 2
}
