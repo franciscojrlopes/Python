{
 "cells": [
  {
   "cell_type": "markdown",
   "metadata": {},
   "source": [
    "EXEMPLO DE FUNCTION:"
   ]
  },
  {
   "cell_type": "code",
   "execution_count": 1,
   "metadata": {},
   "outputs": [
    {
     "name": "stdout",
     "output_type": "stream",
     "text": [
      "[10, 15, 25, 30, 112, 150]\n"
     ]
    }
   ],
   "source": [
    "lista = [ 15, 10, 30, 25, 150, 112]\n",
    "print(sorted(lista))\n"
   ]
  },
  {
   "cell_type": "markdown",
   "metadata": {},
   "source": [
    "Function Python\n",
    "   \n",
    " O que é?\n",
    "   \n",
    "    \"As functions são blocos de código que servem 1 único propósito, fazem uma ação específica.\\n\",\n",
    "    \n",
    "    Estrutura Básica\n",
    " \n",
    "    def nome_funcao():\n",
    "    faça alguma coisa\n",
    "    faça outra coisa\n",
    "    return valor_final\n",
    "   \n",
    "   \n",
    "   Exemplo: vamos criar uma função de cadastro de um Produto. Essa função deve garantir que o produto cadastrado está em letra minúscula."
   ]
  },
  {
   "cell_type": "code",
   "execution_count": 3,
   "metadata": {},
   "outputs": [
    {
     "name": "stdout",
     "output_type": "stream",
     "text": [
      "Produto jaca cadastrado com sucesso.\n"
     ]
    }
   ],
   "source": [
    "#def nome_função():\n",
    "produto = input('Digite nome do produto:')\n",
    "produto = produto.lower()\n",
    "print('Produto {} cadastrado com sucesso.'.format(produto))\n"
   ]
  },
  {
   "cell_type": "code",
   "execution_count": 4,
   "metadata": {},
   "outputs": [
    {
     "name": "stdout",
     "output_type": "stream",
     "text": [
      "Produto JACA cadastrado com sucesso.\n"
     ]
    }
   ],
   "source": [
    "produto = input('Digite nome do produto:')\n",
    "produto = produto.upper()\n",
    "print('Produto {} cadastrado com sucesso.'.format(produto))\n"
   ]
  },
  {
   "cell_type": "code",
   "execution_count": 1,
   "metadata": {},
   "outputs": [],
   "source": [
    "def cadastrar_produto():\n",
    "    produto = input('Digite nome do produto que deseja cadastrar:')\n",
    "    produto = produto.lower()\n",
    "    print('Produto {} cadastrado com sucesso.'.format(produto))\n",
    "\n",
    "\n"
   ]
  },
  {
   "cell_type": "code",
   "execution_count": 2,
   "metadata": {},
   "outputs": [
    {
     "name": "stdout",
     "output_type": "stream",
     "text": [
      "Produto feijão cadastrado com sucesso.\n"
     ]
    }
   ],
   "source": [
    "cadastrar_produto()"
   ]
  },
  {
   "cell_type": "code",
   "execution_count": 13,
   "metadata": {},
   "outputs": [],
   "source": [
    "def cadastrar_produto():\n",
    "    produto = input('Digite nome do produto que deseja cadastrar:')\n",
    "    produto = produto.lower()\n",
    "    print('Produto {} cadastrado com sucesso.'.format(produto))\n"
   ]
  },
  {
   "cell_type": "code",
   "execution_count": 14,
   "metadata": {},
   "outputs": [
    {
     "name": "stdout",
     "output_type": "stream",
     "text": [
      "Produto arroz cadastrado com sucesso.\n",
      "Produto feiã cadastrado com sucesso.\n",
      "Produto canela cadastrado com sucesso.\n"
     ]
    }
   ],
   "source": [
    "for i in range(3):\n",
    "    cadastrar_produto()"
   ]
  }
 ],
 "metadata": {
  "kernelspec": {
   "display_name": ".venv",
   "language": "python",
   "name": "python3"
  },
  "language_info": {
   "codemirror_mode": {
    "name": "ipython",
    "version": 3
   },
   "file_extension": ".py",
   "mimetype": "text/x-python",
   "name": "python",
   "nbconvert_exporter": "python",
   "pygments_lexer": "ipython3",
   "version": "3.11.4"
  }
 },
 "nbformat": 4,
 "nbformat_minor": 2
}
