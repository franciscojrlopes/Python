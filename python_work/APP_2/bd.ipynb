{
 "cells": [
  {
   "cell_type": "code",
   "execution_count": 1,
   "metadata": {},
   "outputs": [],
   "source": [
    "livros = [{'id': 1,'Título': 'A prática da solucionática','autor': 'Mark Joyner'},\n",
    "          {'id': 2,'Título': 'Iludidos pelo acaso','autor':'Nassim Nicholas Taleb'},\n",
    "          {'id': 3,'Título': 'Palavras que vendem milhões','autor': 'Gustavo Ferreira'}]"
   ]
  }
 ],
 "metadata": {
  "kernelspec": {
   "display_name": ".venv",
   "language": "python",
   "name": "python3"
  },
  "language_info": {
   "codemirror_mode": {
    "name": "ipython",
    "version": 3
   },
   "file_extension": ".py",
   "mimetype": "text/x-python",
   "name": "python",
   "nbconvert_exporter": "python",
   "pygments_lexer": "ipython3",
   "version": "3.11.4"
  }
 },
 "nbformat": 4,
 "nbformat_minor": 2
}
