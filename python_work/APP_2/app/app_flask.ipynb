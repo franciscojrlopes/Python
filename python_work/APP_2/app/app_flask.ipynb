{
 "cells": [
  {
   "cell_type": "code",
   "execution_count": 10,
   "metadata": {},
   "outputs": [
    {
     "name": "stdout",
     "output_type": "stream",
     "text": [
      " * Serving Flask app '__main__'\n",
      " * Debug mode: off\n"
     ]
    },
    {
     "name": "stderr",
     "output_type": "stream",
     "text": [
      "WARNING: This is a development server. Do not use it in a production deployment. Use a production WSGI server instead.\n",
      " * Running on http://127.0.0.1:5000\n",
      "Press CTRL+C to quit\n"
     ]
    },
    {
     "name": "stderr",
     "output_type": "stream",
     "text": [
      "127.0.0.1 - - [21/Apr/2024 15:33:03] \"GET / HTTP/1.1\" 404 -\n",
      "127.0.0.1 - - [21/Apr/2024 15:33:13] \"GET /livros HTTP/1.1\" 200 -\n"
     ]
    }
   ],
   "source": [
    "from flask import Flask\n",
    "\n",
    "livros = [{'id': 1,'Título': 'A prática da solucionática','autor': 'Mark Joyner'},\n",
    "          {'id': 2,'Título': 'Iludidos pelo acaso','autor':'Nassim Nicholas Taleb'},\n",
    "          {'id': 3,'Título': 'Palavras que vendem milhões','autor': 'Gustavo Ferreira'},\n",
    "          {'id': 4, 'Título': 'As aventuras de Porango o Macaco Aranha', 'autor': 'Francisco Lopes'}\n",
    "          ]\n",
    "\n",
    "app = Flask(__name__)\n",
    "@app.route('/livros', methods=['GET'])\n",
    "def get_livros():\n",
    "    return livros\n",
    "\n",
    "app.run()\n",
    "\n"
   ]
  }
 ],
 "metadata": {
  "kernelspec": {
   "display_name": ".venv",
   "language": "python",
   "name": "python3"
  },
  "language_info": {
   "codemirror_mode": {
    "name": "ipython",
    "version": 3
   },
   "file_extension": ".py",
   "mimetype": "text/x-python",
   "name": "python",
   "nbconvert_exporter": "python",
   "pygments_lexer": "ipython3",
   "version": "3.11.4"
  }
 },
 "nbformat": 4,
 "nbformat_minor": 2
}
