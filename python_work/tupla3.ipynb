{
 "cells": [
  {
   "cell_type": "code",
   "execution_count": 1,
   "metadata": {},
   "outputs": [
    {
     "name": "stdout",
     "output_type": "stream",
     "text": [
      "[1000, 2000, 4000, 5000, 1200] ['João', 'Marcia', 'Antonio', 'José', 'Rebeca']\n"
     ]
    }
   ],
   "source": [
    "vendas = [1000, 2000, 4000, 5000, 1200]\n",
    "vendedores = ['João','Marcia', 'Antonio', 'José', 'Rebeca']\n",
    "print(vendas, vendedores)\n"
   ]
  }
 ],
 "metadata": {
  "kernelspec": {
   "display_name": ".venv",
   "language": "python",
   "name": "python3"
  },
  "language_info": {
   "codemirror_mode": {
    "name": "ipython",
    "version": 3
   },
   "file_extension": ".py",
   "mimetype": "text/x-python",
   "name": "python",
   "nbconvert_exporter": "python",
   "pygments_lexer": "ipython3",
   "version": "3.11.4"
  }
 },
 "nbformat": 4,
 "nbformat_minor": 2
}
