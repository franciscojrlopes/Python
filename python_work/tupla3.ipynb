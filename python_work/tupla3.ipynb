{
 "cells": [
  {
   "cell_type": "code",
   "execution_count": 1,
   "metadata": {},
   "outputs": [
    {
     "name": "stdout",
     "output_type": "stream",
     "text": [
      "[1000, 2000, 4000, 5000, 1200] ['João', 'Marcia', 'Antonio', 'José', 'Rebeca']\n"
     ]
    }
   ],
   "source": [
    "vendas = [1000, 2000, 4000, 5000, 1200]\n",
    "vendedores = ['João','Marcia', 'Antonio', 'José', 'Rebeca']\n",
    "print(vendas, vendedores)\n"
   ]
  },
  {
   "cell_type": "code",
   "execution_count": 6,
   "metadata": {},
   "outputs": [
    {
     "name": "stdout",
     "output_type": "stream",
     "text": [
      "João vendeu 1000 unidades.\n",
      "Marcia vendeu 2000 unidades.\n",
      "Antonio vendeu 4000 unidades.\n",
      "José vendeu 5000 unidades.\n",
      "Rebeca vendeu 1200 unidades.\n"
     ]
    }
   ],
   "source": [
    "vendas = [1000, 2000, 4000, 5000, 1200]\n",
    "vendedores = ['João','Marcia', 'Antonio', 'José', 'Rebeca']\n",
    "for i, venda in enumerate(vendas):\n",
    "    print('{} vendeu {} unidades.'.format(vendedores[i], venda))"
   ]
  }
 ],
 "metadata": {
  "kernelspec": {
   "display_name": ".venv",
   "language": "python",
   "name": "python3"
  },
  "language_info": {
   "codemirror_mode": {
    "name": "ipython",
    "version": 3
   },
   "file_extension": ".py",
   "mimetype": "text/x-python",
   "name": "python",
   "nbconvert_exporter": "python",
   "pygments_lexer": "ipython3",
   "version": "3.11.4"
  }
 },
 "nbformat": 4,
 "nbformat_minor": 2
}
