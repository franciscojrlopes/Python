{
 "cells": [
  {
   "cell_type": "code",
   "execution_count": 83,
   "metadata": {},
   "outputs": [
    {
     "ename": "SyntaxError",
     "evalue": "invalid syntax. Perhaps you forgot a comma? (2156647514.py, line 12)",
     "output_type": "error",
     "traceback": [
      "\u001b[1;36m  Cell \u001b[1;32mIn[83], line 12\u001b[1;36m\u001b[0m\n\u001b[1;33m    número == [4 5 6 7 8 9]\u001b[0m\n\u001b[1;37m               ^\u001b[0m\n\u001b[1;31mSyntaxError\u001b[0m\u001b[1;31m:\u001b[0m invalid syntax. Perhaps you forgot a comma?\n"
     ]
    }
   ],
   "source": [
    "números = [1, 2, 3, 4, 5, 6, 7, 8, 9]\n",
    "\n",
    "for número in números:\n",
    "        if número == 1:  \n",
    "            print('\\n1st')\n",
    "        elif número == 2:\n",
    "              print('\\n2nd')\n",
    "        elif número == 3:\n",
    "              print('\\n3rd')\n",
    "\n",
    "else:\n",
    "      número == [4 5 6 7 8 9]\n",
    "      print(f'\\n{número}th')\n",
    "   \n",
    "\n",
    "\n",
    "   \n",
    "\n",
    "\n"
   ]
  }
 ],
 "metadata": {
  "language_info": {
   "name": "python"
  }
 },
 "nbformat": 4,
 "nbformat_minor": 2
}
