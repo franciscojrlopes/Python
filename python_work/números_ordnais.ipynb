{
 "cells": [
  {
   "cell_type": "code",
   "execution_count": 20,
   "metadata": {},
   "outputs": [],
   "source": [
    "números = [1, 2, 3, 4, 5, 6, 7, 8, 9]\n",
    "for número in números:\n",
    "        if números == 1:  \n",
    "            print('1st')\n",
    "\n"
   ]
  }
 ],
 "metadata": {
  "language_info": {
   "name": "python"
  }
 },
 "nbformat": 4,
 "nbformat_minor": 2
}
