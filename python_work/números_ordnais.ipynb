{
 "cells": [
  {
   "cell_type": "code",
   "execution_count": 26,
   "metadata": {},
   "outputs": [
    {
     "name": "stdout",
     "output_type": "stream",
     "text": [
      "\n",
      "1st\n",
      "\n",
      "2nd\n",
      "\n",
      "3rd\n",
      "\n",
      "(4, 5, 6, 7, 8, 9)th\n"
     ]
    }
   ],
   "source": [
    "números = [1, 2, 3, 4, 5, 6, 7, 8, 9]\n",
    "\n",
    "for número in números:\n",
    "    if número == 1:\n",
    "        print(f'\\n{número}st')\n",
    "    if número == 2:\n",
    "        print(f'\\n{número}nd')\n",
    "    elif número == 3:\n",
    "        print(f'\\n{número}rd')  \n",
    "else:\n",
    "    \n",
    "      print(f'\\n{4, 5, 6, 7, 8, 9}th')\n",
    "\n",
    "\n",
    "\n",
    "\n",
    "\n",
    "   \n",
    "\n",
    "\n"
   ]
  }
 ],
 "metadata": {
  "language_info": {
   "name": "python"
  }
 },
 "nbformat": 4,
 "nbformat_minor": 2
}
