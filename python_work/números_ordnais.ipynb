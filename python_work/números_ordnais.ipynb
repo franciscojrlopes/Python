{
 "cells": [
  {
   "cell_type": "code",
   "execution_count": 16,
   "metadata": {},
   "outputs": [
    {
     "name": "stdout",
     "output_type": "stream",
     "text": [
      "\n",
      "1st\n",
      "\n",
      "2nd\n",
      "\n",
      "3rd\n",
      "\n",
      "1th\n",
      "\n",
      "2th\n",
      "\n",
      "3th\n",
      "\n",
      "4th\n",
      "\n",
      "5th\n",
      "\n",
      "6th\n",
      "\n",
      "7th\n",
      "\n",
      "8th\n",
      "\n",
      "9th\n"
     ]
    }
   ],
   "source": [
    "números = [1, 2, 3, 4, 5, 6, 7, 8, 9]\n",
    "\n",
    "for número in números:\n",
    "    if número == 1:\n",
    "        print(f'\\n{número}st')\n",
    "    if número == 2:\n",
    "        print(f'\\n{número}nd')\n",
    "    elif número == 3:\n",
    "        print(f'\\n{número}rd')  \n",
    "\n",
    "    \n",
    "else:\n",
    "    for número in números: \n",
    "        print(f'\\n{número}th')\n",
    "\n",
    "\n",
    "\n"
   ]
  }
 ],
 "metadata": {
  "kernelspec": {
   "display_name": ".venv",
   "language": "python",
   "name": "python3"
  },
  "language_info": {
   "codemirror_mode": {
    "name": "ipython",
    "version": 3
   },
   "file_extension": ".py",
   "mimetype": "text/x-python",
   "name": "python",
   "nbconvert_exporter": "python",
   "pygments_lexer": "ipython3",
   "version": "3.11.4"
  }
 },
 "nbformat": 4,
 "nbformat_minor": 2
}
