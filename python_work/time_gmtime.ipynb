{
 "cells": [
  {
   "cell_type": "markdown",
   "metadata": {},
   "source": [
    "A função gmtime() converte um tempo expresso em segundos desde a epoch em um objeto struct_time em UTC. UTC significa Coordinated Universal Time, também conhecido como GMT (Greenwich Mean Time). Este é o fuso horário padrão em que as funções time operam."
   ]
  },
  {
   "cell_type": "code",
   "execution_count": 5,
   "metadata": {},
   "outputs": [
    {
     "data": {
      "text/plain": [
       "time.struct_time(tm_year=1970, tm_mon=1, tm_mday=1, tm_hour=0, tm_min=0, tm_sec=0, tm_wday=3, tm_yday=1, tm_isdst=0)"
      ]
     },
     "execution_count": 5,
     "metadata": {},
     "output_type": "execute_result"
    }
   ],
   "source": [
    "# Tempo em UTC  para 0 segundos desde a epoch:\n",
    "\n",
    "import time\n",
    "import locale\n",
    "\n",
    "time.gmtime(0)"
   ]
  },
  {
   "cell_type": "code",
   "execution_count": 7,
   "metadata": {},
   "outputs": [
    {
     "name": "stdout",
     "output_type": "stream",
     "text": [
      "Tempo em UTC: time.struct_time(tm_year=2024, tm_mon=1, tm_mday=14, tm_hour=15, tm_min=11, tm_sec=3, tm_wday=6, tm_yday=14, tm_isdst=0)\n"
     ]
    }
   ],
   "source": [
    "# Tempo em UTC já que não fornecemos argumentos:\n",
    "\n",
    "get_struct = time.gmtime()\n",
    "print(f'Tempo em UTC: {get_struct}')"
   ]
  },
  {
   "cell_type": "code",
   "execution_count": 13,
   "metadata": {},
   "outputs": [
    {
     "name": "stdout",
     "output_type": "stream",
     "text": [
      "Tempo em localtime: time.struct_time(tm_year=2024, tm_mon=1, tm_mday=14, tm_hour=12, tm_min=18, tm_sec=15, tm_wday=6, tm_yday=14, tm_isdst=0)\n"
     ]
    }
   ],
   "source": [
    "# Comparando com a localtime\n",
    "\n",
    "print(f'Tempo em localtime: {time.localtime()}')"
   ]
  }
 ],
 "metadata": {
  "kernelspec": {
   "display_name": ".venv",
   "language": "python",
   "name": "python3"
  },
  "language_info": {
   "codemirror_mode": {
    "name": "ipython",
    "version": 3
   },
   "file_extension": ".py",
   "mimetype": "text/x-python",
   "name": "python",
   "nbconvert_exporter": "python",
   "pygments_lexer": "ipython3",
   "version": "3.11.4"
  }
 },
 "nbformat": 4,
 "nbformat_minor": 2
}
