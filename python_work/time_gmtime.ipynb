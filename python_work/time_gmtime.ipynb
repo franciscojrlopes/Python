{
 "cells": [
  {
   "cell_type": "markdown",
   "metadata": {},
   "source": [
    "A função gmtime() converte um tempo expresso em segundos desde a epoch em um objeto struct_time em UTC. UTC significa Coordinated Universal Time, também conhecido como GMT (Greenwich Mean Time). Este é o fuso horário padrão em que as funções time operam."
   ]
  },
  {
   "cell_type": "code",
   "execution_count": 5,
   "metadata": {},
   "outputs": [
    {
     "data": {
      "text/plain": [
       "time.struct_time(tm_year=1970, tm_mon=1, tm_mday=1, tm_hour=0, tm_min=0, tm_sec=0, tm_wday=3, tm_yday=1, tm_isdst=0)"
      ]
     },
     "execution_count": 5,
     "metadata": {},
     "output_type": "execute_result"
    }
   ],
   "source": [
    "# Tempo em UTC  para 0 segundos desde a epoch:\n",
    "\n",
    "import time\n",
    "import locale\n",
    "\n",
    "time.gmtime(0)"
   ]
  },
  {
   "cell_type": "code",
   "execution_count": 7,
   "metadata": {},
   "outputs": [
    {
     "name": "stdout",
     "output_type": "stream",
     "text": [
      "Tempo em UTC: time.struct_time(tm_year=2024, tm_mon=1, tm_mday=14, tm_hour=15, tm_min=11, tm_sec=3, tm_wday=6, tm_yday=14, tm_isdst=0)\n"
     ]
    }
   ],
   "source": [
    "# Tempo em UTC 'zero' já que não fornecemos argumentos:\n",
    "\n",
    "get_struct = time.gmtime()\n",
    "print(f'Tempo em UTC: {get_struct}')"
   ]
  },
  {
   "cell_type": "code",
   "execution_count": 14,
   "metadata": {},
   "outputs": [
    {
     "name": "stdout",
     "output_type": "stream",
     "text": [
      "Tempo em localtime: time.struct_time(tm_year=2024, tm_mon=1, tm_mday=14, tm_hour=12, tm_min=21, tm_sec=30, tm_wday=6, tm_yday=14, tm_isdst=0)\n"
     ]
    }
   ],
   "source": [
    "# Comparando com a localtime tempo local:\n",
    "\n",
    "\n",
    "print(f'Tempo em localtime: {time.localtime()}')"
   ]
  },
  {
   "cell_type": "code",
   "execution_count": 15,
   "metadata": {},
   "outputs": [
    {
     "name": "stdout",
     "output_type": "stream",
     "text": [
      "UTC\n"
     ]
    }
   ],
   "source": [
    "print(get_struct.tm_zone)"
   ]
  },
  {
   "cell_type": "code",
   "execution_count": 22,
   "metadata": {},
   "outputs": [
    {
     "name": "stdout",
     "output_type": "stream",
     "text": [
      "Tempo em UTC: time.struct_time(tm_year=2009, tm_mon=2, tm_mday=13, tm_hour=23, tm_min=31, tm_sec=30, tm_wday=4, tm_yday=44, tm_isdst=0)\n",
      "Tempo em UTC: Friday, 13 de February de 2009, 23:31:30\n"
     ]
    }
   ],
   "source": [
    "gmt_struct_exemplo = time.gmtime(1_234_567_890)\n",
    "print(f'Tempo em UTC: {gmt_struct_exemplo}')\n",
    "# print(f'Tempo em UTC: {time.strftime('%A, %d de %B de %Y, %H:%M:%S', gmt_struct_exemplo)}')\n",
    "print(f\"Tempo em UTC: {time.strftime('%A, %d de %B de %Y, %H:%M:%S', gmt_struct_exemplo)}\")"
   ]
  },
  {
   "cell_type": "markdown",
   "metadata": {},
   "source": [
    "A função mktime() converte um objeto struct_time em segundos desde a epoch. Este é o inverso da função localtime(). Por exemplo, podemos converter o objeto struct_time retornado pela função localtime() em segundos desde a epoch usando a função mktime(). O resultado deve ser o mesmo que o valor retornado pela função time():"
   ]
  },
  {
   "cell_type": "code",
   "execution_count": 23,
   "metadata": {},
   "outputs": [
    {
     "name": "stdout",
     "output_type": "stream",
     "text": [
      "Tempo em segundos: 1705255127.0\n",
      "Tempo em segundos: 1705255127.2209396\n"
     ]
    }
   ],
   "source": [
    "tempo_em_struct = time.localtime()\n",
    "tempo_em_segundos = time.mktime(tempo_em_struct)\n",
    "print(f\"Tempo em segundos: {tempo_em_segundos}\")\n",
    "print(f\"Tempo em segundos: {time.time()}\")"
   ]
  },
  {
   "cell_type": "markdown",
   "metadata": {},
   "source": [
    "Podemos usar o método mktime para calcular a diferença entre dois tempos. Por exemplo, podemos calcular a diferença entre o tempo atual e o início do ano. O resultado será o número de segundos entre esses dois tempos. Podemos usar a função localtime() para obter o tempo atual e a função mktime() para obter o tempo em 1 de janeiro de 2023 (ano deste material)."
   ]
  },
  {
   "cell_type": "code",
   "execution_count": 24,
   "metadata": {},
   "outputs": [
    {
     "name": "stdout",
     "output_type": "stream",
     "text": [
      "Diferença em segundos: 32713279.0\n"
     ]
    }
   ],
   "source": [
    "tempo_atual = time.localtime()\n",
    "tempo_ano_novo = time.mktime((2023, 1, 1, 0, 0, 0, 0, 0, 0))\n",
    "diferenca = time.mktime(tempo_atual) - tempo_ano_novo\n",
    "print(f\"Diferença em segundos: {diferenca}\")"
   ]
  },
  {
   "cell_type": "code",
   "execution_count": 25,
   "metadata": {},
   "outputs": [
    {
     "name": "stdout",
     "output_type": "stream",
     "text": [
      "Diferença em segundos: 1177337.0\n"
     ]
    }
   ],
   "source": [
    "tempo_atual = time.localtime()\n",
    "tempo_ano_novo = time.mktime((2024, 1, 1, 0, 0, 0, 0, 0, 0))\n",
    "diferenca = time.mktime(tempo_atual) - tempo_ano_novo\n",
    "print(f\"Diferença em segundos: {diferenca}\")"
   ]
  },
  {
   "cell_type": "code",
   "execution_count": 26,
   "metadata": {},
   "outputs": [
    {
     "name": "stdout",
     "output_type": "stream",
     "text": [
      "Diferença em segundos: -30445046.0\n"
     ]
    }
   ],
   "source": [
    "tempo_atual = time.localtime()\n",
    "tempo_ano_novo = time.mktime((2025, 1, 1, 0, 0, 0, 0, 0, 0))\n",
    "diferenca = time.mktime(tempo_atual) - tempo_ano_novo\n",
    "print(f\"Diferença em segundos: {diferenca}\")"
   ]
  },
  {
   "cell_type": "markdown",
   "metadata": {},
   "source": [
    "## Tempo até o próximo ano\n",
    "\n",
    "Crie um script Python que calcula quantos dias, horas, minutos e segundos faltam até o próximo Ano Novo."
   ]
  },
  {
   "cell_type": "code",
   "execution_count": 1,
   "metadata": {},
   "outputs": [
    {
     "name": "stdout",
     "output_type": "stream",
     "text": [
      "time.struct_time(tm_year=2024, tm_mon=1, tm_mday=17, tm_hour=21, tm_min=0, tm_sec=27, tm_wday=2, tm_yday=17, tm_isdst=0)\n"
     ]
    }
   ],
   "source": [
    "import time\n",
    "tempo_atual = time.localtime()\n",
    "print(tempo_atual)"
   ]
  },
  {
   "cell_type": "code",
   "execution_count": 2,
   "metadata": {},
   "outputs": [
    {
     "name": "stdout",
     "output_type": "stream",
     "text": [
      "2024\n"
     ]
    }
   ],
   "source": [
    "print(tempo_atual.tm_year)"
   ]
  },
  {
   "cell_type": "code",
   "execution_count": 3,
   "metadata": {},
   "outputs": [
    {
     "name": "stdout",
     "output_type": "stream",
     "text": [
      "(2025, 1, 1, 0, 0, 0, 0, 0, 0)\n"
     ]
    }
   ],
   "source": [
    "tempo_ano_novo = (tempo_atual.tm_year + 1, 1, 1, 0, 0, 0, 0, 0, 0)\n",
    "print(tempo_ano_novo)"
   ]
  },
  {
   "cell_type": "code",
   "execution_count": null,
   "metadata": {},
   "outputs": [],
   "source": []
  }
 ],
 "metadata": {
  "kernelspec": {
   "display_name": ".venv",
   "language": "python",
   "name": "python3"
  },
  "language_info": {
   "codemirror_mode": {
    "name": "ipython",
    "version": 3
   },
   "file_extension": ".py",
   "mimetype": "text/x-python",
   "name": "python",
   "nbconvert_exporter": "python",
   "pygments_lexer": "ipython3",
   "version": "3.11.4"
  }
 },
 "nbformat": 4,
 "nbformat_minor": 2
}
