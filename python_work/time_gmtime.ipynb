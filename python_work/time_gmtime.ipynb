{
 "cells": [
  {
   "cell_type": "markdown",
   "metadata": {},
   "source": [
    "A função gmtime() converte um tempo expresso em segundos desde a epoch em um objeto struct_time em UTC. UTC significa Coordinated Universal Time, também conhecido como GMT (Greenwich Mean Time). Este é o fuso horário padrão em que as funções time operam."
   ]
  },
  {
   "cell_type": "code",
   "execution_count": 5,
   "metadata": {},
   "outputs": [
    {
     "data": {
      "text/plain": [
       "time.struct_time(tm_year=1970, tm_mon=1, tm_mday=1, tm_hour=0, tm_min=0, tm_sec=0, tm_wday=3, tm_yday=1, tm_isdst=0)"
      ]
     },
     "execution_count": 5,
     "metadata": {},
     "output_type": "execute_result"
    }
   ],
   "source": [
    "# Tempo em UTC  para 0 segundos desde a epoch:\n",
    "\n",
    "import time\n",
    "import locale\n",
    "\n",
    "time.gmtime(0)"
   ]
  },
  {
   "cell_type": "code",
   "execution_count": 7,
   "metadata": {},
   "outputs": [
    {
     "name": "stdout",
     "output_type": "stream",
     "text": [
      "Tempo em UTC: time.struct_time(tm_year=2024, tm_mon=1, tm_mday=14, tm_hour=15, tm_min=11, tm_sec=3, tm_wday=6, tm_yday=14, tm_isdst=0)\n"
     ]
    }
   ],
   "source": [
    "# Tempo em UTC 'zero' já que não fornecemos argumentos:\n",
    "\n",
    "get_struct = time.gmtime()\n",
    "print(f'Tempo em UTC: {get_struct}')"
   ]
  },
  {
   "cell_type": "code",
   "execution_count": 14,
   "metadata": {},
   "outputs": [
    {
     "name": "stdout",
     "output_type": "stream",
     "text": [
      "Tempo em localtime: time.struct_time(tm_year=2024, tm_mon=1, tm_mday=14, tm_hour=12, tm_min=21, tm_sec=30, tm_wday=6, tm_yday=14, tm_isdst=0)\n"
     ]
    }
   ],
   "source": [
    "# Comparando com a localtime tempo local:\n",
    "\n",
    "\n",
    "print(f'Tempo em localtime: {time.localtime()}')"
   ]
  },
  {
   "cell_type": "code",
   "execution_count": 15,
   "metadata": {},
   "outputs": [
    {
     "name": "stdout",
     "output_type": "stream",
     "text": [
      "UTC\n"
     ]
    }
   ],
   "source": [
    "print(get_struct.tm_zone)"
   ]
  },
  {
   "cell_type": "code",
   "execution_count": 22,
   "metadata": {},
   "outputs": [
    {
     "name": "stdout",
     "output_type": "stream",
     "text": [
      "Tempo em UTC: time.struct_time(tm_year=2009, tm_mon=2, tm_mday=13, tm_hour=23, tm_min=31, tm_sec=30, tm_wday=4, tm_yday=44, tm_isdst=0)\n",
      "Tempo em UTC: Friday, 13 de February de 2009, 23:31:30\n"
     ]
    }
   ],
   "source": [
    "gmt_struct_exemplo = time.gmtime(1_234_567_890)\n",
    "print(f'Tempo em UTC: {gmt_struct_exemplo}')\n",
    "# print(f'Tempo em UTC: {time.strftime('%A, %d de %B de %Y, %H:%M:%S', gmt_struct_exemplo)}')\n",
    "print(f\"Tempo em UTC: {time.strftime('%A, %d de %B de %Y, %H:%M:%S', gmt_struct_exemplo)}\")"
   ]
  },
  {
   "cell_type": "markdown",
   "metadata": {},
   "source": [
    "A função mktime() converte um objeto struct_time em segundos desde a epoch. Este é o inverso da função localtime(). Por exemplo, podemos converter o objeto struct_time retornado pela função localtime() em segundos desde a epoch usando a função mktime(). O resultado deve ser o mesmo que o valor retornado pela função time():"
   ]
  },
  {
   "cell_type": "code",
   "execution_count": 23,
   "metadata": {},
   "outputs": [
    {
     "name": "stdout",
     "output_type": "stream",
     "text": [
      "Tempo em segundos: 1705255127.0\n",
      "Tempo em segundos: 1705255127.2209396\n"
     ]
    }
   ],
   "source": [
    "tempo_em_struct = time.localtime()\n",
    "tempo_em_segundos = time.mktime(tempo_em_struct)\n",
    "print(f\"Tempo em segundos: {tempo_em_segundos}\")\n",
    "print(f\"Tempo em segundos: {time.time()}\")"
   ]
  },
  {
   "cell_type": "markdown",
   "metadata": {},
   "source": [
    "Podemos usar o método mktime para calcular a diferença entre dois tempos. Por exemplo, podemos calcular a diferença entre o tempo atual e o início do ano. O resultado será o número de segundos entre esses dois tempos. Podemos usar a função localtime() para obter o tempo atual e a função mktime() para obter o tempo em 1 de janeiro de 2023 (ano deste material)."
   ]
  },
  {
   "cell_type": "code",
   "execution_count": 24,
   "metadata": {},
   "outputs": [
    {
     "name": "stdout",
     "output_type": "stream",
     "text": [
      "Diferença em segundos: 32713279.0\n"
     ]
    }
   ],
   "source": [
    "tempo_atual = time.localtime()\n",
    "tempo_ano_novo = time.mktime((2023, 1, 1, 0, 0, 0, 0, 0, 0))\n",
    "diferenca = time.mktime(tempo_atual) - tempo_ano_novo\n",
    "print(f\"Diferença em segundos: {diferenca}\")"
   ]
  },
  {
   "cell_type": "code",
   "execution_count": 25,
   "metadata": {},
   "outputs": [
    {
     "name": "stdout",
     "output_type": "stream",
     "text": [
      "Diferença em segundos: 1177337.0\n"
     ]
    }
   ],
   "source": [
    "tempo_atual = time.localtime()\n",
    "tempo_ano_novo = time.mktime((2024, 1, 1, 0, 0, 0, 0, 0, 0))\n",
    "diferenca = time.mktime(tempo_atual) - tempo_ano_novo\n",
    "print(f\"Diferença em segundos: {diferenca}\")"
   ]
  },
  {
   "cell_type": "code",
   "execution_count": 26,
   "metadata": {},
   "outputs": [
    {
     "name": "stdout",
     "output_type": "stream",
     "text": [
      "Diferença em segundos: -30445046.0\n"
     ]
    }
   ],
   "source": [
    "tempo_atual = time.localtime()\n",
    "tempo_ano_novo = time.mktime((2025, 1, 1, 0, 0, 0, 0, 0, 0))\n",
    "diferenca = time.mktime(tempo_atual) - tempo_ano_novo\n",
    "print(f\"Diferença em segundos: {diferenca}\")"
   ]
  },
  {
   "cell_type": "markdown",
   "metadata": {},
   "source": [
    "## Tempo até o próximo ano\n",
    "\n",
    "Crie um script Python que calcula quantos dias, horas, minutos e segundos faltam até o próximo Ano Novo."
   ]
  },
  {
   "cell_type": "code",
   "execution_count": 1,
   "metadata": {},
   "outputs": [
    {
     "name": "stdout",
     "output_type": "stream",
     "text": [
      "time.struct_time(tm_year=2024, tm_mon=1, tm_mday=17, tm_hour=21, tm_min=0, tm_sec=27, tm_wday=2, tm_yday=17, tm_isdst=0)\n"
     ]
    }
   ],
   "source": [
    "import time\n",
    "tempo_atual = time.localtime()\n",
    "print(tempo_atual)"
   ]
  },
  {
   "cell_type": "code",
   "execution_count": 2,
   "metadata": {},
   "outputs": [
    {
     "name": "stdout",
     "output_type": "stream",
     "text": [
      "2024\n"
     ]
    }
   ],
   "source": [
    "print(tempo_atual.tm_year)"
   ]
  },
  {
   "cell_type": "code",
   "execution_count": 3,
   "metadata": {},
   "outputs": [
    {
     "name": "stdout",
     "output_type": "stream",
     "text": [
      "(2025, 1, 1, 0, 0, 0, 0, 0, 0)\n"
     ]
    }
   ],
   "source": [
    "tempo_ano_novo = (tempo_atual.tm_year + 1, 1, 1, 0, 0, 0, 0, 0, 0)\n",
    "print(tempo_ano_novo)"
   ]
  },
  {
   "cell_type": "code",
   "execution_count": 4,
   "metadata": {},
   "outputs": [
    {
     "name": "stdout",
     "output_type": "stream",
     "text": [
      "1705536027.0\n"
     ]
    }
   ],
   "source": [
    "print(time.mktime(tempo_atual))"
   ]
  },
  {
   "cell_type": "code",
   "execution_count": 5,
   "metadata": {},
   "outputs": [
    {
     "name": "stdout",
     "output_type": "stream",
     "text": [
      "1735700400.0\n"
     ]
    }
   ],
   "source": [
    "print(time.mktime(tempo_ano_novo))"
   ]
  },
  {
   "cell_type": "code",
   "execution_count": 6,
   "metadata": {},
   "outputs": [
    {
     "name": "stdout",
     "output_type": "stream",
     "text": [
      "30164373.0\n"
     ]
    }
   ],
   "source": [
    "segundos_restantes = time.mktime(tempo_ano_novo) - time.mktime(tempo_atual)\n",
    "print(segundos_restantes)"
   ]
  },
  {
   "cell_type": "code",
   "execution_count": 8,
   "metadata": {},
   "outputs": [
    {
     "name": "stdout",
     "output_type": "stream",
     "text": [
      "Segundos em um minuto: 60 s.\n",
      "Segundos por hora 3600 s.\n",
      "Segundos por dia 86400 s.\n"
     ]
    }
   ],
   "source": [
    "segundos_por_minuto = 60\n",
    "segundos_por_hora = 60 * 60\n",
    "segundos_por_dia = 24 * 60 * 60\n",
    "\n",
    "\n",
    "print(f'Segundos em um minuto: {segundos_por_minuto} s.')\n",
    "print(f'Segundos por hora {segundos_por_hora} s.')\n",
    "print(f'Segundos por dia {segundos_por_dia} s.')\n"
   ]
  },
  {
   "cell_type": "code",
   "execution_count": 9,
   "metadata": {},
   "outputs": [
    {
     "name": "stdout",
     "output_type": "stream",
     "text": [
      "(2, 1)\n"
     ]
    }
   ],
   "source": [
    "print(divmod(7 , 3))"
   ]
  },
  {
   "cell_type": "code",
   "execution_count": 10,
   "metadata": {},
   "outputs": [
    {
     "name": "stdout",
     "output_type": "stream",
     "text": [
      "(2, 10)\n"
     ]
    }
   ],
   "source": [
    "print(divmod(130, segundos_por_minuto ))"
   ]
  },
  {
   "cell_type": "code",
   "execution_count": 11,
   "metadata": {},
   "outputs": [
    {
     "name": "stdout",
     "output_type": "stream",
     "text": [
      "2\n",
      "10\n"
     ]
    }
   ],
   "source": [
    "resultado, resto = divmod(130, segundos_por_minuto)\n",
    "print(resultado)\n",
    "print(resto)\n"
   ]
  },
  {
   "cell_type": "code",
   "execution_count": 12,
   "metadata": {},
   "outputs": [
    {
     "name": "stdout",
     "output_type": "stream",
     "text": [
      "349.0\n",
      "10773.0\n"
     ]
    }
   ],
   "source": [
    "dias, resto_segundos = divmod(segundos_restantes,segundos_por_dia)\n",
    "print(dias)\n",
    "print(resto_segundos)"
   ]
  },
  {
   "cell_type": "code",
   "execution_count": 14,
   "metadata": {},
   "outputs": [
    {
     "name": "stdout",
     "output_type": "stream",
     "text": [
      "0.0\n",
      "59.0\n",
      "33.0\n"
     ]
    }
   ],
   "source": [
    "horas, resto_segundos = divmod(resto_segundos,segundos_por_hora)\n",
    "minutos, segundos = divmod(resto_segundos,segundos_por_minuto)\n",
    "\n",
    "print(horas)\n",
    "print(minutos)\n",
    "print(segundos)"
   ]
  },
  {
   "cell_type": "code",
   "execution_count": 15,
   "metadata": {},
   "outputs": [
    {
     "name": "stdout",
     "output_type": "stream",
     "text": [
      "Faltam 349.0 dias, 0.0 horas, 59.0 minutos e 33.0 segundos para o Ano Novo!, \n"
     ]
    }
   ],
   "source": [
    "print(f'Faltam {dias} dias, {horas} horas, {minutos} minutos e {segundos} segundos para o Ano Novo!, ')"
   ]
  },
  {
   "cell_type": "code",
   "execution_count": 16,
   "metadata": {},
   "outputs": [
    {
     "name": "stdout",
     "output_type": "stream",
     "text": [
      "2024-01-17 21:05:12.901506\n"
     ]
    }
   ],
   "source": [
    "from datetime import datetime\n",
    "agora = datetime.now()\n",
    "print(agora)"
   ]
  },
  {
   "cell_type": "code",
   "execution_count": 17,
   "metadata": {},
   "outputs": [
    {
     "name": "stdout",
     "output_type": "stream",
     "text": [
      "Agora: 2024-01-17 21:05:49.633440\n"
     ]
    }
   ],
   "source": [
    "from datetime import datetime\n",
    "agora = datetime.now()\n",
    "print(f'Agora: {agora}')\n"
   ]
  },
  {
   "cell_type": "code",
   "execution_count": 18,
   "metadata": {},
   "outputs": [
    {
     "name": "stdout",
     "output_type": "stream",
     "text": [
      "Ano: 2024\n",
      "Hora: 21\n",
      "Minutos: 5\n",
      "Segundos: 49\n",
      "Dia: 17\n",
      "Mês: 1\n"
     ]
    }
   ],
   "source": [
    "\n",
    "print(f'Ano: {agora.year}')\n",
    "print(f'Hora: {agora.hour}')\n",
    "print(f'Minutos: {agora.minute}')\n",
    "print(f'Segundos: {agora.second}')\n",
    "print(f'Dia: {agora.day}')\n",
    "print(f'Mês: {agora.month}')"
   ]
  },
  {
   "cell_type": "markdown",
   "metadata": {},
   "source": [
    "Time Delta: datetime.timedelta, faz operações de  adição e subtração de datas."
   ]
  },
  {
   "cell_type": "code",
   "execution_count": 19,
   "metadata": {},
   "outputs": [
    {
     "name": "stdout",
     "output_type": "stream",
     "text": [
      "Data atual: 2024-01-17 21:07:16.651556.\n"
     ]
    }
   ],
   "source": [
    "from datetime import datetime, timedelta\n",
    "\n",
    "data_atual = datetime.now()\n",
    "print(f'Data atual: {data_atual}.')"
   ]
  },
  {
   "cell_type": "code",
   "execution_count": 20,
   "metadata": {},
   "outputs": [
    {
     "name": "stdout",
     "output_type": "stream",
     "text": [
      "Data dez dias no futuro: 2024-01-27 21:07:16.651556.\n"
     ]
    }
   ],
   "source": [
    "\n",
    "data_futura = data_atual + timedelta(days= 10)\n",
    "print(f'Data dez dias no futuro: {data_futura}.')"
   ]
  },
  {
   "cell_type": "code",
   "execution_count": 21,
   "metadata": {},
   "outputs": [
    {
     "name": "stdout",
     "output_type": "stream",
     "text": [
      "Data dez dias no passado: 2024-01-07 21:07:16.651556. \n"
     ]
    }
   ],
   "source": [
    "data_passada = data_atual - timedelta(days=10)\n",
    "print(f'Data dez dias no passado: {data_passada}. ')"
   ]
  },
  {
   "cell_type": "code",
   "execution_count": 22,
   "metadata": {},
   "outputs": [
    {
     "name": "stdout",
     "output_type": "stream",
     "text": [
      "Data 20 dias adiante: 2024-02-06 21:07:16.651556.\n"
     ]
    }
   ],
   "source": [
    "dias_adiante = data_atual + timedelta(days=20)\n",
    "print(f'Data 20 dias adiante: {dias_adiante}.')"
   ]
  },
  {
   "cell_type": "code",
   "execution_count": 23,
   "metadata": {},
   "outputs": [
    {
     "name": "stdout",
     "output_type": "stream",
     "text": [
      "Dez horas adiante: 2024-01-18 07:07:16.651556\n"
     ]
    }
   ],
   "source": [
    "horas_adiantes = data_atual + timedelta(hours=10)\n",
    "print(f'Dez horas adiante: {horas_adiantes}')"
   ]
  }
 ],
 "metadata": {
  "kernelspec": {
   "display_name": ".venv",
   "language": "python",
   "name": "python3"
  },
  "language_info": {
   "codemirror_mode": {
    "name": "ipython",
    "version": 3
   },
   "file_extension": ".py",
   "mimetype": "text/x-python",
   "name": "python",
   "nbconvert_exporter": "python",
   "pygments_lexer": "ipython3",
   "version": "3.11.4"
  }
 },
 "nbformat": 4,
 "nbformat_minor": 2
}
