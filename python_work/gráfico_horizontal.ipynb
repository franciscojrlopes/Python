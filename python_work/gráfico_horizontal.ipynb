{
 "cells": [
  {
   "cell_type": "code",
   "execution_count": null,
   "metadata": {},
   "outputs": [],
   "source": [
    "produtos = ['Soja em grão', 'Cana de açúcar', 'Milho em grão', 'Café em grão', 'Mandioca']\n",
    "quantidade_saca = [33.6, 16.8, 10.3, 6.2, 3.8]\n",
    "margem_erro = [3,2,1,2,2]\n",
    "\n",
    "plt.barh(produtos, quantidade_saca, color='red', margem_erro)\n",
    "\n",
    "plt.ylabel"
   ]
  }
 ],
 "metadata": {
  "language_info": {
   "name": "python"
  }
 },
 "nbformat": 4,
 "nbformat_minor": 2
}
