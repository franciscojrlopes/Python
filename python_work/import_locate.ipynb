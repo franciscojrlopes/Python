{
 "cells": [
  {
   "cell_type": "code",
   "execution_count": 4,
   "metadata": {},
   "outputs": [
    {
     "name": "stdout",
     "output_type": "stream",
     "text": [
      "Tempo formatado: domingo, 14, de janeiro, de 2024, 11: 45: 15\n"
     ]
    }
   ],
   "source": [
    "import locale\n",
    "import time\n",
    "# Definir a localização para português:\n",
    "\n",
    "locale.setlocale(locale.LC_TIME, 'pt_BR.UFT-8')\n",
    "\n",
    "tempo_em_struct = time.localtime()\n",
    "tempo_formatado = time.strftime('%A, %d, de %B, de %Y, %H: %M: %S', tempo_em_struct)\n",
    "print(f'Tempo formatado: {tempo_formatado}')\n"
   ]
  },
  {
   "cell_type": "markdown",
   "metadata": {},
   "source": [
    "A função strptime() analisa uma string representando um horário de acordo com um formato. O retorno é um objeto struct_time:"
   ]
  },
  {
   "cell_type": "code",
   "execution_count": 6,
   "metadata": {},
   "outputs": [
    {
     "name": "stdout",
     "output_type": "stream",
     "text": [
      "Tempo em struct: time.struct_time(tm_year=2023, tm_mon=6, tm_mday=30, tm_hour=0, tm_min=0, tm_sec=0, tm_wday=4, tm_yday=181, tm_isdst=-1)\n"
     ]
    }
   ],
   "source": [
    "string_tempo = '30 junho, 2023'\n",
    "formato = '%d %B, %Y'\n",
    "tempo_em_struct = time.strptime(string_tempo, formato)\n",
    "print(f'Tempo em struct: {tempo_em_struct}')"
   ]
  }
 ],
 "metadata": {
  "kernelspec": {
   "display_name": ".venv",
   "language": "python",
   "name": "python3"
  },
  "language_info": {
   "codemirror_mode": {
    "name": "ipython",
    "version": 3
   },
   "file_extension": ".py",
   "mimetype": "text/x-python",
   "name": "python",
   "nbconvert_exporter": "python",
   "pygments_lexer": "ipython3",
   "version": "3.11.4"
  }
 },
 "nbformat": 4,
 "nbformat_minor": 2
}
