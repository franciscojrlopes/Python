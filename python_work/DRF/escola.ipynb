{
 "cells": [
  {
   "cell_type": "code",
   "execution_count": 1,
   "metadata": {},
   "outputs": [
    {
     "name": "stdout",
     "output_type": "stream",
     "text": [
      "Collecting django==4.2.13Note: you may need to restart the kernel to use updated packages.\n"
     ]
    },
    {
     "name": "stderr",
     "output_type": "stream",
     "text": [
      "\n",
      "[notice] A new release of pip is available: 23.2.1 -> 24.0\n",
      "[notice] To update, run: python.exe -m pip install --upgrade pip\n"
     ]
    },
    {
     "name": "stdout",
     "output_type": "stream",
     "text": [
      "\n",
      "  Obtaining dependency information for django==4.2.13 from https://files.pythonhosted.org/packages/21/b3/7b72ea66fa18c3e4c9b686fc2fe65b675c37a64574add5d6cfaeb1e06a28/Django-4.2.13-py3-none-any.whl.metadata\n",
      "  Downloading Django-4.2.13-py3-none-any.whl.metadata (4.1 kB)\n",
      "Collecting asgiref<4,>=3.6.0 (from django==4.2.13)\n",
      "  Obtaining dependency information for asgiref<4,>=3.6.0 from https://files.pythonhosted.org/packages/39/e3/893e8757be2612e6c266d9bb58ad2e3651524b5b40cf56761e985a28b13e/asgiref-3.8.1-py3-none-any.whl.metadata\n",
      "  Downloading asgiref-3.8.1-py3-none-any.whl.metadata (9.3 kB)\n",
      "Collecting sqlparse>=0.3.1 (from django==4.2.13)\n",
      "  Obtaining dependency information for sqlparse>=0.3.1 from https://files.pythonhosted.org/packages/43/5d/a0fdd88fd486b39ae1fd1a75ff75b4e29a0df96c0304d462fd407b82efe0/sqlparse-0.5.0-py3-none-any.whl.metadata\n",
      "  Downloading sqlparse-0.5.0-py3-none-any.whl.metadata (3.9 kB)\n",
      "Requirement already satisfied: tzdata in c:\\users\\fraro\\onedrive\\documentos\\estudos\\python\\.venv\\lib\\site-packages (from django==4.2.13) (2023.4)\n",
      "Downloading Django-4.2.13-py3-none-any.whl (8.0 MB)\n",
      "   ---------------------------------------- 0.0/8.0 MB ? eta -:--:--\n",
      "   - -------------------------------------- 0.2/8.0 MB 6.7 MB/s eta 0:00:02\n",
      "   --- ------------------------------------ 0.6/8.0 MB 8.0 MB/s eta 0:00:01\n",
      "   ---- ----------------------------------- 0.9/8.0 MB 7.5 MB/s eta 0:00:01\n",
      "   ------ --------------------------------- 1.3/8.0 MB 7.5 MB/s eta 0:00:01\n",
      "   --------- ------------------------------ 1.8/8.0 MB 8.3 MB/s eta 0:00:01\n",
      "   ----------- ---------------------------- 2.3/8.0 MB 8.6 MB/s eta 0:00:01\n",
      "   ------------- -------------------------- 2.8/8.0 MB 8.8 MB/s eta 0:00:01\n",
      "   ---------------- ----------------------- 3.2/8.0 MB 9.0 MB/s eta 0:00:01\n",
      "   ------------------- -------------------- 3.9/8.0 MB 9.1 MB/s eta 0:00:01\n",
      "   ---------------------- ----------------- 4.4/8.0 MB 9.4 MB/s eta 0:00:01\n",
      "   ------------------------ --------------- 5.0/8.0 MB 9.4 MB/s eta 0:00:01\n",
      "   --------------------------- ------------ 5.5/8.0 MB 9.5 MB/s eta 0:00:01\n",
      "   ----------------------------- ---------- 6.0/8.0 MB 9.5 MB/s eta 0:00:01\n",
      "   ------------------------------- -------- 6.2/8.0 MB 9.4 MB/s eta 0:00:01\n",
      "   --------------------------------- ------ 6.6/8.0 MB 9.2 MB/s eta 0:00:01\n",
      "   ----------------------------------- ---- 7.1/8.0 MB 9.3 MB/s eta 0:00:01\n",
      "   -------------------------------------- - 7.6/8.0 MB 9.3 MB/s eta 0:00:01\n",
      "   ---------------------------------------  8.0/8.0 MB 9.5 MB/s eta 0:00:01\n",
      "   ---------------------------------------  8.0/8.0 MB 9.5 MB/s eta 0:00:01\n",
      "   ---------------------------------------- 8.0/8.0 MB 8.7 MB/s eta 0:00:00\n",
      "Downloading asgiref-3.8.1-py3-none-any.whl (23 kB)\n",
      "Downloading sqlparse-0.5.0-py3-none-any.whl (43 kB)\n",
      "   ---------------------------------------- 0.0/44.0 kB ? eta -:--:--\n",
      "   ---------------------------------------- 44.0/44.0 kB ? eta 0:00:00\n",
      "Installing collected packages: sqlparse, asgiref, django\n",
      "Successfully installed asgiref-3.8.1 django-4.2.13 sqlparse-0.5.0\n"
     ]
    }
   ],
   "source": [
    "pip install django==4.2.13"
   ]
  },
  {
   "cell_type": "code",
   "execution_count": null,
   "metadata": {},
   "outputs": [],
   "source": []
  }
 ],
 "metadata": {
  "kernelspec": {
   "display_name": ".venv",
   "language": "python",
   "name": "python3"
  },
  "language_info": {
   "codemirror_mode": {
    "name": "ipython",
    "version": 3
   },
   "file_extension": ".py",
   "mimetype": "text/x-python",
   "name": "python",
   "nbconvert_exporter": "python",
   "pygments_lexer": "ipython3",
   "version": "3.11.4"
  }
 },
 "nbformat": 4,
 "nbformat_minor": 2
}
