{
 "cells": [
  {
   "cell_type": "code",
   "execution_count": 1,
   "metadata": {},
   "outputs": [
    {
     "name": "stdout",
     "output_type": "stream",
     "text": [
      "Collecting django==4.2.13\n",
      "  Using cached Django-4.2.13-py3-none-any.whl (8.0 MB)\n",
      "Collecting asgiref<4,>=3.6.0 (from django==4.2.13)\n",
      "  Downloading asgiref-3.9.1-py3-none-any.whl (23 kB)\n",
      "Collecting sqlparse>=0.3.1 (from django==4.2.13)\n",
      "  Downloading sqlparse-0.5.3-py3-none-any.whl (44 kB)\n",
      "                                              0.0/44.4 kB ? eta -:--:--\n",
      "     ---------------------------------------- 44.4/44.4 kB 1.1 MB/s eta 0:00:00\n",
      "Requirement already satisfied: tzdata in c:\\users\\fraro\\appdata\\local\\programs\\python\\python311\\lib\\site-packages (from django==4.2.13) (2025.2)\n",
      "Installing collected packages: sqlparse, asgiref, django\n",
      "Successfully installed asgiref-3.9.1 django-4.2.13 sqlparse-0.5.3\n",
      "Note: you may need to restart the kernel to use updated packages.\n"
     ]
    },
    {
     "name": "stderr",
     "output_type": "stream",
     "text": [
      "\n",
      "[notice] A new release of pip is available: 23.1.2 -> 25.2\n",
      "[notice] To update, run: python.exe -m pip install --upgrade pip\n"
     ]
    }
   ],
   "source": [
    "pip install django==4.2.13"
   ]
  },
  {
   "cell_type": "code",
   "execution_count": null,
   "metadata": {},
   "outputs": [],
   "source": []
  }
 ],
 "metadata": {
  "kernelspec": {
   "display_name": "Python 3",
   "language": "python",
   "name": "python3"
  },
  "language_info": {
   "codemirror_mode": {
    "name": "ipython",
    "version": 3
   },
   "file_extension": ".py",
   "mimetype": "text/x-python",
   "name": "python",
   "nbconvert_exporter": "python",
   "pygments_lexer": "ipython3",
   "version": "3.11.4"
  }
 },
 "nbformat": 4,
 "nbformat_minor": 2
}
