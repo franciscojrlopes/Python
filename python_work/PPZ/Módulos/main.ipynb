{
 "cells": [
  {
   "cell_type": "code",
   "execution_count": 13,
   "metadata": {},
   "outputs": [
    {
     "ename": "ModuleNotFoundError",
     "evalue": "No module named 'funcoes'",
     "output_type": "error",
     "traceback": [
      "\u001b[1;31m---------------------------------------------------------------------------\u001b[0m",
      "\u001b[1;31mModuleNotFoundError\u001b[0m                       Traceback (most recent call last)",
      "Cell \u001b[1;32mIn[13], line 1\u001b[0m\n\u001b[1;32m----> 1\u001b[0m \u001b[38;5;28;01mimport\u001b[39;00m \u001b[38;5;21;01mfuncoes\u001b[39;00m\n\u001b[0;32m      3\u001b[0m funcoes\u001b[38;5;241m.\u001b[39msomar()\n",
      "\u001b[1;31mModuleNotFoundError\u001b[0m: No module named 'funcoes'"
     ]
    }
   ],
   "source": [
    "import funcoes\n",
    "\n",
    "funcoes.somar()"
   ]
  }
 ],
 "metadata": {
  "language_info": {
   "name": "python"
  }
 },
 "nbformat": 4,
 "nbformat_minor": 2
}
