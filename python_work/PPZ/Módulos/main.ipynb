{
 "cells": [
  {
   "cell_type": "code",
   "execution_count": null,
   "metadata": {},
   "outputs": [],
   "source": [
    "def somar():\n",
    "    print('Esta função vai somar valores.')\n",
    "\n",
    "\n",
    "\n",
    "\n",
    "def multt():\n",
    "    print('Esta função vai multiplicar valores.')\n",
    "\n",
    "multt()\n",
    "somar()"
   ]
  }
 ],
 "metadata": {
  "language_info": {
   "name": "python"
  }
 },
 "nbformat": 4,
 "nbformat_minor": 2
}
