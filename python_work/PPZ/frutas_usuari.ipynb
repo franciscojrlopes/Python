{
 "cells": [
  {
   "cell_type": "code",
   "execution_count": 2,
   "metadata": {},
   "outputs": [
    {
     "name": "stdout",
     "output_type": "stream",
     "text": [
      "Uva, banana, maçã\n"
     ]
    }
   ],
   "source": [
    "# Lists\n",
    "# Cria uma lista de frutas a partir do input fornecido pelo usuário SPLIT\n",
    "\n",
    "fruta_usuario = input('Digite o nome das frutas separado por vírgula:   ')\n",
    "\n",
    "print(fruta_usuario)"
   ]
  },
  {
   "cell_type": "code",
   "execution_count": 6,
   "metadata": {},
   "outputs": [
    {
     "name": "stdout",
     "output_type": "stream",
     "text": [
      "['banana', ' maçã', ' uva']\n"
     ]
    }
   ],
   "source": [
    "fruta_usuario = input('Digite o nome das frutas separado por vírgula:   ')\n",
    "frutas_lista = fruta_usuario.split(',')\n",
    "print(frutas_lista)"
   ]
  }
 ],
 "metadata": {
  "kernelspec": {
   "display_name": ".venv",
   "language": "python",
   "name": "python3"
  },
  "language_info": {
   "codemirror_mode": {
    "name": "ipython",
    "version": 3
   },
   "file_extension": ".py",
   "mimetype": "text/x-python",
   "name": "python",
   "nbconvert_exporter": "python",
   "pygments_lexer": "ipython3",
   "version": "3.11.4"
  }
 },
 "nbformat": 4,
 "nbformat_minor": 2
}
