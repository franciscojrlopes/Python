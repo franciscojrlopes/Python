{
 "cells": [
  {
   "cell_type": "code",
   "execution_count": 1,
   "metadata": {},
   "outputs": [
    {
     "name": "stdout",
     "output_type": "stream",
     "text": [
      "2.857142857142857\n"
     ]
    }
   ],
   "source": [
    "num = 10\n",
    "num1 = 3.5\n",
    "print(num/num1)"
   ]
  },
  {
   "cell_type": "code",
   "execution_count": 2,
   "metadata": {},
   "outputs": [
    {
     "name": "stdout",
     "output_type": "stream",
     "text": [
      "O resultado da divião é: 2.857142857142857.\n"
     ]
    }
   ],
   "source": [
    "num = 10\n",
    "num1 = 3.5\n",
    "result = num/num1\n",
    "print(f'O resultado da divião é: {result}.')"
   ]
  },
  {
   "cell_type": "code",
   "execution_count": 3,
   "metadata": {},
   "outputs": [
    {
     "name": "stdout",
     "output_type": "stream",
     "text": [
      "O resultado da multiplicação é: 35.0.\n"
     ]
    }
   ],
   "source": [
    "num = 10\n",
    "num1 = 3.5\n",
    "result = num*num1\n",
    "print(f'O resultado da multiplicação é: {result}.')"
   ]
  },
  {
   "cell_type": "code",
   "execution_count": 4,
   "metadata": {},
   "outputs": [
    {
     "name": "stdout",
     "output_type": "stream",
     "text": [
      "O resultado da subtração é: 6.5.\n"
     ]
    }
   ],
   "source": [
    "num = 10\n",
    "num1 = 3.5\n",
    "result = num - num1\n",
    "print(f'O resultado da subtração é: {result}.')"
   ]
  },
  {
   "cell_type": "code",
   "execution_count": 5,
   "metadata": {},
   "outputs": [
    {
     "name": "stdout",
     "output_type": "stream",
     "text": [
      "O resultado da soma é: 13.5.\n"
     ]
    }
   ],
   "source": [
    "num = 10\n",
    "num1 = 3.5\n",
    "result = num + num1\n",
    "print(f'O resultado da soma é: {result}.')"
   ]
  },
  {
   "cell_type": "code",
   "execution_count": 6,
   "metadata": {},
   "outputs": [
    {
     "name": "stdout",
     "output_type": "stream",
     "text": [
      "O resultado da divião é: 0.2857142857142857.\n"
     ]
    }
   ],
   "source": [
    "num = 10\n",
    "num1 = 35\n",
    "result = num / num1\n",
    "print(f'O resultado da divião é: {result}.')"
   ]
  },
  {
   "cell_type": "code",
   "execution_count": 9,
   "metadata": {},
   "outputs": [
    {
     "name": "stdout",
     "output_type": "stream",
     "text": [
      "chico\n"
     ]
    }
   ],
   "source": [
    "first_name = input('Por for digite seu nome:   ')\n",
    "print(first_name)"
   ]
  },
  {
   "cell_type": "code",
   "execution_count": 1,
   "metadata": {},
   "outputs": [
    {
     "name": "stdout",
     "output_type": "stream",
     "text": [
      "O resultado da divião é: 2857.1428571428573.\n"
     ]
    }
   ],
   "source": [
    "num = 1000\n",
    "num1 = .35\n",
    "result = num / num1\n",
    "print(f'O resultado da divião é: {result}.')"
   ]
  },
  {
   "cell_type": "code",
   "execution_count": 1,
   "metadata": {},
   "outputs": [
    {
     "name": "stdout",
     "output_type": "stream",
     "text": [
      "O resultado da divião é: 101996351.42857143.\n"
     ]
    }
   ],
   "source": [
    "num = 35698723\n",
    "num1 = .35\n",
    "result = num / num1\n",
    "print(f'O resultado da divião é: {result}.')"
   ]
  },
  {
   "cell_type": "code",
   "execution_count": 1,
   "metadata": {},
   "outputs": [
    {
     "name": "stdout",
     "output_type": "stream",
     "text": [
      "O resultado da divião é: 298.33333333333337.\n"
     ]
    }
   ],
   "source": [
    "num = 179\n",
    "num1 = .60\n",
    "result = num / num1\n",
    "print(f'O resultado da divião é: {result}.')"
   ]
  },
  {
   "cell_type": "code",
   "execution_count": 2,
   "metadata": {},
   "outputs": [
    {
     "name": "stdout",
     "output_type": "stream",
     "text": [
      "O resultado da muliplicação é: 600000000.0.\n"
     ]
    }
   ],
   "source": [
    "num = 1000000000\n",
    "num1 = .60\n",
    "result = num * num1\n",
    "print(f'O resultado da muliplicação é: {result}.')"
   ]
  },
  {
   "cell_type": "code",
   "execution_count": 7,
   "metadata": {},
   "outputs": [
    {
     "name": "stdout",
     "output_type": "stream",
     "text": [
      "Meu nome é Rebeca  e tenho 31 anos! \n"
     ]
    }
   ],
   "source": [
    "first_name = input('Por favor, digite o seu nome: ') # String\n",
    "\n",
    "age = int(input('Agora, digite a sua idade:')) # Interger\n",
    "\n",
    "# print(first_name)\n",
    "# print(age)\n",
    "print(f'Meu nome é {first_name} e tenho {age} anos! ')"
   ]
  },
  {
   "cell_type": "code",
   "execution_count": 8,
   "metadata": {},
   "outputs": [
    {
     "name": "stdout",
     "output_type": "stream",
     "text": [
      "Olá Francisco você tem 54 anos! \n"
     ]
    }
   ],
   "source": [
    "first_name = input('Por favor, digite o seu nome: ') # String\n",
    "\n",
    "age = int(input('Agora, digite a sua idade:')) # Interger\n",
    "\n",
    "# print(first_name)\n",
    "# print(age)\n",
    "print(f'Olá {first_name} você tem {age} anos! ')"
   ]
  },
  {
   "cell_type": "code",
   "execution_count": 12,
   "metadata": {},
   "outputs": [
    {
     "name": "stdout",
     "output_type": "stream",
     "text": [
      "10\n"
     ]
    }
   ],
   "source": [
    "num1 = int(input('Digite o primeiro número: '))\n",
    "num2 = int(input('Digite o segundo número:'))\n",
    "result = num1 + num2\n",
    "print(result)"
   ]
  },
  {
   "cell_type": "code",
   "execution_count": null,
   "metadata": {},
   "outputs": [],
   "source": [
    "num1 = int(input('Digite o primeiro número: '))\n",
    "num2 = int(input('Digite o segundo número:'))\n",
    "result = num1 + num2\n",
    "print(result)"
   ]
  }
 ],
 "metadata": {
  "kernelspec": {
   "display_name": ".venv",
   "language": "python",
   "name": "python3"
  },
  "language_info": {
   "codemirror_mode": {
    "name": "ipython",
    "version": 3
   },
   "file_extension": ".py",
   "mimetype": "text/x-python",
   "name": "python",
   "nbconvert_exporter": "python",
   "pygments_lexer": "ipython3",
   "version": "3.11.4"
  }
 },
 "nbformat": 4,
 "nbformat_minor": 2
}
