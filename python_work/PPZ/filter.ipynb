{
 "cells": [
  {
   "cell_type": "markdown",
   "metadata": {},
   "source": [
    "Filter function:\n",
    "    Muito utilizado com listas;\n",
    "    Aplicar uma função a um iterable, por itens (lists, typle, dic, etc...).\n"
   ]
  },
  {
   "cell_type": "code",
   "execution_count": 2,
   "metadata": {},
   "outputs": [
    {
     "name": "stdout",
     "output_type": "stream",
     "text": [
      "<function remover20 at 0x0000017930BD63E0>\n"
     ]
    }
   ],
   "source": [
    "valores = [10, 12, 34, 44, 57]\n",
    "def remover20(x):\n",
    "    return x > 20\n",
    "print(remover20)\n"
   ]
  },
  {
   "cell_type": "code",
   "execution_count": 3,
   "metadata": {},
   "outputs": [
    {
     "name": "stdout",
     "output_type": "stream",
     "text": [
      "[False, False, True, True, True]\n"
     ]
    }
   ],
   "source": [
    "valores = [10, 12, 34, 44, 57]\n",
    "def remover20(x):\n",
    "    return x > 20\n",
    "print(list(map(remover20, valores)))"
   ]
  },
  {
   "cell_type": "code",
   "execution_count": 4,
   "metadata": {},
   "outputs": [
    {
     "name": "stdout",
     "output_type": "stream",
     "text": [
      "[34, 44, 57]\n"
     ]
    }
   ],
   "source": [
    "valores = [10, 12, 34, 44, 57]\n",
    "def remover20(x):\n",
    "    return x > 20\n",
    "print(list(filter(remover20, valores)))"
   ]
  }
 ],
 "metadata": {
  "kernelspec": {
   "display_name": ".venv",
   "language": "python",
   "name": "python3"
  },
  "language_info": {
   "codemirror_mode": {
    "name": "ipython",
    "version": 3
   },
   "file_extension": ".py",
   "mimetype": "text/x-python",
   "name": "python",
   "nbconvert_exporter": "python",
   "pygments_lexer": "ipython3",
   "version": "3.11.4"
  }
 },
 "nbformat": 4,
 "nbformat_minor": 2
}
