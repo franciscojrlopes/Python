{
 "cells": [
  {
   "cell_type": "markdown",
   "metadata": {},
   "source": [
    "Funções>>>>>>>>>\n",
    "\n",
    "Programa que calcula a quantidade de tinta para pintar uma parede. O usuário deverá fornecer as sesguintes informações:\n",
    "            Rendimento;\n",
    "            Altura;\n",
    "            Largura.\n",
    "O program deve mostrar na tela a mensagem 'Você precisa de x latas de tinta.'"
   ]
  },
  {
   "cell_type": "markdown",
   "metadata": {},
   "source": []
  },
  {
   "cell_type": "code",
   "execution_count": null,
   "metadata": {},
   "outputs": [],
   "source": []
  }
 ],
 "metadata": {
  "language_info": {
   "name": "python"
  }
 },
 "nbformat": 4,
 "nbformat_minor": 2
}
