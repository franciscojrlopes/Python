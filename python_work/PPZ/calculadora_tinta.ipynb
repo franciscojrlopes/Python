{
 "cells": [
  {
   "cell_type": "markdown",
   "metadata": {},
   "source": [
    "Funções>>>>>>>>>\n",
    "\n",
    "Programa que calcula a quantidade de tinta para pintar uma parede. O usuário deverá fornecer as sesguintes informações:\n",
    "            Rendimento;\n",
    "            Altura;\n",
    "            Largura.\n",
    "O program deve mostrar na tela a mensagem 'Você precisa de x latas de tinta.'"
   ]
  },
  {
   "cell_type": "code",
   "execution_count": 1,
   "metadata": {},
   "outputs": [
    {
     "name": "stdout",
     "output_type": "stream",
     "text": [
      "Você precisa de 3.0 latas de tinta!\n"
     ]
    }
   ],
   "source": [
    "rendimento = int(input('Qual é o rendimento da lata de tinta?'))\n",
    "altura = int(input( 'Qual é a altura da parede?'))\n",
    "largura = int(input('Qual é a largura da parede?'))\n",
    "\n",
    "def  calculo_tinta():\n",
    "    area = altura * largura\n",
    "    total = area / rendimento\n",
    "    print(f'Você precisa de {total} latas de tinta!')\n",
    "\n",
    "calculo_tinta()\n"
   ]
  }
 ],
 "metadata": {
  "kernelspec": {
   "display_name": ".venv",
   "language": "python",
   "name": "python3"
  },
  "language_info": {
   "codemirror_mode": {
    "name": "ipython",
    "version": 3
   },
   "file_extension": ".py",
   "mimetype": "text/x-python",
   "name": "python",
   "nbconvert_exporter": "python",
   "pygments_lexer": "ipython3",
   "version": "3.11.4"
  }
 },
 "nbformat": 4,
 "nbformat_minor": 2
}
