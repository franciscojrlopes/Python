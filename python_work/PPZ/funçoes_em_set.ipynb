{
 "cells": [
  {
   "cell_type": "code",
   "execution_count": 6,
   "metadata": {},
   "outputs": [
    {
     "name": "stdout",
     "output_type": "stream",
     "text": [
      "[1, 2, 3, 4, 5, 6]\n",
      "{1, 2, 3, 4, 5, 6}\n",
      "<class 'list'>\n",
      "<class 'set'>\n"
     ]
    }
   ],
   "source": [
    "list1 = [1, 2, 3, 4, 5, 6]\n",
    "s1 = {1, 2, 3, 4, 5, 6}\n",
    "\n",
    "print(list1)\n",
    "print(s1)\n",
    "print(type(list1))\n",
    "print(type(s1))"
   ]
  },
  {
   "cell_type": "code",
   "execution_count": 7,
   "metadata": {},
   "outputs": [
    {
     "name": "stdout",
     "output_type": "stream",
     "text": [
      "[1, 2, 3, 4, 5, 6]\n",
      "{1, 2, 3, 4, 5, 6, 7}\n",
      "<class 'list'>\n",
      "<class 'set'>\n"
     ]
    }
   ],
   "source": [
    "list1 = [1, 2, 3, 4, 5, 6]\n",
    "s1 = {1, 2, 3, 4, 5, 6}\n",
    "s1.add(7)\n",
    "print(list1)\n",
    "print(s1)\n",
    "print(type(list1))\n",
    "print(type(s1))"
   ]
  },
  {
   "cell_type": "code",
   "execution_count": 12,
   "metadata": {},
   "outputs": [
    {
     "name": "stdout",
     "output_type": "stream",
     "text": [
      "{1, 2, 3, 4, 5, 6, 7}\n"
     ]
    }
   ],
   "source": [
    "s1 = {1, 2, 3, 4, 5, 6}\n",
    "s1.add(7)\n",
    "s1.add(4)\n",
    "print(s1)\n",
    "# Como s1 é um set ele não adiciona número duplicado....Porém adiciona número novo....."
   ]
  },
  {
   "cell_type": "code",
   "execution_count": 13,
   "metadata": {},
   "outputs": [
    {
     "name": "stdout",
     "output_type": "stream",
     "text": [
      "{1, 2, 3, 4, 5, 6, 7, 8}\n"
     ]
    }
   ],
   "source": [
    "s1 = {1, 2, 3, 4, 5, 6}\n",
    "s1.add(7)\n",
    "s1.add(8)\n",
    "s1.add(4)\n",
    "s1.add(1)\n",
    "print(s1)"
   ]
  },
  {
   "cell_type": "code",
   "execution_count": 14,
   "metadata": {},
   "outputs": [
    {
     "name": "stdout",
     "output_type": "stream",
     "text": [
      "{1, 2, 3, 4, 5, 6, 7, 8, 9, 10}\n"
     ]
    }
   ],
   "source": [
    "s1 = {1, 2, 3, 4, 5, 6}\n",
    "s1.update({7, 8, 9, 10})\n",
    "print(s1)"
   ]
  },
  {
   "cell_type": "code",
   "execution_count": 16,
   "metadata": {},
   "outputs": [
    {
     "name": "stdout",
     "output_type": "stream",
     "text": [
      "{1, 2, 3, 4, 5, 6, 7, 8, 9, 10}\n"
     ]
    }
   ],
   "source": [
    "s1 = {1, 2, 3, 4, 5, 6}\n",
    "s1.update({6, 7, 8, 9, 10})\n",
    "print(s1)\n",
    "\n",
    "# o update descarta o número 6 pois já existe no setlist......."
   ]
  },
  {
   "cell_type": "code",
   "execution_count": 19,
   "metadata": {},
   "outputs": [
    {
     "name": "stdout",
     "output_type": "stream",
     "text": [
      "{1, 2, 3, 4, 5, 6, 7, 8}\n"
     ]
    }
   ],
   "source": [
    "# Remove deleta o item porém se não houver o número ele dá erro...\n",
    "# O Discard se não houver o número ele não dá erro...........\n",
    "\n",
    "s1 = {1, 2, 3, 4, 5, 6}\n",
    "s1.update({6, 7, 8, 9, 10})\n",
    "s1.remove(10)\n",
    "s1.discard(9)\n",
    "s1.discard(122)\n",
    "print(s1)"
   ]
  },
  {
   "cell_type": "code",
   "execution_count": 20,
   "metadata": {},
   "outputs": [
    {
     "ename": "KeyError",
     "evalue": "122",
     "output_type": "error",
     "traceback": [
      "\u001b[1;31m---------------------------------------------------------------------------\u001b[0m",
      "\u001b[1;31mKeyError\u001b[0m                                  Traceback (most recent call last)",
      "Cell \u001b[1;32mIn[20], line 5\u001b[0m\n\u001b[0;32m      3\u001b[0m s1\u001b[38;5;241m.\u001b[39mremove(\u001b[38;5;241m10\u001b[39m)\n\u001b[0;32m      4\u001b[0m s1\u001b[38;5;241m.\u001b[39mdiscard(\u001b[38;5;241m9\u001b[39m)\n\u001b[1;32m----> 5\u001b[0m \u001b[43ms1\u001b[49m\u001b[38;5;241;43m.\u001b[39;49m\u001b[43mremove\u001b[49m\u001b[43m(\u001b[49m\u001b[38;5;241;43m122\u001b[39;49m\u001b[43m)\u001b[49m\n\u001b[0;32m      6\u001b[0m s1\u001b[38;5;241m.\u001b[39mdiscard(\u001b[38;5;241m122\u001b[39m)\n\u001b[0;32m      7\u001b[0m \u001b[38;5;28mprint\u001b[39m(s1)\n",
      "\u001b[1;31mKeyError\u001b[0m: 122"
     ]
    }
   ],
   "source": [
    "s1 = {1, 2, 3, 4, 5, 6}\n",
    "s1.update({6, 7, 8, 9, 10})\n",
    "s1.remove(10)\n",
    "s1.discard(9)\n",
    "s1.remove(122)\n",
    "s1.discard(122)\n",
    "print(s1)"
   ]
  }
 ],
 "metadata": {
  "kernelspec": {
   "display_name": ".venv",
   "language": "python",
   "name": "python3"
  },
  "language_info": {
   "codemirror_mode": {
    "name": "ipython",
    "version": 3
   },
   "file_extension": ".py",
   "mimetype": "text/x-python",
   "name": "python",
   "nbconvert_exporter": "python",
   "pygments_lexer": "ipython3",
   "version": "3.11.4"
  }
 },
 "nbformat": 4,
 "nbformat_minor": 2
}
