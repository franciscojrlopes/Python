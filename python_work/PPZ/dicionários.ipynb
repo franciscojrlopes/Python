{
 "cells": [
  {
   "cell_type": "markdown",
   "metadata": {},
   "source": [
    "Dicionários:\n",
    "\n",
    "    Utilizam index no formato de Keys (chaves) e Values (valores);\n",
    "    Aceitam strings, interger, float, bolean.............."
   ]
  },
  {
   "cell_type": "code",
   "execution_count": 1,
   "metadata": {},
   "outputs": [
    {
     "name": "stdout",
     "output_type": "stream",
     "text": [
      "{'nome': 'Ana', 'idade': 26, 'nota final': 'A', 'aprovação': True}\n"
     ]
    }
   ],
   "source": [
    "aluno = {'nome': 'Ana', 'idade': 26, 'nota final': 'A', 'aprovação': True}\n",
    "\n",
    "print(aluno)"
   ]
  },
  {
   "cell_type": "code",
   "execution_count": 2,
   "metadata": {},
   "outputs": [
    {
     "name": "stdout",
     "output_type": "stream",
     "text": [
      "Ana\n"
     ]
    }
   ],
   "source": [
    "aluno = {'nome': 'Ana', 'idade': 26, 'nota final': 'A', 'aprovação': True}\n",
    "\n",
    "print(aluno['nome'])"
   ]
  },
  {
   "cell_type": "code",
   "execution_count": 3,
   "metadata": {},
   "outputs": [
    {
     "name": "stdout",
     "output_type": "stream",
     "text": [
      "26\n"
     ]
    }
   ],
   "source": [
    "aluno = {'nome': 'Ana', 'idade': 26, 'nota final': 'A', 'aprovação': True}\n",
    "\n",
    "print(aluno['idade'])"
   ]
  },
  {
   "cell_type": "code",
   "execution_count": 4,
   "metadata": {},
   "outputs": [
    {
     "name": "stdout",
     "output_type": "stream",
     "text": [
      "A\n"
     ]
    }
   ],
   "source": [
    "aluno = {'nome': 'Ana', 'idade': 26, 'nota final': 'A', 'aprovação': True}\n",
    "\n",
    "print(aluno['nota final'])"
   ]
  },
  {
   "cell_type": "code",
   "execution_count": 5,
   "metadata": {},
   "outputs": [
    {
     "name": "stdout",
     "output_type": "stream",
     "text": [
      "True\n"
     ]
    }
   ],
   "source": [
    "aluno = {'nome': 'Ana', 'idade': 26, 'nota final': 'A', 'aprovação': True}\n",
    "\n",
    "print(aluno['aprovação'])"
   ]
  },
  {
   "cell_type": "code",
   "execution_count": 6,
   "metadata": {},
   "outputs": [
    {
     "name": "stdout",
     "output_type": "stream",
     "text": [
      "{'nome': 'Francisco', 'idade': 26, 'nota final': 'A', 'aprovação': True}\n"
     ]
    }
   ],
   "source": [
    "# Adicionar e remover no dic:\n",
    "\n",
    "aluno = {'nome': 'Ana', 'idade': 26, 'nota final': 'A', 'aprovação': True}\n",
    "aluno['nome'] = 'Francisco'\n",
    "print(aluno)"
   ]
  },
  {
   "cell_type": "code",
   "execution_count": null,
   "metadata": {},
   "outputs": [],
   "source": [
    "aluno = {'nome': 'Ana', 'idade': 26, 'nota final': 'A', 'aprovação': True}\n",
    "\n",
    "print(aluno)"
   ]
  }
 ],
 "metadata": {
  "kernelspec": {
   "display_name": ".venv",
   "language": "python",
   "name": "python3"
  },
  "language_info": {
   "codemirror_mode": {
    "name": "ipython",
    "version": 3
   },
   "file_extension": ".py",
   "mimetype": "text/x-python",
   "name": "python",
   "nbconvert_exporter": "python",
   "pygments_lexer": "ipython3",
   "version": "3.11.4"
  }
 },
 "nbformat": 4,
 "nbformat_minor": 2
}
