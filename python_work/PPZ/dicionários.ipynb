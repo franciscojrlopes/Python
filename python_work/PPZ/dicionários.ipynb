{
 "cells": [
  {
   "cell_type": "markdown",
   "metadata": {},
   "source": [
    "Dicionários:\n",
    "\n",
    "    Utilizam index no formato de Keys (chaves) e Values (valores);\n",
    "    Aceitam strings, interger, float, bolean.............."
   ]
  },
  {
   "cell_type": "code",
   "execution_count": 1,
   "metadata": {},
   "outputs": [
    {
     "name": "stdout",
     "output_type": "stream",
     "text": [
      "{'nome': 'Ana', 'idade': 26, 'nota final': 'A', 'aprovação': True}\n"
     ]
    }
   ],
   "source": [
    "aluno = {'nome': 'Ana', 'idade': 26, 'nota final': 'A', 'aprovação': True}\n",
    "\n",
    "print(aluno)"
   ]
  },
  {
   "cell_type": "code",
   "execution_count": 2,
   "metadata": {},
   "outputs": [
    {
     "name": "stdout",
     "output_type": "stream",
     "text": [
      "Ana\n"
     ]
    }
   ],
   "source": [
    "aluno = {'nome': 'Ana', 'idade': 26, 'nota final': 'A', 'aprovação': True}\n",
    "\n",
    "print(aluno['nome'])"
   ]
  },
  {
   "cell_type": "code",
   "execution_count": 3,
   "metadata": {},
   "outputs": [
    {
     "name": "stdout",
     "output_type": "stream",
     "text": [
      "26\n"
     ]
    }
   ],
   "source": [
    "aluno = {'nome': 'Ana', 'idade': 26, 'nota final': 'A', 'aprovação': True}\n",
    "\n",
    "print(aluno['idade'])"
   ]
  },
  {
   "cell_type": "code",
   "execution_count": 4,
   "metadata": {},
   "outputs": [
    {
     "name": "stdout",
     "output_type": "stream",
     "text": [
      "A\n"
     ]
    }
   ],
   "source": [
    "aluno = {'nome': 'Ana', 'idade': 26, 'nota final': 'A', 'aprovação': True}\n",
    "\n",
    "print(aluno['nota final'])"
   ]
  },
  {
   "cell_type": "code",
   "execution_count": 5,
   "metadata": {},
   "outputs": [
    {
     "name": "stdout",
     "output_type": "stream",
     "text": [
      "True\n"
     ]
    }
   ],
   "source": [
    "aluno = {'nome': 'Ana', 'idade': 26, 'nota final': 'A', 'aprovação': True}\n",
    "\n",
    "print(aluno['aprovação'])"
   ]
  },
  {
   "cell_type": "code",
   "execution_count": 6,
   "metadata": {},
   "outputs": [
    {
     "name": "stdout",
     "output_type": "stream",
     "text": [
      "{'nome': 'Francisco', 'idade': 26, 'nota final': 'A', 'aprovação': True}\n"
     ]
    }
   ],
   "source": [
    "# Adicionar e remover no dic:\n",
    "\n",
    "aluno = {'nome': 'Ana', 'idade': 26, 'nota final': 'A', 'aprovação': True}\n",
    "aluno['nome'] = 'Francisco'\n",
    "print(aluno)"
   ]
  },
  {
   "cell_type": "code",
   "execution_count": 8,
   "metadata": {},
   "outputs": [
    {
     "name": "stdout",
     "output_type": "stream",
     "text": [
      "{'nome': 'José', 'idade': 26, 'nota final': 'B', 'aprovação': True}\n"
     ]
    }
   ],
   "source": [
    "aluno = {'nome': 'Ana', 'idade': 26, 'nota final': 'A', 'aprovação': True}\n",
    "aluno.update({'nome': 'José', 'nota final': 'B'})\n",
    "print(aluno)"
   ]
  },
  {
   "cell_type": "code",
   "execution_count": 9,
   "metadata": {},
   "outputs": [
    {
     "name": "stdout",
     "output_type": "stream",
     "text": [
      "{'nome': 'Ana', 'idade': 26, 'nota final': 'A', 'aprovação': True, 'endereço': 'Rua C, nº 10'}\n"
     ]
    }
   ],
   "source": [
    "aluno = {'nome': 'Ana', 'idade': 26, 'nota final': 'A', 'aprovação': True}\n",
    "aluno.update({'endereço': 'Rua C, nº 10'})\n",
    "print(aluno)"
   ]
  },
  {
   "cell_type": "code",
   "execution_count": 10,
   "metadata": {},
   "outputs": [
    {
     "ename": "KeyError",
     "evalue": "'endereço'",
     "output_type": "error",
     "traceback": [
      "\u001b[1;31m---------------------------------------------------------------------------\u001b[0m",
      "\u001b[1;31mKeyError\u001b[0m                                  Traceback (most recent call last)",
      "Cell \u001b[1;32mIn[10], line 3\u001b[0m\n\u001b[0;32m      1\u001b[0m aluno \u001b[38;5;241m=\u001b[39m {\u001b[38;5;124m'\u001b[39m\u001b[38;5;124mnome\u001b[39m\u001b[38;5;124m'\u001b[39m: \u001b[38;5;124m'\u001b[39m\u001b[38;5;124mAna\u001b[39m\u001b[38;5;124m'\u001b[39m, \u001b[38;5;124m'\u001b[39m\u001b[38;5;124midade\u001b[39m\u001b[38;5;124m'\u001b[39m: \u001b[38;5;241m26\u001b[39m, \u001b[38;5;124m'\u001b[39m\u001b[38;5;124mnota final\u001b[39m\u001b[38;5;124m'\u001b[39m: \u001b[38;5;124m'\u001b[39m\u001b[38;5;124mA\u001b[39m\u001b[38;5;124m'\u001b[39m, \u001b[38;5;124m'\u001b[39m\u001b[38;5;124maprovação\u001b[39m\u001b[38;5;124m'\u001b[39m: \u001b[38;5;28;01mTrue\u001b[39;00m}\n\u001b[1;32m----> 3\u001b[0m \u001b[38;5;28mprint\u001b[39m(\u001b[43maluno\u001b[49m\u001b[43m[\u001b[49m\u001b[38;5;124;43m'\u001b[39;49m\u001b[38;5;124;43mendereço\u001b[39;49m\u001b[38;5;124;43m'\u001b[39;49m\u001b[43m]\u001b[49m)\n",
      "\u001b[1;31mKeyError\u001b[0m: 'endereço'"
     ]
    }
   ],
   "source": [
    "aluno = {'nome': 'Ana', 'idade': 26, 'nota final': 'A', 'aprovação': True}\n",
    "\n",
    "print(aluno['endereço'])"
   ]
  },
  {
   "cell_type": "code",
   "execution_count": 12,
   "metadata": {},
   "outputs": [
    {
     "name": "stdout",
     "output_type": "stream",
     "text": [
      "None\n"
     ]
    }
   ],
   "source": [
    "aluno = {'nome': 'Ana', 'idade': 26, 'nota final': 'A', 'aprovação': True}\n",
    "print(aluno.get('endereço'))"
   ]
  },
  {
   "cell_type": "code",
   "execution_count": 14,
   "metadata": {},
   "outputs": [
    {
     "name": "stdout",
     "output_type": "stream",
     "text": [
      "Endereço não existe no dicionário!\n"
     ]
    }
   ],
   "source": [
    "aluno = {'nome': 'Ana', 'idade': 26, 'nota final': 'A', 'aprovação': True}\n",
    "print(aluno.get('endereço', 'Endereço não existe no dicionário!'))"
   ]
  },
  {
   "cell_type": "code",
   "execution_count": 15,
   "metadata": {},
   "outputs": [
    {
     "name": "stdout",
     "output_type": "stream",
     "text": [
      "{'nome': 'Ana', 'nota final': 'A', 'aprovação': True}\n"
     ]
    }
   ],
   "source": [
    "aluno = {'nome': 'Ana', 'idade': 26, 'nota final': 'A', 'aprovação': True}\n",
    "del aluno['idade']\n",
    "print(aluno)"
   ]
  }
 ],
 "metadata": {
  "kernelspec": {
   "display_name": ".venv",
   "language": "python",
   "name": "python3"
  },
  "language_info": {
   "codemirror_mode": {
    "name": "ipython",
    "version": 3
   },
   "file_extension": ".py",
   "mimetype": "text/x-python",
   "name": "python",
   "nbconvert_exporter": "python",
   "pygments_lexer": "ipython3",
   "version": "3.11.4"
  }
 },
 "nbformat": 4,
 "nbformat_minor": 2
}
