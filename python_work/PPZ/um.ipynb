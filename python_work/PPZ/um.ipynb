{
 "cells": [
  {
   "cell_type": "code",
   "execution_count": 2,
   "metadata": {},
   "outputs": [
    {
     "name": "stdout",
     "output_type": "stream",
     "text": [
      "33\n",
      "8\n",
      "10.0\n"
     ]
    }
   ],
   "source": [
    "x = str(3)\n",
    "y = int(4)\n",
    "z = float(5)\n",
    "\n",
    "print(x + x)\n",
    "print(y + y)\n",
    "print(z + z)"
   ]
  },
  {
   "cell_type": "code",
   "execution_count": 6,
   "metadata": {},
   "outputs": [
    {
     "name": "stdout",
     "output_type": "stream",
     "text": [
      "O Francisco tem 54 anos e  mora em Arrozal distrito de Piraí.\n"
     ]
    }
   ],
   "source": [
    "# Francisco tem 54 anos e mora em Arrozal Distrito  - Piraí RJ\n",
    "\n",
    "nome = 'Francisco'\n",
    "idade = 54\n",
    "distrito = 'Arrozal'\n",
    "cidade = 'Piraí'\n",
    "\n",
    "print(f'O {nome} tem {idade} anos e  mora em {distrito} distrito de {cidade}.')"
   ]
  },
  {
   "cell_type": "code",
   "execution_count": 8,
   "metadata": {},
   "outputs": [
    {
     "name": "stdout",
     "output_type": "stream",
     "text": [
      "33\n",
      "8\n",
      "10.0\n"
     ]
    }
   ],
   "source": [
    "x = str(3)\n",
    "y = int(4)\n",
    "z = float(5)\n",
    "\n",
    "print(x + x)\n",
    "print(y + y)\n",
    "print(z + z)"
   ]
  },
  {
   "cell_type": "code",
   "execution_count": 14,
   "metadata": {},
   "outputs": [
    {
     "name": "stdout",
     "output_type": "stream",
     "text": [
      "Paulo tem 38 anos e mora em Arrozal distrito de Piraí .\n"
     ]
    }
   ],
   "source": [
    "# Francisco tem 54 anos e mora em Arrozal Distrito  - Piraí RJ\n",
    "\n",
    "nome = input('Qual é o seu nome?')\n",
    "idade = input('Qual sua idade?')\n",
    "distrito = input('Qual distrito você mora?')\n",
    "cidade = input('qual cidade você mora?')\n",
    "print(f'{nome} tem {idade} anos e mora em {distrito} distrito de {cidade}.')# "
   ]
  }
 ],
 "metadata": {
  "kernelspec": {
   "display_name": ".venv",
   "language": "python",
   "name": "python3"
  },
  "language_info": {
   "codemirror_mode": {
    "name": "ipython",
    "version": 3
   },
   "file_extension": ".py",
   "mimetype": "text/x-python",
   "name": "python",
   "nbconvert_exporter": "python",
   "pygments_lexer": "ipython3",
   "version": "3.11.4"
  }
 },
 "nbformat": 4,
 "nbformat_minor": 2
}
