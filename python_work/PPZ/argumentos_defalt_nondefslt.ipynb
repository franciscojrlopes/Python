{
 "cells": [
  {
   "cell_type": "markdown",
   "metadata": {},
   "source": [
    "Arguementos:\n",
    "\n",
    "Defalt-----> aquele você define o valor no parâmetro.\n",
    "Non-Defalt ------> aquele que NÃO define o valor no parâmeto.\n",
    "\n"
   ]
  },
  {
   "cell_type": "code",
   "execution_count": 15,
   "metadata": {},
   "outputs": [
    {
     "name": "stdout",
     "output_type": "stream",
     "text": [
      "Olá Francisco!\n",
      "Temos 5 ternos no estoque!\n",
      "Olá José!\n",
      "Temos 3 ternos no estoque!\n",
      "Olá Marcio!\n",
      "Temos 2 ternos no estoque!\n"
     ]
    }
   ],
   "source": [
    "def boas_vindas(nome, quantidade):\n",
    "    print(f'Olá {nome}!')\n",
    "    print(f'Temos {str(quantidade)} ternos no estoque!')\n",
    "\n",
    "boas_vindas('Francisco', 5)\n",
    "boas_vindas('José', 3)\n",
    "boas_vindas('Marcio', 2)"
   ]
  },
  {
   "cell_type": "code",
   "execution_count": 14,
   "metadata": {},
   "outputs": [
    {
     "name": "stdout",
     "output_type": "stream",
     "text": [
      "Olá Francisco!\n",
      "Temos 5 ternos no estoque!\n",
      "Olá José!\n",
      "Temos 3 ternos no estoque!\n",
      "Olá Marcio!\n",
      "Temos 2 ternos no estoque!\n"
     ]
    }
   ],
   "source": [
    "def boas_vindas(nome, quantidade):\n",
    "    print(f'Olá {nome}!')\n",
    "    print(f'Temos {int(quantidade)} ternos no estoque!')\n",
    "\n",
    "boas_vindas('Francisco', 5)\n",
    "boas_vindas('José', 3)\n",
    "boas_vindas('Marcio', 2)"
   ]
  },
  {
   "cell_type": "code",
   "execution_count": 13,
   "metadata": {},
   "outputs": [
    {
     "ename": "TypeError",
     "evalue": "boas_vindas() missing 1 required positional argument: 'quantidade'",
     "output_type": "error",
     "traceback": [
      "\u001b[1;31m---------------------------------------------------------------------------\u001b[0m",
      "\u001b[1;31mTypeError\u001b[0m                                 Traceback (most recent call last)",
      "Cell \u001b[1;32mIn[13], line 5\u001b[0m\n\u001b[0;32m      2\u001b[0m     \u001b[38;5;28mprint\u001b[39m(\u001b[38;5;124mf\u001b[39m\u001b[38;5;124m'\u001b[39m\u001b[38;5;124mOlá \u001b[39m\u001b[38;5;132;01m{\u001b[39;00mnome\u001b[38;5;132;01m}\u001b[39;00m\u001b[38;5;124m!\u001b[39m\u001b[38;5;124m'\u001b[39m)\n\u001b[0;32m      3\u001b[0m     \u001b[38;5;28mprint\u001b[39m(\u001b[38;5;124mf\u001b[39m\u001b[38;5;124m'\u001b[39m\u001b[38;5;124mTemos \u001b[39m\u001b[38;5;132;01m{\u001b[39;00m\u001b[38;5;28mstr\u001b[39m(quantidade)\u001b[38;5;132;01m}\u001b[39;00m\u001b[38;5;124m ternos no estoque!\u001b[39m\u001b[38;5;124m'\u001b[39m)\n\u001b[1;32m----> 5\u001b[0m \u001b[43mboas_vindas\u001b[49m\u001b[43m(\u001b[49m\u001b[38;5;124;43m'\u001b[39;49m\u001b[38;5;124;43mFrancisco\u001b[39;49m\u001b[38;5;124;43m'\u001b[39;49m\u001b[43m)\u001b[49m\n",
      "\u001b[1;31mTypeError\u001b[0m: boas_vindas() missing 1 required positional argument: 'quantidade'"
     ]
    }
   ],
   "source": [
    "def boas_vindas(nome, quantidade):\n",
    "    print(f'Olá {nome}!')\n",
    "    print(f'Temos {str(quantidade)} ternos no estoque!')\n",
    "\n",
    "boas_vindas('Francisco')\n"
   ]
  },
  {
   "cell_type": "code",
   "execution_count": 12,
   "metadata": {},
   "outputs": [
    {
     "ename": "TypeError",
     "evalue": "boas_vindas() takes 2 positional arguments but 3 were given",
     "output_type": "error",
     "traceback": [
      "\u001b[1;31m---------------------------------------------------------------------------\u001b[0m",
      "\u001b[1;31mTypeError\u001b[0m                                 Traceback (most recent call last)",
      "Cell \u001b[1;32mIn[12], line 5\u001b[0m\n\u001b[0;32m      2\u001b[0m     \u001b[38;5;28mprint\u001b[39m(\u001b[38;5;124mf\u001b[39m\u001b[38;5;124m'\u001b[39m\u001b[38;5;124mOlá \u001b[39m\u001b[38;5;132;01m{\u001b[39;00mnome\u001b[38;5;132;01m}\u001b[39;00m\u001b[38;5;124m!\u001b[39m\u001b[38;5;124m'\u001b[39m)\n\u001b[0;32m      3\u001b[0m     \u001b[38;5;28mprint\u001b[39m(\u001b[38;5;124mf\u001b[39m\u001b[38;5;124m'\u001b[39m\u001b[38;5;124mTemos \u001b[39m\u001b[38;5;132;01m{\u001b[39;00m\u001b[38;5;28mstr\u001b[39m(quantidade)\u001b[38;5;132;01m}\u001b[39;00m\u001b[38;5;124m ternos no estoque!\u001b[39m\u001b[38;5;124m'\u001b[39m)\n\u001b[1;32m----> 5\u001b[0m \u001b[43mboas_vindas\u001b[49m\u001b[43m(\u001b[49m\u001b[38;5;124;43m'\u001b[39;49m\u001b[38;5;124;43mFrancisco\u001b[39;49m\u001b[38;5;124;43m'\u001b[39;49m\u001b[43m,\u001b[49m\u001b[43m \u001b[49m\u001b[38;5;241;43m2\u001b[39;49m\u001b[43m,\u001b[49m\u001b[43m \u001b[49m\u001b[38;5;241;43m5\u001b[39;49m\u001b[43m)\u001b[49m\n",
      "\u001b[1;31mTypeError\u001b[0m: boas_vindas() takes 2 positional arguments but 3 were given"
     ]
    }
   ],
   "source": [
    "def boas_vindas(nome, quantidade):\n",
    "    print(f'Olá {nome}!')\n",
    "    print(f'Temos {str(quantidade)} ternos no estoque!')\n",
    "\n",
    "boas_vindas('Francisco', 2, 5)"
   ]
  },
  {
   "cell_type": "code",
   "execution_count": 11,
   "metadata": {},
   "outputs": [
    {
     "name": "stdout",
     "output_type": "stream",
     "text": [
      "Olá Francisco!\n",
      "Temos 6 ternos no estoque!\n"
     ]
    }
   ],
   "source": [
    "def boas_vindas(nome, quantidade=6): #default eu defini o parâmetro.\n",
    "    print(f'Olá {nome}!')\n",
    "    print(f'Temos {str(quantidade)} ternos no estoque!')\n",
    "\n",
    "boas_vindas('Francisco')"
   ]
  },
  {
   "cell_type": "code",
   "execution_count": 10,
   "metadata": {},
   "outputs": [
    {
     "name": "stdout",
     "output_type": "stream",
     "text": [
      "Olá Francisco!\n",
      "Temos 4 ternos no estoque!\n"
     ]
    }
   ],
   "source": [
    "def boas_vindas(nome, quantidade=6): #default eu defini o parâmetro.\n",
    "    print(f'Olá {nome}!')\n",
    "    print(f'Temos {str(quantidade)} ternos no estoque!')\n",
    "\n",
    "boas_vindas('Francisco', 4)"
   ]
  },
  {
   "cell_type": "code",
   "execution_count": 9,
   "metadata": {},
   "outputs": [
    {
     "name": "stdout",
     "output_type": "stream",
     "text": [
      "Olá Francisco!\n",
      "Temos 7 ternos no estoque!\n"
     ]
    }
   ],
   "source": [
    "def boas_vindas(nome, quantidade=6): #default eu defini o parâmetro.\n",
    "    print(f'Olá {nome}!')\n",
    "    print(f'Temos {str(quantidade)} ternos no estoque!')\n",
    "\n",
    "boas_vindas('Francisco', 7)"
   ]
  },
  {
   "cell_type": "code",
   "execution_count": 16,
   "metadata": {},
   "outputs": [
    {
     "ename": "SyntaxError",
     "evalue": "non-default argument follows default argument (2230628606.py, line 1)",
     "output_type": "error",
     "traceback": [
      "\u001b[1;36m  Cell \u001b[1;32mIn[16], line 1\u001b[1;36m\u001b[0m\n\u001b[1;33m    def boas_vindas(nome=Linda, quantidade): #argumento sempre no final regra!\u001b[0m\n\u001b[1;37m                                ^\u001b[0m\n\u001b[1;31mSyntaxError\u001b[0m\u001b[1;31m:\u001b[0m non-default argument follows default argument\n"
     ]
    }
   ],
   "source": [
    "def boas_vindas(nome=Linda, quantidade): #argumento sempre no final regra! Aqui vai dar erro está na frente.\n",
    "    print(f'Temos {str(quantidade)} ternos no estoque!')\n",
    "    \n",
    "\n",
    "boas_vindas('Linda', 7)"
   ]
  },
  {
   "cell_type": "code",
   "execution_count": 1,
   "metadata": {},
   "outputs": [
    {
     "name": "stdout",
     "output_type": "stream",
     "text": [
      "Temos Francisco ternos no estoque!\n"
     ]
    }
   ],
   "source": [
    "def boas_vindas(quantidade, nome='Francisco'): #argumento sempre no final regra! Aqui vai dar erro está na frente.\n",
    "\n",
    "    print(f'Temos {str(quantidade)} ternos no estoque!')\n",
    "  \n",
    "\n",
    "boas_vindas('Francisco', 6)"
   ]
  },
  {
   "cell_type": "code",
   "execution_count": 9,
   "metadata": {},
   "outputs": [
    {
     "name": "stdout",
     "output_type": "stream",
     "text": [
      "Olá Francisco!\n",
      "Temos 6 ternos no estoque!\n"
     ]
    }
   ],
   "source": [
    "def boas_vindas(nome='Francisco', quantidade=6 ): #argumento sempre no final regra! Aqui vai dar erro está na frente.\n",
    "    print(f'Olá {nome}!')\n",
    "    print(f'Temos {str(quantidade)} ternos no estoque!')\n",
    "    \n",
    "\n",
    "boas_vindas()"
   ]
  }
 ],
 "metadata": {
  "kernelspec": {
   "display_name": ".venv",
   "language": "python",
   "name": "python3"
  },
  "language_info": {
   "codemirror_mode": {
    "name": "ipython",
    "version": 3
   },
   "file_extension": ".py",
   "mimetype": "text/x-python",
   "name": "python",
   "nbconvert_exporter": "python",
   "pygments_lexer": "ipython3",
   "version": "3.11.4"
  }
 },
 "nbformat": 4,
 "nbformat_minor": 2
}
