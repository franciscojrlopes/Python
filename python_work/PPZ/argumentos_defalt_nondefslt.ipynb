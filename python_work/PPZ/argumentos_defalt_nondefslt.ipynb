{
 "cells": [
  {
   "cell_type": "markdown",
   "metadata": {},
   "source": [
    "Arguementos:\n",
    "\n",
    "Defalt-----> aquele você define o valor no parâmetro.\n",
    "Non-Defalt ------> aquele que NÃO define o valor no parâmeto.\n",
    "\n"
   ]
  },
  {
   "cell_type": "code",
   "execution_count": 2,
   "metadata": {},
   "outputs": [
    {
     "name": "stdout",
     "output_type": "stream",
     "text": [
      "OláFrancisco!\n",
      "Temos 5 ternos no estoque!\n",
      "OláJosé!\n",
      "Temos 3 ternos no estoque!\n",
      "OláMarcio!\n",
      "Temos 2 ternos no estoque!\n"
     ]
    }
   ],
   "source": [
    "def boas_vindas(nome, quantidade):\n",
    "    print(f'Olá {nome}!')\n",
    "    print(f'Temos {str(quantidade)} ternos no estoque!')\n",
    "\n",
    "boas_vindas('Francisco', 5)\n",
    "boas_vindas('José', 3)\n",
    "boas_vindas('Marcio', 2)"
   ]
  },
  {
   "cell_type": "code",
   "execution_count": 1,
   "metadata": {},
   "outputs": [
    {
     "name": "stdout",
     "output_type": "stream",
     "text": [
      "OláFrancisco!\n",
      "Temos 5 ternos no estoque!\n",
      "OláJosé!\n",
      "Temos 3 ternos no estoque!\n",
      "OláMarcio!\n",
      "Temos 2 ternos no estoque!\n"
     ]
    }
   ],
   "source": [
    "def boas_vindas(nome, quantidade):\n",
    "    print(f'Olá {nome}!')\n",
    "    print(f'Temos {int(quantidade)} ternos no estoque!')\n",
    "\n",
    "boas_vindas('Francisco', 5)\n",
    "boas_vindas('José', 3)\n",
    "boas_vindas('Marcio', 2)"
   ]
  },
  {
   "cell_type": "code",
   "execution_count": 4,
   "metadata": {},
   "outputs": [
    {
     "ename": "TypeError",
     "evalue": "boas_vindas() missing 1 required positional argument: 'quantidade'",
     "output_type": "error",
     "traceback": [
      "\u001b[1;31m---------------------------------------------------------------------------\u001b[0m",
      "\u001b[1;31mTypeError\u001b[0m                                 Traceback (most recent call last)",
      "Cell \u001b[1;32mIn[4], line 5\u001b[0m\n\u001b[0;32m      2\u001b[0m     \u001b[38;5;28mprint\u001b[39m(\u001b[38;5;124mf\u001b[39m\u001b[38;5;124m'\u001b[39m\u001b[38;5;124mOlá\u001b[39m\u001b[38;5;132;01m{\u001b[39;00mnome\u001b[38;5;132;01m}\u001b[39;00m\u001b[38;5;124m!\u001b[39m\u001b[38;5;124m'\u001b[39m)\n\u001b[0;32m      3\u001b[0m     \u001b[38;5;28mprint\u001b[39m(\u001b[38;5;124mf\u001b[39m\u001b[38;5;124m'\u001b[39m\u001b[38;5;124mTemos \u001b[39m\u001b[38;5;132;01m{\u001b[39;00m\u001b[38;5;28mstr\u001b[39m(quantidade)\u001b[38;5;132;01m}\u001b[39;00m\u001b[38;5;124m ternos no estoque!\u001b[39m\u001b[38;5;124m'\u001b[39m)\n\u001b[1;32m----> 5\u001b[0m \u001b[43mboas_vindas\u001b[49m\u001b[43m(\u001b[49m\u001b[38;5;124;43m'\u001b[39;49m\u001b[38;5;124;43mFrancisco\u001b[39;49m\u001b[38;5;124;43m'\u001b[39;49m\u001b[43m)\u001b[49m\n",
      "\u001b[1;31mTypeError\u001b[0m: boas_vindas() missing 1 required positional argument: 'quantidade'"
     ]
    }
   ],
   "source": [
    "def boas_vindas(nome, quantidade):\n",
    "    print(f'Olá {nome}!')\n",
    "    print(f'Temos {str(quantidade)} ternos no estoque!')\n",
    "\n",
    "boas_vindas('Francisco')\n"
   ]
  },
  {
   "cell_type": "code",
   "execution_count": 5,
   "metadata": {},
   "outputs": [
    {
     "ename": "TypeError",
     "evalue": "boas_vindas() takes 2 positional arguments but 3 were given",
     "output_type": "error",
     "traceback": [
      "\u001b[1;31m---------------------------------------------------------------------------\u001b[0m",
      "\u001b[1;31mTypeError\u001b[0m                                 Traceback (most recent call last)",
      "Cell \u001b[1;32mIn[5], line 5\u001b[0m\n\u001b[0;32m      2\u001b[0m     \u001b[38;5;28mprint\u001b[39m(\u001b[38;5;124mf\u001b[39m\u001b[38;5;124m'\u001b[39m\u001b[38;5;124mOlá\u001b[39m\u001b[38;5;132;01m{\u001b[39;00mnome\u001b[38;5;132;01m}\u001b[39;00m\u001b[38;5;124m!\u001b[39m\u001b[38;5;124m'\u001b[39m)\n\u001b[0;32m      3\u001b[0m     \u001b[38;5;28mprint\u001b[39m(\u001b[38;5;124mf\u001b[39m\u001b[38;5;124m'\u001b[39m\u001b[38;5;124mTemos \u001b[39m\u001b[38;5;132;01m{\u001b[39;00m\u001b[38;5;28mstr\u001b[39m(quantidade)\u001b[38;5;132;01m}\u001b[39;00m\u001b[38;5;124m ternos no estoque!\u001b[39m\u001b[38;5;124m'\u001b[39m)\n\u001b[1;32m----> 5\u001b[0m \u001b[43mboas_vindas\u001b[49m\u001b[43m(\u001b[49m\u001b[38;5;124;43m'\u001b[39;49m\u001b[38;5;124;43mFrancisco\u001b[39;49m\u001b[38;5;124;43m'\u001b[39;49m\u001b[43m,\u001b[49m\u001b[43m \u001b[49m\u001b[38;5;241;43m2\u001b[39;49m\u001b[43m,\u001b[49m\u001b[43m \u001b[49m\u001b[38;5;241;43m5\u001b[39;49m\u001b[43m)\u001b[49m\n",
      "\u001b[1;31mTypeError\u001b[0m: boas_vindas() takes 2 positional arguments but 3 were given"
     ]
    }
   ],
   "source": [
    "def boas_vindas(nome, quantidade):\n",
    "    print(f'Olá {nome}!')\n",
    "    print(f'Temos {str(quantidade)} ternos no estoque!')\n",
    "\n",
    "boas_vindas('Francisco', 2, 5)"
   ]
  },
  {
   "cell_type": "code",
   "execution_count": 6,
   "metadata": {},
   "outputs": [
    {
     "name": "stdout",
     "output_type": "stream",
     "text": [
      "OláFrancisco!\n",
      "Temos 6 ternos no estoque!\n"
     ]
    }
   ],
   "source": [
    "def boas_vindas(nome, quantidade=6): #default eu defini o parâmetro.\n",
    "    print(f'Olá {nome}!')\n",
    "    print(f'Temos {str(quantidade)} ternos no estoque!')\n",
    "\n",
    "boas_vindas('Francisco')"
   ]
  },
  {
   "cell_type": "code",
   "execution_count": 7,
   "metadata": {},
   "outputs": [
    {
     "name": "stdout",
     "output_type": "stream",
     "text": [
      "OláFrancisco!\n",
      "Temos 4 ternos no estoque!\n"
     ]
    }
   ],
   "source": [
    "def boas_vindas(nome, quantidade=6): #default eu defini o parâmetro.\n",
    "    print(f'Olá {nome}!')\n",
    "    print(f'Temos {str(quantidade)} ternos no estoque!')\n",
    "\n",
    "boas_vindas('Francisco', 4)"
   ]
  },
  {
   "cell_type": "code",
   "execution_count": 8,
   "metadata": {},
   "outputs": [
    {
     "name": "stdout",
     "output_type": "stream",
     "text": [
      "OláFrancisco!\n",
      "Temos 7 ternos no estoque!\n"
     ]
    }
   ],
   "source": [
    "def boas_vindas(nome, quantidade=6): #default eu defini o parâmetro.\n",
    "    print(f'Olá {nome}!')\n",
    "    print(f'Temos {str(quantidade)} ternos no estoque!')\n",
    "\n",
    "boas_vindas('Francisco', 7)"
   ]
  }
 ],
 "metadata": {
  "kernelspec": {
   "display_name": ".venv",
   "language": "python",
   "name": "python3"
  },
  "language_info": {
   "codemirror_mode": {
    "name": "ipython",
    "version": 3
   },
   "file_extension": ".py",
   "mimetype": "text/x-python",
   "name": "python",
   "nbconvert_exporter": "python",
   "pygments_lexer": "ipython3",
   "version": "3.11.4"
  }
 },
 "nbformat": 4,
 "nbformat_minor": 2
}
