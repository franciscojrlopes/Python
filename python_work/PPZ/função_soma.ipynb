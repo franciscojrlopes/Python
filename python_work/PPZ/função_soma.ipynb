{
 "cells": [
  {
   "cell_type": "code",
   "execution_count": 1,
   "metadata": {},
   "outputs": [
    {
     "name": "stdout",
     "output_type": "stream",
     "text": [
      "(2, 3, 4, 7)\n"
     ]
    }
   ],
   "source": [
    "# Função que soma vários números:\n",
    "\n",
    "def soma(*numeros):\n",
    "    return numeros\n",
    "x = soma(2, 3, 4, 7)\n",
    "\n",
    "print(x)\n",
    "\n"
   ]
  },
  {
   "cell_type": "code",
   "execution_count": 2,
   "metadata": {},
   "outputs": [
    {
     "name": "stdout",
     "output_type": "stream",
     "text": [
      "16\n"
     ]
    }
   ],
   "source": [
    "def soma(*numeros):\n",
    "    resultado = 0\n",
    "    for num in numeros:\n",
    "        resultado += num\n",
    "    return resultado\n",
    "\n",
    "x = soma(2, 3, 4, 7)\n",
    "\n",
    "print(x)\n",
    "\n"
   ]
  }
 ],
 "metadata": {
  "kernelspec": {
   "display_name": ".venv",
   "language": "python",
   "name": "python3"
  },
  "language_info": {
   "codemirror_mode": {
    "name": "ipython",
    "version": 3
   },
   "file_extension": ".py",
   "mimetype": "text/x-python",
   "name": "python",
   "nbconvert_exporter": "python",
   "pygments_lexer": "ipython3",
   "version": "3.11.4"
  }
 },
 "nbformat": 4,
 "nbformat_minor": 2
}
