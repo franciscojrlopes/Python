{
 "cells": [
  {
   "cell_type": "code",
   "execution_count": 11,
   "metadata": {},
   "outputs": [
    {
     "name": "stdout",
     "output_type": "stream",
     "text": [
      "Bem passada!\n"
     ]
    }
   ],
   "source": [
    "temp_carne = int(input('Qual é a temperatura da carne?'))\n",
    "if temp_carne <= 48:\n",
    "    print('Cozinhar por mais alguns minutos por favor.')\n",
    "\n",
    "elif temp_carne in range(48, 53):\n",
    "    print('Selada')\n",
    "elif temp_carne in range(54, 59):\n",
    "    print('Ao ponto para mal passada!')\n",
    "elif temp_carne in range(60, 64):\n",
    "    print('Ao ponto!')\n",
    "elif temp_carne in range(65, 70):\n",
    "    print('Ao ponto para bem passada!')\n",
    "elif temp_carne >=71:\n",
    "    print('Bem passada!')\n"
   ]
  }
 ],
 "metadata": {
  "kernelspec": {
   "display_name": ".venv",
   "language": "python",
   "name": "python3"
  },
  "language_info": {
   "codemirror_mode": {
    "name": "ipython",
    "version": 3
   },
   "file_extension": ".py",
   "mimetype": "text/x-python",
   "name": "python",
   "nbconvert_exporter": "python",
   "pygments_lexer": "ipython3",
   "version": "3.11.4"
  }
 },
 "nbformat": 4,
 "nbformat_minor": 2
}
