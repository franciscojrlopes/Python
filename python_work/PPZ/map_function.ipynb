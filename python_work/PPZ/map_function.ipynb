{
 "cells": [
  {
   "cell_type": "markdown",
   "metadata": {},
   "source": [
    "Map Function:\n",
    "    Muito utilizado com listas;\n",
    "    Aplicar uma função a um iterable, por itens (lists, typle, dic, etc...).\n",
    "\n",
    "https://docs.python.org/3/library/functions.html"
   ]
  },
  {
   "cell_type": "code",
   "execution_count": 3,
   "metadata": {},
   "outputs": [
    {
     "name": "stdout",
     "output_type": "stream",
     "text": [
      "<function multi at 0x00000115E4D862A0>\n"
     ]
    }
   ],
   "source": [
    "lista = {1, 2, 3, 4}\n",
    "def multi(x):\n",
    "    return x * 2\n",
    "print(multi)"
   ]
  },
  {
   "cell_type": "code",
   "execution_count": 4,
   "metadata": {},
   "outputs": [
    {
     "name": "stdout",
     "output_type": "stream",
     "text": [
      "[2, 4, 6, 8]\n"
     ]
    }
   ],
   "source": [
    "lista1 = {1, 2, 3, 4}\n",
    "def multi(x): # função mapeando a lista\n",
    "    return x * 2\n",
    "lista2 = map(multi, lista1)\n",
    "print(list(lista2))"
   ]
  },
  {
   "cell_type": "code",
   "execution_count": 5,
   "metadata": {},
   "outputs": [
    {
     "name": "stdout",
     "output_type": "stream",
     "text": [
      "[2, 4, 6, 8]\n"
     ]
    }
   ],
   "source": [
    "# Map Lambda\n",
    "lista1 = {1, 2, 3, 4}\n",
    "lista2 = map(lambda x: x * 2 , lista1)\n",
    "print(list(lista2))"
   ]
  },
  {
   "cell_type": "code",
   "execution_count": 6,
   "metadata": {},
   "outputs": [
    {
     "name": "stdout",
     "output_type": "stream",
     "text": [
      "[2, 4, 6, 8]\n"
     ]
    }
   ],
   "source": [
    "lista1 = {1, 2, 3, 4} \n",
    "print(list(map(lambda x: x * 2, lista1)))\n",
    "\n",
    "# menos linha de código............ uma linha.............."
   ]
  }
 ],
 "metadata": {
  "kernelspec": {
   "display_name": ".venv",
   "language": "python",
   "name": "python3"
  },
  "language_info": {
   "codemirror_mode": {
    "name": "ipython",
    "version": 3
   },
   "file_extension": ".py",
   "mimetype": "text/x-python",
   "name": "python",
   "nbconvert_exporter": "python",
   "pygments_lexer": "ipython3",
   "version": "3.11.4"
  }
 },
 "nbformat": 4,
 "nbformat_minor": 2
}
