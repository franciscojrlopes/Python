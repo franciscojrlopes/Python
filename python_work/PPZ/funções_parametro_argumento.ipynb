{
 "cells": [
  {
   "cell_type": "markdown",
   "metadata": {},
   "source": [
    "Funções - Python\n",
    "Don't repeat yourself..........\n",
    "Parâmetro Argumento ------->>>>>\n"
   ]
  },
  {
   "cell_type": "code",
   "execution_count": 6,
   "metadata": {},
   "outputs": [
    {
     "name": "stdout",
     "output_type": "stream",
     "text": [
      "Olá Francisco!\n",
      "Temos 5 ternos em estoque\n",
      "Olá José!\n",
      "Temos 3 ternos em estoque\n",
      "Olá Marcio!\n",
      "Temos 2 ternos em estoque\n"
     ]
    }
   ],
   "source": [
    "def boas_vindas_Francisco():\n",
    "    print('Olá Francisco!')\n",
    "    print('Temos 5 ternos em estoque')\n",
    "\n",
    "def boas_vindas_José():\n",
    "    print('Olá José!')\n",
    "    print('Temos 3 ternos em estoque')\n",
    "\n",
    "def boas_vindas_Marcio():\n",
    "    print('Olá Marcio!')\n",
    "    print('Temos 2 ternos em estoque')\n",
    "    \n",
    "boas_vindas_Francisco()\n",
    "boas_vindas_José()\n",
    "boas_vindas_Marcio()"
   ]
  },
  {
   "cell_type": "code",
   "execution_count": 7,
   "metadata": {},
   "outputs": [],
   "source": [
    "def boas_vindas_Francisco():\n",
    "    print(f'Olá{nome}!')\n",
    "    print(f'Temos {quantidade} ternos no estoque!')"
   ]
  },
  {
   "cell_type": "code",
   "execution_count": 11,
   "metadata": {},
   "outputs": [
    {
     "name": "stdout",
     "output_type": "stream",
     "text": [
      "OláFrancisco!\n",
      "Temos 5 ternos no estoque!\n",
      "OláJosé!\n",
      "Temos 3 ternos no estoque!\n",
      "OláMarcio!\n",
      "Temos 2 ternos no estoque!\n"
     ]
    }
   ],
   "source": [
    "def boas_vindas(nome, quantidade):\n",
    "    print(f'Olá{nome}!')\n",
    "    print(f'Temos {str(quantidade)} ternos no estoque!')\n",
    "\n",
    "boas_vindas('Francisco', 5)\n",
    "boas_vindas('José', 3)\n",
    "boas_vindas('Marcio', 2)"
   ]
  }
 ],
 "metadata": {
  "kernelspec": {
   "display_name": ".venv",
   "language": "python",
   "name": "python3"
  },
  "language_info": {
   "codemirror_mode": {
    "name": "ipython",
    "version": 3
   },
   "file_extension": ".py",
   "mimetype": "text/x-python",
   "name": "python",
   "nbconvert_exporter": "python",
   "pygments_lexer": "ipython3",
   "version": "3.11.4"
  }
 },
 "nbformat": 4,
 "nbformat_minor": 2
}
