{
 "cells": [
  {
   "cell_type": "code",
   "execution_count": 7,
   "metadata": {},
   "outputs": [
    {
     "name": "stdout",
     "output_type": "stream",
     "text": [
      "Abacate\n",
      "A\n",
      "b\n",
      "a\n",
      "c\n",
      "a\n",
      "t\n",
      "e\n"
     ]
    }
   ],
   "source": [
    "fruta = 'Abacate'\n",
    "# Index  0123456\n",
    "print(fruta)\n",
    "print(fruta [0])\n",
    "print(fruta[1])\n",
    "print(fruta[2])\n",
    "print(fruta[3])\n",
    "print(fruta[4])\n",
    "print(fruta[5])\n",
    "print(fruta[6])\n",
    "\n"
   ]
  },
  {
   "cell_type": "code",
   "execution_count": 13,
   "metadata": {},
   "outputs": [
    {
     "name": "stdout",
     "output_type": "stream",
     "text": [
      "Chico\n",
      "Chico\n",
      "i\n"
     ]
    }
   ],
   "source": [
    "nome = 'Chico'\n",
    "print(nome)\n",
    "print(nome [0:5])\n",
    "print(nome [5-3])"
   ]
  }
 ],
 "metadata": {
  "kernelspec": {
   "display_name": ".venv",
   "language": "python",
   "name": "python3"
  },
  "language_info": {
   "codemirror_mode": {
    "name": "ipython",
    "version": 3
   },
   "file_extension": ".py",
   "mimetype": "text/x-python",
   "name": "python",
   "nbconvert_exporter": "python",
   "pygments_lexer": "ipython3",
   "version": "3.11.4"
  }
 },
 "nbformat": 4,
 "nbformat_minor": 2
}
