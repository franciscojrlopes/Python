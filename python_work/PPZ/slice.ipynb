{
 "cells": [
  {
   "cell_type": "code",
   "execution_count": 6,
   "metadata": {},
   "outputs": [
    {
     "name": "stdout",
     "output_type": "stream",
     "text": [
      "Abacate\n",
      "A\n",
      "b\n",
      "a\n",
      "c\n",
      "a\n",
      "t\n",
      "e\n"
     ]
    }
   ],
   "source": [
    "fruta = 'Abacate'\n",
    "\n",
    "print(fruta)\n",
    "print(fruta [0])\n",
    "print(fruta[1])\n",
    "print(fruta[2])\n",
    "print(fruta[3])\n",
    "print(fruta[4])\n",
    "print(fruta[5])\n",
    "print(fruta[6])\n",
    "\n"
   ]
  }
 ],
 "metadata": {
  "kernelspec": {
   "display_name": ".venv",
   "language": "python",
   "name": "python3"
  },
  "language_info": {
   "codemirror_mode": {
    "name": "ipython",
    "version": 3
   },
   "file_extension": ".py",
   "mimetype": "text/x-python",
   "name": "python",
   "nbconvert_exporter": "python",
   "pygments_lexer": "ipython3",
   "version": "3.11.4"
  }
 },
 "nbformat": 4,
 "nbformat_minor": 2
}
