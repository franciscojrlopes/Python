{
 "cells": [
  {
   "cell_type": "markdown",
   "metadata": {},
   "source": [
    "Tuples:\n",
    "        Armazenar mais de uma informação em variáveis;\n",
    "        Manter a sequências dos dados em uma variável;\n",
    "        Não podem ser alteradas (inalteradas).\n",
    "\n"
   ]
  },
  {
   "cell_type": "code",
   "execution_count": 6,
   "metadata": {},
   "outputs": [
    {
     "name": "stdout",
     "output_type": "stream",
     "text": [
      "<class 'list'>\n",
      "<class 'tuple'>\n",
      "['amarelo', 'verde', 'azul', 'vermelho', 'amarelo', 'verde', 'azul', 'vermelho']\n",
      "('amarelo', 'verde', 'azul', 'vermelho', 'amarelo', 'verde', 'azul', 'vermelho')\n"
     ]
    }
   ],
   "source": [
    "cores_list = ['amarelo', 'verde', 'azul', 'vermelho']\n",
    "cores_tuple = ('amarelo', 'verde', 'azul', 'vermelho')\n",
    "\n",
    "print(type(cores_list))\n",
    "print(type(cores_tuple))\n",
    "\n",
    "duas_listas = cores_list * 2\n",
    "print(duas_listas)\n",
    "\n",
    "duas_listas = cores_tuple * 2\n",
    "print(duas_listas)\n"
   ]
  }
 ],
 "metadata": {
  "kernelspec": {
   "display_name": ".venv",
   "language": "python",
   "name": "python3"
  },
  "language_info": {
   "codemirror_mode": {
    "name": "ipython",
    "version": 3
   },
   "file_extension": ".py",
   "mimetype": "text/x-python",
   "name": "python",
   "nbconvert_exporter": "python",
   "pygments_lexer": "ipython3",
   "version": "3.11.4"
  }
 },
 "nbformat": 4,
 "nbformat_minor": 2
}
