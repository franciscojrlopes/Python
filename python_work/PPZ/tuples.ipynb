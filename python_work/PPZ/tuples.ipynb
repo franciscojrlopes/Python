{
 "cells": [
  {
   "cell_type": "markdown",
   "metadata": {},
   "source": [
    "Tuples:\n",
    "        Armazenar mais de uma informação em variáveis;\n",
    "        Manter a sequências dos dados em uma variável;\n",
    "        Não podem ser alteradas (inalteradas).\n",
    "\n",
    "Tuple mais rápida e usa menos memória................"
   ]
  },
  {
   "cell_type": "code",
   "execution_count": 6,
   "metadata": {},
   "outputs": [
    {
     "name": "stdout",
     "output_type": "stream",
     "text": [
      "<class 'list'>\n",
      "<class 'tuple'>\n",
      "['amarelo', 'verde', 'azul', 'vermelho', 'amarelo', 'verde', 'azul', 'vermelho']\n",
      "('amarelo', 'verde', 'azul', 'vermelho', 'amarelo', 'verde', 'azul', 'vermelho')\n"
     ]
    }
   ],
   "source": [
    "cores_list = ['amarelo', 'verde', 'azul', 'vermelho']\n",
    "cores_tuple = ('amarelo', 'verde', 'azul', 'vermelho')\n",
    "\n",
    "print(type(cores_list))\n",
    "print(type(cores_tuple))\n",
    "\n",
    "duas_listas = cores_list * 2\n",
    "print(duas_listas)\n",
    "\n",
    "duas_listas = cores_tuple * 2\n",
    "print(duas_listas)\n"
   ]
  },
  {
   "cell_type": "code",
   "execution_count": 7,
   "metadata": {},
   "outputs": [
    {
     "name": "stdout",
     "output_type": "stream",
     "text": [
      "['amarelo', 'verde', 'azul', 'vermelho', 'roxo']\n"
     ]
    }
   ],
   "source": [
    "cores_list.append('roxo')\n",
    "print(cores_list)"
   ]
  },
  {
   "cell_type": "code",
   "execution_count": 8,
   "metadata": {},
   "outputs": [
    {
     "ename": "AttributeError",
     "evalue": "'tuple' object has no attribute 'append'",
     "output_type": "error",
     "traceback": [
      "\u001b[1;31m---------------------------------------------------------------------------\u001b[0m",
      "\u001b[1;31mAttributeError\u001b[0m                            Traceback (most recent call last)",
      "Cell \u001b[1;32mIn[8], line 1\u001b[0m\n\u001b[1;32m----> 1\u001b[0m \u001b[43mcores_tuple\u001b[49m\u001b[38;5;241;43m.\u001b[39;49m\u001b[43mappend\u001b[49m(\u001b[38;5;124m'\u001b[39m\u001b[38;5;124mroxo\u001b[39m\u001b[38;5;124m'\u001b[39m)\n\u001b[0;32m      2\u001b[0m \u001b[38;5;28mprint\u001b[39m(cores_tuple)\n",
      "\u001b[1;31mAttributeError\u001b[0m: 'tuple' object has no attribute 'append'"
     ]
    }
   ],
   "source": [
    "cores_tuple.append('roxo')\n",
    "print(cores_tuple)"
   ]
  }
 ],
 "metadata": {
  "kernelspec": {
   "display_name": ".venv",
   "language": "python",
   "name": "python3"
  },
  "language_info": {
   "codemirror_mode": {
    "name": "ipython",
    "version": 3
   },
   "file_extension": ".py",
   "mimetype": "text/x-python",
   "name": "python",
   "nbconvert_exporter": "python",
   "pygments_lexer": "ipython3",
   "version": "3.11.4"
  }
 },
 "nbformat": 4,
 "nbformat_minor": 2
}
