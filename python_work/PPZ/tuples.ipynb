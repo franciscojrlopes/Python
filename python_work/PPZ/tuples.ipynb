{
 "cells": [
  {
   "cell_type": "markdown",
   "metadata": {},
   "source": [
    "Tuples:\n",
    "        Armazenar mais de uma informação em variáveis;\n",
    "        Manter a sequências dos dados em uma variável;\n",
    "        Não podem ser alteradas (inalteradas).\n",
    "\n"
   ]
  },
  {
   "cell_type": "code",
   "execution_count": 2,
   "metadata": {},
   "outputs": [
    {
     "name": "stdout",
     "output_type": "stream",
     "text": [
      "<class 'list'>\n",
      "<class 'tuple'>\n"
     ]
    }
   ],
   "source": [
    "cores_list = ['amarelo', 'verde', 'azul', 'vermelho']\n",
    "cores_tuple = ('amarelo', 'verde', 'azul', 'vermelho')\n",
    "\n",
    "print(type(cores_list))\n",
    "print(type(cores_tuple))"
   ]
  }
 ],
 "metadata": {
  "kernelspec": {
   "display_name": ".venv",
   "language": "python",
   "name": "python3"
  },
  "language_info": {
   "codemirror_mode": {
    "name": "ipython",
    "version": 3
   },
   "file_extension": ".py",
   "mimetype": "text/x-python",
   "name": "python",
   "nbconvert_exporter": "python",
   "pygments_lexer": "ipython3",
   "version": "3.11.4"
  }
 },
 "nbformat": 4,
 "nbformat_minor": 2
}
