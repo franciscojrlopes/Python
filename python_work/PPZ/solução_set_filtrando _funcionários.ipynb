{
 "cells": [
  {
   "cell_type": "markdown",
   "metadata": {},
   "source": [
    "lista1 = funcionários que tem carro e trabalham a noite \n",
    "lista2 = funcionários que tem carro e trabalham durante o dia\n",
    "lista3 = funcionários que não tem carro\n",
    "\n",
    "\n"
   ]
  },
  {
   "cell_type": "code",
   "execution_count": 4,
   "metadata": {},
   "outputs": [
    {
     "name": "stdout",
     "output_type": "stream",
     "text": [
      "{'Bruno'}\n",
      "{'Alice', 'Marcos', 'Melissa'}\n",
      "{'Ana', 'Sophia', 'Pedro'}\n"
     ]
    }
   ],
   "source": [
    "funcionários = ['Ana', 'Marcos', 'Alice', 'Pedro', 'Sophia', 'Bruno', 'Melissa']\n",
    "turno_dia = ['Ana', 'Marcos', 'Alice', 'Melissa']\n",
    "turno_noite = ['Pedro', 'Sophia', 'Bruno']\n",
    "tem_carro = ['Marcos', 'Alice', 'Bruno', 'Melissa']\n",
    "\n",
    "lista1 = set(tem_carro).intersection(turno_noite)\n",
    "print(lista1)\n",
    "lista2 = set(tem_carro).intersection(turno_dia)\n",
    "print(lista2)\n",
    "lista3 = set(funcionários).difference(tem_carro)\n",
    "print(lista3)"
   ]
  }
 ],
 "metadata": {
  "kernelspec": {
   "display_name": ".venv",
   "language": "python",
   "name": "python3"
  },
  "language_info": {
   "codemirror_mode": {
    "name": "ipython",
    "version": 3
   },
   "file_extension": ".py",
   "mimetype": "text/x-python",
   "name": "python",
   "nbconvert_exporter": "python",
   "pygments_lexer": "ipython3",
   "version": "3.11.4"
  }
 },
 "nbformat": 4,
 "nbformat_minor": 2
}
