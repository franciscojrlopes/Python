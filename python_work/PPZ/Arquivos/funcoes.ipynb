{
 "cells": [
  {
   "cell_type": "code",
   "execution_count": 2,
   "metadata": {},
   "outputs": [
    {
     "name": "stdout",
     "output_type": "stream",
     "text": [
      "Esta função vai somar valores.\n",
      "Esta função vai multiplicar valores.\n"
     ]
    }
   ],
   "source": [
    "def somar():\n",
    "    print('Esta função vai somar valores.')\n",
    "\n",
    "\n",
    "def multi():\n",
    "    print('Esta função vai multiplicar valores.')\n",
    "\n",
    "\n",
    "somar()\n",
    "multi()\n"
   ]
  }
 ],
 "metadata": {
  "kernelspec": {
   "display_name": ".venv",
   "language": "python",
   "name": "python3"
  },
  "language_info": {
   "codemirror_mode": {
    "name": "ipython",
    "version": 3
   },
   "file_extension": ".py",
   "mimetype": "text/x-python",
   "name": "python",
   "nbconvert_exporter": "python",
   "pygments_lexer": "ipython3",
   "version": "3.11.4"
  }
 },
 "nbformat": 4,
 "nbformat_minor": 2
}
