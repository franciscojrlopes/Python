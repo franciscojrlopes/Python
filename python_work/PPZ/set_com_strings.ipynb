{
 "cells": [
  {
   "cell_type": "code",
   "execution_count": 1,
   "metadata": {},
   "outputs": [
    {
     "name": "stdout",
     "output_type": "stream",
     "text": [
      "{'e', 'b', 'a', 'c', 'd'}\n"
     ]
    }
   ],
   "source": [
    "set1 = {'a', 'b', 'c'}\n",
    "set2 = {'a', 'd', 'e'}\n",
    "set3 = {'c', 'd', 'f'}\n",
    "\n",
    "set4 = set1.union(set2)\n",
    "print(set4)"
   ]
  },
  {
   "cell_type": "code",
   "execution_count": 2,
   "metadata": {},
   "outputs": [
    {
     "name": "stdout",
     "output_type": "stream",
     "text": [
      "{'b', 'a'}\n"
     ]
    }
   ],
   "source": [
    "set1 = {'a', 'b', 'c'}\n",
    "set2 = {'a', 'd', 'e'}\n",
    "set3 = {'c', 'd', 'f'}\n",
    "\n",
    "set4 = set1.difference(set3)\n",
    "print(set4)"
   ]
  },
  {
   "cell_type": "code",
   "execution_count": 3,
   "metadata": {},
   "outputs": [
    {
     "name": "stdout",
     "output_type": "stream",
     "text": [
      "{'a'}\n"
     ]
    }
   ],
   "source": [
    "set1 = {'a', 'b', 'c'}\n",
    "set2 = {'a', 'd', 'e'}\n",
    "set3 = {'c', 'd', 'f'}\n",
    "\n",
    "set4 = set1.intersection(set2)\n",
    "print(set4)"
   ]
  },
  {
   "cell_type": "code",
   "execution_count": 4,
   "metadata": {},
   "outputs": [
    {
     "name": "stdout",
     "output_type": "stream",
     "text": [
      "{'b', 'd', 'f', 'a'}\n"
     ]
    }
   ],
   "source": [
    "set1 = {'a', 'b', 'c'}\n",
    "set2 = {'a', 'd', 'e'}\n",
    "set3 = {'c', 'd', 'f'}\n",
    "\n",
    "set4 = set1.symmetric_difference(set3)\n",
    "print(set4)"
   ]
  }
 ],
 "metadata": {
  "kernelspec": {
   "display_name": ".venv",
   "language": "python",
   "name": "python3"
  },
  "language_info": {
   "codemirror_mode": {
    "name": "ipython",
    "version": 3
   },
   "file_extension": ".py",
   "mimetype": "text/x-python",
   "name": "python",
   "nbconvert_exporter": "python",
   "pygments_lexer": "ipython3",
   "version": "3.11.4"
  }
 },
 "nbformat": 4,
 "nbformat_minor": 2
}
