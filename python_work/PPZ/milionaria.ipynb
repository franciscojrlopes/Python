{
 "cells": [
  {
   "cell_type": "code",
   "execution_count": 5,
   "metadata": {},
   "outputs": [
    {
     "name": "stdout",
     "output_type": "stream",
     "text": [
      "Números: [2, 38, 21, 44, 22, 34]\n",
      "Trevos: [6, 4]\n"
     ]
    }
   ],
   "source": [
    "import random\n",
    "\n",
    "def gerar_numeros_aleatorios():\n",
    "    # Gerando 6 números únicos entre 1 e 50\n",
    "    numeros = random.sample(range(1, 51), 6)\n",
    "    \n",
    "    # Gerando 2 trevos únicos entre 1 e 6\n",
    "    trevos = random.sample(range(1, 7), 2)\n",
    "    \n",
    "    return numeros, trevos\n",
    "\n",
    "# Gerando e exibindo os números e trevos aleatórios\n",
    "numeros, trevos = gerar_numeros_aleatorios()\n",
    "print(\"Números:\", numeros)\n",
    "print(\"Trevos:\", trevos)\n"
   ]
  },
  {
   "cell_type": "code",
   "execution_count": 2,
   "metadata": {},
   "outputs": [
    {
     "name": "stdout",
     "output_type": "stream",
     "text": [
      "Númeroso: [42, 8, 20, 26, 12, 44]\n"
     ]
    }
   ],
   "source": [
    "import random\n",
    "\n",
    "def gerar_numeros_aleatorios():\n",
    "    # Gerando 6 números únicos entre 1 e 60\n",
    "    numeros = random.sample(range(1, 61), 6)\n",
    "    \n",
    "    # Gerando 2 trevos únicos entre 1 e 6\n",
    "    # trevos = random.sample(range(1, 7), 2)\n",
    "    \n",
    "#     return numeros, trevos\n",
    "\n",
    "# # Gerando e exibindo os números e trevos aleatórios\n",
    "# numeros, trevos = gerar_numeros_aleatorios()\n",
    "# print(\"Números:\", numeros)\n",
    "# print(\"Trevos:\", trevos)\n",
    "\n",
    "    return numeros\n",
    "numeros = gerar_numeros_aleatorios()\n",
    "print('Númeroso:', numeros)\n"
   ]
  },
  {
   "cell_type": "code",
   "execution_count": 2,
   "metadata": {},
   "outputs": [
    {
     "name": "stdout",
     "output_type": "stream",
     "text": [
      "Números: [14, 16, 3, 19, 20, 8, 23, 6, 1, 4, 24, 5, 15, 25, 22]\n"
     ]
    }
   ],
   "source": [
    "import random\n",
    "\n",
    "def gerar_numeros_aleatorios():\n",
    "    # Gerando 6 números únicos entre 1 e 25\n",
    "    numeros = random.sample(range(1, 26), 15)\n",
    "\n",
    "\n",
    "    return numeros\n",
    "numeros = gerar_numeros_aleatorios()\n",
    "print('Números:', numeros)\n",
    "\n"
   ]
  },
  {
   "cell_type": "code",
   "execution_count": 29,
   "metadata": {},
   "outputs": [
    {
     "name": "stdout",
     "output_type": "stream",
     "text": [
      "Números: [50, 7, 48, 60, 55, 27]\n"
     ]
    }
   ],
   "source": [
    "import random\n",
    "\n",
    "def gerar_numeros_aleatorios():\n",
    "    # Gerando 6 números únicos entre 1 e 60\n",
    "    numeros = random.sample(range(1, 61), 6)\n",
    "\n",
    "\n",
    "    return numeros\n",
    "numeros = gerar_numeros_aleatorios()\n",
    "print('Números:', numeros)"
   ]
  },
  {
   "cell_type": "code",
   "execution_count": 30,
   "metadata": {},
   "outputs": [
    {
     "name": "stdout",
     "output_type": "stream",
     "text": [
      "Números: [71, 3, 60, 37, 33]\n"
     ]
    }
   ],
   "source": [
    "import random\n",
    "\n",
    "def gerar_numeros_aleatorios():\n",
    "    # Gerando 6 números únicos entre 1 e 80\n",
    "    numeros = random.sample(range(1, 81), 5)\n",
    "\n",
    "\n",
    "    return numeros\n",
    "numeros = gerar_numeros_aleatorios()\n",
    "print('Números:', numeros)"
   ]
  }
 ],
 "metadata": {
  "kernelspec": {
   "display_name": ".venv",
   "language": "python",
   "name": "python3"
  },
  "language_info": {
   "codemirror_mode": {
    "name": "ipython",
    "version": 3
   },
   "file_extension": ".py",
   "mimetype": "text/x-python",
   "name": "python",
   "nbconvert_exporter": "python",
   "pygments_lexer": "ipython3",
   "version": "3.11.4"
  }
 },
 "nbformat": 4,
 "nbformat_minor": 2
}
