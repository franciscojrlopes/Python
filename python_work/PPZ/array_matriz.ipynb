{
 "cells": [
  {
   "cell_type": "code",
   "execution_count": 4,
   "metadata": {},
   "outputs": [
    {
     "name": "stdout",
     "output_type": "stream",
     "text": [
      "['a', 'b', 'c', 'd']\n",
      "[10, 20, 30, 40]\n",
      "[1.2, 2.2, 3.2]\n"
     ]
    }
   ],
   "source": [
    "# Array (Matriz)\n",
    "# Similar a listas;\n",
    "# Melhor performance\n",
    "\n",
    "\n",
    "letras = ['a', 'b', 'c', 'd'] \n",
    "numeros_i = [10, 20, 30, 40]\n",
    "numeros_f = [1.2, 2.2, 3.2]\n",
    "\n",
    "print (letras)\n",
    "print(numeros_i)\n",
    "print(numeros_f)"
   ]
  }
 ],
 "metadata": {
  "kernelspec": {
   "display_name": ".venv",
   "language": "python",
   "name": "python3"
  },
  "language_info": {
   "codemirror_mode": {
    "name": "ipython",
    "version": 3
   },
   "file_extension": ".py",
   "mimetype": "text/x-python",
   "name": "python",
   "nbconvert_exporter": "python",
   "pygments_lexer": "ipython3",
   "version": "3.11.4"
  }
 },
 "nbformat": 4,
 "nbformat_minor": 2
}
