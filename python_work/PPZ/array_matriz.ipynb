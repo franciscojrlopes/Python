{
 "cells": [
  {
   "cell_type": "code",
   "execution_count": 4,
   "metadata": {},
   "outputs": [
    {
     "name": "stdout",
     "output_type": "stream",
     "text": [
      "['a', 'b', 'c', 'd']\n",
      "[10, 20, 30, 40]\n",
      "[1.2, 2.2, 3.2]\n"
     ]
    }
   ],
   "source": [
    "# Array (Matriz)\n",
    "# Similar a listas;\n",
    "# Melhor performance\n",
    "\n",
    "\n",
    "letras = ['a', 'b', 'c', 'd'] \n",
    "numeros_i = [10, 20, 30, 40]\n",
    "numeros_f = [1.2, 2.2, 3.2]\n",
    "\n",
    "print (letras)\n",
    "print(numeros_i)\n",
    "print(numeros_f)"
   ]
  },
  {
   "cell_type": "code",
   "execution_count": 3,
   "metadata": {},
   "outputs": [
    {
     "name": "stdout",
     "output_type": "stream",
     "text": [
      "['a', 'b', 'c', 'd']\n",
      "[10, 20, 30, 40]\n",
      "[1.2, 2.2, 3.2]\n",
      "\n",
      "array('u', 'abcd')\n",
      "array('i', [10, 20, 30, 40])\n",
      "array('f', [1.2000000476837158, 2.200000047683716, 3.200000047683716])\n"
     ]
    }
   ],
   "source": [
    "from array import array\n",
    "\n",
    "letras = ['a', 'b', 'c', 'd'] \n",
    "numeros_i = [10, 20, 30, 40]\n",
    "numeros_f = [1.2, 2.2, 3.2]\n",
    "\n",
    "print (letras)\n",
    "print(numeros_i)\n",
    "print(numeros_f)\n",
    "print()\n",
    "\n",
    "letras = array('u',['a', 'b', 'c', 'd'] )\n",
    "print(letras)\n",
    "numeros_i = array('i', [10, 20, 30, 40])\n",
    "print(numeros_i)\n",
    "numeros_f = array('f',[1.2, 2.2, 3.2])\n",
    "print(numeros_f)\n",
    "\n",
    "# Prestar a tençõ no typecode do array........."
   ]
  },
  {
   "cell_type": "code",
   "execution_count": null,
   "metadata": {},
   "outputs": [],
   "source": []
  }
 ],
 "metadata": {
  "kernelspec": {
   "display_name": ".venv",
   "language": "python",
   "name": "python3"
  },
  "language_info": {
   "codemirror_mode": {
    "name": "ipython",
    "version": 3
   },
   "file_extension": ".py",
   "mimetype": "text/x-python",
   "name": "python",
   "nbconvert_exporter": "python",
   "pygments_lexer": "ipython3",
   "version": "3.11.4"
  }
 },
 "nbformat": 4,
 "nbformat_minor": 2
}
