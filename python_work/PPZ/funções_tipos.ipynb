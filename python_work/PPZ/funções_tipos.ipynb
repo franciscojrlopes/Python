{
 "cells": [
  {
   "cell_type": "markdown",
   "metadata": {},
   "source": [
    "Funções: realizam um tarefa, calculam e retornam um valor...."
   ]
  },
  {
   "cell_type": "code",
   "execution_count": 7,
   "metadata": {},
   "outputs": [
    {
     "name": "stdout",
     "output_type": "stream",
     "text": [
      "Olá João, tudo bem?\n",
      "Olá José!\n"
     ]
    }
   ],
   "source": [
    "def cliente1(nome):\n",
    "    print(f'Olá {nome}, tudo bem?')\n",
    "\n",
    "def cliente2(nome):\n",
    "    return f'Olá {nome}!'\n",
    "\n",
    "cliente1('João')\n",
    "print(cliente2('José'))"
   ]
  },
  {
   "cell_type": "code",
   "execution_count": null,
   "metadata": {},
   "outputs": [],
   "source": []
  }
 ],
 "metadata": {
  "kernelspec": {
   "display_name": ".venv",
   "language": "python",
   "name": "python3"
  },
  "language_info": {
   "codemirror_mode": {
    "name": "ipython",
    "version": 3
   },
   "file_extension": ".py",
   "mimetype": "text/x-python",
   "name": "python",
   "nbconvert_exporter": "python",
   "pygments_lexer": "ipython3",
   "version": "3.11.4"
  }
 },
 "nbformat": 4,
 "nbformat_minor": 2
}
