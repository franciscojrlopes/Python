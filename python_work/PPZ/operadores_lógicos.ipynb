{
 "cells": [
  {
   "cell_type": "markdown",
   "metadata": {},
   "source": [
    "Posso usar o and ou or.\n",
    "True ou False.\n",
    "\n"
   ]
  },
  {
   "cell_type": "code",
   "execution_count": 2,
   "metadata": {},
   "outputs": [
    {
     "name": "stdout",
     "output_type": "stream",
     "text": [
      "Financiamento aprovado!\n"
     ]
    }
   ],
   "source": [
    "# Aprovando um financiamento.....\n",
    "\n",
    "renda_acima_de_5mil = True\n",
    "nome_limpo = True\n",
    "if renda_acima_de_5mil and nome_limpo:\n",
    "    print('Financiamento aprovado!')\n",
    "else:\n",
    "    print('Financiamento negado!')"
   ]
  },
  {
   "cell_type": "code",
   "execution_count": 3,
   "metadata": {},
   "outputs": [
    {
     "name": "stdout",
     "output_type": "stream",
     "text": [
      "Financiamento negado!\n"
     ]
    }
   ],
   "source": [
    "# Aprovando um financiamento.....\n",
    "\n",
    "renda_acima_de_5mil = False\n",
    "nome_limpo = True\n",
    "if renda_acima_de_5mil and nome_limpo:\n",
    "    print('Financiamento aprovado!')\n",
    "else:\n",
    "    print('Financiamento negado!')"
   ]
  },
  {
   "cell_type": "code",
   "execution_count": 4,
   "metadata": {},
   "outputs": [
    {
     "name": "stdout",
     "output_type": "stream",
     "text": [
      "Financiamento aprovado!\n"
     ]
    }
   ],
   "source": [
    "# Aprovando um financiamento..... usando or\n",
    "\n",
    "renda_acima_de_5mil = False\n",
    "nome_limpo = True\n",
    "if renda_acima_de_5mil or nome_limpo:\n",
    "    print('Financiamento aprovado!')\n",
    "else:\n",
    "    print('Financiamento negado!')"
   ]
  },
  {
   "cell_type": "code",
   "execution_count": 5,
   "metadata": {},
   "outputs": [
    {
     "name": "stdout",
     "output_type": "stream",
     "text": [
      "Financiamento negado!\n"
     ]
    }
   ],
   "source": [
    "# Aprovando um financiamento..... usando or\n",
    "\n",
    "renda_acima_de_5mil = False\n",
    "nome_limpo = False\n",
    "if renda_acima_de_5mil and nome_limpo:\n",
    "    print('Financiamento aprovado!')\n",
    "else:\n",
    "    print('Financiamento negado!')"
   ]
  },
  {
   "cell_type": "code",
   "execution_count": null,
   "metadata": {},
   "outputs": [],
   "source": []
  }
 ],
 "metadata": {
  "kernelspec": {
   "display_name": ".venv",
   "language": "python",
   "name": "python3"
  },
  "language_info": {
   "codemirror_mode": {
    "name": "ipython",
    "version": 3
   },
   "file_extension": ".py",
   "mimetype": "text/x-python",
   "name": "python",
   "nbconvert_exporter": "python",
   "pygments_lexer": "ipython3",
   "version": "3.11.4"
  }
 },
 "nbformat": 4,
 "nbformat_minor": 2
}
