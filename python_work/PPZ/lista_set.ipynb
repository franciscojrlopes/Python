{
 "cells": [
  {
   "cell_type": "markdown",
   "metadata": {},
   "source": [
    "Set (listas)\n",
    "    Similar a listas;\n",
    "    Evita itens duplicados;\n",
    "    Não utiliza index.\n",
    "    "
   ]
  },
  {
   "cell_type": "code",
   "execution_count": 1,
   "metadata": {},
   "outputs": [
    {
     "name": "stdout",
     "output_type": "stream",
     "text": [
      "{40, 10, 50, 20, 30}\n"
     ]
    }
   ],
   "source": [
    "list1 = [10, 20, 30, 40, 50]\n",
    "list2 = [10, 20, 60, 70]\n",
    "\n",
    "num1 = set(list1)\n",
    "num2 = set(list2)\n",
    "\n",
    "print(num1)\n",
    "\n"
   ]
  },
  {
   "cell_type": "code",
   "execution_count": 6,
   "metadata": {},
   "outputs": [
    {
     "name": "stdout",
     "output_type": "stream",
     "text": [
      "{70, 40, 10, 50, 20, 60, 30}\n",
      "{40, 50, 30}\n",
      "{70, 40, 50, 60, 30}\n",
      "{10, 20}\n",
      "5\n"
     ]
    }
   ],
   "source": [
    "list1 = [10, 20, 30, 40, 50]\n",
    "list2 = [10, 20, 60, 70]\n",
    "\n",
    "num1 = set(list1)\n",
    "num2 = set(list2)\n",
    "\n",
    "print(num1 | num2) # | = Union unifica as lista retirando os repetidos.\n",
    "print(num1 - num2) # - = Diference\n",
    "print(num1 ^ num2) # ^ = Symetric Diference retira os duplicados nas duas listas.\n",
    "print(num1 & num2) # & = And mostra o que é duplicado ao mesmo tempo nas duas listas. \n",
    "print(len(num1))\n",
    "\n",
    "\n"
   ]
  }
 ],
 "metadata": {
  "kernelspec": {
   "display_name": ".venv",
   "language": "python",
   "name": "python3"
  },
  "language_info": {
   "codemirror_mode": {
    "name": "ipython",
    "version": 3
   },
   "file_extension": ".py",
   "mimetype": "text/x-python",
   "name": "python",
   "nbconvert_exporter": "python",
   "pygments_lexer": "ipython3",
   "version": "3.11.4"
  }
 },
 "nbformat": 4,
 "nbformat_minor": 2
}
