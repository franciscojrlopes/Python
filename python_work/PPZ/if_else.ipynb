{
 "cells": [
  {
   "cell_type": "markdown",
   "metadata": {},
   "source": [
    "if, elif, else\n",
    " elif quantos quiser....\n",
    "\n",
    " elif apenas um....\n",
    "\n",
    "    Pratiar com situações diárias................."
   ]
  },
  {
   "cell_type": "code",
   "execution_count": 4,
   "metadata": {},
   "outputs": [
    {
     "name": "stdout",
     "output_type": "stream",
     "text": [
      "Velocidade OK!\n"
     ]
    }
   ],
   "source": [
    "velocidade = 100\n",
    "\n",
    "if velocidade > 110:\n",
    "    print('Acima a velocidade permitida!')\n",
    "    print('Favor reduzir a velocidade!')\n",
    "elif velocidade < 60:\n",
    "    print('Favor dirigir acima de 60km/h')\n",
    "\n",
    "else: \n",
    "    print('Velocidade OK!')"
   ]
  },
  {
   "cell_type": "code",
   "execution_count": 6,
   "metadata": {},
   "outputs": [
    {
     "name": "stdout",
     "output_type": "stream",
     "text": [
      "Favor dirigir acima de 60km/h.\n"
     ]
    }
   ],
   "source": [
    "velocidade = 45\n",
    "\n",
    "if velocidade > 110:\n",
    "    print('Acima a velocidade permitida!')\n",
    "    print('Favor reduzir a velocidade!')\n",
    "elif velocidade < 60:\n",
    "    print('Favor dirigir acima de 60km/h.')\n",
    "\n",
    "else: \n",
    "    print('Velocidade OK!')"
   ]
  },
  {
   "cell_type": "code",
   "execution_count": 2,
   "metadata": {},
   "outputs": [
    {
     "name": "stdout",
     "output_type": "stream",
     "text": [
      "Velocidade OK!\n"
     ]
    }
   ],
   "source": [
    "velocidade = 88\n",
    "\n",
    "if velocidade > 110:\n",
    "    print('Acima a velocidade permitida!')\n",
    "    print('Favor reduzir a velocidade!')\n",
    "elif velocidade < 60:\n",
    "    print('Favor dirigir acima de 60km/h.')\n",
    "\n",
    "else: \n",
    "    print('Velocidade OK!')"
   ]
  },
  {
   "cell_type": "code",
   "execution_count": 3,
   "metadata": {},
   "outputs": [
    {
     "name": "stdout",
     "output_type": "stream",
     "text": [
      "Acima a velocidade permitida!\n",
      "Favor reduzir a velocidade!\n"
     ]
    }
   ],
   "source": [
    "velocidade = 180\n",
    "\n",
    "if velocidade > 110:\n",
    "    print('Acima a velocidade permitida!')\n",
    "    print('Favor reduzir a velocidade!')\n",
    "elif velocidade < 60:\n",
    "    print('Favor dirigir acima de 60km/h.')\n",
    "\n",
    "else: \n",
    "    print('Velocidade OK!')"
   ]
  },
  {
   "cell_type": "code",
   "execution_count": 1,
   "metadata": {},
   "outputs": [
    {
     "name": "stdout",
     "output_type": "stream",
     "text": [
      "Favor dirigir acima de 60km/h.\n"
     ]
    }
   ],
   "source": [
    "velocidade = 18\n",
    "\n",
    "if velocidade > 110:\n",
    "    print('Acima a velocidade permitida!')\n",
    "    print('Favor reduzir a velocidade!')\n",
    "elif velocidade < 60:\n",
    "    print('Favor dirigir acima de 60km/h.')\n",
    "\n",
    "else: \n",
    "    print('Velocidade OK!')"
   ]
  }
 ],
 "metadata": {
  "kernelspec": {
   "display_name": ".venv",
   "language": "python",
   "name": "python3"
  },
  "language_info": {
   "codemirror_mode": {
    "name": "ipython",
    "version": 3
   },
   "file_extension": ".py",
   "mimetype": "text/x-python",
   "name": "python",
   "nbconvert_exporter": "python",
   "pygments_lexer": "ipython3",
   "version": "3.11.4"
  }
 },
 "nbformat": 4,
 "nbformat_minor": 2
}
