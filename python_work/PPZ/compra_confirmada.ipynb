{
 "cells": [
  {
   "cell_type": "code",
   "execution_count": 10,
   "metadata": {},
   "outputs": [
    {
     "name": "stdout",
     "output_type": "stream",
     "text": [
      "Compra no valor de 12,50 e entrega confirmada!\n",
      "Detalhes enviados para seu email.\n"
     ]
    }
   ],
   "source": [
    "compra_confirmada = True\n",
    "dados_da_compra = 'Compra no valor de 12,50 e entrega confirmada!'\n",
    "\n",
    "for enviar in range(3):\n",
    "    if compra_confirmada:\n",
    "        print(dados_da_compra)\n",
    "        print('Detalhes enviados para seu email.')\n",
    "        break"
   ]
  }
 ],
 "metadata": {
  "kernelspec": {
   "display_name": ".venv",
   "language": "python",
   "name": "python3"
  },
  "language_info": {
   "codemirror_mode": {
    "name": "ipython",
    "version": 3
   },
   "file_extension": ".py",
   "mimetype": "text/x-python",
   "name": "python",
   "nbconvert_exporter": "python",
   "pygments_lexer": "ipython3",
   "version": "3.11.4"
  }
 },
 "nbformat": 4,
 "nbformat_minor": 2
}
