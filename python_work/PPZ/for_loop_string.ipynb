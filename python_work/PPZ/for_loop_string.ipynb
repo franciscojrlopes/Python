{
 "cells": [
  {
   "cell_type": "markdown",
   "metadata": {},
   "source": []
  },
  {
   "cell_type": "code",
   "execution_count": 1,
   "metadata": {},
   "outputs": [
    {
     "name": "stdout",
     "output_type": "stream",
     "text": [
      "F\n",
      "r\n",
      "a\n",
      "n\n",
      "c\n",
      "i\n",
      "s\n",
      "c\n",
      "o\n"
     ]
    }
   ],
   "source": [
    "for letra in \"Francisco\":\n",
    "    print(letra)\n",
    "    \n"
   ]
  },
  {
   "cell_type": "code",
   "execution_count": 4,
   "metadata": {},
   "outputs": [
    {
     "name": "stdout",
     "output_type": "stream",
     "text": [
      "Francisco."
     ]
    }
   ],
   "source": [
    "for letra in \"Francisco.\":\n",
    "    print(letra, end='') "
   ]
  },
  {
   "cell_type": "code",
   "execution_count": 5,
   "metadata": {},
   "outputs": [
    {
     "name": "stdout",
     "output_type": "stream",
     "text": [
      "g e e k s f o r g e e k s \n",
      "\n",
      "G\n",
      "E\n",
      "E\n",
      "K\n",
      "S\n"
     ]
    }
   ],
   "source": [
    "# Python program to iterate over characters of a string\n",
    "\n",
    "# Code #1\n",
    "string_name = \"geeksforgeeks\"\n",
    "\n",
    "# Iterate over the string\n",
    "for element in string_name:\n",
    "\tprint(element, end=' ')\n",
    "print(\"\\n\")\n",
    "\n",
    "\n",
    "# Code #2\n",
    "string_name = \"GEEKS\"\n",
    "\n",
    "# Iterate over index\n",
    "for element in range(0, len(string_name)):\n",
    "\tprint(string_name[element])\n"
   ]
  },
  {
   "cell_type": "code",
   "execution_count": 12,
   "metadata": {},
   "outputs": [
    {
     "name": "stdout",
     "output_type": "stream",
     "text": [
      "F está dentro do nome Francisco!\n",
      "r está dentro do nome Francisco!\n",
      "a está dentro do nome Francisco!\n",
      "n está dentro do nome Francisco!\n",
      "c está dentro do nome Francisco!\n",
      "i está dentro do nome Francisco!\n",
      "s está dentro do nome Francisco!\n",
      "c está dentro do nome Francisco!\n",
      "o está dentro do nome Francisco!\n"
     ]
    }
   ],
   "source": [
    "letra = 'Francisco'\n",
    "for letra in \"Francisco\":\n",
    "    #print(letra, end='') \n",
    "    print(f'{letra} está dentro do nome Francisco!')"
   ]
  },
  {
   "cell_type": "code",
   "execution_count": 9,
   "metadata": {},
   "outputs": [
    {
     "name": "stdout",
     "output_type": "stream",
     "text": [
      "F está dentro do nome Francisco!\n",
      "Franciscor está dentro do nome Francisco!\n",
      "Franciscoa está dentro do nome Francisco!\n",
      "Franciscon está dentro do nome Francisco!\n",
      "Franciscoc está dentro do nome Francisco!\n",
      "Franciscoi está dentro do nome Francisco!\n",
      "Franciscos está dentro do nome Francisco!\n",
      "Franciscoc está dentro do nome Francisco!\n",
      "Franciscoo está dentro do nome Francisco!\n",
      "Francisco"
     ]
    }
   ],
   "source": [
    "palavra = 'Francisco'\n",
    "for letra in palavra:\n",
    "    #print(letra, end='') \n",
    "    print(f'{letra} está dentro do nome Francisco!')\n",
    "    print(palavra, end='')"
   ]
  },
  {
   "cell_type": "code",
   "execution_count": 10,
   "metadata": {},
   "outputs": [
    {
     "name": "stdout",
     "output_type": "stream",
     "text": [
      "F está dentro do nome Francisco.\n",
      "r está dentro do nome Francisco.\n",
      "a está dentro do nome Francisco.\n",
      "n está dentro do nome Francisco.\n",
      "c está dentro do nome Francisco.\n",
      "i está dentro do nome Francisco.\n",
      "s está dentro do nome Francisco.\n",
      "c está dentro do nome Francisco.\n",
      "o está dentro do nome Francisco.\n"
     ]
    }
   ],
   "source": [
    "palavra = 'Francisco'\n",
    "for letra in palavra:\n",
    "\n",
    "    print(f'{letra} está dentro do nome {palavra}.')\n"
   ]
  },
  {
   "cell_type": "code",
   "execution_count": 11,
   "metadata": {},
   "outputs": [
    {
     "name": "stdout",
     "output_type": "stream",
     "text": [
      "A está dentro do nome Arrozal.\n",
      "r está dentro do nome Arrozal.\n",
      "r está dentro do nome Arrozal.\n",
      "o está dentro do nome Arrozal.\n",
      "z está dentro do nome Arrozal.\n",
      "a está dentro do nome Arrozal.\n",
      "l está dentro do nome Arrozal.\n"
     ]
    }
   ],
   "source": [
    "nome = 'Arrozal'\n",
    "for letra in nome:\n",
    "    print(f'{letra} está dentro do nome {nome}.')"
   ]
  }
 ],
 "metadata": {
  "kernelspec": {
   "display_name": ".venv",
   "language": "python",
   "name": "python3"
  },
  "language_info": {
   "codemirror_mode": {
    "name": "ipython",
    "version": 3
   },
   "file_extension": ".py",
   "mimetype": "text/x-python",
   "name": "python",
   "nbconvert_exporter": "python",
   "pygments_lexer": "ipython3",
   "version": "3.11.4"
  }
 },
 "nbformat": 4,
 "nbformat_minor": 2
}
