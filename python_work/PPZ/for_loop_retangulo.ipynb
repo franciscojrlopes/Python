{
 "cells": [
  {
   "cell_type": "markdown",
   "metadata": {},
   "source": [
    "Criar um retângulo de 6X6 "
   ]
  },
  {
   "cell_type": "code",
   "execution_count": 3,
   "metadata": {},
   "outputs": [
    {
     "name": "stdout",
     "output_type": "stream",
     "text": [
      "@\n",
      "@\n",
      "@\n",
      "@\n",
      "@\n",
      "@\n",
      "@\n",
      "@\n",
      "@\n",
      "@\n",
      "@\n",
      "@\n",
      "@\n",
      "@\n",
      "@\n",
      "@\n",
      "@\n",
      "@\n",
      "@\n",
      "@\n",
      "@\n",
      "@\n",
      "@\n",
      "@\n",
      "@\n",
      "@\n",
      "@\n",
      "@\n",
      "@\n",
      "@\n",
      "@\n",
      "@\n",
      "@\n",
      "@\n",
      "@\n",
      "@\n"
     ]
    }
   ],
   "source": [
    "linhas = 6 \n",
    "colunas = 6\n",
    "simbolo = '@'\n",
    "\n",
    "for l in range(linhas):\n",
    "    for c in range(colunas):\n",
    "        print(simbolo)\n"
   ]
  },
  {
   "cell_type": "code",
   "execution_count": 4,
   "metadata": {},
   "outputs": [
    {
     "name": "stdout",
     "output_type": "stream",
     "text": [
      "@@@@@@@@@@@@@@@@@@@@@@@@@@@@@@@@@@@@"
     ]
    }
   ],
   "source": [
    "linhas = 6 \n",
    "colunas = 6\n",
    "simbolo = '@'\n",
    "\n",
    "for l in range(linhas):\n",
    "    for c in range(colunas):\n",
    "        print(simbolo, end='')"
   ]
  },
  {
   "cell_type": "code",
   "execution_count": 5,
   "metadata": {},
   "outputs": [
    {
     "name": "stdout",
     "output_type": "stream",
     "text": [
      "@@@@@@\n",
      "@@@@@@\n",
      "@@@@@@\n",
      "@@@@@@\n",
      "@@@@@@\n",
      "@@@@@@\n"
     ]
    }
   ],
   "source": [
    "linhas = 6 \n",
    "colunas = 6\n",
    "simbolo = '@'\n",
    "\n",
    "for l in range(linhas):\n",
    "    for c in range(colunas):\n",
    "        print(simbolo, end='')\n",
    "    print()"
   ]
  },
  {
   "cell_type": "code",
   "execution_count": 7,
   "metadata": {},
   "outputs": [
    {
     "name": "stdout",
     "output_type": "stream",
     "text": [
      "Francisco&RebecaFrancisco&RebecaFrancisco&RebecaFrancisco&RebecaFrancisco&RebecaFrancisco&Rebeca\n",
      "Francisco&RebecaFrancisco&RebecaFrancisco&RebecaFrancisco&RebecaFrancisco&RebecaFrancisco&Rebeca\n",
      "Francisco&RebecaFrancisco&RebecaFrancisco&RebecaFrancisco&RebecaFrancisco&RebecaFrancisco&Rebeca\n",
      "Francisco&RebecaFrancisco&RebecaFrancisco&RebecaFrancisco&RebecaFrancisco&RebecaFrancisco&Rebeca\n",
      "Francisco&RebecaFrancisco&RebecaFrancisco&RebecaFrancisco&RebecaFrancisco&RebecaFrancisco&Rebeca\n",
      "Francisco&RebecaFrancisco&RebecaFrancisco&RebecaFrancisco&RebecaFrancisco&RebecaFrancisco&Rebeca\n"
     ]
    }
   ],
   "source": [
    "linhas = 6 \n",
    "colunas = 6\n",
    "simbolo = 'Francisco&Rebeca'\n",
    "\n",
    "for l in range(linhas):\n",
    "    for c in range(colunas):\n",
    "        print(simbolo, end='')\n",
    "    print()"
   ]
  }
 ],
 "metadata": {
  "kernelspec": {
   "display_name": ".venv",
   "language": "python",
   "name": "python3"
  },
  "language_info": {
   "codemirror_mode": {
    "name": "ipython",
    "version": 3
   },
   "file_extension": ".py",
   "mimetype": "text/x-python",
   "name": "python",
   "nbconvert_exporter": "python",
   "pygments_lexer": "ipython3",
   "version": "3.11.4"
  }
 },
 "nbformat": 4,
 "nbformat_minor": 2
}
