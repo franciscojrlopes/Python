{
 "cells": [
  {
   "cell_type": "markdown",
   "metadata": {},
   "source": [
    "While Loop\n",
    "Usado para loops dependentes de uma condição.\n",
    "\"Criar uma promoção para um produto no valor de R$ 100,00.\""
   ]
  },
  {
   "cell_type": "code",
   "execution_count": 1,
   "metadata": {},
   "outputs": [
    {
     "name": "stdout",
     "output_type": "stream",
     "text": [
      "100\n",
      "95\n",
      "90\n",
      "85\n",
      "80\n",
      "75\n",
      "70\n",
      "65\n",
      "60\n",
      "55\n",
      "50\n",
      "45\n",
      "40\n",
      "35\n",
      "30\n",
      "25\n"
     ]
    }
   ],
   "source": [
    "valor = 100\n",
    "while valor > 20:\n",
    "    print(valor)\n",
    "    valor -= 5\n"
   ]
  },
  {
   "cell_type": "code",
   "execution_count": 2,
   "metadata": {},
   "outputs": [
    {
     "name": "stdout",
     "output_type": "stream",
     "text": [
      "2\n",
      "100\n",
      "3\n",
      "95\n",
      "4\n",
      "90\n",
      "5\n",
      "85\n",
      "6\n",
      "80\n",
      "7\n",
      "75\n",
      "8\n",
      "70\n",
      "9\n",
      "65\n",
      "10\n",
      "60\n",
      "11\n",
      "55\n",
      "12\n",
      "50\n",
      "13\n",
      "45\n",
      "14\n",
      "40\n",
      "15\n",
      "35\n",
      "16\n",
      "30\n",
      "17\n",
      "25\n"
     ]
    }
   ],
   "source": [
    "valor = 100\n",
    "dia = 1\n",
    "while valor > 20:\n",
    "    dia += 1\n",
    "    print(dia)\n",
    "    print(valor)\n",
    "    valor -= 5"
   ]
  },
  {
   "cell_type": "markdown",
   "metadata": {},
   "source": []
  },
  {
   "cell_type": "code",
   "execution_count": 3,
   "metadata": {},
   "outputs": [
    {
     "name": "stdout",
     "output_type": "stream",
     "text": [
      "No dia 2 o produto vai ser vendido por R$ 100,00.\n",
      "No dia 3 o produto vai ser vendido por R$ 95,00.\n",
      "No dia 4 o produto vai ser vendido por R$ 90,00.\n",
      "No dia 5 o produto vai ser vendido por R$ 85,00.\n",
      "No dia 6 o produto vai ser vendido por R$ 80,00.\n",
      "No dia 7 o produto vai ser vendido por R$ 75,00.\n",
      "No dia 8 o produto vai ser vendido por R$ 70,00.\n",
      "No dia 9 o produto vai ser vendido por R$ 65,00.\n",
      "No dia 10 o produto vai ser vendido por R$ 60,00.\n",
      "No dia 11 o produto vai ser vendido por R$ 55,00.\n",
      "No dia 12 o produto vai ser vendido por R$ 50,00.\n",
      "No dia 13 o produto vai ser vendido por R$ 45,00.\n",
      "No dia 14 o produto vai ser vendido por R$ 40,00.\n",
      "No dia 15 o produto vai ser vendido por R$ 35,00.\n",
      "No dia 16 o produto vai ser vendido por R$ 30,00.\n",
      "No dia 17 o produto vai ser vendido por R$ 25,00.\n"
     ]
    }
   ],
   "source": [
    "# Melhorando o código:\n",
    "valor = 100\n",
    "dia = 1\n",
    "while valor > 20:\n",
    "    dia += 1\n",
    "    print(f'No dia {dia} o produto vai ser vendido por R$ {valor},00.')\n",
    "    valor -= 5"
   ]
  },
  {
   "cell_type": "code",
   "execution_count": 4,
   "metadata": {},
   "outputs": [
    {
     "name": "stdout",
     "output_type": "stream",
     "text": [
      "No dia 1 o produto vai ser vendido por R$ 100,00.\n",
      "No dia 2 o produto vai ser vendido por R$ 95,00.\n",
      "No dia 3 o produto vai ser vendido por R$ 90,00.\n",
      "No dia 4 o produto vai ser vendido por R$ 85,00.\n",
      "No dia 5 o produto vai ser vendido por R$ 80,00.\n",
      "No dia 6 o produto vai ser vendido por R$ 75,00.\n",
      "No dia 7 o produto vai ser vendido por R$ 70,00.\n",
      "No dia 8 o produto vai ser vendido por R$ 65,00.\n",
      "No dia 9 o produto vai ser vendido por R$ 60,00.\n",
      "No dia 10 o produto vai ser vendido por R$ 55,00.\n",
      "No dia 11 o produto vai ser vendido por R$ 50,00.\n",
      "No dia 12 o produto vai ser vendido por R$ 45,00.\n",
      "No dia 13 o produto vai ser vendido por R$ 40,00.\n",
      "No dia 14 o produto vai ser vendido por R$ 35,00.\n",
      "No dia 15 o produto vai ser vendido por R$ 30,00.\n",
      "No dia 16 o produto vai ser vendido por R$ 25,00.\n"
     ]
    }
   ],
   "source": [
    "# Melhorando o código:\n",
    "valor = 100\n",
    "dia = 0\n",
    "while valor > 20:\n",
    "    dia += 1\n",
    "    print(f'No dia {dia} o produto vai ser vendido por R$ {valor},00.')\n",
    "    valor -= 5"
   ]
  },
  {
   "cell_type": "code",
   "execution_count": 5,
   "metadata": {},
   "outputs": [
    {
     "name": "stdout",
     "output_type": "stream",
     "text": [
      "No dia 11 o produto vai ser vendido por R$ 100,00.\n",
      "No dia 12 o produto vai ser vendido por R$ 95,00.\n",
      "No dia 13 o produto vai ser vendido por R$ 90,00.\n",
      "No dia 14 o produto vai ser vendido por R$ 85,00.\n",
      "No dia 15 o produto vai ser vendido por R$ 80,00.\n",
      "No dia 16 o produto vai ser vendido por R$ 75,00.\n",
      "No dia 17 o produto vai ser vendido por R$ 70,00.\n",
      "No dia 18 o produto vai ser vendido por R$ 65,00.\n",
      "No dia 19 o produto vai ser vendido por R$ 60,00.\n",
      "No dia 20 o produto vai ser vendido por R$ 55,00.\n",
      "No dia 21 o produto vai ser vendido por R$ 50,00.\n",
      "No dia 22 o produto vai ser vendido por R$ 45,00.\n",
      "No dia 23 o produto vai ser vendido por R$ 40,00.\n",
      "No dia 24 o produto vai ser vendido por R$ 35,00.\n",
      "No dia 25 o produto vai ser vendido por R$ 30,00.\n",
      "No dia 26 o produto vai ser vendido por R$ 25,00.\n"
     ]
    }
   ],
   "source": [
    "# Melhorando o código:\n",
    "valor = 100\n",
    "dia = 10\n",
    "while valor > 20:\n",
    "    dia += 1\n",
    "    print(f'No dia {dia} o produto vai ser vendido por R$ {valor},00.')\n",
    "    valor -= 5"
   ]
  }
 ],
 "metadata": {
  "kernelspec": {
   "display_name": ".venv",
   "language": "python",
   "name": "python3"
  },
  "language_info": {
   "codemirror_mode": {
    "name": "ipython",
    "version": 3
   },
   "file_extension": ".py",
   "mimetype": "text/x-python",
   "name": "python",
   "nbconvert_exporter": "python",
   "pygments_lexer": "ipython3",
   "version": "3.11.4"
  }
 },
 "nbformat": 4,
 "nbformat_minor": 2
}
