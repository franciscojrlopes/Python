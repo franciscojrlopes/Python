{
 "cells": [
  {
   "cell_type": "markdown",
   "metadata": {},
   "source": [
    "IMC:\n",
    "\n",
    "Qual sua altura:\n",
    "Qual é o seu peso em kg:\n",
    "\n",
    "Fórmula:\n",
    "IMC = peso/(altura x altura)"
   ]
  },
  {
   "cell_type": "code",
   "execution_count": 18,
   "metadata": {},
   "outputs": [
    {
     "name": "stdout",
     "output_type": "stream",
     "text": [
      "Estado normal.\n"
     ]
    }
   ],
   "source": [
    "# Menor que 18,5 magreza\n",
    "# Entre 18,5 e 24,9 normal\n",
    "# Entre 25,0 e 29,9 sobrepeso\n",
    "# Entre 30,0 e 39,9 obesidade\n",
    "# Maior que 40,0  obesidade grave\n",
    "\n",
    "altura = float(input('Qual sua altura em cm:'))\n",
    "peso = float(input('Qual o seu peso em kg:'))\n",
    "\n",
    "IMC = peso / (altura/100)**2\n",
    "\n",
    "\n",
    "if IMC <= 18.5:\n",
    "    print('Estado de Magreza.')\n",
    "if IMC >= 18.5 and IMC < 24.9:\n",
    "    print('Estado normal.')\n",
    "if IMC >= 24.9 and IMC < 29.9:\n",
    "    print('Estado de sobrepeso.')\n",
    "if \n"
   ]
  }
 ],
 "metadata": {
  "kernelspec": {
   "display_name": ".venv",
   "language": "python",
   "name": "python3"
  },
  "language_info": {
   "codemirror_mode": {
    "name": "ipython",
    "version": 3
   },
   "file_extension": ".py",
   "mimetype": "text/x-python",
   "name": "python",
   "nbconvert_exporter": "python",
   "pygments_lexer": "ipython3",
   "version": "3.11.4"
  }
 },
 "nbformat": 4,
 "nbformat_minor": 2
}
