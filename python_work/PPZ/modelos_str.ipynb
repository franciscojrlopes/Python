{
 "cells": [
  {
   "cell_type": "code",
   "execution_count": 9,
   "metadata": {},
   "outputs": [
    {
     "name": "stdout",
     "output_type": "stream",
     "text": [
      "eu sou programador!\n",
      "EU SOU PROGRAMADOR!\n"
     ]
    }
   ],
   "source": [
    "mensagem = 'Eu sou programador!'\n",
    "\n",
    "print(mensagem.lower())\n",
    "print(mensagem.upper())\n"
   ]
  },
  {
   "cell_type": "code",
   "execution_count": 10,
   "metadata": {},
   "outputs": [
    {
     "name": "stdout",
     "output_type": "stream",
     "text": [
      "Eu sou programador!\n"
     ]
    }
   ],
   "source": [
    "mensagem = 'eu sou programador!'\n",
    "print(mensagem.capitalize())"
   ]
  },
  {
   "cell_type": "code",
   "execution_count": 19,
   "metadata": {},
   "outputs": [
    {
     "name": "stdout",
     "output_type": "stream",
     "text": [
      "13\n",
      "7\n",
      "-1\n",
      "eu sou progremedor!\n"
     ]
    }
   ],
   "source": [
    "mensagem = 'eu sou programador!'\n",
    "print(mensagem.find('m'))\n",
    "print(mensagem.find('programador!'))\n",
    "print(mensagem.find('Programador!')) # menos 1 -1 representa erro não encontrou....\n",
    "print(mensagem.replace('a', 'e')) # troca a poe e.....\n"
   ]
  },
  {
   "cell_type": "code",
   "execution_count": 22,
   "metadata": {},
   "outputs": [
    {
     "name": "stdout",
     "output_type": "stream",
     "text": [
      "15\n",
      "3\n",
      "-1\n",
      "eu gosto da Honda\n",
      "EU GOSTO DA HYUNDAY\n",
      "Eu gosto da hyunday\n"
     ]
    }
   ],
   "source": [
    "mensagem = 'eu gosto da Hyunday'\n",
    "print(mensagem.find('n'))\n",
    "print(mensagem.find('gosto'))\n",
    "print(mensagem.find('Gosto')) # menos 1 -1 representa erro não encontrou....\n",
    "print(mensagem.replace('Hyunday', 'Honda')) # troca a poe e.....\n",
    "print(mensagem.upper())\n",
    "print(mensagem.capitalize())"
   ]
  },
  {
   "cell_type": "code",
   "execution_count": 26,
   "metadata": {},
   "outputs": [
    {
     "name": "stdout",
     "output_type": "stream",
     "text": [
      "                              Eu gosto de banana!\n",
      "Eu gosto de banana!\n"
     ]
    }
   ],
   "source": [
    "# strip junto os espaços dados.............\n",
    "mensagem = '                              Eu gosto de banana!'\n",
    "print(mensagem)\n",
    "print(mensagem.strip())"
   ]
  }
 ],
 "metadata": {
  "kernelspec": {
   "display_name": ".venv",
   "language": "python",
   "name": "python3"
  },
  "language_info": {
   "codemirror_mode": {
    "name": "ipython",
    "version": 3
   },
   "file_extension": ".py",
   "mimetype": "text/x-python",
   "name": "python",
   "nbconvert_exporter": "python",
   "pygments_lexer": "ipython3",
   "version": "3.11.4"
  }
 },
 "nbformat": 4,
 "nbformat_minor": 2
}
