{
 "cells": [
  {
   "cell_type": "markdown",
   "metadata": {},
   "source": [
    "Erros:\n",
    "\n",
    "    Excelentes para testes;\n",
    "    Não realiza o stpo no programa;\n",
    "    mensagens customizadas quando encontra um erro.\n",
    "    "
   ]
  },
  {
   "cell_type": "code",
   "execution_count": 2,
   "metadata": {},
   "outputs": [
    {
     "name": "stdout",
     "output_type": "stream",
     "text": [
      "['a', 'b', 'c']\n",
      "Index não existe.\n"
     ]
    }
   ],
   "source": [
    "try:\n",
    "    letras = ['a', 'b', 'c' ]\n",
    "    print(letras)\n",
    "    print(letras[3])\n",
    "except IndexError:\n",
    "    print('Index não existe!')\n"
   ]
  },
  {
   "cell_type": "code",
   "execution_count": 5,
   "metadata": {},
   "outputs": [
    {
     "name": "stdout",
     "output_type": "stream",
     "text": [
      "Valor não existe!\n"
     ]
    }
   ],
   "source": [
    "try:\n",
    "    valor = int(input('Digite o valor do seu produto:        '))\n",
    "    print(valor)\n",
    "except ValueError:\n",
    "    print('Valor não existe!')"
   ]
  },
  {
   "cell_type": "markdown",
   "metadata": {},
   "source": [
    "Except vai ser em cima do erro.....\n"
   ]
  },
  {
   "cell_type": "code",
   "execution_count": 9,
   "metadata": {},
   "outputs": [
    {
     "name": "stdout",
     "output_type": "stream",
     "text": [
      "Favor digitar um valor em números!\n"
     ]
    }
   ],
   "source": [
    "try:\n",
    "    valor = int(input('Digite o valor do seu produto:        '))\n",
    "    print(valor)\n",
    "except ValueError:\n",
    "    print('Favor digitar um valor em números!')"
   ]
  },
  {
   "cell_type": "markdown",
   "metadata": {},
   "source": [
    "Adicionando o Else e Finally:\n"
   ]
  },
  {
   "cell_type": "code",
   "execution_count": 10,
   "metadata": {},
   "outputs": [
    {
     "name": "stdout",
     "output_type": "stream",
     "text": [
      "66\n",
      "Usuário digitou um valor correto!\n"
     ]
    }
   ],
   "source": [
    "try:\n",
    "    valor = int(input('Digite o valor do seu produto:        '))\n",
    "    print(valor)\n",
    "except ValueError:\n",
    "    print('Favor digitar um valor em números!')\n",
    "\n",
    "else:\n",
    "    print('Usuário digitou um valor correto!')\n",
    "    "
   ]
  },
  {
   "cell_type": "code",
   "execution_count": 11,
   "metadata": {},
   "outputs": [
    {
     "name": "stdout",
     "output_type": "stream",
     "text": [
      "2\n",
      "Usuário digitou um valor correto!\n",
      "4\n"
     ]
    }
   ],
   "source": [
    "try:\n",
    "    valor = int(input('Digite o valor do seu produto:        '))\n",
    "    print(valor)\n",
    "except ValueError:\n",
    "    print('Favor digitar um valor em números!')\n",
    "\n",
    "else:\n",
    "    print('Usuário digitou um valor correto!')\n",
    "    resultado = valor * 2\n",
    "    print(resultado)"
   ]
  },
  {
   "cell_type": "code",
   "execution_count": 14,
   "metadata": {},
   "outputs": [
    {
     "name": "stdout",
     "output_type": "stream",
     "text": [
      "Favor digitar um valor em números!\n",
      "Código Ok!\n"
     ]
    }
   ],
   "source": [
    "try:\n",
    "    valor = int(input('Digite o valor do seu produto:        '))\n",
    "    print(valor)\n",
    "except ValueError:\n",
    "    print('Favor digitar um valor em números!')\n",
    "finally:\n",
    "    print('Código Ok!')\n",
    "\n",
    "# Porém com erro o finally mostra o  OK!!!!"
   ]
  }
 ],
 "metadata": {
  "kernelspec": {
   "display_name": ".venv",
   "language": "python",
   "name": "python3"
  },
  "language_info": {
   "codemirror_mode": {
    "name": "ipython",
    "version": 3
   },
   "file_extension": ".py",
   "mimetype": "text/x-python",
   "name": "python",
   "nbconvert_exporter": "python",
   "pygments_lexer": "ipython3",
   "version": "3.11.4"
  }
 },
 "nbformat": 4,
 "nbformat_minor": 2
}
