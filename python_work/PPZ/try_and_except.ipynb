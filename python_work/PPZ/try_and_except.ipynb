{
 "cells": [
  {
   "cell_type": "markdown",
   "metadata": {},
   "source": [
    "Erros:\n",
    "\n",
    "    Excelentes para testes;\n",
    "    Não realiza o stpo no programa;\n",
    "    mensagens customizadas quando encontra um erro.\n",
    "    "
   ]
  },
  {
   "cell_type": "code",
   "execution_count": 2,
   "metadata": {},
   "outputs": [
    {
     "name": "stdout",
     "output_type": "stream",
     "text": [
      "['a', 'b', 'c']\n",
      "Index não existe.\n"
     ]
    }
   ],
   "source": [
    "try:\n",
    "    letras = ['a', 'b', 'c' ]\n",
    "    print(letras)\n",
    "    print(letras[3])\n",
    "except IndexError:\n",
    "    print('Index não existe!')\n"
   ]
  },
  {
   "cell_type": "code",
   "execution_count": 5,
   "metadata": {},
   "outputs": [
    {
     "name": "stdout",
     "output_type": "stream",
     "text": [
      "Valor não existe!\n"
     ]
    }
   ],
   "source": [
    "try:\n",
    "    valor = int(input('Digite o valor do seu produto:        '))\n",
    "    print(valor)\n",
    "except ValueError:\n",
    "    print('Valor não existe!')"
   ]
  },
  {
   "cell_type": "markdown",
   "metadata": {},
   "source": [
    "Except vai ser em cima do erro.....\n"
   ]
  },
  {
   "cell_type": "code",
   "execution_count": 9,
   "metadata": {},
   "outputs": [
    {
     "name": "stdout",
     "output_type": "stream",
     "text": [
      "Favor digitar um valor em números!\n"
     ]
    }
   ],
   "source": [
    "try:\n",
    "    valor = int(input('Digite o valor do seu produto:        '))\n",
    "    print(valor)\n",
    "except ValueError:\n",
    "    print('Favor digitar um valor em números!')"
   ]
  }
 ],
 "metadata": {
  "kernelspec": {
   "display_name": ".venv",
   "language": "python",
   "name": "python3"
  },
  "language_info": {
   "codemirror_mode": {
    "name": "ipython",
    "version": 3
   },
   "file_extension": ".py",
   "mimetype": "text/x-python",
   "name": "python",
   "nbconvert_exporter": "python",
   "pygments_lexer": "ipython3",
   "version": "3.11.4"
  }
 },
 "nbformat": 4,
 "nbformat_minor": 2
}
