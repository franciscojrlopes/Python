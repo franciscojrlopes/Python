{
 "cells": [
  {
   "cell_type": "code",
   "execution_count": 2,
   "metadata": {},
   "outputs": [
    {
     "name": "stdout",
     "output_type": "stream",
     "text": [
      "['abacate', 'banana', 'abacaxi']\n"
     ]
    }
   ],
   "source": [
    "frutas1 = ['abacate', 'banana', 'morango', 'kiwi', 'abacaxi']\n",
    "frutas2 =[]\n",
    "\n",
    "for item in frutas1:\n",
    "    if 'b' in item:\n",
    "        frutas2.append(item)\n",
    "print(frutas2)\n"
   ]
  },
  {
   "cell_type": "code",
   "execution_count": 4,
   "metadata": {},
   "outputs": [
    {
     "name": "stdout",
     "output_type": "stream",
     "text": [
      "['abacate', 'banana', 'morango', 'abacaxi']\n"
     ]
    }
   ],
   "source": [
    "frutas1 = ['abacate', 'banana', 'morango', 'kiwi', 'abacaxi']\n",
    "frutas2 =[]\n",
    "\n",
    "for item in frutas1:\n",
    "    if 'a' in item:\n",
    "        frutas2.append(item)\n",
    "print(frutas2)"
   ]
  },
  {
   "cell_type": "code",
   "execution_count": 7,
   "metadata": {},
   "outputs": [
    {
     "name": "stdout",
     "output_type": "stream",
     "text": [
      "['banana', 'morango']\n"
     ]
    }
   ],
   "source": [
    "frutas2 = [item for item in frutas1 if 'n' in item]\n",
    "\n",
    "print(frutas2)"
   ]
  },
  {
   "cell_type": "code",
   "execution_count": 9,
   "metadata": {},
   "outputs": [
    {
     "name": "stdout",
     "output_type": "stream",
     "text": [
      "['morango']\n"
     ]
    }
   ],
   "source": [
    "frutas2 = [item for item in frutas1 if 'm' in item]\n",
    "print(frutas2)"
   ]
  },
  {
   "cell_type": "code",
   "execution_count": 10,
   "metadata": {},
   "outputs": [
    {
     "name": "stdout",
     "output_type": "stream",
     "text": [
      "['kiwi']\n"
     ]
    }
   ],
   "source": [
    "frutas2 = [item for item in frutas1 if 'k' in item]\n",
    "print(frutas2)"
   ]
  }
 ],
 "metadata": {
  "kernelspec": {
   "display_name": ".venv",
   "language": "python",
   "name": "python3"
  },
  "language_info": {
   "codemirror_mode": {
    "name": "ipython",
    "version": 3
   },
   "file_extension": ".py",
   "mimetype": "text/x-python",
   "name": "python",
   "nbconvert_exporter": "python",
   "pygments_lexer": "ipython3",
   "version": "3.11.4"
  }
 },
 "nbformat": 4,
 "nbformat_minor": 2
}
