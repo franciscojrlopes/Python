{
 "cells": [
  {
   "cell_type": "code",
   "execution_count": null,
   "metadata": {},
   "outputs": [],
   "source": [
    "# Lista de cidades:\n",
    "\n",
    "cidade_1 = 'Rio de Janeiro'\n",
    "cidade_2 = 'São Paulo'\n",
    "cidade_3 = 'Salvador'\n",
    " \n",
    " "
   ]
  },
  {
   "cell_type": "code",
   "execution_count": 1,
   "metadata": {},
   "outputs": [
    {
     "name": "stdout",
     "output_type": "stream",
     "text": [
      "['Rio de Janeiro', 'São Paulo', 'Salvador']\n"
     ]
    }
   ],
   "source": [
    "cidades = ['Rio de Janeiro', 'São Paulo', 'Salvador']\n",
    "print(cidades)"
   ]
  },
  {
   "cell_type": "code",
   "execution_count": 3,
   "metadata": {},
   "outputs": [
    {
     "name": "stdout",
     "output_type": "stream",
     "text": [
      "['manteiga', 'arroz', 'feijão', 'fubá', 'ervilha', 'milho', 'azeite']\n"
     ]
    }
   ],
   "source": [
    "itens_mercado = ['manteiga', 'arroz', 'feijão', 'fubá', 'ervilha', 'milho', 'azeite']\n",
    "\n",
    "print(itens_mercado)"
   ]
  }
 ],
 "metadata": {
  "kernelspec": {
   "display_name": ".venv",
   "language": "python",
   "name": "python3"
  },
  "language_info": {
   "codemirror_mode": {
    "name": "ipython",
    "version": 3
   },
   "file_extension": ".py",
   "mimetype": "text/x-python",
   "name": "python",
   "nbconvert_exporter": "python",
   "pygments_lexer": "ipython3",
   "version": "3.11.4"
  }
 },
 "nbformat": 4,
 "nbformat_minor": 2
}
