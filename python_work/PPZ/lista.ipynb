{
 "cells": [
  {
   "cell_type": "code",
   "execution_count": null,
   "metadata": {},
   "outputs": [],
   "source": [
    "# Lista de cidades:\n",
    "\n",
    "cidade_1 = 'Rio de Janeiro'\n",
    "cidade_2 = 'São Paulo'\n",
    "cidade_3 = 'Salvador'\n",
    " \n",
    " "
   ]
  },
  {
   "cell_type": "code",
   "execution_count": 1,
   "metadata": {},
   "outputs": [
    {
     "name": "stdout",
     "output_type": "stream",
     "text": [
      "['Rio de Janeiro', 'São Paulo', 'Salvador']\n"
     ]
    }
   ],
   "source": [
    "cidades = ['Rio de Janeiro', 'São Paulo', 'Salvador']\n",
    "print(cidades)"
   ]
  },
  {
   "cell_type": "code",
   "execution_count": 3,
   "metadata": {},
   "outputs": [
    {
     "name": "stdout",
     "output_type": "stream",
     "text": [
      "['manteiga', 'arroz', 'feijão', 'fubá', 'ervilha', 'milho', 'azeite']\n"
     ]
    }
   ],
   "source": [
    "itens_mercado = ['manteiga', 'arroz', 'feijão', 'fubá', 'ervilha', 'milho', 'azeite']\n",
    "\n",
    "print(itens_mercado)"
   ]
  },
  {
   "cell_type": "code",
   "execution_count": 4,
   "metadata": {},
   "outputs": [
    {
     "name": "stdout",
     "output_type": "stream",
     "text": [
      "[3, 5, 6, 9, 10, 25, 38, 55]\n"
     ]
    }
   ],
   "source": [
    "numeros = [3, 5, 6, 9, 10, 25, 38, 55]\n",
    "print(numeros)"
   ]
  },
  {
   "cell_type": "code",
   "execution_count": 12,
   "metadata": {},
   "outputs": [
    {
     "name": "stdout",
     "output_type": "stream",
     "text": [
      "9\n"
     ]
    }
   ],
   "source": [
    "print(numeros[3])"
   ]
  },
  {
   "cell_type": "code",
   "execution_count": 14,
   "metadata": {},
   "outputs": [
    {
     "name": "stdout",
     "output_type": "stream",
     "text": [
      "['alho', 'arroz', 'feijão', 'fubá', 'ervilha', 'milho', 'azeite']\n"
     ]
    }
   ],
   "source": [
    "# Trocar item\n",
    "\n",
    "itens_mercado = ['manteiga', 'arroz', 'feijão', 'fubá', 'ervilha', 'milho', 'azeite']\n",
    "itens_mercado[0]= 'alho' \n",
    "print(itens_mercado)"
   ]
  },
  {
   "cell_type": "code",
   "execution_count": 15,
   "metadata": {},
   "outputs": [
    {
     "name": "stdout",
     "output_type": "stream",
     "text": [
      "['manteiga', 'arroz', 'feijão', 'fubá', 'ervilha', 'milho', 'azeite', 'alho']\n"
     ]
    }
   ],
   "source": [
    "# Adicionar um item - append()\n",
    "\n",
    "itens_mercado = ['manteiga', 'arroz', 'feijão', 'fubá', 'ervilha', 'milho', 'azeite']\n",
    "itens_mercado.append('alho') \n",
    "print(itens_mercado)"
   ]
  },
  {
   "cell_type": "code",
   "execution_count": 16,
   "metadata": {},
   "outputs": [
    {
     "name": "stdout",
     "output_type": "stream",
     "text": [
      "['manteiga', 'arroz', 'feijão', 'fubá', 'ervilha', 'milho']\n"
     ]
    }
   ],
   "source": [
    "# Remor item da lista - remove()\n",
    "itens_mercado = ['manteiga', 'arroz', 'feijão', 'fubá', 'ervilha', 'milho', 'azeite']\n",
    "itens_mercado.remove('azeite') \n",
    "print(itens_mercado)\n"
   ]
  },
  {
   "cell_type": "code",
   "execution_count": 18,
   "metadata": {},
   "outputs": [
    {
     "name": "stdout",
     "output_type": "stream",
     "text": [
      "['alho', 'manteiga', 'arroz', 'feijão', 'fubá', 'ervilha', 'milho', 'azeite']\n"
     ]
    }
   ],
   "source": [
    "# Inserir um item na lista = insert() insere um item na lista em ordem. Posição 0 , 1 etc...\n",
    "itens_mercado = ['manteiga', 'arroz', 'feijão', 'fubá', 'ervilha', 'milho', 'azeite']\n",
    "itens_mercado.insert(0, 'alho') \n",
    "print(itens_mercado)\n"
   ]
  },
  {
   "cell_type": "code",
   "execution_count": null,
   "metadata": {},
   "outputs": [],
   "source": []
  }
 ],
 "metadata": {
  "kernelspec": {
   "display_name": ".venv",
   "language": "python",
   "name": "python3"
  },
  "language_info": {
   "codemirror_mode": {
    "name": "ipython",
    "version": 3
   },
   "file_extension": ".py",
   "mimetype": "text/x-python",
   "name": "python",
   "nbconvert_exporter": "python",
   "pygments_lexer": "ipython3",
   "version": "3.11.4"
  }
 },
 "nbformat": 4,
 "nbformat_minor": 2
}
