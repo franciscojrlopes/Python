{
 "cells": [
  {
   "cell_type": "code",
   "execution_count": null,
   "metadata": {},
   "outputs": [],
   "source": [
    "# Lista de cidades:\n",
    "\n",
    "cidade_1 = 'Rio de Janeiro'\n",
    "cidade_2 = 'São Paulo'\n",
    "cidade_3 = 'Salvador'\n",
    " \n",
    " "
   ]
  },
  {
   "cell_type": "code",
   "execution_count": 1,
   "metadata": {},
   "outputs": [
    {
     "name": "stdout",
     "output_type": "stream",
     "text": [
      "['Rio de Janeiro', 'São Paulo', 'Salvador']\n"
     ]
    }
   ],
   "source": [
    "cidades = ['Rio de Janeiro', 'São Paulo', 'Salvador']\n",
    "print(cidades)"
   ]
  },
  {
   "cell_type": "code",
   "execution_count": 3,
   "metadata": {},
   "outputs": [
    {
     "name": "stdout",
     "output_type": "stream",
     "text": [
      "['manteiga', 'arroz', 'feijão', 'fubá', 'ervilha', 'milho', 'azeite']\n"
     ]
    }
   ],
   "source": [
    "itens_mercado = ['manteiga', 'arroz', 'feijão', 'fubá', 'ervilha', 'milho', 'azeite']\n",
    "\n",
    "print(itens_mercado)"
   ]
  },
  {
   "cell_type": "code",
   "execution_count": 4,
   "metadata": {},
   "outputs": [
    {
     "name": "stdout",
     "output_type": "stream",
     "text": [
      "[3, 5, 6, 9, 10, 25, 38, 55]\n"
     ]
    }
   ],
   "source": [
    "numeros = [3, 5, 6, 9, 10, 25, 38, 55]\n",
    "print(numeros)"
   ]
  },
  {
   "cell_type": "code",
   "execution_count": 12,
   "metadata": {},
   "outputs": [
    {
     "name": "stdout",
     "output_type": "stream",
     "text": [
      "9\n"
     ]
    }
   ],
   "source": [
    "print(numeros[3])"
   ]
  },
  {
   "cell_type": "code",
   "execution_count": 14,
   "metadata": {},
   "outputs": [
    {
     "name": "stdout",
     "output_type": "stream",
     "text": [
      "['alho', 'arroz', 'feijão', 'fubá', 'ervilha', 'milho', 'azeite']\n"
     ]
    }
   ],
   "source": [
    "# Trocar item\n",
    "\n",
    "itens_mercado = ['manteiga', 'arroz', 'feijão', 'fubá', 'ervilha', 'milho', 'azeite']\n",
    "itens_mercado[0]= 'alho' \n",
    "print(itens_mercado)"
   ]
  },
  {
   "cell_type": "code",
   "execution_count": 15,
   "metadata": {},
   "outputs": [
    {
     "name": "stdout",
     "output_type": "stream",
     "text": [
      "['manteiga', 'arroz', 'feijão', 'fubá', 'ervilha', 'milho', 'azeite', 'alho']\n"
     ]
    }
   ],
   "source": [
    "# Adicionar um item - append()\n",
    "\n",
    "itens_mercado = ['manteiga', 'arroz', 'feijão', 'fubá', 'ervilha', 'milho', 'azeite']\n",
    "itens_mercado.append('alho') \n",
    "print(itens_mercado)"
   ]
  },
  {
   "cell_type": "code",
   "execution_count": 16,
   "metadata": {},
   "outputs": [
    {
     "name": "stdout",
     "output_type": "stream",
     "text": [
      "['manteiga', 'arroz', 'feijão', 'fubá', 'ervilha', 'milho']\n"
     ]
    }
   ],
   "source": [
    "# Remor item da lista - remove()\n",
    "itens_mercado = ['manteiga', 'arroz', 'feijão', 'fubá', 'ervilha', 'milho', 'azeite']\n",
    "itens_mercado.remove('azeite') \n",
    "print(itens_mercado)\n"
   ]
  },
  {
   "cell_type": "code",
   "execution_count": 18,
   "metadata": {},
   "outputs": [
    {
     "name": "stdout",
     "output_type": "stream",
     "text": [
      "['alho', 'manteiga', 'arroz', 'feijão', 'fubá', 'ervilha', 'milho', 'azeite']\n"
     ]
    }
   ],
   "source": [
    "# Inserir um item na lista = insert() insere um item na lista em ordem. Posição 0 , 1 etc...\n",
    "itens_mercado = ['manteiga', 'arroz', 'feijão', 'fubá', 'ervilha', 'milho', 'azeite']\n",
    "itens_mercado.insert(0, 'alho') \n",
    "print(itens_mercado)\n"
   ]
  },
  {
   "cell_type": "code",
   "execution_count": 19,
   "metadata": {},
   "outputs": [
    {
     "name": "stdout",
     "output_type": "stream",
     "text": [
      "['arroz', 'feijão', 'fubá', 'ervilha', 'milho', 'azeite']\n"
     ]
    }
   ],
   "source": [
    "# Retirar pela posição - pop()\n",
    "\n",
    "itens_mercado = ['manteiga', 'arroz', 'feijão', 'fubá', 'ervilha', 'milho', 'azeite']\n",
    "itens_mercado.pop(0) \n",
    "print(itens_mercado)"
   ]
  },
  {
   "cell_type": "code",
   "execution_count": 20,
   "metadata": {},
   "outputs": [
    {
     "name": "stdout",
     "output_type": "stream",
     "text": [
      "['arroz', 'azeite', 'ervilha', 'feijão', 'fubá', 'manteiga', 'milho']\n"
     ]
    }
   ],
   "source": [
    "# Itens da lista em ordem alfabética - sort.()\n",
    "itens_mercado = ['manteiga', 'arroz', 'feijão', 'fubá', 'ervilha', 'milho', 'azeite']\n",
    "itens_mercado.sort() \n",
    "print(itens_mercado)"
   ]
  },
  {
   "cell_type": "code",
   "execution_count": 21,
   "metadata": {},
   "outputs": [
    {
     "name": "stdout",
     "output_type": "stream",
     "text": [
      "['a', 'b', 'd', 'f', 'j', 'k', 'o', 'r', 's', 'x', 'y']\n"
     ]
    }
   ],
   "source": [
    "letras = ['k', 'j', 'o', 'f', 'r', 'a', 'b', 'd', 'y', 'x', 's' ]\n",
    "letras.sort()\n",
    "print(letras)"
   ]
  },
  {
   "cell_type": "code",
   "execution_count": 1,
   "metadata": {},
   "outputs": [
    {
     "name": "stdout",
     "output_type": "stream",
     "text": [
      "[2, 3, 4, 6, 8, 9, 12, 11, 10, 55, 2, 3, 4, 6, 8, 9, 12, 11, 10, 55]\n"
     ]
    }
   ],
   "source": [
    "# Listas\n",
    "# Armazenar mais de uma informação em variáveis.\n",
    "# Manter a sequência dos dados em uma variável.\n",
    "\n",
    "numeros = [2, 3, 4, 6, 8, 9, 12, 11, 10, 55]\n",
    "\n",
    "final = numeros * 2\n",
    "print(final)\n"
   ]
  },
  {
   "cell_type": "code",
   "execution_count": 2,
   "metadata": {},
   "outputs": [
    {
     "name": "stdout",
     "output_type": "stream",
     "text": [
      "[2, 3, 4, 6, 8, 9, 12, 11, 10, 55, 2, 3, 4, 6, 8, 9, 12, 11, 10, 55, 2, 3, 4, 6, 8, 9, 12, 11, 10, 55, 2, 3, 4, 6, 8, 9, 12, 11, 10, 55]\n"
     ]
    }
   ],
   "source": [
    "numeros = [2, 3, 4, 6, 8, 9, 12, 11, 10, 55]\n",
    "\n",
    "final = numeros * 4\n",
    "print(final)\n",
    "\n"
   ]
  },
  {
   "cell_type": "code",
   "execution_count": 3,
   "metadata": {},
   "outputs": [
    {
     "name": "stdout",
     "output_type": "stream",
     "text": [
      "[2, 3, 4, 6, 8, 9, 12, 11, 10, 55, 'a', 'b', 'c', 'd', 'e']\n"
     ]
    }
   ],
   "source": [
    "# Concatenar listas:\n",
    "\n",
    "numeros = [2, 3, 4, 6, 8, 9, 12, 11, 10, 55]\n",
    "letras = ['a', 'b', 'c', 'd', 'e']\n",
    "final = numeros + letras\n",
    "print(final)"
   ]
  },
  {
   "cell_type": "code",
   "execution_count": 4,
   "metadata": {},
   "outputs": [
    {
     "name": "stdout",
     "output_type": "stream",
     "text": [
      "[2, 3, 4, 6, 8, 9, 12, 11, 10, 55, 'a', 'b', 'c', 'd', 'e']\n"
     ]
    }
   ],
   "source": [
    "# Podemos usar o extend:\n",
    "numeros = [2, 3, 4, 6, 8, 9, 12, 11, 10, 55]\n",
    "letras = ['a', 'b', 'c', 'd', 'e']\n",
    "numeros.extend(letras)\n",
    "print(numeros)"
   ]
  },
  {
   "cell_type": "code",
   "execution_count": 9,
   "metadata": {},
   "outputs": [
    {
     "name": "stdout",
     "output_type": "stream",
     "text": [
      "[['item1', 'iem2'], ['item3', 'item4']]\n",
      "['item3', 'item4']\n",
      "item4\n",
      "['item1', 'iem2']\n"
     ]
    }
   ],
   "source": [
    "# Separando lista:\n",
    "\n",
    "itens = [['item1', 'iem2'], ['item3', 'item4']]\n",
    "print(itens)\n",
    "print(itens[1])\n",
    "print(itens[1] [1])\n",
    "print(itens[0])"
   ]
  },
  {
   "cell_type": "code",
   "execution_count": 10,
   "metadata": {},
   "outputs": [
    {
     "name": "stdout",
     "output_type": "stream",
     "text": [
      "3\n"
     ]
    }
   ],
   "source": [
    "numeros = [1, 2, 3, 4, 5, 6, 7]\n",
    "print(numeros[2])"
   ]
  },
  {
   "cell_type": "code",
   "execution_count": 12,
   "metadata": {},
   "outputs": [
    {
     "name": "stdout",
     "output_type": "stream",
     "text": [
      "arroz\n"
     ]
    }
   ],
   "source": [
    "# Unpacking Lists:\n",
    "# Armazenar mais de uma informação emvariáveis.\n",
    "# Manter a sequência dos dados em uma variável.\n",
    "\n",
    "produtos = ['arroz', 'feijão', 'laranja', 'banana']\n",
    "item1 = produtos[0]\n",
    "print(item1)\n"
   ]
  },
  {
   "cell_type": "code",
   "execution_count": 13,
   "metadata": {},
   "outputs": [
    {
     "name": "stdout",
     "output_type": "stream",
     "text": [
      "arroz\n",
      "feijão\n",
      "laranja\n",
      "banana\n"
     ]
    }
   ],
   "source": [
    "produtos = ['arroz', 'feijão', 'laranja', 'banana']\n",
    "\n",
    "item1, item2, item3, item4 = produtos\n",
    "\n",
    "print(item1)\n",
    "print(item2)\n",
    "print(item3)\n",
    "print(item4)"
   ]
  },
  {
   "cell_type": "code",
   "execution_count": 19,
   "metadata": {},
   "outputs": [
    {
     "name": "stdout",
     "output_type": "stream",
     "text": [
      "arroz\n",
      "feijão\n",
      "laranja\n"
     ]
    }
   ],
   "source": [
    "produtos = ['arroz', 'feijão', 'laranja', 'banana', 1, 2, 3, 4]\n",
    "\n",
    "item1, item2, item3, *outros = produtos\n",
    "\n",
    "print(item1)\n",
    "print(item2)\n",
    "print(item3)\n"
   ]
  },
  {
   "cell_type": "code",
   "execution_count": 21,
   "metadata": {},
   "outputs": [
    {
     "name": "stdout",
     "output_type": "stream",
     "text": [
      "arroz\n",
      "feijão\n",
      "laranja\n",
      "banana 1 2 3 4\n"
     ]
    }
   ],
   "source": [
    "produtos = ['arroz', 'feijão', 'laranja', 'banana', 1, 2, 3, 4]\n",
    "\n",
    "item1, item2, item3, *outros = produtos\n",
    "\n",
    "print(item1)\n",
    "print(item2)\n",
    "print(item3)\n",
    "print(*outros)"
   ]
  },
  {
   "cell_type": "code",
   "execution_count": 22,
   "metadata": {},
   "outputs": [
    {
     "name": "stdout",
     "output_type": "stream",
     "text": [
      "50\n",
      "80\n",
      "110\n",
      "150\n",
      "180\n"
     ]
    }
   ],
   "source": [
    "valores = [50, 80, 110, 150, 180]\n",
    "for x in valores:\n",
    "    print(x)"
   ]
  },
  {
   "cell_type": "code",
   "execution_count": 24,
   "metadata": {},
   "outputs": [
    {
     "name": "stdout",
     "output_type": "stream",
     "text": [
      "O valor final do produto é de R$ 50,00\n",
      "O valor final do produto é de R$ 80,00\n",
      "O valor final do produto é de R$ 110,00\n",
      "O valor final do produto é de R$ 150,00\n",
      "O valor final do produto é de R$ 180,00\n"
     ]
    }
   ],
   "source": [
    "valores = [50, 80, 110, 150, 180]\n",
    "for x in valores:\n",
    "    print(f'O valor final do produto é de R$ {x},00')"
   ]
  },
  {
   "cell_type": "code",
   "execution_count": 26,
   "metadata": {},
   "outputs": [
    {
     "name": "stdout",
     "output_type": "stream",
     "text": [
      "Sim!\n"
     ]
    }
   ],
   "source": [
    "cores = ['amarelo', 'verde', 'azul', 'vermelho']\n",
    "if 'amarelo' in cores:\n",
    "    print('Sim!')\n",
    "else:\n",
    "    print('Não!')"
   ]
  },
  {
   "cell_type": "code",
   "execution_count": 27,
   "metadata": {},
   "outputs": [
    {
     "name": "stdout",
     "output_type": "stream",
     "text": [
      "Sim!\n"
     ]
    }
   ],
   "source": [
    "cores = ['amarelo', 'verde', 'azul', 'vermelho']\n",
    "if 'verde' in cores:\n",
    "    print('Sim!')\n",
    "else:\n",
    "    print('Não!')"
   ]
  },
  {
   "cell_type": "code",
   "execution_count": 28,
   "metadata": {},
   "outputs": [
    {
     "name": "stdout",
     "output_type": "stream",
     "text": [
      "Sim!\n"
     ]
    }
   ],
   "source": [
    "cores = ['amarelo', 'verde', 'azul', 'vermelho']\n",
    "if 'azul' in cores:\n",
    "    print('Sim!')\n",
    "else:\n",
    "    print('Não!')"
   ]
  },
  {
   "cell_type": "code",
   "execution_count": 29,
   "metadata": {},
   "outputs": [
    {
     "name": "stdout",
     "output_type": "stream",
     "text": [
      "Sim!\n"
     ]
    }
   ],
   "source": [
    "cores = ['amarelo', 'verde', 'azul', 'vermelho']\n",
    "if 'vermelho' in cores:\n",
    "    print('Sim!')\n",
    "else:\n",
    "    print('Não!')"
   ]
  },
  {
   "cell_type": "code",
   "execution_count": 30,
   "metadata": {},
   "outputs": [
    {
     "name": "stdout",
     "output_type": "stream",
     "text": [
      "Não!\n"
     ]
    }
   ],
   "source": [
    "cores = ['amarelo', 'verde', 'azul', 'vermelho']\n",
    "if 'roxo' in cores:\n",
    "    print('Sim!')\n",
    "else:\n",
    "    print('Não!')"
   ]
  },
  {
   "cell_type": "code",
   "execution_count": 31,
   "metadata": {},
   "outputs": [
    {
     "name": "stdout",
     "output_type": "stream",
     "text": [
      "Não!\n"
     ]
    }
   ],
   "source": [
    "cores = ['amarelo', 'verde', 'azul', 'vermelho']\n",
    "if 'rosa' in cores:\n",
    "    print('Sim!')\n",
    "else:\n",
    "    print('Não!')"
   ]
  },
  {
   "cell_type": "code",
   "execution_count": 32,
   "metadata": {},
   "outputs": [
    {
     "name": "stdout",
     "output_type": "stream",
     "text": [
      "Sim, temos no estoque.\n"
     ]
    }
   ],
   "source": [
    "cor_clientes = input('Digite a cor desejada:')\n",
    "cores = ['amarelo', 'verde', 'azul', 'vermelho']\n",
    "if cor_clientes in cores:\n",
    "    print('Sim, temos no estoque.')\n",
    "else:\n",
    "    print('Não temos no estoque.')"
   ]
  },
  {
   "cell_type": "code",
   "execution_count": 35,
   "metadata": {},
   "outputs": [
    {
     "name": "stdout",
     "output_type": "stream",
     "text": [
      "Sim, temos no estoque.\n"
     ]
    }
   ],
   "source": [
    "cor_clientes = input('Digite a cor desejada:')\n",
    "cores = ['amarelo', 'verde', 'azul', 'vermelho']\n",
    "if cor_clientes.lower() in cores:\n",
    "    print('Sim, temos no estoque.')\n",
    "else:\n",
    "    print('Não temos no estoque.')"
   ]
  },
  {
   "cell_type": "code",
   "execution_count": 1,
   "metadata": {},
   "outputs": [
    {
     "name": "stdout",
     "output_type": "stream",
     "text": [
      "Infelizmente não oferecemos este serviço.\n"
     ]
    }
   ],
   "source": [
    "especialidade_clientes = input('Digite sua especialização:')\n",
    "especialidades = ['gastro', 'psiquiatrico', 'cardiologia', 'neurologia']\n",
    "if especialidade_clientes.lower() in especialidades:\n",
    "    print('Sim, oferecemos esse serviço.')\n",
    "else:\n",
    "    print('Infelizmente não oferecemos este serviço.')"
   ]
  },
  {
   "cell_type": "code",
   "execution_count": 2,
   "metadata": {},
   "outputs": [
    {
     "name": "stdout",
     "output_type": "stream",
     "text": [
      "Sim, oferecemos esse serviço.\n"
     ]
    }
   ],
   "source": [
    "especialidade_clientes = input('Digite sua especialização:')\n",
    "especialidades = ['gastro', 'psiquiatrico', 'cardiologia', 'neurologia']\n",
    "if especialidade_clientes.lower() in especialidades:\n",
    "    print('Sim, oferecemos esse serviço.')\n",
    "else:\n",
    "    print('Infelizmente não oferecemos este serviço.')"
   ]
  },
  {
   "cell_type": "code",
   "execution_count": null,
   "metadata": {},
   "outputs": [],
   "source": []
  }
 ],
 "metadata": {
  "kernelspec": {
   "display_name": ".venv",
   "language": "python",
   "name": "python3"
  },
  "language_info": {
   "codemirror_mode": {
    "name": "ipython",
    "version": 3
   },
   "file_extension": ".py",
   "mimetype": "text/x-python",
   "name": "python",
   "nbconvert_exporter": "python",
   "pygments_lexer": "ipython3",
   "version": "3.11.4"
  }
 },
 "nbformat": 4,
 "nbformat_minor": 2
}
