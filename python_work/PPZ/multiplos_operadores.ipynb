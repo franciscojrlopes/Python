{
 "cells": [
  {
   "cell_type": "markdown",
   "metadata": {},
   "source": [
    "Multiplos operadores de comparação:\n"
   ]
  },
  {
   "cell_type": "code",
   "execution_count": 7,
   "metadata": {},
   "outputs": [
    {
     "name": "stdout",
     "output_type": "stream",
     "text": [
      "Produto não foi aceito!\n"
     ]
    }
   ],
   "source": [
    "# Multiplos operadores de comparação........ supondo que o valor de entrada de um produto numa plataforma de vendas on line seja acima de 20..............\n",
    "\n",
    "valor = 10\n",
    "if valor >=20 and valor <40:\n",
    "    print('Produto foi aceito!')\n",
    "else:\n",
    "    print('Produto não foi aceito!')\n",
    "    \n"
   ]
  },
  {
   "cell_type": "code",
   "execution_count": 8,
   "metadata": {},
   "outputs": [
    {
     "name": "stdout",
     "output_type": "stream",
     "text": [
      "Produto foi aceito!\n"
     ]
    }
   ],
   "source": [
    "valor = 21\n",
    "if valor >=20 and valor <40:\n",
    "    print('Produto foi aceito!')\n",
    "else:\n",
    "    print('Produto não foi aceito!')"
   ]
  },
  {
   "cell_type": "code",
   "execution_count": 9,
   "metadata": {},
   "outputs": [
    {
     "name": "stdout",
     "output_type": "stream",
     "text": [
      "Produto não foi aceito!\n"
     ]
    }
   ],
   "source": [
    "valor = 19.9\n",
    "if valor >=20 and valor <40:\n",
    "    print('Produto foi aceito!')\n",
    "else:\n",
    "    print('Produto não foi aceito!')"
   ]
  },
  {
   "cell_type": "code",
   "execution_count": 10,
   "metadata": {},
   "outputs": [
    {
     "name": "stdout",
     "output_type": "stream",
     "text": [
      "Produto foi aceito!\n"
     ]
    }
   ],
   "source": [
    "valor = 20.01\n",
    "if valor >=20 and valor <40:\n",
    "    print('Produto foi aceito!')\n",
    "else:\n",
    "    print('Produto não foi aceito!')"
   ]
  },
  {
   "cell_type": "code",
   "execution_count": 19,
   "metadata": {},
   "outputs": [
    {
     "name": "stdout",
     "output_type": "stream",
     "text": [
      "Produto não foi aceito!\n"
     ]
    }
   ],
   "source": [
    "valor = 100\n",
    "if 20 <= valor < 40:                    # outra forma de fazer reduzindo código....'Código Limpo'\n",
    "                                        #if valor >=20 and valor <40:\n",
    "    print('Produto foi aceito!')\n",
    "else:\n",
    "    print('Produto não foi aceito!')"
   ]
  },
  {
   "cell_type": "code",
   "execution_count": 23,
   "metadata": {},
   "outputs": [
    {
     "name": "stdout",
     "output_type": "stream",
     "text": [
      "Produto foi aceito!\n"
     ]
    }
   ],
   "source": [
    "valor = 39\n",
    "if 20 <= valor < 40: \n",
    "    print('Produto foi aceito!')\n",
    "else:\n",
    "    print('Produto não foi aceito!')"
   ]
  },
  {
   "cell_type": "code",
   "execution_count": 24,
   "metadata": {},
   "outputs": [
    {
     "name": "stdout",
     "output_type": "stream",
     "text": [
      "Produto foi aceito!\n"
     ]
    }
   ],
   "source": [
    "valor = 20.01\n",
    "if 20 <= valor < 40: \n",
    "    print('Produto foi aceito!')\n",
    "else:\n",
    "    print('Produto não foi aceito!')"
   ]
  }
 ],
 "metadata": {
  "kernelspec": {
   "display_name": ".venv",
   "language": "python",
   "name": "python3"
  },
  "language_info": {
   "codemirror_mode": {
    "name": "ipython",
    "version": 3
   },
   "file_extension": ".py",
   "mimetype": "text/x-python",
   "name": "python",
   "nbconvert_exporter": "python",
   "pygments_lexer": "ipython3",
   "version": "3.11.4"
  }
 },
 "nbformat": 4,
 "nbformat_minor": 2
}
