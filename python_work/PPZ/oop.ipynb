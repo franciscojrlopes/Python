{
 "cells": [
  {
   "cell_type": "markdown",
   "metadata": {},
   "source": [
    "OPP = Python Object-Oriented Programming (Programação Orientada a Objetos)\n",
    "\n",
    "Classes:\n",
    "    Utilizadas para crir objetos (instances);\n",
    "    Objetos são partes dentro de uma classe (instances);\n",
    "    Classes são utilizadas para agrupar dados e funções podedendo reutilizar.\n",
    "\n",
    "    Class: Frutas\n",
    "    Objects: banana, maçã, uva........"
   ]
  },
  {
   "cell_type": "code",
   "execution_count": 2,
   "metadata": {},
   "outputs": [
    {
     "name": "stdout",
     "output_type": "stream",
     "text": [
      "Francisco\n",
      "<class 'str'>\n"
     ]
    }
   ],
   "source": [
    "nome =  'Francisco'\n",
    "print(nome)\n",
    "print(type(nome))"
   ]
  },
  {
   "cell_type": "code",
   "execution_count": 3,
   "metadata": {},
   "outputs": [
    {
     "name": "stdout",
     "output_type": "stream",
     "text": [
      "francisco\n"
     ]
    }
   ],
   "source": [
    "nome =  'Francisco'\n",
    "nome_lower = nome.lower()\n",
    "print(nome_lower)\n",
    "\n",
    "# . o ponto significa criar uma função.... '.lower()'"
   ]
  },
  {
   "cell_type": "code",
   "execution_count": 4,
   "metadata": {},
   "outputs": [
    {
     "name": "stdout",
     "output_type": "stream",
     "text": [
      "<class '__main__.Funcionarios'>\n"
     ]
    }
   ],
   "source": [
    "# Class primeira letra maiúscula.\n",
    "\n",
    "class Funcionarios:\n",
    "    nome = \"Francisco\"\n",
    "    sobrenome = 'Lopes'\n",
    "print(Funcionarios)\n",
    "\n",
    "    # def\n",
    "    # def\n",
    "    # def\n",
    "    # def\n"
   ]
  },
  {
   "cell_type": "code",
   "execution_count": 5,
   "metadata": {},
   "outputs": [
    {
     "name": "stdout",
     "output_type": "stream",
     "text": [
      "Francisco\n",
      "Lopes\n"
     ]
    }
   ],
   "source": [
    "\n",
    "class Funcionarios:\n",
    "    nome = \"Francisco\"\n",
    "    sobrenome = 'Lopes'\n",
    "usuario1 = Funcionarios() # Objeto\n",
    "print(usuario1.nome)\n",
    "print(usuario1.sobrenome)"
   ]
  },
  {
   "cell_type": "code",
   "execution_count": 6,
   "metadata": {},
   "outputs": [
    {
     "name": "stdout",
     "output_type": "stream",
     "text": [
      "Francisco\n",
      "Lopes\n",
      "26/03/1970\n"
     ]
    }
   ],
   "source": [
    "class Funcionarios: # ---> Class\n",
    "    nome = \"Francisco\"\n",
    "    sobrenome = 'Lopes'\n",
    "    data_nascimento  = '26/03/1970'\n",
    "usuario1 = Funcionarios() #---> Objeto\n",
    "print(usuario1.nome)\n",
    "print(usuario1.sobrenome)\n",
    "print(usuario1.data_nascimento)"
   ]
  },
  {
   "cell_type": "code",
   "execution_count": 8,
   "metadata": {},
   "outputs": [
    {
     "name": "stdout",
     "output_type": "stream",
     "text": [
      "Francisco\n",
      "Rebeca\n"
     ]
    }
   ],
   "source": [
    "# Criar a classe\n",
    "class Funcionarios: \n",
    "    pass\n",
    "\n",
    "# Criar o objeto\n",
    "\n",
    "usuario1 = Funcionarios()\n",
    "usuario2 = Funcionarios()\n",
    "\n",
    "# Criar parâmetros do usuario 1:\n",
    "\n",
    "usuario1.nome = 'Francisco'\n",
    "usuario1.sobrenome = 'Lopes'\n",
    "usuario1.data_nascimento = '26/03/1970'\n",
    "# Criar parâmetros do usuário 2:\n",
    "usuario2.nome = 'Rebeca'\n",
    "usuario2.sobrenome = 'Baltazar'\n",
    "usuario2.data_nascimento = '28/01/1993'\n",
    "\n",
    "# Print\n",
    "print(usuario1.nome)\n",
    "print(usuario2.nome)"
   ]
  },
  {
   "cell_type": "code",
   "execution_count": null,
   "metadata": {},
   "outputs": [],
   "source": []
  },
  {
   "cell_type": "code",
   "execution_count": 1,
   "metadata": {},
   "outputs": [
    {
     "name": "stdout",
     "output_type": "stream",
     "text": [
      "Francisco\n",
      "Rebeca\n"
     ]
    }
   ],
   "source": [
    "# Construtores reduz os parâmetros\n",
    "\n",
    "# Criar a classe\n",
    "class Funcionarios: \n",
    "    def __init__(self, nome, sobrenome, data_nascimento):\n",
    "        self.nome = nome\n",
    "        self.sobrenome = sobrenome\n",
    "        self.data_nascimento = data_nascimento\n",
    "       \n",
    "\n",
    "# Criar o objeto\n",
    "\n",
    "usuario1 = Funcionarios('Francisco', 'Lopes', '26/03/1970')\n",
    "usuario2 = Funcionarios('Rebeca', 'Baltazar', '28/01/1993')\n",
    "\n",
    "# Print\n",
    "print(usuario1.nome)\n",
    "print(usuario2.nome)\n",
    "\n"
   ]
  },
  {
   "cell_type": "code",
   "execution_count": 4,
   "metadata": {},
   "outputs": [
    {
     "name": "stdout",
     "output_type": "stream",
     "text": [
      "Francisco\n",
      "Rebeca\n",
      "João\n"
     ]
    }
   ],
   "source": [
    "# Construtores reduz os parâmetros\n",
    "\n",
    "# Criar a classe\n",
    "class Funcionarios: \n",
    "    def __init__(self, nome, sobrenome, data_nascimento):\n",
    "        self.nome = nome\n",
    "        self.sobrenome = sobrenome\n",
    "        self.data_nascimento = data_nascimento\n",
    "       \n",
    "\n",
    "# Criar o objeto\n",
    "\n",
    "usuario1 = Funcionarios('Francisco', 'Lopes', '26/03/1970')\n",
    "usuario2 = Funcionarios('Rebeca', 'Baltazar', '28/01/1993')\n",
    "usuario3 = Funcionarios('João', 'Silva', '14/11/1980')\n",
    "# Print\n",
    "print(usuario1.nome)\n",
    "print(usuario2.nome)\n",
    "print(usuario3.nome)"
   ]
  },
  {
   "cell_type": "code",
   "execution_count": 6,
   "metadata": {},
   "outputs": [
    {
     "name": "stdout",
     "output_type": "stream",
     "text": [
      "Francisco Lopes\n",
      "Rebeca Baltazar\n",
      "João Silva\n"
     ]
    }
   ],
   "source": [
    "# Construtores reduz os parâmetros\n",
    "\n",
    "# Criar a classe\n",
    "class Funcionarios: \n",
    "    def __init__(self, nome, sobrenome, data_nascimento):\n",
    "        self.nome = nome\n",
    "        self.sobrenome = sobrenome\n",
    "        self.data_nascimento = data_nascimento\n",
    "       \n",
    "\n",
    "# Criar o objeto\n",
    "\n",
    "usuario1 = Funcionarios('Francisco', 'Lopes', '26/03/1970')\n",
    "usuario2 = Funcionarios('Rebeca', 'Baltazar', '28/01/1993')\n",
    "usuario3 = Funcionarios('João', 'Silva', '14/11/1980')\n",
    "# Print\n",
    "print(usuario1.nome, usuario1.sobrenome)\n",
    "print(usuario2.nome, usuario2.sobrenome)\n",
    "print(usuario3.nome, usuario3.sobrenome)"
   ]
  },
  {
   "cell_type": "code",
   "execution_count": 12,
   "metadata": {},
   "outputs": [
    {
     "name": "stdout",
     "output_type": "stream",
     "text": [
      "Francisco Lopes\n",
      "Francisco Lopes\n"
     ]
    }
   ],
   "source": [
    "# Nome completo:\n",
    "\n",
    "# Construtores reduz os parâmetros\n",
    "\n",
    "# Criar a classe\n",
    "class Funcionarios: \n",
    "    def __init__(self, nome, sobrenome, data_nascimento):\n",
    "        self.nome = nome\n",
    "        self.sobrenome = sobrenome\n",
    "        self.data_nascimento = data_nascimento\n",
    "    def nome_completo(self):\n",
    "        return self.nome + ' ' + self.sobrenome  \n",
    "\n",
    "# Criar o objeto\n",
    "\n",
    "usuario1 = Funcionarios('Francisco', 'Lopes', '26/03/1970')\n",
    "usuario2 = Funcionarios('Rebeca', 'Baltazar', '28/01/1993')\n",
    "usuario3 = Funcionarios('João', 'Silva', '14/11/1980')\n",
    "# Print duas formas:\n",
    "print(usuario1.nome_completo ())\n",
    "print(Funcionarios.nome_completo(usuario1))"
   ]
  },
  {
   "cell_type": "code",
   "execution_count": 18,
   "metadata": {},
   "outputs": [
    {
     "name": "stdout",
     "output_type": "stream",
     "text": [
      "54\n"
     ]
    }
   ],
   "source": [
    "# Nome completo:\n",
    "\n",
    "# Construtores reduz os parâmetros\n",
    "\n",
    "# Import Datetime:\n",
    "from datetime import datetime\n",
    "# Criar a classe\n",
    "class Funcionarios: \n",
    "    def __init__(self, nome, sobrenome, ano_nascimento):\n",
    "        self.nome = nome\n",
    "        self.sobrenome = sobrenome\n",
    "        self.ano_nascimento = ano_nascimento\n",
    "    def nome_completo(self):\n",
    "        return self.nome + ' ' + self.sobrenome  \n",
    "    def idade_funcionario(self):\n",
    "        self.ano_nascimento = int(2024 - self.ano_nascimento) # Forma não tão boa vou ter mudar o ano....\n",
    "        return self.ano_nascimento\n",
    "# Criar o objeto\n",
    "\n",
    "usuario1 = Funcionarios('Francisco', 'Lopes', 1970)\n",
    "usuario2 = Funcionarios('Rebeca', 'Baltazar', 1993)\n",
    "usuario3 = Funcionarios('João', 'Silva', 1980)\n",
    "# Print:\n",
    "\n",
    "print(Funcionarios.idade_funcionario(usuario1))"
   ]
  },
  {
   "cell_type": "code",
   "execution_count": 20,
   "metadata": {},
   "outputs": [
    {
     "name": "stdout",
     "output_type": "stream",
     "text": [
      "54\n"
     ]
    }
   ],
   "source": [
    "# Nome completo:\n",
    "\n",
    "# Construtores reduz os parâmetros\n",
    "\n",
    "# Import Datetime:\n",
    "from datetime import datetime\n",
    "# Criar a classe\n",
    "class Funcionarios: \n",
    "    def __init__(self, nome, sobrenome, ano_nascimento):\n",
    "        self.nome = nome\n",
    "        self.sobrenome = sobrenome\n",
    "        self.ano_nascimento = ano_nascimento\n",
    "    def nome_completo(self):\n",
    "        return self.nome + ' ' + self.sobrenome  \n",
    "    def idade_funcionario(self):\n",
    "        self.ano_nascimento = int(2024 - self.ano_nascimento) # Forma não tão boa vou ter mudar o ano....\n",
    "        return self.ano_nascimento\n",
    "# Criar o objeto\n",
    "\n",
    "usuario1 = Funcionarios('Francisco', 'Lopes', 1970)\n",
    "usuario2 = Funcionarios('Rebeca', 'Baltazar', 1993)\n",
    "usuario3 = Funcionarios('João', 'Silva', 1980)\n",
    "# Print:\n",
    "\n",
    "print(Funcionarios.idade_funcionario(usuario1))"
   ]
  },
  {
   "cell_type": "code",
   "execution_count": 23,
   "metadata": {},
   "outputs": [
    {
     "name": "stdout",
     "output_type": "stream",
     "text": [
      "54\n",
      "31\n",
      "44\n"
     ]
    }
   ],
   "source": [
    "# Nome completo:\n",
    "\n",
    "# Construtores reduz os parâmetros\n",
    "\n",
    "# Import Datetime:\n",
    "from datetime import datetime\n",
    "# Criar a classe\n",
    "class Funcionarios: \n",
    "    def __init__(self, nome, sobrenome, ano_nascimento):\n",
    "        self.nome = nome\n",
    "        self.sobrenome = sobrenome\n",
    "        self.ano_nascimento = ano_nascimento\n",
    "    def nome_completo(self):\n",
    "        return self.nome + ' ' + self.sobrenome  \n",
    "    def idade_funcionario(self):\n",
    "        ano_atual = datetime.now().year # Melhor forma atualiza automaticamento com o datetime.\n",
    "        self.ano_nascimento = int(ano_atual - self.ano_nascimento) \n",
    "        return self.ano_nascimento\n",
    "# Criar o objeto\n",
    "\n",
    "usuario1 = Funcionarios('Francisco', 'Lopes', 1970)\n",
    "usuario2 = Funcionarios('Rebeca', 'Baltazar', 1993)\n",
    "usuario3 = Funcionarios('João', 'Silva', 1980)\n",
    "# Print:\n",
    "\n",
    "print(Funcionarios.idade_funcionario(usuario1))\n",
    "print(Funcionarios.idade_funcionario(usuario2))\n",
    "print(Funcionarios.idade_funcionario(usuario3))"
   ]
  },
  {
   "cell_type": "code",
   "execution_count": 1,
   "metadata": {},
   "outputs": [
    {
     "name": "stdout",
     "output_type": "stream",
     "text": [
      "54\n",
      "31\n",
      "44\n",
      "47\n"
     ]
    }
   ],
   "source": [
    "# Import Datetime:\n",
    "from datetime import datetime\n",
    "# Criar a classe\n",
    "class Funcionarios: \n",
    "    def __init__(self, nome, sobrenome, ano_nascimento):\n",
    "        self.nome = nome\n",
    "        self.sobrenome = sobrenome\n",
    "        self.ano_nascimento = ano_nascimento\n",
    "    def nome_completo(self):\n",
    "        return self.nome + ' ' + self.sobrenome  \n",
    "    def idade_funcionario(self):\n",
    "        ano_atual = datetime.now().year # Melhor forma atualiza automaticamento com o datetime.\n",
    "        self.ano_nascimento = int(ano_atual - self.ano_nascimento) \n",
    "        return self.ano_nascimento\n",
    "# Criar o objeto\n",
    "\n",
    "usuario1 = Funcionarios('Francisco', 'Lopes', 1970)\n",
    "usuario2 = Funcionarios('Rebeca', 'Baltazar', 1993)\n",
    "usuario3 = Funcionarios('João', 'Silva', 1980)\n",
    "usuario4 = Funcionarios('Carla', 'Balbi', 1977)\n",
    "# Print:\n",
    "\n",
    "print(Funcionarios.idade_funcionario(usuario1))\n",
    "print(Funcionarios.idade_funcionario(usuario2))\n",
    "print(Funcionarios.idade_funcionario(usuario3))\n",
    "print(Funcionarios.idade_funcionario(usuario4))"
   ]
  },
  {
   "cell_type": "code",
   "execution_count": 1,
   "metadata": {},
   "outputs": [
    {
     "name": "stdout",
     "output_type": "stream",
     "text": [
      "54\n",
      "31\n",
      "44\n",
      "47\n",
      "53\n",
      "37\n",
      "25\n",
      "33\n"
     ]
    }
   ],
   "source": [
    "# Import Datetime:\n",
    "from datetime import datetime\n",
    "# Criar a classe\n",
    "class Funcionarios: \n",
    "    def __init__(self, nome, sobrenome, ano_nascimento):\n",
    "        self.nome = nome\n",
    "        self.sobrenome = sobrenome\n",
    "        self.ano_nascimento = ano_nascimento\n",
    "    def nome_completo(self):\n",
    "        return self.nome + ' ' + self.sobrenome  \n",
    "    def idade_funcionario(self):\n",
    "        ano_atual = datetime.now().year # Melhor forma atualiza automaticamento com o datetime.\n",
    "        self.ano_nascimento = int(ano_atual - self.ano_nascimento) \n",
    "        return self.ano_nascimento\n",
    "# Criar o objeto\n",
    "\n",
    "usuario1 = Funcionarios('Francisco', 'Lopes', 1970)\n",
    "usuario2 = Funcionarios('Rebeca', 'Baltazar', 1993)\n",
    "usuario3 = Funcionarios('João', 'Silva', 1980)\n",
    "usuario4 = Funcionarios('Carla', 'Balbi', 1977)\n",
    "usuario5 = Funcionarios('Carlos', 'Bastos', 1971)\n",
    "usuario6 = Funcionarios('Carla', 'Balbi', 1987)\n",
    "usuario7 = Funcionarios('Carla', 'Balbi', 1999)\n",
    "usuario8 = Funcionarios('Carla', 'Balbi', 1991)\n",
    "# Print:\n",
    "\n",
    "print(Funcionarios.idade_funcionario(usuario1))\n",
    "print(Funcionarios.idade_funcionario(usuario2))\n",
    "print(Funcionarios.idade_funcionario(usuario3))\n",
    "print(Funcionarios.idade_funcionario(usuario4))\n",
    "print(Funcionarios.idade_funcionario(usuario5))\n",
    "print(Funcionarios.idade_funcionario(usuario6))\n",
    "print(Funcionarios.idade_funcionario(usuario7))\n",
    "print(Funcionarios.idade_funcionario(usuario8))"
   ]
  },
  {
   "cell_type": "code",
   "execution_count": null,
   "metadata": {},
   "outputs": [],
   "source": []
  }
 ],
 "metadata": {
  "kernelspec": {
   "display_name": ".venv",
   "language": "python",
   "name": "python3"
  },
  "language_info": {
   "codemirror_mode": {
    "name": "ipython",
    "version": 3
   },
   "file_extension": ".py",
   "mimetype": "text/x-python",
   "name": "python",
   "nbconvert_exporter": "python",
   "pygments_lexer": "ipython3",
   "version": "3.11.4"
  }
 },
 "nbformat": 4,
 "nbformat_minor": 2
}
