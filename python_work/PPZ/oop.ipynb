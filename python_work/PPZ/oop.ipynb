{
 "cells": [
  {
   "cell_type": "markdown",
   "metadata": {},
   "source": [
    "OPP = Python Object-Oriented Programming (Programação Orientada a Objetos)\n",
    "\n",
    "Classes:\n",
    "    Utilizadas para crir objetos (instances);\n",
    "    Objetos são partes dentro de uma classe (instances);\n",
    "    Classes são utilizadas para agrupar dados e funções podedendo reutilizar.\n",
    "\n",
    "    Class: Frutas\n",
    "    Objects: banana, maçã, uva........"
   ]
  },
  {
   "cell_type": "code",
   "execution_count": 2,
   "metadata": {},
   "outputs": [
    {
     "name": "stdout",
     "output_type": "stream",
     "text": [
      "Francisco\n",
      "<class 'str'>\n"
     ]
    }
   ],
   "source": [
    "nome =  'Francisco'\n",
    "print(nome)\n",
    "print(type(nome))"
   ]
  },
  {
   "cell_type": "code",
   "execution_count": 3,
   "metadata": {},
   "outputs": [
    {
     "name": "stdout",
     "output_type": "stream",
     "text": [
      "francisco\n"
     ]
    }
   ],
   "source": [
    "nome =  'Francisco'\n",
    "nome_lower = nome.lower()\n",
    "print(nome_lower)\n",
    "\n",
    "# . o ponto significa criar uma função.... '.lower()'"
   ]
  },
  {
   "cell_type": "code",
   "execution_count": 4,
   "metadata": {},
   "outputs": [
    {
     "name": "stdout",
     "output_type": "stream",
     "text": [
      "<class '__main__.Funcionarios'>\n"
     ]
    }
   ],
   "source": [
    "# Class primeira letra maiúscula.\n",
    "\n",
    "class Funcionarios:\n",
    "    nome = \"Francisco\"\n",
    "    sobrenome = 'Lopes'\n",
    "print(Funcionarios)\n",
    "\n",
    "    # def\n",
    "    # def\n",
    "    # def\n",
    "    # def\n"
   ]
  },
  {
   "cell_type": "code",
   "execution_count": 5,
   "metadata": {},
   "outputs": [
    {
     "name": "stdout",
     "output_type": "stream",
     "text": [
      "Francisco\n",
      "Lopes\n"
     ]
    }
   ],
   "source": [
    "\n",
    "class Funcionarios:\n",
    "    nome = \"Francisco\"\n",
    "    sobrenome = 'Lopes'\n",
    "usuario1 = Funcionarios() # Objeto\n",
    "print(usuario1.nome)\n",
    "print(usuario1.sobrenome)"
   ]
  },
  {
   "cell_type": "code",
   "execution_count": 6,
   "metadata": {},
   "outputs": [
    {
     "name": "stdout",
     "output_type": "stream",
     "text": [
      "Francisco\n",
      "Lopes\n",
      "26/03/1970\n"
     ]
    }
   ],
   "source": [
    "class Funcionarios: # ---> Class\n",
    "    nome = \"Francisco\"\n",
    "    sobrenome = 'Lopes'\n",
    "    data_nascimento  = '26/03/1970'\n",
    "usuario1 = Funcionarios() #---> Objeto\n",
    "print(usuario1.nome)\n",
    "print(usuario1.sobrenome)\n",
    "print(usuario1.data_nascimento)"
   ]
  },
  {
   "cell_type": "code",
   "execution_count": 8,
   "metadata": {},
   "outputs": [
    {
     "name": "stdout",
     "output_type": "stream",
     "text": [
      "Francisco\n",
      "Rebeca\n"
     ]
    }
   ],
   "source": [
    "# Criar a classe\n",
    "class Funcionarios: \n",
    "    pass\n",
    "\n",
    "# Criar o objeto\n",
    "\n",
    "usuario1 = Funcionarios()\n",
    "usuario2 = Funcionarios()\n",
    "\n",
    "# Criar parâmetros do usuario 1:\n",
    "\n",
    "usuario1.nome = 'Francisco'\n",
    "usuario1.sobrenome = 'Lopes'\n",
    "usuario1.data_nascimento = '26/03/1970'\n",
    "# Criar parâmetros do usuário 2:\n",
    "usuario2.nome = 'Rebeca'\n",
    "usuario2.sobrenome = 'Baltazar'\n",
    "usuario2.data_nascimento = '28/01/1993'\n",
    "\n",
    "# Print\n",
    "print(usuario1.nome)\n",
    "print(usuario2.nome)"
   ]
  },
  {
   "cell_type": "code",
   "execution_count": null,
   "metadata": {},
   "outputs": [],
   "source": []
  },
  {
   "cell_type": "code",
   "execution_count": 1,
   "metadata": {},
   "outputs": [
    {
     "name": "stdout",
     "output_type": "stream",
     "text": [
      "Francisco\n",
      "Rebeca\n"
     ]
    }
   ],
   "source": [
    "# Construtores reduz os parâmetros\n",
    "\n",
    "# Criar a classe\n",
    "class Funcionarios: \n",
    "    def __init__(self, nome, sobrenome, data_nascimento):\n",
    "        self.nome = nome\n",
    "        self.sobrenome = sobrenome\n",
    "        self.data_nascimento = data_nascimento\n",
    "       \n",
    "\n",
    "# Criar o objeto\n",
    "\n",
    "usuario1 = Funcionarios('Francisco', 'Lopes', '26/03/1970')\n",
    "usuario2 = Funcionarios('Rebeca', 'Baltazar', '28/01/1993')\n",
    "\n",
    "# Print\n",
    "print(usuario1.nome)\n",
    "print(usuario2.nome)\n",
    "\n"
   ]
  },
  {
   "cell_type": "code",
   "execution_count": 4,
   "metadata": {},
   "outputs": [
    {
     "name": "stdout",
     "output_type": "stream",
     "text": [
      "Francisco\n",
      "Rebeca\n",
      "João\n"
     ]
    }
   ],
   "source": [
    "# Construtores reduz os parâmetros\n",
    "\n",
    "# Criar a classe\n",
    "class Funcionarios: \n",
    "    def __init__(self, nome, sobrenome, data_nascimento):\n",
    "        self.nome = nome\n",
    "        self.sobrenome = sobrenome\n",
    "        self.data_nascimento = data_nascimento\n",
    "       \n",
    "\n",
    "# Criar o objeto\n",
    "\n",
    "usuario1 = Funcionarios('Francisco', 'Lopes', '26/03/1970')\n",
    "usuario2 = Funcionarios('Rebeca', 'Baltazar', '28/01/1993')\n",
    "usuario3 = Funcionarios('João', 'Silva', '14/11/1980')\n",
    "# Print\n",
    "print(usuario1.nome)\n",
    "print(usuario2.nome)\n",
    "print(usuario3.nome)"
   ]
  },
  {
   "cell_type": "code",
   "execution_count": 6,
   "metadata": {},
   "outputs": [
    {
     "name": "stdout",
     "output_type": "stream",
     "text": [
      "Francisco Lopes\n",
      "Rebeca Baltazar\n",
      "João Silva\n"
     ]
    }
   ],
   "source": [
    "# Construtores reduz os parâmetros\n",
    "\n",
    "# Criar a classe\n",
    "class Funcionarios: \n",
    "    def __init__(self, nome, sobrenome, data_nascimento):\n",
    "        self.nome = nome\n",
    "        self.sobrenome = sobrenome\n",
    "        self.data_nascimento = data_nascimento\n",
    "       \n",
    "\n",
    "# Criar o objeto\n",
    "\n",
    "usuario1 = Funcionarios('Francisco', 'Lopes', '26/03/1970')\n",
    "usuario2 = Funcionarios('Rebeca', 'Baltazar', '28/01/1993')\n",
    "usuario3 = Funcionarios('João', 'Silva', '14/11/1980')\n",
    "# Print\n",
    "print(usuario1.nome, usuario1.sobrenome)\n",
    "print(usuario2.nome, usuario2.sobrenome)\n",
    "print(usuario3.nome, usuario3.sobrenome)"
   ]
  },
  {
   "cell_type": "code",
   "execution_count": 12,
   "metadata": {},
   "outputs": [
    {
     "name": "stdout",
     "output_type": "stream",
     "text": [
      "Francisco Lopes\n",
      "Francisco Lopes\n"
     ]
    }
   ],
   "source": [
    "# Nome completo:\n",
    "\n",
    "# Construtores reduz os parâmetros\n",
    "\n",
    "# Criar a classe\n",
    "class Funcionarios: \n",
    "    def __init__(self, nome, sobrenome, data_nascimento):\n",
    "        self.nome = nome\n",
    "        self.sobrenome = sobrenome\n",
    "        self.data_nascimento = data_nascimento\n",
    "    def nome_completo(self):\n",
    "        return self.nome + ' ' + self.sobrenome  \n",
    "\n",
    "# Criar o objeto\n",
    "\n",
    "usuario1 = Funcionarios('Francisco', 'Lopes', '26/03/1970')\n",
    "usuario2 = Funcionarios('Rebeca', 'Baltazar', '28/01/1993')\n",
    "usuario3 = Funcionarios('João', 'Silva', '14/11/1980')\n",
    "# Print duas formas:\n",
    "print(usuario1.nome_completo ())\n",
    "print(Funcionarios.nome_completo(usuario1))"
   ]
  },
  {
   "cell_type": "code",
   "execution_count": 16,
   "metadata": {},
   "outputs": [
    {
     "ename": "AttributeError",
     "evalue": "'Funcionarios' object has no attribute 'ano_nascimento'",
     "output_type": "error",
     "traceback": [
      "\u001b[1;31m---------------------------------------------------------------------------\u001b[0m",
      "\u001b[1;31mAttributeError\u001b[0m                            Traceback (most recent call last)",
      "Cell \u001b[1;32mIn[16], line 24\u001b[0m\n\u001b[0;32m     21\u001b[0m usuario3 \u001b[38;5;241m=\u001b[39m Funcionarios(\u001b[38;5;124m'\u001b[39m\u001b[38;5;124mJoão\u001b[39m\u001b[38;5;124m'\u001b[39m, \u001b[38;5;124m'\u001b[39m\u001b[38;5;124mSilva\u001b[39m\u001b[38;5;124m'\u001b[39m, \u001b[38;5;241m1980\u001b[39m)\n\u001b[0;32m     22\u001b[0m \u001b[38;5;66;03m# Print:\u001b[39;00m\n\u001b[1;32m---> 24\u001b[0m \u001b[38;5;28mprint\u001b[39m(\u001b[43mFuncionarios\u001b[49m\u001b[38;5;241;43m.\u001b[39;49m\u001b[43midade_funcionario\u001b[49m\u001b[43m(\u001b[49m\u001b[43musuario1\u001b[49m\u001b[43m)\u001b[49m)\n",
      "Cell \u001b[1;32mIn[16], line 16\u001b[0m, in \u001b[0;36mFuncionarios.idade_funcionario\u001b[1;34m(self)\u001b[0m\n\u001b[0;32m     15\u001b[0m \u001b[38;5;28;01mdef\u001b[39;00m \u001b[38;5;21midade_funcionario\u001b[39m(\u001b[38;5;28mself\u001b[39m):\n\u001b[1;32m---> 16\u001b[0m     \u001b[38;5;28mself\u001b[39m\u001b[38;5;241m.\u001b[39mano_nascimento \u001b[38;5;241m=\u001b[39m \u001b[38;5;28mint\u001b[39m(\u001b[38;5;241m2024\u001b[39m \u001b[38;5;241m-\u001b[39m \u001b[38;5;28;43mself\u001b[39;49m\u001b[38;5;241;43m.\u001b[39;49m\u001b[43mano_nascimento\u001b[49m)\n",
      "\u001b[1;31mAttributeError\u001b[0m: 'Funcionarios' object has no attribute 'ano_nascimento'"
     ]
    }
   ],
   "source": [
    "# Nome completo:\n",
    "\n",
    "# Construtores reduz os parâmetros\n",
    "\n",
    "# Import Datetime:\n",
    "from datetime import datetime\n",
    "# Criar a classe\n",
    "class Funcionarios: \n",
    "    def __init__(self, nome, sobrenome, ano_nascimento):\n",
    "        self.nome = nome\n",
    "        self.sobrenome = sobrenome\n",
    "        self.data_nascimento = ano_nascimento\n",
    "    def nome_completo(self):\n",
    "        return self.nome + ' ' + self.sobrenome  \n",
    "    def idade_funcionario(self):\n",
    "        self.ano_nascimento = int(2024 - self.ano_nascimento)\n",
    "# Criar o objeto\n",
    "\n",
    "usuario1 = Funcionarios('Francisco', 'Lopes', 1970)\n",
    "usuario2 = Funcionarios('Rebeca', 'Baltazar', 1993)\n",
    "usuario3 = Funcionarios('João', 'Silva', 1980)\n",
    "# Print:\n",
    "\n",
    "print(Funcionarios.idade_funcionario(usuario1))"
   ]
  }
 ],
 "metadata": {
  "kernelspec": {
   "display_name": ".venv",
   "language": "python",
   "name": "python3"
  },
  "language_info": {
   "codemirror_mode": {
    "name": "ipython",
    "version": 3
   },
   "file_extension": ".py",
   "mimetype": "text/x-python",
   "name": "python",
   "nbconvert_exporter": "python",
   "pygments_lexer": "ipython3",
   "version": "3.11.4"
  }
 },
 "nbformat": 4,
 "nbformat_minor": 2
}
