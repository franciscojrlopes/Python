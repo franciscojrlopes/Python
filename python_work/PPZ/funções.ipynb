{
 "cells": [
  {
   "cell_type": "markdown",
   "metadata": {},
   "source": [
    "Funções - Python\n",
    "\n",
    "            Don't repeat yourself.........."
   ]
  },
  {
   "cell_type": "code",
   "execution_count": 2,
   "metadata": {},
   "outputs": [],
   "source": [
    "\n",
    "def boas_vindas():\n",
    "    print('Olá Francisco!')\n",
    "    print('Temos muitas opções de ternos em estoque\"')\n",
    "\n"
   ]
  },
  {
   "cell_type": "code",
   "execution_count": 4,
   "metadata": {},
   "outputs": [
    {
     "name": "stdout",
     "output_type": "stream",
     "text": [
      "Olá Francisco!\n",
      "Temos muitas opções de ternos em estoque\"\n",
      "Olá nome\n",
      "Olá nome\n",
      "Olá nome\n",
      "Olá nome\n",
      "Olá nome\n",
      "Olá nome\n"
     ]
    }
   ],
   "source": [
    "\n",
    "def boas_vindas():\n",
    "    print('Olá Francisco!')\n",
    "    print('Temos muitas opções de ternos em estoque\"')\n",
    "\n",
    "boas_vindas()    \n",
    "print('Olá nome')\n",
    "print('Olá nome')\n",
    "print('Olá nome')\n",
    "print('Olá nome')\n",
    "print('Olá nome')\n",
    "print('Olá nome')"
   ]
  },
  {
   "cell_type": "code",
   "execution_count": 6,
   "metadata": {},
   "outputs": [
    {
     "name": "stdout",
     "output_type": "stream",
     "text": [
      "Olá Francisco!\n",
      "Temos muitas opções de ternos em estoque\"\n",
      "Olá nome\n",
      "Olá nome\n",
      "Olá nome\n",
      "Olá nome\n",
      "Olá nome\n",
      "Olá nome\n",
      "Olá Francisco!\n",
      "Temos muitas opções de ternos em estoque\"\n"
     ]
    }
   ],
   "source": [
    "\n",
    "def boas_vindas():\n",
    "    print('Olá Francisco!')\n",
    "    print('Temos muitas opções de ternos em estoque\"')\n",
    "\n",
    "boas_vindas()    \n",
    "print('Olá nome')\n",
    "print('Olá nome')\n",
    "print('Olá nome')\n",
    "print('Olá nome')\n",
    "print('Olá nome')\n",
    "print('Olá nome')\n",
    "\n",
    "boas_vindas()"
   ]
  },
  {
   "cell_type": "code",
   "execution_count": 12,
   "metadata": {},
   "outputs": [
    {
     "name": "stdout",
     "output_type": "stream",
     "text": [
      "15\n"
     ]
    }
   ],
   "source": [
    "def somar_dois_numeros():\n",
    "    numero1 = 10\n",
    "    numero2 = 5\n",
    "    resultado = numero1 + numero2\n",
    "    print(resultado)\n",
    "    \n",
    "    \n",
    "somar_dois_numeros()\n"
   ]
  },
  {
   "cell_type": "code",
   "execution_count": 13,
   "metadata": {},
   "outputs": [],
   "source": [
    "def somar_dois_numeros():\n",
    "    numero1 = 10\n",
    "    numero2 = 5\n",
    "    resultado = numero1 + numero2\n",
    "    print(resultado)"
   ]
  }
 ],
 "metadata": {
  "kernelspec": {
   "display_name": ".venv",
   "language": "python",
   "name": "python3"
  },
  "language_info": {
   "codemirror_mode": {
    "name": "ipython",
    "version": 3
   },
   "file_extension": ".py",
   "mimetype": "text/x-python",
   "name": "python",
   "nbconvert_exporter": "python",
   "pygments_lexer": "ipython3",
   "version": "3.11.4"
  }
 },
 "nbformat": 4,
 "nbformat_minor": 2
}
