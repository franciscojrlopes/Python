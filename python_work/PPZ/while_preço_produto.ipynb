{
 "cells": [
  {
   "cell_type": "markdown",
   "metadata": {},
   "source": []
  },
  {
   "cell_type": "code",
   "execution_count": 12,
   "metadata": {},
   "outputs": [
    {
     "name": "stdout",
     "output_type": "stream",
     "text": [
      "O valor final do seu produto será de R$ 27.50 \n"
     ]
    }
   ],
   "source": [
    "valor = int(input('Digite valor do seu produto em R$:'))\n",
    "\n",
    "while valor > 20:\n",
    "    valor = (valor * 0.10) + valor\n",
    "    print(f'O valor final do seu produto será de R$ {valor}0 ')\n",
    "    break"
   ]
  },
  {
   "cell_type": "markdown",
   "metadata": {},
   "source": [
    "Leitura Complementar: Sobre o While\n",
    "Python While Loop é usado para executar um bloco de instruções repetidamente até que uma determinada condição seja satisfeita. E quando a condição se torna falsa, a linha imediatamente após o loop no programa é executada. O loop while cai na categoria de iteração indefinida . Iteração indefinida significa que o número de vezes que o loop é executado não é especificado explicitamente com antecedência.\n",
    "\n"
   ]
  }
 ],
 "metadata": {
  "kernelspec": {
   "display_name": ".venv",
   "language": "python",
   "name": "python3"
  },
  "language_info": {
   "codemirror_mode": {
    "name": "ipython",
    "version": 3
   },
   "file_extension": ".py",
   "mimetype": "text/x-python",
   "name": "python",
   "nbconvert_exporter": "python",
   "pygments_lexer": "ipython3",
   "version": "3.11.4"
  }
 },
 "nbformat": 4,
 "nbformat_minor": 2
}
