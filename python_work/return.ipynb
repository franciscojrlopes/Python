{
 "cells": [
  {
   "cell_type": "markdown",
   "metadata": {},
   "source": [
    " Mais sobre o return\n",
    "\n",
    "Pontos importantes:\n",
    " \n",
    "    - Podemos usar no return praticamente qualquer tipo de objeto: (número, string, lista, tupla, dicionário, outros objetos, etc.)\n",
    "    - O return, se for executado, encerra a função, mesmo que dentro dela haja um loop.\n",
    " \n",
    " "
   ]
  },
  {
   "cell_type": "code",
   "execution_count": 2,
   "metadata": {},
   "outputs": [],
   "source": [
    "\n",
    "# Filtrar e-mail exemplo:\n",
    "def filtrar_lista_texto(lista, pedaco_texto):\n",
    "    lista_filtrada = []\n",
    "    for item in lista:\n",
    "        if pedaco_texto in item:\n",
    "\n",
    "            lista_filtrada.append(item)\n",
    "    return lista_filtrada"
   ]
  },
  {
   "cell_type": "code",
   "execution_count": 3,
   "metadata": {},
   "outputs": [
    {
     "name": "stdout",
     "output_type": "stream",
     "text": [
      "['lira@gmail.com', 'zezinho@hotmail.com', 'joao@gmail.com', 'alon@gmail.com']\n"
     ]
    }
   ],
   "source": [
    "lista_textos = ['lira@gmail.com', 'zezinho@hotmail.com', 'joao@gmail.com', 'alon@gmail.com']\n",
    "print(lista_textos)"
   ]
  },
  {
   "cell_type": "code",
   "execution_count": 9,
   "metadata": {},
   "outputs": [
    {
     "ename": "NameError",
     "evalue": "name 'filtrar_lista_texto' is not defined",
     "output_type": "error",
     "traceback": [
      "\u001b[1;31m---------------------------------------------------------------------------\u001b[0m",
      "\u001b[1;31mNameError\u001b[0m                                 Traceback (most recent call last)",
      "\u001b[1;32mc:\\Users\\fraro\\OneDrive\\Documentos\\Estudos\\Python\\python_work\\return.ipynb Célula 4\u001b[0m line \u001b[0;36m3\n\u001b[0;32m      <a href='vscode-notebook-cell:/c%3A/Users/fraro/OneDrive/Documentos/Estudos/Python/python_work/return.ipynb#W3sZmlsZQ%3D%3D?line=0'>1</a>\u001b[0m lista_textos \u001b[39m=\u001b[39m [\u001b[39m'\u001b[39m\u001b[39mlira@gmail.com\u001b[39m\u001b[39m'\u001b[39m, \u001b[39m'\u001b[39m\u001b[39mzezinho@hotmail.com\u001b[39m\u001b[39m'\u001b[39m, \u001b[39m'\u001b[39m\u001b[39mjoao@gmail.com\u001b[39m\u001b[39m'\u001b[39m, \u001b[39m'\u001b[39m\u001b[39malon@gmail.com\u001b[39m\u001b[39m'\u001b[39m]\n\u001b[1;32m----> <a href='vscode-notebook-cell:/c%3A/Users/fraro/OneDrive/Documentos/Estudos/Python/python_work/return.ipynb#W3sZmlsZQ%3D%3D?line=2'>3</a>\u001b[0m lista \u001b[39m=\u001b[39m filtrar_lista_texto(lista_textos, \u001b[39m'\u001b[39m\u001b[39mhotmail\u001b[39m\u001b[39m'\u001b[39m)\n\u001b[0;32m      <a href='vscode-notebook-cell:/c%3A/Users/fraro/OneDrive/Documentos/Estudos/Python/python_work/return.ipynb#W3sZmlsZQ%3D%3D?line=3'>4</a>\u001b[0m \u001b[39mprint\u001b[39m(lista)\n",
      "\u001b[1;31mNameError\u001b[0m: name 'filtrar_lista_texto' is not defined"
     ]
    }
   ],
   "source": [
    "lista_textos = ['lira@gmail.com', 'zezinho@hotmail.com', 'joao@gmail.com', 'alon@gmail.com']\n",
    "\n",
    "lista = filtrar_lista_texto(lista_textos, 'hotmail')\n",
    "print(lista)\n"
   ]
  }
 ],
 "metadata": {
  "kernelspec": {
   "display_name": ".venv",
   "language": "python",
   "name": "python3"
  },
  "language_info": {
   "codemirror_mode": {
    "name": "ipython",
    "version": 3
   },
   "file_extension": ".py",
   "mimetype": "text/x-python",
   "name": "python",
   "nbconvert_exporter": "python",
   "pygments_lexer": "ipython3",
   "version": "3.11.4"
  }
 },
 "nbformat": 4,
 "nbformat_minor": 2
}
