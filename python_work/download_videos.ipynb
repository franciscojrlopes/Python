{
 "cells": [
  {
   "cell_type": "markdown",
   "metadata": {},
   "source": [
    "Recentemente tivemos que fazer backup dos vídeos que temos hospedados no Vimeo. Acontece que não existe um botão de Download de todos os vídeos ao mesmo tempo, precisamos entrar em 1 por 1 e fazer o download manualmente.\n",
    "    \n",
    "A alternativa é gerar um código em Python que converse com a API do Vimeo (API é uma integração que as ferramentas abrem para programadores poderem fazer integrações dos seus próprios programas/scripts com a ferramenta).\n",
    "\n",
    "Para resolver isso, a gente fez a integração e fizemos uma \\\"requisição\\\" de todos os vídeos para a Vimeo. Essa requisição dá como resposta para o nosso código isso:"
   ]
  },
  {
   "cell_type": "code",
   "execution_count": null,
   "metadata": {},
   "outputs": [],
   "source": []
  }
 ],
 "metadata": {
  "language_info": {
   "name": "python"
  }
 },
 "nbformat": 4,
 "nbformat_minor": 2
}
