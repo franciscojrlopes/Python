{
 "cells": [
  {
   "cell_type": "code",
   "execution_count": 1,
   "metadata": {},
   "outputs": [
    {
     "name": "stdout",
     "output_type": "stream",
     "text": [
      "spider monkey\n",
      "lemur\n",
      "giraffe\n",
      "\n",
      "\n",
      "A spider monkey has a long tail.\n",
      "A lemur has a long tail.\n",
      "A giraffe has a long tail.\n",
      "\n",
      "All of these animals have long tails.\n"
     ]
    }
   ],
   "source": [
    "animals = [\"spider monkey\", \"lemur\", \"giraffe\"]\n",
    "\n",
    "# Print each animal.\n",
    "for animal in animals:\n",
    "    print(animal)\n",
    "\n",
    "print(\"\\n\")\n",
    "\n",
    "# Print a statement about each animal.\n",
    "for animal in animals:\n",
    "    print(f\"A {animal} has a long tail.\")\n",
    "\n",
    "print(\"\\nAll of these animals have long tails.\")"
   ]
  },
  {
   "cell_type": "code",
   "execution_count": 1,
   "metadata": {},
   "outputs": [
    {
     "name": "stdout",
     "output_type": "stream",
     "text": [
      "Macaco Aranha\n",
      "Lemur\n",
      "Girafa\n"
     ]
    }
   ],
   "source": [
    "animais = [\"Macaco Aranha\", \"Lemur\", \"Girafa\"]\n",
    "\n",
    "# Print cada animal.\n",
    "for animais in animais:\n",
    "    print(animais)\n",
    "\n",
    "# print(\"\\n\")\n",
    "\n",
    "# # Print a statement about each animal.\n",
    "# for animal in animals:\n",
    "#     print(f\"A {animal} has a long tail.\")\n",
    "\n",
    "# print(\"\\nAll of these animals have long tails.\")"
   ]
  },
  {
   "cell_type": "code",
   "execution_count": 2,
   "metadata": {},
   "outputs": [
    {
     "name": "stdout",
     "output_type": "stream",
     "text": [
      "Macaco Aranha\n",
      "Lemur\n",
      "Girafa\n",
      "\n",
      "\n"
     ]
    }
   ],
   "source": [
    "animais = [\"Macaco Aranha\", \"Lemur\", \"Girafa\"]\n",
    "\n",
    "# Print cada animal.\n",
    "for animais in animais:\n",
    "    print(animais)\n",
    "\n",
    "print(\"\\n\")\n",
    "\n",
    "# # Print a statement about each animal.\n",
    "# for animal in animals:\n",
    "#     print(f\"A {animal} has a long tail.\")\n",
    "\n",
    "# print(\"\\nAll of these animals have long tails.\")"
   ]
  }
 ],
 "metadata": {
  "kernelspec": {
   "display_name": ".venv",
   "language": "python",
   "name": "python3"
  },
  "language_info": {
   "codemirror_mode": {
    "name": "ipython",
    "version": 3
   },
   "file_extension": ".py",
   "mimetype": "text/x-python",
   "name": "python",
   "nbconvert_exporter": "python",
   "pygments_lexer": "ipython3",
   "version": "3.11.4"
  }
 },
 "nbformat": 4,
 "nbformat_minor": 2
}
