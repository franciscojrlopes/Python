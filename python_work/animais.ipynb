{
 "cells": [
  {
   "cell_type": "code",
   "execution_count": 1,
   "metadata": {},
   "outputs": [
    {
     "name": "stdout",
     "output_type": "stream",
     "text": [
      "spider monkey\n",
      "lemur\n",
      "giraffe\n",
      "\n",
      "\n",
      "A spider monkey has a long tail.\n",
      "A lemur has a long tail.\n",
      "A giraffe has a long tail.\n",
      "\n",
      "All of these animals have long tails.\n"
     ]
    }
   ],
   "source": [
    "animals = [\"spider monkey\", \"lemur\", \"giraffe\"]\n",
    "\n",
    "# Print each animal.\n",
    "for animal in animals:\n",
    "    print(animal)\n",
    "\n",
    "print(\"\\n\")\n",
    "\n",
    "# Print a statement about each animal.\n",
    "for animal in animals:\n",
    "    print(f\"A {animal} has a long tail.\")\n",
    "\n",
    "print(\"\\nAll of these animals have long tails.\")"
   ]
  },
  {
   "cell_type": "code",
   "execution_count": 6,
   "metadata": {},
   "outputs": [
    {
     "name": "stdout",
     "output_type": "stream",
     "text": [
      "Macaco Aranha\n",
      "Lemur\n",
      "Girafa\n"
     ]
    }
   ],
   "source": [
    "animais = [\"Macaco Aranha\", \"Lemur\", \"Girafa\"]\n",
    "\n",
    "# Print cada animal.\n",
    "for animal in animais:\n",
    "    print(animal)\n",
    "\n",
    "# print(\"\\n\")\n",
    "\n",
    "# # Print a statement about each animal.\n",
    "# for animal in animals:\n",
    "#     print(f\"A {animal} has a long tail.\")\n",
    "\n",
    "# print(\"\\nAll of these animals have long tails.\")"
   ]
  },
  {
   "cell_type": "code",
   "execution_count": 16,
   "metadata": {},
   "outputs": [
    {
     "name": "stdout",
     "output_type": "stream",
     "text": [
      "Macaco Aranha\n",
      "Lemur\n",
      "Girafa\n",
      "\n",
      "\n",
      "Um Macaco Aranha tem uma longa cauda.\n",
      "Um Lemur tem uma longa cauda.\n",
      "Um Girafa tem uma longa cauda.\n",
      "\n",
      "Todos estes animais tem a cauda longa!\n"
     ]
    }
   ],
   "source": [
    "animais = [\"Macaco Aranha\", \"Lemur\", \"Girafa\"]\n",
    "\n",
    "# Print cada animal.\n",
    "for animal in animais:\n",
    "    print(animal)\n",
    "\n",
    "print(\"\\n\")\n",
    "\n",
    "#  Print a statement about each animal.\n",
    "for animal in animais:\n",
    "    print(f\"Um {animal} tem uma longa cauda.\")\n",
    "\n",
    "\n",
    "print('\\nTodos estes animais tem a cauda longa!')\n",
    "    "
   ]
  },
  {
   "cell_type": "code",
   "execution_count": 7,
   "metadata": {},
   "outputs": [
    {
     "name": "stdout",
     "output_type": "stream",
     "text": [
      "['Macaco Aranha', 'Lemur', 'Girafa']\n",
      "['Macaco Aranha', 'Lemur', 'Girafa']\n",
      "['Macaco Aranha', 'Lemur', 'Girafa']\n",
      "\n",
      "\n"
     ]
    }
   ],
   "source": []
  },
  {
   "cell_type": "code",
   "execution_count": 8,
   "metadata": {},
   "outputs": [
    {
     "name": "stdout",
     "output_type": "stream",
     "text": [
      "['Macaco Aranha', 'Lemur', 'Girafa']\n",
      "['Macaco Aranha', 'Lemur', 'Girafa']\n",
      "['Macaco Aranha', 'Lemur', 'Girafa']\n",
      "\n",
      "\n",
      "Um ['Macaco Aranha', 'Lemur', 'Girafa'] tem uma longa cauda.\n",
      "Um ['Macaco Aranha', 'Lemur', 'Girafa'] tem uma longa cauda.\n",
      "Um ['Macaco Aranha', 'Lemur', 'Girafa'] tem uma longa cauda.\n"
     ]
    }
   ],
   "source": [
    "animais = [\"Macaco Aranha\", \"Lemur\", \"Girafa\"]\n",
    "\n",
    "# Print cada animal.\n",
    "for animal in animais:\n",
    "    print(animais)\n",
    "\n",
    "print(\"\\n\")\n",
    "\n",
    "#  Print a statement about each animal.\n",
    "for animail in animais:\n",
    "    print(f\"Um {animais} tem uma longa cauda.\")\n",
    "\n",
    "# print(\"\\nAll of these animals have long tails.\")"
   ]
  },
  {
   "cell_type": "code",
   "execution_count": 2,
   "metadata": {},
   "outputs": [
    {
     "name": "stdout",
     "output_type": "stream",
     "text": [
      "Celta\n",
      "Fusca\n",
      "Gol\n",
      "Passat\n"
     ]
    }
   ],
   "source": [
    "carros = ['Celta', 'Fusca', 'Gol', 'Passat']\n",
    "for  carro in carros:\n",
    "    print(carro)"
   ]
  },
  {
   "cell_type": "code",
   "execution_count": 3,
   "metadata": {},
   "outputs": [
    {
     "name": "stdout",
     "output_type": "stream",
     "text": [
      "O Celta tem duas portas.\n",
      "O Fusca tem duas portas.\n",
      "O Gol tem duas portas.\n",
      "O Passat tem duas portas.\n"
     ]
    }
   ],
   "source": [
    "for carro in carros:\n",
    "    print(f'O {carro} tem duas portas.')"
   ]
  }
 ],
 "metadata": {
  "kernelspec": {
   "display_name": ".venv",
   "language": "python",
   "name": "python3"
  },
  "language_info": {
   "codemirror_mode": {
    "name": "ipython",
    "version": 3
   },
   "file_extension": ".py",
   "mimetype": "text/x-python",
   "name": "python",
   "nbconvert_exporter": "python",
   "pygments_lexer": "ipython3",
   "version": "3.11.4"
  }
 },
 "nbformat": 4,
 "nbformat_minor": 2
}
