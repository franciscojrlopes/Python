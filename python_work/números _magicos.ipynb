{
 "cells": [
  {
   "cell_type": "code",
   "execution_count": 1,
   "metadata": {},
   "outputs": [
    {
     "name": "stdout",
     "output_type": "stream",
     "text": [
      "Esta não é uma resósta correta.Por favor tente outra vez!\n"
     ]
    }
   ],
   "source": [
    "resposta = 17\n",
    "if resposta != 42:\n",
    "    print('Esta não é uma resósta correta.Por favor tente outra vez!')"
   ]
  },
  {
   "cell_type": "code",
   "execution_count": 1,
   "metadata": {},
   "outputs": [
    {
     "name": "stdout",
     "output_type": "stream",
     "text": [
      "Esta não é uma resósta correta.Por favor tente outra vez!\n"
     ]
    }
   ],
   "source": [
    "resposta = 40\n",
    "if resposta != 42:\n",
    "    print('Esta não é uma resósta correta.Por favor tente outra vez!')"
   ]
  },
  {
   "cell_type": "code",
   "execution_count": null,
   "metadata": {},
   "outputs": [],
   "source": [
    "resposta = 42\n",
    "if resposta != 42:\n",
    "    print('Esta não é uma resósta correta.Por favor tente outra vez!')"
   ]
  },
  {
   "cell_type": "code",
   "execution_count": 2,
   "metadata": {},
   "outputs": [
    {
     "name": "stdout",
     "output_type": "stream",
     "text": [
      "Esta não é uma resósta correta. Por favor tente outra vez!\n"
     ]
    }
   ],
   "source": [
    "resposta = 42\n",
    "if resposta != 422:\n",
    "    print('Esta não é uma resósta correta. Por favor tente outra vez!')"
   ]
  },
  {
   "cell_type": "code",
   "execution_count": null,
   "metadata": {},
   "outputs": [],
   "source": [
    "resposta = 422\n",
    "if resposta != 422:\n",
    "    print('Esta não é uma resósta correta. Por favor tente outra vez!')"
   ]
  },
  {
   "cell_type": "code",
   "execution_count": 1,
   "metadata": {},
   "outputs": [
    {
     "name": "stdout",
     "output_type": "stream",
     "text": [
      "Esta não é uma resósta correta. Por favor tente outra vez!\n"
     ]
    }
   ],
   "source": [
    "resposta = 422\n",
    "if resposta != 4222:\n",
    "    print('Esta não é uma resósta correta. Por favor tente outra vez!')"
   ]
  },
  {
   "cell_type": "code",
   "execution_count": null,
   "metadata": {},
   "outputs": [],
   "source": [
    "resposta = 4222\n",
    "if resposta != 4222:\n",
    "    print('Esta não é uma resósta correta. Por favor tente outra vez!')"
   ]
  },
  {
   "cell_type": "code",
   "execution_count": 1,
   "metadata": {},
   "outputs": [
    {
     "name": "stdout",
     "output_type": "stream",
     "text": [
      "Esta não é uma resósta correta. Por favor tente outra vez!\n"
     ]
    }
   ],
   "source": [
    "resposta = 4223\n",
    "if resposta != 4222:\n",
    "    print('Esta não é uma resósta correta. Por favor tente outra vez!')"
   ]
  },
  {
   "cell_type": "code",
   "execution_count": 1,
   "metadata": {},
   "outputs": [
    {
     "data": {
      "text/plain": [
       "True"
      ]
     },
     "execution_count": 1,
     "metadata": {},
     "output_type": "execute_result"
    }
   ],
   "source": [
    "age = 19\n",
    "age < 21\n"
   ]
  },
  {
   "cell_type": "code",
   "execution_count": 2,
   "metadata": {},
   "outputs": [
    {
     "data": {
      "text/plain": [
       "True"
      ]
     },
     "execution_count": 2,
     "metadata": {},
     "output_type": "execute_result"
    }
   ],
   "source": [
    "age = 19\n",
    "age <= 21"
   ]
  },
  {
   "cell_type": "code",
   "execution_count": 3,
   "metadata": {},
   "outputs": [
    {
     "data": {
      "text/plain": [
       "False"
      ]
     },
     "execution_count": 3,
     "metadata": {},
     "output_type": "execute_result"
    }
   ],
   "source": [
    "age > 21\n",
    "age >= 21\n"
   ]
  }
 ],
 "metadata": {
  "kernelspec": {
   "display_name": ".venv",
   "language": "python",
   "name": "python3"
  },
  "language_info": {
   "codemirror_mode": {
    "name": "ipython",
    "version": 3
   },
   "file_extension": ".py",
   "mimetype": "text/x-python",
   "name": "python",
   "nbconvert_exporter": "python",
   "pygments_lexer": "ipython3",
   "version": "3.11.4"
  }
 },
 "nbformat": 4,
 "nbformat_minor": 2
}
