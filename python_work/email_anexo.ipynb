{
 "cells": [
  {
   "cell_type": "code",
   "execution_count": 14,
   "metadata": {},
   "outputs": [
    {
     "ename": "FileNotFoundError",
     "evalue": "[WinError 3] O sistema não pode encontrar o caminho especificado: 'python_work'",
     "output_type": "error",
     "traceback": [
      "\u001b[1;31m---------------------------------------------------------------------------\u001b[0m",
      "\u001b[1;31mFileNotFoundError\u001b[0m                         Traceback (most recent call last)",
      "Cell \u001b[1;32mIn[14], line 39\u001b[0m\n\u001b[0;32m     36\u001b[0m    servidor\u001b[38;5;241m.\u001b[39msend_message(msg)\n\u001b[0;32m     37\u001b[0m    \u001b[38;5;28mprint\u001b[39m(\u001b[38;5;124m'\u001b[39m\u001b[38;5;124mE-mail enviado.\u001b[39m\u001b[38;5;124m'\u001b[39m)\n\u001b[1;32m---> 39\u001b[0m \u001b[43menviar_email\u001b[49m\u001b[43m(\u001b[49m\u001b[43m)\u001b[49m\n",
      "Cell \u001b[1;32mIn[14], line 26\u001b[0m, in \u001b[0;36menviar_email\u001b[1;34m()\u001b[0m\n\u001b[0;32m     24\u001b[0m msg\u001b[38;5;241m.\u001b[39mattach(MIMEText(corpo_email, \u001b[38;5;124m'\u001b[39m\u001b[38;5;124mhtl\u001b[39m\u001b[38;5;124m'\u001b[39m))\n\u001b[0;32m     25\u001b[0m \u001b[38;5;66;03m# Anexar arquivos\u001b[39;00m\n\u001b[1;32m---> 26\u001b[0m lista_arquivos \u001b[38;5;241m=\u001b[39m \u001b[43mos\u001b[49m\u001b[38;5;241;43m.\u001b[39;49m\u001b[43mlistdir\u001b[49m\u001b[43m(\u001b[49m\u001b[38;5;124;43m'\u001b[39;49m\u001b[38;5;124;43mpython_work\u001b[39;49m\u001b[38;5;124;43m'\u001b[39;49m\u001b[43m)\u001b[49m\n\u001b[0;32m     27\u001b[0m \u001b[38;5;28;01mfor\u001b[39;00m nome_arquivo \u001b[38;5;129;01min\u001b[39;00m lista_arquivos:\n\u001b[0;32m     29\u001b[0m  \u001b[38;5;28;01mwith\u001b[39;00m \u001b[38;5;28mopen\u001b[39m(\u001b[38;5;124mf\u001b[39m\u001b[38;5;124m'\u001b[39m\u001b[38;5;124mpython_work\u001b[39m\u001b[38;5;124m\\\u001b[39m\u001b[38;5;132;01m{\u001b[39;00mnome_arquivo\u001b[38;5;132;01m}\u001b[39;00m\u001b[38;5;124m'\u001b[39m, \u001b[38;5;124m'\u001b[39m\u001b[38;5;124mrb\u001b[39m\u001b[38;5;124m'\u001b[39m) \u001b[38;5;28;01mas\u001b[39;00m arquivo:\n",
      "\u001b[1;31mFileNotFoundError\u001b[0m: [WinError 3] O sistema não pode encontrar o caminho especificado: 'python_work'"
     ]
    }
   ],
   "source": [
    "import smtplib\n",
    "import email.message\n",
    "from email.mime.multipart import MIMEMultipart\n",
    "from email.mime.text import MIMEText\n",
    "from email.mime.application import MIMEApplication\n",
    "import os\n",
    "\n",
    "def enviar_email():\n",
    "\n",
    "   msg = MIMEMultipart()\n",
    "\n",
    "   msg['Subject'] = 'Email enviado com Python'\n",
    "   msg['From'] = 'devfranlopes@gmail.com '\n",
    "   msg['To'] = 'fralopes@yahoo.com.br'\n",
    "   msg['Cc'] = 'devfranlopes+copia@gmail.com' \n",
    "   msg['Cco'] = 'devfranlopes+copia@gmail.com'\n",
    "\n",
    "   link_imagem = 'https://encrypted-tbn0.gstatic.com/images?q=tbn:ANd9GcTcMB0eqdFK0XZ3JwqVkn9nKZ6XeBSUnB6UeX6SnlVtqE7NFoAdhfByd7iIADmyoaBHzjE&usqp=CAU'\n",
    "\n",
    "   corpo_email = f'''<p>Boa tarde!</p> <p>Esse é meu primeiro e-mail enviado com Python usando SMTP. </p> <p>At.te,</p> <p>Francisco Lopes</p> <img src= {link_imagem}</img>'''\n",
    "   \n",
    "\n",
    "      \n",
    "   msg.attach(MIMEText(corpo_email, 'htl'))\n",
    "   # Anexar arquivos\n",
    "   lista_arquivos = os.listdir('python_work')\n",
    "   for nome_arquivo in lista_arquivos:\n",
    "\n",
    "    with open(f'python_work\\{nome_arquivo}', 'rb') as arquivo:\n",
    "    \n",
    "        msg.attach(MIMEApplication(arquivo.read(), Name= nome_arquivo))\n",
    "\n",
    "   servidor = smtplib.SMTP('smtp.gmail.com', 587)\n",
    "   servidor.starttls()\n",
    "   servidor.login(msg['From'], 'xnys zcfc dqff iyax' )\n",
    "   servidor.send_message(msg)\n",
    "   print('E-mail enviado.')\n",
    "   \n",
    "enviar_email()"
   ]
  },
  {
   "cell_type": "code",
   "execution_count": null,
   "metadata": {},
   "outputs": [],
   "source": []
  }
 ],
 "metadata": {
  "kernelspec": {
   "display_name": ".venv",
   "language": "python",
   "name": "python3"
  },
  "language_info": {
   "codemirror_mode": {
    "name": "ipython",
    "version": 3
   },
   "file_extension": ".py",
   "mimetype": "text/x-python",
   "name": "python",
   "nbconvert_exporter": "python",
   "pygments_lexer": "ipython3",
   "version": "3.11.4"
  }
 },
 "nbformat": 4,
 "nbformat_minor": 2
}
