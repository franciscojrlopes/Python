{
 "cells": [
  {
   "cell_type": "code",
   "execution_count": null,
   "metadata": {},
   "outputs": [],
   "source": [
    "import smtplib\n",
    "import email.message\n",
    "from email.mime.multipart import MIMEMultipart\n",
    "from email.mime.text import MIMEText\n",
    "from email.mime.application import MIMEApplication\n",
    "\n",
    "def enviar_email():\n",
    "\n",
    "   msg = MIMEMultipart()\n",
    "\n",
    "   msg['Subject'] = 'Email enviado com Python'\n",
    "   msg['From'] = 'devfranlopes@gmail.com '\n",
    "   msg['To'] = 'fralopes@yahoo.com.br ; rebecaabaltazar@gmail.com'\n",
    "   msg['Cc'] = 'devfranlopes+copia@gmail.com' \n",
    "   msg['Cco'] = 'devfranlopes+copia@gmail.com'\n",
    "\n",
    "   link_imagem = 'https://encrypted-tbn0.gstatic.com/images?q=tbn:ANd9GcTcMB0eqdFK0XZ3JwqVkn9nKZ6XeBSUnB6UeX6SnlVtqE7NFoAdhfByd7iIADmyoaBHzjE&usqp=CAU'\n",
    "\n",
    "   corpo_email = f'''<p>Boa tarde!</p> <p>Esse é meu primeiro e-mail enviado com Python usando SMTP. </p> <p>At.te,</p> <p>Francisco Lopes</p> <img src= {link_imagem}</img>'''\n",
    "   \n",
    "\n",
    "      \n",
    "   msg.attach(MIMEText(corpo_email, 'htl'))\n",
    "   # Anexar arquivos \n",
    "   with open('anexos/.png', 'rb') as arquivo:\n",
    "\n",
    "        msg.attach(MIMEApplication(arquivo.read(), Name='.png'))\n",
    "\n",
    "   servidor = smtplib.SMTP('smtp.gmail.com', 587)\n",
    "   servidor.starttls()\n",
    "   servidor.login(msg['From'], 'xnys zcfc dqff iyax' )\n",
    "   servidor.send_message(msg)\n",
    "   print('E-mail enviado.')\n",
    "   \n",
    "   \n"
   ]
  },
  {
   "cell_type": "code",
   "execution_count": null,
   "metadata": {},
   "outputs": [],
   "source": []
  }
 ],
 "metadata": {
  "kernelspec": {
   "display_name": ".venv",
   "language": "python",
   "name": "python3"
  },
  "language_info": {
   "name": "python",
   "version": "3.11.4"
  }
 },
 "nbformat": 4,
 "nbformat_minor": 2
}
