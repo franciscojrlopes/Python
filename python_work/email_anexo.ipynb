{
 "cells": [
  {
   "cell_type": "code",
   "execution_count": 1,
   "metadata": {},
   "outputs": [
    {
     "name": "stdout",
     "output_type": "stream",
     "text": [
      "E-mail enviado.\n"
     ]
    }
   ],
   "source": [
    "import smtplib\n",
    "import email.message\n",
    "from email.mime.multipart import MIMEMultipart\n",
    "from email.mime.text import MIMEText\n",
    "from email.mime.application import MIMEApplication\n",
    "import os\n",
    "\n",
    "def enviar_email():\n",
    "\n",
    "   msg = MIMEMultipart()\n",
    "   msg['Subject'] = 'Email enviado com Python'\n",
    "   msg['From'] = 'devfranlopes@gmail.com '\n",
    "   msg['To'] = 'fralopes@yahoo.com.br ; rebecaabaltazar@gmail.com'\n",
    "   msg['Cc'] = 'devfranlopes+copia@gmail.com' \n",
    "   msg['Cco'] = 'devfranlopes+copia@gmail.com'\n",
    "\n",
    "   link_imagem = 'https://encrypted-tbn0.gstatic.com/images?q=tbn:ANd9GcTcMB0eqdFK0XZ3JwqVkn9nKZ6XeBSUnB6UeX6SnlVtqE7NFoAdhfByd7iIADmyoaBHzjE&usqp=CAU'\n",
    "\n",
    "   corpo_email = f'''<p>Bom dia!</p> <p>Esse é meu primeiro e-mail enviado com Python usando SMTP com anexos. </p> <p>At.te,</p> <p>Francisco Lopes</p> <img src= {link_imagem}</img>'''\n",
    "   \n",
    "\n",
    "      \n",
    "   msg.attach(MIMEText(corpo_email, 'html'))\n",
    "   # Anexar arquivos\n",
    "   lista_arquivos = os.listdir('E-mail')\n",
    "   for nome_arquivo in lista_arquivos:\n",
    "\n",
    "    with open(f'E-mail\\{nome_arquivo}', 'rb') as arquivo:\n",
    "    \n",
    "        msg.attach(MIMEApplication(arquivo.read(), Name= nome_arquivo))\n",
    "\n",
    "   servidor = smtplib.SMTP('smtp.gmail.com', 587)\n",
    "   servidor.starttls()\n",
    "   servidor.login(msg['From'], 'xnys zcfc dqff iyax' )\n",
    "   servidor.send_message(msg)\n",
    "   print('E-mail enviado.')\n",
    "   \n",
    "enviar_email()"
   ]
  },
  {
   "cell_type": "code",
   "execution_count": null,
   "metadata": {},
   "outputs": [],
   "source": []
  }
 ],
 "metadata": {
  "kernelspec": {
   "display_name": ".venv",
   "language": "python",
   "name": "python3"
  },
  "language_info": {
   "codemirror_mode": {
    "name": "ipython",
    "version": 3
   },
   "file_extension": ".py",
   "mimetype": "text/x-python",
   "name": "python",
   "nbconvert_exporter": "python",
   "pygments_lexer": "ipython3",
   "version": "3.11.4"
  }
 },
 "nbformat": 4,
 "nbformat_minor": 2
}
