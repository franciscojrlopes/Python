{
 "cells": [
  {
   "cell_type": "code",
   "execution_count": 1,
   "metadata": {},
   "outputs": [
    {
     "name": "stdout",
     "output_type": "stream",
     "text": [
      "['trek', 'mountain', 'corrida', 'velocidade']\n"
     ]
    }
   ],
   "source": [
    "# Lista = coleção de intens numa ordem específica.\n",
    "\n",
    "bicicletas = ['trek', 'mountain', 'corrida', 'velocidade']\n",
    "print(bicicletas)"
   ]
  },
  {
   "cell_type": "code",
   "execution_count": 4,
   "metadata": {},
   "outputs": [
    {
     "name": "stdout",
     "output_type": "stream",
     "text": [
      "velocidade\n"
     ]
    }
   ],
   "source": [
    "bicicletas = ['trek', 'mountain', 'corrida', 'velocidade']\n",
    "print(bicicletas [3])"
   ]
  },
  {
   "cell_type": "code",
   "execution_count": 5,
   "metadata": {},
   "outputs": [
    {
     "name": "stdout",
     "output_type": "stream",
     "text": [
      "VELOCIDADE\n"
     ]
    }
   ],
   "source": [
    "bicicletas = ['trek', 'mountain', 'corrida', 'velocidade']\n",
    "print(bicicletas [3].upper())"
   ]
  },
  {
   "cell_type": "code",
   "execution_count": 6,
   "metadata": {},
   "outputs": [
    {
     "name": "stdout",
     "output_type": "stream",
     "text": [
      "Velocidade\n"
     ]
    }
   ],
   "source": [
    "bicicletas = ['trek', 'mountain', 'corrida', 'velocidade']\n",
    "print(bicicletas [3].title())"
   ]
  },
  {
   "cell_type": "code",
   "execution_count": 7,
   "metadata": {},
   "outputs": [
    {
     "name": "stdout",
     "output_type": "stream",
     "text": [
      "velocidade\n"
     ]
    }
   ],
   "source": [
    "bicicletas = ['trek', 'mountain', 'corrida', 'velocidade']\n",
    "print(bicicletas [3].lower())"
   ]
  },
  {
   "cell_type": "code",
   "execution_count": 8,
   "metadata": {},
   "outputs": [
    {
     "name": "stdout",
     "output_type": "stream",
     "text": [
      "mountain\n",
      "velocidade\n"
     ]
    }
   ],
   "source": [
    "bicicletas = ['trek', 'mountain', 'corrida', 'velocidade']\n",
    "print(bicicletas [1])\n",
    "print(bicicletas[3])"
   ]
  },
  {
   "cell_type": "code",
   "execution_count": 9,
   "metadata": {},
   "outputs": [
    {
     "name": "stdout",
     "output_type": "stream",
     "text": [
      "velocidade\n"
     ]
    }
   ],
   "source": [
    "bicicletas = ['trek', 'mountain', 'corrida', 'velocidade']\n",
    "print(bicicletas [-1])"
   ]
  },
  {
   "cell_type": "code",
   "execution_count": 10,
   "metadata": {},
   "outputs": [
    {
     "name": "stdout",
     "output_type": "stream",
     "text": [
      "trek\n"
     ]
    }
   ],
   "source": [
    "bicicletas = ['trek', 'mountain', 'corrida', 'velocidade']\n",
    "print(bicicletas [-4])"
   ]
  },
  {
   "cell_type": "code",
   "execution_count": 13,
   "metadata": {},
   "outputs": [
    {
     "name": "stdout",
     "output_type": "stream",
     "text": [
      "Minha primeira bicicleta era uma Trek.\n"
     ]
    }
   ],
   "source": [
    "bicicletas = ['trek', 'mountain', 'corrida', 'velocidade']\n",
    "message = f'Minha primeira bicicleta era uma {bicicletas[0].title()}.'\n",
    "print(message)"
   ]
  },
  {
   "cell_type": "code",
   "execution_count": 4,
   "metadata": {},
   "outputs": [
    {
     "name": "stdout",
     "output_type": "stream",
     "text": [
      "Gostaria de ter um LANDROVER!\n"
     ]
    }
   ],
   "source": [
    "carros = ['Honda', 'LandRover', 'Hyundai', 'Mitsubish']\n",
    "message = f'Gostaria de ter um {carros[1].upper()}!'\n",
    "print(message)"
   ]
  },
  {
   "cell_type": "code",
   "execution_count": 2,
   "metadata": {},
   "outputs": [
    {
     "name": "stdout",
     "output_type": "stream",
     "text": [
      "Alice\n",
      "Bastião\n",
      "Joana\n",
      "José\n"
     ]
    }
   ],
   "source": [
    "magicos = ['Alice', 'Bastião', 'Joana', 'José']\n",
    "for magico in magicos:\n",
    "    print(magico)"
   ]
  },
  {
   "cell_type": "code",
   "execution_count": 3,
   "metadata": {},
   "outputs": [
    {
     "name": "stdout",
     "output_type": "stream",
     "text": [
      "preto\n",
      "branco\n",
      "malhado\n",
      "cinza\n"
     ]
    }
   ],
   "source": [
    "gatos = ['preto', 'branco', 'malhado', 'cinza']\n",
    "for gato in gatos:\n",
    "    print(gato)\n",
    "    "
   ]
  },
  {
   "cell_type": "code",
   "execution_count": 4,
   "metadata": {},
   "outputs": [
    {
     "name": "stdout",
     "output_type": "stream",
     "text": [
      "prego\n",
      "parafuso\n",
      "roldana\n",
      "tábua\n",
      "rosca\n"
     ]
    }
   ],
   "source": [
    "lista_de_itens = ['prego','parafuso', 'roldana','tábua','rosca']\n",
    "for item in lista_de_itens:\n",
    "    print(item)\n"
   ]
  },
  {
   "cell_type": "code",
   "execution_count": 9,
   "metadata": {},
   "outputs": [
    {
     "name": "stdout",
     "output_type": "stream",
     "text": [
      "Alice, vocês fizeram um grande truque!\n",
      "Bastião, vocês fizeram um grande truque!\n",
      "Joana, vocês fizeram um grande truque!\n",
      "José, vocês fizeram um grande truque!\n"
     ]
    }
   ],
   "source": [
    "magicos = ['Alice', 'Bastião', 'Joana', 'José']\n",
    "for magico in magicos:\n",
    "    print(f'{magico.title()}, vocês fizeram um grande truque!')"
   ]
  },
  {
   "cell_type": "code",
   "execution_count": 14,
   "metadata": {},
   "outputs": [
    {
     "name": "stdout",
     "output_type": "stream",
     "text": [
      "Prego, essencial para uma obra ou reforma!\n",
      "Não vejo a hora de adquirir um Prego para minha obra/reforma.\n",
      "\n",
      "Parafuso, essencial para uma obra ou reforma!\n",
      "Não vejo a hora de adquirir um Parafuso para minha obra/reforma.\n",
      "\n",
      "Roldana, essencial para uma obra ou reforma!\n",
      "Não vejo a hora de adquirir um Roldana para minha obra/reforma.\n",
      "\n",
      "Tábua, essencial para uma obra ou reforma!\n",
      "Não vejo a hora de adquirir um Tábua para minha obra/reforma.\n",
      "\n",
      "Rosca, essencial para uma obra ou reforma!\n",
      "Não vejo a hora de adquirir um Rosca para minha obra/reforma.\n",
      "\n"
     ]
    }
   ],
   "source": [
    "lista_de_itens = ['prego','parafuso', 'roldana','tábua','rosca']\n",
    "for item in lista_de_itens:\n",
    "    print(f'{item.title()}, essencial para uma obra ou reforma!')\n",
    "    print(f'Não vejo a hora de adquirir um {item.title()} para minha obra/reforma.\\n')"
   ]
  },
  {
   "cell_type": "code",
   "execution_count": 12,
   "metadata": {},
   "outputs": [
    {
     "name": "stdout",
     "output_type": "stream",
     "text": [
      "Alice that was a great trick!\n",
      "I can't to see your next trick, Alice.\n",
      "\n",
      "Mario that was a great trick!\n",
      "I can't to see your next trick, Mario.\n",
      "\n",
      "João that was a great trick!\n",
      "I can't to see your next trick, João.\n",
      "\n",
      "José that was a great trick!\n",
      "I can't to see your next trick, José.\n",
      "\n"
     ]
    }
   ],
   "source": [
    "magicans = ['Alice', 'Mario', 'João', 'José']\n",
    "for magican in magicans:\n",
    "    print(f'{magican.title()} that was a great trick!')\n",
    "    print(f\"I can't to see your next trick, {magican.title()}.\\n\")"
   ]
  },
  {
   "cell_type": "code",
   "execution_count": 1,
   "metadata": {},
   "outputs": [
    {
     "name": "stdout",
     "output_type": "stream",
     "text": [
      "Alice está foi uma ótima aula!\n",
      "Não vejo a hora de assistir outra aula, Alice.\n",
      "\n",
      "Mario está foi uma ótima aula!\n",
      "Não vejo a hora de assistir outra aula, Mario.\n",
      "\n",
      "João está foi uma ótima aula!\n",
      "Não vejo a hora de assistir outra aula, João.\n",
      "\n",
      "José está foi uma ótima aula!\n",
      "Não vejo a hora de assistir outra aula, José.\n",
      "\n"
     ]
    }
   ],
   "source": [
    "professores = ['Alice', 'Mario', 'João', 'José']\n",
    "for professor in professores:\n",
    "    print(f'{professor.title()} está foi uma ótima aula!')\n",
    "    print(f\"Não vejo a hora de assistir outra aula, {professor.title()}.\\n\")"
   ]
  }
 ],
 "metadata": {
  "kernelspec": {
   "display_name": ".venv",
   "language": "python",
   "name": "python3"
  },
  "language_info": {
   "codemirror_mode": {
    "name": "ipython",
    "version": 3
   },
   "file_extension": ".py",
   "mimetype": "text/x-python",
   "name": "python",
   "nbconvert_exporter": "python",
   "pygments_lexer": "ipython3",
   "version": "3.11.4"
  }
 },
 "nbformat": 4,
 "nbformat_minor": 2
}
