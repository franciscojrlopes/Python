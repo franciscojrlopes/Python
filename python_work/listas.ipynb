{
 "cells": [
  {
   "cell_type": "code",
   "execution_count": 1,
   "metadata": {},
   "outputs": [
    {
     "name": "stdout",
     "output_type": "stream",
     "text": [
      "['trek', 'mountain', 'corrida', 'velocidade']\n"
     ]
    }
   ],
   "source": [
    "# Lista = coleção de intens numa ordem específica.\n",
    "\n",
    "bicicletas = ['trek', 'mountain', 'corrida', 'velocidade']\n",
    "print(bicicletas)"
   ]
  },
  {
   "cell_type": "code",
   "execution_count": 4,
   "metadata": {},
   "outputs": [
    {
     "name": "stdout",
     "output_type": "stream",
     "text": [
      "velocidade\n"
     ]
    }
   ],
   "source": [
    "bicicletas = ['trek', 'mountain', 'corrida', 'velocidade']\n",
    "print(bicicletas [3])"
   ]
  },
  {
   "cell_type": "code",
   "execution_count": 5,
   "metadata": {},
   "outputs": [
    {
     "name": "stdout",
     "output_type": "stream",
     "text": [
      "VELOCIDADE\n"
     ]
    }
   ],
   "source": [
    "bicicletas = ['trek', 'mountain', 'corrida', 'velocidade']\n",
    "print(bicicletas [3].upper())"
   ]
  },
  {
   "cell_type": "code",
   "execution_count": 6,
   "metadata": {},
   "outputs": [
    {
     "name": "stdout",
     "output_type": "stream",
     "text": [
      "Velocidade\n"
     ]
    }
   ],
   "source": [
    "bicicletas = ['trek', 'mountain', 'corrida', 'velocidade']\n",
    "print(bicicletas [3].title())"
   ]
  },
  {
   "cell_type": "code",
   "execution_count": 7,
   "metadata": {},
   "outputs": [
    {
     "name": "stdout",
     "output_type": "stream",
     "text": [
      "velocidade\n"
     ]
    }
   ],
   "source": [
    "bicicletas = ['trek', 'mountain', 'corrida', 'velocidade']\n",
    "print(bicicletas [3].lower())"
   ]
  },
  {
   "cell_type": "code",
   "execution_count": 8,
   "metadata": {},
   "outputs": [
    {
     "name": "stdout",
     "output_type": "stream",
     "text": [
      "mountain\n",
      "velocidade\n"
     ]
    }
   ],
   "source": [
    "bicicletas = ['trek', 'mountain', 'corrida', 'velocidade']\n",
    "print(bicicletas [1])\n",
    "print(bicicletas[3])"
   ]
  },
  {
   "cell_type": "code",
   "execution_count": 9,
   "metadata": {},
   "outputs": [
    {
     "name": "stdout",
     "output_type": "stream",
     "text": [
      "velocidade\n"
     ]
    }
   ],
   "source": [
    "bicicletas = ['trek', 'mountain', 'corrida', 'velocidade']\n",
    "print(bicicletas [-1])"
   ]
  },
  {
   "cell_type": "code",
   "execution_count": 10,
   "metadata": {},
   "outputs": [
    {
     "name": "stdout",
     "output_type": "stream",
     "text": [
      "trek\n"
     ]
    }
   ],
   "source": [
    "bicicletas = ['trek', 'mountain', 'corrida', 'velocidade']\n",
    "print(bicicletas [-4])"
   ]
  },
  {
   "cell_type": "code",
   "execution_count": 13,
   "metadata": {},
   "outputs": [
    {
     "name": "stdout",
     "output_type": "stream",
     "text": [
      "Minha primeira bicicleta era uma Trek.\n"
     ]
    }
   ],
   "source": [
    "bicicletas = ['trek', 'mountain', 'corrida', 'velocidade']\n",
    "message = f'Minha primeira bicicleta era uma {bicicletas[0].title()}.'\n",
    "print(message)"
   ]
  },
  {
   "cell_type": "code",
   "execution_count": null,
   "metadata": {},
   "outputs": [],
   "source": []
  }
 ],
 "metadata": {
  "kernelspec": {
   "display_name": ".venv",
   "language": "python",
   "name": "python3"
  },
  "language_info": {
   "codemirror_mode": {
    "name": "ipython",
    "version": 3
   },
   "file_extension": ".py",
   "mimetype": "text/x-python",
   "name": "python",
   "nbconvert_exporter": "python",
   "pygments_lexer": "ipython3",
   "version": "3.11.4"
  }
 },
 "nbformat": 4,
 "nbformat_minor": 2
}
