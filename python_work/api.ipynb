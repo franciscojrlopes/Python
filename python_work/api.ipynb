{
 "cells": [
  {
   "cell_type": "code",
   "execution_count": 1,
   "metadata": {},
   "outputs": [
    {
     "name": "stdout",
     "output_type": "stream",
     "text": [
      "Note: you may need to restart the kernel to use updated packages.\n"
     ]
    },
    {
     "name": "stderr",
     "output_type": "stream",
     "text": [
      "ERROR: Could not find a version that satisfies the requirement request (from versions: none)\n",
      "ERROR: No matching distribution found for request\n",
      "\n",
      "[notice] A new release of pip is available: 23.2.1 -> 24.0\n",
      "[notice] To update, run: python.exe -m pip install --upgrade pip\n"
     ]
    }
   ],
   "source": [
    "pip install request\n"
   ]
  },
  {
   "cell_type": "code",
   "execution_count": 4,
   "metadata": {},
   "outputs": [
    {
     "ename": "ModuleNotFoundError",
     "evalue": "No module named 'requests'",
     "output_type": "error",
     "traceback": [
      "\u001b[1;31m---------------------------------------------------------------------------\u001b[0m",
      "\u001b[1;31mModuleNotFoundError\u001b[0m                       Traceback (most recent call last)",
      "Cell \u001b[1;32mIn[4], line 1\u001b[0m\n\u001b[1;32m----> 1\u001b[0m \u001b[38;5;28;01mimport\u001b[39;00m \u001b[38;5;21;01mrequests\u001b[39;00m\n\u001b[0;32m      3\u001b[0m \u001b[38;5;28;01mimport\u001b[39;00m \u001b[38;5;21;01mjson\u001b[39;00m\n\u001b[0;32m      4\u001b[0m \u001b[38;5;66;03m#\u001b[39;00m\n",
      "\u001b[1;31mModuleNotFoundError\u001b[0m: No module named 'requests'"
     ]
    }
   ],
   "source": [
    "import json\n"
   ]
  },
  {
   "cell_type": "code",
   "execution_count": 2,
   "metadata": {},
   "outputs": [
    {
     "name": "stdout",
     "output_type": "stream",
     "text": [
      "Requirement already satisfied: request2 in c:\\users\\fraro\\onedrive\\documentos\\estudos\\python\\.venv\\lib\\site-packages (0.2)\n",
      "Requirement already satisfied: requests in c:\\users\\fraro\\onedrive\\documentos\\estudos\\python\\.venv\\lib\\site-packages (from request2) (2.31.0)\n",
      "Requirement already satisfied: charset-normalizer<4,>=2 in c:\\users\\fraro\\onedrive\\documentos\\estudos\\python\\.venv\\lib\\site-packages (from requests->request2) (3.3.2)\n",
      "Requirement already satisfied: idna<4,>=2.5 in c:\\users\\fraro\\onedrive\\documentos\\estudos\\python\\.venv\\lib\\site-packages (from requests->request2) (3.6)\n",
      "Requirement already satisfied: urllib3<3,>=1.21.1 in c:\\users\\fraro\\onedrive\\documentos\\estudos\\python\\.venv\\lib\\site-packages (from requests->request2) (2.2.1)\n",
      "Requirement already satisfied: certifi>=2017.4.17 in c:\\users\\fraro\\onedrive\\documentos\\estudos\\python\\.venv\\lib\\site-packages (from requests->request2) (2024.2.2)\n",
      "Note: you may need to restart the kernel to use updated packages.\n"
     ]
    },
    {
     "name": "stderr",
     "output_type": "stream",
     "text": [
      "\n",
      "[notice] A new release of pip is available: 23.2.1 -> 24.0\n",
      "[notice] To update, run: python.exe -m pip install --upgrade pip\n"
     ]
    }
   ],
   "source": [
    "pip install request2\n"
   ]
  },
  {
   "cell_type": "code",
   "execution_count": 8,
   "metadata": {},
   "outputs": [
    {
     "name": "stdout",
     "output_type": "stream",
     "text": [
      "{'USD': {'code': 'USD', 'codein': 'BRL', 'name': 'Dólar Americano/Real Brasileiro', 'high': '4.9605', 'low': '4.9569', 'varBid': '0.0041', 'pctChange': '0.08', 'bid': '4.9599', 'ask': '4.9612', 'timestamp': '1708429240', 'create_date': '2024-02-20 08:40:40'}, 'USDT': {'code': 'USD', 'codein': 'BRLT', 'name': 'Dólar Americano/Real Brasileiro Turismo', 'high': '4.99', 'low': '4.955', 'varBid': '-0.035', 'pctChange': '-0.7', 'bid': '4.82', 'ask': '5.09', 'timestamp': '1708371060', 'create_date': '2024-02-19 16:31:00'}, 'CAD': {'code': 'CAD', 'codein': 'BRL', 'name': 'Dólar Canadense/Real Brasileiro', 'high': '3.6802', 'low': '3.6693', 'varBid': '0.0001', 'pctChange': '0', 'bid': '3.6752', 'ask': '3.6807', 'timestamp': '1708429108', 'create_date': '2024-02-20 08:38:28'}, 'GBP': {'code': 'GBP', 'codein': 'BRL', 'name': 'Libra Esterlina/Real Brasileiro', 'high': '6.2539', 'low': '6.2379', 'varBid': '0.0013', 'pctChange': '0.02', 'bid': '6.2446', 'ask': '6.2484', 'timestamp': '1708429110', 'create_date': '2024-02-20 08:38:30'}, 'ARS': {'code': 'ARS', 'codein': 'BRL', 'name': 'Peso Argentino/Real Brasileiro', 'high': '0.0059', 'low': '0.0059', 'varBid': '0', 'pctChange': '0', 'bid': '0.0059', 'ask': '0.0059', 'timestamp': '1708429124', 'create_date': '2024-02-20 08:38:44'}, 'BTC': {'code': 'BTC', 'codein': 'BRL', 'name': 'Bitcoin/Real Brasileiro', 'high': '263100', 'low': '257835', 'varBid': '-230', 'pctChange': '-0.09', 'bid': '262498', 'ask': '262578', 'timestamp': '1708429248', 'create_date': '2024-02-20 08:40:48'}, 'LTC': {'code': 'LTC', 'codein': 'BRL', 'name': 'Litecoin/Real Brasileiro', 'high': '359', 'low': '349.53', 'varBid': '-3.61', 'pctChange': '-1.01', 'bid': '353.07', 'ask': '352.92', 'timestamp': '1708429237', 'create_date': '2024-02-20 08:40:37'}, 'EUR': {'code': 'EUR', 'codein': 'BRL', 'name': 'Euro/Real Brasileiro', 'high': '5.3596', 'low': '5.3379', 'varBid': '0.0084', 'pctChange': '0.16', 'bid': '5.3522', 'ask': '5.3602', 'timestamp': '1708429120', 'create_date': '2024-02-20 08:38:40'}, 'JPY': {'code': 'JPY', 'codein': 'BRL', 'name': 'Iene Japonês/Real Brasileiro', 'high': '0.03308', 'low': '0.03296', 'varBid': '0', 'pctChange': '0', 'bid': '0.03301', 'ask': '0.03303', 'timestamp': '1708429116', 'create_date': '2024-02-20 08:38:36'}, 'CHF': {'code': 'CHF', 'codein': 'BRL', 'name': 'Franco Suíço/Real Brasileiro', 'high': '5.6299', 'low': '5.6101', 'varBid': '0.0037', 'pctChange': '0.07', 'bid': '5.6211', 'ask': '5.6295', 'timestamp': '1708429114', 'create_date': '2024-02-20 08:38:34'}, 'AUD': {'code': 'AUD', 'codein': 'BRL', 'name': 'Dólar Australiano/Real Brasileiro', 'high': '3.2538', 'low': '3.2384', 'varBid': '0.0075', 'pctChange': '0.23', 'bid': '3.2493', 'ask': '3.2542', 'timestamp': '1708429124', 'create_date': '2024-02-20 08:38:44'}, 'CNY': {'code': 'CNY', 'codein': 'BRL', 'name': 'Yuan Chinês/Real Brasileiro', 'high': '0.6896', 'low': '0.6886', 'varBid': '-0.0007', 'pctChange': '-0.1', 'bid': '0.6894', 'ask': '0.6896', 'timestamp': '1708428001', 'create_date': '2024-02-20 08:20:01'}, 'ILS': {'code': 'ILS', 'codein': 'BRL', 'name': 'Novo Shekel Israelense/Real Brasileiro', 'high': '1.3642', 'low': '1.3549', 'varBid': '-0.0141', 'pctChange': '-1.03', 'bid': '1.3556', 'ask': '1.3559', 'timestamp': '1708429204', 'create_date': '2024-02-20 08:40:04'}, 'ETH': {'code': 'ETH', 'codein': 'BRL', 'name': 'Ethereum/Real Brasileiro', 'high': '14959', 'low': '14417.68', 'varBid': '107.4', 'pctChange': '0.73', 'bid': '14688.85', 'ask': '14729.21', 'timestamp': '1708429207', 'create_date': '2024-02-20 08:40:07'}, 'XRP': {'code': 'XRP', 'codein': 'BRL', 'name': 'XRP/Real Brasileiro', 'high': '2.87', 'low': '2.78', 'varBid': '0.05', 'pctChange': '1.6', 'bid': '2.85', 'ask': '2.86', 'timestamp': '1708429247', 'create_date': '2024-02-20 08:40:47'}, 'DOGE': {'code': 'DOGE', 'codein': 'BRL', 'name': 'Dogecoin/Real Brasileiro', 'high': '0.44968', 'low': '0.42485', 'varBid': '0.00064', 'pctChange': '0.15', 'bid': '0.43198', 'ask': '0.43198', 'timestamp': '1708428627', 'create_date': '2024-02-20 08:30:27'}}\n"
     ]
    }
   ],
   "source": [
    "import requests\n",
    "import json\n",
    "cotacoes = requests.get('https://economia.awesomeapi.com.br/json/all')\n",
    "cotacoes_dic = cotacoes.json()\n",
    "print(cotacoes_dic)\n",
    "\n",
    "# cotações = requests.get('https://docs.awesomeapi.com.br/api-de-moedas')\n",
    "# cotações_dic = cotações.json()\n",
    "# print(cotações_dic)"
   ]
  },
  {
   "cell_type": "code",
   "execution_count": 10,
   "metadata": {},
   "outputs": [
    {
     "name": "stdout",
     "output_type": "stream",
     "text": [
      "<Response [200]>\n",
      "{'USD': {'code': 'USD', 'codein': 'BRL', 'name': 'Dólar Americano/Real Brasileiro', 'high': '4.9605', 'low': '4.9569', 'varBid': '0.0041', 'pctChange': '0.08', 'bid': '4.9599', 'ask': '4.9612', 'timestamp': '1708429240', 'create_date': '2024-02-20 08:40:40'}, 'USDT': {'code': 'USD', 'codein': 'BRLT', 'name': 'Dólar Americano/Real Brasileiro Turismo', 'high': '4.99', 'low': '4.955', 'varBid': '-0.035', 'pctChange': '-0.7', 'bid': '4.82', 'ask': '5.09', 'timestamp': '1708371060', 'create_date': '2024-02-19 16:31:00'}, 'CAD': {'code': 'CAD', 'codein': 'BRL', 'name': 'Dólar Canadense/Real Brasileiro', 'high': '3.6802', 'low': '3.6693', 'varBid': '0.0001', 'pctChange': '0', 'bid': '3.6752', 'ask': '3.6807', 'timestamp': '1708429108', 'create_date': '2024-02-20 08:38:28'}, 'GBP': {'code': 'GBP', 'codein': 'BRL', 'name': 'Libra Esterlina/Real Brasileiro', 'high': '6.2539', 'low': '6.2379', 'varBid': '0.0013', 'pctChange': '0.02', 'bid': '6.2446', 'ask': '6.2484', 'timestamp': '1708429110', 'create_date': '2024-02-20 08:38:30'}, 'ARS': {'code': 'ARS', 'codein': 'BRL', 'name': 'Peso Argentino/Real Brasileiro', 'high': '0.0059', 'low': '0.0059', 'varBid': '0', 'pctChange': '0', 'bid': '0.0059', 'ask': '0.0059', 'timestamp': '1708429124', 'create_date': '2024-02-20 08:38:44'}, 'BTC': {'code': 'BTC', 'codein': 'BRL', 'name': 'Bitcoin/Real Brasileiro', 'high': '263100', 'low': '257835', 'varBid': '-230', 'pctChange': '-0.09', 'bid': '262498', 'ask': '262578', 'timestamp': '1708429248', 'create_date': '2024-02-20 08:40:48'}, 'LTC': {'code': 'LTC', 'codein': 'BRL', 'name': 'Litecoin/Real Brasileiro', 'high': '359', 'low': '349.53', 'varBid': '-3.61', 'pctChange': '-1.01', 'bid': '353.07', 'ask': '352.92', 'timestamp': '1708429237', 'create_date': '2024-02-20 08:40:37'}, 'EUR': {'code': 'EUR', 'codein': 'BRL', 'name': 'Euro/Real Brasileiro', 'high': '5.3596', 'low': '5.3379', 'varBid': '0.0084', 'pctChange': '0.16', 'bid': '5.3522', 'ask': '5.3602', 'timestamp': '1708429120', 'create_date': '2024-02-20 08:38:40'}, 'JPY': {'code': 'JPY', 'codein': 'BRL', 'name': 'Iene Japonês/Real Brasileiro', 'high': '0.03308', 'low': '0.03296', 'varBid': '0', 'pctChange': '0', 'bid': '0.03301', 'ask': '0.03303', 'timestamp': '1708429116', 'create_date': '2024-02-20 08:38:36'}, 'CHF': {'code': 'CHF', 'codein': 'BRL', 'name': 'Franco Suíço/Real Brasileiro', 'high': '5.6299', 'low': '5.6101', 'varBid': '0.0037', 'pctChange': '0.07', 'bid': '5.6211', 'ask': '5.6295', 'timestamp': '1708429114', 'create_date': '2024-02-20 08:38:34'}, 'AUD': {'code': 'AUD', 'codein': 'BRL', 'name': 'Dólar Australiano/Real Brasileiro', 'high': '3.2538', 'low': '3.2384', 'varBid': '0.0075', 'pctChange': '0.23', 'bid': '3.2493', 'ask': '3.2542', 'timestamp': '1708429124', 'create_date': '2024-02-20 08:38:44'}, 'CNY': {'code': 'CNY', 'codein': 'BRL', 'name': 'Yuan Chinês/Real Brasileiro', 'high': '0.6896', 'low': '0.6886', 'varBid': '-0.0007', 'pctChange': '-0.1', 'bid': '0.6894', 'ask': '0.6896', 'timestamp': '1708428001', 'create_date': '2024-02-20 08:20:01'}, 'ILS': {'code': 'ILS', 'codein': 'BRL', 'name': 'Novo Shekel Israelense/Real Brasileiro', 'high': '1.3642', 'low': '1.3549', 'varBid': '-0.0141', 'pctChange': '-1.03', 'bid': '1.3556', 'ask': '1.3559', 'timestamp': '1708429204', 'create_date': '2024-02-20 08:40:04'}, 'ETH': {'code': 'ETH', 'codein': 'BRL', 'name': 'Ethereum/Real Brasileiro', 'high': '14959', 'low': '14417.68', 'varBid': '107.4', 'pctChange': '0.73', 'bid': '14688.85', 'ask': '14729.21', 'timestamp': '1708429207', 'create_date': '2024-02-20 08:40:07'}, 'XRP': {'code': 'XRP', 'codein': 'BRL', 'name': 'XRP/Real Brasileiro', 'high': '2.87', 'low': '2.78', 'varBid': '0.05', 'pctChange': '1.6', 'bid': '2.85', 'ask': '2.86', 'timestamp': '1708429247', 'create_date': '2024-02-20 08:40:47'}, 'DOGE': {'code': 'DOGE', 'codein': 'BRL', 'name': 'Dogecoin/Real Brasileiro', 'high': '0.44968', 'low': '0.42485', 'varBid': '0.00064', 'pctChange': '0.15', 'bid': '0.43198', 'ask': '0.43198', 'timestamp': '1708428627', 'create_date': '2024-02-20 08:30:27'}}\n"
     ]
    }
   ],
   "source": [
    "print(cotacoes)\n",
    "print(cotacoes_dic)"
   ]
  }
 ],
 "metadata": {
  "kernelspec": {
   "display_name": ".venv",
   "language": "python",
   "name": "python3"
  },
  "language_info": {
   "codemirror_mode": {
    "name": "ipython",
    "version": 3
   },
   "file_extension": ".py",
   "mimetype": "text/x-python",
   "name": "python",
   "nbconvert_exporter": "python",
   "pygments_lexer": "ipython3",
   "version": "3.11.4"
  }
 },
 "nbformat": 4,
 "nbformat_minor": 2
}
