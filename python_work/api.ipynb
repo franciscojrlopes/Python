{
 "cells": [
  {
   "cell_type": "code",
   "execution_count": 1,
   "metadata": {},
   "outputs": [
    {
     "name": "stdout",
     "output_type": "stream",
     "text": [
      "Note: you may need to restart the kernel to use updated packages.\n"
     ]
    },
    {
     "name": "stderr",
     "output_type": "stream",
     "text": [
      "ERROR: Could not find a version that satisfies the requirement request (from versions: none)\n",
      "ERROR: No matching distribution found for request\n",
      "\n",
      "[notice] A new release of pip is available: 23.2.1 -> 24.0\n",
      "[notice] To update, run: python.exe -m pip install --upgrade pip\n"
     ]
    }
   ],
   "source": [
    "pip install request\n"
   ]
  },
  {
   "cell_type": "code",
   "execution_count": 2,
   "metadata": {},
   "outputs": [],
   "source": [
    "import json\n"
   ]
  },
  {
   "cell_type": "code",
   "execution_count": 2,
   "metadata": {},
   "outputs": [
    {
     "name": "stdout",
     "output_type": "stream",
     "text": [
      "Requirement already satisfied: request2 in c:\\users\\fraro\\onedrive\\documentos\\estudos\\python\\.venv\\lib\\site-packages (0.2)\n",
      "Requirement already satisfied: requests in c:\\users\\fraro\\onedrive\\documentos\\estudos\\python\\.venv\\lib\\site-packages (from request2) (2.31.0)\n",
      "Requirement already satisfied: charset-normalizer<4,>=2 in c:\\users\\fraro\\onedrive\\documentos\\estudos\\python\\.venv\\lib\\site-packages (from requests->request2) (3.3.2)\n",
      "Requirement already satisfied: idna<4,>=2.5 in c:\\users\\fraro\\onedrive\\documentos\\estudos\\python\\.venv\\lib\\site-packages (from requests->request2) (3.6)\n",
      "Requirement already satisfied: urllib3<3,>=1.21.1 in c:\\users\\fraro\\onedrive\\documentos\\estudos\\python\\.venv\\lib\\site-packages (from requests->request2) (2.2.1)\n",
      "Requirement already satisfied: certifi>=2017.4.17 in c:\\users\\fraro\\onedrive\\documentos\\estudos\\python\\.venv\\lib\\site-packages (from requests->request2) (2024.2.2)\n",
      "Note: you may need to restart the kernel to use updated packages.\n"
     ]
    },
    {
     "name": "stderr",
     "output_type": "stream",
     "text": [
      "\n",
      "[notice] A new release of pip is available: 23.2.1 -> 24.0\n",
      "[notice] To update, run: python.exe -m pip install --upgrade pip\n"
     ]
    }
   ],
   "source": [
    "pip install request2\n"
   ]
  },
  {
   "cell_type": "code",
   "execution_count": 7,
   "metadata": {},
   "outputs": [
    {
     "name": "stdout",
     "output_type": "stream",
     "text": [
      "{'USD': {'code': 'USD', 'codein': 'BRL', 'name': 'Dólar Americano/Real Brasileiro', 'high': '5.0018', 'low': '4.9818', 'varBid': '0.0062', 'pctChange': '0.12', 'bid': '4.9949', 'ask': '4.9965', 'timestamp': '1710536398', 'create_date': '2024-03-15 17:59:58'}, 'USDT': {'code': 'USD', 'codein': 'BRLT', 'name': 'Dólar Americano/Real Brasileiro Turismo', 'high': '5.03', 'low': '4.985', 'varBid': '0', 'pctChange': '0', 'bid': '4.87', 'ask': '5.17', 'timestamp': '1710517500', 'create_date': '2024-03-15 12:45:00'}, 'CAD': {'code': 'CAD', 'codein': 'BRL', 'name': 'Dólar Canadense/Real Brasileiro', 'high': '3.6987', 'low': '3.6838', 'varBid': '0.0037', 'pctChange': '0.1', 'bid': '3.6868', 'ask': '3.6923', 'timestamp': '1710536323', 'create_date': '2024-03-15 17:58:43'}, 'GBP': {'code': 'GBP', 'codein': 'BRL', 'name': 'Libra Esterlina/Real Brasileiro', 'high': '6.3784', 'low': '6.3492', 'varBid': '-0.0025', 'pctChange': '-0.04', 'bid': '6.361', 'ask': '6.3648', 'timestamp': '1710536321', 'create_date': '2024-03-15 17:58:41'}, 'ARS': {'code': 'ARS', 'codein': 'BRL', 'name': 'Peso Argentino/Real Brasileiro', 'high': '0.0059', 'low': '0.0059', 'varBid': '0', 'pctChange': '0', 'bid': '0.0059', 'ask': '0.0059', 'timestamp': '1710536313', 'create_date': '2024-03-15 17:58:33'}, 'BTC': {'code': 'BTC', 'codein': 'BRL', 'name': 'Bitcoin/Real Brasileiro', 'high': '345080', 'low': '326148', 'varBid': '-7641', 'pctChange': '-2.23', 'bid': '335121', 'ask': '335203', 'timestamp': '1710680246', 'create_date': '2024-03-17 09:57:26'}, 'LTC': {'code': 'LTC', 'codein': 'BRL', 'name': 'Litecoin/Real Brasileiro', 'high': '456.88', 'low': '410', 'varBid': '-5.23', 'pctChange': '-1.18', 'bid': '421.3', 'ask': '438.83', 'timestamp': '1710680246', 'create_date': '2024-03-17 09:57:26'}, 'EUR': {'code': 'EUR', 'codein': 'BRL', 'name': 'Euro/Real Brasileiro', 'high': '5.4472', 'low': '5.4285', 'varBid': '0.0107', 'pctChange': '0.2', 'bid': '5.4384', 'ask': '5.4464', 'timestamp': '1710536308', 'create_date': '2024-03-15 17:58:28'}, 'JPY': {'code': 'JPY', 'codein': 'BRL', 'name': 'Iene Japonês/Real Brasileiro', 'high': '0.03372', 'low': '0.03347', 'varBid': '-0.0001', 'pctChange': '-0.3', 'bid': '0.03351', 'ask': '0.03353', 'timestamp': '1710536317', 'create_date': '2024-03-15 17:58:37'}, 'CHF': {'code': 'CHF', 'codein': 'BRL', 'name': 'Franco Suíço/Real Brasileiro', 'high': '5.6671', 'low': '5.6447', 'varBid': '0.0118', 'pctChange': '0.21', 'bid': '5.6523', 'ask': '5.6607', 'timestamp': '1710536312', 'create_date': '2024-03-15 17:58:32'}, 'AUD': {'code': 'AUD', 'codein': 'BRL', 'name': 'Dólar Australiano/Real Brasileiro', 'high': '3.2858', 'low': '3.2729', 'varBid': '-0.0039', 'pctChange': '-0.12', 'bid': '3.2761', 'ask': '3.2809', 'timestamp': '1710536317', 'create_date': '2024-03-15 17:58:37'}, 'CNY': {'code': 'CNY', 'codein': 'BRL', 'name': 'Yuan Chinês/Real Brasileiro', 'high': '0.695', 'low': '0.6926', 'varBid': '0.0006', 'pctChange': '0.09', 'bid': '0.6942', 'ask': '0.6943', 'timestamp': '1710536342', 'create_date': '2024-03-15 17:59:02'}, 'ILS': {'code': 'ILS', 'codein': 'BRL', 'name': 'Novo Shekel Israelense/Real Brasileiro', 'high': '1.3711', 'low': '1.3554', 'varBid': '-0.0064', 'pctChange': '-0.47', 'bid': '1.3586', 'ask': '1.3589', 'timestamp': '1710536345', 'create_date': '2024-03-15 17:59:05'}, 'ETH': {'code': 'ETH', 'codein': 'BRL', 'name': 'Ethereum/Real Brasileiro', 'high': '18628.16', 'low': '17300', 'varBid': '-718.01', 'pctChange': '-3.87', 'bid': '17925.34', 'ask': '17970.77', 'timestamp': '1710680562', 'create_date': '2024-03-17 10:02:42'}, 'XRP': {'code': 'XRP', 'codein': 'BRL', 'name': 'XRP/Real Brasileiro', 'high': '3.17', 'low': '2.98', 'varBid': '-0.07', 'pctChange': '-2.25', 'bid': '3.06', 'ask': '3.09', 'timestamp': '1710680246', 'create_date': '2024-03-17 09:57:26'}, 'DOGE': {'code': 'DOGE', 'codein': 'BRL', 'name': 'Dogecoin/Real Brasileiro', 'high': '0.7724', 'low': '0.69216', 'varBid': '-0.03922', 'pctChange': '-5.08', 'bid': '0.73341', 'ask': '0.73341', 'timestamp': '1710680037', 'create_date': '2024-03-17 09:53:57'}}\n"
     ]
    }
   ],
   "source": [
    "import requests\n",
    "import json\n",
    "cotacoes = requests.get('https://economia.awesomeapi.com.br/json/all')\n",
    "cotacoes_dic = cotacoes.json()\n",
    "print(cotacoes_dic)\n",
    "\n",
    "# cotações = requests.get('https://docs.awesomeapi.com.br/api-de-moedas')\n",
    "# cotações_dic = cotações.json()\n",
    "# print(cotações_dic)"
   ]
  },
  {
   "cell_type": "code",
   "execution_count": 8,
   "metadata": {},
   "outputs": [
    {
     "name": "stdout",
     "output_type": "stream",
     "text": [
      "<Response [200]>\n",
      "{'USD': {'code': 'USD', 'codein': 'BRL', 'name': 'Dólar Americano/Real Brasileiro', 'high': '5.0018', 'low': '4.9818', 'varBid': '0.0062', 'pctChange': '0.12', 'bid': '4.9949', 'ask': '4.9965', 'timestamp': '1710536398', 'create_date': '2024-03-15 17:59:58'}, 'USDT': {'code': 'USD', 'codein': 'BRLT', 'name': 'Dólar Americano/Real Brasileiro Turismo', 'high': '5.03', 'low': '4.985', 'varBid': '0', 'pctChange': '0', 'bid': '4.87', 'ask': '5.17', 'timestamp': '1710517500', 'create_date': '2024-03-15 12:45:00'}, 'CAD': {'code': 'CAD', 'codein': 'BRL', 'name': 'Dólar Canadense/Real Brasileiro', 'high': '3.6987', 'low': '3.6838', 'varBid': '0.0037', 'pctChange': '0.1', 'bid': '3.6868', 'ask': '3.6923', 'timestamp': '1710536323', 'create_date': '2024-03-15 17:58:43'}, 'GBP': {'code': 'GBP', 'codein': 'BRL', 'name': 'Libra Esterlina/Real Brasileiro', 'high': '6.3784', 'low': '6.3492', 'varBid': '-0.0025', 'pctChange': '-0.04', 'bid': '6.361', 'ask': '6.3648', 'timestamp': '1710536321', 'create_date': '2024-03-15 17:58:41'}, 'ARS': {'code': 'ARS', 'codein': 'BRL', 'name': 'Peso Argentino/Real Brasileiro', 'high': '0.0059', 'low': '0.0059', 'varBid': '0', 'pctChange': '0', 'bid': '0.0059', 'ask': '0.0059', 'timestamp': '1710536313', 'create_date': '2024-03-15 17:58:33'}, 'BTC': {'code': 'BTC', 'codein': 'BRL', 'name': 'Bitcoin/Real Brasileiro', 'high': '345080', 'low': '326148', 'varBid': '-7641', 'pctChange': '-2.23', 'bid': '335121', 'ask': '335203', 'timestamp': '1710680246', 'create_date': '2024-03-17 09:57:26'}, 'LTC': {'code': 'LTC', 'codein': 'BRL', 'name': 'Litecoin/Real Brasileiro', 'high': '456.88', 'low': '410', 'varBid': '-5.23', 'pctChange': '-1.18', 'bid': '421.3', 'ask': '438.83', 'timestamp': '1710680246', 'create_date': '2024-03-17 09:57:26'}, 'EUR': {'code': 'EUR', 'codein': 'BRL', 'name': 'Euro/Real Brasileiro', 'high': '5.4472', 'low': '5.4285', 'varBid': '0.0107', 'pctChange': '0.2', 'bid': '5.4384', 'ask': '5.4464', 'timestamp': '1710536308', 'create_date': '2024-03-15 17:58:28'}, 'JPY': {'code': 'JPY', 'codein': 'BRL', 'name': 'Iene Japonês/Real Brasileiro', 'high': '0.03372', 'low': '0.03347', 'varBid': '-0.0001', 'pctChange': '-0.3', 'bid': '0.03351', 'ask': '0.03353', 'timestamp': '1710536317', 'create_date': '2024-03-15 17:58:37'}, 'CHF': {'code': 'CHF', 'codein': 'BRL', 'name': 'Franco Suíço/Real Brasileiro', 'high': '5.6671', 'low': '5.6447', 'varBid': '0.0118', 'pctChange': '0.21', 'bid': '5.6523', 'ask': '5.6607', 'timestamp': '1710536312', 'create_date': '2024-03-15 17:58:32'}, 'AUD': {'code': 'AUD', 'codein': 'BRL', 'name': 'Dólar Australiano/Real Brasileiro', 'high': '3.2858', 'low': '3.2729', 'varBid': '-0.0039', 'pctChange': '-0.12', 'bid': '3.2761', 'ask': '3.2809', 'timestamp': '1710536317', 'create_date': '2024-03-15 17:58:37'}, 'CNY': {'code': 'CNY', 'codein': 'BRL', 'name': 'Yuan Chinês/Real Brasileiro', 'high': '0.695', 'low': '0.6926', 'varBid': '0.0006', 'pctChange': '0.09', 'bid': '0.6942', 'ask': '0.6943', 'timestamp': '1710536342', 'create_date': '2024-03-15 17:59:02'}, 'ILS': {'code': 'ILS', 'codein': 'BRL', 'name': 'Novo Shekel Israelense/Real Brasileiro', 'high': '1.3711', 'low': '1.3554', 'varBid': '-0.0064', 'pctChange': '-0.47', 'bid': '1.3586', 'ask': '1.3589', 'timestamp': '1710536345', 'create_date': '2024-03-15 17:59:05'}, 'ETH': {'code': 'ETH', 'codein': 'BRL', 'name': 'Ethereum/Real Brasileiro', 'high': '18628.16', 'low': '17300', 'varBid': '-718.01', 'pctChange': '-3.87', 'bid': '17925.34', 'ask': '17970.77', 'timestamp': '1710680562', 'create_date': '2024-03-17 10:02:42'}, 'XRP': {'code': 'XRP', 'codein': 'BRL', 'name': 'XRP/Real Brasileiro', 'high': '3.17', 'low': '2.98', 'varBid': '-0.07', 'pctChange': '-2.25', 'bid': '3.06', 'ask': '3.09', 'timestamp': '1710680246', 'create_date': '2024-03-17 09:57:26'}, 'DOGE': {'code': 'DOGE', 'codein': 'BRL', 'name': 'Dogecoin/Real Brasileiro', 'high': '0.7724', 'low': '0.69216', 'varBid': '-0.03922', 'pctChange': '-5.08', 'bid': '0.73341', 'ask': '0.73341', 'timestamp': '1710680037', 'create_date': '2024-03-17 09:53:57'}}\n"
     ]
    }
   ],
   "source": [
    "\n",
    "print(cotacoes)\n",
    "print(cotacoes_dic)"
   ]
  },
  {
   "cell_type": "code",
   "execution_count": null,
   "metadata": {},
   "outputs": [],
   "source": []
  }
 ],
 "metadata": {
  "kernelspec": {
   "display_name": ".venv",
   "language": "python",
   "name": "python3"
  },
  "language_info": {
   "codemirror_mode": {
    "name": "ipython",
    "version": 3
   },
   "file_extension": ".py",
   "mimetype": "text/x-python",
   "name": "python",
   "nbconvert_exporter": "python",
   "pygments_lexer": "ipython3",
   "version": "3.11.4"
  }
 },
 "nbformat": 4,
 "nbformat_minor": 2
}
