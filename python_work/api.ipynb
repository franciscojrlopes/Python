{
 "cells": [
  {
   "cell_type": "code",
   "execution_count": 9,
   "metadata": {},
   "outputs": [
    {
     "name": "stdout",
     "output_type": "stream",
     "text": [
      "Note: you may need to restart the kernel to use updated packages.\n"
     ]
    },
    {
     "name": "stderr",
     "output_type": "stream",
     "text": [
      "ERROR: Could not find a version that satisfies the requirement request (from versions: none)\n",
      "ERROR: No matching distribution found for request\n",
      "\n",
      "[notice] A new release of pip is available: 23.2.1 -> 24.0\n",
      "[notice] To update, run: python.exe -m pip install --upgrade pip\n"
     ]
    }
   ],
   "source": [
    "pip install request\n"
   ]
  },
  {
   "cell_type": "code",
   "execution_count": null,
   "metadata": {},
   "outputs": [],
   "source": []
  },
  {
   "cell_type": "code",
   "execution_count": 1,
   "metadata": {},
   "outputs": [],
   "source": [
    "import json\n"
   ]
  },
  {
   "cell_type": "code",
   "execution_count": 2,
   "metadata": {},
   "outputs": [
    {
     "name": "stdout",
     "output_type": "stream",
     "text": [
      "Requirement already satisfied: request2 in c:\\users\\fraro\\onedrive\\documentos\\estudos\\python\\.venv\\lib\\site-packages (0.2)Note: you may need to restart the kernel to use updated packages.\n"
     ]
    },
    {
     "name": "stderr",
     "output_type": "stream",
     "text": [
      "\n",
      "[notice] A new release of pip is available: 23.2.1 -> 24.3.1\n",
      "[notice] To update, run: python.exe -m pip install --upgrade pip\n"
     ]
    },
    {
     "name": "stdout",
     "output_type": "stream",
     "text": [
      "\n",
      "Requirement already satisfied: requests in c:\\users\\fraro\\onedrive\\documentos\\estudos\\python\\.venv\\lib\\site-packages (from request2) (2.31.0)\n",
      "Requirement already satisfied: charset-normalizer<4,>=2 in c:\\users\\fraro\\onedrive\\documentos\\estudos\\python\\.venv\\lib\\site-packages (from requests->request2) (3.3.2)\n",
      "Requirement already satisfied: idna<4,>=2.5 in c:\\users\\fraro\\onedrive\\documentos\\estudos\\python\\.venv\\lib\\site-packages (from requests->request2) (3.6)\n",
      "Requirement already satisfied: urllib3<3,>=1.21.1 in c:\\users\\fraro\\onedrive\\documentos\\estudos\\python\\.venv\\lib\\site-packages (from requests->request2) (2.2.1)\n",
      "Requirement already satisfied: certifi>=2017.4.17 in c:\\users\\fraro\\onedrive\\documentos\\estudos\\python\\.venv\\lib\\site-packages (from requests->request2) (2024.2.2)\n"
     ]
    }
   ],
   "source": [
    "pip install request2\n"
   ]
  },
  {
   "cell_type": "code",
   "execution_count": 3,
   "metadata": {},
   "outputs": [
    {
     "name": "stdout",
     "output_type": "stream",
     "text": [
      "{'USD': {'code': 'USD', 'codein': 'BRL', 'name': 'Dólar Americano/Real Brasileiro', 'high': '6.115', 'low': '5.9551', 'varBid': '-0.0412', 'pctChange': '-0.67', 'bid': '5.973', 'ask': '5.9737', 'timestamp': '1732924798', 'create_date': '2024-11-29 20:59:58'}, 'USDT': {'code': 'USD', 'codein': 'BRLT', 'name': 'Dólar Americano/Real Brasileiro Turismo', 'high': '5.86', 'low': '5.86', 'varBid': '-0.16', 'pctChange': '-2.66', 'bid': '5.86', 'ask': '6.22', 'timestamp': '1732924798', 'create_date': '2024-11-29 20:59:58'}, 'CAD': {'code': 'CAD', 'codein': 'BRL', 'name': 'Dólar Canadense/Real Brasileiro', 'high': '4.3641', 'low': '4.2524', 'varBid': '-0.0271', 'pctChange': '-0.7', 'bid': '4.2583', 'ask': '4.2691', 'timestamp': '1732924798', 'create_date': '2024-11-29 20:59:58'}, 'GBP': {'code': 'GBP', 'codein': 'BRL', 'name': 'Libra Esterlina/Real Brasileiro', 'high': '7.758', 'low': '7.5782', 'varBid': '-0.029', 'pctChange': '-0.38', 'bid': '7.593', 'ask': '7.6161', 'timestamp': '1732917581', 'create_date': '2024-11-29 18:59:41'}, 'ARS': {'code': 'ARS', 'codein': 'BRL', 'name': 'Peso Argentino/Real Brasileiro', 'high': '0.0061', 'low': '0.0059', 'varBid': '-0.0001', 'pctChange': '0', 'bid': '0.0059', 'ask': '0.0059', 'timestamp': '1732924798', 'create_date': '2024-11-29 20:59:58'}, 'BTC': {'code': 'BTC', 'codein': 'BRL', 'name': 'Bitcoin/Real Brasileiro', 'high': '590111', 'low': '570334', 'varBid': '5363', 'pctChange': '0.93', 'bid': '579606', 'ask': '579803', 'timestamp': '1732959680', 'create_date': '2024-11-30 06:41:20'}, 'LTC': {'code': 'LTC', 'codein': 'BRL', 'name': 'Litecoin/Real Brasileiro', 'high': '626.7', 'low': '543.04', 'varBid': '41.72', 'pctChange': '7.36', 'bid': '598.04', 'ask': '617', 'timestamp': '1732959684', 'create_date': '2024-11-30 06:41:24'}, 'EUR': {'code': 'EUR', 'codein': 'BRL', 'name': 'Euro/Real Brasileiro', 'high': '6.4582', 'low': '6.2922', 'varBid': '-0.0331', 'pctChange': '-0.47', 'bid': '6.3091', 'ask': '6.3251', 'timestamp': '1732924798', 'create_date': '2024-11-29 20:59:58'}, 'JPY': {'code': 'JPY', 'codein': 'BRL', 'name': 'Iene Japonês/Real Brasileiro', 'high': '4.07245', 'low': '3.96635', 'varBid': '3.94811', 'pctChange': '9951.34', 'bid': '0.03989', 'ask': '0.03991', 'timestamp': '1732924798', 'create_date': '2024-11-29 20:59:58'}, 'CHF': {'code': 'CHF', 'codein': 'BRL', 'name': 'Franco Suíço/Real Brasileiro', 'high': '6.939', 'low': '6.762', 'varBid': '-0.0324', 'pctChange': '-0.44', 'bid': '6.7684', 'ask': '6.7855', 'timestamp': '1732924798', 'create_date': '2024-11-29 20:59:58'}, 'AUD': {'code': 'AUD', 'codein': 'BRL', 'name': 'Dólar Australiano/Real Brasileiro', 'high': '3.9747', 'low': '3.8762', 'varBid': '-0.0214', 'pctChange': '-0.51', 'bid': '3.8854', 'ask': '3.8952', 'timestamp': '1732924798', 'create_date': '2024-11-29 20:59:58'}, 'CNY': {'code': 'CNY', 'codein': 'BRL', 'name': 'Yuan Chinês/Real Brasileiro', 'high': '0.8439', 'low': '0.8226', 'varBid': '-0.0056', 'pctChange': '-0.68', 'bid': '0.8247', 'ask': '0.8248', 'timestamp': '1732916102', 'create_date': '2024-11-29 18:35:02'}, 'ILS': {'code': 'ILS', 'codein': 'BRL', 'name': 'Novo Shekel Israelense/Real Brasileiro', 'high': '1.6805', 'low': '1.6403', 'varBid': '-0.0023', 'pctChange': '-0.14', 'bid': '1.6442', 'ask': '1.6444', 'timestamp': '1732917485', 'create_date': '2024-11-29 18:58:05'}, 'ETH': {'code': 'ETH', 'codein': 'BRL', 'name': 'Ethereum/Real Brasileiro', 'high': '22323.18', 'low': '21127.73', 'varBid': '826.27', 'pctChange': '3.88', 'bid': '22085.99', 'ask': '22133.81', 'timestamp': '1732959686', 'create_date': '2024-11-30 06:41:26'}, 'XRP': {'code': 'XRP', 'codein': 'BRL', 'name': 'XRP/Real Brasileiro', 'high': '11.64', 'low': '9.24', 'varBid': '1.59', 'pctChange': '16.4', 'bid': '11.2', 'ask': '11.3', 'timestamp': '1732959687', 'create_date': '2024-11-30 06:41:27'}, 'DOGE': {'code': 'DOGE', 'codein': 'BRL', 'name': 'Dogecoin/Real Brasileiro', 'high': '2.6', 'low': '2.46', 'varBid': '0.09', 'pctChange': '3.64', 'bid': '2.56', 'ask': '2.56', 'timestamp': '1732958831', 'create_date': '2024-11-30 06:27:11'}}\n"
     ]
    }
   ],
   "source": [
    "import requests\n",
    "import json\n",
    "cotacoes = requests.get('https://economia.awesomeapi.com.br/json/all')\n",
    "cotacoes_dic = cotacoes.json()\n",
    "print(cotacoes_dic)\n",
    "\n",
    "# cotações = requests.get('https://docs.awesomeapi.com.br/api-de-moedas')\n",
    "# cotações_dic = cotações.json()\n",
    "# print(cotações_dic)"
   ]
  },
  {
   "cell_type": "code",
   "execution_count": 4,
   "metadata": {},
   "outputs": [
    {
     "name": "stdout",
     "output_type": "stream",
     "text": [
      "<Response [200]>\n",
      "{'USD': {'code': 'USD', 'codein': 'BRL', 'name': 'Dólar Americano/Real Brasileiro', 'high': '6.115', 'low': '5.9551', 'varBid': '-0.0412', 'pctChange': '-0.67', 'bid': '5.973', 'ask': '5.9737', 'timestamp': '1732924798', 'create_date': '2024-11-29 20:59:58'}, 'USDT': {'code': 'USD', 'codein': 'BRLT', 'name': 'Dólar Americano/Real Brasileiro Turismo', 'high': '5.86', 'low': '5.86', 'varBid': '-0.16', 'pctChange': '-2.66', 'bid': '5.86', 'ask': '6.22', 'timestamp': '1732924798', 'create_date': '2024-11-29 20:59:58'}, 'CAD': {'code': 'CAD', 'codein': 'BRL', 'name': 'Dólar Canadense/Real Brasileiro', 'high': '4.3641', 'low': '4.2524', 'varBid': '-0.0271', 'pctChange': '-0.7', 'bid': '4.2583', 'ask': '4.2691', 'timestamp': '1732924798', 'create_date': '2024-11-29 20:59:58'}, 'GBP': {'code': 'GBP', 'codein': 'BRL', 'name': 'Libra Esterlina/Real Brasileiro', 'high': '7.758', 'low': '7.5782', 'varBid': '-0.029', 'pctChange': '-0.38', 'bid': '7.593', 'ask': '7.6161', 'timestamp': '1732917581', 'create_date': '2024-11-29 18:59:41'}, 'ARS': {'code': 'ARS', 'codein': 'BRL', 'name': 'Peso Argentino/Real Brasileiro', 'high': '0.0061', 'low': '0.0059', 'varBid': '-0.0001', 'pctChange': '0', 'bid': '0.0059', 'ask': '0.0059', 'timestamp': '1732924798', 'create_date': '2024-11-29 20:59:58'}, 'BTC': {'code': 'BTC', 'codein': 'BRL', 'name': 'Bitcoin/Real Brasileiro', 'high': '590111', 'low': '570334', 'varBid': '5363', 'pctChange': '0.93', 'bid': '579606', 'ask': '579803', 'timestamp': '1732959680', 'create_date': '2024-11-30 06:41:20'}, 'LTC': {'code': 'LTC', 'codein': 'BRL', 'name': 'Litecoin/Real Brasileiro', 'high': '626.7', 'low': '543.04', 'varBid': '41.72', 'pctChange': '7.36', 'bid': '598.04', 'ask': '617', 'timestamp': '1732959684', 'create_date': '2024-11-30 06:41:24'}, 'EUR': {'code': 'EUR', 'codein': 'BRL', 'name': 'Euro/Real Brasileiro', 'high': '6.4582', 'low': '6.2922', 'varBid': '-0.0331', 'pctChange': '-0.47', 'bid': '6.3091', 'ask': '6.3251', 'timestamp': '1732924798', 'create_date': '2024-11-29 20:59:58'}, 'JPY': {'code': 'JPY', 'codein': 'BRL', 'name': 'Iene Japonês/Real Brasileiro', 'high': '4.07245', 'low': '3.96635', 'varBid': '3.94811', 'pctChange': '9951.34', 'bid': '0.03989', 'ask': '0.03991', 'timestamp': '1732924798', 'create_date': '2024-11-29 20:59:58'}, 'CHF': {'code': 'CHF', 'codein': 'BRL', 'name': 'Franco Suíço/Real Brasileiro', 'high': '6.939', 'low': '6.762', 'varBid': '-0.0324', 'pctChange': '-0.44', 'bid': '6.7684', 'ask': '6.7855', 'timestamp': '1732924798', 'create_date': '2024-11-29 20:59:58'}, 'AUD': {'code': 'AUD', 'codein': 'BRL', 'name': 'Dólar Australiano/Real Brasileiro', 'high': '3.9747', 'low': '3.8762', 'varBid': '-0.0214', 'pctChange': '-0.51', 'bid': '3.8854', 'ask': '3.8952', 'timestamp': '1732924798', 'create_date': '2024-11-29 20:59:58'}, 'CNY': {'code': 'CNY', 'codein': 'BRL', 'name': 'Yuan Chinês/Real Brasileiro', 'high': '0.8439', 'low': '0.8226', 'varBid': '-0.0056', 'pctChange': '-0.68', 'bid': '0.8247', 'ask': '0.8248', 'timestamp': '1732916102', 'create_date': '2024-11-29 18:35:02'}, 'ILS': {'code': 'ILS', 'codein': 'BRL', 'name': 'Novo Shekel Israelense/Real Brasileiro', 'high': '1.6805', 'low': '1.6403', 'varBid': '-0.0023', 'pctChange': '-0.14', 'bid': '1.6442', 'ask': '1.6444', 'timestamp': '1732917485', 'create_date': '2024-11-29 18:58:05'}, 'ETH': {'code': 'ETH', 'codein': 'BRL', 'name': 'Ethereum/Real Brasileiro', 'high': '22323.18', 'low': '21127.73', 'varBid': '826.27', 'pctChange': '3.88', 'bid': '22085.99', 'ask': '22133.81', 'timestamp': '1732959686', 'create_date': '2024-11-30 06:41:26'}, 'XRP': {'code': 'XRP', 'codein': 'BRL', 'name': 'XRP/Real Brasileiro', 'high': '11.64', 'low': '9.24', 'varBid': '1.59', 'pctChange': '16.4', 'bid': '11.2', 'ask': '11.3', 'timestamp': '1732959687', 'create_date': '2024-11-30 06:41:27'}, 'DOGE': {'code': 'DOGE', 'codein': 'BRL', 'name': 'Dogecoin/Real Brasileiro', 'high': '2.6', 'low': '2.46', 'varBid': '0.09', 'pctChange': '3.64', 'bid': '2.56', 'ask': '2.56', 'timestamp': '1732958831', 'create_date': '2024-11-30 06:27:11'}}\n"
     ]
    }
   ],
   "source": [
    "\n",
    "print(cotacoes)\n",
    "print(cotacoes_dic)"
   ]
  },
  {
   "cell_type": "code",
   "execution_count": 5,
   "metadata": {},
   "outputs": [
    {
     "name": "stdout",
     "output_type": "stream",
     "text": [
      "{'ARS': {'ask': '0.0059',\n",
      "         'bid': '0.0059',\n",
      "         'code': 'ARS',\n",
      "         'codein': 'BRL',\n",
      "         'create_date': '2024-11-29 20:59:58',\n",
      "         'high': '0.0061',\n",
      "         'low': '0.0059',\n",
      "         'name': 'Peso Argentino/Real Brasileiro',\n",
      "         'pctChange': '0',\n",
      "         'timestamp': '1732924798',\n",
      "         'varBid': '-0.0001'},\n",
      " 'AUD': {'ask': '3.8952',\n",
      "         'bid': '3.8854',\n",
      "         'code': 'AUD',\n",
      "         'codein': 'BRL',\n",
      "         'create_date': '2024-11-29 20:59:58',\n",
      "         'high': '3.9747',\n",
      "         'low': '3.8762',\n",
      "         'name': 'Dólar Australiano/Real Brasileiro',\n",
      "         'pctChange': '-0.51',\n",
      "         'timestamp': '1732924798',\n",
      "         'varBid': '-0.0214'},\n",
      " 'BTC': {'ask': '579803',\n",
      "         'bid': '579606',\n",
      "         'code': 'BTC',\n",
      "         'codein': 'BRL',\n",
      "         'create_date': '2024-11-30 06:41:20',\n",
      "         'high': '590111',\n",
      "         'low': '570334',\n",
      "         'name': 'Bitcoin/Real Brasileiro',\n",
      "         'pctChange': '0.93',\n",
      "         'timestamp': '1732959680',\n",
      "         'varBid': '5363'},\n",
      " 'CAD': {'ask': '4.2691',\n",
      "         'bid': '4.2583',\n",
      "         'code': 'CAD',\n",
      "         'codein': 'BRL',\n",
      "         'create_date': '2024-11-29 20:59:58',\n",
      "         'high': '4.3641',\n",
      "         'low': '4.2524',\n",
      "         'name': 'Dólar Canadense/Real Brasileiro',\n",
      "         'pctChange': '-0.7',\n",
      "         'timestamp': '1732924798',\n",
      "         'varBid': '-0.0271'},\n",
      " 'CHF': {'ask': '6.7855',\n",
      "         'bid': '6.7684',\n",
      "         'code': 'CHF',\n",
      "         'codein': 'BRL',\n",
      "         'create_date': '2024-11-29 20:59:58',\n",
      "         'high': '6.939',\n",
      "         'low': '6.762',\n",
      "         'name': 'Franco Suíço/Real Brasileiro',\n",
      "         'pctChange': '-0.44',\n",
      "         'timestamp': '1732924798',\n",
      "         'varBid': '-0.0324'},\n",
      " 'CNY': {'ask': '0.8248',\n",
      "         'bid': '0.8247',\n",
      "         'code': 'CNY',\n",
      "         'codein': 'BRL',\n",
      "         'create_date': '2024-11-29 18:35:02',\n",
      "         'high': '0.8439',\n",
      "         'low': '0.8226',\n",
      "         'name': 'Yuan Chinês/Real Brasileiro',\n",
      "         'pctChange': '-0.68',\n",
      "         'timestamp': '1732916102',\n",
      "         'varBid': '-0.0056'},\n",
      " 'DOGE': {'ask': '2.56',\n",
      "          'bid': '2.56',\n",
      "          'code': 'DOGE',\n",
      "          'codein': 'BRL',\n",
      "          'create_date': '2024-11-30 06:27:11',\n",
      "          'high': '2.6',\n",
      "          'low': '2.46',\n",
      "          'name': 'Dogecoin/Real Brasileiro',\n",
      "          'pctChange': '3.64',\n",
      "          'timestamp': '1732958831',\n",
      "          'varBid': '0.09'},\n",
      " 'ETH': {'ask': '22133.81',\n",
      "         'bid': '22085.99',\n",
      "         'code': 'ETH',\n",
      "         'codein': 'BRL',\n",
      "         'create_date': '2024-11-30 06:41:26',\n",
      "         'high': '22323.18',\n",
      "         'low': '21127.73',\n",
      "         'name': 'Ethereum/Real Brasileiro',\n",
      "         'pctChange': '3.88',\n",
      "         'timestamp': '1732959686',\n",
      "         'varBid': '826.27'},\n",
      " 'EUR': {'ask': '6.3251',\n",
      "         'bid': '6.3091',\n",
      "         'code': 'EUR',\n",
      "         'codein': 'BRL',\n",
      "         'create_date': '2024-11-29 20:59:58',\n",
      "         'high': '6.4582',\n",
      "         'low': '6.2922',\n",
      "         'name': 'Euro/Real Brasileiro',\n",
      "         'pctChange': '-0.47',\n",
      "         'timestamp': '1732924798',\n",
      "         'varBid': '-0.0331'},\n",
      " 'GBP': {'ask': '7.6161',\n",
      "         'bid': '7.593',\n",
      "         'code': 'GBP',\n",
      "         'codein': 'BRL',\n",
      "         'create_date': '2024-11-29 18:59:41',\n",
      "         'high': '7.758',\n",
      "         'low': '7.5782',\n",
      "         'name': 'Libra Esterlina/Real Brasileiro',\n",
      "         'pctChange': '-0.38',\n",
      "         'timestamp': '1732917581',\n",
      "         'varBid': '-0.029'},\n",
      " 'ILS': {'ask': '1.6444',\n",
      "         'bid': '1.6442',\n",
      "         'code': 'ILS',\n",
      "         'codein': 'BRL',\n",
      "         'create_date': '2024-11-29 18:58:05',\n",
      "         'high': '1.6805',\n",
      "         'low': '1.6403',\n",
      "         'name': 'Novo Shekel Israelense/Real Brasileiro',\n",
      "         'pctChange': '-0.14',\n",
      "         'timestamp': '1732917485',\n",
      "         'varBid': '-0.0023'},\n",
      " 'JPY': {'ask': '0.03991',\n",
      "         'bid': '0.03989',\n",
      "         'code': 'JPY',\n",
      "         'codein': 'BRL',\n",
      "         'create_date': '2024-11-29 20:59:58',\n",
      "         'high': '4.07245',\n",
      "         'low': '3.96635',\n",
      "         'name': 'Iene Japonês/Real Brasileiro',\n",
      "         'pctChange': '9951.34',\n",
      "         'timestamp': '1732924798',\n",
      "         'varBid': '3.94811'},\n",
      " 'LTC': {'ask': '617',\n",
      "         'bid': '598.04',\n",
      "         'code': 'LTC',\n",
      "         'codein': 'BRL',\n",
      "         'create_date': '2024-11-30 06:41:24',\n",
      "         'high': '626.7',\n",
      "         'low': '543.04',\n",
      "         'name': 'Litecoin/Real Brasileiro',\n",
      "         'pctChange': '7.36',\n",
      "         'timestamp': '1732959684',\n",
      "         'varBid': '41.72'},\n",
      " 'USD': {'ask': '5.9737',\n",
      "         'bid': '5.973',\n",
      "         'code': 'USD',\n",
      "         'codein': 'BRL',\n",
      "         'create_date': '2024-11-29 20:59:58',\n",
      "         'high': '6.115',\n",
      "         'low': '5.9551',\n",
      "         'name': 'Dólar Americano/Real Brasileiro',\n",
      "         'pctChange': '-0.67',\n",
      "         'timestamp': '1732924798',\n",
      "         'varBid': '-0.0412'},\n",
      " 'USDT': {'ask': '6.22',\n",
      "          'bid': '5.86',\n",
      "          'code': 'USD',\n",
      "          'codein': 'BRLT',\n",
      "          'create_date': '2024-11-29 20:59:58',\n",
      "          'high': '5.86',\n",
      "          'low': '5.86',\n",
      "          'name': 'Dólar Americano/Real Brasileiro Turismo',\n",
      "          'pctChange': '-2.66',\n",
      "          'timestamp': '1732924798',\n",
      "          'varBid': '-0.16'},\n",
      " 'XRP': {'ask': '11.3',\n",
      "         'bid': '11.2',\n",
      "         'code': 'XRP',\n",
      "         'codein': 'BRL',\n",
      "         'create_date': '2024-11-30 06:41:27',\n",
      "         'high': '11.64',\n",
      "         'low': '9.24',\n",
      "         'name': 'XRP/Real Brasileiro',\n",
      "         'pctChange': '16.4',\n",
      "         'timestamp': '1732959687',\n",
      "         'varBid': '1.59'}}\n"
     ]
    }
   ],
   "source": [
    "import pprint\n",
    "\n",
    "pprint.pprint(cotacoes_dic)"
   ]
  }
 ],
 "metadata": {
  "kernelspec": {
   "display_name": ".venv",
   "language": "python",
   "name": "python3"
  },
  "language_info": {
   "codemirror_mode": {
    "name": "ipython",
    "version": 3
   },
   "file_extension": ".py",
   "mimetype": "text/x-python",
   "name": "python",
   "nbconvert_exporter": "python",
   "pygments_lexer": "ipython3",
   "version": "3.11.4"
  }
 },
 "nbformat": 4,
 "nbformat_minor": 2
}
