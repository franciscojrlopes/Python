{
 "cells": [
  {
   "cell_type": "code",
   "execution_count": 1,
   "metadata": {},
   "outputs": [
    {
     "name": "stdout",
     "output_type": "stream",
     "text": [
      "Marie, you can post a response if you wish.\n"
     ]
    }
   ],
   "source": [
    "banned_users = ['andrew', 'carolina', 'david']\n",
    "user = 'marie'\n",
    "if user not in banned_users:\n",
    "    print(f'{user.title()}, you can post a response if you wish.')"
   ]
  },
  {
   "cell_type": "code",
   "execution_count": 4,
   "metadata": {},
   "outputs": [
    {
     "name": "stdout",
     "output_type": "stream",
     "text": [
      "Maria, você pode postar a resposta se você desejar.\n"
     ]
    }
   ],
   "source": [
    "usuários_banidos = [ 'andré', 'caroline', 'daniel']\n",
    "usuário = 'maria'\n",
    "if usuário not in usuários_banidos:\n",
    "    print(f'{usuário.title()}, você pode postar a resposta se você desejar.')"
   ]
  },
  {
   "cell_type": "code",
   "execution_count": null,
   "metadata": {},
   "outputs": [],
   "source": [
    "usuários_banidos = [ 'andré', 'caroline', 'daniel']\n",
    "usuário = 'andré'\n",
    "if usuário not in usuários_banidos:\n",
    "    print(f'{usuário.title()}, você pode postar a resposta se você desejar.')"
   ]
  }
 ],
 "metadata": {
  "kernelspec": {
   "display_name": ".venv",
   "language": "python",
   "name": "python3"
  },
  "language_info": {
   "codemirror_mode": {
    "name": "ipython",
    "version": 3
   },
   "file_extension": ".py",
   "mimetype": "text/x-python",
   "name": "python",
   "nbconvert_exporter": "python",
   "pygments_lexer": "ipython3",
   "version": "3.11.4"
  }
 },
 "nbformat": 4,
 "nbformat_minor": 2
}
