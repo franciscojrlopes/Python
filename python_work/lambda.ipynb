{
 "cells": [
  {
   "cell_type": "markdown",
   "metadata": {},
   "source": [
    "\n",
    "# Lambda Expressions\n",
    "\n",
    "### Objetivo:\n",
    "\n",
    "- As lambdas expressions são funções anônimas (sem nome mesmo) que tem 1 linha de código e são atribuidas a uma variável, como se a variável virasse uma função.\n",
    "- Elas normalmente são usadas para fazer uma única ação, mas em Python usamos principalmente dentro de métodos como argumento, para não precisarmos criar uma função só para isso (vamos ver isso na aula que vem)\n",
    "- Outra aplicação delas está em criar um \"gerador de funções\" (vamos ver na 3ª Aula dessa Seção)\n",
    "\n",
    "### Obs\n",
    "\n",
    "- Não é \"obrigatório\" usar lambda expression, até porque praticamente tudo o que você faz com elas você consegue fazer com functions normais. Mas, é importante saber entender quando encontrar e saber usar a medida que você for se acostumando e vendo necessidade\n",
    "\n",
    "### Estrutura:\n",
    "# Lambda = variável recebe = lambda expressions."
   ]
  },
  {
   "cell_type": "code",
   "execution_count": 1,
   "metadata": {},
   "outputs": [
    {
     "name": "stdout",
     "output_type": "stream",
     "text": [
      "12\n",
      "12\n",
      "10\n",
      "10\n"
     ]
    }
   ],
   "source": [
    "# minha_funcao = lambda parametro: expressão\n",
    "# Exemplo simples:\n",
    "\n",
    "def minha_função(num):\n",
    "    return num * 2\n",
    "print(minha_função(6))\n",
    "\n",
    "minha_função = lambda num: num * 2\n",
    "print(minha_função(6))\n",
    "\n",
    "\n",
    "def minha_funcao(num):\n",
    "    return num * 2\n",
    "print(minha_funcao(5))\n",
    "\n",
    "minha_funcao2 = lambda num: num * 2\n",
    "print(minha_funcao2(5))\n",
    "\n"
   ]
  },
  {
   "cell_type": "markdown",
   "metadata": {},
   "source": [
    "- Exemplo útil: Vamos usar lambda expressions para criar uma função que calcula o preço dos produtos acrescido do imposto\n"
   ]
  },
  {
   "cell_type": "code",
   "execution_count": 2,
   "metadata": {},
   "outputs": [
    {
     "name": "stdout",
     "output_type": "stream",
     "text": [
      "130.0\n"
     ]
    }
   ],
   "source": [
    "imposto = 0.3\n",
    "\n",
    "def preco_imposto(preco):\n",
    "    return preco * (1 + 0.3)\n",
    "\n",
    "preco_imposto2 = lambda preco: preco * (1.0 + imposto)\n",
    "\n",
    "print(preco_imposto2(100))\n"
   ]
  },
  {
   "cell_type": "markdown",
   "metadata": {},
   "source": [
    "Usar lambda como argumento de alguma outra função, como map e filter\n",
    "\n",
    "\n",
    "\n"
   ]
  },
  {
   "cell_type": "code",
   "execution_count": 4,
   "metadata": {},
   "outputs": [],
   "source": [
    "preco_tecnologia = {'notebook asus': 2450, 'iphone': 4500, 'samsung galaxy': 3000, 'tv samsung': 1000, 'ps5': 3000, 'tablet': 1000, 'notebook dell': 3000, 'ipad': 3000, 'tv philco': 800, 'notebook hp': 1700}"
   ]
  },
  {
   "cell_type": "code",
   "execution_count": 5,
   "metadata": {},
   "outputs": [
    {
     "name": "stdout",
     "output_type": "stream",
     "text": [
      "[3185.0, 5850.0, 3900.0, 1300.0, 3900.0, 1300.0, 3900.0, 3900.0, 1040.0, 2210.0]\n"
     ]
    }
   ],
   "source": [
    "### map()\n",
    "# Queremos saber o preço de cada produto adicionando o valor do imposto de 30% sobre o valor do produto\n",
    "\n",
    "#Fazendo por function\n",
    "\n",
    "def calcular_preco(preco):\n",
    "    return preco * 1.3\n",
    "\n",
    "preco_com_imposto = list(map(calcular_preco, preco_tecnologia.values()))\n",
    "print(preco_com_imposto)\n"
   ]
  },
  {
   "cell_type": "code",
   "execution_count": 6,
   "metadata": {},
   "outputs": [
    {
     "name": "stdout",
     "output_type": "stream",
     "text": [
      "[3185.0, 5850.0, 3900.0, 1300.0, 3900.0, 1300.0, 3900.0, 3900.0, 1040.0, 2210.0]\n"
     ]
    }
   ],
   "source": [
    "#fazendo por lambda\n",
    "\n",
    "preco_com_imposto2 = list(map(lambda preco: preco * 1.3 , preco_tecnologia.values()))\n",
    "print(preco_com_imposto2)"
   ]
  },
  {
   "cell_type": "markdown",
   "metadata": {},
   "source": [
    "### filter()\n",
    "- Queremos apenas os produtos que custam acima de 2000\n",
    "\n",
    "filter(função, iterable) -> retorna como resposta todos os itens do iterable onde a função é True"
   ]
  },
  {
   "cell_type": "code",
   "execution_count": 7,
   "metadata": {},
   "outputs": [
    {
     "name": "stdout",
     "output_type": "stream",
     "text": [
      "{'notebook asus': 2450, 'iphone': 4500, 'samsung galaxy': 3000, 'ps5': 3000, 'notebook dell': 3000, 'ipad': 3000}\n"
     ]
    }
   ],
   "source": [
    "#fazendo por function\n",
    "#print(preco_tecnologia.items())\n",
    "\n",
    "def ehmaior2000(item):\n",
    "    return item[1] > 2000\n",
    "\n",
    "produtos_acima2000 = dict(list(filter(ehmaior2000, preco_tecnologia.items())))\n",
    "print(produtos_acima2000)"
   ]
  },
  {
   "cell_type": "code",
   "execution_count": 8,
   "metadata": {},
   "outputs": [
    {
     "name": "stdout",
     "output_type": "stream",
     "text": [
      "{'notebook asus': 2450, 'iphone': 4500, 'samsung galaxy': 3000, 'ps5': 3000, 'notebook dell': 3000, 'ipad': 3000}\n"
     ]
    }
   ],
   "source": [
    "#fazendo por lambda\n",
    "\n",
    "\n",
    "produtos2_acima2000 = dict(list(filter(lambda item: item[1] > 2000 , preco_tecnologia.items())))\n",
    "print(produtos2_acima2000)"
   ]
  },
  {
   "cell_type": "markdown",
   "metadata": {},
   "source": [
    "# Lambda Expressions para gerar funções\n",
    "\n",
    "### Descrição\n",
    "\n",
    "- Uma das aplicações de lambda expressions, além da vista na aula passada, é criar um \"gerador de funções\". Nesse caso, usaremos a lambda expressions dentro da definição de uma outra função\n",
    "\n",
    "### Exemplo:\n",
    "\n",
    "1. Vamos criar uma função que me permita calcular o valor acrescido do imposto de diferentes categorias (produto, serviço, royalties, etc.)"
   ]
  },
  {
   "cell_type": "code",
   "execution_count": 9,
   "metadata": {},
   "outputs": [],
   "source": [
    "def calcular_imposto(imposto):\n",
    "    return lambda preco: preco * (1 + imposto)\n",
    "\n",
    "\n",
    "# produto 0.1\n",
    "#serviço 0.15\n",
    "#royalties 0.25"
   ]
  },
  {
   "cell_type": "code",
   "execution_count": 10,
   "metadata": {},
   "outputs": [],
   "source": [
    "# Agora vamos definir as funções que calculam o imposto das 3 categorias (produto, serviço, royalties)\n",
    "\n",
    "calcular_preco_produto = calcular_imposto(0.1)\n",
    "calcular_preco_servico = calcular_imposto(0.15)\n",
    "calcular_preco_royalties = calcular_imposto(0.25)"
   ]
  },
  {
   "cell_type": "markdown",
   "metadata": {},
   "source": [
    "- Agora vamos aplicar com um valor de nota fiscal de 100 para ver o resultado"
   ]
  },
  {
   "cell_type": "code",
   "execution_count": 11,
   "metadata": {},
   "outputs": [
    {
     "name": "stdout",
     "output_type": "stream",
     "text": [
      "110\n",
      "114\n",
      "125.0\n"
     ]
    }
   ],
   "source": [
    "print(int(calcular_preco_produto(100)))\n",
    "print(int(calcular_preco_servico(100)))\n",
    "print(calcular_preco_royalties(100))"
   ]
  },
  {
   "cell_type": "markdown",
   "metadata": {},
   "source": [
    "### É menos usado do que a forma anterior que vimos, mas pode ser útil caso queira criar funções que possam ser adaptadas como vimos aqui"
   ]
  }
 ],
 "metadata": {
  "kernelspec": {
   "display_name": ".venv",
   "language": "python",
   "name": "python3"
  },
  "language_info": {
   "codemirror_mode": {
    "name": "ipython",
    "version": 3
   },
   "file_extension": ".py",
   "mimetype": "text/x-python",
   "name": "python",
   "nbconvert_exporter": "python",
   "pygments_lexer": "ipython3",
   "version": "3.11.4"
  }
 },
 "nbformat": 4,
 "nbformat_minor": 2
}
