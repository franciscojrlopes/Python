{
 "cells": [
  {
   "cell_type": "markdown",
   "metadata": {},
   "source": [
    "\n",
    "# Lambda Expressions\n",
    "\n",
    "### Objetivo:\n",
    "\n",
    "- As lambdas expressions são funções anônimas (sem nome mesmo) que tem 1 linha de código e são atribuidas a uma variável, como se a variável virasse uma função.\n",
    "- Elas normalmente são usadas para fazer uma única ação, mas em Python usamos principalmente dentro de métodos como argumento, para não precisarmos criar uma função só para isso (vamos ver isso na aula que vem)\n",
    "- Outra aplicação delas está em criar um \"gerador de funções\" (vamos ver na 3ª Aula dessa Seção)\n",
    "\n",
    "### Obs\n",
    "\n",
    "- Não é \"obrigatório\" usar lambda expression, até porque praticamente tudo o que você faz com elas você consegue fazer com functions normais. Mas, é importante saber entender quando encontrar e saber usar a medida que você for se acostumando e vendo necessidade\n",
    "\n",
    "### Estrutura:\n",
    "# Lambda = variável recebe = lambda expressions."
   ]
  },
  {
   "cell_type": "code",
   "execution_count": 1,
   "metadata": {},
   "outputs": [
    {
     "name": "stdout",
     "output_type": "stream",
     "text": [
      "12\n",
      "12\n",
      "10\n",
      "10\n"
     ]
    }
   ],
   "source": [
    "# minha_funcao = lambda parametro: expressão\n",
    "# Exemplo simples:\n",
    "\n",
    "def minha_função(num):\n",
    "    return num * 2\n",
    "print(minha_função(6))\n",
    "\n",
    "minha_função = lambda num: num * 2\n",
    "print(minha_função(6))\n",
    "\n",
    "\n",
    "def minha_funcao(num):\n",
    "    return num * 2\n",
    "print(minha_funcao(5))\n",
    "\n",
    "minha_funcao2 = lambda num: num * 2\n",
    "print(minha_funcao2(5))\n",
    "\n"
   ]
  },
  {
   "cell_type": "markdown",
   "metadata": {},
   "source": [
    "- Exemplo útil: Vamos usar lambda expressions para criar uma função que calcula o preço dos produtos acrescido do imposto\n"
   ]
  },
  {
   "cell_type": "code",
   "execution_count": 2,
   "metadata": {},
   "outputs": [
    {
     "name": "stdout",
     "output_type": "stream",
     "text": [
      "130.0\n"
     ]
    }
   ],
   "source": [
    "imposto = 0.3\n",
    "\n",
    "def preco_imposto(preco):\n",
    "    return preco * (1 + 0.3)\n",
    "\n",
    "preco_imposto2 = lambda preco: preco * (1.0 + imposto)\n",
    "\n",
    "print(preco_imposto2(100))\n"
   ]
  },
  {
   "cell_type": "markdown",
   "metadata": {},
   "source": []
  }
 ],
 "metadata": {
  "kernelspec": {
   "display_name": ".venv",
   "language": "python",
   "name": "python3"
  },
  "language_info": {
   "codemirror_mode": {
    "name": "ipython",
    "version": 3
   },
   "file_extension": ".py",
   "mimetype": "text/x-python",
   "name": "python",
   "nbconvert_exporter": "python",
   "pygments_lexer": "ipython3",
   "version": "3.11.4"
  }
 },
 "nbformat": 4,
 "nbformat_minor": 2
}
