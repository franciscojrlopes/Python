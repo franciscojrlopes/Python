{
 "cells": [
  {
   "cell_type": "markdown",
   "metadata": {},
   "source": [
    "amusement_park.py \n",
    "\n",
    "Parque de diversões com diferentes preços. "
   ]
  },
  {
   "cell_type": "code",
   "execution_count": 1,
   "metadata": {},
   "outputs": [
    {
     "name": "stdout",
     "output_type": "stream",
     "text": [
      "Your admission cost is $25.\n"
     ]
    }
   ],
   "source": [
    "age = 12 \n",
    "if age < 4:\n",
    "    print('Your admission cost is $ 0.')\n",
    "elif age < 18:\n",
    "    print('Your admission cost is $25.')\n",
    "else:\n",
    "    print('Your cost is $40.')"
   ]
  },
  {
   "cell_type": "code",
   "execution_count": 6,
   "metadata": {},
   "outputs": [
    {
     "name": "stdout",
     "output_type": "stream",
     "text": [
      "Sua entrada custa R$ 25,00.\n"
     ]
    }
   ],
   "source": [
    "idade = 15\n",
    "if idade < 6:\n",
    "    print('Sua entrada custa R$ 0,00.')\n",
    "elif idade < 18:\n",
    "    print('Sua entrada custa R$ 25,00.')\n",
    "else:\n",
    "    print('Sua entrada custa R$ 40,00.')"
   ]
  },
  {
   "cell_type": "code",
   "execution_count": 5,
   "metadata": {},
   "outputs": [
    {
     "data": {
      "text/plain": [
       "True"
      ]
     },
     "execution_count": 5,
     "metadata": {},
     "output_type": "execute_result"
    }
   ],
   "source": [
    "t = 8\n",
    "t == 8 "
   ]
  },
  {
   "cell_type": "code",
   "execution_count": 7,
   "metadata": {},
   "outputs": [
    {
     "name": "stdout",
     "output_type": "stream",
     "text": [
      "Sua entrada custa R$ 40,00.\n"
     ]
    }
   ],
   "source": [
    "idade = 33\n",
    "if idade < 6:\n",
    "    print('Sua entrada custa R$ 0,00.')\n",
    "elif idade < 18:\n",
    "    print('Sua entrada custa R$ 25,00.')\n",
    "else:\n",
    "    print('Sua entrada custa R$ 40,00.')"
   ]
  },
  {
   "cell_type": "code",
   "execution_count": 8,
   "metadata": {},
   "outputs": [
    {
     "name": "stdout",
     "output_type": "stream",
     "text": [
      "Sua entrada custa R$ 0,00.\n"
     ]
    }
   ],
   "source": [
    "idade = 4\n",
    "if idade < 6:\n",
    "    print('Sua entrada custa R$ 0,00.')\n",
    "elif idade < 18:\n",
    "    print('Sua entrada custa R$ 25,00.')\n",
    "else:\n",
    "    print('Sua entrada custa R$ 40,00.')"
   ]
  },
  {
   "cell_type": "code",
   "execution_count": 10,
   "metadata": {},
   "outputs": [
    {
     "name": "stdout",
     "output_type": "stream",
     "text": [
      "Sua entrada é gratuita!\n"
     ]
    }
   ],
   "source": [
    "idade = 4\n",
    "if idade < 6:\n",
    "    print('Sua entrada é gratuita!')\n",
    "elif idade < 18:\n",
    "    print('Sua entrada custa R$ 25,00.')\n",
    "else:\n",
    "    print('Sua entrada custa R$ 40,00.')"
   ]
  },
  {
   "cell_type": "code",
   "execution_count": 11,
   "metadata": {},
   "outputs": [
    {
     "name": "stdout",
     "output_type": "stream",
     "text": [
      "Sua entrada tem 50% de desconto!! \n"
     ]
    }
   ],
   "source": [
    "idade = 14\n",
    "if idade < 6:\n",
    "    print('Sua entrada custa R$ 0,00.')\n",
    "elif idade < 18:\n",
    "    print('Sua entrada tem 50% de desconto!! ')\n",
    "else:\n",
    "    print('Sua entrada custa R$ 40,00.')"
   ]
  }
 ],
 "metadata": {
  "kernelspec": {
   "display_name": ".venv",
   "language": "python",
   "name": "python3"
  },
  "language_info": {
   "codemirror_mode": {
    "name": "ipython",
    "version": 3
   },
   "file_extension": ".py",
   "mimetype": "text/x-python",
   "name": "python",
   "nbconvert_exporter": "python",
   "pygments_lexer": "ipython3",
   "version": "3.11.4"
  }
 },
 "nbformat": 4,
 "nbformat_minor": 2
}
