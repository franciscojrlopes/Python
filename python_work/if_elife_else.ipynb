{
 "cells": [
  {
   "cell_type": "markdown",
   "metadata": {},
   "source": [
    "amusement_park.py \n",
    "\n",
    "Parque de diversões com diferentes preços. "
   ]
  },
  {
   "cell_type": "code",
   "execution_count": null,
   "metadata": {},
   "outputs": [],
   "source": [
    "age = 12 \n",
    "if age < 4:\n",
    "    print('Your admission cost is $ 0.')\n",
    "elif age < 18:\n",
    "    print('Your admission cost is $25.')\n",
    "else:\n",
    "    print('Your cost is $40.')"
   ]
  },
  {
   "cell_type": "code",
   "execution_count": null,
   "metadata": {},
   "outputs": [],
   "source": []
  }
 ],
 "metadata": {
  "kernelspec": {
   "display_name": ".venv",
   "language": "python",
   "name": "python3"
  },
  "language_info": {
   "name": "python",
   "version": "3.11.4"
  }
 },
 "nbformat": 4,
 "nbformat_minor": 2
}
