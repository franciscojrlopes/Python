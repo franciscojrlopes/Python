{
 "cells": [
  {
   "cell_type": "code",
   "execution_count": 1,
   "metadata": {},
   "outputs": [
    {
     "name": "stdout",
     "output_type": "stream",
     "text": [
      "eric\n",
      "matthes\n",
      "43\n",
      "sitka\n"
     ]
    }
   ],
   "source": [
    "person = {\n",
    "    'first_name': 'eric',\n",
    "    'last_name': 'matthes',\n",
    "    'age': 43,\n",
    "    'city': 'sitka',\n",
    "    }\n",
    "\n",
    "print(person['first_name'])\n",
    "print(person['last_name'])\n",
    "print(person['age'])\n",
    "print(person['city'])"
   ]
  }
 ],
 "metadata": {
  "kernelspec": {
   "display_name": ".venv",
   "language": "python",
   "name": "python3"
  },
  "language_info": {
   "codemirror_mode": {
    "name": "ipython",
    "version": 3
   },
   "file_extension": ".py",
   "mimetype": "text/x-python",
   "name": "python",
   "nbconvert_exporter": "python",
   "pygments_lexer": "ipython3",
   "version": "3.11.4"
  }
 },
 "nbformat": 4,
 "nbformat_minor": 2
}
