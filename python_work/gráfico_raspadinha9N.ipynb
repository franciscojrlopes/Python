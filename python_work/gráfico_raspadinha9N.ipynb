{
 "cells": [
  {
   "cell_type": "code",
   "execution_count": null,
   "metadata": {},
   "outputs": [],
   "source": [
    "import numpy as np \n",
    "import matplotlib.pyplot as plt \n",
    "  \n",
    "  \n",
    "grupos = ['Grupo 01', 'Grupo 02', 'Grupo 03', 'Grupo 04', 'Grupo 05', 'Grupo 06']\n",
    "  \n",
    "notas = [ 10, 50, 60, 30, 30, 70 ]\n",
    "  \n",
    "explode = (0.1, 0.0, 0.2, 0.3, 0.0, 0.0) \n",
    "colors = ( \"orange\", \"cyan\", \"brown\", \n",
    "          \"grey\", \"indigo\", \"beige\") \n",
    "wp = { 'linewidth' : 1, 'edgecolor' : \"green\" } \n",
    "def func(pct, allvalues): \n",
    "    absolute = int(pct / 100.*np.sum(allvalues)) \n",
    "    return \"{:.1f}%\\n({:d} g)\".format(pct, absolute) \n",
    "fig, ax = plt.subplots(figsize =(10, 7)) \n",
    "wedges, texts, autotexts = ax.pie(notas,  \n",
    "                                  autopct = lambda pct: func(pct, notas), \n",
    "                                  explode = explode,  \n",
    "                                  labels = grupos, \n",
    "                                  shadow = True, \n",
    "                                  colors = colors, \n",
    "                                  startangle = 90, \n",
    "                                  wedgeprops = wp, \n",
    "                                  textprops = dict(color =\"magenta\")) \n",
    "ax.legend(wedges, grupos, \n",
    "          title =\"Grupos\", \n",
    "          loc =\"center left\", \n",
    "          bbox_to_anchor =(1, 0, 0.5, 1)) \n",
    "plt.setp(autotexts, size = 8, weight =\"bold\") \n",
    "ax.set_title(\"Customizing pie chart\") \n",
    "plt.show() "
   ]
  }
 ],
 "metadata": {
  "language_info": {
   "name": "python"
  }
 },
 "nbformat": 4,
 "nbformat_minor": 2
}
