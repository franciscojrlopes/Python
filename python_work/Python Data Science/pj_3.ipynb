{
 "cells": [
  {
   "cell_type": "code",
   "execution_count": 2,
   "metadata": {},
   "outputs": [
    {
     "name": "stdout",
     "output_type": "stream",
     "text": [
      "                 Suburb           Address  Rooms Type      Price Method  \\\n",
      "0            Abbotsford     49 Lithgow St      3    h  1490000.0      S   \n",
      "1            Abbotsford     59A Turner St      3    h  1220000.0      S   \n",
      "2            Abbotsford     119B Yarra St      3    h  1420000.0      S   \n",
      "3            Aberfeldie        68 Vida St      3    h  1515000.0      S   \n",
      "4          Airport West  92 Clydesdale Rd      2    h   670000.0      S   \n",
      "...                 ...               ...    ...  ...        ...    ...   \n",
      "63018     Roxburgh Park         3 Carr Pl      3    h   566000.0      S   \n",
      "63019     Roxburgh Park       9 Parker Ct      3    h   500000.0      S   \n",
      "63020     Roxburgh Park    5 Parkinson Wy      3    h   545000.0      S   \n",
      "63021        Thomastown    3/1 Travers St      3    u        NaN     PI   \n",
      "63022  Williams Landing       1 Diadem Wy      4    h        NaN     SP   \n",
      "\n",
      "        SellerG        Date  Postcode             Regionname  Propertycount  \\\n",
      "0        Jellis   1/04/2017      3067  Northern Metropolitan           4019   \n",
      "1      Marshall   1/04/2017      3067  Northern Metropolitan           4019   \n",
      "2        Nelson   1/04/2017      3067  Northern Metropolitan           4019   \n",
      "3         Barry   1/04/2017      3040   Western Metropolitan           1543   \n",
      "4        Nelson   1/04/2017      3042   Western Metropolitan           3464   \n",
      "...         ...         ...       ...                    ...            ...   \n",
      "63018     Raine  31/03/2018      3064  Northern Metropolitan           5833   \n",
      "63019     Raine  31/03/2018      3064  Northern Metropolitan           5833   \n",
      "63020     Raine  31/03/2018      3064  Northern Metropolitan           5833   \n",
      "63021     Barry  31/03/2018      3074  Northern Metropolitan           7955   \n",
      "63022    Aussie  31/03/2018      3027   Western Metropolitan           1999   \n",
      "\n",
      "       Distance                 CouncilArea  \n",
      "0           3.0          Yarra City Council  \n",
      "1           3.0          Yarra City Council  \n",
      "2           3.0          Yarra City Council  \n",
      "3           7.5  Moonee Valley City Council  \n",
      "4          10.4  Moonee Valley City Council  \n",
      "...         ...                         ...  \n",
      "63018      20.6           Hume City Council  \n",
      "63019      20.6           Hume City Council  \n",
      "63020      20.6           Hume City Council  \n",
      "63021      15.3     Whittlesea City Council  \n",
      "63022      17.6        Wyndham City Council  \n",
      "\n",
      "[63023 rows x 13 columns]\n"
     ]
    }
   ],
   "source": [
    "import pandas as pd\n",
    "\n",
    "data = pd.read_csv('house.csv')\n",
    "print(data)\n"
   ]
  }
 ],
 "metadata": {
  "kernelspec": {
   "display_name": ".venv",
   "language": "python",
   "name": "python3"
  },
  "language_info": {
   "codemirror_mode": {
    "name": "ipython",
    "version": 3
   },
   "file_extension": ".py",
   "mimetype": "text/x-python",
   "name": "python",
   "nbconvert_exporter": "python",
   "pygments_lexer": "ipython3",
   "version": "3.11.4"
  }
 },
 "nbformat": 4,
 "nbformat_minor": 2
}
