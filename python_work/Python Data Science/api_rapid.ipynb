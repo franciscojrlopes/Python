{
 "cells": [
  {
   "cell_type": "code",
   "execution_count": 2,
   "metadata": {},
   "outputs": [
    {
     "name": "stdout",
     "output_type": "stream",
     "text": [
      "{'title': 'wetter.com REST API', 'version': '2.3', 'documentation': 'https://tapi.wetter.com/v2.3/documentation/index.html'}\n"
     ]
    }
   ],
   "source": [
    "import requests\n",
    "\n",
    "url = \"https://forecast9.p.rapidapi.com/\"\n",
    "\n",
    "headers = {\n",
    "\t\"x-rapidapi-key\": \"e5943026e3mshbf1f17185844c5ap19c66bjsn640f071d3fb7\",\n",
    "\t\"x-rapidapi-host\": \"forecast9.p.rapidapi.com\"\n",
    "}\n",
    "\n",
    "response = requests.get(url, headers=headers)\n",
    "\n",
    "print(response.json())"
   ]
  },
  {
   "cell_type": "code",
   "execution_count": 3,
   "metadata": {},
   "outputs": [
    {
     "name": "stdout",
     "output_type": "stream",
     "text": [
      "{'status': 'All services are operational', 'date': '2024-11-30T09:51:02Z'}\n"
     ]
    }
   ],
   "source": [
    "import requests\n",
    "\n",
    "url = \"https://forecast9.p.rapidapi.com/status/\"\n",
    "\n",
    "headers = {\n",
    "\t\"x-rapidapi-key\": \"e5943026e3mshbf1f17185844c5ap19c66bjsn640f071d3fb7\",\n",
    "\t\"x-rapidapi-host\": \"forecast9.p.rapidapi.com\"\n",
    "}\n",
    "\n",
    "response = requests.get(url, headers=headers)\n",
    "\n",
    "print(response.json())"
   ]
  },
  {
   "cell_type": "code",
   "execution_count": 4,
   "metadata": {},
   "outputs": [
    {
     "name": "stdout",
     "output_type": "stream",
     "text": [
      "{'message': 'This endpoint is disabled for your subscription'}\n"
     ]
    }
   ],
   "source": [
    "import requests\n",
    "\n",
    "url = \"https://forecast9.p.rapidapi.com/rapidapi/forecast/46.95828/10.87152/hourly/\"\n",
    "\n",
    "headers = {\n",
    "\t\"x-rapidapi-key\": \"e5943026e3mshbf1f17185844c5ap19c66bjsn640f071d3fb7\",\n",
    "\t\"x-rapidapi-host\": \"forecast9.p.rapidapi.com\"\n",
    "}\n",
    "\n",
    "response = requests.get(url, headers=headers)\n",
    "\n",
    "print(response.json())"
   ]
  },
  {
   "cell_type": "code",
   "execution_count": 5,
   "metadata": {},
   "outputs": [
    {
     "name": "stdout",
     "output_type": "stream",
     "text": [
      "{'message': 'This endpoint is disabled for your subscription'}\n"
     ]
    }
   ],
   "source": [
    "import requests\n",
    "\n",
    "url = \"https://forecast9.p.rapidapi.com/rapidapi/forecast/Berlin/hourly/\"\n",
    "\n",
    "headers = {\n",
    "\t\"x-rapidapi-key\": \"e5943026e3mshbf1f17185844c5ap19c66bjsn640f071d3fb7\",\n",
    "\t\"x-rapidapi-host\": \"forecast9.p.rapidapi.com\"\n",
    "}\n",
    "\n",
    "response = requests.get(url, headers=headers)\n",
    "\n",
    "print(response.json())"
   ]
  },
  {
   "cell_type": "code",
   "execution_count": 6,
   "metadata": {},
   "outputs": [
    {
     "name": "stdout",
     "output_type": "stream",
     "text": [
      "{'message': 'You are not subscribed to this API.'}\n"
     ]
    }
   ],
   "source": [
    "import requests\n",
    "\n",
    "url = \"https://yahoo-finance166.p.rapidapi.com/api/news/list-by-symbol\"\n",
    "\n",
    "querystring = {\"s\":\"AAPL,GOOGL,TSLA\",\"region\":\"US\",\"snippetCount\":\"500\"}\n",
    "\n",
    "headers = {\n",
    "\t\"x-rapidapi-key\": \"e5943026e3mshbf1f17185844c5ap19c66bjsn640f071d3fb7\",\n",
    "\t\"x-rapidapi-host\": \"yahoo-finance166.p.rapidapi.com\"\n",
    "}\n",
    "\n",
    "response = requests.get(url, headers=headers, params=querystring)\n",
    "\n",
    "print(response.json())"
   ]
  }
 ],
 "metadata": {
  "kernelspec": {
   "display_name": ".venv",
   "language": "python",
   "name": "python3"
  },
  "language_info": {
   "codemirror_mode": {
    "name": "ipython",
    "version": 3
   },
   "file_extension": ".py",
   "mimetype": "text/x-python",
   "name": "python",
   "nbconvert_exporter": "python",
   "pygments_lexer": "ipython3",
   "version": "3.11.4"
  }
 },
 "nbformat": 4,
 "nbformat_minor": 2
}
