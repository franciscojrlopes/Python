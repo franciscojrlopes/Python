{
 "cells": [
  {
   "cell_type": "markdown",
   "metadata": {},
   "source": [
    "Contagem regressiva\n",
    "\n",
    "Uma empresa quer fazer a contagem regresiva de um evento:\n",
    "Um evento especial está programado para começar em 10 segundos. Crie uma contagem regressiva que começa em 10 e vai até 0, com uma pausa de um segundo entre cada número.\n"
   ]
  },
  {
   "cell_type": "code",
   "execution_count": 8,
   "metadata": {},
   "outputs": [
    {
     "name": "stdout",
     "output_type": "stream",
     "text": [
      "1\n",
      "2\n",
      "3\n",
      "4\n",
      "5\n",
      "6\n",
      "7\n",
      "8\n",
      "9\n",
      "10\n"
     ]
    }
   ],
   "source": [
    "import time\n",
    "for numero in range(1, 11):\n",
    "       print(numero)"
   ]
  },
  {
   "cell_type": "code",
   "execution_count": 9,
   "metadata": {},
   "outputs": [
    {
     "name": "stdout",
     "output_type": "stream",
     "text": [
      "10\n",
      "9\n",
      "8\n",
      "7\n",
      "6\n",
      "5\n",
      "4\n",
      "3\n",
      "2\n"
     ]
    }
   ],
   "source": [
    "import time\n",
    "for numero in range(10, 1, -1):\n",
    "       print(numero)"
   ]
  },
  {
   "cell_type": "code",
   "execution_count": 20,
   "metadata": {},
   "outputs": [
    {
     "name": "stdout",
     "output_type": "stream",
     "text": [
      "10\n",
      "9\n",
      "8\n",
      "7\n",
      "6\n",
      "5\n",
      "4\n",
      "3\n",
      "2\n",
      "1\n",
      "0\n",
      "O evento começou!\n"
     ]
    }
   ],
   "source": [
    "import time\n",
    "for numero in range(10, -1, -1):\n",
    "       print(numero)\n",
    "       time.sleep(1)\n",
    "print('O evento começou!')\n",
    "       "
   ]
  },
  {
   "cell_type": "code",
   "execution_count": 22,
   "metadata": {},
   "outputs": [
    {
     "name": "stdout",
     "output_type": "stream",
     "text": [
      "Vai \n",
      " pular uma linha\n"
     ]
    }
   ],
   "source": [
    "print('Vai \\n pular uma linha')"
   ]
  },
  {
   "cell_type": "code",
   "execution_count": 23,
   "metadata": {},
   "outputs": [
    {
     "name": "stdout",
     "output_type": "stream",
     "text": [
      "Olha \t o tab!\n"
     ]
    }
   ],
   "source": [
    "print('Olha \\t o tab!')"
   ]
  },
  {
   "cell_type": "code",
   "execution_count": 24,
   "metadata": {},
   "outputs": [
    {
     "name": "stdout",
     "output_type": "stream",
     "text": [
      "O evento começou!\n"
     ]
    }
   ],
   "source": [
    "for numero in range(10, -1, -1):\n",
    "       print(numero, end=' \\r')\n",
    "       time.sleep(1)\n",
    "print('O evento começou!')"
   ]
  },
  {
   "cell_type": "markdown",
   "metadata": {},
   "source": [
    "Formatação de Tempo.\n",
    "\n",
    "Uma empresa quer exibir a data e a hora atual em seu site no formato Dia da semana, dia do mês de mês do ano, horas:minutos. Crie um script Python que mostra a data e a hora atuais neste formato.\n"
   ]
  },
  {
   "cell_type": "code",
   "execution_count": 26,
   "metadata": {},
   "outputs": [
    {
     "name": "stdout",
     "output_type": "stream",
     "text": [
      "time.struct_time(tm_year=2024, tm_mon=1, tm_mday=14, tm_hour=15, tm_min=33, tm_sec=32, tm_wday=6, tm_yday=14, tm_isdst=0)\n"
     ]
    }
   ],
   "source": [
    "tempo_struct = time.localtime()\n",
    "print(tempo_struct)"
   ]
  },
  {
   "cell_type": "code",
   "execution_count": 39,
   "metadata": {},
   "outputs": [
    {
     "name": "stdout",
     "output_type": "stream",
     "text": [
      "domingo, 14 de janeiro de 2024, 15h:33min.\n"
     ]
    }
   ],
   "source": [
    "tempo_formatado = time.strftime('%A, %d de %B de %Y, %Hh:%Mmin.', tempo_struct)\n",
    "print(tempo_formatado)"
   ]
  },
  {
   "cell_type": "code",
   "execution_count": 38,
   "metadata": {},
   "outputs": [
    {
     "name": "stdout",
     "output_type": "stream",
     "text": [
      "domingo, 14 de janeiro de 2024, 15h:33min.\n"
     ]
    }
   ],
   "source": [
    "import locale\n",
    "locale.setlocale(locale.LC_TIME,'pt_br.UTF-8')\n",
    "\n",
    "tempo_formatado = time.strftime('%A, %d de %B de %Y, %Hh:%Mmin.', tempo_struct)\n",
    "print(tempo_formatado)"
   ]
  }
 ],
 "metadata": {
  "kernelspec": {
   "display_name": ".venv",
   "language": "python",
   "name": "python3"
  },
  "language_info": {
   "codemirror_mode": {
    "name": "ipython",
    "version": 3
   },
   "file_extension": ".py",
   "mimetype": "text/x-python",
   "name": "python",
   "nbconvert_exporter": "python",
   "pygments_lexer": "ipython3",
   "version": "3.11.4"
  }
 },
 "nbformat": 4,
 "nbformat_minor": 2
}
