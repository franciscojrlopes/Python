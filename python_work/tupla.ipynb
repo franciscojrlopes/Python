{
 "cells": [
  {
   "cell_type": "code",
   "execution_count": 2,
   "metadata": {},
   "outputs": [
    {
     "name": "stdout",
     "output_type": "stream",
     "text": [
      "('HB20', 'Q7', 'Argo', 'Gol', 'Fiesta')\n"
     ]
    }
   ],
   "source": [
    "carros = ('HB20', 'Q7', 'Argo', 'Gol', 'Fiesta')\n",
    "print(carros)"
   ]
  },
  {
   "cell_type": "code",
   "execution_count": 3,
   "metadata": {},
   "outputs": [
    {
     "ename": "AttributeError",
     "evalue": "'tuple' object has no attribute 'remove'",
     "output_type": "error",
     "traceback": [
      "\u001b[1;31m---------------------------------------------------------------------------\u001b[0m",
      "\u001b[1;31mAttributeError\u001b[0m                            Traceback (most recent call last)",
      "\u001b[1;32mc:\\Users\\fraro\\OneDrive\\Documentos\\Estudos\\Python\\python_work\\tupla.ipynb Célula 2\u001b[0m line \u001b[0;36m2\n\u001b[0;32m      <a href='vscode-notebook-cell:/c%3A/Users/fraro/OneDrive/Documentos/Estudos/Python/python_work/tupla.ipynb#W1sZmlsZQ%3D%3D?line=0'>1</a>\u001b[0m carros \u001b[39m=\u001b[39m (\u001b[39m'\u001b[39m\u001b[39mHB20\u001b[39m\u001b[39m'\u001b[39m, \u001b[39m'\u001b[39m\u001b[39mQ7\u001b[39m\u001b[39m'\u001b[39m, \u001b[39m'\u001b[39m\u001b[39mArgo\u001b[39m\u001b[39m'\u001b[39m, \u001b[39m'\u001b[39m\u001b[39mGol\u001b[39m\u001b[39m'\u001b[39m, \u001b[39m'\u001b[39m\u001b[39mFiesta\u001b[39m\u001b[39m'\u001b[39m)\n\u001b[1;32m----> <a href='vscode-notebook-cell:/c%3A/Users/fraro/OneDrive/Documentos/Estudos/Python/python_work/tupla.ipynb#W1sZmlsZQ%3D%3D?line=1'>2</a>\u001b[0m carros\u001b[39m.\u001b[39;49mremove(\u001b[39m'\u001b[39m\u001b[39mHB20\u001b[39m\u001b[39m'\u001b[39m)\n\u001b[0;32m      <a href='vscode-notebook-cell:/c%3A/Users/fraro/OneDrive/Documentos/Estudos/Python/python_work/tupla.ipynb#W1sZmlsZQ%3D%3D?line=2'>3</a>\u001b[0m \u001b[39mprint\u001b[39m(carros)\n",
      "\u001b[1;31mAttributeError\u001b[0m: 'tuple' object has no attribute 'remove'"
     ]
    }
   ],
   "source": [
    "carros = ('HB20', 'Q7', 'Argo', 'Gol', 'Fiesta')\n",
    "carros.remove('HB20') \n",
    "print(carros)\n",
    "# Tupla não admite remoção................"
   ]
  },
  {
   "cell_type": "code",
   "execution_count": 4,
   "metadata": {},
   "outputs": [
    {
     "ename": "AttributeError",
     "evalue": "'tuple' object has no attribute 'append'",
     "output_type": "error",
     "traceback": [
      "\u001b[1;31m---------------------------------------------------------------------------\u001b[0m",
      "\u001b[1;31mAttributeError\u001b[0m                            Traceback (most recent call last)",
      "\u001b[1;32mc:\\Users\\fraro\\OneDrive\\Documentos\\Estudos\\Python\\python_work\\tupla.ipynb Célula 3\u001b[0m line \u001b[0;36m2\n\u001b[0;32m      <a href='vscode-notebook-cell:/c%3A/Users/fraro/OneDrive/Documentos/Estudos/Python/python_work/tupla.ipynb#W2sZmlsZQ%3D%3D?line=0'>1</a>\u001b[0m carros \u001b[39m=\u001b[39m (\u001b[39m'\u001b[39m\u001b[39mHB20\u001b[39m\u001b[39m'\u001b[39m, \u001b[39m'\u001b[39m\u001b[39mQ7\u001b[39m\u001b[39m'\u001b[39m, \u001b[39m'\u001b[39m\u001b[39mArgo\u001b[39m\u001b[39m'\u001b[39m, \u001b[39m'\u001b[39m\u001b[39mGol\u001b[39m\u001b[39m'\u001b[39m, \u001b[39m'\u001b[39m\u001b[39mFiesta\u001b[39m\u001b[39m'\u001b[39m)\n\u001b[1;32m----> <a href='vscode-notebook-cell:/c%3A/Users/fraro/OneDrive/Documentos/Estudos/Python/python_work/tupla.ipynb#W2sZmlsZQ%3D%3D?line=1'>2</a>\u001b[0m carros\u001b[39m.\u001b[39;49mappend(\u001b[39m'\u001b[39m\u001b[39mJeep\u001b[39m\u001b[39m'\u001b[39m) \n\u001b[0;32m      <a href='vscode-notebook-cell:/c%3A/Users/fraro/OneDrive/Documentos/Estudos/Python/python_work/tupla.ipynb#W2sZmlsZQ%3D%3D?line=2'>3</a>\u001b[0m \u001b[39mprint\u001b[39m(carros)\n\u001b[0;32m      <a href='vscode-notebook-cell:/c%3A/Users/fraro/OneDrive/Documentos/Estudos/Python/python_work/tupla.ipynb#W2sZmlsZQ%3D%3D?line=3'>4</a>\u001b[0m \u001b[39m# Tupla não admite adicionar................\u001b[39;00m\n",
      "\u001b[1;31mAttributeError\u001b[0m: 'tuple' object has no attribute 'append'"
     ]
    }
   ],
   "source": [
    "carros = ('HB20', 'Q7', 'Argo', 'Gol', 'Fiesta')\n",
    "carros.append('Jeep') \n",
    "print(carros)\n",
    "# Tupla não admite adicionar................"
   ]
  }
 ],
 "metadata": {
  "kernelspec": {
   "display_name": ".venv",
   "language": "python",
   "name": "python3"
  },
  "language_info": {
   "codemirror_mode": {
    "name": "ipython",
    "version": 3
   },
   "file_extension": ".py",
   "mimetype": "text/x-python",
   "name": "python",
   "nbconvert_exporter": "python",
   "pygments_lexer": "ipython3",
   "version": "3.11.4"
  }
 },
 "nbformat": 4,
 "nbformat_minor": 2
}
