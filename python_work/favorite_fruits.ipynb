{
 "cells": [
  {
   "cell_type": "code",
   "execution_count": 3,
   "metadata": {},
   "outputs": [
    {
     "name": "stdout",
     "output_type": "stream",
     "text": [
      "Gosto muito de banana!!\n",
      "Manga é uma das minhas favoritas!!!\n",
      "Gosto muito de abacaxi!!!\n"
     ]
    }
   ],
   "source": [
    "frutas_favoritas = ['banana', 'manga', 'abacaxi', 'laranja']\n",
    "if 'banana' in frutas_favoritas:\n",
    "    print('Gosto muito de banana!!')\n",
    "if 'manga' in frutas_favoritas:\n",
    "    print('Manga é uma das minhas favoritas!!!')\n",
    "if 'abacaxi' in frutas_favoritas:\n",
    "    print('Gosto muito de abacaxi!!!')"
   ]
  }
 ],
 "metadata": {
  "kernelspec": {
   "display_name": ".venv",
   "language": "python",
   "name": "python3"
  },
  "language_info": {
   "codemirror_mode": {
    "name": "ipython",
    "version": 3
   },
   "file_extension": ".py",
   "mimetype": "text/x-python",
   "name": "python",
   "nbconvert_exporter": "python",
   "pygments_lexer": "ipython3",
   "version": "3.11.4"
  }
 },
 "nbformat": 4,
 "nbformat_minor": 2
}
