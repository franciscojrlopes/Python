{
 "cells": [
  {
   "cell_type": "code",
   "execution_count": 2,
   "metadata": {},
   "outputs": [
    {
     "name": "stdout",
     "output_type": "stream",
     "text": [
      "You can choose from the following menu items:\n",
      "- rockfish sandwich\n",
      "- halibut nuggets\n",
      "- smoked salmon chowder\n",
      "- salmon burger\n",
      "- crab cakes\n",
      "\n",
      "Our menu has been updated.\n",
      "You can now choose from the following items:\n",
      "- rockfish sandwich\n",
      "- halibut nuggets\n",
      "- smoked salmon chowder\n",
      "- black cod tips\n",
      "- king crab legs\n"
     ]
    }
   ],
   "source": [
    "menu_items = (\n",
    "    'rockfish sandwich', 'halibut nuggets', 'smoked salmon chowder',\n",
    "    'salmon burger', 'crab cakes',\n",
    "    )\n",
    "\n",
    "print(\"You can choose from the following menu items:\")\n",
    "for item in menu_items:\n",
    "    print(f\"- {item}\")\n",
    "\n",
    "menu_items = (\n",
    "    'rockfish sandwich', 'halibut nuggets', 'smoked salmon chowder',\n",
    "    'black cod tips', 'king crab legs',\n",
    "    )\n",
    "\n",
    "print(\"\\nOur menu has been updated.\")\n",
    "print(\"You can now choose from the following items:\")\n",
    "for item in menu_items:\n",
    "    print(f\"- {item}\")"
   ]
  }
 ],
 "metadata": {
  "kernelspec": {
   "display_name": ".venv",
   "language": "python",
   "name": "python3"
  },
  "language_info": {
   "codemirror_mode": {
    "name": "ipython",
    "version": 3
   },
   "file_extension": ".py",
   "mimetype": "text/x-python",
   "name": "python",
   "nbconvert_exporter": "python",
   "pygments_lexer": "ipython3",
   "version": "3.11.4"
  }
 },
 "nbformat": 4,
 "nbformat_minor": 2
}
