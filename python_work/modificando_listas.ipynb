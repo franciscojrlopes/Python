{
 "cells": [
  {
   "cell_type": "code",
   "execution_count": 3,
   "metadata": {},
   "outputs": [
    {
     "name": "stdout",
     "output_type": "stream",
     "text": [
      "['honda', 'yamaha', 'suzuki', 'harley']\n",
      "['ducati', 'yamaha', 'suzuki', 'harley']\n"
     ]
    }
   ],
   "source": [
    "# Modificando elementos  a uma lista. \n",
    "motos = ['honda', 'yamaha', 'suzuki', 'harley']\n",
    "print(motos)\n",
    "motos[0] = 'ducati'\n",
    "print(motos)"
   ]
  },
  {
   "cell_type": "code",
   "execution_count": 1,
   "metadata": {},
   "outputs": [
    {
     "name": "stdout",
     "output_type": "stream",
     "text": [
      "['honda', 'yamaha', 'suzuki', 'harley']\n",
      "['honda', 'yamaha', 'suzuki', 'harley', 'ducati']\n"
     ]
    }
   ],
   "source": [
    "# Adicionando elementos a uma lista. Append.\n",
    "\n",
    "motos = ['honda', 'yamaha', 'suzuki', 'harley']\n",
    "print(motos)\n",
    "motos.append('ducati')\n",
    "print(motos)"
   ]
  },
  {
   "cell_type": "code",
   "execution_count": 3,
   "metadata": {},
   "outputs": [
    {
     "name": "stdout",
     "output_type": "stream",
     "text": [
      "['honda', 'ducati']\n"
     ]
    }
   ],
   "source": [
    "# Lista vazia preenchida com append.\n",
    "motos = []\n",
    "motos.append('honda')\n",
    "motos.append('ducati')\n",
    "print(motos)"
   ]
  },
  {
   "cell_type": "code",
   "execution_count": 5,
   "metadata": {},
   "outputs": [
    {
     "name": "stdout",
     "output_type": "stream",
     "text": [
      "['ducati', 'honda', 'yamaha', 'suzuki', 'harley', 'agrale']\n"
     ]
    }
   ],
   "source": [
    "# Inserindo elementos a uma lista. Insert.\n",
    "motos = ['honda', 'yamaha', 'suzuki', 'harley']\n",
    "motos.insert(0, 'ducati' )\n",
    "motos.insert(5, 'agrale')\n",
    "print(motos)\n"
   ]
  },
  {
   "cell_type": "code",
   "execution_count": null,
   "metadata": {},
   "outputs": [],
   "source": [
    "# Removendo elementos de uma lista. Del.\n",
    "\n"
   ]
  }
 ],
 "metadata": {
  "kernelspec": {
   "display_name": ".venv",
   "language": "python",
   "name": "python3"
  },
  "language_info": {
   "codemirror_mode": {
    "name": "ipython",
    "version": 3
   },
   "file_extension": ".py",
   "mimetype": "text/x-python",
   "name": "python",
   "nbconvert_exporter": "python",
   "pygments_lexer": "ipython3",
   "version": "3.11.4"
  }
 },
 "nbformat": 4,
 "nbformat_minor": 2
}
