{
 "cells": [
  {
   "cell_type": "code",
   "execution_count": 3,
   "metadata": {},
   "outputs": [
    {
     "name": "stdout",
     "output_type": "stream",
     "text": [
      "['honda', 'yamaha', 'suzuki', 'harley']\n",
      "['ducati', 'yamaha', 'suzuki', 'harley']\n"
     ]
    }
   ],
   "source": [
    "# Modificando elementos  a uma lista. \n",
    "motos = ['honda', 'yamaha', 'suzuki', 'harley']\n",
    "print(motos)\n",
    "motos[0] = 'ducati'\n",
    "print(motos)"
   ]
  },
  {
   "cell_type": "code",
   "execution_count": 1,
   "metadata": {},
   "outputs": [
    {
     "name": "stdout",
     "output_type": "stream",
     "text": [
      "['honda', 'yamaha', 'suzuki', 'harley']\n",
      "['honda', 'yamaha', 'suzuki', 'harley', 'ducati']\n"
     ]
    }
   ],
   "source": [
    "# Adicionando elementos a uma lista. Append.\n",
    "\n",
    "motos = ['honda', 'yamaha', 'suzuki', 'harley']\n",
    "print(motos)\n",
    "motos.append('ducati')\n",
    "print(motos)"
   ]
  },
  {
   "cell_type": "code",
   "execution_count": 3,
   "metadata": {},
   "outputs": [
    {
     "name": "stdout",
     "output_type": "stream",
     "text": [
      "['honda', 'ducati']\n"
     ]
    }
   ],
   "source": [
    "# Lista vazia preenchida com append.\n",
    "motos = []\n",
    "motos.append('honda')\n",
    "motos.append('ducati')\n",
    "print(motos)"
   ]
  },
  {
   "cell_type": "code",
   "execution_count": 5,
   "metadata": {},
   "outputs": [
    {
     "name": "stdout",
     "output_type": "stream",
     "text": [
      "['ducati', 'honda', 'yamaha', 'suzuki', 'harley', 'agrale']\n"
     ]
    }
   ],
   "source": [
    "# Inserindo elementos a uma lista. Insert.\n",
    "motos = ['honda', 'yamaha', 'suzuki', 'harley']\n",
    "motos.insert(0, 'ducati' )\n",
    "motos.insert(5, 'agrale')\n",
    "print(motos)\n"
   ]
  },
  {
   "cell_type": "code",
   "execution_count": 8,
   "metadata": {},
   "outputs": [
    {
     "name": "stdout",
     "output_type": "stream",
     "text": [
      "['honda', 'yamaha', 'suzuki', 'harley']\n",
      "['honda', 'yamaha', 'harley']\n"
     ]
    }
   ],
   "source": [
    "# Removendo elementos de uma lista. Del. Quando usado del não podemos acessar mais o valor.\n",
    "motos = ['honda', 'yamaha', 'suzuki', 'harley']\n",
    "print(motos)\n",
    "del motos[2]\n",
    "print(motos)\n"
   ]
  },
  {
   "cell_type": "code",
   "execution_count": 7,
   "metadata": {},
   "outputs": [
    {
     "name": "stdout",
     "output_type": "stream",
     "text": [
      "['honda', 'yamaha', 'suzuki', 'harley']\n",
      "['honda', 'suzuki', 'harley']\n"
     ]
    }
   ],
   "source": [
    "motos = ['honda', 'yamaha', 'suzuki', 'harley']\n",
    "print(motos)\n",
    "del motos[1]\n",
    "print(motos)"
   ]
  },
  {
   "cell_type": "code",
   "execution_count": 6,
   "metadata": {},
   "outputs": [
    {
     "name": "stdout",
     "output_type": "stream",
     "text": [
      "['honda', 'yamaha', 'suzuki', 'harley']\n",
      "['honda', 'yamaha', 'suzuki']\n",
      "harley\n"
     ]
    }
   ],
   "source": [
    "# Removendo um elemento com o método pop():\n",
    "motos = ['honda', 'yamaha', 'suzuki', 'harley']\n",
    "print(motos)\n",
    "popped_motos = motos.pop()\n",
    "print(motos)\n",
    "print(popped_motos)\n",
    "\n"
   ]
  },
  {
   "cell_type": "code",
   "execution_count": 7,
   "metadata": {},
   "outputs": [
    {
     "name": "stdout",
     "output_type": "stream",
     "text": [
      "A última moto vendida foi a Harley.\n"
     ]
    }
   ],
   "source": [
    "motos = ['honda', 'yamaha', 'suzuki', 'harley']\n",
    "ultima_venda = motos.pop()\n",
    "print(f'A última moto vendida foi a {ultima_venda.title()}.')"
   ]
  },
  {
   "cell_type": "code",
   "execution_count": 8,
   "metadata": {},
   "outputs": [
    {
     "name": "stdout",
     "output_type": "stream",
     "text": [
      "A última moto vendida foi a Honda.\n"
     ]
    }
   ],
   "source": [
    "motos = ['honda', 'yamaha', 'suzuki', 'harley']\n",
    "ultima_venda = motos.pop(0)\n",
    "print(f'A última moto vendida foi a {ultima_venda.title()}.')"
   ]
  },
  {
   "cell_type": "code",
   "execution_count": 9,
   "metadata": {},
   "outputs": [
    {
     "name": "stdout",
     "output_type": "stream",
     "text": [
      "A última moto vendida foi a Yamaha.\n"
     ]
    }
   ],
   "source": [
    "motos = ['honda', 'yamaha', 'suzuki', 'harley']\n",
    "ultima_venda = motos.pop(1)\n",
    "print(f'A última moto vendida foi a {ultima_venda.title()}.')"
   ]
  },
  {
   "cell_type": "code",
   "execution_count": 10,
   "metadata": {},
   "outputs": [
    {
     "name": "stdout",
     "output_type": "stream",
     "text": [
      "A última moto vendida foi a Suzuki.\n"
     ]
    }
   ],
   "source": [
    "motos = ['honda', 'yamaha', 'suzuki', 'harley']\n",
    "ultima_venda = motos.pop(2)\n",
    "print(f'A última moto vendida foi a {ultima_venda.title()}.')"
   ]
  },
  {
   "cell_type": "code",
   "execution_count": 11,
   "metadata": {},
   "outputs": [
    {
     "name": "stdout",
     "output_type": "stream",
     "text": [
      "A última moto vendida foi a Harley.\n"
     ]
    }
   ],
   "source": [
    "motos = ['honda', 'yamaha', 'suzuki', 'harley']\n",
    "ultima_venda = motos.pop(3)\n",
    "print(f'A última moto vendida foi a {ultima_venda.title()}.')"
   ]
  },
  {
   "cell_type": "code",
   "execution_count": 12,
   "metadata": {},
   "outputs": [
    {
     "name": "stdout",
     "output_type": "stream",
     "text": [
      "A última moto vendida foi a Harley.\n"
     ]
    }
   ],
   "source": [
    "motos = ['honda', 'yamaha', 'suzuki', 'harley']\n",
    "ultima_venda = motos.pop(-1)\n",
    "print(f'A última moto vendida foi a {ultima_venda.title()}.')"
   ]
  },
  {
   "cell_type": "code",
   "execution_count": 14,
   "metadata": {},
   "outputs": [
    {
     "name": "stdout",
     "output_type": "stream",
     "text": [
      "['honda', 'yamaha', 'suzuki', 'harley']\n",
      "['yamaha', 'suzuki', 'harley']\n"
     ]
    }
   ],
   "source": [
    "# Removendo o elemento por valor: remove()\n",
    "\n",
    "motos = ['honda', 'yamaha', 'suzuki', 'harley']\n",
    "print(motos)\n",
    "motos.remove(\"honda\")\n",
    "print(motos)"
   ]
  },
  {
   "cell_type": "code",
   "execution_count": 1,
   "metadata": {},
   "outputs": [
    {
     "name": "stdout",
     "output_type": "stream",
     "text": [
      "A última moto vendida foi a Suzuki.\n"
     ]
    }
   ],
   "source": [
    "motos = ['honda', 'yamaha', 'suzuki', 'harley']\n",
    "ultima_venda = motos.pop(-2)\n",
    "print(f'A última moto vendida foi a {ultima_venda.title()}.')"
   ]
  }
 ],
 "metadata": {
  "kernelspec": {
   "display_name": ".venv",
   "language": "python",
   "name": "python3"
  },
  "language_info": {
   "codemirror_mode": {
    "name": "ipython",
    "version": 3
   },
   "file_extension": ".py",
   "mimetype": "text/x-python",
   "name": "python",
   "nbconvert_exporter": "python",
   "pygments_lexer": "ipython3",
   "version": "3.11.4"
  }
 },
 "nbformat": 4,
 "nbformat_minor": 2
}
