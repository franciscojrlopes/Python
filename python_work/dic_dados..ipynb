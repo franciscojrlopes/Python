{
 "cells": [
  {
   "cell_type": "code",
   "execution_count": 3,
   "metadata": {},
   "outputs": [
    {
     "name": "stdout",
     "output_type": "stream",
     "text": [
      "Rebeca\n",
      "31\n",
      "Chaves\n",
      "Piraí\n"
     ]
    }
   ],
   "source": [
    "conhecidos = {'nome': 'Rebeca', 'idade': '31', 'sobrenome': 'Chaves', 'cidade': 'Piraí'}\n",
    "print(conhecidos['nome'])\n",
    "print(conhecidos['idade'])\n",
    "print(conhecidos['sobrenome'])\n",
    "print(conhecidos['cidade'])"
   ]
  }
 ],
 "metadata": {
  "kernelspec": {
   "display_name": ".venv",
   "language": "python",
   "name": "python3"
  },
  "language_info": {
   "codemirror_mode": {
    "name": "ipython",
    "version": 3
   },
   "file_extension": ".py",
   "mimetype": "text/x-python",
   "name": "python",
   "nbconvert_exporter": "python",
   "pygments_lexer": "ipython3",
   "version": "3.11.4"
  }
 },
 "nbformat": 4,
 "nbformat_minor": 2
}
